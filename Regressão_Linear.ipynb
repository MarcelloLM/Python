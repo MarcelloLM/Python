





<!DOCTYPE html>
<html lang="en" data-color-mode="auto" data-light-theme="light" data-dark-theme="dark" data-a11y-animated-images="system">
  <head>
    <meta charset="utf-8">
  <link rel="dns-prefetch" href="https://github.githubassets.com">
  <link rel="dns-prefetch" href="https://avatars.githubusercontent.com">
  <link rel="dns-prefetch" href="https://github-cloud.s3.amazonaws.com">
  <link rel="dns-prefetch" href="https://user-images.githubusercontent.com/">
  <link rel="preconnect" href="https://github.githubassets.com" crossorigin>
  <link rel="preconnect" href="https://avatars.githubusercontent.com">

  


  <link crossorigin="anonymous" media="all" rel="stylesheet" href="https://github.githubassets.com/assets/light-0946cdc16f15.css" /><link crossorigin="anonymous" media="all" rel="stylesheet" href="https://github.githubassets.com/assets/dark-3946c959759a.css" /><link data-color-theme="dark_dimmed" crossorigin="anonymous" media="all" rel="stylesheet" data-href="https://github.githubassets.com/assets/dark_dimmed-9b9a8c91acc5.css" /><link data-color-theme="dark_high_contrast" crossorigin="anonymous" media="all" rel="stylesheet" data-href="https://github.githubassets.com/assets/dark_high_contrast-11302a585e33.css" /><link data-color-theme="dark_colorblind" crossorigin="anonymous" media="all" rel="stylesheet" data-href="https://github.githubassets.com/assets/dark_colorblind-1a4564ab0fbf.css" /><link data-color-theme="light_colorblind" crossorigin="anonymous" media="all" rel="stylesheet" data-href="https://github.githubassets.com/assets/light_colorblind-12a8b2aa9101.css" /><link data-color-theme="light_high_contrast" crossorigin="anonymous" media="all" rel="stylesheet" data-href="https://github.githubassets.com/assets/light_high_contrast-5924a648f3e7.css" /><link data-color-theme="light_tritanopia" crossorigin="anonymous" media="all" rel="stylesheet" data-href="https://github.githubassets.com/assets/light_tritanopia-05358496cb79.css" /><link data-color-theme="dark_tritanopia" crossorigin="anonymous" media="all" rel="stylesheet" data-href="https://github.githubassets.com/assets/dark_tritanopia-aad6b801a158.css" />
    <link crossorigin="anonymous" media="all" rel="stylesheet" href="https://github.githubassets.com/assets/primer-primitives-fb1d51d1ef66.css" />
    <link crossorigin="anonymous" media="all" rel="stylesheet" href="https://github.githubassets.com/assets/primer-57c312e484b2.css" />
    <link crossorigin="anonymous" media="all" rel="stylesheet" href="https://github.githubassets.com/assets/global-0d04dfcdc794.css" />
    <link crossorigin="anonymous" media="all" rel="stylesheet" href="https://github.githubassets.com/assets/github-c7a3a0ac71d4.css" />
  <link crossorigin="anonymous" media="all" rel="stylesheet" href="https://github.githubassets.com/assets/code-536dffbfff5a.css" />



  <script crossorigin="anonymous" defer="defer" type="application/javascript" src="https://github.githubassets.com/assets/wp-runtime-377d421cc9f7.js"></script>
<script crossorigin="anonymous" defer="defer" type="application/javascript" src="https://github.githubassets.com/assets/vendors-node_modules_stacktrace-parser_dist_stack-trace-parser_esm_js-node_modules_github_bro-a4c183-ae93d3fba59c.js"></script>
<script crossorigin="anonymous" defer="defer" type="application/javascript" src="https://github.githubassets.com/assets/ui_packages_failbot_failbot_ts-e38c93eab86e.js"></script>
<script crossorigin="anonymous" defer="defer" type="application/javascript" src="https://github.githubassets.com/assets/environment-de3997b81651.js"></script>
<script crossorigin="anonymous" defer="defer" type="application/javascript" src="https://github.githubassets.com/assets/vendors-node_modules_github_selector-observer_dist_index_esm_js-2646a2c533e3.js"></script>
<script crossorigin="anonymous" defer="defer" type="application/javascript" src="https://github.githubassets.com/assets/vendors-node_modules_github_relative-time-element_dist_index_js-99e288659d4f.js"></script>
<script crossorigin="anonymous" defer="defer" type="application/javascript" src="https://github.githubassets.com/assets/vendors-node_modules_fzy_js_index_js-node_modules_github_markdown-toolbar-element_dist_index_js-e3de700a4c9d.js"></script>
<script crossorigin="anonymous" defer="defer" type="application/javascript" src="https://github.githubassets.com/assets/vendors-node_modules_delegated-events_dist_index_js-node_modules_github_auto-complete-element-5b3870-ff38694180c6.js"></script>
<script crossorigin="anonymous" defer="defer" type="application/javascript" src="https://github.githubassets.com/assets/vendors-node_modules_github_file-attachment-element_dist_index_js-node_modules_github_text-ex-3415a8-7ecc10fb88d0.js"></script>
<script crossorigin="anonymous" defer="defer" type="application/javascript" src="https://github.githubassets.com/assets/vendors-node_modules_github_filter-input-element_dist_index_js-node_modules_github_remote-inp-8873b7-5771678648e0.js"></script>
<script crossorigin="anonymous" defer="defer" type="application/javascript" src="https://github.githubassets.com/assets/vendors-node_modules_primer_view-components_app_components_primer_primer_js-node_modules_gith-3af896-ba2b2ef33e4b.js"></script>
<script crossorigin="anonymous" defer="defer" type="application/javascript" src="https://github.githubassets.com/assets/github-elements-7b037525f59f.js"></script>
<script crossorigin="anonymous" defer="defer" type="application/javascript" src="https://github.githubassets.com/assets/element-registry-8f404beaf269.js"></script>
<script crossorigin="anonymous" defer="defer" type="application/javascript" src="https://github.githubassets.com/assets/vendors-node_modules_lit-html_lit-html_js-9d9fe1859ce5.js"></script>
<script crossorigin="anonymous" defer="defer" type="application/javascript" src="https://github.githubassets.com/assets/vendors-node_modules_github_mini-throttle_dist_index_js-node_modules_github_alive-client_dist-bf5aa2-424aa982deef.js"></script>
<script crossorigin="anonymous" defer="defer" type="application/javascript" src="https://github.githubassets.com/assets/vendors-node_modules_github_turbo_dist_turbo_es2017-esm_js-ba0e4d5b3207.js"></script>
<script crossorigin="anonymous" defer="defer" type="application/javascript" src="https://github.githubassets.com/assets/vendors-node_modules_color-convert_index_js-node_modules_github_jtml_lib_index_js-40bf234a19dc.js"></script>
<script crossorigin="anonymous" defer="defer" type="application/javascript" src="https://github.githubassets.com/assets/vendors-node_modules_github_remote-form_dist_index_js-node_modules_scroll-anchoring_dist_scro-52dc4b-e1e33bfc0b7e.js"></script>
<script crossorigin="anonymous" defer="defer" type="application/javascript" src="https://github.githubassets.com/assets/vendors-node_modules_github_paste-markdown_dist_index_esm_js-node_modules_github_quote-select-743f1d-1b20d530fbf0.js"></script>
<script crossorigin="anonymous" defer="defer" type="application/javascript" src="https://github.githubassets.com/assets/app_assets_modules_github_updatable-content_ts-dadb69f79923.js"></script>
<script crossorigin="anonymous" defer="defer" type="application/javascript" src="https://github.githubassets.com/assets/app_assets_modules_github_behaviors_keyboard-shortcuts-helper_ts-app_assets_modules_github_be-f5afdb-3f05df4c282b.js"></script>
<script crossorigin="anonymous" defer="defer" type="application/javascript" src="https://github.githubassets.com/assets/app_assets_modules_github_blob-anchor_ts-app_assets_modules_github_code-editor_ts-app_assets_-8128e1-65aa849c94d7.js"></script>
<script crossorigin="anonymous" defer="defer" type="application/javascript" src="https://github.githubassets.com/assets/app_assets_modules_github_sticky-scroll-into-view_ts-1d145b63ed56.js"></script>
<script crossorigin="anonymous" defer="defer" type="application/javascript" src="https://github.githubassets.com/assets/app_assets_modules_github_behaviors_ajax-error_ts-app_assets_modules_github_behaviors_include-2e2258-dae7d38e0248.js"></script>
<script crossorigin="anonymous" defer="defer" type="application/javascript" src="https://github.githubassets.com/assets/app_assets_modules_github_behaviors_commenting_edit_ts-app_assets_modules_github_behaviors_ht-83c235-c97eacdef68a.js"></script>
<script crossorigin="anonymous" defer="defer" type="application/javascript" src="https://github.githubassets.com/assets/behaviors-d1b433c1b6c2.js"></script>
<script crossorigin="anonymous" defer="defer" type="application/javascript" src="https://github.githubassets.com/assets/vendors-node_modules_delegated-events_dist_index_js-node_modules_github_catalyst_lib_index_js-623425af41e1.js"></script>
<script crossorigin="anonymous" defer="defer" type="application/javascript" src="https://github.githubassets.com/assets/notifications-global-4dc6f295cc92.js"></script>
<script crossorigin="anonymous" defer="defer" type="application/javascript" src="https://github.githubassets.com/assets/code-menu-da1cefc25b0a.js"></script>
  
  <script crossorigin="anonymous" defer="defer" type="application/javascript" src="https://github.githubassets.com/assets/react-lib-26cb888452e9.js"></script>
<script crossorigin="anonymous" defer="defer" type="application/javascript" src="https://github.githubassets.com/assets/vendors-node_modules_primer_octicons-react_dist_index_esm_js-node_modules_primer_react_lib-es-ca6dae-a1133077cb2e.js"></script>
<script crossorigin="anonymous" defer="defer" type="application/javascript" src="https://github.githubassets.com/assets/vendors-node_modules_primer_react_lib-esm_Button_index_js-node_modules_primer_react_lib-esm_L-5634ab-42e8568c9a37.js"></script>
<script crossorigin="anonymous" defer="defer" type="application/javascript" src="https://github.githubassets.com/assets/vendors-node_modules_primer_behaviors_dist_esm_focus-zone_js-d55308df5023.js"></script>
<script crossorigin="anonymous" defer="defer" type="application/javascript" src="https://github.githubassets.com/assets/vendors-node_modules_primer_react_lib-esm_ActionList_index_js-node_modules_primer_react_lib-e-d264d6-f9d3bc6f32ea.js"></script>
<script crossorigin="anonymous" defer="defer" type="application/javascript" src="https://github.githubassets.com/assets/vendors-node_modules_dompurify_dist_purify_js-64d590970fa6.js"></script>
<script crossorigin="anonymous" defer="defer" type="application/javascript" src="https://github.githubassets.com/assets/vendors-node_modules_primer_react_lib-esm_ActionMenu_js-9f46ef9292fe.js"></script>
<script crossorigin="anonymous" defer="defer" type="application/javascript" src="https://github.githubassets.com/assets/vendors-node_modules_primer_behaviors_dist_esm_scroll-into-view_js-node_modules_primer_react_-04bb1b-dadff286ba44.js"></script>
<script crossorigin="anonymous" defer="defer" type="application/javascript" src="https://github.githubassets.com/assets/vendors-node_modules_primer_react_lib-esm_FormControl_FormControl_js-a0b171a7401f.js"></script>
<script crossorigin="anonymous" defer="defer" type="application/javascript" src="https://github.githubassets.com/assets/vendors-node_modules_primer_react_lib-esm_Dialog_ConfirmationDialog_js-node_modules_primer_re-3d8a84-e777e763812a.js"></script>
<script crossorigin="anonymous" defer="defer" type="application/javascript" src="https://github.githubassets.com/assets/vendors-node_modules_primer_react_lib-esm_PageLayout_PageLayout_js-4fa99e9ebc43.js"></script>
<script crossorigin="anonymous" defer="defer" type="application/javascript" src="https://github.githubassets.com/assets/vendors-node_modules_primer_react_lib-esm_TreeView_TreeView_js-24fd33d383d9.js"></script>
<script crossorigin="anonymous" defer="defer" type="application/javascript" src="https://github.githubassets.com/assets/vendors-node_modules_primer_react_lib-esm_Avatar_Avatar_js-node_modules_primer_react_lib-esm_-9d76dd-90f908d64068.js"></script>
<script crossorigin="anonymous" defer="defer" type="application/javascript" src="https://github.githubassets.com/assets/vendors-node_modules_github_blackbird-parser_dist_blackbird_js-fcd9d30e9b7e.js"></script>
<script crossorigin="anonymous" defer="defer" type="application/javascript" src="https://github.githubassets.com/assets/vendors-node_modules_primer_react_lib-esm_UnderlineNav2_index_js-node_modules_react-router-do-3a0e98-3da6649648f5.js"></script>
<script crossorigin="anonymous" defer="defer" type="application/javascript" src="https://github.githubassets.com/assets/vendors-node_modules_primer_react_lib-esm_AvatarStack_AvatarStack_js-node_modules_primer_reac-528269-51c7de1de076.js"></script>
<script crossorigin="anonymous" defer="defer" type="application/javascript" src="https://github.githubassets.com/assets/vendors-node_modules_primer_react_lib-esm_Button_LinkButton_js-node_modules_primer_react_lib--6e3f86-46f1f5d7b3f6.js"></script>
<script crossorigin="anonymous" defer="defer" type="application/javascript" src="https://github.githubassets.com/assets/ui_packages_react-core_deferred-registry_ts-ui_packages_react-core_AppContextProvider_tsx-ui_-ffd985-18d5698b6549.js"></script>
<script crossorigin="anonymous" defer="defer" type="application/javascript" src="https://github.githubassets.com/assets/ui_packages_react-core_Entry_tsx-8c7cce1646a4.js"></script>
<script crossorigin="anonymous" defer="defer" type="application/javascript" src="https://github.githubassets.com/assets/ui_packages_paths_path_ts-ui_packages_verified-fetch_verified-fetch_ts-ui_packages_safe-html_-d7e3f1-8681e57cea17.js"></script>
<script crossorigin="anonymous" defer="defer" type="application/javascript" src="https://github.githubassets.com/assets/app_assets_modules_react-shared_RefSelector_RefSelector_tsx-0ade0381bf11.js"></script>
<script crossorigin="anonymous" defer="defer" type="application/javascript" src="https://github.githubassets.com/assets/app_assets_modules_blackbird-monolith_hooks_use-navigate-to-query_ts-app_assets_modules_black-182e14-4606bbb51ec6.js"></script>
<script crossorigin="anonymous" defer="defer" type="application/javascript" src="https://github.githubassets.com/assets/ui_packages_trusted-types-policies_policy_ts-ui_packages_trusted-types_trusted-types_ts-app_a-af1c83-c0b6ae48f7ea.js"></script>
<script crossorigin="anonymous" defer="defer" type="application/javascript" src="https://github.githubassets.com/assets/react-code-view-3986245d6fec.js"></script>


  <title>Regress-o-Linear/Regressão_Linear.ipynb at main · MarcelloLM/Regress-o-Linear</title>



  <meta name="route-pattern" content="/:user_id/:repository/blob/*name(/*path)">

    
  <meta name="current-catalog-service-hash" content="581425c0eaaa5e5e53c5b736f58a14dbe5d38b0be425901738ad0670bd1d5a33">


  <meta name="request-id" content="E673:4B30:1EEA51B:21FE969:645E264C" data-turbo-transient="true" /><meta name="html-safe-nonce" content="bd8a644c442886b51f85bee989cb16bdb390908e9738981612672e8abe711891" data-turbo-transient="true" /><meta name="visitor-payload" content="eyJyZWZlcnJlciI6Imh0dHBzOi8vZ2l0aHViLmNvbS9NYXJjZWxsb0xNL1JlZ3Jlc3Mtby1MaW5lYXIiLCJyZXF1ZXN0X2lkIjoiRTY3Mzo0QjMwOjFFRUE1MUI6MjFGRTk2OTo2NDVFMjY0QyIsInZpc2l0b3JfaWQiOiI3NDAyMDcwMjA1ODE4NjE4OTM2IiwicmVnaW9uX2VkZ2UiOiJicmF6aWxzb3V0aCIsInJlZ2lvbl9yZW5kZXIiOiJpYWQifQ==" data-turbo-transient="true" /><meta name="visitor-hmac" content="371b8de28d0a4a0c74881db55b6b5be3302aca08198bb140ffe250b55a498252" data-turbo-transient="true" />


    <meta name="hovercard-subject-tag" content="repository:619541100" data-turbo-transient>


  <meta name="github-keyboard-shortcuts" content="repository,source-code,file-tree" data-turbo-transient="true" />
  

  <meta name="selected-link" value="repo_source" data-turbo-transient>
  <link rel="assets" href="https://github.githubassets.com/">

    <meta name="google-site-verification" content="c1kuD-K2HIVF635lypcsWPoD4kilo5-jA_wBFyT4uMY">
  <meta name="google-site-verification" content="KT5gs8h0wvaagLKAVWq8bbeNwnZZK1r1XQysX3xurLU">
  <meta name="google-site-verification" content="ZzhVyEFwb7w3e0-uOTltm8Jsck2F5StVihD0exw2fsA">
  <meta name="google-site-verification" content="GXs5KoUUkNCoaAZn7wPN-t01Pywp9M3sEjnt_3_ZWPc">
  <meta name="google-site-verification" content="Apib7-x98H0j5cPqHWwSMm6dNU4GmODRoqxLiDzdx9I">

<meta name="octolytics-url" content="https://collector.github.com/github/collect" /><meta name="octolytics-actor-id" content="106484381" /><meta name="octolytics-actor-login" content="MarcelloLM" /><meta name="octolytics-actor-hash" content="9750732fe8a1dc0f4beff2bdf72e61ab08e69cc44630fc6197fbcda62e867496" />

  <meta name="analytics-location" content="/&lt;user-name&gt;/&lt;repo-name&gt;/blob/show" data-turbo-transient="true" />

  




  

    <meta name="user-login" content="MarcelloLM">

  <link rel="sudo-modal" href="/sessions/sudo_modal">

    <meta name="viewport" content="width=device-width">
    
      <meta name="description" content="Contribute to MarcelloLM/Regress-o-Linear development by creating an account on GitHub.">
      <link rel="search" type="application/opensearchdescription+xml" href="/opensearch.xml" title="GitHub">
    <link rel="fluid-icon" href="https://github.com/fluidicon.png" title="GitHub">
    <meta property="fb:app_id" content="1401488693436528">
    <meta name="apple-itunes-app" content="app-id=1477376905" />
      <meta name="twitter:image:src" content="https://opengraph.githubassets.com/1ab37e85f0d73db67094a1b386aa10682d56e532aa7848b10448f8015d273426/MarcelloLM/Regress-o-Linear" /><meta name="twitter:site" content="@github" /><meta name="twitter:card" content="summary_large_image" /><meta name="twitter:title" content="Regress-o-Linear/Regressão_Linear.ipynb at main · MarcelloLM/Regress-o-Linear" /><meta name="twitter:description" content="Contribute to MarcelloLM/Regress-o-Linear development by creating an account on GitHub." />
      <meta property="og:image" content="https://opengraph.githubassets.com/1ab37e85f0d73db67094a1b386aa10682d56e532aa7848b10448f8015d273426/MarcelloLM/Regress-o-Linear" /><meta property="og:image:alt" content="Contribute to MarcelloLM/Regress-o-Linear development by creating an account on GitHub." /><meta property="og:image:width" content="1200" /><meta property="og:image:height" content="600" /><meta property="og:site_name" content="GitHub" /><meta property="og:type" content="object" /><meta property="og:title" content="Regress-o-Linear/Regressão_Linear.ipynb at main · MarcelloLM/Regress-o-Linear" /><meta property="og:url" content="https://github.com/MarcelloLM/Regress-o-Linear" /><meta property="og:description" content="Contribute to MarcelloLM/Regress-o-Linear development by creating an account on GitHub." />
      

      <link rel="shared-web-socket" href="wss://alive.github.com/_sockets/u/106484381/ws?session=eyJ2IjoiVjMiLCJ1IjoxMDY0ODQzODEsInMiOjExMTAwOTIzMDEsImMiOjIzODY2ODczNTcsInQiOjE2ODM4OTE3OTB9--18213163b0c408d1476b9372ab7a4529acecbbfb0226f77c7ef90d13446a3cd3" data-refresh-url="/_alive" data-session-id="e629916af211804d0b0bc93e234868046f677ebd856a43524e5a502ec3e01337">
      <link rel="shared-web-socket-src" href="/assets-cdn/worker/socket-worker-71e98f781d79.js">


        <meta name="hostname" content="github.com">


      <meta name="keyboard-shortcuts-preference" content="all">

        <meta name="expected-hostname" content="github.com">

    <meta name="enabled-features" content="TURBO_EXPERIMENT_RISKY,IMAGE_METRIC_TRACKING,GEOJSON_AZURE_MAPS">


  <meta http-equiv="x-pjax-version" content="3807c417764ef84ea7031968fd961b802b0cb95a11ee99ccfca958ed7b1d7914" data-turbo-track="reload">
  <meta http-equiv="x-pjax-csp-version" content="0db263f9a873141d8256f783c35f244c06d490aacc3b680f99794dd8fd59fb59" data-turbo-track="reload">
  <meta http-equiv="x-pjax-css-version" content="e8aa01474d0c779a222d3c578e207f1c2a3df88c4896c35f0c67bac5015a1869" data-turbo-track="reload">
  <meta http-equiv="x-pjax-js-version" content="f70ea5b9052274af7e78261f6d80aa2ae693009e3f178b2df9ff5f579348cca6" data-turbo-track="reload">

  <meta name="turbo-cache-control" content="no-preview" data-turbo-transient="">

      <meta name="turbo-cache-control" content="no-cache" data-turbo-transient>
    <meta data-hydrostats="publish">

  <meta name="go-import" content="github.com/MarcelloLM/Regress-o-Linear git https://github.com/MarcelloLM/Regress-o-Linear.git">

  <meta name="octolytics-dimension-user_id" content="106484381" /><meta name="octolytics-dimension-user_login" content="MarcelloLM" /><meta name="octolytics-dimension-repository_id" content="619541100" /><meta name="octolytics-dimension-repository_nwo" content="MarcelloLM/Regress-o-Linear" /><meta name="octolytics-dimension-repository_public" content="true" /><meta name="octolytics-dimension-repository_is_fork" content="false" /><meta name="octolytics-dimension-repository_network_root_id" content="619541100" /><meta name="octolytics-dimension-repository_network_root_nwo" content="MarcelloLM/Regress-o-Linear" />



  <meta name="turbo-body-classes" content="logged-in env-production page-responsive">


  <meta name="browser-stats-url" content="https://api.github.com/_private/browser/stats">

  <meta name="browser-errors-url" content="https://api.github.com/_private/browser/errors">

  <meta name="browser-optimizely-client-errors-url" content="https://api.github.com/_private/browser/optimizely_client/errors">

  <link rel="mask-icon" href="https://github.githubassets.com/pinned-octocat.svg" color="#000000">
  <link rel="alternate icon" class="js-site-favicon" type="image/png" href="https://github.githubassets.com/favicons/favicon.png">
  <link rel="icon" class="js-site-favicon" type="image/svg+xml" href="https://github.githubassets.com/favicons/favicon.svg">

<meta name="theme-color" content="#1e2327">
<meta name="color-scheme" content="light dark" />


  <link rel="manifest" href="/manifest.json" crossOrigin="use-credentials">

  </head>

  <body class="logged-in env-production page-responsive" style="word-wrap: break-word;">
    <div data-turbo-body class="logged-in env-production page-responsive" style="word-wrap: break-word;">
      


    <div class="position-relative js-header-wrapper ">
      <a href="#start-of-content" class="p-3 color-bg-accent-emphasis color-fg-on-emphasis show-on-focus js-skip-to-content">Skip to content</a>
      <span data-view-component="true" class="progress-pjax-loader Progress position-fixed width-full">
    <span style="width: 0%;" data-view-component="true" class="Progress-item progress-pjax-loader-bar left-0 top-0 color-bg-accent-emphasis"></span>
</span>      
      


        <script crossorigin="anonymous" defer="defer" type="application/javascript" src="https://github.githubassets.com/assets/vendors-node_modules_allex_crc32_lib_crc32_esm_js-node_modules_github_mini-throttle_dist_deco-26fa0f-02e7ed68dae1.js"></script>
<script crossorigin="anonymous" defer="defer" type="application/javascript" src="https://github.githubassets.com/assets/vendors-node_modules_github_clipboard-copy-element_dist_index_esm_js-node_modules_delegated-e-b37f7d-a9177ba414f2.js"></script>
<script crossorigin="anonymous" defer="defer" type="application/javascript" src="https://github.githubassets.com/assets/app_assets_modules_github_command-palette_items_help-item_ts-app_assets_modules_github_comman-48ad9d-beffe41c24a7.js"></script>
<script crossorigin="anonymous" defer="defer" type="application/javascript" src="https://github.githubassets.com/assets/command-palette-c2a5f7e7eb12.js"></script>

            <header class="Header js-details-container Details px-3 px-md-4 px-lg-5 flex-wrap flex-md-nowrap" role="banner">

    <div class="Header-item mt-n1 mb-n1  d-none d-md-flex">
      <a
  class="Header-link"
  href="https://github.com/"
  data-hotkey="g d"
  aria-label="Homepage "
  data-turbo="false"
  data-analytics-event="{&quot;category&quot;:&quot;Header&quot;,&quot;action&quot;:&quot;go to dashboard&quot;,&quot;label&quot;:&quot;icon:logo&quot;}"
>
  <svg height="32" aria-hidden="true" viewBox="0 0 16 16" version="1.1" width="32" data-view-component="true" class="octicon octicon-mark-github v-align-middle">
    <path d="M8 0c4.42 0 8 3.58 8 8a8.013 8.013 0 0 1-5.45 7.59c-.4.08-.55-.17-.55-.38 0-.27.01-1.13.01-2.2 0-.75-.25-1.23-.54-1.48 1.78-.2 3.65-.88 3.65-3.95 0-.88-.31-1.59-.82-2.15.08-.2.36-1.02-.08-2.12 0 0-.67-.22-2.2.82-.64-.18-1.32-.27-2-.27-.68 0-1.36.09-2 .27-1.53-1.03-2.2-.82-2.2-.82-.44 1.1-.16 1.92-.08 2.12-.51.56-.82 1.28-.82 2.15 0 3.06 1.86 3.75 3.64 3.95-.23.2-.44.55-.51 1.07-.46.21-1.61.55-2.33-.66-.15-.24-.6-.83-1.23-.82-.67.01-.27.38.01.53.34.19.73.9.82 1.13.16.45.68 1.31 2.69.94 0 .67.01 1.3.01 1.49 0 .21-.15.45-.55.38A7.995 7.995 0 0 1 0 8c0-4.42 3.58-8 8-8Z"></path>
</svg>
</a>

    </div>

    <div class="Header-item d-md-none">
        <button aria-label="Toggle navigation" aria-expanded="false" type="button" data-view-component="true" class="Header-link js-details-target btn-link">    <svg aria-hidden="true" height="24" viewBox="0 0 16 16" version="1.1" width="24" data-view-component="true" class="octicon octicon-three-bars">
    <path d="M1 2.75A.75.75 0 0 1 1.75 2h12.5a.75.75 0 0 1 0 1.5H1.75A.75.75 0 0 1 1 2.75Zm0 5A.75.75 0 0 1 1.75 7h12.5a.75.75 0 0 1 0 1.5H1.75A.75.75 0 0 1 1 7.75ZM1.75 12h12.5a.75.75 0 0 1 0 1.5H1.75a.75.75 0 0 1 0-1.5Z"></path>
</svg>
</button>    </div>

    <div class="Header-item Header-item--full flex-column flex-md-row width-full flex-order-2 flex-md-order-none mr-0 mt-3 mt-md-0 Details-content--hidden-not-important d-md-flex">
              


<template id="search-icon">
  <svg aria-hidden="true" height="16" viewBox="0 0 16 16" version="1.1" width="16" data-view-component="true" class="octicon octicon-search">
    <path d="M10.68 11.74a6 6 0 0 1-7.922-8.982 6 6 0 0 1 8.982 7.922l3.04 3.04a.749.749 0 0 1-.326 1.275.749.749 0 0 1-.734-.215ZM11.5 7a4.499 4.499 0 1 0-8.997 0A4.499 4.499 0 0 0 11.5 7Z"></path>
</svg>
</template>

<template id="code-icon">
  <svg aria-hidden="true" height="16" viewBox="0 0 16 16" version="1.1" width="16" data-view-component="true" class="octicon octicon-code">
    <path d="m11.28 3.22 4.25 4.25a.75.75 0 0 1 0 1.06l-4.25 4.25a.749.749 0 0 1-1.275-.326.749.749 0 0 1 .215-.734L13.94 8l-3.72-3.72a.749.749 0 0 1 .326-1.275.749.749 0 0 1 .734.215Zm-6.56 0a.751.751 0 0 1 1.042.018.751.751 0 0 1 .018 1.042L2.06 8l3.72 3.72a.749.749 0 0 1-.326 1.275.749.749 0 0 1-.734-.215L.47 8.53a.75.75 0 0 1 0-1.06Z"></path>
</svg>
</template>

<template id="file-code-icon">
  <svg aria-hidden="true" height="16" viewBox="0 0 16 16" version="1.1" width="16" data-view-component="true" class="octicon octicon-file-code">
    <path d="M4 1.75C4 .784 4.784 0 5.75 0h5.586c.464 0 .909.184 1.237.513l2.914 2.914c.329.328.513.773.513 1.237v8.586A1.75 1.75 0 0 1 14.25 15h-9a.75.75 0 0 1 0-1.5h9a.25.25 0 0 0 .25-.25V6h-2.75A1.75 1.75 0 0 1 10 4.25V1.5H5.75a.25.25 0 0 0-.25.25v2.5a.75.75 0 0 1-1.5 0Zm1.72 4.97a.75.75 0 0 1 1.06 0l2 2a.75.75 0 0 1 0 1.06l-2 2a.749.749 0 0 1-1.275-.326.749.749 0 0 1 .215-.734l1.47-1.47-1.47-1.47a.75.75 0 0 1 0-1.06ZM3.28 7.78 1.81 9.25l1.47 1.47a.751.751 0 0 1-.018 1.042.751.751 0 0 1-1.042.018l-2-2a.75.75 0 0 1 0-1.06l2-2a.751.751 0 0 1 1.042.018.751.751 0 0 1 .018 1.042Zm8.22-6.218V4.25c0 .138.112.25.25.25h2.688l-.011-.013-2.914-2.914-.013-.011Z"></path>
</svg>
</template>

<template id="history-icon">
  <svg aria-hidden="true" height="16" viewBox="0 0 16 16" version="1.1" width="16" data-view-component="true" class="octicon octicon-history">
    <path d="m.427 1.927 1.215 1.215a8.002 8.002 0 1 1-1.6 5.685.75.75 0 1 1 1.493-.154 6.5 6.5 0 1 0 1.18-4.458l1.358 1.358A.25.25 0 0 1 3.896 6H.25A.25.25 0 0 1 0 5.75V2.104a.25.25 0 0 1 .427-.177ZM7.75 4a.75.75 0 0 1 .75.75v2.992l2.028.812a.75.75 0 0 1-.557 1.392l-2.5-1A.751.751 0 0 1 7 8.25v-3.5A.75.75 0 0 1 7.75 4Z"></path>
</svg>
</template>

<template id="repo-icon">
  <svg aria-hidden="true" height="16" viewBox="0 0 16 16" version="1.1" width="16" data-view-component="true" class="octicon octicon-repo">
    <path d="M2 2.5A2.5 2.5 0 0 1 4.5 0h8.75a.75.75 0 0 1 .75.75v12.5a.75.75 0 0 1-.75.75h-2.5a.75.75 0 0 1 0-1.5h1.75v-2h-8a1 1 0 0 0-.714 1.7.75.75 0 1 1-1.072 1.05A2.495 2.495 0 0 1 2 11.5Zm10.5-1h-8a1 1 0 0 0-1 1v6.708A2.486 2.486 0 0 1 4.5 9h8ZM5 12.25a.25.25 0 0 1 .25-.25h3.5a.25.25 0 0 1 .25.25v3.25a.25.25 0 0 1-.4.2l-1.45-1.087a.249.249 0 0 0-.3 0L5.4 15.7a.25.25 0 0 1-.4-.2Z"></path>
</svg>
</template>

<template id="bookmark-icon">
  <svg aria-hidden="true" height="16" viewBox="0 0 16 16" version="1.1" width="16" data-view-component="true" class="octicon octicon-bookmark">
    <path d="M3 2.75C3 1.784 3.784 1 4.75 1h6.5c.966 0 1.75.784 1.75 1.75v11.5a.75.75 0 0 1-1.227.579L8 11.722l-3.773 3.107A.751.751 0 0 1 3 14.25Zm1.75-.25a.25.25 0 0 0-.25.25v9.91l3.023-2.489a.75.75 0 0 1 .954 0l3.023 2.49V2.75a.25.25 0 0 0-.25-.25Z"></path>
</svg>
</template>

<template id="plus-circle-icon">
  <svg aria-hidden="true" height="16" viewBox="0 0 16 16" version="1.1" width="16" data-view-component="true" class="octicon octicon-plus-circle">
    <path d="M8 0a8 8 0 1 1 0 16A8 8 0 0 1 8 0ZM1.5 8a6.5 6.5 0 1 0 13 0 6.5 6.5 0 0 0-13 0Zm7.25-3.25v2.5h2.5a.75.75 0 0 1 0 1.5h-2.5v2.5a.75.75 0 0 1-1.5 0v-2.5h-2.5a.75.75 0 0 1 0-1.5h2.5v-2.5a.75.75 0 0 1 1.5 0Z"></path>
</svg>
</template>

<template id="circle-icon">
  <svg aria-hidden="true" height="16" viewBox="0 0 16 16" version="1.1" width="16" data-view-component="true" class="octicon octicon-dot-fill">
    <path d="M8 4a4 4 0 1 1 0 8 4 4 0 0 1 0-8Z"></path>
</svg>
</template>

<template id="trash-icon">
  <svg aria-hidden="true" height="16" viewBox="0 0 16 16" version="1.1" width="16" data-view-component="true" class="octicon octicon-trash">
    <path d="M11 1.75V3h2.25a.75.75 0 0 1 0 1.5H2.75a.75.75 0 0 1 0-1.5H5V1.75C5 .784 5.784 0 6.75 0h2.5C10.216 0 11 .784 11 1.75ZM4.496 6.675l.66 6.6a.25.25 0 0 0 .249.225h5.19a.25.25 0 0 0 .249-.225l.66-6.6a.75.75 0 0 1 1.492.149l-.66 6.6A1.748 1.748 0 0 1 10.595 15h-5.19a1.75 1.75 0 0 1-1.741-1.575l-.66-6.6a.75.75 0 1 1 1.492-.15ZM6.5 1.75V3h3V1.75a.25.25 0 0 0-.25-.25h-2.5a.25.25 0 0 0-.25.25Z"></path>
</svg>
</template>

<template id="team-icon">
  <svg aria-hidden="true" height="16" viewBox="0 0 16 16" version="1.1" width="16" data-view-component="true" class="octicon octicon-people">
    <path d="M2 5.5a3.5 3.5 0 1 1 5.898 2.549 5.508 5.508 0 0 1 3.034 4.084.75.75 0 1 1-1.482.235 4 4 0 0 0-7.9 0 .75.75 0 0 1-1.482-.236A5.507 5.507 0 0 1 3.102 8.05 3.493 3.493 0 0 1 2 5.5ZM11 4a3.001 3.001 0 0 1 2.22 5.018 5.01 5.01 0 0 1 2.56 3.012.749.749 0 0 1-.885.954.752.752 0 0 1-.549-.514 3.507 3.507 0 0 0-2.522-2.372.75.75 0 0 1-.574-.73v-.352a.75.75 0 0 1 .416-.672A1.5 1.5 0 0 0 11 5.5.75.75 0 0 1 11 4Zm-5.5-.5a2 2 0 1 0-.001 3.999A2 2 0 0 0 5.5 3.5Z"></path>
</svg>
</template>

<template id="project-icon">
  <svg aria-hidden="true" height="16" viewBox="0 0 16 16" version="1.1" width="16" data-view-component="true" class="octicon octicon-project">
    <path d="M1.75 0h12.5C15.216 0 16 .784 16 1.75v12.5A1.75 1.75 0 0 1 14.25 16H1.75A1.75 1.75 0 0 1 0 14.25V1.75C0 .784.784 0 1.75 0ZM1.5 1.75v12.5c0 .138.112.25.25.25h12.5a.25.25 0 0 0 .25-.25V1.75a.25.25 0 0 0-.25-.25H1.75a.25.25 0 0 0-.25.25ZM11.75 3a.75.75 0 0 1 .75.75v7.5a.75.75 0 0 1-1.5 0v-7.5a.75.75 0 0 1 .75-.75Zm-8.25.75a.75.75 0 0 1 1.5 0v5.5a.75.75 0 0 1-1.5 0ZM8 3a.75.75 0 0 1 .75.75v3.5a.75.75 0 0 1-1.5 0v-3.5A.75.75 0 0 1 8 3Z"></path>
</svg>
</template>

<template id="pencil-icon">
  <svg aria-hidden="true" height="16" viewBox="0 0 16 16" version="1.1" width="16" data-view-component="true" class="octicon octicon-pencil">
    <path d="M11.013 1.427a1.75 1.75 0 0 1 2.474 0l1.086 1.086a1.75 1.75 0 0 1 0 2.474l-8.61 8.61c-.21.21-.47.364-.756.445l-3.251.93a.75.75 0 0 1-.927-.928l.929-3.25c.081-.286.235-.547.445-.758l8.61-8.61Zm.176 4.823L9.75 4.81l-6.286 6.287a.253.253 0 0 0-.064.108l-.558 1.953 1.953-.558a.253.253 0 0 0 .108-.064Zm1.238-3.763a.25.25 0 0 0-.354 0L10.811 3.75l1.439 1.44 1.263-1.263a.25.25 0 0 0 0-.354Z"></path>
</svg>
</template>

<qbsearch-input class="search-input" data-scope="repo:MarcelloLM/Regress-o-Linear" data-custom-scopes-path="/search/custom_scopes" data-delete-custom-scopes-csrf="Ym0DOLnF2N4mpaNkBu2Flp9HCW83Uart5df7EwmwpZ60v2BtoE3947vEarSddXYNpSL-A-rmZIe_zO2rWjPuWw" data-max-custom-scopes="10" data-header-redesign-enabled="false" data-initial-value="" data-blackbird-suggestions-path="/search/suggestions" data-jump-to-suggestions-path="/_graphql/GetSuggestedNavigationDestinations" data-current-repository="MarcelloLM/Regress-o-Linear" data-current-org="" data-current-owner="MarcelloLM">
  <div
    class="search-input-container search-with-dialog position-relative d-flex flex-row flex-items-center mr-4 rounded"
    data-action="click:qbsearch-input#searchInputContainerClicked"
  >
      <button
        type="button"
        class="header-search-button placeholder  input-button form-control d-flex flex-1 flex-self-stretch flex-items-center no-wrap width-full py-0 pl-2 pr-0 text-left border-0 box-shadow-none"
        data-target="qbsearch-input.inputButton"
        placeholder="Search or jump to..."
        data-hotkey=s,/
        autocapitalize="off"
        data-action="click:qbsearch-input#handleExpand"
      >
        <div class="mr-2 color-fg-muted">
          <svg aria-hidden="true" height="16" viewBox="0 0 16 16" version="1.1" width="16" data-view-component="true" class="octicon octicon-search">
    <path d="M10.68 11.74a6 6 0 0 1-7.922-8.982 6 6 0 0 1 8.982 7.922l3.04 3.04a.749.749 0 0 1-.326 1.275.749.749 0 0 1-.734-.215ZM11.5 7a4.499 4.499 0 1 0-8.997 0A4.499 4.499 0 0 0 11.5 7Z"></path>
</svg>
        </div>
        <span class="flex-1" data-target="qbsearch-input.inputButtonText">Search or jump to...</span>
          <div class="d-flex" data-target="qbsearch-input.hotkeyIndicator">
            <svg xmlns="http://www.w3.org/2000/svg" width="22" height="20" aria-hidden="true" class="mr-1"><path fill="none" stroke="#979A9C" opacity=".4" d="M3.5.5h12c1.7 0 3 1.3 3 3v13c0 1.7-1.3 3-3 3h-12c-1.7 0-3-1.3-3-3v-13c0-1.7 1.3-3 3-3z"></path><path fill="#979A9C" d="M11.8 6L8 15.1h-.9L10.8 6h1z"></path></svg>

          </div>
      </button>

    <input type="hidden" name="type" class="js-site-search-type-field">

    
<div class="Overlay--hidden " data-modal-dialog-overlay>
  <modal-dialog data-action="close:qbsearch-input#handleClose cancel:qbsearch-input#handleClose" data-target="qbsearch-input.searchSuggestionsDialog" role="dialog" id="search-suggestions-dialog" aria-modal="true" aria-labelledby="search-suggestions-dialog-header" data-view-component="true" class="Overlay Overlay--width-large Overlay--height-auto">
      <h1 id="search-suggestions-dialog-header" class="sr-only">Search code, repositories, users, issues, pull requests...</h1>
    <div class="Overlay-body Overlay-body--paddingNone">
      
          <div data-view-component="true">        <div class="search-suggestions position-absolute width-full color-shadow-large border color-fg-default color-bg-default overflow-hidden d-flex flex-column query-builder-container"
          style="border-radius: 12px;"
          data-target="qbsearch-input.queryBuilderContainer"
          hidden
        >
          <!-- '"` --><!-- </textarea></xmp> --></option></form><form id="query-builder-test-form" action="" accept-charset="UTF-8" method="get">
  <query-builder data-target="qbsearch-input.queryBuilder" id="query-builder-query-builder-test" data-filter-key=":" data-view-component="true" class="QueryBuilder search-query-builder">
    <div class="FormControl FormControl--fullWidth">
      <label id="query-builder-test-label" for="query-builder-test" class="FormControl-label sr-only">
        Search
      </label>
      <div class="QueryBuilder-StyledInput width-fit" data-target="query-builder.styledInput">
          <span id="query-builder-test-leadingvisual-wrap" class="FormControl-input-leadingVisualWrap QueryBuilder-leadingVisualWrap">
            <svg aria-hidden="true" height="16" viewBox="0 0 16 16" version="1.1" width="16" data-view-component="true" class="octicon octicon-search FormControl-input-leadingVisual">
    <path d="M10.68 11.74a6 6 0 0 1-7.922-8.982 6 6 0 0 1 8.982 7.922l3.04 3.04a.749.749 0 0 1-.326 1.275.749.749 0 0 1-.734-.215ZM11.5 7a4.499 4.499 0 1 0-8.997 0A4.499 4.499 0 0 0 11.5 7Z"></path>
</svg>
          </span>
        <div data-target="query-builder.styledInputContainer" class="QueryBuilder-StyledInputContainer">
          <div
            aria-hidden="true"
            class="QueryBuilder-StyledInputContent"
            data-target="query-builder.styledInputContent"
          ></div>
          <div class="QueryBuilder-InputWrapper">
            <div aria-hidden="true" class="QueryBuilder-Sizer" data-target="query-builder.sizer"></div>
            <input id="query-builder-test" name="query-builder-test" value="" autocomplete="off" type="text" role="combobox" spellcheck="false" aria-expanded="false" data-target="query-builder.input" data-action="
          input:query-builder#inputChange
          blur:query-builder#inputBlur
          keydown:query-builder#inputKeydown
          focus:query-builder#inputFocus
        " data-view-component="true" class="FormControl-input QueryBuilder-Input FormControl-medium" />
          </div>
        </div>
          <span class="sr-only" id="query-builder-test-clear">Clear</span>
          
  <button role="button" id="query-builder-test-clear-button" aria-labelledby="query-builder-test-clear query-builder-test-label" data-target="query-builder.clearButton" data-action="
                click:query-builder#clear
                focus:query-builder#clearButtonFocus
                blur:query-builder#clearButtonBlur
              " variant="small" hidden="hidden" type="button" data-view-component="true" class="Button Button--iconOnly Button--invisible Button--medium mr-1 px-2 py-0 d-flex flex-items-center rounded-1 color-fg-muted">    <svg aria-hidden="true" height="16" viewBox="0 0 16 16" version="1.1" width="16" data-view-component="true" class="octicon octicon-x-circle-fill Button-visual">
    <path d="M2.343 13.657A8 8 0 1 1 13.658 2.343 8 8 0 0 1 2.343 13.657ZM6.03 4.97a.751.751 0 0 0-1.042.018.751.751 0 0 0-.018 1.042L6.94 8 4.97 9.97a.749.749 0 0 0 .326 1.275.749.749 0 0 0 .734-.215L8 9.06l1.97 1.97a.749.749 0 0 0 1.275-.326.749.749 0 0 0-.215-.734L9.06 8l1.97-1.97a.749.749 0 0 0-.326-1.275.749.749 0 0 0-.734.215L8 6.94Z"></path>
</svg>
</button>  

      </div>
      <template id="search-icon">
  <svg aria-hidden="true" height="16" viewBox="0 0 16 16" version="1.1" width="16" data-view-component="true" class="octicon octicon-search">
    <path d="M10.68 11.74a6 6 0 0 1-7.922-8.982 6 6 0 0 1 8.982 7.922l3.04 3.04a.749.749 0 0 1-.326 1.275.749.749 0 0 1-.734-.215ZM11.5 7a4.499 4.499 0 1 0-8.997 0A4.499 4.499 0 0 0 11.5 7Z"></path>
</svg>
</template>

<template id="code-icon">
  <svg aria-hidden="true" height="16" viewBox="0 0 16 16" version="1.1" width="16" data-view-component="true" class="octicon octicon-code">
    <path d="m11.28 3.22 4.25 4.25a.75.75 0 0 1 0 1.06l-4.25 4.25a.749.749 0 0 1-1.275-.326.749.749 0 0 1 .215-.734L13.94 8l-3.72-3.72a.749.749 0 0 1 .326-1.275.749.749 0 0 1 .734.215Zm-6.56 0a.751.751 0 0 1 1.042.018.751.751 0 0 1 .018 1.042L2.06 8l3.72 3.72a.749.749 0 0 1-.326 1.275.749.749 0 0 1-.734-.215L.47 8.53a.75.75 0 0 1 0-1.06Z"></path>
</svg>
</template>

<template id="file-code-icon">
  <svg aria-hidden="true" height="16" viewBox="0 0 16 16" version="1.1" width="16" data-view-component="true" class="octicon octicon-file-code">
    <path d="M4 1.75C4 .784 4.784 0 5.75 0h5.586c.464 0 .909.184 1.237.513l2.914 2.914c.329.328.513.773.513 1.237v8.586A1.75 1.75 0 0 1 14.25 15h-9a.75.75 0 0 1 0-1.5h9a.25.25 0 0 0 .25-.25V6h-2.75A1.75 1.75 0 0 1 10 4.25V1.5H5.75a.25.25 0 0 0-.25.25v2.5a.75.75 0 0 1-1.5 0Zm1.72 4.97a.75.75 0 0 1 1.06 0l2 2a.75.75 0 0 1 0 1.06l-2 2a.749.749 0 0 1-1.275-.326.749.749 0 0 1 .215-.734l1.47-1.47-1.47-1.47a.75.75 0 0 1 0-1.06ZM3.28 7.78 1.81 9.25l1.47 1.47a.751.751 0 0 1-.018 1.042.751.751 0 0 1-1.042.018l-2-2a.75.75 0 0 1 0-1.06l2-2a.751.751 0 0 1 1.042.018.751.751 0 0 1 .018 1.042Zm8.22-6.218V4.25c0 .138.112.25.25.25h2.688l-.011-.013-2.914-2.914-.013-.011Z"></path>
</svg>
</template>

<template id="history-icon">
  <svg aria-hidden="true" height="16" viewBox="0 0 16 16" version="1.1" width="16" data-view-component="true" class="octicon octicon-history">
    <path d="m.427 1.927 1.215 1.215a8.002 8.002 0 1 1-1.6 5.685.75.75 0 1 1 1.493-.154 6.5 6.5 0 1 0 1.18-4.458l1.358 1.358A.25.25 0 0 1 3.896 6H.25A.25.25 0 0 1 0 5.75V2.104a.25.25 0 0 1 .427-.177ZM7.75 4a.75.75 0 0 1 .75.75v2.992l2.028.812a.75.75 0 0 1-.557 1.392l-2.5-1A.751.751 0 0 1 7 8.25v-3.5A.75.75 0 0 1 7.75 4Z"></path>
</svg>
</template>

<template id="repo-icon">
  <svg aria-hidden="true" height="16" viewBox="0 0 16 16" version="1.1" width="16" data-view-component="true" class="octicon octicon-repo">
    <path d="M2 2.5A2.5 2.5 0 0 1 4.5 0h8.75a.75.75 0 0 1 .75.75v12.5a.75.75 0 0 1-.75.75h-2.5a.75.75 0 0 1 0-1.5h1.75v-2h-8a1 1 0 0 0-.714 1.7.75.75 0 1 1-1.072 1.05A2.495 2.495 0 0 1 2 11.5Zm10.5-1h-8a1 1 0 0 0-1 1v6.708A2.486 2.486 0 0 1 4.5 9h8ZM5 12.25a.25.25 0 0 1 .25-.25h3.5a.25.25 0 0 1 .25.25v3.25a.25.25 0 0 1-.4.2l-1.45-1.087a.249.249 0 0 0-.3 0L5.4 15.7a.25.25 0 0 1-.4-.2Z"></path>
</svg>
</template>

<template id="bookmark-icon">
  <svg aria-hidden="true" height="16" viewBox="0 0 16 16" version="1.1" width="16" data-view-component="true" class="octicon octicon-bookmark">
    <path d="M3 2.75C3 1.784 3.784 1 4.75 1h6.5c.966 0 1.75.784 1.75 1.75v11.5a.75.75 0 0 1-1.227.579L8 11.722l-3.773 3.107A.751.751 0 0 1 3 14.25Zm1.75-.25a.25.25 0 0 0-.25.25v9.91l3.023-2.489a.75.75 0 0 1 .954 0l3.023 2.49V2.75a.25.25 0 0 0-.25-.25Z"></path>
</svg>
</template>

<template id="plus-circle-icon">
  <svg aria-hidden="true" height="16" viewBox="0 0 16 16" version="1.1" width="16" data-view-component="true" class="octicon octicon-plus-circle">
    <path d="M8 0a8 8 0 1 1 0 16A8 8 0 0 1 8 0ZM1.5 8a6.5 6.5 0 1 0 13 0 6.5 6.5 0 0 0-13 0Zm7.25-3.25v2.5h2.5a.75.75 0 0 1 0 1.5h-2.5v2.5a.75.75 0 0 1-1.5 0v-2.5h-2.5a.75.75 0 0 1 0-1.5h2.5v-2.5a.75.75 0 0 1 1.5 0Z"></path>
</svg>
</template>

<template id="circle-icon">
  <svg aria-hidden="true" height="16" viewBox="0 0 16 16" version="1.1" width="16" data-view-component="true" class="octicon octicon-dot-fill">
    <path d="M8 4a4 4 0 1 1 0 8 4 4 0 0 1 0-8Z"></path>
</svg>
</template>

<template id="trash-icon">
  <svg aria-hidden="true" height="16" viewBox="0 0 16 16" version="1.1" width="16" data-view-component="true" class="octicon octicon-trash">
    <path d="M11 1.75V3h2.25a.75.75 0 0 1 0 1.5H2.75a.75.75 0 0 1 0-1.5H5V1.75C5 .784 5.784 0 6.75 0h2.5C10.216 0 11 .784 11 1.75ZM4.496 6.675l.66 6.6a.25.25 0 0 0 .249.225h5.19a.25.25 0 0 0 .249-.225l.66-6.6a.75.75 0 0 1 1.492.149l-.66 6.6A1.748 1.748 0 0 1 10.595 15h-5.19a1.75 1.75 0 0 1-1.741-1.575l-.66-6.6a.75.75 0 1 1 1.492-.15ZM6.5 1.75V3h3V1.75a.25.25 0 0 0-.25-.25h-2.5a.25.25 0 0 0-.25.25Z"></path>
</svg>
</template>

<template id="team-icon">
  <svg aria-hidden="true" height="16" viewBox="0 0 16 16" version="1.1" width="16" data-view-component="true" class="octicon octicon-people">
    <path d="M2 5.5a3.5 3.5 0 1 1 5.898 2.549 5.508 5.508 0 0 1 3.034 4.084.75.75 0 1 1-1.482.235 4 4 0 0 0-7.9 0 .75.75 0 0 1-1.482-.236A5.507 5.507 0 0 1 3.102 8.05 3.493 3.493 0 0 1 2 5.5ZM11 4a3.001 3.001 0 0 1 2.22 5.018 5.01 5.01 0 0 1 2.56 3.012.749.749 0 0 1-.885.954.752.752 0 0 1-.549-.514 3.507 3.507 0 0 0-2.522-2.372.75.75 0 0 1-.574-.73v-.352a.75.75 0 0 1 .416-.672A1.5 1.5 0 0 0 11 5.5.75.75 0 0 1 11 4Zm-5.5-.5a2 2 0 1 0-.001 3.999A2 2 0 0 0 5.5 3.5Z"></path>
</svg>
</template>

<template id="project-icon">
  <svg aria-hidden="true" height="16" viewBox="0 0 16 16" version="1.1" width="16" data-view-component="true" class="octicon octicon-project">
    <path d="M1.75 0h12.5C15.216 0 16 .784 16 1.75v12.5A1.75 1.75 0 0 1 14.25 16H1.75A1.75 1.75 0 0 1 0 14.25V1.75C0 .784.784 0 1.75 0ZM1.5 1.75v12.5c0 .138.112.25.25.25h12.5a.25.25 0 0 0 .25-.25V1.75a.25.25 0 0 0-.25-.25H1.75a.25.25 0 0 0-.25.25ZM11.75 3a.75.75 0 0 1 .75.75v7.5a.75.75 0 0 1-1.5 0v-7.5a.75.75 0 0 1 .75-.75Zm-8.25.75a.75.75 0 0 1 1.5 0v5.5a.75.75 0 0 1-1.5 0ZM8 3a.75.75 0 0 1 .75.75v3.5a.75.75 0 0 1-1.5 0v-3.5A.75.75 0 0 1 8 3Z"></path>
</svg>
</template>

<template id="pencil-icon">
  <svg aria-hidden="true" height="16" viewBox="0 0 16 16" version="1.1" width="16" data-view-component="true" class="octicon octicon-pencil">
    <path d="M11.013 1.427a1.75 1.75 0 0 1 2.474 0l1.086 1.086a1.75 1.75 0 0 1 0 2.474l-8.61 8.61c-.21.21-.47.364-.756.445l-3.251.93a.75.75 0 0 1-.927-.928l.929-3.25c.081-.286.235-.547.445-.758l8.61-8.61Zm.176 4.823L9.75 4.81l-6.286 6.287a.253.253 0 0 0-.064.108l-.558 1.953 1.953-.558a.253.253 0 0 0 .108-.064Zm1.238-3.763a.25.25 0 0 0-.354 0L10.811 3.75l1.439 1.44 1.263-1.263a.25.25 0 0 0 0-.354Z"></path>
</svg>
</template>

        <div class="position-relative">
                <ul
                  role="listbox"
                  class="ActionListWrap QueryBuilder-ListWrap"
                  aria-label="Suggestions"
                  data-action="
                    combobox-commit:query-builder#comboboxCommit
                    mousedown:query-builder#resultsMousedown
                  "
                  data-target="query-builder.resultsList"
                  data-persist-list=false
                  id="query-builder-test-results"
                ></ul>
        </div>
    </div>
    <div data-target="query-builder.screenReaderFeedback" aria-live="polite" aria-atomic="true" class="sr-only"></div>
</query-builder></form>
          <div class="d-flex flex-row color-fg-muted px-3 text-small color-bg-default search-feedback-prompt">
            <a target="_blank" href="https://docs.github.com/en/search-github/github-code-search/understanding-github-code-search-syntax" data-view-component="true" class="color-fg-accent text-normal ml-2">
              Search syntax tips
</a>            <div class="d-flex flex-1"></div>
              <button data-action="click:qbsearch-input#showFeedbackDialog" type="button" data-view-component="true" class="Button--link Button--medium Button color-fg-accent text-normal ml-2">    <span class="Button-content">
      <span class="Button-label">Give feedback</span>
    </span>
</button>  
          </div>
        </div>
</div>

    </div>
</modal-dialog></div>
  </div>
  <div data-action="click:qbsearch-input#retract" class="dark-backdrop position-fixed width-full" hidden data-target="qbsearch-input.darkBackdrop"></div>
  <div class="color-fg-default">
    
<div class="Overlay--hidden Overlay-backdrop--center" data-modal-dialog-overlay>
  <modal-dialog data-target="qbsearch-input.feedbackDialog" data-action="close:qbsearch-input#handleDialogClose cancel:qbsearch-input#handleDialogClose" role="dialog" id="feedback-dialog" aria-modal="true" aria-disabled="true" aria-describedby="feedback-dialog-title feedback-dialog-description" data-view-component="true" class="Overlay Overlay-whenNarrow Overlay--size-medium Overlay--motion-scaleFade">
    <div data-view-component="true" class="Overlay-header">
  <div class="Overlay-headerContentWrap">
    <div class="Overlay-titleWrap">
      <h1 class="Overlay-title " id="feedback-dialog-title">
        Provide feedback
      </h1>
    </div>
    <div class="Overlay-actionWrap">
      <button data-close-dialog-id="feedback-dialog" aria-label="Close" type="button" data-view-component="true" class="close-button Overlay-closeButton"><svg aria-hidden="true" height="16" viewBox="0 0 16 16" version="1.1" width="16" data-view-component="true" class="octicon octicon-x">
    <path d="M3.72 3.72a.75.75 0 0 1 1.06 0L8 6.94l3.22-3.22a.749.749 0 0 1 1.275.326.749.749 0 0 1-.215.734L9.06 8l3.22 3.22a.749.749 0 0 1-.326 1.275.749.749 0 0 1-.734-.215L8 9.06l-3.22 3.22a.751.751 0 0 1-1.042-.018.751.751 0 0 1-.018-1.042L6.94 8 3.72 4.78a.75.75 0 0 1 0-1.06Z"></path>
</svg></button>
    </div>
  </div>
</div>
      <div data-view-component="true" class="Overlay-body">        <!-- '"` --><!-- </textarea></xmp> --></option></form><form id="code-search-feedback-form" data-turbo="false" action="/search/feedback" accept-charset="UTF-8" method="post"><input type="hidden" name="authenticity_token" value="tiO4Jfb-uS8qZJBgrd0HvhTeh57TR0CACVJv2xvb9r6smFoQlUe8tp0zcFBfZ38zddHiD-Vf4job_mIgRxUpyA" />
          <p>We read every piece of feedback, and take your input very seriously.</p>
          <textarea name="feedback" class="form-control width-full mb-2" style="height: 120px" id="feedback"></textarea>
          <input name="include_email" id="include_email" aria-label="Include my email address so I can be contacted" class="form-control mr-2" type="checkbox">
          <label for="include_email" style="font-weight: normal">Include my email address so I can be contacted</label>
</form></div>
      <div data-view-component="true" class="Overlay-footer Overlay-footer--alignEnd">          <button data-close-dialog-id="feedback-dialog" type="button" data-view-component="true" class="btn">    Cancel
</button>
          <button form="code-search-feedback-form" data-action="click:qbsearch-input#submitFeedback" type="submit" data-view-component="true" class="btn-primary btn">    Submit feedback
</button>
</div>
</modal-dialog></div>

    <custom-scopes data-target="qbsearch-input.customScopesManager">
    
<div class="Overlay--hidden Overlay-backdrop--center" data-modal-dialog-overlay>
  <modal-dialog data-target="custom-scopes.customScopesModalDialog" data-action="close:qbsearch-input#handleDialogClose cancel:qbsearch-input#handleDialogClose" role="dialog" id="custom-scopes-dialog" aria-modal="true" aria-disabled="true" aria-describedby="custom-scopes-dialog-title custom-scopes-dialog-description" data-view-component="true" class="Overlay Overlay-whenNarrow Overlay--size-medium Overlay--motion-scaleFade">
    <div data-view-component="true" class="Overlay-header Overlay-header--divided">
  <div class="Overlay-headerContentWrap">
    <div class="Overlay-titleWrap">
      <h1 class="Overlay-title " id="custom-scopes-dialog-title">
        Saved searches
      </h1>
        <h2 id="custom-scopes-dialog-description" class="Overlay-description">Use saved searches to filter your results more quickly</h2>
    </div>
    <div class="Overlay-actionWrap">
      <button data-close-dialog-id="custom-scopes-dialog" aria-label="Close" type="button" data-view-component="true" class="close-button Overlay-closeButton"><svg aria-hidden="true" height="16" viewBox="0 0 16 16" version="1.1" width="16" data-view-component="true" class="octicon octicon-x">
    <path d="M3.72 3.72a.75.75 0 0 1 1.06 0L8 6.94l3.22-3.22a.749.749 0 0 1 1.275.326.749.749 0 0 1-.215.734L9.06 8l3.22 3.22a.749.749 0 0 1-.326 1.275.749.749 0 0 1-.734-.215L8 9.06l-3.22 3.22a.751.751 0 0 1-1.042-.018.751.751 0 0 1-.018-1.042L6.94 8 3.72 4.78a.75.75 0 0 1 0-1.06Z"></path>
</svg></button>
    </div>
  </div>
</div>
      <div data-view-component="true" class="Overlay-body">        <div data-target="custom-scopes.customScopesModalDialogFlash"></div>

        <div hidden class="create-custom-scope-form" data-target="custom-scopes.createCustomScopeForm">
        <!-- '"` --><!-- </textarea></xmp> --></option></form><form id="custom-scopes-dialog-form" data-turbo="false" action="/search/custom_scopes" accept-charset="UTF-8" method="post"><input type="hidden" name="authenticity_token" value="oi5QIlckFP-pPIPe4pgaGiCx0YFaaRZoswcHPM5zGgprycNmvsqmHotHirGRkZ97_i5thkGgW2nD5SX36tR4cA" />
          <div data-target="custom-scopes.customScopesModalDialogFlash"></div>

          <input type="hidden" id="custom_scope_id" name="custom_scope_id" data-target="custom-scopes.customScopesIdField">

          <div class="form-group">
            <label for="custom_scope_name">Name</label>
            <auto-check src="/search/custom_scopes/check_name" required>
              <input
                type="text"
                name="custom_scope_name"
                id="custom_scope_name"
                data-target="custom-scopes.customScopesNameField"
                class="form-control"
                autocomplete="off"
                placeholder="github-ruby"
                required
                maxlength="50">
              <input type="hidden" value="wNqbvN9Tji-JuhN7KtCaCRnqHpTkU5KRTJymRwu8aTLUy1qYvfwf2lyVzrSQky81rlLdVLRO0Mzu6JdL9kD6pw" data-csrf="true" />
            </auto-check>
          </div>

          <div class="form-group">
            <label for="custom_scope_query">Query</label>
            <input
              type="text"
              name="custom_scope_query"
              id="custom_scope_query"
              data-target="custom-scopes.customScopesQueryField"
              class="form-control"
              autocomplete="off"
              placeholder="(repo:mona/a OR repo:mona/b) AND lang:python"
              required
              maxlength="500">
          </div>

          <p class="text-small color-fg-muted">
            To see all available qualifiers, see our <a href="https://docs.github.com/en/search-github/github-code-search/understanding-github-code-search-syntax">documentation</a>.
          </p>
</form>        </div>

        <div data-target="custom-scopes.manageCustomScopesForm">
          <div data-target="custom-scopes.list"></div>
        </div>

</div>
      <div data-view-component="true" class="Overlay-footer Overlay-footer--alignEnd Overlay-footer--divided">          <button data-action="click:custom-scopes#customScopesCancel" type="button" data-view-component="true" class="btn">    Cancel
</button>
          <button form="custom-scopes-dialog-form" data-action="click:custom-scopes#customScopesSubmit" data-target="custom-scopes.customScopesSubmitButton" type="submit" data-view-component="true" class="btn-primary btn">    Create saved search
</button>
</div>
</modal-dialog></div>
    </custom-scopes>
  </div>
</qbsearch-input><input type="hidden" value="WECQpByViNawBsEFKp5es_Qgu3j7vuDyYFAZ067PqdnMjcvmFPFZ4rRSPKP5XY5Eba8lZaviXVMJxDNhGHVMQg" data-csrf="true" class="js-data-jump-to-suggestions-path-csrf" />

        <nav id="global-nav" class="d-flex flex-column flex-md-row flex-self-stretch flex-md-self-auto" aria-label="Global">
    <a class="Header-link py-md-3 d-block d-md-none py-2 border-top border-md-top-0 border-white-fade" data-ga-click="Header, click, Nav menu - item:dashboard:user" aria-label="Dashboard" data-turbo="false" href="/dashboard">Dashboard</a>

  <a class="js-selected-navigation-item Header-link mt-md-n3 mb-md-n3 py-2 py-md-3 mr-0 mr-md-3 border-top border-md-top-0 border-white-fade" data-hotkey="g p" data-ga-click="Header, click, Nav menu - item:pulls context:user" aria-label="Pull requests you created" data-turbo="false" data-selected-links="/pulls /pulls/assigned /pulls/mentioned /pulls" href="/pulls">
      Pull<span class="d-inline d-md-none d-lg-inline"> request</span>s
</a>
  <a class="js-selected-navigation-item Header-link mt-md-n3 mb-md-n3 py-2 py-md-3 mr-0 mr-md-3 border-top border-md-top-0 border-white-fade" data-hotkey="g i" data-ga-click="Header, click, Nav menu - item:issues context:user" aria-label="Issues you created" data-turbo="false" data-selected-links="/issues /issues/assigned /issues/mentioned /issues" href="/issues">Issues</a>

      <a class="js-selected-navigation-item Header-link mt-md-n3 mb-md-n3 py-2 py-md-3 mr-0 mr-md-3 border-top border-md-top-0 border-white-fade" data-ga-click="Header, click, Nav menu - item:workspaces context:user" data-turbo="false" data-selected-links="/codespaces /codespaces" href="/codespaces">Codespaces</a>

    <div class="d-flex position-relative">
      <a class="js-selected-navigation-item Header-link flex-auto mt-md-n3 mb-md-n3 py-2 py-md-3 mr-0 mr-md-3 border-top border-md-top-0 border-white-fade" data-ga-click="Header, click, Nav menu - item:marketplace context:user" data-octo-click="marketplace_click" data-octo-dimensions="location:nav_bar" data-turbo="false" data-selected-links=" /marketplace" href="/marketplace">Marketplace</a>
    </div>

  <a class="js-selected-navigation-item Header-link mt-md-n3 mb-md-n3 py-2 py-md-3 mr-0 mr-md-3 border-top border-md-top-0 border-white-fade" data-ga-click="Header, click, Nav menu - item:explore" data-turbo="false" data-selected-links="/explore /trending /trending/developers /integrations /integrations/feature/code /integrations/feature/collaborate /integrations/feature/ship showcases showcases_search showcases_landing /explore" href="/explore">Explore</a>

      <a class="js-selected-navigation-item Header-link d-block d-md-none py-2 py-md-3 border-top border-md-top-0 border-white-fade" data-ga-click="Header, click, Nav menu - item:Sponsors" data-hydro-click="{&quot;event_type&quot;:&quot;sponsors.button_click&quot;,&quot;payload&quot;:{&quot;button&quot;:&quot;HEADER_SPONSORS_DASHBOARD&quot;,&quot;sponsorable_login&quot;:&quot;MarcelloLM&quot;,&quot;originating_url&quot;:&quot;https://github.com/MarcelloLM/Regress-o-Linear/blob/main/Regressa%CC%83o_Linear.ipynb&quot;,&quot;user_id&quot;:106484381}}" data-hydro-click-hmac="a07f0b24531813fc42a5e96c9b42e17aa7f3402a856e3e05bac6cc4fd74f97a3" data-turbo="false" data-selected-links=" /sponsors/accounts" href="/sponsors/accounts">Sponsors</a>

    <a class="Header-link d-block d-md-none mr-0 mr-md-3 py-2 py-md-3 border-top border-md-top-0 border-white-fade" data-turbo="false" href="/settings/profile">Settings</a>

    <a class="Header-link d-block d-md-none mr-0 mr-md-3 py-2 py-md-3 border-top border-md-top-0 border-white-fade" data-turbo="false" href="/MarcelloLM">
      <img class="avatar avatar-user" loading="lazy" decoding="async" src="https://avatars.githubusercontent.com/u/106484381?s=40&amp;v=4" width="20" height="20" alt="@MarcelloLM" />
      MarcelloLM
</a>
    <!-- '"` --><!-- </textarea></xmp> --></option></form><form data-turbo="false" action="/logout" accept-charset="UTF-8" method="post"><input type="hidden" name="authenticity_token" value="m4jhkY_TjP9RH68kblbJvhVpGsHOlW8AW689lMNOizTvnW-FKgAIlrmFXmURCesd_YhqbUYtQHPoaCm-pQT2Og" />
      <button
        type="submit"
        class="Header-link mr-0 mr-md-3 py-2 py-md-3 border-top border-md-top-0 border-white-fade d-md-none btn-link d-block width-full text-left"
        style="padding-left: 2px;"
        data-analytics-event="{&quot;category&quot;:&quot;Header&quot;,&quot;action&quot;:&quot;sign out&quot;,&quot;label&quot;:&quot;icon:logout&quot;}"
      >
        <svg aria-hidden="true" height="16" viewBox="0 0 16 16" version="1.1" width="16" data-view-component="true" class="octicon octicon-sign-out v-align-middle">
    <path d="M2 2.75C2 1.784 2.784 1 3.75 1h2.5a.75.75 0 0 1 0 1.5h-2.5a.25.25 0 0 0-.25.25v10.5c0 .138.112.25.25.25h2.5a.75.75 0 0 1 0 1.5h-2.5A1.75 1.75 0 0 1 2 13.25Zm10.44 4.5-1.97-1.97a.749.749 0 0 1 .326-1.275.749.749 0 0 1 .734.215l3.25 3.25a.75.75 0 0 1 0 1.06l-3.25 3.25a.749.749 0 0 1-1.275-.326.749.749 0 0 1 .215-.734l1.97-1.97H6.75a.75.75 0 0 1 0-1.5Z"></path>
</svg>
        Sign out
      </button>
</form></nav>

    </div>

    <div class="Header-item Header-item--full flex-justify-center d-md-none position-relative">
        <a
  class="Header-link"
  href="https://github.com/"
  data-hotkey="g d"
  aria-label="Homepage "
  data-turbo="false"
  data-analytics-event="{&quot;category&quot;:&quot;Header&quot;,&quot;action&quot;:&quot;go to dashboard&quot;,&quot;label&quot;:&quot;icon:logo&quot;}"
>
  <svg height="32" aria-hidden="true" viewBox="0 0 16 16" version="1.1" width="32" data-view-component="true" class="octicon octicon-mark-github v-align-middle">
    <path d="M8 0c4.42 0 8 3.58 8 8a8.013 8.013 0 0 1-5.45 7.59c-.4.08-.55-.17-.55-.38 0-.27.01-1.13.01-2.2 0-.75-.25-1.23-.54-1.48 1.78-.2 3.65-.88 3.65-3.95 0-.88-.31-1.59-.82-2.15.08-.2.36-1.02-.08-2.12 0 0-.67-.22-2.2.82-.64-.18-1.32-.27-2-.27-.68 0-1.36.09-2 .27-1.53-1.03-2.2-.82-2.2-.82-.44 1.1-.16 1.92-.08 2.12-.51.56-.82 1.28-.82 2.15 0 3.06 1.86 3.75 3.64 3.95-.23.2-.44.55-.51 1.07-.46.21-1.61.55-2.33-.66-.15-.24-.6-.83-1.23-.82-.67.01-.27.38.01.53.34.19.73.9.82 1.13.16.45.68 1.31 2.69.94 0 .67.01 1.3.01 1.49 0 .21-.15.45-.55.38A7.995 7.995 0 0 1 0 8c0-4.42 3.58-8 8-8Z"></path>
</svg>
</a>

    </div>

    <div class="Header-item mr-0 mr-md-3 flex-order-1 flex-md-order-none">
        

<notification-indicator data-channel="eyJjIjoibm90aWZpY2F0aW9uLWNoYW5nZWQ6MTA2NDg0MzgxIiwidCI6MTY4Mzg5MTc5MH0=--f766f5f5f29c4fb1dfefcd8776b9d415874a7ad4a0619440388ef6b886273c1a" data-indicator-mode="none" data-tooltip-global="You have unread notifications" data-tooltip-unavailable="Notifications are unavailable at the moment." data-tooltip-none="You have no unread notifications" data-fetch-indicator-src="/notifications/indicator" data-fetch-indicator-enabled="true" data-view-component="true" class="js-socket-channel">
  <a id="AppHeader-notifications-button" href="/notifications"
    class="Header-link notification-indicator position-relative tooltipped tooltipped-sw"

    

    data-hotkey="g n"
    data-target="notification-indicator.link"
    aria-label="Notifications"

      data-analytics-event="{&quot;category&quot;:&quot;Header&quot;,&quot;action&quot;:&quot;go to notifications&quot;,&quot;label&quot;:&quot;icon:read&quot;}"
  >

    <span
      data-target="notification-indicator.badge"
      class="mail-status unread" hidden>
    </span>

      <svg aria-hidden="true" height="16" viewBox="0 0 16 16" version="1.1" width="16" data-view-component="true" class="octicon octicon-bell">
    <path d="M8 16a2 2 0 0 0 1.985-1.75c.017-.137-.097-.25-.235-.25h-3.5c-.138 0-.252.113-.235.25A2 2 0 0 0 8 16ZM3 5a5 5 0 0 1 10 0v2.947c0 .05.015.098.042.139l1.703 2.555A1.519 1.519 0 0 1 13.482 13H2.518a1.516 1.516 0 0 1-1.263-2.36l1.703-2.554A.255.255 0 0 0 3 7.947Zm5-3.5A3.5 3.5 0 0 0 4.5 5v2.947c0 .346-.102.683-.294.97l-1.703 2.556a.017.017 0 0 0-.003.01l.001.006c0 .002.002.004.004.006l.006.004.007.001h10.964l.007-.001.006-.004.004-.006.001-.007a.017.017 0 0 0-.003-.01l-1.703-2.554a1.745 1.745 0 0 1-.294-.97V5A3.5 3.5 0 0 0 8 1.5Z"></path>
</svg>
  </a>

</notification-indicator>
    </div>


    <div class="Header-item position-relative d-none d-md-flex">
        <details class="details-overlay details-reset">
  <summary
    class="Header-link"
    aria-label="Create new…"
    data-analytics-event="{&quot;category&quot;:&quot;Header&quot;,&quot;action&quot;:&quot;create new&quot;,&quot;label&quot;:&quot;icon:add&quot;}"
  >
    <svg aria-hidden="true" height="16" viewBox="0 0 16 16" version="1.1" width="16" data-view-component="true" class="octicon octicon-plus">
    <path d="M7.75 2a.75.75 0 0 1 .75.75V7h4.25a.75.75 0 0 1 0 1.5H8.5v4.25a.75.75 0 0 1-1.5 0V8.5H2.75a.75.75 0 0 1 0-1.5H7V2.75A.75.75 0 0 1 7.75 2Z"></path>
</svg> <span class="dropdown-caret"></span>
  </summary>
  <details-menu class="dropdown-menu dropdown-menu-sw">
    
<a role="menuitem" class="dropdown-item" href="/new" data-ga-click="Header, create new repository">
  New repository
</a>

  <a role="menuitem" class="dropdown-item" href="/new/import" data-ga-click="Header, import a repository">
    Import repository
  </a>

  <a role="menuitem" class="dropdown-item" href="/codespaces/new">
    New codespace
  </a>

<a role="menuitem" class="dropdown-item" href="https://gist.github.com/" data-ga-click="Header, create new gist">
  New gist
</a>

  <a role="menuitem" class="dropdown-item" href="/organizations/new" data-ga-click="Header, create new organization">
    New organization
  </a>



  </details-menu>
</details>

    </div>

    <div class="Header-item position-relative mr-0 d-none d-md-flex">
        
  <details class="details-overlay details-reset js-feature-preview-indicator-container" data-feature-preview-indicator-src="/users/MarcelloLM/feature_preview/indicator_check">

  <summary
    class="Header-link"
    aria-label="View profile and more"
    data-analytics-event="{&quot;category&quot;:&quot;Header&quot;,&quot;action&quot;:&quot;show menu&quot;,&quot;label&quot;:&quot;icon:avatar&quot;}"
  >
    <img src="https://avatars.githubusercontent.com/u/106484381?s=40&amp;v=4" alt="@MarcelloLM" size="20" height="20" width="20" data-view-component="true" class="avatar avatar-small circle" />
      <span class="unread-indicator js-feature-preview-indicator" style="top: 1px;" hidden></span>
    <span class="dropdown-caret"></span>
  </summary>
  <details-menu
      class="dropdown-menu dropdown-menu-sw"
      style="width: 180px"
      
      preload>
      <include-fragment src="/users/106484381/menu" loading="lazy">
        <p class="text-center mt-3" data-hide-on-error>
          <svg style="box-sizing: content-box; color: var(--color-icon-primary);" width="32" height="32" viewBox="0 0 16 16" fill="none" data-view-component="true" class="anim-rotate">
  <circle cx="8" cy="8" r="7" stroke="currentColor" stroke-opacity="0.25" stroke-width="2" vector-effect="non-scaling-stroke" />
  <path d="M15 8a7.002 7.002 0 00-7-7" stroke="currentColor" stroke-width="2" stroke-linecap="round" vector-effect="non-scaling-stroke" />
</svg>
        </p>
        <p class="ml-1 mb-2 mt-2 color-fg-default" data-show-on-error>
          <svg aria-hidden="true" height="16" viewBox="0 0 16 16" version="1.1" width="16" data-view-component="true" class="octicon octicon-alert">
    <path d="M6.457 1.047c.659-1.234 2.427-1.234 3.086 0l6.082 11.378A1.75 1.75 0 0 1 14.082 15H1.918a1.75 1.75 0 0 1-1.543-2.575Zm1.763.707a.25.25 0 0 0-.44 0L1.698 13.132a.25.25 0 0 0 .22.368h12.164a.25.25 0 0 0 .22-.368Zm.53 3.996v2.5a.75.75 0 0 1-1.5 0v-2.5a.75.75 0 0 1 1.5 0ZM9 11a1 1 0 1 1-2 0 1 1 0 0 1 2 0Z"></path>
</svg>
          Sorry, something went wrong.
        </p>
      </include-fragment>
  </details-menu>
</details>

    </div>
</header>

          
    </div>

  <div id="start-of-content" class="show-on-focus"></div>







    <div id="js-flash-container" data-turbo-replace>





  <template class="js-flash-template">
    
<div class="flash flash-full   {{ className }}">
  <div class="px-2" >
    <button autofocus class="flash-close js-flash-close" type="button" aria-label="Dismiss this message">
      <svg aria-hidden="true" height="16" viewBox="0 0 16 16" version="1.1" width="16" data-view-component="true" class="octicon octicon-x">
    <path d="M3.72 3.72a.75.75 0 0 1 1.06 0L8 6.94l3.22-3.22a.749.749 0 0 1 1.275.326.749.749 0 0 1-.215.734L9.06 8l3.22 3.22a.749.749 0 0 1-.326 1.275.749.749 0 0 1-.734-.215L8 9.06l-3.22 3.22a.751.751 0 0 1-1.042-.018.751.751 0 0 1-.018-1.042L6.94 8 3.72 4.78a.75.75 0 0 1 0-1.06Z"></path>
</svg>
    </button>
    <div aria-atomic="true" role="alert" class="js-flash-alert">
      
      <div>{{ message }}</div>

    </div>
  </div>
</div>
  </template>
</div>


    
    <notification-shelf-watcher data-base-url="https://github.com/notifications/beta/shelf" data-channel="eyJjIjoibm90aWZpY2F0aW9uLWNoYW5nZWQ6MTA2NDg0MzgxIiwidCI6MTY4Mzg5MTc5MH0=--f766f5f5f29c4fb1dfefcd8776b9d415874a7ad4a0619440388ef6b886273c1a" data-view-component="true" class="js-socket-channel"></notification-shelf-watcher>
  <div hidden data-initial data-target="notification-shelf-watcher.placeholder"></div>






      <details
  class="details-reset details-overlay details-overlay-dark js-command-palette-dialog"
  id="command-palette-pjax-container"
  data-turbo-replace
>
  <summary aria-label="command palette trigger" tabindex="-1"></summary>
  <details-dialog class="command-palette-details-dialog d-flex flex-column flex-justify-center height-fit" aria-label="command palette">
    <command-palette
      class="command-palette color-bg-default rounded-3 border color-shadow-small"
      return-to=/MarcelloLM/Regress-o-Linear/blob/main/Regressa%CC%83o_Linear.ipynb
      user-id="106484381"
      activation-hotkey="Mod+k,Mod+Alt+k"
      command-mode-hotkey="Mod+Shift+k"
      data-action="
        command-palette-input-ready:command-palette#inputReady
        command-palette-page-stack-updated:command-palette#updateInputScope
        itemsUpdated:command-palette#itemsUpdated
        keydown:command-palette#onKeydown
        loadingStateChanged:command-palette#loadingStateChanged
        selectedItemChanged:command-palette#selectedItemChanged
        pageFetchError:command-palette#pageFetchError
      ">

        <command-palette-mode
          data-char="#"
            data-scope-types="[&quot;&quot;]"
            data-placeholder="Search issues and pull requests"
        ></command-palette-mode>
        <command-palette-mode
          data-char="#"
            data-scope-types="[&quot;owner&quot;,&quot;repository&quot;]"
            data-placeholder="Search issues, pull requests, discussions, and projects"
        ></command-palette-mode>
        <command-palette-mode
          data-char="!"
            data-scope-types="[&quot;owner&quot;,&quot;repository&quot;]"
            data-placeholder="Search projects"
        ></command-palette-mode>
        <command-palette-mode
          data-char="@"
            data-scope-types="[&quot;&quot;]"
            data-placeholder="Search or jump to a user, organization, or repository"
        ></command-palette-mode>
        <command-palette-mode
          data-char="@"
            data-scope-types="[&quot;owner&quot;]"
            data-placeholder="Search or jump to a repository"
        ></command-palette-mode>
        <command-palette-mode
          data-char="/"
            data-scope-types="[&quot;repository&quot;]"
            data-placeholder="Search files"
        ></command-palette-mode>
        <command-palette-mode
          data-char="?"
        ></command-palette-mode>
        <command-palette-mode
          data-char="&gt;"
            data-placeholder="Run a command"
        ></command-palette-mode>
        <command-palette-mode
          data-char=""
            data-scope-types="[&quot;&quot;]"
            data-placeholder="Search or jump to..."
        ></command-palette-mode>
        <command-palette-mode
          data-char=""
            data-scope-types="[&quot;owner&quot;]"
            data-placeholder="Search or jump to..."
        ></command-palette-mode>
      <command-palette-mode
        class="js-command-palette-default-mode"
        data-char=""
        data-placeholder="Search or jump to..."
      ></command-palette-mode>

      <command-palette-input placeholder="Search or jump to..."

        data-action="
          command-palette-input:command-palette#onInput
          command-palette-select:command-palette#onSelect
          command-palette-descope:command-palette#onDescope
          command-palette-cleared:command-palette#onInputClear
        "
      >
        <div class="js-search-icon d-flex flex-items-center mr-2" style="height: 26px">
          <svg aria-hidden="true" height="16" viewBox="0 0 16 16" version="1.1" width="16" data-view-component="true" class="octicon octicon-search color-fg-muted">
    <path d="M10.68 11.74a6 6 0 0 1-7.922-8.982 6 6 0 0 1 8.982 7.922l3.04 3.04a.749.749 0 0 1-.326 1.275.749.749 0 0 1-.734-.215ZM11.5 7a4.499 4.499 0 1 0-8.997 0A4.499 4.499 0 0 0 11.5 7Z"></path>
</svg>
        </div>
        <div class="js-spinner d-flex flex-items-center mr-2 color-fg-muted" hidden>
          <svg aria-label="Loading" class="anim-rotate" viewBox="0 0 16 16" fill="none" width="16" height="16">
            <circle
              cx="8"
              cy="8"
              r="7"
              stroke="currentColor"
              stroke-opacity="0.25"
              stroke-width="2"
              vector-effect="non-scaling-stroke"
            ></circle>
            <path
              d="M15 8a7.002 7.002 0 00-7-7"
              stroke="currentColor"
              stroke-width="2"
              stroke-linecap="round"
              vector-effect="non-scaling-stroke"
            ></path>
          </svg>
        </div>
        <command-palette-scope >
          <div data-target="command-palette-scope.placeholder" hidden class="color-fg-subtle">/&nbsp;&nbsp;<span class="text-semibold color-fg-default">...</span>&nbsp;&nbsp;/&nbsp;&nbsp;</div>
              <command-palette-token
                data-text="MarcelloLM"
                data-id="U_kgDOBljSnQ"
                data-type="owner"
                data-value="MarcelloLM"
                data-targets="command-palette-scope.tokens"
                class="color-fg-default text-semibold"
                style="white-space:nowrap;line-height:20px;"
                >MarcelloLM<span class="color-fg-subtle text-normal">&nbsp;&nbsp;/&nbsp;&nbsp;</span></command-palette-token>
              <command-palette-token
                data-text="Regress-o-Linear"
                data-id="R_kgDOJO1ybA"
                data-type="repository"
                data-value="Regress-o-Linear"
                data-targets="command-palette-scope.tokens"
                class="color-fg-default text-semibold"
                style="white-space:nowrap;line-height:20px;"
                >Regress-o-Linear<span class="color-fg-subtle text-normal">&nbsp;&nbsp;/&nbsp;&nbsp;</span></command-palette-token>
        </command-palette-scope>
        <div class="command-palette-input-group flex-1 form-control border-0 box-shadow-none" style="z-index: 0">
          <div class="command-palette-typeahead position-absolute d-flex flex-items-center Truncate">
            <span class="typeahead-segment input-mirror" data-target="command-palette-input.mirror"></span>
            <span class="Truncate-text" data-target="command-palette-input.typeaheadText"></span>
            <span class="typeahead-segment" data-target="command-palette-input.typeaheadPlaceholder"></span>
          </div>
          <input
            class="js-overlay-input typeahead-input d-none"
            disabled
            tabindex="-1"
            aria-label="Hidden input for typeahead"
          >
          <input
            type="text"
            autocomplete="off"
            autocorrect="off"
            autocapitalize="off"
            spellcheck="false"
            class="js-input typeahead-input form-control border-0 box-shadow-none input-block width-full no-focus-indicator"
            aria-label="Command palette input"
            aria-haspopup="listbox"
            aria-expanded="false"
            aria-autocomplete="list"
            aria-controls="command-palette-page-stack"
            role="combobox"
            data-action="
              input:command-palette-input#onInput
              keydown:command-palette-input#onKeydown
            "
          >
        </div>
          <div data-view-component="true" class="position-relative d-inline-block">
    <button aria-keyshortcuts="Control+Backspace" data-action="click:command-palette-input#onClear keypress:command-palette-input#onClear" data-target="command-palette-input.clearButton" id="command-palette-clear-button" hidden="hidden" type="button" data-view-component="true" class="btn-octicon command-palette-input-clear-button">      <svg aria-hidden="true" height="16" viewBox="0 0 16 16" version="1.1" width="16" data-view-component="true" class="octicon octicon-x-circle-fill">
    <path d="M2.343 13.657A8 8 0 1 1 13.658 2.343 8 8 0 0 1 2.343 13.657ZM6.03 4.97a.751.751 0 0 0-1.042.018.751.751 0 0 0-.018 1.042L6.94 8 4.97 9.97a.749.749 0 0 0 .326 1.275.749.749 0 0 0 .734-.215L8 9.06l1.97 1.97a.749.749 0 0 0 1.275-.326.749.749 0 0 0-.215-.734L9.06 8l1.97-1.97a.749.749 0 0 0-.326-1.275.749.749 0 0 0-.734.215L8 6.94Z"></path>
</svg>
</button>    <tool-tip id="tooltip-ca4b0140-b67f-446e-a771-09e455325270" for="command-palette-clear-button" data-direction="w" data-type="label" data-view-component="true" class="sr-only position-absolute">Clear Command Palette</tool-tip>
</div>
      </command-palette-input>

      <command-palette-page-stack
        data-default-scope-id="R_kgDOJO1ybA"
        data-default-scope-type="Repository"
        data-action="command-palette-page-octicons-cached:command-palette-page-stack#cacheOcticons"
      >
          <command-palette-tip
            class="color-fg-muted f6 px-3 py-1 my-2"
              data-scope-types="[&quot;&quot;,&quot;owner&quot;,&quot;repository&quot;]"
            data-mode=""
            data-value="">
            <div class="d-flex flex-items-start flex-justify-between">
              <div>
                <span class="text-bold">Tip:</span>
                  Type <kbd class="hx_kbd">#</kbd> to search pull requests
              </div>
              <div class="ml-2 flex-shrink-0">
                Type <kbd class="hx_kbd">?</kbd> for help and tips
              </div>
            </div>
          </command-palette-tip>
          <command-palette-tip
            class="color-fg-muted f6 px-3 py-1 my-2"
              data-scope-types="[&quot;&quot;,&quot;owner&quot;,&quot;repository&quot;]"
            data-mode=""
            data-value="">
            <div class="d-flex flex-items-start flex-justify-between">
              <div>
                <span class="text-bold">Tip:</span>
                  Type <kbd class="hx_kbd">#</kbd> to search issues
              </div>
              <div class="ml-2 flex-shrink-0">
                Type <kbd class="hx_kbd">?</kbd> for help and tips
              </div>
            </div>
          </command-palette-tip>
          <command-palette-tip
            class="color-fg-muted f6 px-3 py-1 my-2"
              data-scope-types="[&quot;owner&quot;,&quot;repository&quot;]"
            data-mode=""
            data-value="">
            <div class="d-flex flex-items-start flex-justify-between">
              <div>
                <span class="text-bold">Tip:</span>
                  Type <kbd class="hx_kbd">#</kbd> to search discussions
              </div>
              <div class="ml-2 flex-shrink-0">
                Type <kbd class="hx_kbd">?</kbd> for help and tips
              </div>
            </div>
          </command-palette-tip>
          <command-palette-tip
            class="color-fg-muted f6 px-3 py-1 my-2"
              data-scope-types="[&quot;owner&quot;,&quot;repository&quot;]"
            data-mode=""
            data-value="">
            <div class="d-flex flex-items-start flex-justify-between">
              <div>
                <span class="text-bold">Tip:</span>
                  Type <kbd class="hx_kbd">!</kbd> to search projects
              </div>
              <div class="ml-2 flex-shrink-0">
                Type <kbd class="hx_kbd">?</kbd> for help and tips
              </div>
            </div>
          </command-palette-tip>
          <command-palette-tip
            class="color-fg-muted f6 px-3 py-1 my-2"
              data-scope-types="[&quot;owner&quot;]"
            data-mode=""
            data-value="">
            <div class="d-flex flex-items-start flex-justify-between">
              <div>
                <span class="text-bold">Tip:</span>
                  Type <kbd class="hx_kbd">@</kbd> to search teams
              </div>
              <div class="ml-2 flex-shrink-0">
                Type <kbd class="hx_kbd">?</kbd> for help and tips
              </div>
            </div>
          </command-palette-tip>
          <command-palette-tip
            class="color-fg-muted f6 px-3 py-1 my-2"
              data-scope-types="[&quot;&quot;]"
            data-mode=""
            data-value="">
            <div class="d-flex flex-items-start flex-justify-between">
              <div>
                <span class="text-bold">Tip:</span>
                  Type <kbd class="hx_kbd">@</kbd> to search people and organizations
              </div>
              <div class="ml-2 flex-shrink-0">
                Type <kbd class="hx_kbd">?</kbd> for help and tips
              </div>
            </div>
          </command-palette-tip>
          <command-palette-tip
            class="color-fg-muted f6 px-3 py-1 my-2"
              data-scope-types="[&quot;&quot;,&quot;owner&quot;,&quot;repository&quot;]"
            data-mode=""
            data-value="">
            <div class="d-flex flex-items-start flex-justify-between">
              <div>
                <span class="text-bold">Tip:</span>
                  Type <kbd class="hx_kbd">&gt;</kbd> to activate command mode
              </div>
              <div class="ml-2 flex-shrink-0">
                Type <kbd class="hx_kbd">?</kbd> for help and tips
              </div>
            </div>
          </command-palette-tip>
          <command-palette-tip
            class="color-fg-muted f6 px-3 py-1 my-2"
              data-scope-types="[&quot;&quot;,&quot;owner&quot;,&quot;repository&quot;]"
            data-mode=""
            data-value="">
            <div class="d-flex flex-items-start flex-justify-between">
              <div>
                <span class="text-bold">Tip:</span>
                  Go to your accessibility settings to change your keyboard shortcuts
              </div>
              <div class="ml-2 flex-shrink-0">
                Type <kbd class="hx_kbd">?</kbd> for help and tips
              </div>
            </div>
          </command-palette-tip>
          <command-palette-tip
            class="color-fg-muted f6 px-3 py-1 my-2"
              data-scope-types="[&quot;&quot;,&quot;owner&quot;,&quot;repository&quot;]"
            data-mode="#"
            data-value="">
            <div class="d-flex flex-items-start flex-justify-between">
              <div>
                <span class="text-bold">Tip:</span>
                  Type author:@me to search your content
              </div>
              <div class="ml-2 flex-shrink-0">
                Type <kbd class="hx_kbd">?</kbd> for help and tips
              </div>
            </div>
          </command-palette-tip>
          <command-palette-tip
            class="color-fg-muted f6 px-3 py-1 my-2"
              data-scope-types="[&quot;&quot;,&quot;owner&quot;,&quot;repository&quot;]"
            data-mode="#"
            data-value="">
            <div class="d-flex flex-items-start flex-justify-between">
              <div>
                <span class="text-bold">Tip:</span>
                  Type is:pr to filter to pull requests
              </div>
              <div class="ml-2 flex-shrink-0">
                Type <kbd class="hx_kbd">?</kbd> for help and tips
              </div>
            </div>
          </command-palette-tip>
          <command-palette-tip
            class="color-fg-muted f6 px-3 py-1 my-2"
              data-scope-types="[&quot;&quot;,&quot;owner&quot;,&quot;repository&quot;]"
            data-mode="#"
            data-value="">
            <div class="d-flex flex-items-start flex-justify-between">
              <div>
                <span class="text-bold">Tip:</span>
                  Type is:issue to filter to issues
              </div>
              <div class="ml-2 flex-shrink-0">
                Type <kbd class="hx_kbd">?</kbd> for help and tips
              </div>
            </div>
          </command-palette-tip>
          <command-palette-tip
            class="color-fg-muted f6 px-3 py-1 my-2"
              data-scope-types="[&quot;owner&quot;,&quot;repository&quot;]"
            data-mode="#"
            data-value="">
            <div class="d-flex flex-items-start flex-justify-between">
              <div>
                <span class="text-bold">Tip:</span>
                  Type is:project to filter to projects
              </div>
              <div class="ml-2 flex-shrink-0">
                Type <kbd class="hx_kbd">?</kbd> for help and tips
              </div>
            </div>
          </command-palette-tip>
          <command-palette-tip
            class="color-fg-muted f6 px-3 py-1 my-2"
              data-scope-types="[&quot;&quot;,&quot;owner&quot;,&quot;repository&quot;]"
            data-mode="#"
            data-value="">
            <div class="d-flex flex-items-start flex-justify-between">
              <div>
                <span class="text-bold">Tip:</span>
                  Type is:open to filter to open content
              </div>
              <div class="ml-2 flex-shrink-0">
                Type <kbd class="hx_kbd">?</kbd> for help and tips
              </div>
            </div>
          </command-palette-tip>
        <command-palette-tip class="mx-3 my-2 flash flash-error d-flex flex-items-center" data-scope-types="*" data-on-error>
          <div>
            <svg aria-hidden="true" height="16" viewBox="0 0 16 16" version="1.1" width="16" data-view-component="true" class="octicon octicon-alert">
    <path d="M6.457 1.047c.659-1.234 2.427-1.234 3.086 0l6.082 11.378A1.75 1.75 0 0 1 14.082 15H1.918a1.75 1.75 0 0 1-1.543-2.575Zm1.763.707a.25.25 0 0 0-.44 0L1.698 13.132a.25.25 0 0 0 .22.368h12.164a.25.25 0 0 0 .22-.368Zm.53 3.996v2.5a.75.75 0 0 1-1.5 0v-2.5a.75.75 0 0 1 1.5 0ZM9 11a1 1 0 1 1-2 0 1 1 0 0 1 2 0Z"></path>
</svg>
          </div>
          <div class="px-2">
            We’ve encountered an error and some results aren't available at this time. Type a new search or try again later.
          </div>
        </command-palette-tip>
        <command-palette-tip class="h4 color-fg-default pl-3 pb-2 pt-3" data-on-empty data-scope-types="*" data-match-mode="[^?]|^$">
          No results matched your search
        </command-palette-tip>

        <div hidden>

            <div data-targets="command-palette-page-stack.localOcticons" data-octicon-id="arrow-right-color-fg-muted">
              <svg height="16" class="octicon octicon-arrow-right color-fg-muted" viewBox="0 0 16 16" version="1.1" width="16" aria-hidden="true"><path d="M8.22 2.97a.75.75 0 0 1 1.06 0l4.25 4.25a.75.75 0 0 1 0 1.06l-4.25 4.25a.751.751 0 0 1-1.042-.018.751.751 0 0 1-.018-1.042l2.97-2.97H3.75a.75.75 0 0 1 0-1.5h7.44L8.22 4.03a.75.75 0 0 1 0-1.06Z"></path></svg>
            </div>
            <div data-targets="command-palette-page-stack.localOcticons" data-octicon-id="arrow-right-color-fg-default">
              <svg height="16" class="octicon octicon-arrow-right color-fg-default" viewBox="0 0 16 16" version="1.1" width="16" aria-hidden="true"><path d="M8.22 2.97a.75.75 0 0 1 1.06 0l4.25 4.25a.75.75 0 0 1 0 1.06l-4.25 4.25a.751.751 0 0 1-1.042-.018.751.751 0 0 1-.018-1.042l2.97-2.97H3.75a.75.75 0 0 1 0-1.5h7.44L8.22 4.03a.75.75 0 0 1 0-1.06Z"></path></svg>
            </div>
            <div data-targets="command-palette-page-stack.localOcticons" data-octicon-id="codespaces-color-fg-muted">
              <svg height="16" class="octicon octicon-codespaces color-fg-muted" viewBox="0 0 16 16" version="1.1" width="16" aria-hidden="true"><path d="M0 11.25c0-.966.784-1.75 1.75-1.75h12.5c.966 0 1.75.784 1.75 1.75v3A1.75 1.75 0 0 1 14.25 16H1.75A1.75 1.75 0 0 1 0 14.25Zm2-9.5C2 .784 2.784 0 3.75 0h8.5C13.216 0 14 .784 14 1.75v5a1.75 1.75 0 0 1-1.75 1.75h-8.5A1.75 1.75 0 0 1 2 6.75Zm1.75-.25a.25.25 0 0 0-.25.25v5c0 .138.112.25.25.25h8.5a.25.25 0 0 0 .25-.25v-5a.25.25 0 0 0-.25-.25Zm-2 9.5a.25.25 0 0 0-.25.25v3c0 .138.112.25.25.25h12.5a.25.25 0 0 0 .25-.25v-3a.25.25 0 0 0-.25-.25Z"></path><path d="M7 12.75a.75.75 0 0 1 .75-.75h4.5a.75.75 0 0 1 0 1.5h-4.5a.75.75 0 0 1-.75-.75Zm-4 0a.75.75 0 0 1 .75-.75h.5a.75.75 0 0 1 0 1.5h-.5a.75.75 0 0 1-.75-.75Z"></path></svg>
            </div>
            <div data-targets="command-palette-page-stack.localOcticons" data-octicon-id="copy-color-fg-muted">
              <svg height="16" class="octicon octicon-copy color-fg-muted" viewBox="0 0 16 16" version="1.1" width="16" aria-hidden="true"><path d="M0 6.75C0 5.784.784 5 1.75 5h1.5a.75.75 0 0 1 0 1.5h-1.5a.25.25 0 0 0-.25.25v7.5c0 .138.112.25.25.25h7.5a.25.25 0 0 0 .25-.25v-1.5a.75.75 0 0 1 1.5 0v1.5A1.75 1.75 0 0 1 9.25 16h-7.5A1.75 1.75 0 0 1 0 14.25Z"></path><path d="M5 1.75C5 .784 5.784 0 6.75 0h7.5C15.216 0 16 .784 16 1.75v7.5A1.75 1.75 0 0 1 14.25 11h-7.5A1.75 1.75 0 0 1 5 9.25Zm1.75-.25a.25.25 0 0 0-.25.25v7.5c0 .138.112.25.25.25h7.5a.25.25 0 0 0 .25-.25v-7.5a.25.25 0 0 0-.25-.25Z"></path></svg>
            </div>
            <div data-targets="command-palette-page-stack.localOcticons" data-octicon-id="dash-color-fg-muted">
              <svg height="16" class="octicon octicon-dash color-fg-muted" viewBox="0 0 16 16" version="1.1" width="16" aria-hidden="true"><path d="M2 7.75A.75.75 0 0 1 2.75 7h10a.75.75 0 0 1 0 1.5h-10A.75.75 0 0 1 2 7.75Z"></path></svg>
            </div>
            <div data-targets="command-palette-page-stack.localOcticons" data-octicon-id="file-color-fg-muted">
              <svg height="16" class="octicon octicon-file color-fg-muted" viewBox="0 0 16 16" version="1.1" width="16" aria-hidden="true"><path d="M2 1.75C2 .784 2.784 0 3.75 0h6.586c.464 0 .909.184 1.237.513l2.914 2.914c.329.328.513.773.513 1.237v9.586A1.75 1.75 0 0 1 13.25 16h-9.5A1.75 1.75 0 0 1 2 14.25Zm1.75-.25a.25.25 0 0 0-.25.25v12.5c0 .138.112.25.25.25h9.5a.25.25 0 0 0 .25-.25V6h-2.75A1.75 1.75 0 0 1 9 4.25V1.5Zm6.75.062V4.25c0 .138.112.25.25.25h2.688l-.011-.013-2.914-2.914-.013-.011Z"></path></svg>
            </div>
            <div data-targets="command-palette-page-stack.localOcticons" data-octicon-id="gear-color-fg-muted">
              <svg height="16" class="octicon octicon-gear color-fg-muted" viewBox="0 0 16 16" version="1.1" width="16" aria-hidden="true"><path d="M8 0a8.2 8.2 0 0 1 .701.031C9.444.095 9.99.645 10.16 1.29l.288 1.107c.018.066.079.158.212.224.231.114.454.243.668.386.123.082.233.09.299.071l1.103-.303c.644-.176 1.392.021 1.82.63.27.385.506.792.704 1.218.315.675.111 1.422-.364 1.891l-.814.806c-.049.048-.098.147-.088.294.016.257.016.515 0 .772-.01.147.038.246.088.294l.814.806c.475.469.679 1.216.364 1.891a7.977 7.977 0 0 1-.704 1.217c-.428.61-1.176.807-1.82.63l-1.102-.302c-.067-.019-.177-.011-.3.071a5.909 5.909 0 0 1-.668.386c-.133.066-.194.158-.211.224l-.29 1.106c-.168.646-.715 1.196-1.458 1.26a8.006 8.006 0 0 1-1.402 0c-.743-.064-1.289-.614-1.458-1.26l-.289-1.106c-.018-.066-.079-.158-.212-.224a5.738 5.738 0 0 1-.668-.386c-.123-.082-.233-.09-.299-.071l-1.103.303c-.644.176-1.392-.021-1.82-.63a8.12 8.12 0 0 1-.704-1.218c-.315-.675-.111-1.422.363-1.891l.815-.806c.05-.048.098-.147.088-.294a6.214 6.214 0 0 1 0-.772c.01-.147-.038-.246-.088-.294l-.815-.806C.635 6.045.431 5.298.746 4.623a7.92 7.92 0 0 1 .704-1.217c.428-.61 1.176-.807 1.82-.63l1.102.302c.067.019.177.011.3-.071.214-.143.437-.272.668-.386.133-.066.194-.158.211-.224l.29-1.106C6.009.645 6.556.095 7.299.03 7.53.01 7.764 0 8 0Zm-.571 1.525c-.036.003-.108.036-.137.146l-.289 1.105c-.147.561-.549.967-.998 1.189-.173.086-.34.183-.5.29-.417.278-.97.423-1.529.27l-1.103-.303c-.109-.03-.175.016-.195.045-.22.312-.412.644-.573.99-.014.031-.021.11.059.19l.815.806c.411.406.562.957.53 1.456a4.709 4.709 0 0 0 0 .582c.032.499-.119 1.05-.53 1.456l-.815.806c-.081.08-.073.159-.059.19.162.346.353.677.573.989.02.03.085.076.195.046l1.102-.303c.56-.153 1.113-.008 1.53.27.161.107.328.204.501.29.447.222.85.629.997 1.189l.289 1.105c.029.109.101.143.137.146a6.6 6.6 0 0 0 1.142 0c.036-.003.108-.036.137-.146l.289-1.105c.147-.561.549-.967.998-1.189.173-.086.34-.183.5-.29.417-.278.97-.423 1.529-.27l1.103.303c.109.029.175-.016.195-.045.22-.313.411-.644.573-.99.014-.031.021-.11-.059-.19l-.815-.806c-.411-.406-.562-.957-.53-1.456a4.709 4.709 0 0 0 0-.582c-.032-.499.119-1.05.53-1.456l.815-.806c.081-.08.073-.159.059-.19a6.464 6.464 0 0 0-.573-.989c-.02-.03-.085-.076-.195-.046l-1.102.303c-.56.153-1.113.008-1.53-.27a4.44 4.44 0 0 0-.501-.29c-.447-.222-.85-.629-.997-1.189l-.289-1.105c-.029-.11-.101-.143-.137-.146a6.6 6.6 0 0 0-1.142 0ZM11 8a3 3 0 1 1-6 0 3 3 0 0 1 6 0ZM9.5 8a1.5 1.5 0 1 0-3.001.001A1.5 1.5 0 0 0 9.5 8Z"></path></svg>
            </div>
            <div data-targets="command-palette-page-stack.localOcticons" data-octicon-id="lock-color-fg-muted">
              <svg height="16" class="octicon octicon-lock color-fg-muted" viewBox="0 0 16 16" version="1.1" width="16" aria-hidden="true"><path d="M4 4a4 4 0 0 1 8 0v2h.25c.966 0 1.75.784 1.75 1.75v5.5A1.75 1.75 0 0 1 12.25 15h-8.5A1.75 1.75 0 0 1 2 13.25v-5.5C2 6.784 2.784 6 3.75 6H4Zm8.25 3.5h-8.5a.25.25 0 0 0-.25.25v5.5c0 .138.112.25.25.25h8.5a.25.25 0 0 0 .25-.25v-5.5a.25.25 0 0 0-.25-.25ZM10.5 6V4a2.5 2.5 0 1 0-5 0v2Z"></path></svg>
            </div>
            <div data-targets="command-palette-page-stack.localOcticons" data-octicon-id="moon-color-fg-muted">
              <svg height="16" class="octicon octicon-moon color-fg-muted" viewBox="0 0 16 16" version="1.1" width="16" aria-hidden="true"><path d="M9.598 1.591a.749.749 0 0 1 .785-.175 7.001 7.001 0 1 1-8.967 8.967.75.75 0 0 1 .961-.96 5.5 5.5 0 0 0 7.046-7.046.75.75 0 0 1 .175-.786Zm1.616 1.945a7 7 0 0 1-7.678 7.678 5.499 5.499 0 1 0 7.678-7.678Z"></path></svg>
            </div>
            <div data-targets="command-palette-page-stack.localOcticons" data-octicon-id="person-color-fg-muted">
              <svg height="16" class="octicon octicon-person color-fg-muted" viewBox="0 0 16 16" version="1.1" width="16" aria-hidden="true"><path d="M10.561 8.073a6.005 6.005 0 0 1 3.432 5.142.75.75 0 1 1-1.498.07 4.5 4.5 0 0 0-8.99 0 .75.75 0 0 1-1.498-.07 6.004 6.004 0 0 1 3.431-5.142 3.999 3.999 0 1 1 5.123 0ZM10.5 5a2.5 2.5 0 1 0-5 0 2.5 2.5 0 0 0 5 0Z"></path></svg>
            </div>
            <div data-targets="command-palette-page-stack.localOcticons" data-octicon-id="pencil-color-fg-muted">
              <svg height="16" class="octicon octicon-pencil color-fg-muted" viewBox="0 0 16 16" version="1.1" width="16" aria-hidden="true"><path d="M11.013 1.427a1.75 1.75 0 0 1 2.474 0l1.086 1.086a1.75 1.75 0 0 1 0 2.474l-8.61 8.61c-.21.21-.47.364-.756.445l-3.251.93a.75.75 0 0 1-.927-.928l.929-3.25c.081-.286.235-.547.445-.758l8.61-8.61Zm.176 4.823L9.75 4.81l-6.286 6.287a.253.253 0 0 0-.064.108l-.558 1.953 1.953-.558a.253.253 0 0 0 .108-.064Zm1.238-3.763a.25.25 0 0 0-.354 0L10.811 3.75l1.439 1.44 1.263-1.263a.25.25 0 0 0 0-.354Z"></path></svg>
            </div>
            <div data-targets="command-palette-page-stack.localOcticons" data-octicon-id="issue-opened-open">
              <svg height="16" class="octicon octicon-issue-opened open" viewBox="0 0 16 16" version="1.1" width="16" aria-hidden="true"><path d="M8 9.5a1.5 1.5 0 1 0 0-3 1.5 1.5 0 0 0 0 3Z"></path><path d="M8 0a8 8 0 1 1 0 16A8 8 0 0 1 8 0ZM1.5 8a6.5 6.5 0 1 0 13 0 6.5 6.5 0 0 0-13 0Z"></path></svg>
            </div>
            <div data-targets="command-palette-page-stack.localOcticons" data-octicon-id="git-pull-request-draft-color-fg-muted">
              <svg height="16" class="octicon octicon-git-pull-request-draft color-fg-muted" viewBox="0 0 16 16" version="1.1" width="16" aria-hidden="true"><path d="M3.25 1A2.25 2.25 0 0 1 4 5.372v5.256a2.251 2.251 0 1 1-1.5 0V5.372A2.251 2.251 0 0 1 3.25 1Zm9.5 14a2.25 2.25 0 1 1 0-4.5 2.25 2.25 0 0 1 0 4.5ZM2.5 3.25a.75.75 0 1 0 1.5 0 .75.75 0 0 0-1.5 0ZM3.25 12a.75.75 0 1 0 0 1.5.75.75 0 0 0 0-1.5Zm9.5 0a.75.75 0 1 0 0 1.5.75.75 0 0 0 0-1.5ZM14 7.5a1.25 1.25 0 1 1-2.5 0 1.25 1.25 0 0 1 2.5 0Zm0-4.25a1.25 1.25 0 1 1-2.5 0 1.25 1.25 0 0 1 2.5 0Z"></path></svg>
            </div>
            <div data-targets="command-palette-page-stack.localOcticons" data-octicon-id="search-color-fg-muted">
              <svg height="16" class="octicon octicon-search color-fg-muted" viewBox="0 0 16 16" version="1.1" width="16" aria-hidden="true"><path d="M10.68 11.74a6 6 0 0 1-7.922-8.982 6 6 0 0 1 8.982 7.922l3.04 3.04a.749.749 0 0 1-.326 1.275.749.749 0 0 1-.734-.215ZM11.5 7a4.499 4.499 0 1 0-8.997 0A4.499 4.499 0 0 0 11.5 7Z"></path></svg>
            </div>
            <div data-targets="command-palette-page-stack.localOcticons" data-octicon-id="sun-color-fg-muted">
              <svg height="16" class="octicon octicon-sun color-fg-muted" viewBox="0 0 16 16" version="1.1" width="16" aria-hidden="true"><path d="M8 12a4 4 0 1 1 0-8 4 4 0 0 1 0 8Zm0-1.5a2.5 2.5 0 1 0 0-5 2.5 2.5 0 0 0 0 5Zm5.657-8.157a.75.75 0 0 1 0 1.061l-1.061 1.06a.749.749 0 0 1-1.275-.326.749.749 0 0 1 .215-.734l1.06-1.06a.75.75 0 0 1 1.06 0Zm-9.193 9.193a.75.75 0 0 1 0 1.06l-1.06 1.061a.75.75 0 1 1-1.061-1.06l1.06-1.061a.75.75 0 0 1 1.061 0ZM8 0a.75.75 0 0 1 .75.75v1.5a.75.75 0 0 1-1.5 0V.75A.75.75 0 0 1 8 0ZM3 8a.75.75 0 0 1-.75.75H.75a.75.75 0 0 1 0-1.5h1.5A.75.75 0 0 1 3 8Zm13 0a.75.75 0 0 1-.75.75h-1.5a.75.75 0 0 1 0-1.5h1.5A.75.75 0 0 1 16 8Zm-8 5a.75.75 0 0 1 .75.75v1.5a.75.75 0 0 1-1.5 0v-1.5A.75.75 0 0 1 8 13Zm3.536-1.464a.75.75 0 0 1 1.06 0l1.061 1.06a.75.75 0 0 1-1.06 1.061l-1.061-1.06a.75.75 0 0 1 0-1.061ZM2.343 2.343a.75.75 0 0 1 1.061 0l1.06 1.061a.751.751 0 0 1-.018 1.042.751.751 0 0 1-1.042.018l-1.06-1.06a.75.75 0 0 1 0-1.06Z"></path></svg>
            </div>
            <div data-targets="command-palette-page-stack.localOcticons" data-octicon-id="sync-color-fg-muted">
              <svg height="16" class="octicon octicon-sync color-fg-muted" viewBox="0 0 16 16" version="1.1" width="16" aria-hidden="true"><path d="M1.705 8.005a.75.75 0 0 1 .834.656 5.5 5.5 0 0 0 9.592 2.97l-1.204-1.204a.25.25 0 0 1 .177-.427h3.646a.25.25 0 0 1 .25.25v3.646a.25.25 0 0 1-.427.177l-1.38-1.38A7.002 7.002 0 0 1 1.05 8.84a.75.75 0 0 1 .656-.834ZM8 2.5a5.487 5.487 0 0 0-4.131 1.869l1.204 1.204A.25.25 0 0 1 4.896 6H1.25A.25.25 0 0 1 1 5.75V2.104a.25.25 0 0 1 .427-.177l1.38 1.38A7.002 7.002 0 0 1 14.95 7.16a.75.75 0 0 1-1.49.178A5.5 5.5 0 0 0 8 2.5Z"></path></svg>
            </div>
            <div data-targets="command-palette-page-stack.localOcticons" data-octicon-id="trash-color-fg-muted">
              <svg height="16" class="octicon octicon-trash color-fg-muted" viewBox="0 0 16 16" version="1.1" width="16" aria-hidden="true"><path d="M11 1.75V3h2.25a.75.75 0 0 1 0 1.5H2.75a.75.75 0 0 1 0-1.5H5V1.75C5 .784 5.784 0 6.75 0h2.5C10.216 0 11 .784 11 1.75ZM4.496 6.675l.66 6.6a.25.25 0 0 0 .249.225h5.19a.25.25 0 0 0 .249-.225l.66-6.6a.75.75 0 0 1 1.492.149l-.66 6.6A1.748 1.748 0 0 1 10.595 15h-5.19a1.75 1.75 0 0 1-1.741-1.575l-.66-6.6a.75.75 0 1 1 1.492-.15ZM6.5 1.75V3h3V1.75a.25.25 0 0 0-.25-.25h-2.5a.25.25 0 0 0-.25.25Z"></path></svg>
            </div>
            <div data-targets="command-palette-page-stack.localOcticons" data-octicon-id="key-color-fg-muted">
              <svg height="16" class="octicon octicon-key color-fg-muted" viewBox="0 0 16 16" version="1.1" width="16" aria-hidden="true"><path d="M10.5 0a5.499 5.499 0 1 1-1.288 10.848l-.932.932a.749.749 0 0 1-.53.22H7v.75a.749.749 0 0 1-.22.53l-.5.5a.749.749 0 0 1-.53.22H5v.75a.749.749 0 0 1-.22.53l-.5.5a.749.749 0 0 1-.53.22h-2A1.75 1.75 0 0 1 0 14.25v-2c0-.199.079-.389.22-.53l4.932-4.932A5.5 5.5 0 0 1 10.5 0Zm-4 5.5c-.001.431.069.86.205 1.269a.75.75 0 0 1-.181.768L1.5 12.56v1.69c0 .138.112.25.25.25h1.69l.06-.06v-1.19a.75.75 0 0 1 .75-.75h1.19l.06-.06v-1.19a.75.75 0 0 1 .75-.75h1.19l1.023-1.025a.75.75 0 0 1 .768-.18A4 4 0 1 0 6.5 5.5ZM11 6a1 1 0 1 1 0-2 1 1 0 0 1 0 2Z"></path></svg>
            </div>
            <div data-targets="command-palette-page-stack.localOcticons" data-octicon-id="comment-discussion-color-fg-muted">
              <svg height="16" class="octicon octicon-comment-discussion color-fg-muted" viewBox="0 0 16 16" version="1.1" width="16" aria-hidden="true"><path d="M1.75 1h8.5c.966 0 1.75.784 1.75 1.75v5.5A1.75 1.75 0 0 1 10.25 10H7.061l-2.574 2.573A1.458 1.458 0 0 1 2 11.543V10h-.25A1.75 1.75 0 0 1 0 8.25v-5.5C0 1.784.784 1 1.75 1ZM1.5 2.75v5.5c0 .138.112.25.25.25h1a.75.75 0 0 1 .75.75v2.19l2.72-2.72a.749.749 0 0 1 .53-.22h3.5a.25.25 0 0 0 .25-.25v-5.5a.25.25 0 0 0-.25-.25h-8.5a.25.25 0 0 0-.25.25Zm13 2a.25.25 0 0 0-.25-.25h-.5a.75.75 0 0 1 0-1.5h.5c.966 0 1.75.784 1.75 1.75v5.5A1.75 1.75 0 0 1 14.25 12H14v1.543a1.458 1.458 0 0 1-2.487 1.03L9.22 12.28a.749.749 0 0 1 .326-1.275.749.749 0 0 1 .734.215l2.22 2.22v-2.19a.75.75 0 0 1 .75-.75h1a.25.25 0 0 0 .25-.25Z"></path></svg>
            </div>
            <div data-targets="command-palette-page-stack.localOcticons" data-octicon-id="bell-color-fg-muted">
              <svg height="16" class="octicon octicon-bell color-fg-muted" viewBox="0 0 16 16" version="1.1" width="16" aria-hidden="true"><path d="M8 16a2 2 0 0 0 1.985-1.75c.017-.137-.097-.25-.235-.25h-3.5c-.138 0-.252.113-.235.25A2 2 0 0 0 8 16ZM3 5a5 5 0 0 1 10 0v2.947c0 .05.015.098.042.139l1.703 2.555A1.519 1.519 0 0 1 13.482 13H2.518a1.516 1.516 0 0 1-1.263-2.36l1.703-2.554A.255.255 0 0 0 3 7.947Zm5-3.5A3.5 3.5 0 0 0 4.5 5v2.947c0 .346-.102.683-.294.97l-1.703 2.556a.017.017 0 0 0-.003.01l.001.006c0 .002.002.004.004.006l.006.004.007.001h10.964l.007-.001.006-.004.004-.006.001-.007a.017.017 0 0 0-.003-.01l-1.703-2.554a1.745 1.745 0 0 1-.294-.97V5A3.5 3.5 0 0 0 8 1.5Z"></path></svg>
            </div>
            <div data-targets="command-palette-page-stack.localOcticons" data-octicon-id="bell-slash-color-fg-muted">
              <svg height="16" class="octicon octicon-bell-slash color-fg-muted" viewBox="0 0 16 16" version="1.1" width="16" aria-hidden="true"><path d="m4.182 4.31.016.011 10.104 7.316.013.01 1.375.996a.75.75 0 1 1-.88 1.214L13.626 13H2.518a1.516 1.516 0 0 1-1.263-2.36l1.703-2.554A.255.255 0 0 0 3 7.947V5.305L.31 3.357a.75.75 0 1 1 .88-1.214Zm7.373 7.19L4.5 6.391v1.556c0 .346-.102.683-.294.97l-1.703 2.556a.017.017 0 0 0-.003.01c0 .005.002.009.005.012l.006.004.007.001ZM8 1.5c-.997 0-1.895.416-2.534 1.086A.75.75 0 1 1 4.38 1.55 5 5 0 0 1 13 5v2.373a.75.75 0 0 1-1.5 0V5A3.5 3.5 0 0 0 8 1.5ZM8 16a2 2 0 0 1-1.985-1.75c-.017-.137.097-.25.235-.25h3.5c.138 0 .252.113.235.25A2 2 0 0 1 8 16Z"></path></svg>
            </div>
            <div data-targets="command-palette-page-stack.localOcticons" data-octicon-id="paintbrush-color-fg-muted">
              <svg height="16" class="octicon octicon-paintbrush color-fg-muted" viewBox="0 0 16 16" version="1.1" width="16" aria-hidden="true"><path d="M11.134 1.535c.7-.509 1.416-.942 2.076-1.155.649-.21 1.463-.267 2.069.34.603.601.568 1.411.368 2.07-.202.668-.624 1.39-1.125 2.096-1.011 1.424-2.496 2.987-3.775 4.249-1.098 1.084-2.132 1.839-3.04 2.3a3.744 3.744 0 0 1-1.055 3.217c-.431.431-1.065.691-1.657.861-.614.177-1.294.287-1.914.357A21.151 21.151 0 0 1 .797 16H.743l.007-.75H.749L.742 16a.75.75 0 0 1-.743-.742l.743-.008-.742.007v-.054a21.25 21.25 0 0 1 .13-2.284c.067-.647.187-1.287.358-1.914.17-.591.43-1.226.86-1.657a3.746 3.746 0 0 1 3.227-1.054c.466-.893 1.225-1.907 2.314-2.982 1.271-1.255 2.833-2.75 4.245-3.777ZM1.62 13.089c-.051.464-.086.929-.104 1.395.466-.018.932-.053 1.396-.104a10.511 10.511 0 0 0 1.668-.309c.526-.151.856-.325 1.011-.48a2.25 2.25 0 1 0-3.182-3.182c-.155.155-.329.485-.48 1.01a10.515 10.515 0 0 0-.309 1.67Zm10.396-10.34c-1.224.89-2.605 2.189-3.822 3.384l1.718 1.718c1.21-1.205 2.51-2.597 3.387-3.833.47-.662.78-1.227.912-1.662.134-.444.032-.551.009-.575h-.001V1.78c-.014-.014-.113-.113-.548.027-.432.14-.995.462-1.655.942Zm-4.832 7.266-.001.001a9.859 9.859 0 0 0 1.63-1.142L7.155 7.216a9.7 9.7 0 0 0-1.161 1.607c.482.302.889.71 1.19 1.192Z"></path></svg>
            </div>

            <command-palette-item-group
              data-group-id="top"
              data-group-title="Top result"
              data-group-hint=""
              data-group-limits="{}"
              data-default-priority="0"
            >
            </command-palette-item-group>
            <command-palette-item-group
              data-group-id="commands"
              data-group-title="Commands"
              data-group-hint="Type &gt; to filter"
              data-group-limits="{&quot;static_items_page&quot;:50,&quot;issue&quot;:50,&quot;pull_request&quot;:50,&quot;discussion&quot;:50}"
              data-default-priority="1"
            >
            </command-palette-item-group>
            <command-palette-item-group
              data-group-id="global_commands"
              data-group-title="Global Commands"
              data-group-hint="Type &gt; to filter"
              data-group-limits="{&quot;issue&quot;:0,&quot;pull_request&quot;:0,&quot;discussion&quot;:0}"
              data-default-priority="2"
            >
            </command-palette-item-group>
            <command-palette-item-group
              data-group-id="this_page"
              data-group-title="This Page"
              data-group-hint=""
              data-group-limits="{}"
              data-default-priority="3"
            >
            </command-palette-item-group>
            <command-palette-item-group
              data-group-id="files"
              data-group-title="Files"
              data-group-hint=""
              data-group-limits="{}"
              data-default-priority="4"
            >
            </command-palette-item-group>
            <command-palette-item-group
              data-group-id="default"
              data-group-title="Default"
              data-group-hint=""
              data-group-limits="{&quot;static_items_page&quot;:50}"
              data-default-priority="5"
            >
            </command-palette-item-group>
            <command-palette-item-group
              data-group-id="pages"
              data-group-title="Pages"
              data-group-hint=""
              data-group-limits="{&quot;repository&quot;:10}"
              data-default-priority="6"
            >
            </command-palette-item-group>
            <command-palette-item-group
              data-group-id="access_policies"
              data-group-title="Access Policies"
              data-group-hint=""
              data-group-limits="{}"
              data-default-priority="7"
            >
            </command-palette-item-group>
            <command-palette-item-group
              data-group-id="organizations"
              data-group-title="Organizations"
              data-group-hint=""
              data-group-limits="{}"
              data-default-priority="8"
            >
            </command-palette-item-group>
            <command-palette-item-group
              data-group-id="repositories"
              data-group-title="Repositories"
              data-group-hint=""
              data-group-limits="{}"
              data-default-priority="9"
            >
            </command-palette-item-group>
            <command-palette-item-group
              data-group-id="references"
              data-group-title="Issues, pull requests, and discussions"
              data-group-hint="Type # to filter"
              data-group-limits="{}"
              data-default-priority="10"
            >
            </command-palette-item-group>
            <command-palette-item-group
              data-group-id="teams"
              data-group-title="Teams"
              data-group-hint=""
              data-group-limits="{}"
              data-default-priority="11"
            >
            </command-palette-item-group>
            <command-palette-item-group
              data-group-id="users"
              data-group-title="Users"
              data-group-hint=""
              data-group-limits="{}"
              data-default-priority="12"
            >
            </command-palette-item-group>
            <command-palette-item-group
              data-group-id="memex_projects"
              data-group-title="Projects"
              data-group-hint=""
              data-group-limits="{}"
              data-default-priority="13"
            >
            </command-palette-item-group>
            <command-palette-item-group
              data-group-id="projects"
              data-group-title="Projects (classic)"
              data-group-hint=""
              data-group-limits="{}"
              data-default-priority="14"
            >
            </command-palette-item-group>
            <command-palette-item-group
              data-group-id="footer"
              data-group-title="Footer"
              data-group-hint=""
              data-group-limits="{}"
              data-default-priority="15"
            >
            </command-palette-item-group>
            <command-palette-item-group
              data-group-id="modes_help"
              data-group-title="Modes"
              data-group-hint=""
              data-group-limits="{}"
              data-default-priority="16"
            >
            </command-palette-item-group>
            <command-palette-item-group
              data-group-id="filters_help"
              data-group-title="Use filters in issues, pull requests, discussions, and projects"
              data-group-hint=""
              data-group-limits="{}"
              data-default-priority="17"
            >
            </command-palette-item-group>

            <command-palette-page
              data-page-title="MarcelloLM"
              data-scope-id="U_kgDOBljSnQ"
              data-scope-type="owner"
              data-targets="command-palette-page-stack.defaultPages"
              hidden
            >
            </command-palette-page>
            <command-palette-page
              data-page-title="Regress-o-Linear"
              data-scope-id="R_kgDOJO1ybA"
              data-scope-type="repository"
              data-targets="command-palette-page-stack.defaultPages"
              hidden
            >
            </command-palette-page>
        </div>

        <command-palette-page data-is-root>
        </command-palette-page>
          <command-palette-page
            data-page-title="MarcelloLM"
            data-scope-id="U_kgDOBljSnQ"
            data-scope-type="owner"
          >
          </command-palette-page>
          <command-palette-page
            data-page-title="Regress-o-Linear"
            data-scope-id="R_kgDOJO1ybA"
            data-scope-type="repository"
          >
          </command-palette-page>
      </command-palette-page-stack>

      <server-defined-provider data-type="search-links" data-targets="command-palette.serverDefinedProviderElements"></server-defined-provider>
      <server-defined-provider data-type="help" data-targets="command-palette.serverDefinedProviderElements">
          <command-palette-help
            data-group="modes_help"
              data-prefix="#"
              data-scope-types="[&quot;&quot;]"
          >
            <span data-target="command-palette-help.titleElement">Search for <strong>issues</strong> and <strong>pull requests</strong></span>
              <span data-target="command-palette-help.hintElement">
                <kbd class="hx_kbd">#</kbd>
              </span>
          </command-palette-help>
          <command-palette-help
            data-group="modes_help"
              data-prefix="#"
              data-scope-types="[&quot;owner&quot;,&quot;repository&quot;]"
          >
            <span data-target="command-palette-help.titleElement">Search for <strong>issues, pull requests, discussions,</strong> and <strong>projects</strong></span>
              <span data-target="command-palette-help.hintElement">
                <kbd class="hx_kbd">#</kbd>
              </span>
          </command-palette-help>
          <command-palette-help
            data-group="modes_help"
              data-prefix="@"
              data-scope-types="[&quot;&quot;]"
          >
            <span data-target="command-palette-help.titleElement">Search for <strong>organizations, repositories,</strong> and <strong>users</strong></span>
              <span data-target="command-palette-help.hintElement">
                <kbd class="hx_kbd">@</kbd>
              </span>
          </command-palette-help>
          <command-palette-help
            data-group="modes_help"
              data-prefix="!"
              data-scope-types="[&quot;owner&quot;,&quot;repository&quot;]"
          >
            <span data-target="command-palette-help.titleElement">Search for <strong>projects</strong></span>
              <span data-target="command-palette-help.hintElement">
                <kbd class="hx_kbd">!</kbd>
              </span>
          </command-palette-help>
          <command-palette-help
            data-group="modes_help"
              data-prefix="/"
              data-scope-types="[&quot;repository&quot;]"
          >
            <span data-target="command-palette-help.titleElement">Search for <strong>files</strong></span>
              <span data-target="command-palette-help.hintElement">
                <kbd class="hx_kbd">/</kbd>
              </span>
          </command-palette-help>
          <command-palette-help
            data-group="modes_help"
              data-prefix="&gt;"
          >
            <span data-target="command-palette-help.titleElement">Activate <strong>command mode</strong></span>
              <span data-target="command-palette-help.hintElement">
                <kbd class="hx_kbd">&gt;</kbd>
              </span>
          </command-palette-help>
          <command-palette-help
            data-group="filters_help"
              data-prefix="# author:@me"
          >
            <span data-target="command-palette-help.titleElement">Search your issues, pull requests, and discussions</span>
              <span data-target="command-palette-help.hintElement">
                <kbd class="hx_kbd"># author:@me</kbd>
              </span>
          </command-palette-help>
          <command-palette-help
            data-group="filters_help"
              data-prefix="# author:@me"
          >
            <span data-target="command-palette-help.titleElement">Search your issues, pull requests, and discussions</span>
              <span data-target="command-palette-help.hintElement">
                <kbd class="hx_kbd"># author:@me</kbd>
              </span>
          </command-palette-help>
          <command-palette-help
            data-group="filters_help"
              data-prefix="# is:pr"
          >
            <span data-target="command-palette-help.titleElement">Filter to pull requests</span>
              <span data-target="command-palette-help.hintElement">
                <kbd class="hx_kbd"># is:pr</kbd>
              </span>
          </command-palette-help>
          <command-palette-help
            data-group="filters_help"
              data-prefix="# is:issue"
          >
            <span data-target="command-palette-help.titleElement">Filter to issues</span>
              <span data-target="command-palette-help.hintElement">
                <kbd class="hx_kbd"># is:issue</kbd>
              </span>
          </command-palette-help>
          <command-palette-help
            data-group="filters_help"
              data-prefix="# is:discussion"
              data-scope-types="[&quot;owner&quot;,&quot;repository&quot;]"
          >
            <span data-target="command-palette-help.titleElement">Filter to discussions</span>
              <span data-target="command-palette-help.hintElement">
                <kbd class="hx_kbd"># is:discussion</kbd>
              </span>
          </command-palette-help>
          <command-palette-help
            data-group="filters_help"
              data-prefix="# is:project"
              data-scope-types="[&quot;owner&quot;,&quot;repository&quot;]"
          >
            <span data-target="command-palette-help.titleElement">Filter to projects</span>
              <span data-target="command-palette-help.hintElement">
                <kbd class="hx_kbd"># is:project</kbd>
              </span>
          </command-palette-help>
          <command-palette-help
            data-group="filters_help"
              data-prefix="# is:open"
          >
            <span data-target="command-palette-help.titleElement">Filter to open issues, pull requests, and discussions</span>
              <span data-target="command-palette-help.hintElement">
                <kbd class="hx_kbd"># is:open</kbd>
              </span>
          </command-palette-help>
      </server-defined-provider>

        <server-defined-provider
          data-type="commands"
          data-fetch-debounce="0"
            data-src="/command_palette/commands"
          data-supported-modes="[]"
            data-supports-commands
          
          data-targets="command-palette.serverDefinedProviderElements"
          ></server-defined-provider>
        <server-defined-provider
          data-type="prefetched"
          data-fetch-debounce="0"
            data-src="/command_palette/jump_to_page_navigation"
          data-supported-modes="[&quot;&quot;]"
            data-supported-scope-types="[&quot;&quot;,&quot;owner&quot;,&quot;repository&quot;]"
          
          data-targets="command-palette.serverDefinedProviderElements"
          ></server-defined-provider>
        <server-defined-provider
          data-type="remote"
          data-fetch-debounce="200"
            data-src="/command_palette/issues"
          data-supported-modes="[&quot;#&quot;,&quot;#&quot;]"
            data-supported-scope-types="[&quot;owner&quot;,&quot;repository&quot;,&quot;&quot;]"
          
          data-targets="command-palette.serverDefinedProviderElements"
          ></server-defined-provider>
        <server-defined-provider
          data-type="remote"
          data-fetch-debounce="200"
            data-src="/command_palette/jump_to"
          data-supported-modes="[&quot;@&quot;,&quot;@&quot;]"
            data-supported-scope-types="[&quot;&quot;,&quot;owner&quot;]"
          
          data-targets="command-palette.serverDefinedProviderElements"
          ></server-defined-provider>
        <server-defined-provider
          data-type="remote"
          data-fetch-debounce="200"
            data-src="/command_palette/jump_to_members_only"
          data-supported-modes="[&quot;@&quot;,&quot;@&quot;,&quot;&quot;,&quot;&quot;]"
            data-supported-scope-types="[&quot;&quot;,&quot;owner&quot;]"
          
          data-targets="command-palette.serverDefinedProviderElements"
          ></server-defined-provider>
        <server-defined-provider
          data-type="prefetched"
          data-fetch-debounce="0"
            data-src="/command_palette/jump_to_members_only_prefetched"
          data-supported-modes="[&quot;@&quot;,&quot;@&quot;,&quot;&quot;,&quot;&quot;]"
            data-supported-scope-types="[&quot;&quot;,&quot;owner&quot;]"
          
          data-targets="command-palette.serverDefinedProviderElements"
          ></server-defined-provider>
        <server-defined-provider
          data-type="files"
          data-fetch-debounce="0"
            data-src="/command_palette/files"
          data-supported-modes="[&quot;/&quot;]"
            data-supported-scope-types="[&quot;repository&quot;]"
          
          data-targets="command-palette.serverDefinedProviderElements"
          ></server-defined-provider>
        <server-defined-provider
          data-type="remote"
          data-fetch-debounce="200"
            data-src="/command_palette/discussions"
          data-supported-modes="[&quot;#&quot;]"
            data-supported-scope-types="[&quot;owner&quot;,&quot;repository&quot;]"
          
          data-targets="command-palette.serverDefinedProviderElements"
          ></server-defined-provider>
        <server-defined-provider
          data-type="remote"
          data-fetch-debounce="200"
            data-src="/command_palette/projects"
          data-supported-modes="[&quot;#&quot;,&quot;!&quot;]"
            data-supported-scope-types="[&quot;owner&quot;,&quot;repository&quot;]"
          
          data-targets="command-palette.serverDefinedProviderElements"
          ></server-defined-provider>
        <server-defined-provider
          data-type="prefetched"
          data-fetch-debounce="0"
            data-src="/command_palette/recent_issues"
          data-supported-modes="[&quot;#&quot;,&quot;#&quot;]"
            data-supported-scope-types="[&quot;owner&quot;,&quot;repository&quot;,&quot;&quot;]"
          
          data-targets="command-palette.serverDefinedProviderElements"
          ></server-defined-provider>
        <server-defined-provider
          data-type="remote"
          data-fetch-debounce="200"
            data-src="/command_palette/teams"
          data-supported-modes="[&quot;@&quot;,&quot;&quot;]"
            data-supported-scope-types="[&quot;owner&quot;]"
          
          data-targets="command-palette.serverDefinedProviderElements"
          ></server-defined-provider>
        <server-defined-provider
          data-type="remote"
          data-fetch-debounce="200"
            data-src="/command_palette/name_with_owner_repository"
          data-supported-modes="[&quot;@&quot;,&quot;@&quot;,&quot;&quot;,&quot;&quot;]"
            data-supported-scope-types="[&quot;&quot;,&quot;owner&quot;]"
          
          data-targets="command-palette.serverDefinedProviderElements"
          ></server-defined-provider>
    </command-palette>
  </details-dialog>
</details>

<div class="position-fixed bottom-0 left-0 ml-5 mb-5 js-command-palette-toasts" style="z-index: 1000">
  <div hidden class="Toast Toast--loading">
    <span class="Toast-icon">
      <svg class="Toast--spinner" viewBox="0 0 32 32" width="18" height="18" aria-hidden="true">
        <path
          fill="#959da5"
          d="M16 0 A16 16 0 0 0 16 32 A16 16 0 0 0 16 0 M16 4 A12 12 0 0 1 16 28 A12 12 0 0 1 16 4"
        />
        <path fill="#ffffff" d="M16 0 A16 16 0 0 1 32 16 L28 16 A12 12 0 0 0 16 4z"></path>
      </svg>
    </span>
    <span class="Toast-content"></span>
  </div>

  <div hidden class="anim-fade-in fast Toast Toast--error">
    <span class="Toast-icon">
      <svg aria-hidden="true" height="16" viewBox="0 0 16 16" version="1.1" width="16" data-view-component="true" class="octicon octicon-stop">
    <path d="M4.47.22A.749.749 0 0 1 5 0h6c.199 0 .389.079.53.22l4.25 4.25c.141.14.22.331.22.53v6a.749.749 0 0 1-.22.53l-4.25 4.25A.749.749 0 0 1 11 16H5a.749.749 0 0 1-.53-.22L.22 11.53A.749.749 0 0 1 0 11V5c0-.199.079-.389.22-.53Zm.84 1.28L1.5 5.31v5.38l3.81 3.81h5.38l3.81-3.81V5.31L10.69 1.5ZM8 4a.75.75 0 0 1 .75.75v3.5a.75.75 0 0 1-1.5 0v-3.5A.75.75 0 0 1 8 4Zm0 8a1 1 0 1 1 0-2 1 1 0 0 1 0 2Z"></path>
</svg>
    </span>
    <span class="Toast-content"></span>
  </div>

  <div hidden class="anim-fade-in fast Toast Toast--warning">
    <span class="Toast-icon">
      <svg aria-hidden="true" height="16" viewBox="0 0 16 16" version="1.1" width="16" data-view-component="true" class="octicon octicon-alert">
    <path d="M6.457 1.047c.659-1.234 2.427-1.234 3.086 0l6.082 11.378A1.75 1.75 0 0 1 14.082 15H1.918a1.75 1.75 0 0 1-1.543-2.575Zm1.763.707a.25.25 0 0 0-.44 0L1.698 13.132a.25.25 0 0 0 .22.368h12.164a.25.25 0 0 0 .22-.368Zm.53 3.996v2.5a.75.75 0 0 1-1.5 0v-2.5a.75.75 0 0 1 1.5 0ZM9 11a1 1 0 1 1-2 0 1 1 0 0 1 2 0Z"></path>
</svg>
    </span>
    <span class="Toast-content"></span>
  </div>


  <div hidden class="anim-fade-in fast Toast Toast--success">
    <span class="Toast-icon">
      <svg aria-hidden="true" height="16" viewBox="0 0 16 16" version="1.1" width="16" data-view-component="true" class="octicon octicon-check">
    <path d="M13.78 4.22a.75.75 0 0 1 0 1.06l-7.25 7.25a.75.75 0 0 1-1.06 0L2.22 9.28a.751.751 0 0 1 .018-1.042.751.751 0 0 1 1.042-.018L6 10.94l6.72-6.72a.75.75 0 0 1 1.06 0Z"></path>
</svg>
    </span>
    <span class="Toast-content"></span>
  </div>

  <div hidden class="anim-fade-in fast Toast">
    <span class="Toast-icon">
      <svg aria-hidden="true" height="16" viewBox="0 0 16 16" version="1.1" width="16" data-view-component="true" class="octicon octicon-info">
    <path d="M0 8a8 8 0 1 1 16 0A8 8 0 0 1 0 8Zm8-6.5a6.5 6.5 0 1 0 0 13 6.5 6.5 0 0 0 0-13ZM6.5 7.75A.75.75 0 0 1 7.25 7h1a.75.75 0 0 1 .75.75v2.75h.25a.75.75 0 0 1 0 1.5h-2a.75.75 0 0 1 0-1.5h.25v-2h-.25a.75.75 0 0 1-.75-.75ZM8 6a1 1 0 1 1 0-2 1 1 0 0 1 0 2Z"></path>
</svg>
    </span>
    <span class="Toast-content"></span>
  </div>
</div>


  <div
    class="application-main "
    data-commit-hovercards-enabled
    data-discussion-hovercards-enabled
    data-issue-and-pr-hovercards-enabled
  >
        <div itemscope itemtype="http://schema.org/SoftwareSourceCode" class="">
    <main id="js-repo-pjax-container" >
      
      






  
  <div id="repository-container-header"  class="pt-3 hide-full-screen" style="background-color: var(--color-page-header-bg);" data-turbo-replace>

      <div class="d-flex flex-wrap flex-justify-end mb-3  px-3 px-md-4 px-lg-5" style="gap: 1rem;">

        <div class="flex-auto min-width-0 width-fit mr-3">
            
  <div class=" d-flex flex-wrap flex-items-center wb-break-word f3 text-normal">
      <svg aria-hidden="true" height="16" viewBox="0 0 16 16" version="1.1" width="16" data-view-component="true" class="octicon octicon-repo color-fg-muted mr-2">
    <path d="M2 2.5A2.5 2.5 0 0 1 4.5 0h8.75a.75.75 0 0 1 .75.75v12.5a.75.75 0 0 1-.75.75h-2.5a.75.75 0 0 1 0-1.5h1.75v-2h-8a1 1 0 0 0-.714 1.7.75.75 0 1 1-1.072 1.05A2.495 2.495 0 0 1 2 11.5Zm10.5-1h-8a1 1 0 0 0-1 1v6.708A2.486 2.486 0 0 1 4.5 9h8ZM5 12.25a.25.25 0 0 1 .25-.25h3.5a.25.25 0 0 1 .25.25v3.25a.25.25 0 0 1-.4.2l-1.45-1.087a.249.249 0 0 0-.3 0L5.4 15.7a.25.25 0 0 1-.4-.2Z"></path>
</svg>
    
    <span class="author flex-self-stretch" itemprop="author">
      <a class="url fn" rel="author" data-hovercard-type="user" data-hovercard-url="/users/MarcelloLM/hovercard" data-octo-click="hovercard-link-click" data-octo-dimensions="link_type:self" href="/MarcelloLM">
        MarcelloLM
</a>    </span>
    <span class="mx-1 flex-self-stretch color-fg-muted">/</span>
    <strong itemprop="name" class="mr-2 flex-self-stretch">
      <a data-pjax="#repo-content-pjax-container" data-turbo-frame="repo-content-turbo-frame" href="/MarcelloLM/Regress-o-Linear">Regress-o-Linear</a>
    </strong>

    <span></span><span class="Label Label--secondary v-align-middle mr-1">Public</span>
  </div>


        </div>

        <div id="repository-details-container" data-turbo-replace>
            <ul class="pagehead-actions flex-shrink-0 d-none d-md-inline" style="padding: 2px 0;">
    
      <li>
  <div class="float-left" >
    <!-- '"` --><!-- </textarea></xmp> --></option></form><form data-turbo="false" action="/MarcelloLM/Regress-o-Linear/profile_pin" accept-charset="UTF-8" method="post"><input type="hidden" name="authenticity_token" value="rZFwnZAOVifGRxJwVoTYU4NnRfoD1WZ5jhZI1jlmo8s5UzHFi5dScGn7kUfcKoRsBWIAtGO1NELxgDdA4oAFbw" autocomplete="off" />
        <button title="Pin this repository to your profile" type="submit" data-view-component="true" class="btn-sm btn">    <svg aria-hidden="true" height="16" viewBox="0 0 16 16" version="1.1" width="16" data-view-component="true" class="octicon octicon-pin mr-2">
    <path d="M4.456.734a1.75 1.75 0 0 1 2.826.504l.613 1.327a3.08 3.08 0 0 0 2.084 1.707l2.454.584c1.332.317 1.8 1.972.832 2.94L11.06 10l3.72 3.72a.748.748 0 0 1-.332 1.265.75.75 0 0 1-.729-.205L10 11.06l-2.204 2.205c-.968.968-2.623.5-2.94-.832l-.584-2.454a3.08 3.08 0 0 0-1.707-2.084l-1.327-.613a1.75 1.75 0 0 1-.504-2.826ZM5.92 1.866a.253.253 0 0 0-.183-.142.251.251 0 0 0-.221.07L1.794 5.516a.251.251 0 0 0-.07.221c.015.08.068.149.142.183l1.328.613A4.582 4.582 0 0 1 5.73 9.63l.584 2.454a.251.251 0 0 0 .42.12l5.47-5.47a.25.25 0 0 0-.12-.42L9.63 5.73a4.583 4.583 0 0 1-3.098-2.537Z"></path>
</svg>Pin
</button></form>  </div>
</li>


  <li>
        <include-fragment loading="lazy" src="/notifications/619541100/watch_subscription?aria_id_prefix=repository-details&amp;button_block=false&amp;show_count=true">
    <div data-hide-on-error>
        
            <button disabled="disabled" aria-label="Watching a repository" type="button" data-view-component="true" class="tooltipped tooltipped-n Button--secondary Button--small Button">    <span class="Button-content">
        <span class="Button-visual Button-leadingVisual">
          <svg aria-hidden="true" height="16" viewBox="0 0 16 16" version="1.1" width="16" data-view-component="true" class="octicon octicon-eye">
    <path d="M8 2c1.981 0 3.671.992 4.933 2.078 1.27 1.091 2.187 2.345 2.637 3.023a1.62 1.62 0 0 1 0 1.798c-.45.678-1.367 1.932-2.637 3.023C11.67 13.008 9.981 14 8 14c-1.981 0-3.671-.992-4.933-2.078C1.797 10.83.88 9.576.43 8.898a1.62 1.62 0 0 1 0-1.798c.45-.677 1.367-1.931 2.637-3.022C4.33 2.992 6.019 2 8 2ZM1.679 7.932a.12.12 0 0 0 0 .136c.411.622 1.241 1.75 2.366 2.717C5.176 11.758 6.527 12.5 8 12.5c1.473 0 2.825-.742 3.955-1.715 1.124-.967 1.954-2.096 2.366-2.717a.12.12 0 0 0 0-.136c-.412-.621-1.242-1.75-2.366-2.717C10.824 4.242 9.473 3.5 8 3.5c-1.473 0-2.825.742-3.955 1.715-1.124.967-1.954 2.096-2.366 2.717ZM8 10a2 2 0 1 1-.001-3.999A2 2 0 0 1 8 10Z"></path>
</svg>
        </span>
      <span class="Button-label">Watch</span>
    </span>
</button>  

    </div>
    <p data-show-on-error hidden>
        
          <span class="d-flex pt-1">
            <svg aria-hidden="true" height="16" viewBox="0 0 16 16" version="1.1" width="16" data-view-component="true" class="octicon octicon-alert mr-1">
    <path d="M6.457 1.047c.659-1.234 2.427-1.234 3.086 0l6.082 11.378A1.75 1.75 0 0 1 14.082 15H1.918a1.75 1.75 0 0 1-1.543-2.575Zm1.763.707a.25.25 0 0 0-.44 0L1.698 13.132a.25.25 0 0 0 .22.368h12.164a.25.25 0 0 0 .22-.368Zm.53 3.996v2.5a.75.75 0 0 1-1.5 0v-2.5a.75.75 0 0 1 1.5 0ZM9 11a1 1 0 1 1-2 0 1 1 0 0 1 2 0Z"></path>
</svg>
            Couldn't load subscription status.&nbsp;
              <button data-retry-button="" type="button" data-view-component="true" class="Button--link Button--medium Button">    <span class="Button-content">
      <span class="Button-label">Retry</span>
    </span>
</button>  

          </span>

    </p>
  </include-fragment>
  </li>

  <li>
        <div data-view-component="true" class="d-flex">
        <div data-view-component="true" class="position-relative d-inline-block">
    <button icon="repo-forked" id="fork-button" aria-disabled="true" type="button" data-view-component="true" class="btn-sm btn BtnGroup-item border-right-0">      <svg aria-hidden="true" height="16" viewBox="0 0 16 16" version="1.1" width="16" data-view-component="true" class="octicon octicon-repo-forked mr-2">
    <path d="M5 5.372v.878c0 .414.336.75.75.75h4.5a.75.75 0 0 0 .75-.75v-.878a2.25 2.25 0 1 1 1.5 0v.878a2.25 2.25 0 0 1-2.25 2.25h-1.5v2.128a2.251 2.251 0 1 1-1.5 0V8.5h-1.5A2.25 2.25 0 0 1 3.5 6.25v-.878a2.25 2.25 0 1 1 1.5 0ZM5 3.25a.75.75 0 1 0-1.5 0 .75.75 0 0 0 1.5 0Zm6.75.75a.75.75 0 1 0 0-1.5.75.75 0 0 0 0 1.5Zm-3 8.75a.75.75 0 1 0-1.5 0 .75.75 0 0 0 1.5 0Z"></path>
</svg>Fork
        <span id="repo-network-counter" data-pjax-replace="true" data-turbo-replace="true" title="0" data-view-component="true" class="Counter">0</span>
</button>    <tool-tip id="tooltip-e1c9fad0-3414-42d9-a413-2420f2dc1477" for="fork-button" data-direction="s" data-type="description" data-view-component="true" class="sr-only position-absolute">Cannot fork because you own this repository and are not a member of any organizations.</tool-tip>
</div>
      <details group_item="true" id="my-forks-menu-619541100" data-view-component="true" class="details-reset details-overlay BtnGroup-parent d-inline-block position-relative">
              <summary aria-label="See your forks of this repository" data-view-component="true" class="btn-sm btn BtnGroup-item px-2 float-none">    <svg aria-hidden="true" height="16" viewBox="0 0 16 16" version="1.1" width="16" data-view-component="true" class="octicon octicon-triangle-down">
    <path d="m4.427 7.427 3.396 3.396a.25.25 0 0 0 .354 0l3.396-3.396A.25.25 0 0 0 11.396 7H4.604a.25.25 0 0 0-.177.427Z"></path>
</svg>
</summary>
  <details-menu
    class="SelectMenu right-0"
      src="/MarcelloLM/Regress-o-Linear/my_forks_menu_content?can_fork=false"
      
      role="menu"
      
>
    <div class="SelectMenu-modal">
        <button class="SelectMenu-closeButton position-absolute right-0 m-2" type="button" aria-label="Close menu" data-toggle-for="details-200ed0">
          <svg aria-hidden="true" height="16" viewBox="0 0 16 16" version="1.1" width="16" data-view-component="true" class="octicon octicon-x">
    <path d="M3.72 3.72a.75.75 0 0 1 1.06 0L8 6.94l3.22-3.22a.749.749 0 0 1 1.275.326.749.749 0 0 1-.215.734L9.06 8l3.22 3.22a.749.749 0 0 1-.326 1.275.749.749 0 0 1-.734-.215L8 9.06l-3.22 3.22a.751.751 0 0 1-1.042-.018.751.751 0 0 1-.018-1.042L6.94 8 3.72 4.78a.75.75 0 0 1 0-1.06Z"></path>
</svg>
        </button>
      <div
        id="filter-menu-200ed0"
        class="d-flex flex-column flex-1 overflow-hidden"
>
        <div
          class="SelectMenu-list"
          >

            <include-fragment class="SelectMenu-loading" aria-label="Loading">
              <svg role="menuitem" style="box-sizing: content-box; color: var(--color-icon-primary);" width="32" height="32" viewBox="0 0 16 16" fill="none" data-view-component="true" class="anim-rotate">
  <circle cx="8" cy="8" r="7" stroke="currentColor" stroke-opacity="0.25" stroke-width="2" vector-effect="non-scaling-stroke" />
  <path d="M15 8a7.002 7.002 0 00-7-7" stroke="currentColor" stroke-width="2" stroke-linecap="round" vector-effect="non-scaling-stroke" />
</svg>
            </include-fragment>
        </div>
        
      </div>
    </div>
  </details-menu>
</details></div>
  </li>

  <li>
        <template class="js-unstar-confirmation-dialog-template">
  <div class="Box-header">
    <h2 class="Box-title">Unstar this repository?</h2>
  </div>
  <div class="Box-body">
    <p class="mb-3">
      This will remove {{ repoNameWithOwner }} from the {{ listsWithCount }} that it's been added to.
    </p>
    <div class="form-actions">
      <!-- '"` --><!-- </textarea></xmp> --></option></form><form class="js-social-confirmation-form" data-turbo="false" action="{{ confirmUrl }}" accept-charset="UTF-8" method="post">
        <input type="hidden" name="authenticity_token" value="{{ confirmCsrfToken }}">
        <input type="hidden" name="confirm" value="true">
          <button data-close-dialog="true" type="submit" data-view-component="true" class="btn-danger btn width-full">    Unstar
</button>
</form>    </div>
  </div>
</template>

  <div data-view-component="true" class="js-toggler-container js-social-container starring-container d-flex">
    <div data-view-component="true" class="starred BtnGroup flex-1">
      <!-- '"` --><!-- </textarea></xmp> --></option></form><form class="js-social-form BtnGroup-parent flex-auto js-deferred-toggler-target" data-turbo="false" action="/MarcelloLM/Regress-o-Linear/unstar" accept-charset="UTF-8" method="post"><input type="hidden" name="authenticity_token" value="k_aiu5zpK15b20v-qbz3e6Cj77EINS6Q9Uv0PGL_IZVWnB_uzG4GG_eN2DOtMyya56eF1w_Jjox30d0Nhr4MmQ" autocomplete="off" />
          <input type="hidden" value="yghYyihYurFRFPJ9c5o4JQg7UF1sew2733Xd077l6hIPYuWfeN-X9P1CYbB3FePETz86O2uHradd7_TiWqTHHg" data-csrf="true" class="js-confirm-csrf-token" />
        <input type="hidden" name="context" value="repository">
          <button data-hydro-click="{&quot;event_type&quot;:&quot;repository.click&quot;,&quot;payload&quot;:{&quot;target&quot;:&quot;UNSTAR_BUTTON&quot;,&quot;repository_id&quot;:619541100,&quot;originating_url&quot;:&quot;https://github.com/MarcelloLM/Regress-o-Linear/blob/main/Regressa%CC%83o_Linear.ipynb&quot;,&quot;user_id&quot;:106484381}}" data-hydro-click-hmac="eea4701a3ea1be223b2189b4b590a035bb82e1200f7b7bbc9944bfa2c3e7f1b4" data-ga-click="Repository, click unstar button, action:blob#show; text:Unstar" aria-label="Unstar this repository (0)" type="submit" data-view-component="true" class="rounded-left-2 btn-sm btn BtnGroup-item">    <svg aria-hidden="true" height="16" viewBox="0 0 16 16" version="1.1" width="16" data-view-component="true" class="octicon octicon-star-fill starred-button-icon d-inline-block mr-2">
    <path d="M8 .25a.75.75 0 0 1 .673.418l1.882 3.815 4.21.612a.75.75 0 0 1 .416 1.279l-3.046 2.97.719 4.192a.751.751 0 0 1-1.088.791L8 12.347l-3.766 1.98a.75.75 0 0 1-1.088-.79l.72-4.194L.818 6.374a.75.75 0 0 1 .416-1.28l4.21-.611L7.327.668A.75.75 0 0 1 8 .25Z"></path>
</svg><span data-view-component="true" class="d-inline">
              Starred
</span>              <span id="repo-stars-counter-unstar" aria-label="0 users starred this repository" data-singular-suffix="user starred this repository" data-plural-suffix="users starred this repository" data-turbo-replace="true" title="0" data-view-component="true" class="Counter js-social-count">0</span>
</button></form>        <details id="details-user-list-619541100-starred" data-view-component="true" class="details-reset details-overlay BtnGroup-parent js-user-list-menu d-inline-block position-relative">
        <summary aria-label="Add this repository to a list" data-view-component="true" class="btn-sm btn BtnGroup-item px-2 float-none">    <svg aria-hidden="true" height="16" viewBox="0 0 16 16" version="1.1" width="16" data-view-component="true" class="octicon octicon-triangle-down">
    <path d="m4.427 7.427 3.396 3.396a.25.25 0 0 0 .354 0l3.396-3.396A.25.25 0 0 0 11.396 7H4.604a.25.25 0 0 0-.177.427Z"></path>
</svg>
</summary>
  <details-menu
    class="SelectMenu right-0"
      src="/MarcelloLM/Regress-o-Linear/lists"
      
      role="menu"
      
>
    <div class="SelectMenu-modal">
        <button class="SelectMenu-closeButton position-absolute right-0 m-2" type="button" aria-label="Close menu" data-toggle-for="details-8d7164">
          <svg aria-hidden="true" height="16" viewBox="0 0 16 16" version="1.1" width="16" data-view-component="true" class="octicon octicon-x">
    <path d="M3.72 3.72a.75.75 0 0 1 1.06 0L8 6.94l3.22-3.22a.749.749 0 0 1 1.275.326.749.749 0 0 1-.215.734L9.06 8l3.22 3.22a.749.749 0 0 1-.326 1.275.749.749 0 0 1-.734-.215L8 9.06l-3.22 3.22a.751.751 0 0 1-1.042-.018.751.751 0 0 1-.018-1.042L6.94 8 3.72 4.78a.75.75 0 0 1 0-1.06Z"></path>
</svg>
        </button>
      <div
        id="filter-menu-8d7164"
        class="d-flex flex-column flex-1 overflow-hidden"
>
        <div
          class="SelectMenu-list"
          >

            <include-fragment class="SelectMenu-loading" aria-label="Loading">
              <svg role="menuitem" style="box-sizing: content-box; color: var(--color-icon-primary);" width="32" height="32" viewBox="0 0 16 16" fill="none" data-view-component="true" class="anim-rotate">
  <circle cx="8" cy="8" r="7" stroke="currentColor" stroke-opacity="0.25" stroke-width="2" vector-effect="non-scaling-stroke" />
  <path d="M15 8a7.002 7.002 0 00-7-7" stroke="currentColor" stroke-width="2" stroke-linecap="round" vector-effect="non-scaling-stroke" />
</svg>
            </include-fragment>
        </div>
        
      </div>
    </div>
  </details-menu>
</details>
</div>
    <div data-view-component="true" class="unstarred BtnGroup flex-1">
      <!-- '"` --><!-- </textarea></xmp> --></option></form><form class="js-social-form BtnGroup-parent flex-auto" data-turbo="false" action="/MarcelloLM/Regress-o-Linear/star" accept-charset="UTF-8" method="post"><input type="hidden" name="authenticity_token" value="DusEZWCksgiELoO87xZ85IybEb7lE357To0wZ2vK5qzn-BmxODJWD4jnfNLZbU7BmoK8perlVvw18J7nGurkDw" autocomplete="off" />
        <input type="hidden" name="context" value="repository">
          <button data-hydro-click="{&quot;event_type&quot;:&quot;repository.click&quot;,&quot;payload&quot;:{&quot;target&quot;:&quot;STAR_BUTTON&quot;,&quot;repository_id&quot;:619541100,&quot;originating_url&quot;:&quot;https://github.com/MarcelloLM/Regress-o-Linear/blob/main/Regressa%CC%83o_Linear.ipynb&quot;,&quot;user_id&quot;:106484381}}" data-hydro-click-hmac="b4a814bca59d06d485265bc54ddd3d6ab488af78e63ca533938670e00f44b41d" data-ga-click="Repository, click star button, action:blob#show; text:Star" aria-label="Star this repository (0)" type="submit" data-view-component="true" class="js-toggler-target rounded-left-2 btn-sm btn BtnGroup-item">    <svg aria-hidden="true" height="16" viewBox="0 0 16 16" version="1.1" width="16" data-view-component="true" class="octicon octicon-star d-inline-block mr-2">
    <path d="M8 .25a.75.75 0 0 1 .673.418l1.882 3.815 4.21.612a.75.75 0 0 1 .416 1.279l-3.046 2.97.719 4.192a.751.751 0 0 1-1.088.791L8 12.347l-3.766 1.98a.75.75 0 0 1-1.088-.79l.72-4.194L.818 6.374a.75.75 0 0 1 .416-1.28l4.21-.611L7.327.668A.75.75 0 0 1 8 .25Zm0 2.445L6.615 5.5a.75.75 0 0 1-.564.41l-3.097.45 2.24 2.184a.75.75 0 0 1 .216.664l-.528 3.084 2.769-1.456a.75.75 0 0 1 .698 0l2.77 1.456-.53-3.084a.75.75 0 0 1 .216-.664l2.24-2.183-3.096-.45a.75.75 0 0 1-.564-.41L8 2.694Z"></path>
</svg><span data-view-component="true" class="d-inline">
              Star
</span>              <span id="repo-stars-counter-star" aria-label="0 users starred this repository" data-singular-suffix="user starred this repository" data-plural-suffix="users starred this repository" data-turbo-replace="true" title="0" data-view-component="true" class="Counter js-social-count">0</span>
</button></form>        <details id="details-user-list-619541100-unstarred" data-view-component="true" class="details-reset details-overlay BtnGroup-parent js-user-list-menu d-inline-block position-relative">
        <summary aria-label="Add this repository to a list" data-view-component="true" class="btn-sm btn BtnGroup-item px-2 float-none">    <svg aria-hidden="true" height="16" viewBox="0 0 16 16" version="1.1" width="16" data-view-component="true" class="octicon octicon-triangle-down">
    <path d="m4.427 7.427 3.396 3.396a.25.25 0 0 0 .354 0l3.396-3.396A.25.25 0 0 0 11.396 7H4.604a.25.25 0 0 0-.177.427Z"></path>
</svg>
</summary>
  <details-menu
    class="SelectMenu right-0"
      src="/MarcelloLM/Regress-o-Linear/lists"
      
      role="menu"
      
>
    <div class="SelectMenu-modal">
        <button class="SelectMenu-closeButton position-absolute right-0 m-2" type="button" aria-label="Close menu" data-toggle-for="details-a66ac0">
          <svg aria-hidden="true" height="16" viewBox="0 0 16 16" version="1.1" width="16" data-view-component="true" class="octicon octicon-x">
    <path d="M3.72 3.72a.75.75 0 0 1 1.06 0L8 6.94l3.22-3.22a.749.749 0 0 1 1.275.326.749.749 0 0 1-.215.734L9.06 8l3.22 3.22a.749.749 0 0 1-.326 1.275.749.749 0 0 1-.734-.215L8 9.06l-3.22 3.22a.751.751 0 0 1-1.042-.018.751.751 0 0 1-.018-1.042L6.94 8 3.72 4.78a.75.75 0 0 1 0-1.06Z"></path>
</svg>
        </button>
      <div
        id="filter-menu-a66ac0"
        class="d-flex flex-column flex-1 overflow-hidden"
>
        <div
          class="SelectMenu-list"
          >

            <include-fragment class="SelectMenu-loading" aria-label="Loading">
              <svg role="menuitem" style="box-sizing: content-box; color: var(--color-icon-primary);" width="32" height="32" viewBox="0 0 16 16" fill="none" data-view-component="true" class="anim-rotate">
  <circle cx="8" cy="8" r="7" stroke="currentColor" stroke-opacity="0.25" stroke-width="2" vector-effect="non-scaling-stroke" />
  <path d="M15 8a7.002 7.002 0 00-7-7" stroke="currentColor" stroke-width="2" stroke-linecap="round" vector-effect="non-scaling-stroke" />
</svg>
            </include-fragment>
        </div>
        
      </div>
    </div>
  </details-menu>
</details>
</div></div>
  </li>


    

</ul>

        </div>
      </div>

        <div id="responsive-meta-container" data-turbo-replace>
</div>


          <nav data-pjax="#js-repo-pjax-container" aria-label="Repository" data-view-component="true" class="js-repo-nav js-sidenav-container-pjax js-responsive-underlinenav overflow-hidden UnderlineNav px-3 px-md-4 px-lg-5">

  <ul data-view-component="true" class="UnderlineNav-body list-style-none">
      <li data-view-component="true" class="d-inline-flex">
  <a id="code-tab" href="/MarcelloLM/Regress-o-Linear" data-tab-item="i0code-tab" data-selected-links="repo_source repo_downloads repo_commits repo_releases repo_tags repo_branches repo_packages repo_deployments /MarcelloLM/Regress-o-Linear" data-pjax="#repo-content-pjax-container" data-turbo-frame="repo-content-turbo-frame" data-hotkey="g c" data-analytics-event="{&quot;category&quot;:&quot;Underline navbar&quot;,&quot;action&quot;:&quot;Click tab&quot;,&quot;label&quot;:&quot;Code&quot;,&quot;target&quot;:&quot;UNDERLINE_NAV.TAB&quot;}" aria-current="page" data-view-component="true" class="UnderlineNav-item no-wrap js-responsive-underlinenav-item js-selected-navigation-item selected">
    
              <svg aria-hidden="true" height="16" viewBox="0 0 16 16" version="1.1" width="16" data-view-component="true" class="octicon octicon-code UnderlineNav-octicon d-none d-sm-inline">
    <path d="m11.28 3.22 4.25 4.25a.75.75 0 0 1 0 1.06l-4.25 4.25a.749.749 0 0 1-1.275-.326.749.749 0 0 1 .215-.734L13.94 8l-3.72-3.72a.749.749 0 0 1 .326-1.275.749.749 0 0 1 .734.215Zm-6.56 0a.751.751 0 0 1 1.042.018.751.751 0 0 1 .018 1.042L2.06 8l3.72 3.72a.749.749 0 0 1-.326 1.275.749.749 0 0 1-.734-.215L.47 8.53a.75.75 0 0 1 0-1.06Z"></path>
</svg>
        <span data-content="Code">Code</span>
          <span id="code-repo-tab-count" data-pjax-replace="" data-turbo-replace="" title="Not available" data-view-component="true" class="Counter"></span>


    
</a></li>
      <li data-view-component="true" class="d-inline-flex">
  <a id="issues-tab" href="/MarcelloLM/Regress-o-Linear/issues" data-tab-item="i1issues-tab" data-selected-links="repo_issues repo_labels repo_milestones /MarcelloLM/Regress-o-Linear/issues" data-pjax="#repo-content-pjax-container" data-turbo-frame="repo-content-turbo-frame" data-hotkey="g i" data-analytics-event="{&quot;category&quot;:&quot;Underline navbar&quot;,&quot;action&quot;:&quot;Click tab&quot;,&quot;label&quot;:&quot;Issues&quot;,&quot;target&quot;:&quot;UNDERLINE_NAV.TAB&quot;}" data-view-component="true" class="UnderlineNav-item no-wrap js-responsive-underlinenav-item js-selected-navigation-item">
    
              <svg aria-hidden="true" height="16" viewBox="0 0 16 16" version="1.1" width="16" data-view-component="true" class="octicon octicon-issue-opened UnderlineNav-octicon d-none d-sm-inline">
    <path d="M8 9.5a1.5 1.5 0 1 0 0-3 1.5 1.5 0 0 0 0 3Z"></path><path d="M8 0a8 8 0 1 1 0 16A8 8 0 0 1 8 0ZM1.5 8a6.5 6.5 0 1 0 13 0 6.5 6.5 0 0 0-13 0Z"></path>
</svg>
        <span data-content="Issues">Issues</span>
          <span id="issues-repo-tab-count" data-pjax-replace="" data-turbo-replace="" title="0" hidden="hidden" data-view-component="true" class="Counter">0</span>


    
</a></li>
      <li data-view-component="true" class="d-inline-flex">
  <a id="pull-requests-tab" href="/MarcelloLM/Regress-o-Linear/pulls" data-tab-item="i2pull-requests-tab" data-selected-links="repo_pulls checks /MarcelloLM/Regress-o-Linear/pulls" data-pjax="#repo-content-pjax-container" data-turbo-frame="repo-content-turbo-frame" data-hotkey="g p" data-analytics-event="{&quot;category&quot;:&quot;Underline navbar&quot;,&quot;action&quot;:&quot;Click tab&quot;,&quot;label&quot;:&quot;Pull requests&quot;,&quot;target&quot;:&quot;UNDERLINE_NAV.TAB&quot;}" data-view-component="true" class="UnderlineNav-item no-wrap js-responsive-underlinenav-item js-selected-navigation-item">
    
              <svg aria-hidden="true" height="16" viewBox="0 0 16 16" version="1.1" width="16" data-view-component="true" class="octicon octicon-git-pull-request UnderlineNav-octicon d-none d-sm-inline">
    <path d="M1.5 3.25a2.25 2.25 0 1 1 3 2.122v5.256a2.251 2.251 0 1 1-1.5 0V5.372A2.25 2.25 0 0 1 1.5 3.25Zm5.677-.177L9.573.677A.25.25 0 0 1 10 .854V2.5h1A2.5 2.5 0 0 1 13.5 5v5.628a2.251 2.251 0 1 1-1.5 0V5a1 1 0 0 0-1-1h-1v1.646a.25.25 0 0 1-.427.177L7.177 3.427a.25.25 0 0 1 0-.354ZM3.75 2.5a.75.75 0 1 0 0 1.5.75.75 0 0 0 0-1.5Zm0 9.5a.75.75 0 1 0 0 1.5.75.75 0 0 0 0-1.5Zm8.25.75a.75.75 0 1 0 1.5 0 .75.75 0 0 0-1.5 0Z"></path>
</svg>
        <span data-content="Pull requests">Pull requests</span>
          <span id="pull-requests-repo-tab-count" data-pjax-replace="" data-turbo-replace="" title="0" hidden="hidden" data-view-component="true" class="Counter">0</span>


    
</a></li>
      <li data-view-component="true" class="d-inline-flex">
  <a id="actions-tab" href="/MarcelloLM/Regress-o-Linear/actions" data-tab-item="i3actions-tab" data-selected-links="repo_actions /MarcelloLM/Regress-o-Linear/actions" data-pjax="#repo-content-pjax-container" data-turbo-frame="repo-content-turbo-frame" data-hotkey="g a" data-analytics-event="{&quot;category&quot;:&quot;Underline navbar&quot;,&quot;action&quot;:&quot;Click tab&quot;,&quot;label&quot;:&quot;Actions&quot;,&quot;target&quot;:&quot;UNDERLINE_NAV.TAB&quot;}" data-view-component="true" class="UnderlineNav-item no-wrap js-responsive-underlinenav-item js-selected-navigation-item">
    
              <svg aria-hidden="true" height="16" viewBox="0 0 16 16" version="1.1" width="16" data-view-component="true" class="octicon octicon-play UnderlineNav-octicon d-none d-sm-inline">
    <path d="M8 0a8 8 0 1 1 0 16A8 8 0 0 1 8 0ZM1.5 8a6.5 6.5 0 1 0 13 0 6.5 6.5 0 0 0-13 0Zm4.879-2.773 4.264 2.559a.25.25 0 0 1 0 .428l-4.264 2.559A.25.25 0 0 1 6 10.559V5.442a.25.25 0 0 1 .379-.215Z"></path>
</svg>
        <span data-content="Actions">Actions</span>
          <span id="actions-repo-tab-count" data-pjax-replace="" data-turbo-replace="" title="Not available" data-view-component="true" class="Counter"></span>


    
</a></li>
      <li data-view-component="true" class="d-inline-flex">
  <a id="projects-tab" href="/MarcelloLM/Regress-o-Linear/projects" data-tab-item="i4projects-tab" data-selected-links="repo_projects new_repo_project repo_project /MarcelloLM/Regress-o-Linear/projects" data-pjax="#repo-content-pjax-container" data-turbo-frame="repo-content-turbo-frame" data-hotkey="g b" data-analytics-event="{&quot;category&quot;:&quot;Underline navbar&quot;,&quot;action&quot;:&quot;Click tab&quot;,&quot;label&quot;:&quot;Projects&quot;,&quot;target&quot;:&quot;UNDERLINE_NAV.TAB&quot;}" data-view-component="true" class="UnderlineNav-item no-wrap js-responsive-underlinenav-item js-selected-navigation-item">
    
              <svg aria-hidden="true" height="16" viewBox="0 0 16 16" version="1.1" width="16" data-view-component="true" class="octicon octicon-table UnderlineNav-octicon d-none d-sm-inline">
    <path d="M0 1.75C0 .784.784 0 1.75 0h12.5C15.216 0 16 .784 16 1.75v12.5A1.75 1.75 0 0 1 14.25 16H1.75A1.75 1.75 0 0 1 0 14.25ZM6.5 6.5v8h7.75a.25.25 0 0 0 .25-.25V6.5Zm8-1.5V1.75a.25.25 0 0 0-.25-.25H6.5V5Zm-13 1.5v7.75c0 .138.112.25.25.25H5v-8ZM5 5V1.5H1.75a.25.25 0 0 0-.25.25V5Z"></path>
</svg>
        <span data-content="Projects">Projects</span>
          <span id="projects-repo-tab-count" data-pjax-replace="" data-turbo-replace="" title="0" hidden="hidden" data-view-component="true" class="Counter">0</span>


    
</a></li>
      <li data-view-component="true" class="d-inline-flex">
  <a id="wiki-tab" href="/MarcelloLM/Regress-o-Linear/wiki" data-tab-item="i5wiki-tab" data-selected-links="repo_wiki /MarcelloLM/Regress-o-Linear/wiki" data-pjax="#repo-content-pjax-container" data-turbo-frame="repo-content-turbo-frame" data-hotkey="g w" data-analytics-event="{&quot;category&quot;:&quot;Underline navbar&quot;,&quot;action&quot;:&quot;Click tab&quot;,&quot;label&quot;:&quot;Wiki&quot;,&quot;target&quot;:&quot;UNDERLINE_NAV.TAB&quot;}" data-view-component="true" class="UnderlineNav-item no-wrap js-responsive-underlinenav-item js-selected-navigation-item">
    
              <svg aria-hidden="true" height="16" viewBox="0 0 16 16" version="1.1" width="16" data-view-component="true" class="octicon octicon-book UnderlineNav-octicon d-none d-sm-inline">
    <path d="M0 1.75A.75.75 0 0 1 .75 1h4.253c1.227 0 2.317.59 3 1.501A3.743 3.743 0 0 1 11.006 1h4.245a.75.75 0 0 1 .75.75v10.5a.75.75 0 0 1-.75.75h-4.507a2.25 2.25 0 0 0-1.591.659l-.622.621a.75.75 0 0 1-1.06 0l-.622-.621A2.25 2.25 0 0 0 5.258 13H.75a.75.75 0 0 1-.75-.75Zm7.251 10.324.004-5.073-.002-2.253A2.25 2.25 0 0 0 5.003 2.5H1.5v9h3.757a3.75 3.75 0 0 1 1.994.574ZM8.755 4.75l-.004 7.322a3.752 3.752 0 0 1 1.992-.572H14.5v-9h-3.495a2.25 2.25 0 0 0-2.25 2.25Z"></path>
</svg>
        <span data-content="Wiki">Wiki</span>
          <span id="wiki-repo-tab-count" data-pjax-replace="" data-turbo-replace="" title="Not available" data-view-component="true" class="Counter"></span>


    
</a></li>
      <li data-view-component="true" class="d-inline-flex">
  <a id="security-tab" href="/MarcelloLM/Regress-o-Linear/security" data-tab-item="i6security-tab" data-selected-links="security overview alerts policy token_scanning code_scanning /MarcelloLM/Regress-o-Linear/security" data-pjax="#repo-content-pjax-container" data-turbo-frame="repo-content-turbo-frame" data-hotkey="g s" data-analytics-event="{&quot;category&quot;:&quot;Underline navbar&quot;,&quot;action&quot;:&quot;Click tab&quot;,&quot;label&quot;:&quot;Security&quot;,&quot;target&quot;:&quot;UNDERLINE_NAV.TAB&quot;}" data-view-component="true" class="UnderlineNav-item no-wrap js-responsive-underlinenav-item js-selected-navigation-item">
    
              <svg aria-hidden="true" height="16" viewBox="0 0 16 16" version="1.1" width="16" data-view-component="true" class="octicon octicon-shield UnderlineNav-octicon d-none d-sm-inline">
    <path d="M7.467.133a1.748 1.748 0 0 1 1.066 0l5.25 1.68A1.75 1.75 0 0 1 15 3.48V7c0 1.566-.32 3.182-1.303 4.682-.983 1.498-2.585 2.813-5.032 3.855a1.697 1.697 0 0 1-1.33 0c-2.447-1.042-4.049-2.357-5.032-3.855C1.32 10.182 1 8.566 1 7V3.48a1.75 1.75 0 0 1 1.217-1.667Zm.61 1.429a.25.25 0 0 0-.153 0l-5.25 1.68a.25.25 0 0 0-.174.238V7c0 1.358.275 2.666 1.057 3.86.784 1.194 2.121 2.34 4.366 3.297a.196.196 0 0 0 .154 0c2.245-.956 3.582-2.104 4.366-3.298C13.225 9.666 13.5 8.36 13.5 7V3.48a.251.251 0 0 0-.174-.237l-5.25-1.68ZM8.75 4.75v3a.75.75 0 0 1-1.5 0v-3a.75.75 0 0 1 1.5 0ZM9 10.5a1 1 0 1 1-2 0 1 1 0 0 1 2 0Z"></path>
</svg>
        <span data-content="Security">Security</span>
          <include-fragment src="/MarcelloLM/Regress-o-Linear/security/overall-count" accept="text/fragment+html"></include-fragment>

    
</a></li>
      <li data-view-component="true" class="d-inline-flex">
  <a id="insights-tab" href="/MarcelloLM/Regress-o-Linear/pulse" data-tab-item="i7insights-tab" data-selected-links="repo_graphs repo_contributors dependency_graph dependabot_updates pulse people community /MarcelloLM/Regress-o-Linear/pulse" data-pjax="#repo-content-pjax-container" data-turbo-frame="repo-content-turbo-frame" data-analytics-event="{&quot;category&quot;:&quot;Underline navbar&quot;,&quot;action&quot;:&quot;Click tab&quot;,&quot;label&quot;:&quot;Insights&quot;,&quot;target&quot;:&quot;UNDERLINE_NAV.TAB&quot;}" data-view-component="true" class="UnderlineNav-item no-wrap js-responsive-underlinenav-item js-selected-navigation-item">
    
              <svg aria-hidden="true" height="16" viewBox="0 0 16 16" version="1.1" width="16" data-view-component="true" class="octicon octicon-graph UnderlineNav-octicon d-none d-sm-inline">
    <path d="M1.5 1.75V13.5h13.75a.75.75 0 0 1 0 1.5H.75a.75.75 0 0 1-.75-.75V1.75a.75.75 0 0 1 1.5 0Zm14.28 2.53-5.25 5.25a.75.75 0 0 1-1.06 0L7 7.06 4.28 9.78a.751.751 0 0 1-1.042-.018.751.751 0 0 1-.018-1.042l3.25-3.25a.75.75 0 0 1 1.06 0L10 7.94l4.72-4.72a.751.751 0 0 1 1.042.018.751.751 0 0 1 .018 1.042Z"></path>
</svg>
        <span data-content="Insights">Insights</span>
          <span id="insights-repo-tab-count" data-pjax-replace="" data-turbo-replace="" title="Not available" data-view-component="true" class="Counter"></span>


    
</a></li>
      <li data-view-component="true" class="d-inline-flex">
  <a id="settings-tab" href="/MarcelloLM/Regress-o-Linear/settings" data-tab-item="i8settings-tab" data-selected-links="code_review_limits codespaces_repository_settings collaborators custom_tabs hooks integration_installations interaction_limits issue_template_editor key_links_settings notifications repo_actions_settings repo_announcements repo_branch_settings repo_keys_settings repo_pages_settings repo_rule_insights repo_rulesets repo_protected_tags_settings repo_settings reported_content repo_custom_properties repository_actions_settings_add_new_runner repository_actions_settings_general repository_actions_settings_runners repository_environments role_details secrets secrets_settings_actions secrets_settings_codespaces secrets_settings_dependabot security_analysis /MarcelloLM/Regress-o-Linear/settings" data-pjax="#repo-content-pjax-container" data-turbo-frame="repo-content-turbo-frame" data-analytics-event="{&quot;category&quot;:&quot;Underline navbar&quot;,&quot;action&quot;:&quot;Click tab&quot;,&quot;label&quot;:&quot;Settings&quot;,&quot;target&quot;:&quot;UNDERLINE_NAV.TAB&quot;}" data-view-component="true" class="UnderlineNav-item no-wrap js-responsive-underlinenav-item js-selected-navigation-item">
    
              <svg aria-hidden="true" height="16" viewBox="0 0 16 16" version="1.1" width="16" data-view-component="true" class="octicon octicon-gear UnderlineNav-octicon d-none d-sm-inline">
    <path d="M8 0a8.2 8.2 0 0 1 .701.031C9.444.095 9.99.645 10.16 1.29l.288 1.107c.018.066.079.158.212.224.231.114.454.243.668.386.123.082.233.09.299.071l1.103-.303c.644-.176 1.392.021 1.82.63.27.385.506.792.704 1.218.315.675.111 1.422-.364 1.891l-.814.806c-.049.048-.098.147-.088.294.016.257.016.515 0 .772-.01.147.038.246.088.294l.814.806c.475.469.679 1.216.364 1.891a7.977 7.977 0 0 1-.704 1.217c-.428.61-1.176.807-1.82.63l-1.102-.302c-.067-.019-.177-.011-.3.071a5.909 5.909 0 0 1-.668.386c-.133.066-.194.158-.211.224l-.29 1.106c-.168.646-.715 1.196-1.458 1.26a8.006 8.006 0 0 1-1.402 0c-.743-.064-1.289-.614-1.458-1.26l-.289-1.106c-.018-.066-.079-.158-.212-.224a5.738 5.738 0 0 1-.668-.386c-.123-.082-.233-.09-.299-.071l-1.103.303c-.644.176-1.392-.021-1.82-.63a8.12 8.12 0 0 1-.704-1.218c-.315-.675-.111-1.422.363-1.891l.815-.806c.05-.048.098-.147.088-.294a6.214 6.214 0 0 1 0-.772c.01-.147-.038-.246-.088-.294l-.815-.806C.635 6.045.431 5.298.746 4.623a7.92 7.92 0 0 1 .704-1.217c.428-.61 1.176-.807 1.82-.63l1.102.302c.067.019.177.011.3-.071.214-.143.437-.272.668-.386.133-.066.194-.158.211-.224l.29-1.106C6.009.645 6.556.095 7.299.03 7.53.01 7.764 0 8 0Zm-.571 1.525c-.036.003-.108.036-.137.146l-.289 1.105c-.147.561-.549.967-.998 1.189-.173.086-.34.183-.5.29-.417.278-.97.423-1.529.27l-1.103-.303c-.109-.03-.175.016-.195.045-.22.312-.412.644-.573.99-.014.031-.021.11.059.19l.815.806c.411.406.562.957.53 1.456a4.709 4.709 0 0 0 0 .582c.032.499-.119 1.05-.53 1.456l-.815.806c-.081.08-.073.159-.059.19.162.346.353.677.573.989.02.03.085.076.195.046l1.102-.303c.56-.153 1.113-.008 1.53.27.161.107.328.204.501.29.447.222.85.629.997 1.189l.289 1.105c.029.109.101.143.137.146a6.6 6.6 0 0 0 1.142 0c.036-.003.108-.036.137-.146l.289-1.105c.147-.561.549-.967.998-1.189.173-.086.34-.183.5-.29.417-.278.97-.423 1.529-.27l1.103.303c.109.029.175-.016.195-.045.22-.313.411-.644.573-.99.014-.031.021-.11-.059-.19l-.815-.806c-.411-.406-.562-.957-.53-1.456a4.709 4.709 0 0 0 0-.582c-.032-.499.119-1.05.53-1.456l.815-.806c.081-.08.073-.159.059-.19a6.464 6.464 0 0 0-.573-.989c-.02-.03-.085-.076-.195-.046l-1.102.303c-.56.153-1.113.008-1.53-.27a4.44 4.44 0 0 0-.501-.29c-.447-.222-.85-.629-.997-1.189l-.289-1.105c-.029-.11-.101-.143-.137-.146a6.6 6.6 0 0 0-1.142 0ZM11 8a3 3 0 1 1-6 0 3 3 0 0 1 6 0ZM9.5 8a1.5 1.5 0 1 0-3.001.001A1.5 1.5 0 0 0 9.5 8Z"></path>
</svg>
        <span data-content="Settings">Settings</span>
          <span id="settings-repo-tab-count" data-pjax-replace="" data-turbo-replace="" title="Not available" data-view-component="true" class="Counter"></span>


    
</a></li>
</ul>
    <div style="visibility:hidden;" data-view-component="true" class="UnderlineNav-actions js-responsive-underlinenav-overflow position-absolute pr-3 pr-md-4 pr-lg-5 right-0">      <details data-view-component="true" class="details-overlay details-reset position-relative">
  <summary role="button" data-view-component="true">          <div class="UnderlineNav-item mr-0 border-0">
            <svg aria-hidden="true" height="16" viewBox="0 0 16 16" version="1.1" width="16" data-view-component="true" class="octicon octicon-kebab-horizontal">
    <path d="M8 9a1.5 1.5 0 1 0 0-3 1.5 1.5 0 0 0 0 3ZM1.5 9a1.5 1.5 0 1 0 0-3 1.5 1.5 0 0 0 0 3Zm13 0a1.5 1.5 0 1 0 0-3 1.5 1.5 0 0 0 0 3Z"></path>
</svg>
            <span class="sr-only">More</span>
          </div>
</summary>
  <details-menu role="menu" data-view-component="true" class="dropdown-menu dropdown-menu-sw">          <ul>
              <li data-menu-item="i0code-tab" hidden>
                <a role="menuitem" class="js-selected-navigation-item selected dropdown-item" aria-current="page" data-selected-links="repo_source repo_downloads repo_commits repo_releases repo_tags repo_branches repo_packages repo_deployments /MarcelloLM/Regress-o-Linear" href="/MarcelloLM/Regress-o-Linear">
                  Code
</a>              </li>
              <li data-menu-item="i1issues-tab" hidden>
                <a role="menuitem" class="js-selected-navigation-item dropdown-item" data-selected-links="repo_issues repo_labels repo_milestones /MarcelloLM/Regress-o-Linear/issues" href="/MarcelloLM/Regress-o-Linear/issues">
                  Issues
</a>              </li>
              <li data-menu-item="i2pull-requests-tab" hidden>
                <a role="menuitem" class="js-selected-navigation-item dropdown-item" data-selected-links="repo_pulls checks /MarcelloLM/Regress-o-Linear/pulls" href="/MarcelloLM/Regress-o-Linear/pulls">
                  Pull requests
</a>              </li>
              <li data-menu-item="i3actions-tab" hidden>
                <a role="menuitem" class="js-selected-navigation-item dropdown-item" data-selected-links="repo_actions /MarcelloLM/Regress-o-Linear/actions" href="/MarcelloLM/Regress-o-Linear/actions">
                  Actions
</a>              </li>
              <li data-menu-item="i4projects-tab" hidden>
                <a role="menuitem" class="js-selected-navigation-item dropdown-item" data-selected-links="repo_projects new_repo_project repo_project /MarcelloLM/Regress-o-Linear/projects" href="/MarcelloLM/Regress-o-Linear/projects">
                  Projects
</a>              </li>
              <li data-menu-item="i5wiki-tab" hidden>
                <a role="menuitem" class="js-selected-navigation-item dropdown-item" data-selected-links="repo_wiki /MarcelloLM/Regress-o-Linear/wiki" href="/MarcelloLM/Regress-o-Linear/wiki">
                  Wiki
</a>              </li>
              <li data-menu-item="i6security-tab" hidden>
                <a role="menuitem" class="js-selected-navigation-item dropdown-item" data-selected-links="security overview alerts policy token_scanning code_scanning /MarcelloLM/Regress-o-Linear/security" href="/MarcelloLM/Regress-o-Linear/security">
                  Security
</a>              </li>
              <li data-menu-item="i7insights-tab" hidden>
                <a role="menuitem" class="js-selected-navigation-item dropdown-item" data-selected-links="repo_graphs repo_contributors dependency_graph dependabot_updates pulse people community /MarcelloLM/Regress-o-Linear/pulse" href="/MarcelloLM/Regress-o-Linear/pulse">
                  Insights
</a>              </li>
              <li data-menu-item="i8settings-tab" hidden>
                <a role="menuitem" class="js-selected-navigation-item dropdown-item" data-selected-links="code_review_limits codespaces_repository_settings collaborators custom_tabs hooks integration_installations interaction_limits issue_template_editor key_links_settings notifications repo_actions_settings repo_announcements repo_branch_settings repo_keys_settings repo_pages_settings repo_rule_insights repo_rulesets repo_protected_tags_settings repo_settings reported_content repo_custom_properties repository_actions_settings_add_new_runner repository_actions_settings_general repository_actions_settings_runners repository_environments role_details secrets secrets_settings_actions secrets_settings_codespaces secrets_settings_dependabot security_analysis /MarcelloLM/Regress-o-Linear/settings" href="/MarcelloLM/Regress-o-Linear/settings">
                  Settings
</a>              </li>
          </ul>
</details-menu>
</details></div>
</nav>

  </div>

  



<turbo-frame id="repo-content-turbo-frame" target="_top" data-turbo-action="advance" class="">
    <div id="repo-content-pjax-container" class="repository-content " >
      <a href="https://github.dev/" class="d-none js-github-dev-shortcut" data-hotkey=".">Open in github.dev</a>
  <a href="https://github.dev/" class="d-none js-github-dev-new-tab-shortcut" data-hotkey="Shift+.,Shift+&gt;,&gt;" target="_blank">Open in a new github.dev tab</a>
    <a class="d-none" data-hotkey="," target="_blank" href="/codespaces/new/MarcelloLM/Regress-o-Linear/tree/main?resume=1">Open in codespace</a>



    
      
    





<react-app
  app-name="react-code-view"
  initial-path="/MarcelloLM/Regress-o-Linear/blob/main/Regressa%CC%83o_Linear.ipynb"
  style="min-height: calc(100vh - 62px)"
  data-ssr="false"
  data-lazy="false"
  data-alternate="false"
>
  
  <script type="application/json" data-target="react-app.embeddedData">{"payload":{"allShortcutsEnabled":true,"fileTree":{"":{"items":[{"name":"Regressão_Linear.ipynb","path":"Regressão_Linear.ipynb","contentType":"file"}],"totalCount":1}},"fileTreeProcessingTime":4.141089,"foldersToFetch":[],"reducedMotionEnabled":"system","repo":{"id":619541100,"defaultBranch":"main","name":"Regress-o-Linear","ownerLogin":"MarcelloLM","currentUserCanPush":true,"isFork":false,"isEmpty":false,"createdAt":"2023-03-27T07:49:25.000-03:00","ownerAvatar":"https://avatars.githubusercontent.com/u/106484381?v=4","public":true,"private":false},"refInfo":{"name":"main","listCacheKey":"v0:1679914187.0","canEdit":true,"refType":"branch","currentOid":"53fa0c4d810a02461b17d7b4266982aaad93fd75"},"path":"Regressão_Linear.ipynb","currentUser":{"id":106484381,"login":"MarcelloLM","userEmail":"marcelingames007@gmail.com"},"blob":{"rawBlob":"{\n  \"nbformat\": 4,\n  \"nbformat_minor\": 0,\n  \"metadata\": {\n    \"colab\": {\n      \"provenance\": []\n    },\n    \"kernelspec\": {\n      \"name\": \"python3\",\n      \"display_name\": \"Python 3\"\n    },\n    \"language_info\": {\n      \"name\": \"python\"\n    }\n  },\n  \"cells\": [\n    {\n      \"cell_type\": \"markdown\",\n      \"source\": [\n        \"## Regressão\"\n      ],\n      \"metadata\": {\n        \"id\": \"tlbCVs1SK6OP\"\n      }\n    },\n    {\n      \"cell_type\": \"markdown\",\n      \"source\": [\n        \"### Equação da reta\"\n      ],\n      \"metadata\": {\n        \"id\": \"Zajraej3Rw1H\"\n      }\n    },\n    {\n      \"cell_type\": \"markdown\",\n      \"source\": [\n        \"Vamos começar relembrando o que é uma regressão. Para isso vamos precisar de uma ferramenta capaz de plotar gráficos. A bibliotca matplotlib é ideal para isso. Abre o link da doumentação e importe ela (https://matplotlib.org/stable/index.html).\"\n      ],\n      \"metadata\": {\n        \"id\": \"ZT1GuWPiLBLP\"\n      }\n    },\n    {\n      \"cell_type\": \"code\",\n      \"source\": [\n        \"import matplotlib.pyplot as plt\\n\",\n        \"import matplotlib as mpl\"\n      ],\n      \"metadata\": {\n        \"id\": \"U64o93UyK5YA\"\n      },\n      \"execution_count\": null,\n      \"outputs\": []\n    },\n    {\n      \"cell_type\": \"markdown\",\n      \"source\": [\n        \"Agora que você já importou a biblioteca vamos plotar um gráfico bem simples. Plot o gráfico onde x = [1, 2, 3, 4] e y = [1, 4, 9, 16]. Leia a documentação, sobre como fazer isso.\"\n      ],\n      \"metadata\": {\n        \"id\": \"KR_zQ1TSMqW-\"\n      }\n    },\n    {\n      \"cell_type\": \"code\",\n      \"source\": [\n        \"plt.plot([1, 2, 3, 4], [1, 4, 9, 16])\"\n      ],\n      \"metadata\": {\n        \"id\": \"Um8OSRUFNEfB\",\n        \"colab\": {\n          \"base_uri\": \"https://localhost:8080/\",\n          \"height\": 282\n        },\n        \"outputId\": \"dac79a5b-ae2c-466d-f501-3ecb9f84511c\"\n      },\n      \"execution_count\": null,\n      \"outputs\": [\n        {\n          \"output_type\": \"execute_result\",\n          \"data\": {\n            \"text/plain\": [\n              \"[\u003cmatplotlib.lines.Line2D at 0x7fa77c851450\u003e]\"\n            ]\n          },\n          \"metadata\": {},\n          \"execution_count\": 7\n        },\n        {\n          \"output_type\": \"display_data\",\n          \"data\": {\n            \"text/plain\": [\n              \"\u003cFigure size 432x288 with 1 Axes\u003e\"\n            ],\n            \"image/png\": \"iVBORw0KGgoAAAANSUhEUgAAAXAAAAD4CAYAAAD1jb0+AAAABHNCSVQICAgIfAhkiAAAAAlwSFlzAAALEgAACxIB0t1+/AAAADh0RVh0U29mdHdhcmUAbWF0cGxvdGxpYiB2ZXJzaW9uMy4yLjIsIGh0dHA6Ly9tYXRwbG90bGliLm9yZy+WH4yJAAAfCklEQVR4nO3dd3hVZbr+8e9D7zVBAkkMgoBUlYSmjm1U7A2xDDb0MDi9iTiOR8+MjmXKceacUYZRxq5Uu4xl7DMKCSChC9J2aAmEEggkJPv5/ZF4fkwGTNk72Xvt3J/r4nKXhet5WcmdlbXf513m7oiISPA0iXUBIiJSNwpwEZGAUoCLiASUAlxEJKAU4CIiAdWsIXeWlJTkGRkZDblLEZHAW7hw4Q53T676eoMGeEZGBjk5OQ25SxGRwDOzjUd6XZdQREQCSgEuIhJQCnARkYBSgIuIBJQCXEQkoKoNcDObbmb5ZrasyuvfN7NVZrbczB6uvxJFRORIanIG/iQw5vAXzOxM4FJgqLsPBH4b/dJEROTrVBvg7v4RUFjl5duAB929pHKb/HqoTUQk8PaXlHHvq8vZe/BQ1P/fdb0G3hc4zczmm9mHZpZ1tA3NbKKZ5ZhZTkFBQR13JyISPDv3lXDdXz7jmc82krOh6nlw5Ooa4M2ALsBI4HZgppnZkTZ092nununumcnJ/9YJKiKSkEKFxVw19VNWbSviz+OHcVb/Y6K+j7q20ucBc73idj4LzCwMJAE6xRaRRm/Vtr3cOH0BB0rLee7WEWRmdKmX/dT1DPxl4EwAM+sLtAB2RKsoEZGgWrC+kKumfgrArEmj6y28oQZn4Gb2AnAGkGRmecA9wHRgeuXUwlLgRtfNNUWkkXtnxXa+9/wienZuzdMThpPauU297q/aAHf3a4/y1vgo1yIiElgzsjdx59ylDE7txF9vyqJL2xb1vs8GXU5WRCTRuDuPfvAlv3lrNd/om8xj3zqZti0bJloV4CIidRQOO796YwV//ccGLj2xB78ZO5QWzRpuhRIFuIhIHZSWhfnZrCW8umQLE07pxS8uPIEmTY44m7reKMBFRGppf0kZk55dyMdrdnDHmP5MOv04jtIKU68U4CIitbBzXwkTnsxm2Za9PDx2COMy02JWiwJcRKSG8nYVc8MTC9i8+wB/Hj+Mbw6IfndlbSjARURqoKG6K2tDAS4iUo3sDYXc8mQ2rVs0Zdak0fTr3j7WJQEKcBGRr9XQ3ZW1oQAXETmKmdkhpszNbdDuytpQgIuIVBHL7sraiL+KRERiKNbdlbWhABcRqVRaFub22Ut45fPYdVfWhgJcRIR/7a6cPKYft53eOybdlbWhABeRRu+r7sqlm/fw8JVDGJcVu+7K2lCAi0ij9i/dlddnck6MuytrQwEuIo3W4d2Vz946gqw46K6sjWo/WjWz6WaWX3n7tKrv/dTM3MyS6qc8EZH6kb2hkHGV966cOWlU4MIbanZT4yeBMVVfNLM04FxgU5RrEhGpV++s2M74x+eT1L4lc24bTf/uHWJdUp1UG+Du/hFQeIS3/huYDOhmxiISGDOzQ0x6diH9u7dn9qTRcdUaX1t1ugZuZpcCm919SbxPsxERgYruysc+/JKH/7aa045PYur4YXHZXVkbta7ezNoAP6fi8klNtp8ITARIT0+v7e5ERCIWDjv3vbGS6f9YzyVDe/Dbq+K3u7I26jKC3kAvYImZbQBSgUVm1v1IG7v7NHfPdPfM5OTkulcqIlIHpWVhfjzzc6b/Yz03n5LBI1efmBDhDXU4A3f3pUC3r55Xhnimu++IYl0iIhHbX1LGbc8t4qMvCgLTXVkbNZlG+ALwKdDPzPLM7Jb6L0tEJDKF+0u57vH5fLKmgIevHMJ3zuiTUOENNTgDd/drq3k/I2rViIhEQd6uYm6YvoDNu4LXXVkbwf4IVkSkitXbirhh+nwOlJbzzC0jGN4reA06NaUAF5GEcfi9K2dOGhXYBp2aUoCLSEJ4d8V2vvv8Inp2as1TE4aT1iW4DTo1pQAXkcCbmRPizrlLGdSjA9NvyqJru5axLqlBKMBFJLASsbuyNhrPSEUkoSRqd2VtKMBFJHAOv3flzadkcPeFA+L63pX1RQEuIoGS6N2VtaEAF5HAKNxfys1PZrM0bzcPXTmYq7Ma9wJ5CnARCYTG0l1ZGwpwEYl7X3VXFjeC7sraUICLSFz7qruyVfOmzGoE3ZW1oQAXkbjVGLsra0MBLiJx6avuyoE9OvDXRtRdWRsKcBGJK+7O1A/X8dDfVjXK7sra0L+KiMSNcNi5/82VPPFJ4+2urA0FuIjEhdKyMJNnL+Hlz7dw0+gM/vOixtldWRsKcBGJucO7K28/rx/fOaPxdlfWRk3uiTndzPLNbNlhr/3GzFaZWa6ZvWRmneq3TBFJVIffu/KhKwfz3TMT796V9aUmF5eeBMZUee0dYJC7DwG+AO6Mcl0i0gjk7Spm7NR/smrrXqaOH9boW+Nrq9oAd/ePgMIqr73t7mWVTz8DUuuhNhFJYKu3FTH2sU8pKCrhmVtGcO7A7rEuKXCi8fHuBGDe0d40s4lmlmNmOQUFBVHYnYgEXc6GQq6a+k/C7syaNEqt8XUUUYCb2V1AGfDc0bZx92nununumcnJyZHsTkQSwLsrtvOtx+eT1K4lc24brdb4CNR5FoqZ3QRcBJzt7h61ikQkYam7MrrqFOBmNgaYDJzu7sXRLUlEEk3V7srHxg+jnborI1btv6CZvQCcASSZWR5wDxWzTloC71RO9/nM3SfVY50iElCHd1dePLQHv1N3ZdRUG+Dufu0RXn6iHmoRkQSj7sr6pd9hRKReqLuy/inARSTqDr935YNXDOaa4WrQqQ8KcBGJqsPvXTl1/DA16NQjBbiIRM0X24u44YkF7C8t070rG4ACXESiImdDIRMq710589ujOCFFDTr1TQEuIhH7+8rtfOe5RfTo1Jqnde/KBqMAF5GIzMoJMUXdlTGhABeROnF3/vzROh6ct4pT+yQx9Xp1VzY0/WuLSK2Fw86v31zJ4+qujCkFuIjUyqHyMJNn5/LS4s3qrowxBbiI1FhxaRm3PbuID9VdGRcU4CJSI+qujD8KcBGp1ubdB7j+ifnk7TrAY+OHcZ66K+OCAlxEvta/dFdOGM6I47rGuiSppAAXkaNauLGQCU/m0KJZE3VXxiEFuIgc0d9Xbue7zy8ipaO6K+OVAlxE/s1X3ZUDUjrw15uzSFJ3ZVyqdua9mU03s3wzW3bYa13M7B0zW1P53871W6aINISKe1d+ye2zcxl1XFdemDhS4R3HatI69SQwpsprU4C/u/vxwN8rn4tIgIXDzv1vrOTBeau4aEgK02/KUmt8nKs2wN39I6CwysuXAk9VPn4KuCzKdYlIAzpUHuans5bw+CfruWl0Bn+85iS1xgdAXX+8HuPuWysfbwOOOdqGZjYRmAiQnq6J/yLx5vDuyp+d25fvntlH3ZUBEfGPWHd3wL/m/WnununumcnJyZHuTkSiaNf+Uq77y3w+XlPAA1cM5ntnHa/wDpC6noFvN7MUd99qZilAfjSLEpH6t3n3AW54Yj4hdVcGVl3PwF8Fbqx8fCPwSnTKEZGG8MX2Iq589J/kF5XwzIThCu+Aqsk0wheAT4F+ZpZnZrcADwLnmNka4JuVz0UkABZuLOSqqZ9S7s7Mb49Sa3yAVXsJxd2vPcpbZ0e5FhGpZ++tqrh3ZfcOrXjmlhHqrgw4TfIUaSRmL8zjjjm56q5MIApwkUbgzx9+yQO6d2XC0VEUSWDhsPPAvJX85eP1XDQkhd+NG0rLZk1jXZZEiQJcJEEdfu/KG0cdyz0XD9S9KxOMAlwkAam7snFQgIskmF2V967MzdvNA1cM5lrduzJhKcBFEsjh3ZWPfmsYYwapQSeRKcBFEoC7Mysnj1+9sQIcnp4wnJFq0El4CnCRgAsVFnPn3KV8snYHw3t14aErh9ArqW2sy5IGoAAXCajysPPUPzfwm7dW07SJcd9lg7hueLpmmjQiCnCRAFqzvYjJc3JZvGk3Z/RL5teXD6ZHp9axLksamAJcJEBKy8JM/fBL/ve9tbRt2ZRHrj6RS0/soSmCjZQCXCQgcvN2M3l2Lqu2FXHx0B7cc/EArWfSyCnAReLcwUPl/Pc7X/CXj9eR3L4lf7khk3MGHPUuhtKIKMBF4thn63YyZU4uG3YWc+3wNKacfwIdWzePdVkSJxTgInGo6OAhHpy3iufmbyK9Sxuev3UEo/skxbosiTMKcJE4896q7dz10jK27z3Iraf24ifn9qVNC32ryr/TV4VInCjcX8ovX1vOy59v4fhu7Xj0ttGclN451mVJHIsowM3sx8CtgANLgZvd/WA0ChNpLNyd13K3cu+ryyk6eIgfnn083zmzt9btlmrVOcDNrCfwA2CAux8ws5nANcCTUapNJOFt23OQX7y8jHdXbmdoakceGjuC/t07xLosCYhIL6E0A1qb2SGgDbAl8pJEEp+782J2iF+/sZJD4TB3XXACE07tRVO1wUst1DnA3X2zmf0W2AQcAN5297erbmdmE4GJAOnpWpdYZOPO/UyZs5RP1+1k5HFdePCKIWRo8SmpgyZ1/Ytm1hm4FOgF9ADamtn4qtu5+zR3z3T3zOTk5LpXKhJw5WHn8Y/Xcd4jH7Fs8x5+fflgnr91pMJb6iySSyjfBNa7ewGAmc0FRgPPRqMwkUSyelvF4lNLQrs5u3837rt8ECkdtfiURCaSAN8EjDSzNlRcQjkbyIlKVSIJorQszKMfrOVP76+lfavm/PHak7h4SIoWn5KoiOQa+Hwzmw0sAsqAxcC0aBUmEnSfh3Zzx+xcVm8v4tITe3DPxQPp0rZFrMuSBBLRLBR3vwe4J0q1iCSEA6Xl/O7t1Uz/x3q6tW/FEzdmcvYJWnxKok+dmCJR9M8vdzBlzlI2FRZz3Yh0ppzfnw6ttPiU1A8FuEgU7D14iAfeXMkLC0Ic27UNL/zHSEb11k2FpX4pwEUi9O6K7dz18lIKikqY+I3j+PE3+9K6hdrgpf4pwEXqaOe+Eu59bQWvLdlC/+7tmXZ9JkPTOsW6LGlEFOAiteTuvLpkC/e+upx9JWX85Jy+TDq9Ny2a1bkvTqROFOAitbBl9wF+8fIy3luVz4lpnXh47BD6HtM+1mVJI6UAF6mBcNh5fsEmHpy3ivKwc/dFA7hpdIYWn5KYUoCLVGP9jv1MmZPL/PWFnNKnKw9cPoT0rm1iXZaIAlzkaMrKwzzxyXp+/84XtGjWhIeuHMy4zDS1wUvcUICLHMHKrXu5Y04uuXl7OGfAMdx32SCO6dAq1mWJ/AsFuMhhSsrK+dN7a3n0gy/p1KY5f7ruZC4Y3F1n3RKXFOAilRZu3MUdc3JZm7+PK07qyd0XDaCzFp+SOKYAl0avuLSM37y1mif/uYGUDq34681ZnNmvW6zLEqmWAlwatU/W7GDK3Fzydh3g+pHHMnlMP9pr8SkJCAW4NEp7Dhzi/jdWMDMnj15JbZkxcSQjjtPiUxIsCnBpdN5avo27X17Gzv2lTDq9Nz/65vG0aq7FpyR4FODSaBQUlXDvq8t5Y+lWTkjpwBM3ZjE4tWOsyxKps4gC3Mw6AY8DgwAHJrj7p9EoTCRa3J2XFm/ml6+voLiknNvP68fEbxxH86ZafEqCLdIz8D8Af3P3sWbWAlB/scSVzbsP8PO5S/nwiwJOTq9YfKpPNy0+JYmhzgFuZh2BbwA3Abh7KVAanbJEIhMOO8/O38hD81bhwL0XD+D6UVp8ShJLJGfgvYAC4K9mNhRYCPzQ3fcfvpGZTQQmAqSnp0ewO5Ga+bJgH1Pm5JK9YRenHZ/Ery8fTFoX/XIoiSeSi4DNgJOBx9z9JGA/MKXqRu4+zd0z3T0zOTk5gt2JfL2y8jCPfrCW8//wMau3FfGbsUN4esJwhbckrEjOwPOAPHefX/l8NkcIcJGGsHzLHu6Yk8uyzXsZM7A7v7xsIN3aa/EpSWx1DnB332ZmITPr5+6rgbOBFdErTaR6Bw+V8z/vrWHqh+vo3KYFj33rZM4fnBLrskQaRKSzUL4PPFc5A2UdcHPkJYnUTM6GQibPyWVdwX6uPDmVuy86gU5ttPiUNB4RBbi7fw5kRqkWkRrZX1Kx+NRTn26gR8fWPDVhOKf31ecr0vioE1MC5aMvCrhz7lK27DnAjaMy+Nl5/WjXUl/G0jjpK18CYXdxKfe9sZLZC/M4Lrkts749isyMLrEuSySmFOAS9+Yt3crdryxnV3Ep3z2zN98/S4tPiYACXOJY/t6D/Ocry/nb8m0M7NGBpyZkMbCHFp8S+YoCXOKOuzN7YR6/en0FB8vCTB7Tj/84TYtPiVSlAJe4Eios5ucvLeXjNTvIyujMg1cOoXdyu1iXJRKXFOASF8Jh5+lPN/DwW6sx4FeXDuRbI46liRafEjkqBbjE3Nr8Iu6Ys5SFG3dxet9k7r98EKmdtX6JSHUU4BIzh8rDTPtoHX94dw1tWjbl9+OGcvlJPTHTWbdITSjAJSaWbd7D7bNzWbl1LxcOTuHeSwaS3L5lrMsSCRQFuDSog4fKeeTdNfzl43V0aduCqeOHMWZQ91iXJRJICnBpMAvWFzJlTi7rduxnXGYqd10wgI5tmse6LJHAUoBLvdtXUsZD81bxzGcbSe3cmmdvGcGpxyfFuiyRwFOAS716f3U+d81dyta9B5lwSi9+dl5f2rTQl51INOg7SerFrv2l/Or1FcxdvJk+3doxe9Johh3bOdZliSQUBbhElbvzxtKt3PPKcvYcOMQPzurDd8/qQ8tmWnxKJNoU4BI12/ce5O6Xl/H2iu0M7tmRZ24ZwYAeHWJdlkjCijjAzawpkANsdveLIi9JgsbdmZkT4r43VlJaFubO8/tzy6m9aKbFp0TqVTTOwH8IrAR0qtUIbdpZzJ0v5fKPtTsZ3qsLD105hF5JbWNdlkijEFGAm1kqcCFwP/CTqFQkgVBcWsbz8zfxu7e/oGkT477LBnHd8HQtPiXSgCI9A38EmAy0P9oGZjYRmAiQnp4e4e4kltydJXl7mJEd4rUlW9hXUsaZ/ZK5//LB9OjUOtbliTQ6dQ5wM7sIyHf3hWZ2xtG2c/dpwDSAzMxMr+v+JHZ2F5fy0uLNzMgOsWpbEa2aN+HCwT24OiuNrIzOWnxKJEYiOQM/BbjEzC4AWgEdzOxZdx8fndIklsJh59N1O3kxO8Rby7dRWhZmSGpH7r98EBcP7UGHVmqBF4m1Oge4u98J3AlQeQb+M4V38G3bc5DZC0PMyAkRKjxAh1bNuG54OuMy0zQlUCTOaB64cKg8zHur8pmRHeKD1fmEHUb37srPzu3HeQO76w7wInEqKgHu7h8AH0Tj/yUNZ13BPmbkhJizcDM79pXQrX1LbjujN+My0zi2q6YCisQ7nYE3MgdKy5m3bCsvZodYsL6Qpk2Ms/p345qsNE7vm6zmG5EAUYA3Ess27+HF7E28sngLRSVlHNu1DZPH9GPsyal069Aq1uWJSB0owBPYnuJDvLKkYvrf8i17admsCRcMTmFcZhojj+ui6X8iAacATzDuzvz1hczIDvHm0q2UlIUZkNKBX146kEuH9tQdcEQSiAI8QeTvPcjsRXnMzA6xYWcx7Vs246rMVK7JSmdQz46xLk9E6oECPMDKysN8sLqAGTkh3luVT3nYGd6rC98/63guGJxC6xaa/ieSyBTgAbRx535m5oSYlZNHflEJSe1acOtpvRiXmUbv5HaxLk9EGogCPCAOHirnreXbeHFBiE/X7aSJwRn9unF1Vhpn9e9Gc03/E2l0FOBxbsWWvczMCfHS4s3sOXCItC6t+ek5fRmbmUpKR60AKNKYKcDjUNHBQ7y6ZAszskPk5u2hRdMmnDeoO9dkpTHquK5ac1tEAAV43HB3cjbu4sUFFdP/Dhwqp98x7bnn4gFcdmJPOrdtEesSRSTOKMBjbMe+EuYuyuPF7BDrCvbTtkVTLjupB1dnpTM0taOabUTkqBTgMVAedj5aU8CMBSHeXbmdsrAz7NjOPDy2NxcOTqFtSx0WEamekqIBhQqLmZUTYtbCPLbuOUiXti24+ZQMrs5Ko0+3o96VTkTkiBTg9aykrJx3VmxnRnaIT9buAOC045O5+6IBfPOEY2jRTNP/RKRuFOD1ZPW2ImZkh3hpcR67ig/Rs1Nrfnj28VyVmUZP3QBYRKJAAR5F+0rKeH3JFmbkhFi8aTfNmxrnDujOuKw0Tu2TRFNN/xORKFKAR8jdWRzazYwFIV7L3UJxaTl9urXjFxeewOUn9aRru5axLlFEElSdA9zM0oCngWMAB6a5+x+iVVi8K9xfytxFeczIDrEmfx+tmzfl4qEpXJ2VzsnpnTT9T0TqXSRn4GXAT919kZm1Bxaa2TvuviJKtcWdcNj5ZO0OZuSEeHv5Ng6VOyemdeKBKwZz0ZAU2rfSWtsi0nDqHODuvhXYWvm4yMxWAj2BhAvwLbsPMCsnj5k5ITbvPkCnNs0ZP/JYrs5Ko3/3DrEuT0QaqahcAzezDOAkYP4R3psITARIT0+Pxu4aRGlZmL+v3M6L2SE+WlOAO5zaJ4kp5/fnnAHH0Kq51toWkdiKOMDNrB0wB/iRu++t+r67TwOmAWRmZnqk+6tva/P3MTMnxJyFeezcX0r3Dq343pl9GJeZRlqXNrEuT0Tk/0QU4GbWnIrwfs7d50anpIZXXFrGG7lbmZEdImfjLpo1Mc4+oRvXZKXzjb7Jmv4nInEpklkoBjwBrHT330evpIbh7uTm7eHF7BCvLdnCvpIyjktqy53n9+eKk1NJbq/pfyIS3yI5Az8FuB5YamafV772c3d/M/Ky6s/u4lJeXryZF7NDrNpWRKvmTbhgcArXZKWTldFZ0/9EJDAimYXyCRCItAuHnc/W7eTF7BB/W76N0rIwg3t25L7LBnHJiT3ooOl/IhJACd2JuW3PQWYvDDEzJ49NhcV0aNWMa7PSGJeVxsAeHWNdnohIRBIuwA+Vh3l/VT4zskO8vzqfsMPI47rwk3P6MmZQd03/E5GEkTABvn7HfmZkh5i9MI8d+0pIbt+SSaf3ZlxmGhlJbWNdnohI1AU6wA+UljNvWcX0v/nrC2naxDizXzeuzkrjzH7JNGuqtbZFJHEFMsCXbd7DjOwQL3++maKDZRzbtQ23n9ePscNSOaZDq1iXJyLSIAIT4HsOHOLVzyum/y3fspcWzZpwwaDuXJ2VzoheXWiiZhsRaWQCEeB//Psa/vT+WkrKwpyQ0oH/umQgl53Yk45tNP1PRBqvQAR4j06tGTsslWuy0hnUs4OabURECEiAjx2WythhqbEuQ0QkrmiahohIQCnARUQCSgEuIhJQCnARkYBSgIuIBJQCXEQkoBTgIiIBpQAXEQkoc2+4G8WbWQGwsY5/PQnYEcVyYkljiT+JMg7QWOJVJGM51t2Tq77YoAEeCTPLcffMWNcRDRpL/EmUcYDGEq/qYyy6hCIiElAKcBGRgApSgE+LdQFRpLHEn0QZB2gs8SrqYwnMNXAREflXQToDFxGRwyjARUQCKq4C3Mymm1m+mS07yvtmZn80s7VmlmtmJzd0jTVVg7GcYWZ7zOzzyj//2dA11oSZpZnZ+2a2wsyWm9kPj7BNII5LDccSlOPSyswWmNmSyrH81xG2aWlmMyqPy3wzy2j4SqtXw7HcZGYFhx2XW2NRa02YWVMzW2xmrx/hvegeE3ePmz/AN4CTgWVHef8CYB5gwEhgfqxrjmAsZwCvx7rOGowjBTi58nF74AtgQBCPSw3HEpTjYkC7ysfNgfnAyCrbfAeYWvn4GmBGrOuOYCw3Af8b61prOJ6fAM8f6eso2sckrs7A3f0joPBrNrkUeNorfAZ0MrOUhqmudmowlkBw963uvqjycRGwEuhZZbNAHJcajiUQKv+t91U+bV75p+qMhEuBpyofzwbOtji8oWwNxxIIZpYKXAg8fpRNonpM4irAa6AnEDrseR4B/QasNKry18Z5ZjYw1sVUp/LXvZOoOEM6XOCOy9eMBQJyXCp/Vf8cyAfecfejHhd3LwP2AF0btsqaqcFYAK6svEQ328zSGrjEmnoEmAyEj/J+VI9J0AI8kSyiYn2DocD/AC/HuJ6vZWbtgDnAj9x9b6zriUQ1YwnMcXH3cnc/EUgFhpvZoFjXVFc1GMtrQIa7DwHe4f+fxcYNM7sIyHf3hQ21z6AF+Gbg8J+8qZWvBY677/3q10Z3fxNobmZJMS7riMysORWB95y7zz3CJoE5LtWNJUjH5Svuvht4HxhT5a3/Oy5m1gzoCOxs2Opq52hjcfed7l5S+fRxYFhD11YDpwCXmNkG4EXgLDN7tso2UT0mQQvwV4EbKmc9jAT2uPvWWBdVF2bW/atrX2Y2nIpjEXffXJU1PgGsdPffH2WzQByXmowlQMcl2cw6VT5uDZwDrKqy2avAjZWPxwLveeWnZ/GkJmOp8pnKJVR8fhFX3P1Od0919wwqPqB8z93HV9ksqsekWV3/Yn0wsxeomAWQZGZ5wD1UfKCBu08F3qRixsNaoBi4OTaVVq8GYxkL3GZmZcAB4Jp4/Oai4qziemBp5TVKgJ8D6RC441KTsQTluKQAT5lZUyp+yMx099fN7JdAjru/SsUPq2fMbC0VH6hfE7tyv1ZNxvIDM7sEKKNiLDfFrNpaqs9jolZ6EZGACtolFBERqaQAFxEJKAW4iEhAKcBFRAJKAS4iElAKcBGRgFKAi4gE1P8DG07ePZCWUBkAAAAASUVORK5CYII=\\n\"\n          },\n          \"metadata\": {\n            \"needs_background\": \"light\"\n          }\n        }\n      ]\n    },\n    {\n      \"cell_type\": \"markdown\",\n      \"source\": [\n        \"Agora que você já lembrou como se plota um gráfico com a biblioteca matplotlib. Vamos relembrar o que é uma regressão. Mas para isso precisamos relembrar como se representa uma reta em geometria.\\n\",\n        \"\\n\",\n        \"A equação 1 a seguir mostra como representamos uma reta matemáticamente. Lembre-se matemática é uma linguagem logo quando você ver a equação (1) abaixo você deve pensar em uma figura de reta, que corta o eixo y em **b** e tem a inclinação definida por **a**\\n\",\n        \"\\n\",\n        \"\\\\begin{align}\\n\",\n        \"y \u0026=\\\\mathbf{a}x + \\\\mathbf{b} \\\\tag{1}\\n\",\n        \"\\\\end{align}\\n\",\n        \"\\n\",\n        \"Para criar uma reta genérica crie uma função, chamada reta,  que recebe a **variável** x e devolve a **variável** y\"\n      ],\n      \"metadata\": {\n        \"id\": \"1tBRXciCNFpJ\"\n      }\n    },\n    {\n      \"cell_type\": \"markdown\",\n      \"source\": [\n        \"Agora testar essa função precisamos de vários valores de x, mas como criar esse valores manualmente vai demorar muito, vamos usar a função **linspace** da biblioteca numpy. Rode os códigos abaixo e veja o que essa função gera.\"\n      ],\n      \"metadata\": {\n        \"id\": \"V8JYrHUHPkuv\"\n      }\n    },\n    {\n      \"cell_type\": \"code\",\n      \"source\": [\n        \"import numpy as np\"\n      ],\n      \"metadata\": {\n        \"id\": \"1iOF9C9kPeJy\"\n      },\n      \"execution_count\": null,\n      \"outputs\": []\n    },\n    {\n      \"cell_type\": \"code\",\n      \"source\": [\n        \"x = np.linspace(0, 10, 10)\\n\",\n        \"print(x)\"\n      ],\n      \"metadata\": {\n        \"colab\": {\n          \"base_uri\": \"https://localhost:8080/\"\n        },\n        \"id\": \"b5Fa_5G1PrYu\",\n        \"outputId\": \"cdcf2af3-7389-47e3-be7a-f8c5109c0fa9\"\n      },\n      \"execution_count\": null,\n      \"outputs\": [\n        {\n          \"output_type\": \"stream\",\n          \"name\": \"stdout\",\n          \"text\": [\n            \"[ 0.          1.11111111  2.22222222  3.33333333  4.44444444  5.55555556\\n\",\n            \"  6.66666667  7.77777778  8.88888889 10.        ]\\n\"\n          ]\n        }\n      ]\n    },\n    {\n      \"cell_type\": \"markdown\",\n      \"source\": [\n        \"Agora adicione o parâmetro \\\"dtype=int\\\" na função **linspace**. e veja o que acotece com o resultado\\n\"\n      ],\n      \"metadata\": {\n        \"id\": \"uvYKILEzQZb3\"\n      }\n    },\n    {\n      \"cell_type\": \"code\",\n      \"source\": [\n        \"x = np.linspace(0, 10, 10, dtype=int)\\n\",\n        \"print(x)\"\n      ],\n      \"metadata\": {\n        \"id\": \"3RHQtXjiQv9b\",\n        \"colab\": {\n          \"base_uri\": \"https://localhost:8080/\"\n        },\n        \"outputId\": \"38f10dab-4cb3-4e6f-8448-9d213b69167a\"\n      },\n      \"execution_count\": null,\n      \"outputs\": [\n        {\n          \"output_type\": \"stream\",\n          \"name\": \"stdout\",\n          \"text\": [\n            \"[ 0  1  2  3  4  5  6  7  8 10]\\n\"\n          ]\n        }\n      ]\n    },\n    {\n      \"cell_type\": \"markdown\",\n      \"source\": [\n        \"Altere o valor de 0 para 5, **sem** utilizar o parâmetro \\\"dtype=int\\\", e veja o que ocorre\"\n      ],\n      \"metadata\": {\n        \"id\": \"CZrSOZ-iQ--R\"\n      }\n    },\n    {\n      \"cell_type\": \"code\",\n      \"source\": [\n        \"x = np.linspace(5, 10, 10)\\n\",\n        \"print(x)\"\n      ],\n      \"metadata\": {\n        \"id\": \"g7kal56PRIxZ\",\n        \"colab\": {\n          \"base_uri\": \"https://localhost:8080/\"\n        },\n        \"outputId\": \"bc2b3eda-ef93-44cd-caea-92132f763f88\"\n      },\n      \"execution_count\": null,\n      \"outputs\": [\n        {\n          \"output_type\": \"stream\",\n          \"name\": \"stdout\",\n          \"text\": [\n            \"[ 5.          5.55555556  6.11111111  6.66666667  7.22222222  7.77777778\\n\",\n            \"  8.33333333  8.88888889  9.44444444 10.        ]\\n\"\n          ]\n        }\n      ]\n    },\n    {\n      \"cell_type\": \"markdown\",\n      \"source\": [\n        \"Altere o valor do primeiro 10 para 5, **sem** utilizar o parâmetro \\\"dtype=int\\\", e veja o que ocorre. Depois altere de 5 para 20 e veja o que ocorre\"\n      ],\n      \"metadata\": {\n        \"id\": \"vrPpV-SURJ0G\"\n      }\n    },\n    {\n      \"cell_type\": \"code\",\n      \"source\": [\n        \"x = np.linspace(5, 5, 10)\\n\",\n        \"print(x)\\n\",\n        \"\\n\",\n        \"x = np.linspace(5, 20, 10)\\n\",\n        \"print(x)\"\n      ],\n      \"metadata\": {\n        \"id\": \"NjZXRcGBRUOt\",\n        \"colab\": {\n          \"base_uri\": \"https://localhost:8080/\"\n        },\n        \"outputId\": \"812600d1-4bfe-4b15-c923-9a4a2dd6a73f\"\n      },\n      \"execution_count\": null,\n      \"outputs\": [\n        {\n          \"output_type\": \"stream\",\n          \"name\": \"stdout\",\n          \"text\": [\n            \"[5. 5. 5. 5. 5. 5. 5. 5. 5. 5.]\\n\",\n            \"[ 5.          6.66666667  8.33333333 10.         11.66666667 13.33333333\\n\",\n            \" 15.         16.66666667 18.33333333 20.        ]\\n\"\n          ]\n        }\n      ]\n    },\n    {\n      \"cell_type\": \"markdown\",\n      \"source\": [\n        \"Por fim, altere o segundo valor de 10 para 20 e veja o que ocorre\"\n      ],\n      \"metadata\": {\n        \"id\": \"36JlFvmhRi_M\"\n      }\n    },\n    {\n      \"cell_type\": \"code\",\n      \"source\": [\n        \"x = np.linspace(5, 20, 20)\\n\",\n        \"print(x)\"\n      ],\n      \"metadata\": {\n        \"id\": \"TlUKsRRARscs\",\n        \"colab\": {\n          \"base_uri\": \"https://localhost:8080/\"\n        },\n        \"outputId\": \"a4190db9-b15f-4132-a386-3836bc443ca7\"\n      },\n      \"execution_count\": null,\n      \"outputs\": [\n        {\n          \"output_type\": \"stream\",\n          \"name\": \"stdout\",\n          \"text\": [\n            \"[ 5.          5.78947368  6.57894737  7.36842105  8.15789474  8.94736842\\n\",\n            \"  9.73684211 10.52631579 11.31578947 12.10526316 12.89473684 13.68421053\\n\",\n            \" 14.47368421 15.26315789 16.05263158 16.84210526 17.63157895 18.42105263\\n\",\n            \" 19.21052632 20.        ]\\n\"\n          ]\n        }\n      ]\n    },\n    {\n      \"cell_type\": \"markdown\",\n      \"source\": [\n        \"Agora que você já entendeu como a função **linspace** funciona, vamos usar ela para gerar o gráfico da equação (1) para isso criar duas variávels chamadas **a** e **b** com os valores de 1 e 2\"\n      ],\n      \"metadata\": {\n        \"id\": \"3shhoQsiRUwG\"\n      }\n    },\n    {\n      \"cell_type\": \"code\",\n      \"source\": [\n        \"a = 1\\n\",\n        \"b = 2\\n\",\n        \"\\n\",\n        \"x = np.linspace(a, b)\\n\",\n        \"y = np.linspace(a, b)\\n\",\n        \"\\n\",\n        \"fig, ax = plt.subplots()\\n\",\n        \"ax.plot(x,y)\\n\",\n        \"plt.show()\"\n      ],\n      \"metadata\": {\n        \"id\": \"IGepfql3Slv5\",\n        \"colab\": {\n          \"base_uri\": \"https://localhost:8080/\",\n          \"height\": 265\n        },\n        \"outputId\": \"ff2587b6-fa0d-47cb-8e5b-26442eb752b6\"\n      },\n      \"execution_count\": null,\n      \"outputs\": [\n        {\n          \"output_type\": \"display_data\",\n          \"data\": {\n            \"text/plain\": [\n              \"\u003cFigure size 432x288 with 1 Axes\u003e\"\n            ],\n            \"image/png\": \"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\\n\"\n          },\n          \"metadata\": {\n            \"needs_background\": \"light\"\n          }\n        }\n      ]\n    },\n    {\n      \"cell_type\": \"markdown\",\n      \"source\": [\n        \"Quando estamos criando uma função é muito comum querermos testar ela passo a passo. Uma forma de fazer isso é utilizando o valor **pass** na função, dessa forma a função poderá ser executada mesmo sem estar pronta. Exemplo:\\n\",\n        \"\\n\",\n        \"```\\n\",\n        \"def test():\\n\",\n        \"  pass\\n\",\n        \"```\\n\",\n        \"Utilize essa ideia para criar a função chamada **\\\"plotarFuncao\\\"** que recebe os parâmetros **a** e **b** definidos acima, com o pass.\\n\",\n        \"\\n\",\n        \"Essa função, como o nome sugere irá plotar o gráfico de uma função.\"\n      ],\n      \"metadata\": {\n        \"id\": \"EKwtfvhIStI_\"\n      }\n    },\n    {\n      \"cell_type\": \"code\",\n      \"source\": [\n        \"def plotarFuncao(a, b):\\n\",\n        \"  pass\"\n      ],\n      \"metadata\": {\n        \"id\": \"GsYc8JHET3_r\"\n      },\n      \"execution_count\": null,\n      \"outputs\": []\n    },\n    {\n      \"cell_type\": \"markdown\",\n      \"source\": [\n        \"Dentro da função **\\\"plotarFuncao\\\"** já temos os valores de **a** e **b**, para finalizar a função precisamos dos valores de **x** e **y**.\\n\",\n        \"\\n\",\n        \"**y** será calculado com base em **x**, **a** e **b**. Como já temos **a** e **b**, precisaremos criar apenas o **x**, para isso utilizaremos a função **linspace** que agora você já conhece! Copie a função que você definiu acima com o pass e no lugar de pass, criar os valores de x que vão de 0 a 100.\"\n      ],\n      \"metadata\": {\n        \"id\": \"Yuzppl3XT4uC\"\n      }\n    },\n    {\n      \"cell_type\": \"code\",\n      \"source\": [\n        \"def plotarFuncao(a, b):\\n\",\n        \"  x = np.linspace(0, 100)\\n\",\n        \"  pass\"\n      ],\n      \"metadata\": {\n        \"id\": \"495DeNGFVQ3e\"\n      },\n      \"execution_count\": null,\n      \"outputs\": []\n    },\n    {\n      \"cell_type\": \"markdown\",\n      \"source\": [\n        \"O ultimo passo antes de plot o gráfico é gerar **y**, vamos fazer isso utilizando a equação (1). Adicione a seguinte linha na função **plotarFuncao**:\\n\",\n        \"\\n\",\n        \"```\\n\",\n        \"y = a*x + b\\n\",\n        \"```\\n\",\n        \"\\n\"\n      ],\n      \"metadata\": {\n        \"id\": \"x4IexrVFVSEF\"\n      }\n    },\n    {\n      \"cell_type\": \"markdown\",\n      \"source\": [\n        \"Por fim, finalize a função **plotarFuncao** plotando o gráfico, como você fez anteriormente.\"\n      ],\n      \"metadata\": {\n        \"id\": \"RE5RudZaV5Xa\"\n      }\n    },\n    {\n      \"cell_type\": \"code\",\n      \"source\": [\n        \"def plotarFuncao(a, b):\\n\",\n        \"  x = np.linspace(0, 100)\\n\",\n        \"  y = a*x + b\\n\",\n        \"  fig, ax = plt.subplots()\\n\",\n        \"  return ax.plot(x,y)\\n\",\n        \"\\n\",\n        \"plotarFuncao(a, b)\"\n      ],\n      \"metadata\": {\n        \"id\": \"KhMXcQ_OWFuQ\",\n        \"colab\": {\n          \"base_uri\": \"https://localhost:8080/\",\n          \"height\": 282\n        },\n        \"outputId\": \"deffa0a0-c49d-4d24-c81f-651fb92c8429\"\n      },\n      \"execution_count\": null,\n      \"outputs\": [\n        {\n          \"output_type\": \"execute_result\",\n          \"data\": {\n            \"text/plain\": [\n              \"[\u003cmatplotlib.lines.Line2D at 0x7fa773fdd5d0\u003e]\"\n            ]\n          },\n          \"metadata\": {},\n          \"execution_count\": 47\n        },\n        {\n          \"output_type\": \"display_data\",\n          \"data\": {\n            \"text/plain\": [\n              \"\u003cFigure size 432x288 with 1 Axes\u003e\"\n            ],\n            \"image/png\": \"iVBORw0KGgoAAAANSUhEUgAAAXcAAAD4CAYAAAAXUaZHAAAABHNCSVQICAgIfAhkiAAAAAlwSFlzAAALEgAACxIB0t1+/AAAADh0RVh0U29mdHdhcmUAbWF0cGxvdGxpYiB2ZXJzaW9uMy4yLjIsIGh0dHA6Ly9tYXRwbG90bGliLm9yZy+WH4yJAAAgAElEQVR4nO3deXhU5f3+8ffDTljCGgiEEPY1gBA2sYjCTxGoCKi1togr1i62tpUERYXigmhLbd1KXYqtdSNBEBBRhLoji5KEkEBYkxBIIJCELGSZ5/dHxl58FSpkJjmZM/frunJl5sxMzud4ktuTw8k9xlqLiIi4Sz2nBxAREf9TuIuIuJDCXUTEhRTuIiIupHAXEXGhBk4PANCuXTsbFRXl9BgiIgFl27Ztx6y17c/2WJ0I96ioKLZu3er0GCIiAcUYc/Bcj+m0jIiICyncRURcSOEuIuJCCncRERdSuIuIuJDCXUTEhRTuIiIupHAXEXFASVklj727i8wTxTXy9evEHzGJiASTz9KPEZeQxKG8YiJahzBzVFe/r+N7j9yNMS8ZY3KMMclnLGtjjHnfGLPH+7m1d7kxxvzFGJNujEk0xgz1+8QiIgEqv6ScuPhEbnxhM/UMvD57VI0EO5zfaZl/ABO/tSwO2GCt7QVs8N4HuAro5f2YDTznnzFFRALb+ylHuWLJf3hzawZ3Xtqddb8Zy6jubWtsfd97WsZa+5ExJupbi6cC47y3lwGbgFjv8lds1Xv3fWGMaWWMCbfWZvtrYBGRQHLs1Gnmr9rJ6sRs+nZswd9vimFQRKsaX291z7l3OCOwjwAdvLc7AxlnPC/Tu+w74W6MmU3V0T2RkZHVHENEpG6y1vL211kseCeF4tOV/O7/9ebOS3vQqEHtXMfi8z+oWmutMeaC32XbWrsUWAoQExOjd+kWEdc4fLKE+1cksTEtl4siW7F4xiB6dWhRqzNUN9yPfnO6xRgTDuR4l2cBXc54XoR3mYiI63k8lle/PMTj76ZS6bE8OKU/sy6Oon49U+uzVDfcVwGzgEXezyvPWP5LY8zrwEggX+fbRSQY7D9WRGx8Il/uz+OSnu14bHo0XdqEODbP94a7MeY1qv7xtJ0xJhN4iKpQf9MYcxtwELje+/S1wCQgHSgGbqmBmUVE6oyKSg8vfLKfJe/vplGDeiyeMYjrYiIwpvaP1s90PlfL/PgcD40/y3Mt8AtfhxIRCQQphwuIjU8kKSufKwd0YOHUgYS1bOL0WID+QlVE5IKdrqjk6Q/TeW7TXlqFNOTZnwzlqoEdHT9aP5PCXUTkAmw7eILY+ETSc04xfWhnHpjcn9bNGjk91nco3EVEzkPR6QqeXJ/GPz47QHjLJvzjluGM6xPm9FjnpHAXEfkeH+/JZW5CEpknSrhpdFfmTOxL88Z1Oz7r9nQiIg7KLy7nkbUpvLk1k+7tmvHmnaMZ0a2N02OdF4W7iMhZrEs+wgMrk8krKuPn43pw9/heNGlY3+mxzpvCXUTkDDmFpcxftZO1SUfoH96Sl28ezsDOoU6PdcEU7iIiVBV9JWzP4g+rUygpr+TeK/swe2x3GtYPzDesU7iLSNDLPFHMfSuS+Wh3LsO6tubxGYPoGdbc6bF8onAXkaDl8Vj+tfkgj7+bigUWXD2AmaO6Us+Boi9/U7iLSFDam3uKuPhEthw4wdje7Xl02kAiWjtX9OVvCncRCSrllR7+/vE+/vzBHpo2rM+T1w1mxtDOdao6wB8U7iISNJKz8omNT2Tn4QImRXdk/tUDCGtRN4q+/E3hLiKuV1peyV8/3MPz/9lH65BGPP/ToUwcGO70WDVK4S4irrb1QB5z4hPZl1vEdcMimDe5P6EhDZ0eq8Yp3EXElYpOV/DEe2ks+/wAnUKb8sqtIxjbu73TY9UahbuIuM5Hu6uKvg7nlzBrdBT3XtmHZnW86MvfgmtrRcTVThaX8fCaXSzflkmP9s14687RxEQFRtGXvyncRcQV3k3K5oGVOzlRXMYvL+vJLy/vGVBFX/6mcBeRgJZTUMqDK3eybucRBnRqybJbhzOgU+AVffmbwl1EApK1lre2ZfLw6hRKKzzETuzLHT/oRoMALfryN4W7iAScjLxi5iYk8Un6MUZEtWHRjGi6tw/soi9/U7iLSMCo9Fhe+fwAi9elUc/AwqkD+MlIdxR9+ZvCXUQCQnpOIXOWJ7L90EnG9WnPI9Oi6dyqqdNj1VkKdxGp08orPfztP3v5y4Z0QhrXZ8mPBnPNEPcVffmbwl1E6qykzHzuXb6D1COFTB4UzoKrB9CueWOnxwoICncRqXNKyyv58wd7+PvH+2jbrBF/mzmMKwd0dHqsgKJwF5E6ZfO+48QlJLH/WBE3DO/C3En9CG3q/qIvf1O4i0idUFhazuJ1afzzi4N0adOUV28fyZie7ZweK2Ap3EXEcRvTcrg/IYnsglJuu6Qbv7uiNyGNFE++0H89EXFMXlEZC1ensOKrLHqFNSf+rosZGtna6bFcwadwN8bcA9wOWCAJuAUIB14H2gLbgJnW2jIf5xQRF7HWsiYpm4dW7iS/pJy7L+/JLy7vSeMGwVv05W/VLmEwxnQG7gZirLUDgfrADcDjwBJrbU/gBHCbPwYVEXc4WlDK7H9u45f//orOrZvyzq8u4bdX9FGw+5mvp2UaAE2NMeVACJANXA7c6H18GTAfeM7H9YhIgLPW8saWDB5Zu4uyCg/3TerLrWNU9FVTqh3u1tosY8yTwCGgBFhP1WmYk9baCu/TMoHOZ3u9MWY2MBsgMjKyumOISAA4dLyYuIREPtt7nJHd2vD4jEFEtWvm9FiuVu1wN8a0BqYC3YCTwFvAxPN9vbV2KbAUICYmxlZ3DhGpuyo9lpc/3c+T69NoUK8eD18zkBtHRKroqxb4clpmArDfWpsLYIxJAMYArYwxDbxH7xFAlu9jikig2X20qujr64yTXN43jEemDSQ8VEVftcWXcD8EjDLGhFB1WmY8sBXYCFxL1RUzs4CVvg4pIoGjrMLDc5v28vTGPbRo0pCnbhjC1YM7qeirlvlyzn2zMWY5sB2oAL6i6jTLGuB1Y8zD3mUv+mNQEan7dmScJDY+kdQjhUwd0okHp/SnrYq+HOHT1TLW2oeAh761eB8wwpevKyKBpaSskiUf7OaFj/cR1qIJL9wUw4T+HZweK6jpL1RFxCef7z3O3IREDhwv5saRkcRd1ZeWTVT05TSFu4hUS0FpOYveTeXfmw/RtW0I/75jJBf3UNFXXaFwF5EL9mHqUe5LSCansJTZY7tzz4TeNG2kvzCtSxTuInLejp86zR9Wp7Dy68P06dCC52cOY0iXVk6PJWehcBeR72WtZdWOwyx4J4XC0nLumdCbu8b1oFEDVQfUVQp3EfmfsvNLmLcimQ2pOQzu0orFMwbRp2MLp8eS76FwF5Gz8ngsr2/J4LG1uyj3eJg3uR+3jOlGfVUHBASFu4h8x4FjRcQlJPLFvjxGd2/LohnRdG2roq9AonAXkf+qqPTw0qf7+eP63TSqX49F06P50fAuqg4IQAp3EQEg9UgBscsT2ZGZz4R+HXj4moF0DG3i9FhSTQp3kSB3uqKSZzbu5dmN6YQ2bcjTN17E5OhwHa0HOIW7SBDbfugEscsT2ZNzimuGdOLBHw6gTbNGTo8lfqBwFwlCxWUV/HH9bl76dD8dWzbh5ZuHc1nfMKfHEj9SuIsEmU/TjxGXkEhGXgk/HRVJ7MS+tFDRl+so3EWCRH5JOY+t3cXrWzLo1q4Zb8wexcjubZ0eS2qIwl0kCKzfeYR5bydzvKiMOy+tKvpq0lBFX26mcBdxsWOnTjN/1U5WJ2bTL7wlL84aTnREqNNjSS1QuIu4kLWWt7/OYsE7KRSfruT3V/Tmzkt70LC+ir6ChcJdxGUOnyzh/hVJbEzLZWhkKxZfO4ieYSr6CjYKdxGX8Hgsr355iEVrd+Gx8OCU/sy6OEpFX0FK4S7iAvtyTxEXn8SXB/K4pGc7HpseTZc2IU6PJQ5SuIsEsIpKDy98sp8l7++mcYN6LL52ENcNi1B1gCjcRQJVyuECYuMTScrK58oBHVg4dSBhLVX0JVUU7iIB5nRFJU9/mM5zm/bSKqQhz9w4lEnRHXW0Lv+Hwl0kgGw7mEdsfBLpOaeYMTSCeZP70VpFX3IWCneRAFB0uoIn3ktj2ecH6BTalGW3juDS3u2dHkvqMIW7SB338Z5c5iYkkXWyhJtGdeXeiX1p3lg/uvK/6TtEpI7KLy7n4TUpvLUtk+7tm/HmnaMZHtXG6bEkQCjcReqgdclHeGBlMnlFZfx8XA/uHt9LRV9yQRTuInVITmEp81ftZG3SEfqHt+Tlm4czsLOKvuTC+RTuxphWwAvAQMACtwJpwBtAFHAAuN5ae8KnKUVczlpL/PYsFq5OoaS8knuv7MPssd1V9CXV5uuR+1PAOmvttcaYRkAIcB+wwVq7yBgTB8QBsT6uR8S1Mk8Uc9+KZD7anUtM19YsmjGInmHNnR5LAly1w90YEwqMBW4GsNaWAWXGmKnAOO/TlgGbULiLfIfHY/nnFwd5fF0qAAuuHsDMUV2pp6Iv8QNfjty7AbnAy8aYwcA24NdAB2tttvc5R4AOZ3uxMWY2MBsgMjLShzFEAs/e3FPELk9k68ETjO3dnkenDSSitYq+xH98CfcGwFDgV9bazcaYp6g6BfNf1lprjLFne7G1dimwFCAmJuaszxFxm/JKD3//eB9//mAPTRvW58nrBjNjaGdVB4jf+RLumUCmtXaz9/5yqsL9qDEm3FqbbYwJB3J8HVLEDZKz8omNT2Tn4QKuGtiRBVMHENZCRV9SM6od7tbaI8aYDGNMH2ttGjAeSPF+zAIWeT+v9MukIgGqtLySv2zYw98+2kfrkEY8/9OhTBwY7vRY4nK+Xi3zK+BV75Uy+4BbgHrAm8aY24CDwPU+rkMkYG05kEdsfCL7cou4blgE8yb3JzSkodNjSRDwKdyttV8DMWd5aLwvX1ck0J06XcET61J55YuDdAptyiu3jmCsir6kFukvVEX8bFNaDvevSOZwfgmzRkdx75V9aKaiL6ll+o4T8ZMTRWUsXJNCwvYserRvxvKfjWZYVxV9iTMU7iI+stbybvIRHlyZzMnicn51eU9+cVlPFX2JoxTuIj7IKSjlgZXJvLfzKNGdQ3nl1pH079TS6bFEFO4i1WGt5a2tmSxck0JZhYfYiX254wfdaKCiL6kjFO4iFygjr5i5CUl8kn6MEd3asGh6NN3bq+hL6haFu8h5qvRYln12gCfeS6N+PcPD1wzkxhGRKvqSOknhLnIe9hwtJDY+ke2HTjKuT3senRZNp1ZNnR5L5JwU7iL/Q3mlh+c37eWvH6YT0rg+S340mGuGqOhL6j6Fu8g5JGXmc+/yHaQeKWTKoHDmXz2Ads0bOz2WyHlRuIt8S2l5JUs+2M3fP9pHu+aNWTpzGFcM6Oj0WCIXROEucobN+44Tl5DE/mNF3DC8C3Mn9SO0qYq+JPAo3EWAwtJyHl+Xyr++OESXNk159faRjOnZzumxRKpN4S5Bb2NqDvevSCK7oJTbLunG767oTUgj/WhIYNN3sAStvKIyFq5OYcVXWfQKa078XRczNLK102OJ+IXCXYKOtZY1Sdk8tHIn+SXl3D2+F7+4rAeNG6joS9xD4S5B5WhBKfPeTub9lKMMigjlX7ePpF+4ir7EfRTuEhSstbyxJYNH1u6irMLDfZP6cusYFX2JeyncxfUOHS8mLiGRz/YeZ2S3Njw+YxBR7Zo5PZZIjVK4i2tVeiwvf7qfJ9en0bBePR6dFs0Nw7uo6EuCgsJdXCntSCFz4hPZkXGS8X3DeHjaQMJDVfQlwUPhLq5SVuHh2U3pPLMxnRZNGvLUDUO4enAnFX1J0FG4i2vsyDjJnOWJpB0tZOqQTjw4pT9tVfQlQUrhLgGvpKySP72fxouf7CesRRNeuCmGCf07OD2WiKMU7hLQPt97nLiERA4eL+bHIyKZO6kvLZuo6EtE4S4BqaC0nMfWpvLal4fo2jaEf98xkot7qOhL5BsKdwk4G3Yd5f4VyeQUljJ7bHfumdCbpo1UHSByJoW7BIzjp06z4J0UVu04TN+OLfjbzGEM7tLK6bFE6iSFu9R51lpW7TjMgndSKCwt554JvblrXA8aNVB1gMi5KNylTsvOL2HeimQ2pOYwpEsrFl87iN4dWjg9lkidp3CXOsnjsby25RCPrU2lwuNh3uR+3DKmG/VVHSByXnwOd2NMfWArkGWtnWKM6Qa8DrQFtgEzrbVlvq5HgseBY0XEJSTyxb48Lu7RlkXTBxHZNsTpsUQCij9OWv4a2HXG/ceBJdbansAJ4DY/rEOCQEWlh6Uf7eXKP3/EzsMFLJoezau3j1Swi1SDT+FujIkAJgMveO8b4HJgufcpy4BrfFmHBIdd2QVMf+4zHl2bytje7fngt5dyw4hIdcKIVJOvp2X+DMwBvvkXrrbASWtthfd+JtD5bC80xswGZgNERkb6OIYEqtMVlTyzcS/PbkwntGlDnr7xIiZHhyvURXxU7XA3xkwBcqy124wx4y709dbapcBSgJiYGFvdOSRwbT90gtjliezJOcX0izrzwJT+tG7WyOmxRFzBlyP3McDVxphJQBOgJfAU0MoY08B79B4BZPk+prhJcVkFf1y/m5c+3U94yya8fPNwLusb5vRYIq5S7XC31s4F5gJ4j9x/b639iTHmLeBaqq6YmQWs9MOc4hKfph8jLiGRjLwSZo7qypyJfWihoi8Rv6uJ69xjgdeNMQ8DXwEv1sA6JMDkl5Tz2NpdvL4lg27tmvHG7FGM7N7W6bFEXMsv4W6t3QRs8t7eB4zwx9cVd1i/8wjz3k7meFEZP7u0B7+Z0IsmDVX0JVKT9BeqUmNyC08z/52drEnMpm/HFrw4azjREaFOjyUSFBTu4nfWWt7+OosF76RQfLqS31/Rmzsv7UHD+ir6EqktCnfxq6yTJdy/IolNabkMjawq+uoZpqIvkdqmcBe/8Hgsr355iEVrd+Gx8NAP+3PT6CgVfYk4ROEuPtuXe4q4+CS+PJDHJT3b8dj0aLq0UR+MiJMU7lJtFZUeXvhkP0ve303jBvVYfO0grhsWoeoAkTpA4S7VknK4gDnxO0jOKuDKAR1YOHUgYS2bOD2WiHgp3OWClJZX8vSH6Tz/n720CmnEcz8ZylXR4U6PJSLfonCX87btYB5zlieyN7eIGUMjeGBKP1qFqOhLpC5SuMv3KjpdwRPvpbHs8wN0Cm3KP24Zzrg+KvoSqcsU7vI/fbQ7l7kJSWSdLGHW6K7cO7EvzRvr20akrtNPqZxVfnE5C9eksHxbJt3bN+Otn41meFQbp8cSkfOkcJfvWJeczQMrd5JXVMbPx/Xg7vEq+hIJNAp3+a+cwlIeWrmTd5OP0D+8JS/fPJyBnVX0JRKIFO6CtZb47VksXJ1CSXklcyb24Y4fdFfRl0gAU7gHuYy8Yu5bkcTHe44R07U1j187iB7tmzs9loj4SOEepDweyyufH2Dxe2kY4A9TB/DTkV2pp6IvEVdQuAeh9JxTxMUnsvXgCS7t3Z5Hpg0korWKvkTcROEeRMorPSz9aB9PfbCHkMb1+dP1g5l2UWcVfYm4kMI9SCRn5TNneSIp2QVMjg5n/tUDaN+isdNjiUgNUbi7XGl5JU9t2MPSj/bRplkjnv/pMCYO7Oj0WCJSwxTuLrblQB6xyxPZd6yI62MiuH9Sf0JDGjo9lojUAoW7C506XcHidam88vlBIlo35V+3jeSSXu2cHktEapHC3WU2peVwX0IS2QWl3DImit9f0YdmKvoSCTr6qXeJE0VlLFydQsJXWfQMa87yn13MsK6tnR5LRByicA9w1lrWJh3hoVXJnCwu5+7Le/KLy3vSuIGKvkSCmcI9gOUUlDLv7WTWpxwlunMor9w6kv6dWjo9lojUAQr3AGSt5a2tmSxck0JZhYe5V/Xltku60UBFXyLipXAPMBl5xcxNSOKT9GOM6NaGRdOj6a6iLxH5FoV7gKj0WJZ9doAn3kujfj3Dw9cM5MYRkSr6EpGzqna4G2O6AK8AHQALLLXWPmWMaQO8AUQBB4DrrbUnfB81eO05WkhsfCLbD53ksj7teWRaNJ1aNXV6LBGpw3w5cq8Afmet3W6MaQFsM8a8D9wMbLDWLjLGxAFxQKzvowafsgoPf/vPXv76YTrNGtdnyY8Gc80QFX2JyPerdrhba7OBbO/tQmPMLqAzMBUY533aMmATCvcLlph5kjnLE0k9UsgPB3fioR/2p11zFX2JyPnxyzl3Y0wUcBGwGejgDX6AI1Sdtjnba2YDswEiIyP9MYYrlJZXsuT93fz94320b9GYpTOHccUAFX2JyIXxOdyNMc2BeOA31tqCM08ZWGutMcae7XXW2qXAUoCYmJizPifYfLHvOHHxiRw4XsyPR3Qh7qp+hDZV0ZeIXDifwt0Y05CqYH/VWpvgXXzUGBNurc02xoQDOb4O6XaFpeUsejeVVzcfokubpvz79pFc3FNFXyJSfb5cLWOAF4Fd1to/nfHQKmAWsMj7eaVPE7rch6lHuX9FMkcLSrn9km789orehDTSFaoi4htfUmQMMBNIMsZ87V12H1Wh/qYx5jbgIHC9byO6U15RGX94Zydvf32YXmHNefaui7koUkVfIuIfvlwt8wlwrmvyxlf367qdtZZ3ErOZv2onBSXl/Hp8L35+WQ8VfYmIX+n3/1p0JL+UeW8n8cGuHAZFhLL4jpH07aiiLxHxP4V7LbDW8vqWDB5ds4tyj4f7J/XjljFRKvoSkRqjcK9hB48XERefxOf7jjOqexsWTR9EVLtmTo8lIi6ncK8hlR7Ly5/u58n1aTSsV49Hp0Vzw/AuKvoSkVqhcK8BaUcKmROfyI6Mk4zvG8bD0wYSHqqiLxGpPQp3Pyqr8PDspnSe2ZhOiyYNeeqGIVw9uJOKvkSk1inc/eTrjJPELk8k7WghU4d04sEp/Wmroi8RcYjC3UclZZX86f00XvxkP2EtmvDirBjG9ztrV5qISK1RuPvgs73HiItP4lBeMTeOjCTuqr60bKKiLxFxnsK9GgpKy3lsbSqvfXmIrm1D+PcdI7m4h4q+RKTuULhfoA9SjjLv7WRyCkuZPbY790zoTdNGqg4QkbpF4X6ejp86zYJ3Uli14zB9O7bgbzOHMbhLK6fHEhE5K4X797DWsmrHYeav2smp0xXcM6E3d43rQaMGqg4QkbpL4f4/ZOeXMG9FMhtScxjSpRWLrx1E7w4tnB5LROR7KdzPwuOxvLblEI+tTaXSY3lgSn9uvjiK+qoOEJEAoXD/lv3HioiLT2Tz/jzG9GzLY9MGEdk2xOmxREQuiMLdq6LSw0uf7ueP63fTqEE9Hp8RzfUxXVQdICIBSeEO7MouIDY+kcTMfCb068Aj0wbSoWUTp8cSEam2oA730xWVPPNhOs9u2kto04Y8feNFTI4O19G6iAS8oA337YdOELs8kT05p5h+UWcemNKf1s0aOT2WiIhfBF24F5dV8OR7u3n5s/2Et2zCy7cM57I+YU6PJSLiV0EV7p+mHyMuIZGMvBJ+OiqS2Il9aaGiLxFxoaAI9/ySch5ds4s3tmbQrV0z3pg9ipHd2zo9lohIjXF9uK/feYR5bydzvKiMu8b14Nfje9GkoYq+RMTdXBvuuYWnmf/OTtYkZtMvvCUvzhpOdESo02OJiNQK14W7tZYVX2Xxh9UpFJ+u5N4r+zB7bHca1lfRl4gED1eFe9bJEu5fkcSmtFyGRlYVffUMU9GXiAQfV4S7x2N5dfNBFr2bigXm/7A/M0er6EtEglfAh/ve3FPExSey5cAJftCrHY9Oi6ZLGxV9iUhwC+hwf3NLBvNWJtOkQT2euHYQ1w6LUHWAiAgBHu7d2jdjfN8wFkwdQFgLFX2JiHyjRsLdGDMReAqoD7xgrV1UE+sZHtWG4VFtauJLi4gENL9fH2iMqQ88A1wF9Ad+bIzp7+/1iIjIudXExd8jgHRr7T5rbRnwOjC1BtYjIiLnUBPh3hnIOON+pnfZ/2GMmW2M2WqM2Zqbm1sDY4iIBC/H/mzTWrvUWhtjrY1p3769U2OIiLhSTYR7FtDljPsR3mUiIlJLaiLctwC9jDHdjDGNgBuAVTWwHhEROQe/Xwppra0wxvwSeI+qSyFfstbu9Pd6RETk3GrkOndr7VpgbU18bRER+X7GWuv0DBhjcoGD1Xx5O+CYH8cJBNrm4KBtDg6+bHNXa+1Zr0ipE+HuC2PMVmttjNNz1CZtc3DQNgeHmtpmvYOFiIgLKdxFRFzIDeG+1OkBHKBtDg7a5uBQI9sc8OfcRUTku9xw5C4iIt+icBcRcaGADndjzERjTJoxJt0YE+f0PDXBGNPFGLPRGJNijNlpjPm1d3kbY8z7xpg93s+tnZ7Vn4wx9Y0xXxljVnvvdzPGbPbu6ze81RauYYxpZYxZboxJNcbsMsaMDoJ9fI/3ezrZGPOaMaaJ2/azMeYlY0yOMSb5jGVn3a+myl+8255ojBnqy7oDNtyD6E1BKoDfWWv7A6OAX3i3Mw7YYK3tBWzw3neTXwO7zrj/OLDEWtsTOAHc5shUNecpYJ21ti8wmKptd+0+NsZ0Bu4GYqy1A6mqKrkB9+3nfwATv7XsXPv1KqCX92M28JwvKw7YcCdI3hTEWpttrd3uvV1I1Q99Z6q2dZn3acuAa5yZ0P+MMRHAZOAF730DXA4s9z7FbdsbCowFXgSw1pZZa0/i4n3s1QBoaoxpAIQA2bhsP1trPwLyvrX4XPt1KvCKrfIF0MoYE17ddQdyuJ/Xm4K4iTEmCrgI2Ax0sNZmex86AnRwaKya8GdgDuDx3m8LnLTWVnjvu21fdwNygZe9p6JeMMY0w8X72FqbBTwJHKIq1POBbbh7P3/jXPvVr5kWyOEeVIwxzYF44DfW2oIzH7NV17O64ppWY8wUIMdau83pWWpRA2Ao8Jy19iKgiG+dgnHTPgbwnmeeStX/2DoBzfju6QvXq8n9GsjhHjRvCmKMaUhVsL9qrU3wLj76za9s3s85Ts3nZ2OAq40xB6g61flr0noAAAFHSURBVHY5VeejW3l/fQf37etMINNau9l7fzlVYe/WfQwwAdhvrc211pYDCVTtezfv52+ca7/6NdMCOdyD4k1BvOebXwR2WWv/dMZDq4BZ3tuzgJW1PVtNsNbOtdZGWGujqNqnH1prfwJsBK71Ps012wtgrT0CZBhj+ngXjQdScOk+9joEjDLGhHi/x7/ZZtfu5zOca7+uAm7yXjUzCsg/4/TNhbPWBuwHMAnYDewF7nd6nhraxkuo+rUtEfja+zGJqvPQG4A9wAdAG6dnrYFtHwes9t7uDnwJpANvAY2dns/P2zoE2Ordz28Drd2+j4EFQCqQDPwTaOy2/Qy8RtW/KZRT9Rvabefar4Ch6grAvUASVVcSVXvdqh8QEXGhQD4tIyIi56BwFxFxIYW7iIgLKdxFRFxI4S4i4kIKdxERF1K4i4i40P8HgDdtCM7HhHoAAAAASUVORK5CYII=\\n\"\n          },\n          \"metadata\": {\n            \"needs_background\": \"light\"\n          }\n        }\n      ]\n    },\n    {\n      \"cell_type\": \"markdown\",\n      \"source\": [\n        \"Agora execute a função **plotarFuncao** com **a **= 2 e **b** = 10, veja o que ocorre.\"\n      ],\n      \"metadata\": {\n        \"id\": \"i88lbupAWQNm\"\n      }\n    },\n    {\n      \"cell_type\": \"code\",\n      \"source\": [\n        \"plotarFuncao(2, 10)\"\n      ],\n      \"metadata\": {\n        \"id\": \"0f4hNuyNWaPU\",\n        \"colab\": {\n          \"base_uri\": \"https://localhost:8080/\",\n          \"height\": 282\n        },\n        \"outputId\": \"ede28cec-dfcc-46f2-ae2f-38a8e41e2838\"\n      },\n      \"execution_count\": null,\n      \"outputs\": [\n        {\n          \"output_type\": \"execute_result\",\n          \"data\": {\n            \"text/plain\": [\n              \"[\u003cmatplotlib.lines.Line2D at 0x7fa773fc85d0\u003e]\"\n            ]\n          },\n          \"metadata\": {},\n          \"execution_count\": 48\n        },\n        {\n          \"output_type\": \"display_data\",\n          \"data\": {\n            \"text/plain\": [\n              \"\u003cFigure size 432x288 with 1 Axes\u003e\"\n            ],\n            \"image/png\": \"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\\n\"\n          },\n          \"metadata\": {\n            \"needs_background\": \"light\"\n          }\n        }\n      ]\n    },\n    {\n      \"cell_type\": \"markdown\",\n      \"source\": [\n        \"Agora execute a função **plotarFuncao** com **a **= -2 e **b** = 10, veja o que ocorre.\"\n      ],\n      \"metadata\": {\n        \"id\": \"yyvOEMBEWGBY\"\n      }\n    },\n    {\n      \"cell_type\": \"code\",\n      \"source\": [\n        \"plotarFuncao(-2, 10)\"\n      ],\n      \"metadata\": {\n        \"id\": \"HEZpqM7BWdkL\",\n        \"colab\": {\n          \"base_uri\": \"https://localhost:8080/\",\n          \"height\": 282\n        },\n        \"outputId\": \"0f2cd9e3-02c9-4994-e84e-5c6d286c7086\"\n      },\n      \"execution_count\": null,\n      \"outputs\": [\n        {\n          \"output_type\": \"execute_result\",\n          \"data\": {\n            \"text/plain\": [\n              \"[\u003cmatplotlib.lines.Line2D at 0x7fa773f31fd0\u003e]\"\n            ]\n          },\n          \"metadata\": {},\n          \"execution_count\": 49\n        },\n        {\n          \"output_type\": \"display_data\",\n          \"data\": {\n            \"text/plain\": [\n              \"\u003cFigure size 432x288 with 1 Axes\u003e\"\n            ],\n            \"image/png\": \"iVBORw0KGgoAAAANSUhEUgAAAX8AAAD4CAYAAAAEhuazAAAABHNCSVQICAgIfAhkiAAAAAlwSFlzAAALEgAACxIB0t1+/AAAADh0RVh0U29mdHdhcmUAbWF0cGxvdGxpYiB2ZXJzaW9uMy4yLjIsIGh0dHA6Ly9tYXRwbG90bGliLm9yZy+WH4yJAAAgAElEQVR4nO3dd3hUddr/8fedQmjSQ++9SoDQIaxrqIIgNpQFO6IgJbvryvpzm7urrruhCFIsqFgQEQRBqiWhSAlFCD0UKVJCkd75/v7I8Dx5WJokk5PMfF7Xda7MfM+ZmftcRz9MvjnnPuacQ0REgkuI1wWIiEjWU/iLiAQhhb+ISBBS+IuIBCGFv4hIEArzuoCbVaxYMVexYkWvyxARyVFWrFhx0DkXeeV4jgn/ihUrkpSU5HUZIiI5ipn9eLVxTfuIiAQhhb+ISBBS+IuIBCGFv4hIEFL4i4gEIYW/iEgQUviLiAShgA//D77fQcLmVK/LEBHJVnLMRV634vzFS3y8dCcb9x3n3oZlealzLQrlzeV1WSIingvob/7hoSF80a8l/e+oyher9xAbn8istXu9LktExHMBHf4AucND+V37Gkzv35KSBSN45qOV9J2wggPHznhdmoiIZwI+/C+rU7ogXzzbkj90qMk3mw4QG5/ApKRd6DaWIhKMgib8AcJCQ3jmV1WYPbA1NUsW4PnJa+j97jJ2HT7ldWkiIlkqqML/ssqR+ZnYpxkvd63Dyh+P0H5YIuMXbefiJf0WICLBISjDHyAkxOjVvCJz49rQpFIR/vrleh4Y+z0pB457XZqIiN95Fv5m1sHMNplZipm94FUdZQrlYfyjjRn6YH22pp6g0/CFjPxmC+cvXvKqJBERv/Mk/M0sFBgFdARqAw+ZWW0vavHVwz0NyjI/rg1t65Tg33M3c/fIRSTvOepVSSIifuXVN/8mQIpzbptz7hwwEejqUS3/o1j+CEY93JCxvRpx6MRZuo5axKuzNnLm/EWvSxMRyVRehX8ZYFe657t9Y/+HmfUxsyQzS0pNzboWDe3rlGReXBvua1iWMQlb6TR8Acu2H86yzxcR8bds/Qdf59w451y0cy46MvK/7j/sVwXzhPPafbfz0ZNNOX/pEg+M/Z6XvkjmxNkLWVqHiIg/eBX+e4By6Z6X9Y1lOy2rFmPOoBieaFWJD5f+SLv4BL7ddMDrskREMsSr8F8OVDOzSmaWC+gBTPeolhvKmyuMlzrX5vNnWpAvIozHxi8n7tPVHDl5zuvSRERuiSfh75y7APQH5gAbgEnOuXVe1PJLNCxfmBkDWjHgzmpM/+EnYuMTmLHmJ7WIEJEcx3JKcEVHR7ukpCSvy/gfG/Ye4w+fr2HN7qO0rV2Cv3erS4kCub0uS0Tk/zCzFc656CvHs/UffLOzWqUKMOWZFvyxU00SN6cSG5/Ap8t36rcAEckRFP4ZEBYaQp+YKswZFEPtUgX4w+dr6fn2UnYeUqM4EcneFP6ZoGKxfHzyVDP+cU9d1uw+SvthibyzUI3iRCT7UvhnkpAQo2fTCsyLi6F5laK8PGM9945ezOb9ahQnItmPwj+TlSqYh3ceiWZ4jyh2Hj7FXSMWMOLrLZy7oEZxIpJ9KPz9wMzoGlWGeYNj6Fi3FPHzNnP3yIX8sOtnr0sTEQEU/n5VNH8EIx5qwNu9o/n51HnueXMRr3y1gdPn1ChORLyl8M8CsbVLMDcuhgcbl2ds4jY6Dk9kybZDXpclIkFM4Z9FCuQO55Xu9fj4qaY4oMe4Jfxx6lqOnTnvdWkiEoQU/lmsRZVizB4Yw1OtKzFx2U7axSfyzcb9XpclIkFG4e+BPLlCefGu2kx5tiUF84Tz+HtJDJy4ikMnznpdmogECYW/h6LKFeLL51oxKLYaX63dS9uhiUxbvUctIkTE7xT+HssVFsKg2OrMeK415YrkZeDE1Tz5fhJ7j572ujQRCWAK/2yiRsnbmPJMC/7fXbVYtPUg7eIT+XjpTi6pRYSI+IHCPxsJDTGebF2ZOYNiqFumIH+cupaH317CjoMnvS5NRAKMwj8bqlA0Hx8/1ZRXu9dj3Z5jtB+WyLjErVy4qBYRIpI5/Bb+Zva6mW00szVmNtXMCvnGK5rZaTNb7VvG+KuGnMzM6NGkPPPi2tC6WiT//Goj945ezMZ9x7wuTUQCgD+/+c8D6jrnbgc2A0PSrdvqnIvyLX39WEOOV7Jgbt7q3Yg3HmrA7iOn6TxiIfHzNnP2glpEiMit81v4O+fm+u7VC7AEKOuvzwp0ZkaX+qWZH9eGLvVLM+LrLXR5YyGrdh7xujQRyaGyas7/cWBWuueVzGyVmSWYWetrvcjM+phZkpklpaam+r/KbK5wvlwMfTCK8Y825viZC3QfvZiXZ6zn1LkLN36xiEg6GbqBu5nNB0peZdWLzrlpvm1eBKKB7s45Z2YRQH7n3CEzawR8AdRxzl13Mju73cDda8fPnOe12Rv5cMlOyhfJy6vd69GiajGvyxKRbOZaN3DPUPjfxIc+CjwN3Omcu+qNbc3sO+B3zrnrJrvC/+qWbjvEC1PWsv3gSXo0LseQTrUomCfc67JEJJu4Vvj782yfDsDzwN3pg9/MIs0s1Pe4MlAN2OavOgJd08pFmTWwNU+3qcykpF20G5rAvPVqFCci1+fPOf+RwG3AvCtO6YwB1pjZamAy0Nc5d9iPdQS83OGhDOlYiy/6taRw3lw89UES/T9eyUE1ihORa/DrtE9m0rTPzTl/8RJjvtvKG9+kkC8ilD93qUPXqNKYmdeliYgHsnzaR7wRHhrCc3dWY+aAVlQslo9Bn67m8feW89PPahQnIv9L4R+gqpW4jcl9W/CnzrVZsu0w7YYmMmHJj2oUJyKAwj+ghYYYj7eqxNzBMUSVK8RLXyTTY9wStqWe8Lo0EfGYwj8IlCuSlwlPNOFf997Ohn3H6Dh8AWMS1ChOJJgp/IOEmfFA43LMj2tDm+qRvDprI93eXMT6n9QoTiQYKfyDTIkCuRnbqxFv9mzIvqNnuHvkQv4zd5MaxYkEGYV/EDIzOtUrxbzBbbg7qjRvfJPCXSMWsuJHNYoTCRYK/yBWOF8u4h+I4r3HGnP63EXuG7OYv0xfx8mzahQnEugU/sKvahRnzuAYejWrwHuLd9B+WCILtqiLqkggU/gLAPkjwvhb17p81rc5ucJC6PXOMn7/2Q8cPXXe69JExA8U/vJ/NK5YhK8GtObZX1Vhyqo9xA5NYHbyPq/LEpFMpvCX/5I7PJTnO9RkWr+WROaPoO+HK3j2oxUcOH7G69JEJJMo/OWa6pYpyLT+Lfl9+xrM33CAtvGJfL5iNzmlGaCIXJvCX64rPDSEfndU5asBralaPD+//ewHHhm/nN1HrnpvHhHJIRT+clOqFs/PZ08356931yFpR1qjuPcX71CjOJEcyp938vqLme3x3chltZl1SrduiJmlmNkmM2vvrxokc4WEGI+0qMjcwTFEVyzCn6ev44Gx37NVjeJEchx/f/Mf6pyL8i1fAZhZbaAHUAfoALx5+baOkjOULZyX9x9rzL/vr8+WAyfoOHwBo75N4bwaxYnkGF5M+3QFJjrnzjrntgMpQBMP6pAMMDPua1SWeXExxNYqzutzNtF15CKS9xz1ujQRuQn+Dv/+ZrbGzN41s8K+sTLArnTb7PaNSQ5U/LbcvNmzEWN+05DUE2fpOmoRr83eyJnzahQnkp1lKPzNbL6ZJV9l6QqMBqoAUcBe4D+38P59zCzJzJJSU9VuIDvrULcU8we34d6GZRj93VY6DV/A8h2HvS5LRK4hS27gbmYVgRnOubpmNgTAOfeKb90c4C/Oue+v9x66gXvOsWBLKkOmrGX3kdP0bl6B5zvUJH9EmNdliQSlLL+Bu5mVSvf0HiDZ93g60MPMIsysElANWOavOiTrta4WyZxBMTzWsiITlvxI+6GJJGzWb24i2Yk/5/z/ZWZrzWwNcAcwGMA5tw6YBKwHZgP9nHOaIA4w+SLC+HOXOkzu24I8uUJ55N1lxE1azc+nznldmoiQRdM+mUHTPjnX2QsXGflNCqO/20qhvOH8rWtdOtUrdeMXikiGZfm0j8hlEWGh/LZdDab3b0Wpgnl49qOV9J2wggPH1ChOxCsKf8kytUsXYOqzLXihY02+3XSA2PgEJiXtUqM4EQ8o/CVLhYWG0LdNFWYNbE3NkgV4fvIaer2zjF2H1ShOJCsp/MUTlSPzM7FPM17uVpdVO4/Qbmgi7y7czkU1ihPJEgp/8UxIiNGrWQXmxrWhaeUi/G3Geu4fs5iUA8e9Lk0k4Cn8xXNlCuVh/KONGfpgfbYdPEmn4QsZ+c0WNYoT8SOFv2QLZsY9DcoyP64NbeuU4N9zN9PljYWs3a1GcSL+oPCXbKVY/ghGPdyQsb0acfjkObq9uYhXZm1QoziRTKbwl2ypfZ2SzItrw30NyzI2YRsdhy9g6bZDXpclEjAU/pJtFcwTzmv33c5HTzblwqVLPDhuCf/vi7UcP3Pe69JEcjyFv2R7LasWY86gGJ5oVYmPlu6k/dBEvt14wOuyRHI0hb/kCHlzhfFS59p8/kwL8kWE8dh7yxk0cRWHT6pRnMitUPhLjtKwfGFmDGjFgDurMWPNXtrGJ/DlDz+pRYTIL6TwlxwnIiyUuLbVmTGgFWUK5+G5T1bx1Acr2K9GcSI3TeEvOVbNkgWY8kwLXuxUiwVbUomNT2Disp36LUDkJij8JUcLCw3hqZjKzBkUQ+1SBXhhylp6vr2UHw+d9Lo0kWzNn7dx/NTMVvuWHWa22jde0cxOp1s3xl81SPCoWCwfnzzVjH/cU5c1u4/Sflgiby/YpkZxItfgt7tqO+cevPzYzP4DpL9Of6tzLspfny3BKSTE6Nm0Ar+uWZwXpybz95kb+HLNXv517+3UKHmb1+WJZCt+n/YxMwMeAD7x92eJAJQqmId3HolmeI8odh0+Rec3FjBs/mbOXVCjOJHLsmLOvzWw3zm3Jd1YJTNbZWYJZtb6Wi80sz5mlmRmSampqf6vVAKGmdE1qgzzBsfQqV4phs3fQpc3FvLDrp+9Lk0kW8jQDdzNbD5Q8iqrXnTOTfNtMxpIcc79x/c8AsjvnDtkZo2AL4A6zrlj1/ss3cBdMuLrDft5cWoyB46f4YlWlYhrW4M8uUK9LkvE7651A/cMzfk752Jv8KFhQHegUbrXnAXO+h6vMLOtQHVAyS5+c2etEjSuVIRXZ23krQXbmbt+P692v53mVYp6XZqIJ/w97RMLbHTO7b48YGaRZhbqe1wZqAZs83MdIhTIHc4/76nHx081BeCht5YwZMpajqlRnAQhf4d/D/77D70xwBrfqZ+Tgb7OucN+rkPkf7SoUozZA2PoE1OZT5fvpF18Il9v2O91WSJZKkNz/llJc/7iDz/s+pnnJ69h0/7j3F2/NH/uUpui+SO8Lksk01xrzl9X+EpQq1+uEF8+14rBsdWZlbyX2PgEpq3eoxYREvAU/hL0coWFMDC2GjMHtKZC0XwMnLiaJ99PYu/R016XJuI3Cn8Rn+olbuPzZ1rwUufaLN56iLbxiXy09EcuqUWEBCCFv0g6oSHGE60qMWdQDPXLFeTFqck89NYSth9UozgJLAp/kasoXzQvHz7RlNfurcf6vcfoMCyRcYlbuXBRLSIkMCj8Ra7BzHiwcXnmx7Uhpnok//xqI91HL2bD3utejC6SIyj8RW6gRIHcjOvViJEPN2DPkdN0eWMh8fM2c/bCRa9LE7llCn+Rm2BmdL69NPPj2tClfmlGfL2FziMWsnLnEa9LE7klCn+RX6BwvlwMfTCK8Y825sTZC9w7ejEvz1jPqXMXvC5N5BdR+IvcgjtqFmfu4Bh6Ni3POwu3035YIotSDnpdlshNU/iL3KLbcofz9271+LRPM8JCQuj59lJe+HwNR0+rUZxkfwp/kQxqWrkoswa25uk2lZmUtIu28QnMXbfP67JErkvhL5IJcoeHMqRjLb7o15Ii+XLRZ8IK+n+8koMnznpdmshVKfxFMtHtZdMaxf22bXXmrttPbHwCU1ftVqM4yXYU/iKZLDw0hOfurMbMAa2oVCwfgz/9gcffW85PP6tRnGQfCn8RP6lW4jYm923Bn7vUZsm2w7QbmsiEJWoUJ9lDhsPfzO43s3VmdsnMoq9YN8TMUsxsk5m1TzfewTeWYmYvZLQGkewqNMR4rGUl5g6OIapcIV76Ipke45awLfWE16VJkMuMb/7JpN2kPTH9oJnVJu02jnWADsCbZhbqu3/vKKAjUBt4yLetSMAqVyQvE55owr/uu52N+47RYfgCRn+nRnHinQyHv3Nug3Nu01VWdQUmOufOOue2AylAE9+S4pzb5pw7B0z0bSsS0MyMB6LLMT+uDXfUiOS12Rvp9uYi1v101OvSJAj5c86/DLAr3fPdvrFrjf8XM+tjZklmlpSamuq3QkWyUvECuRnbK5rRPRuy7+hZuo5cxL/nbOLMeTWKk6xzU+FvZvPNLPkqi1+/sTvnxjnnop1z0ZGRkf78KJEs17FeKebHxdA1qgwjv03hrhELWPHjYa/LkiARdjMbOedib+G99wDl0j0v6xvjOuMiQaVQ3lz854H63B1Vmj9OWct9Y77nkeYV+X37GuSLuKn/PUVuiT+nfaYDPcwswswqAdWAZcByoJqZVTKzXKT9UXi6H+sQyfbaVI9kzuAYejerwHuLd9BuaCKJmzXVKf6TGad63mNmu4HmwEwzmwPgnFsHTALWA7OBfs65i865C0B/YA6wAZjk21YkqOWPCOOvXevyWd/mRISH0PvdZfzusx84ekqN4iTzWU657Dw6OtolJSV5XYZIljhz/iIjvt7C2MRtFMmXi5e71qFD3VJelyU5kJmtcM5FXzmuK3xFsqHc4aE836Em0/q1JDJ/BH0/XMkzH67gwPEzXpcmAULhL5KN1S1TkGn9W/L79jX4euMB2sYnMnmFGsVJxin8RbK58NAQ+t1Rla8GtKZa8fz87rMfeGT8cnYfOeV1aZKDKfxFcoiqxfMz6enm/PXuOiTtSGsU9/7iHWoUJ7dE4S+Sg4SEGI+0qMjcwTFEVyzCn6ev44Gx37NVjeLkF1L4i+RAZQvn5f3HGvPv++uz5cAJOg5fwKhvUzivRnFykxT+IjmUmXFfo7LMi4shtlZxXp+zia4jF5G8R43i5MYU/iI5XPHbcvNmz0aM+U1DUk+cpeuoRbw2e6Maxcl1KfxFAkSHuqWYP7gN3RuUYfR3W+k0fAHLd6hRnFydwl8kgBTMG87r99dnwhNNOHfxEveP+Z4/TUvmxNkLXpcm2YzCXyQAta4WyZxBMTzeshITlvxI+6GJJKhRnKSj8BcJUPkiwvhTl9pM7tuCPLlCeeTdZcRNWs3Pp855XZpkAwp/kQDXqEJhZg5oxYBfV2X66p+IjU/kq7V71SIiyCn8RYJARFgoce1qML1/K0oVzM2zH62k74crOHBMjeKClcJfJIjULl2Aqc+2YEjHmny3KZXY+AQmLd+l3wKCkMJfJMiEhYbwdJsqzBrYmpqlCvD852vo9c4ydh1Wo7hgkqHwN7P7zWydmV0ys+h0423NbIWZrfX9/HW6dd+Z2SYzW+1bimekBhG5NZUj8zPxqWa83K0uq3f9TLuhibyzcDsX1SguKGT0m38y0B1IvGL8INDFOVcPeASYcMX6ns65KN9yIIM1iMgtCgkxejWrwNzBMTStXISXZ6zn/jGL2bL/uNeliZ9lKPydcxucc5uuMr7KOfeT7+k6II+ZRWTks0TEf0oXysP4Rxsz7MEoth88yV0jFvLG11vUKC6AZcWc/73ASufc2XRj431TPi+ZmV3rhWbWx8ySzCwpNVUXqIj4k5nRrUEZ5sW1oV2dEvxn3ma6vLGQNbt/9ro08YMbhr+ZzTez5KssXW/itXWA14Cn0w339E0HtfYtva71eufcOOdctHMuOjIy8sZ7IyIZVix/BCMfbsi4Xo04fPIc3UYt4pVZG9QoLsCE3WgD51zsrbyxmZUFpgK9nXNb073fHt/P42b2MdAE+OBWPkNE/KddnZI0rVyUV2dtYGzCNuau288r3evRrHJRr0uTTOCXaR8zKwTMBF5wzi1KNx5mZsV8j8OBzqT90VhEsqGCecJ5pfvtfPxkUy5ecvQYt4QXp67l+JnzXpcmGZTRUz3vMbPdQHNgppnN8a3qD1QF/nTFKZ0RwBwzWwOsBvYAb2WkBhHxvxZVizF7UGuebFWJT5btpN3QRL7dqBP1cjLLKVf2RUdHu6SkJK/LEAl6q3Ye4Q+fr2Hz/hN0iyrNn7rUoUi+XF6XJddgZiucc9FXjusKXxH5RRqUL8yM51oz8M5qzFy7l7bxCXz5w09qEZHDKPxF5BfLFRbC4LbV+fK5VpQtnIfnPlnFUx+sYN9RNYrLKRT+InLLapYswJRnW/Jip1osTEmlbXwCnyzbqd8CcgCFv4hkSGiI8VRMZWYPjKFOmQIMmbKWh99ayo+HTnpdmlyHwl9EMkXFYvn4+Mlm/POeeiTvOUr7YYm8vWCbGsVlUwp/Eck0ISHGw03LMzcuhpZVivH3mRvoPnoxm/apUVx2o/AXkUxXqmAe3n4kmuE9oth1+BSd31jAsPmbOXdBjeKyC4W/iPiFmdE1qgzzBsfQqV4phs3fQpc3FrJ6lxrFZQcKfxHxq6L5IxjeowFv947m6OnzdH9zEf+YuZ7T59QozksKfxHJErG1SzA3LoYeTcrz1oLttB+WyOKtB70uK2gp/EUkyxTIHc4/76nHJ081wwwefmspQ6as5ZgaxWU5hb+IZLnmVYoye2AMfWIq8+nynbSNT2D++v1elxVUFP4i4ok8uUL5Y6daTH22JYXz5uLJD5IY8MkqDp04e+MXS4Yp/EXEU/XLFWJ6/1YMjq3OrOS9xMYnMG31HrWI8DOFv4h4LldYCANjqzFzQGsqFM3HwImrefL9JPYePe11aQErozdzud/M1pnZJTOLTjde0cxOp7uRy5h06xqZ2VozSzGzEde7gbuIBJfqJW7j82da8FLn2izeeoi28Yl8tPRHLqlFRKbL6Df/ZKA7kHiVdVudc1G+pW+68dHAU0A139IhgzWISAAJDTGeaFWJOYNiqF+uIC9OTeaht5aw/aAaxWWmDIW/c26Dc27TzW5vZqWAAs65JS5tQu8DoFtGahCRwFS+aF4+fKIpr3avx/q9x+gwLJGxCVu5cFEtIjKDP+f8K5nZKjNLMLPWvrEywO502+z2jV2VmfUxsyQzS0pNTfVjqSKSHZkZPZqUZ35cG2KqR/LKrI10H72YDXuPeV1ajnfD8Dez+WaWfJWl63Vethco75xrAMQBH5tZgV9anHNunHMu2jkXHRkZ+UtfLiIBokSB3Izr1YiRDzdgz5HTdHljIfFzN3H2glpE3KqwG23gnIv9pW/qnDsLnPU9XmFmW4HqwB6gbLpNy/rGRESuy8zofHtpWlYpxt9mrGfENynMSt7Ha/fdTsPyhb0uL8fxy7SPmUWaWajvcWXS/rC7zTm3FzhmZs18Z/n0Bqb5owYRCUyF8+Vi6INRjH+sMSfPXuDe0Yv525frOXXugtel5SgZPdXzHjPbDTQHZprZHN+qGGCNma0GJgN9nXOHfeueBd4GUoCtwKyM1CAiwemOGsWZMziG3zStwLuL0hrFLUpRo7ibZTnlKrro6GiXlJTkdRkikg0t3XaIF6asZfvBkzwYXY4/3lWLgnnCvS4rWzCzFc656CvHdYWviOR4TSsXZdbA1jzdpjKTV+6mbXwCc9ft87qsbE3hLyIBIXd4KEM61uKLZ1tSNH8EfSasoN/HK0k9rkZxV6PwF5GAUq9sQab3b8nv29dg3rr9tB2awJSVu9Uo7goKfxEJOOGhIfS7oypfDWxF5WL5iJv0A4+9t5w9P6tR3GUKfxEJWFWL38ZnfVvwly61Wbb9MO3iE5jw/Q41ikPhLyIBLjTEeLRlWqO4hhUK89K0dfQYt4RtqSe8Ls1TCn8RCQrliuTlg8eb8Pp9t7Nx3zE6DF/A6O+Ct1Gcwl9EgoaZcX90Oeb/tg2/rlGc12ZvpNubi1j301GvS8tyCn8RCTrFb8vNmF6NeLNnQ/YdPcvdIxfx+pyNnDkfPI3iFP4iErQ61SvF/LgYukWVYdS3W7lrxAKSdhy+8QsDgMJfRIJaoby5+M8D9Xn/8SacOX+J+8d+z1+mr+Pk2cBuFKfwFxEB2lSPZM7gGHo3q8D73++g3dBEEjcH7k2kFP4iIj75I8L4a9e6fPZ0cyLCQ+j97jJ+99kP/HzqnNelZTqFv4jIFaIrFuGrAa3pd0cVpq7aQ2x8IrPW7vW6rEyl8BcRuYrc4aH8vn1NpvdvSYkCETzz0Uqe+XAFB46f8bq0TKHwFxG5jjqlC/JFv5Y836EGX288QNv4RD5L2pXjG8Vl9E5e95vZOjO7ZGbR6cZ7mtnqdMslM4vyrfvOzDalW1c8ozshIuJP4aEhPPurqswa2JrqJfLz+8lr6P3uMnYdPuV1abcso9/8k4HuQGL6QefcR865KOdcFNAL2O6cW51uk56X1zvnDmSwBhGRLFElMj+f9mnO37rWYeWPR2g/LJH3Fm3PkY3iMhT+zrkNzrlNN9jsIWBiRj5HRCS7CAkxejevyJzBMTSuWIS/fLmeB8Z+T8qBnNUoLivm/B8EPrlibLxvyuclM7NrvdDM+phZkpklpaYG7vm2IpLzlC2cl/cea0z8A/VJST1Bp+ELGPVtCudzSKO4G4a/mc03s+SrLF1v4rVNgVPOueR0wz2dc/WA1r6l17Ve75wb55yLds5FR0ZG3sTuiIhkHTOje8OyzBvchra1S/D6nE10HbmI5D3Zv1HcDcPfORfrnKt7lWXaTbx/D6741u+c2+P7eRz4GGhyK4WLiGQXkbdFMKpnQ8b8phGpJ87SddQiXpudvRvF+W3ax8xCgAdIN99vZmFmVsz3OBzoTNofjUVEcrwOdUsyf3Ab7m1YhtHfbaXT8AUsz6aN4jJ6quc9ZrYbaA7MNLM56VbHALucc9vSjUUAc8xsDbAa2AO8lZEaRESyk4J5w/nXffX58ImmnLt4ifvHfM+fpiVzIiDoM1AAAAaTSURBVJs1irOccqFCdHS0S0pK8roMEZGbdvLsBf49dxPvLd5B6YJ5+Mc9dflVjay9tMnMVjjnoq8c1xW+IiJ+ki8ijD93qcPkvi3IkyuUR8cvJ27Sao6c9L5RnMJfRMTPGlUozMwBrXju11WZvvon2g5NYOaavZ62iFD4i4hkgYiwUH7brgbT+7eiVME89Pt4JU9PWMGBY940ilP4i4hkodqlCzD12Ra80LEmCZtTuTM+gUnLs75RnMJfRCSLhYWG0LdNFWYNbE2tkgV4/vM1/Oadpew8lHWN4hT+IiIeqRyZn4l9mvFyt7r8sOso7Ycl8s7C7VzMgkZxCn8REQ+FhBi9mlVg7uAYmlYuwssz1nPfmMVs2X/cv5/r13cXEZGbUrpQHsY/2phhD0ax4+BJ7hqxkBFfb+HcBf80ilP4i4hkE2ZGtwZlmBfXhvZ1SxI/bzN3j1zIfj+cEaTwFxHJZorlj+CNhxrwVu9oKhTNS7H8EZn+GWGZ/o4iIpIp2tYuQdvaJfzy3vrmLyIShBT+IiJBSOEvIhKEFP4iIkFI4S8iEoQyHP5m9rqZbTSzNWY21cwKpVs3xMxSzGyTmbVPN97BN5ZiZi9ktAYREfllMuOb/zygrnPudmAzMATAzGqTdgP3OkAH4E0zCzWzUGAU0BGoDTzk21ZERLJIhsPfOTfXOXf55pRLgLK+x12Bic65s8657UAK0MS3pDjntjnnzpF2g/euGa1DRERuXmZf5PU48KnvcRnS/jG4bLdvDGDXFeNNr/ZmZtYH6ON7esLMNt1iXcWAg7f42pxK+xwcgm2fg21/IeP7XOFqgzcV/mY2Hyh5lVUvOuem+bZ5EbgAfHSrFV7JOTcOGJfR9zGzpKvdwDiQaZ+DQ7Dtc7DtL/hvn28q/J1zsddbb2aPAp2BO93/3o5mD1Au3WZlfWNcZ1xERLJAZpzt0wF4HrjbOZf+NjTTgR5mFmFmlYBqwDJgOVDNzCqZWS7S/ig8PaN1iIjIzcuMOf+RQAQwz8wAljjn+jrn1pnZJGA9adNB/ZxzFwHMrD8wBwgF3nXOrcuEOq4nw1NHOZD2OTgE2z4H2/6Cn/bZsvqmwSIi4j1d4SsiEoQU/iIiQSigwz8Y2kiYWTkz+9bM1pvZOjMb6BsvYmbzzGyL72dhr2vNbL4rxleZ2Qzf80pmttR3vD/1nVAQMMyskJlN9rVT2WBmzQP9OJvZYN9/18lm9omZ5Q6042xm75rZATNLTjd21eNqaUb49n2NmTW81c8N2PAPojYSF4DfOudqA82Afr79fAH42jlXDfja9zzQDAQ2pHv+GjDUOVcVOAI84UlV/jMcmO2cqwnUJ23fA/Y4m1kZYAAQ7ZyrS9oJIj0IvOP8HmktcNK71nHtSNqZk9VIuwB29K1+aMCGP0HSRsI5t9c5t9L3+DhpgVCGtH1937fZ+0A3byr0DzMrC9wFvO17bsCvgcm+TQJqn82sIBADvAPgnDvnnPuZAD/OpJ2RmMfMwoC8wF4C7Dg75xKBw1cMX+u4dgU+cGmWAIXMrNStfG4gh38Z/ruNRJlrbBsQzKwi0ABYCpRwzu31rdoH+OdGoN4ZRtr1JZd8z4sCP6frMxVox7sSkAqM9011vW1m+Qjg4+yc2wP8G9hJWugfBVYQ2Mf5smsd10zLtUAO/6BiZvmBz4FBzrlj6df5rroOmHN6zawzcMA5t8LrWrJQGNAQGO2cawCc5IopngA8zoVJ+6ZbCSgN5OO/p0cCnr+OayCH//XaSwQUMwsnLfg/cs5N8Q3vv/zroO/nAa/q84OWwN1mtoO06bxfkzYfXsg3PQCBd7x3A7udc0t9zyeT9o9BIB/nWGC7cy7VOXcemELasQ/k43zZtY5rpuVaIId/ULSR8M11vwNscM7Fp1s1HXjE9/gRYFpW1+YvzrkhzrmyzrmKpB3Xb5xzPYFvgft8mwXaPu8DdplZDd/QnaRdPR+wx5m06Z5mZpbX99/55X0O2OOczrWO63Sgt++sn2bA0XTTQ7+Mcy5gF6ATaTeY2UpaB1LPa/LDPrYi7VfCNcBq39KJtDnwr4EtwHygiNe1+mn/fwXM8D2uTFr/qBTgMyDC6/oyeV+jgCTfsf4CKBzoxxn4K7ARSAYmkNZKJqCOM/AJaX/TOE/ab3hPXOu4AkbaWYxbgbWknQl1S5+r9g4iIkEokKd9RETkGhT+IiJBSOEvIhKEFP4iIkFI4S8iEoQU/iIiQUjhLyIShP4/V+zqYVgA/4wAAAAASUVORK5CYII=\\n\"\n          },\n          \"metadata\": {\n            \"needs_background\": \"light\"\n          }\n        }\n      ]\n    },\n    {\n      \"cell_type\": \"markdown\",\n      \"source\": [\n        \"Agora execute a função **plotarFuncao** com **a **= 2 e **b** = 0, veja o que ocorre.\"\n      ],\n      \"metadata\": {\n        \"id\": \"BNZZXthdWeXE\"\n      }\n    },\n    {\n      \"cell_type\": \"code\",\n      \"source\": [\n        \"plotarFuncao(2, 0)\"\n      ],\n      \"metadata\": {\n        \"id\": \"L0AjYUclWjBq\",\n        \"colab\": {\n          \"base_uri\": \"https://localhost:8080/\",\n          \"height\": 282\n        },\n        \"outputId\": \"1769db35-9982-49d9-c04f-88672287a5b7\"\n      },\n      \"execution_count\": null,\n      \"outputs\": [\n        {\n          \"output_type\": \"execute_result\",\n          \"data\": {\n            \"text/plain\": [\n              \"[\u003cmatplotlib.lines.Line2D at 0x7fa773eae750\u003e]\"\n            ]\n          },\n          \"metadata\": {},\n          \"execution_count\": 50\n        },\n        {\n          \"output_type\": \"display_data\",\n          \"data\": {\n            \"text/plain\": [\n              \"\u003cFigure size 432x288 with 1 Axes\u003e\"\n            ],\n            \"image/png\": \"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\\n\"\n          },\n          \"metadata\": {\n            \"needs_background\": \"light\"\n          }\n        }\n      ]\n    },\n    {\n      \"cell_type\": \"markdown\",\n      \"source\": [\n        \"### Regressão\"\n      ],\n      \"metadata\": {\n        \"id\": \"yWelvumyWmQE\"\n      }\n    },\n    {\n      \"cell_type\": \"markdown\",\n      \"source\": [\n        \"Uma regressão nada mais é do que uma reta! P\"\n      ],\n      \"metadata\": {\n        \"id\": \"6nfajtWyWuSA\"\n      }\n    },\n    {\n      \"cell_type\": \"code\",\n      \"source\": [\n        \"import numpy as np\\n\",\n        \"import matplotlib.pyplot as plt\\n\",\n        \"import random\\n\",\n        \"x = np.linspace(0, 6)\\n\",\n        \"y = np.linspace(0, 3)\\n\",\n        \"\\n\",\n        \"noise_factor = 0.1\\n\",\n        \"\\n\",\n        \"def noise(k):\\n\",\n        \"   return k+((random.random()*2)-1)*noise_factor\\n\",\n        \"\\n\",\n        \"x = np.vectorize(noise)(x)\\n\",\n        \"y = np.vectorize(noise)(y)\\n\",\n        \"\\n\",\n        \"fig, ax = plt.subplots()\\n\",\n        \"ax.scatter(x,y)\\n\",\n        \"plt.show()\"\n      ],\n      \"metadata\": {\n        \"colab\": {\n          \"base_uri\": \"https://localhost:8080/\",\n          \"height\": 265\n        },\n        \"id\": \"jGF84OLaWtfp\",\n        \"outputId\": \"6d5e36c2-4dc6-4031-9824-fbf2c7c9f7c4\"\n      },\n      \"execution_count\": null,\n      \"outputs\": [\n        {\n          \"output_type\": \"display_data\",\n          \"data\": {\n            \"text/plain\": [\n              \"\u003cFigure size 432x288 with 1 Axes\u003e\"\n            ],\n            \"image/png\": \"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\\n\"\n          },\n          \"metadata\": {\n            \"needs_background\": \"light\"\n          }\n        }\n      ]\n    }\n  ]\n}","colorizedLines":null,"stylingDirectives":null,"csv":null,"csvError":null,"dependabotInfo":{"showConfigurationBanner":null,"configFilePath":null,"networkDependabotPath":"/MarcelloLM/Regress-o-Linear/network/updates","dismissConfigurationNoticePath":"/settings/dismiss-notice/dependabot_configuration_notice","configurationNoticeDismissed":false,"repoAlertsPath":"/MarcelloLM/Regress-o-Linear/security/dependabot","repoSecurityAndAnalysisPath":"/MarcelloLM/Regress-o-Linear/settings/security_analysis","repoOwnerIsOrg":false,"currentUserCanAdminRepo":true},"displayName":"Regressão_Linear.ipynb","displayUrl":"https://notebooks.githubusercontent.com/view/ipynb?browser=opera\u0026bypass_fastly=true\u0026color_mode=auto\u0026commit=53fa0c4d810a02461b17d7b4266982aaad93fd75\u0026device=unknown_device\u0026docs_host=https%3A%2F%2Fdocs.github.com\u0026enc_url=68747470733a2f2f7261772e67697468756275736572636f6e74656e742e636f6d2f4d617263656c6c6f4c4d2f526567726573732d6f2d4c696e6561722f353366613063346438313061303234363162313764376234323636393832616161643933666437352f52656772657373612543432538336f5f4c696e6561722e6970796e62\u0026logged_in=true\u0026nwo=MarcelloLM%2FRegress-o-Linear\u0026path=Regressa%CC%83o_Linear.ipynb\u0026platform=windows\u0026repository_id=619541100\u0026repository_type=Repository\u0026version=98","headerInfo":{"blobSize":"96.3 KB","deleteInfo":{"deletePath":"https://github.com/MarcelloLM/Regress-o-Linear/delete/main/Regressa%CC%83o_Linear.ipynb","deleteTooltip":"Delete this file"},"editInfo":{"editTooltip":"Edit this file"},"ghDesktopPath":"x-github-client://openRepo/https://github.com/MarcelloLM/Regress-o-Linear?branch=main\u0026filepath=Regressa%CC%83o_Linear.ipynb","gitLfsPath":null,"onBranch":true,"shortPath":"51f6d02","siteNavLoginPath":"/login?return_to=https%3A%2F%2Fgithub.com%2FMarcelloLM%2FRegress-o-Linear%2Fblob%2Fmain%2FRegressa%25CC%2583o_Linear.ipynb","isCSV":false,"isRichtext":false,"toc":null,"lineInfo":{"truncatedLoc":"682","truncatedSloc":"682"},"mode":"file"},"image":false,"isCodeownersFile":null,"isValidLegacyIssueTemplate":false,"issueTemplateHelpUrl":"https://docs.github.com/articles/about-issue-and-pull-request-templates","issueTemplate":null,"discussionTemplate":null,"language":"Jupyter Notebook","large":false,"loggedIn":true,"newDiscussionPath":"/MarcelloLM/Regress-o-Linear/discussions/new","newIssuePath":"/MarcelloLM/Regress-o-Linear/issues/new","planSupportInfo":{"repoIsFork":null,"repoOwnedByCurrentUser":null,"requestFullPath":"/MarcelloLM/Regress-o-Linear/blob/main/Regressa%CC%83o_Linear.ipynb","showFreeOrgGatedFeatureMessage":null,"showPlanSupportBanner":null,"upgradeDataAttributes":null,"upgradePath":null},"publishBannersInfo":{"dismissActionNoticePath":"/settings/dismiss-notice/publish_action_from_dockerfile","dismissStackNoticePath":"/settings/dismiss-notice/publish_stack_from_file","releasePath":"/MarcelloLM/Regress-o-Linear/releases/new?marketplace=true","showPublishActionBanner":false,"showPublishStackBanner":false},"renderImageOrRaw":false,"richText":null,"renderedFileInfo":{"identityUUID":"a42e1dbb-318e-48a5-8d00-c82c19b5b7f6","renderFileType":"ipynb","size":98654},"tabSize":8,"topBannersInfo":{"overridingGlobalFundingFile":false,"globalPreferredFundingPath":null,"repoOwner":"MarcelloLM","repoName":"Regress-o-Linear","showInvalidCitationWarning":false,"citationHelpUrl":"https://docs.github.com/en/github/creating-cloning-and-archiving-repositories/creating-a-repository-on-github/about-citation-files","showDependabotConfigurationBanner":null,"actionsOnboardingTip":null},"truncated":false,"viewable":true,"workflowRedirectUrl":null,"symbols":{"timedOut":false,"notAnalyzed":true,"symbols":[]}},"csrf_tokens":{"/MarcelloLM/Regress-o-Linear/branches":{"post":"G8gWmeZfX5MVRhSP6mOdWGGZPp01KbF7u2IAmxTfCnfQqBGw498WnaxTparE2f5hiXGzDK5bn7PVL-zDZPFs1Q"}}},"title":"Regress-o-Linear/Regressão_Linear.ipynb at main · MarcelloLM/Regress-o-Linear","locale":"en","appPayload":{"helpUrl":"https://docs.github.com","findFileWorkerPath":"/assets-cdn/worker/find-file-worker-848bb9a5da17.js","findInFileWorkerPath":"/assets-cdn/worker/find-in-file-worker-8812f8040df6.js","githubDevUrl":"https://github.dev/","enabled_features":{"virtualize_file_tree":true,"react_repos_overview":false,"repos_new_shortcut_enabled":false,"blob_navigation_cursor":true,"keep_symbols_closed":true,"code_nav_ui_events":false,"ref_selector_v2":false,"codeview_codemirror_next":false}}}</script>
  <div data-target="react-app.reactRoot"></div>
</react-app>
</turbo-frame>



  </div>

</turbo-frame>

    </main>
  </div>

  </div>

          <footer class="footer width-full container-xl p-responsive" role="contentinfo">
  <h2 class='sr-only'>Footer</h2>

  <div class="position-relative d-flex flex-items-center pb-2 f6 color-fg-muted border-top color-border-muted flex-column-reverse flex-lg-row flex-wrap flex-lg-nowrap mt-6 pt-6">
    <div class="list-style-none d-flex flex-wrap col-0 col-lg-2 flex-justify-start flex-lg-justify-between mb-2 mb-lg-0">
      <div class="mt-2 mt-lg-0 d-flex flex-items-center">
        <a aria-label="Homepage" title="GitHub" class="footer-octicon mr-2" href="https://github.com">
          <svg aria-hidden="true" height="24" viewBox="0 0 16 16" version="1.1" width="24" data-view-component="true" class="octicon octicon-mark-github">
    <path d="M8 0c4.42 0 8 3.58 8 8a8.013 8.013 0 0 1-5.45 7.59c-.4.08-.55-.17-.55-.38 0-.27.01-1.13.01-2.2 0-.75-.25-1.23-.54-1.48 1.78-.2 3.65-.88 3.65-3.95 0-.88-.31-1.59-.82-2.15.08-.2.36-1.02-.08-2.12 0 0-.67-.22-2.2.82-.64-.18-1.32-.27-2-.27-.68 0-1.36.09-2 .27-1.53-1.03-2.2-.82-2.2-.82-.44 1.1-.16 1.92-.08 2.12-.51.56-.82 1.28-.82 2.15 0 3.06 1.86 3.75 3.64 3.95-.23.2-.44.55-.51 1.07-.46.21-1.61.55-2.33-.66-.15-.24-.6-.83-1.23-.82-.67.01-.27.38.01.53.34.19.73.9.82 1.13.16.45.68 1.31 2.69.94 0 .67.01 1.3.01 1.49 0 .21-.15.45-.55.38A7.995 7.995 0 0 1 0 8c0-4.42 3.58-8 8-8Z"></path>
</svg>
</a>        <span>
        &copy; 2023 GitHub, Inc.
        </span>
      </div>
    </div>

    <nav aria-label='Footer' class="col-12 col-lg-8">
      <h3 class='sr-only' id='sr-footer-heading'>Footer navigation</h3>
      <ul class="list-style-none d-flex flex-wrap col-12 flex-justify-center flex-lg-justify-between mb-2 mb-lg-0" aria-labelledby='sr-footer-heading'>
          <li class="mr-3 mr-lg-0"><a href="https://docs.github.com/site-policy/github-terms/github-terms-of-service" data-analytics-event="{&quot;category&quot;:&quot;Footer&quot;,&quot;action&quot;:&quot;go to terms&quot;,&quot;label&quot;:&quot;text:terms&quot;}">Terms</a></li>
          <li class="mr-3 mr-lg-0"><a href="https://docs.github.com/site-policy/privacy-policies/github-privacy-statement" data-analytics-event="{&quot;category&quot;:&quot;Footer&quot;,&quot;action&quot;:&quot;go to privacy&quot;,&quot;label&quot;:&quot;text:privacy&quot;}">Privacy</a></li>
          <li class="mr-3 mr-lg-0"><a data-analytics-event="{&quot;category&quot;:&quot;Footer&quot;,&quot;action&quot;:&quot;go to security&quot;,&quot;label&quot;:&quot;text:security&quot;}" href="https://github.com/security">Security</a></li>
          <li class="mr-3 mr-lg-0"><a href="https://www.githubstatus.com/" data-analytics-event="{&quot;category&quot;:&quot;Footer&quot;,&quot;action&quot;:&quot;go to status&quot;,&quot;label&quot;:&quot;text:status&quot;}">Status</a></li>
          <li class="mr-3 mr-lg-0"><a data-ga-click="Footer, go to help, text:Docs" href="https://docs.github.com">Docs</a></li>
          <li class="mr-3 mr-lg-0"><a href="https://support.github.com?tags=dotcom-footer" data-analytics-event="{&quot;category&quot;:&quot;Footer&quot;,&quot;action&quot;:&quot;go to contact&quot;,&quot;label&quot;:&quot;text:contact&quot;}">Contact GitHub</a></li>
          <li class="mr-3 mr-lg-0"><a href="https://github.com/pricing" data-analytics-event="{&quot;category&quot;:&quot;Footer&quot;,&quot;action&quot;:&quot;go to Pricing&quot;,&quot;label&quot;:&quot;text:Pricing&quot;}">Pricing</a></li>
        <li class="mr-3 mr-lg-0"><a href="https://docs.github.com" data-analytics-event="{&quot;category&quot;:&quot;Footer&quot;,&quot;action&quot;:&quot;go to api&quot;,&quot;label&quot;:&quot;text:api&quot;}">API</a></li>
        <li class="mr-3 mr-lg-0"><a href="https://services.github.com" data-analytics-event="{&quot;category&quot;:&quot;Footer&quot;,&quot;action&quot;:&quot;go to training&quot;,&quot;label&quot;:&quot;text:training&quot;}">Training</a></li>
          <li class="mr-3 mr-lg-0"><a href="https://github.blog" data-analytics-event="{&quot;category&quot;:&quot;Footer&quot;,&quot;action&quot;:&quot;go to blog&quot;,&quot;label&quot;:&quot;text:blog&quot;}">Blog</a></li>
          <li><a data-ga-click="Footer, go to about, text:about" href="https://github.com/about">About</a></li>
      </ul>
    </nav>
  </div>

  <div class="d-flex flex-justify-center pb-6">
    <span class="f6 color-fg-muted"></span>
  </div>
</footer>




  <div id="ajax-error-message" class="ajax-error-message flash flash-error" hidden>
    <svg aria-hidden="true" height="16" viewBox="0 0 16 16" version="1.1" width="16" data-view-component="true" class="octicon octicon-alert">
    <path d="M6.457 1.047c.659-1.234 2.427-1.234 3.086 0l6.082 11.378A1.75 1.75 0 0 1 14.082 15H1.918a1.75 1.75 0 0 1-1.543-2.575Zm1.763.707a.25.25 0 0 0-.44 0L1.698 13.132a.25.25 0 0 0 .22.368h12.164a.25.25 0 0 0 .22-.368Zm.53 3.996v2.5a.75.75 0 0 1-1.5 0v-2.5a.75.75 0 0 1 1.5 0ZM9 11a1 1 0 1 1-2 0 1 1 0 0 1 2 0Z"></path>
</svg>
    <button type="button" class="flash-close js-ajax-error-dismiss" aria-label="Dismiss error">
      <svg aria-hidden="true" height="16" viewBox="0 0 16 16" version="1.1" width="16" data-view-component="true" class="octicon octicon-x">
    <path d="M3.72 3.72a.75.75 0 0 1 1.06 0L8 6.94l3.22-3.22a.749.749 0 0 1 1.275.326.749.749 0 0 1-.215.734L9.06 8l3.22 3.22a.749.749 0 0 1-.326 1.275.749.749 0 0 1-.734-.215L8 9.06l-3.22 3.22a.751.751 0 0 1-1.042-.018.751.751 0 0 1-.018-1.042L6.94 8 3.72 4.78a.75.75 0 0 1 0-1.06Z"></path>
</svg>
    </button>
    You can’t perform that action at this time.
  </div>

  <div class="js-stale-session-flash flash flash-warn flash-banner" hidden
    >
    <svg aria-hidden="true" height="16" viewBox="0 0 16 16" version="1.1" width="16" data-view-component="true" class="octicon octicon-alert">
    <path d="M6.457 1.047c.659-1.234 2.427-1.234 3.086 0l6.082 11.378A1.75 1.75 0 0 1 14.082 15H1.918a1.75 1.75 0 0 1-1.543-2.575Zm1.763.707a.25.25 0 0 0-.44 0L1.698 13.132a.25.25 0 0 0 .22.368h12.164a.25.25 0 0 0 .22-.368Zm.53 3.996v2.5a.75.75 0 0 1-1.5 0v-2.5a.75.75 0 0 1 1.5 0ZM9 11a1 1 0 1 1-2 0 1 1 0 0 1 2 0Z"></path>
</svg>
    <span class="js-stale-session-flash-signed-in" hidden>You signed in with another tab or window. <a href="">Reload</a> to refresh your session.</span>
    <span class="js-stale-session-flash-signed-out" hidden>You signed out in another tab or window. <a href="">Reload</a> to refresh your session.</span>
  </div>
    <template id="site-details-dialog">
  <details class="details-reset details-overlay details-overlay-dark lh-default color-fg-default hx_rsm" open>
    <summary role="button" aria-label="Close dialog"></summary>
    <details-dialog class="Box Box--overlay d-flex flex-column anim-fade-in fast hx_rsm-dialog hx_rsm-modal">
      <button class="Box-btn-octicon m-0 btn-octicon position-absolute right-0 top-0" type="button" aria-label="Close dialog" data-close-dialog>
        <svg aria-hidden="true" height="16" viewBox="0 0 16 16" version="1.1" width="16" data-view-component="true" class="octicon octicon-x">
    <path d="M3.72 3.72a.75.75 0 0 1 1.06 0L8 6.94l3.22-3.22a.749.749 0 0 1 1.275.326.749.749 0 0 1-.215.734L9.06 8l3.22 3.22a.749.749 0 0 1-.326 1.275.749.749 0 0 1-.734-.215L8 9.06l-3.22 3.22a.751.751 0 0 1-1.042-.018.751.751 0 0 1-.018-1.042L6.94 8 3.72 4.78a.75.75 0 0 1 0-1.06Z"></path>
</svg>
      </button>
      <div class="octocat-spinner my-6 js-details-dialog-spinner"></div>
    </details-dialog>
  </details>
</template>

    <div class="Popover js-hovercard-content position-absolute" style="display: none; outline: none;" tabindex="0">
  <div class="Popover-message Popover-message--bottom-left Popover-message--large Box color-shadow-large" style="width:360px;">
  </div>
</div>

    <template id="snippet-clipboard-copy-button">
  <div class="zeroclipboard-container position-absolute right-0 top-0">
    <clipboard-copy aria-label="Copy" class="ClipboardButton btn js-clipboard-copy m-2 p-0 tooltipped-no-delay" data-copy-feedback="Copied!" data-tooltip-direction="w">
      <svg aria-hidden="true" height="16" viewBox="0 0 16 16" version="1.1" width="16" data-view-component="true" class="octicon octicon-copy js-clipboard-copy-icon m-2">
    <path d="M0 6.75C0 5.784.784 5 1.75 5h1.5a.75.75 0 0 1 0 1.5h-1.5a.25.25 0 0 0-.25.25v7.5c0 .138.112.25.25.25h7.5a.25.25 0 0 0 .25-.25v-1.5a.75.75 0 0 1 1.5 0v1.5A1.75 1.75 0 0 1 9.25 16h-7.5A1.75 1.75 0 0 1 0 14.25Z"></path><path d="M5 1.75C5 .784 5.784 0 6.75 0h7.5C15.216 0 16 .784 16 1.75v7.5A1.75 1.75 0 0 1 14.25 11h-7.5A1.75 1.75 0 0 1 5 9.25Zm1.75-.25a.25.25 0 0 0-.25.25v7.5c0 .138.112.25.25.25h7.5a.25.25 0 0 0 .25-.25v-7.5a.25.25 0 0 0-.25-.25Z"></path>
</svg>
      <svg aria-hidden="true" height="16" viewBox="0 0 16 16" version="1.1" width="16" data-view-component="true" class="octicon octicon-check js-clipboard-check-icon color-fg-success d-none m-2">
    <path d="M13.78 4.22a.75.75 0 0 1 0 1.06l-7.25 7.25a.75.75 0 0 1-1.06 0L2.22 9.28a.751.751 0 0 1 .018-1.042.751.751 0 0 1 1.042-.018L6 10.94l6.72-6.72a.75.75 0 0 1 1.06 0Z"></path>
</svg>
    </clipboard-copy>
  </div>
</template>
<template id="snippet-clipboard-copy-button-unpositioned">
  <div class="zeroclipboard-container">
    <clipboard-copy aria-label="Copy" class="ClipboardButton btn btn-invisible js-clipboard-copy m-2 p-0 tooltipped-no-delay d-flex flex-justify-center flex-items-center" data-copy-feedback="Copied!" data-tooltip-direction="w">
      <svg aria-hidden="true" height="16" viewBox="0 0 16 16" version="1.1" width="16" data-view-component="true" class="octicon octicon-copy js-clipboard-copy-icon">
    <path d="M0 6.75C0 5.784.784 5 1.75 5h1.5a.75.75 0 0 1 0 1.5h-1.5a.25.25 0 0 0-.25.25v7.5c0 .138.112.25.25.25h7.5a.25.25 0 0 0 .25-.25v-1.5a.75.75 0 0 1 1.5 0v1.5A1.75 1.75 0 0 1 9.25 16h-7.5A1.75 1.75 0 0 1 0 14.25Z"></path><path d="M5 1.75C5 .784 5.784 0 6.75 0h7.5C15.216 0 16 .784 16 1.75v7.5A1.75 1.75 0 0 1 14.25 11h-7.5A1.75 1.75 0 0 1 5 9.25Zm1.75-.25a.25.25 0 0 0-.25.25v7.5c0 .138.112.25.25.25h7.5a.25.25 0 0 0 .25-.25v-7.5a.25.25 0 0 0-.25-.25Z"></path>
</svg>
      <svg aria-hidden="true" height="16" viewBox="0 0 16 16" version="1.1" width="16" data-view-component="true" class="octicon octicon-check js-clipboard-check-icon color-fg-success d-none">
    <path d="M13.78 4.22a.75.75 0 0 1 0 1.06l-7.25 7.25a.75.75 0 0 1-1.06 0L2.22 9.28a.751.751 0 0 1 .018-1.042.751.751 0 0 1 1.042-.018L6 10.94l6.72-6.72a.75.75 0 0 1 1.06 0Z"></path>
</svg>
    </clipboard-copy>
  </div>
</template>


    <style>
      .user-mention[href$="/MarcelloLM"] {
        color: var(--color-user-mention-fg);
        background-color: var(--color-user-mention-bg);
        border-radius: 2px;
        margin-left: -2px;
        margin-right: -2px;
        padding: 0 2px;
      }
    </style>


    </div>

    <div id="js-global-screen-reader-notice" class="sr-only" aria-live="polite" ></div>
  </body>
</html>

