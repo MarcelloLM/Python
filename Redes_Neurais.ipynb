





<!DOCTYPE html>
<html lang="en" data-color-mode="auto" data-light-theme="light" data-dark-theme="dark" data-a11y-animated-images="system">
  <head>
    <meta charset="utf-8">
  <link rel="dns-prefetch" href="https://github.githubassets.com">
  <link rel="dns-prefetch" href="https://avatars.githubusercontent.com">
  <link rel="dns-prefetch" href="https://github-cloud.s3.amazonaws.com">
  <link rel="dns-prefetch" href="https://user-images.githubusercontent.com/">
  <link rel="preconnect" href="https://github.githubassets.com" crossorigin>
  <link rel="preconnect" href="https://avatars.githubusercontent.com">

  


  <link crossorigin="anonymous" media="all" rel="stylesheet" href="https://github.githubassets.com/assets/light-0946cdc16f15.css" /><link crossorigin="anonymous" media="all" rel="stylesheet" href="https://github.githubassets.com/assets/dark-3946c959759a.css" /><link data-color-theme="dark_dimmed" crossorigin="anonymous" media="all" rel="stylesheet" data-href="https://github.githubassets.com/assets/dark_dimmed-9b9a8c91acc5.css" /><link data-color-theme="dark_high_contrast" crossorigin="anonymous" media="all" rel="stylesheet" data-href="https://github.githubassets.com/assets/dark_high_contrast-11302a585e33.css" /><link data-color-theme="dark_colorblind" crossorigin="anonymous" media="all" rel="stylesheet" data-href="https://github.githubassets.com/assets/dark_colorblind-1a4564ab0fbf.css" /><link data-color-theme="light_colorblind" crossorigin="anonymous" media="all" rel="stylesheet" data-href="https://github.githubassets.com/assets/light_colorblind-12a8b2aa9101.css" /><link data-color-theme="light_high_contrast" crossorigin="anonymous" media="all" rel="stylesheet" data-href="https://github.githubassets.com/assets/light_high_contrast-5924a648f3e7.css" /><link data-color-theme="light_tritanopia" crossorigin="anonymous" media="all" rel="stylesheet" data-href="https://github.githubassets.com/assets/light_tritanopia-05358496cb79.css" /><link data-color-theme="dark_tritanopia" crossorigin="anonymous" media="all" rel="stylesheet" data-href="https://github.githubassets.com/assets/dark_tritanopia-aad6b801a158.css" />
    <link crossorigin="anonymous" media="all" rel="stylesheet" href="https://github.githubassets.com/assets/primer-primitives-fb1d51d1ef66.css" />
    <link crossorigin="anonymous" media="all" rel="stylesheet" href="https://github.githubassets.com/assets/primer-57c312e484b2.css" />
    <link crossorigin="anonymous" media="all" rel="stylesheet" href="https://github.githubassets.com/assets/global-0d04dfcdc794.css" />
    <link crossorigin="anonymous" media="all" rel="stylesheet" href="https://github.githubassets.com/assets/github-c7a3a0ac71d4.css" />
  <link crossorigin="anonymous" media="all" rel="stylesheet" href="https://github.githubassets.com/assets/code-536dffbfff5a.css" />



  <script crossorigin="anonymous" defer="defer" type="application/javascript" src="https://github.githubassets.com/assets/wp-runtime-377d421cc9f7.js"></script>
<script crossorigin="anonymous" defer="defer" type="application/javascript" src="https://github.githubassets.com/assets/vendors-node_modules_stacktrace-parser_dist_stack-trace-parser_esm_js-node_modules_github_bro-a4c183-ae93d3fba59c.js"></script>
<script crossorigin="anonymous" defer="defer" type="application/javascript" src="https://github.githubassets.com/assets/ui_packages_failbot_failbot_ts-e38c93eab86e.js"></script>
<script crossorigin="anonymous" defer="defer" type="application/javascript" src="https://github.githubassets.com/assets/environment-de3997b81651.js"></script>
<script crossorigin="anonymous" defer="defer" type="application/javascript" src="https://github.githubassets.com/assets/vendors-node_modules_github_selector-observer_dist_index_esm_js-2646a2c533e3.js"></script>
<script crossorigin="anonymous" defer="defer" type="application/javascript" src="https://github.githubassets.com/assets/vendors-node_modules_github_relative-time-element_dist_index_js-99e288659d4f.js"></script>
<script crossorigin="anonymous" defer="defer" type="application/javascript" src="https://github.githubassets.com/assets/vendors-node_modules_fzy_js_index_js-node_modules_github_markdown-toolbar-element_dist_index_js-e3de700a4c9d.js"></script>
<script crossorigin="anonymous" defer="defer" type="application/javascript" src="https://github.githubassets.com/assets/vendors-node_modules_delegated-events_dist_index_js-node_modules_github_auto-complete-element-5b3870-ff38694180c6.js"></script>
<script crossorigin="anonymous" defer="defer" type="application/javascript" src="https://github.githubassets.com/assets/vendors-node_modules_github_file-attachment-element_dist_index_js-node_modules_github_text-ex-3415a8-7ecc10fb88d0.js"></script>
<script crossorigin="anonymous" defer="defer" type="application/javascript" src="https://github.githubassets.com/assets/vendors-node_modules_github_filter-input-element_dist_index_js-node_modules_github_remote-inp-8873b7-5771678648e0.js"></script>
<script crossorigin="anonymous" defer="defer" type="application/javascript" src="https://github.githubassets.com/assets/vendors-node_modules_primer_view-components_app_components_primer_primer_js-node_modules_gith-3af896-ba2b2ef33e4b.js"></script>
<script crossorigin="anonymous" defer="defer" type="application/javascript" src="https://github.githubassets.com/assets/github-elements-7b037525f59f.js"></script>
<script crossorigin="anonymous" defer="defer" type="application/javascript" src="https://github.githubassets.com/assets/element-registry-8f404beaf269.js"></script>
<script crossorigin="anonymous" defer="defer" type="application/javascript" src="https://github.githubassets.com/assets/vendors-node_modules_lit-html_lit-html_js-9d9fe1859ce5.js"></script>
<script crossorigin="anonymous" defer="defer" type="application/javascript" src="https://github.githubassets.com/assets/vendors-node_modules_github_mini-throttle_dist_index_js-node_modules_github_alive-client_dist-bf5aa2-424aa982deef.js"></script>
<script crossorigin="anonymous" defer="defer" type="application/javascript" src="https://github.githubassets.com/assets/vendors-node_modules_github_turbo_dist_turbo_es2017-esm_js-ba0e4d5b3207.js"></script>
<script crossorigin="anonymous" defer="defer" type="application/javascript" src="https://github.githubassets.com/assets/vendors-node_modules_color-convert_index_js-node_modules_github_jtml_lib_index_js-40bf234a19dc.js"></script>
<script crossorigin="anonymous" defer="defer" type="application/javascript" src="https://github.githubassets.com/assets/vendors-node_modules_github_remote-form_dist_index_js-node_modules_scroll-anchoring_dist_scro-52dc4b-e1e33bfc0b7e.js"></script>
<script crossorigin="anonymous" defer="defer" type="application/javascript" src="https://github.githubassets.com/assets/vendors-node_modules_github_paste-markdown_dist_index_esm_js-node_modules_github_quote-select-743f1d-1b20d530fbf0.js"></script>
<script crossorigin="anonymous" defer="defer" type="application/javascript" src="https://github.githubassets.com/assets/app_assets_modules_github_updatable-content_ts-dadb69f79923.js"></script>
<script crossorigin="anonymous" defer="defer" type="application/javascript" src="https://github.githubassets.com/assets/app_assets_modules_github_behaviors_keyboard-shortcuts-helper_ts-app_assets_modules_github_be-f5afdb-3f05df4c282b.js"></script>
<script crossorigin="anonymous" defer="defer" type="application/javascript" src="https://github.githubassets.com/assets/app_assets_modules_github_blob-anchor_ts-app_assets_modules_github_code-editor_ts-app_assets_-8128e1-65aa849c94d7.js"></script>
<script crossorigin="anonymous" defer="defer" type="application/javascript" src="https://github.githubassets.com/assets/app_assets_modules_github_sticky-scroll-into-view_ts-1d145b63ed56.js"></script>
<script crossorigin="anonymous" defer="defer" type="application/javascript" src="https://github.githubassets.com/assets/app_assets_modules_github_behaviors_ajax-error_ts-app_assets_modules_github_behaviors_include-2e2258-dae7d38e0248.js"></script>
<script crossorigin="anonymous" defer="defer" type="application/javascript" src="https://github.githubassets.com/assets/app_assets_modules_github_behaviors_commenting_edit_ts-app_assets_modules_github_behaviors_ht-83c235-c97eacdef68a.js"></script>
<script crossorigin="anonymous" defer="defer" type="application/javascript" src="https://github.githubassets.com/assets/behaviors-d1b433c1b6c2.js"></script>
<script crossorigin="anonymous" defer="defer" type="application/javascript" src="https://github.githubassets.com/assets/vendors-node_modules_delegated-events_dist_index_js-node_modules_github_catalyst_lib_index_js-623425af41e1.js"></script>
<script crossorigin="anonymous" defer="defer" type="application/javascript" src="https://github.githubassets.com/assets/notifications-global-4dc6f295cc92.js"></script>
<script crossorigin="anonymous" defer="defer" type="application/javascript" src="https://github.githubassets.com/assets/code-menu-da1cefc25b0a.js"></script>
  
  <script crossorigin="anonymous" defer="defer" type="application/javascript" src="https://github.githubassets.com/assets/react-lib-26cb888452e9.js"></script>
<script crossorigin="anonymous" defer="defer" type="application/javascript" src="https://github.githubassets.com/assets/vendors-node_modules_primer_octicons-react_dist_index_esm_js-node_modules_primer_react_lib-es-ca6dae-a1133077cb2e.js"></script>
<script crossorigin="anonymous" defer="defer" type="application/javascript" src="https://github.githubassets.com/assets/vendors-node_modules_primer_react_lib-esm_Button_index_js-node_modules_primer_react_lib-esm_L-5634ab-42e8568c9a37.js"></script>
<script crossorigin="anonymous" defer="defer" type="application/javascript" src="https://github.githubassets.com/assets/vendors-node_modules_primer_behaviors_dist_esm_focus-zone_js-d55308df5023.js"></script>
<script crossorigin="anonymous" defer="defer" type="application/javascript" src="https://github.githubassets.com/assets/vendors-node_modules_primer_react_lib-esm_ActionList_index_js-node_modules_primer_react_lib-e-d264d6-f9d3bc6f32ea.js"></script>
<script crossorigin="anonymous" defer="defer" type="application/javascript" src="https://github.githubassets.com/assets/vendors-node_modules_dompurify_dist_purify_js-64d590970fa6.js"></script>
<script crossorigin="anonymous" defer="defer" type="application/javascript" src="https://github.githubassets.com/assets/vendors-node_modules_primer_react_lib-esm_ActionMenu_js-9f46ef9292fe.js"></script>
<script crossorigin="anonymous" defer="defer" type="application/javascript" src="https://github.githubassets.com/assets/vendors-node_modules_primer_behaviors_dist_esm_scroll-into-view_js-node_modules_primer_react_-04bb1b-dadff286ba44.js"></script>
<script crossorigin="anonymous" defer="defer" type="application/javascript" src="https://github.githubassets.com/assets/vendors-node_modules_primer_react_lib-esm_FormControl_FormControl_js-a0b171a7401f.js"></script>
<script crossorigin="anonymous" defer="defer" type="application/javascript" src="https://github.githubassets.com/assets/vendors-node_modules_primer_react_lib-esm_Dialog_ConfirmationDialog_js-node_modules_primer_re-3d8a84-e777e763812a.js"></script>
<script crossorigin="anonymous" defer="defer" type="application/javascript" src="https://github.githubassets.com/assets/vendors-node_modules_primer_react_lib-esm_PageLayout_PageLayout_js-4fa99e9ebc43.js"></script>
<script crossorigin="anonymous" defer="defer" type="application/javascript" src="https://github.githubassets.com/assets/vendors-node_modules_primer_react_lib-esm_TreeView_TreeView_js-24fd33d383d9.js"></script>
<script crossorigin="anonymous" defer="defer" type="application/javascript" src="https://github.githubassets.com/assets/vendors-node_modules_primer_react_lib-esm_Avatar_Avatar_js-node_modules_primer_react_lib-esm_-9d76dd-90f908d64068.js"></script>
<script crossorigin="anonymous" defer="defer" type="application/javascript" src="https://github.githubassets.com/assets/vendors-node_modules_github_blackbird-parser_dist_blackbird_js-fcd9d30e9b7e.js"></script>
<script crossorigin="anonymous" defer="defer" type="application/javascript" src="https://github.githubassets.com/assets/vendors-node_modules_primer_react_lib-esm_UnderlineNav2_index_js-node_modules_react-router-do-3a0e98-3da6649648f5.js"></script>
<script crossorigin="anonymous" defer="defer" type="application/javascript" src="https://github.githubassets.com/assets/vendors-node_modules_primer_react_lib-esm_AvatarStack_AvatarStack_js-node_modules_primer_reac-528269-51c7de1de076.js"></script>
<script crossorigin="anonymous" defer="defer" type="application/javascript" src="https://github.githubassets.com/assets/vendors-node_modules_primer_react_lib-esm_Button_LinkButton_js-node_modules_primer_react_lib--6e3f86-46f1f5d7b3f6.js"></script>
<script crossorigin="anonymous" defer="defer" type="application/javascript" src="https://github.githubassets.com/assets/ui_packages_react-core_deferred-registry_ts-ui_packages_react-core_AppContextProvider_tsx-ui_-ffd985-18d5698b6549.js"></script>
<script crossorigin="anonymous" defer="defer" type="application/javascript" src="https://github.githubassets.com/assets/ui_packages_react-core_Entry_tsx-8c7cce1646a4.js"></script>
<script crossorigin="anonymous" defer="defer" type="application/javascript" src="https://github.githubassets.com/assets/ui_packages_paths_path_ts-ui_packages_verified-fetch_verified-fetch_ts-ui_packages_safe-html_-d7e3f1-8681e57cea17.js"></script>
<script crossorigin="anonymous" defer="defer" type="application/javascript" src="https://github.githubassets.com/assets/app_assets_modules_react-shared_RefSelector_RefSelector_tsx-0ade0381bf11.js"></script>
<script crossorigin="anonymous" defer="defer" type="application/javascript" src="https://github.githubassets.com/assets/app_assets_modules_blackbird-monolith_hooks_use-navigate-to-query_ts-app_assets_modules_black-182e14-4606bbb51ec6.js"></script>
<script crossorigin="anonymous" defer="defer" type="application/javascript" src="https://github.githubassets.com/assets/ui_packages_trusted-types-policies_policy_ts-ui_packages_trusted-types_trusted-types_ts-app_a-af1c83-c0b6ae48f7ea.js"></script>
<script crossorigin="anonymous" defer="defer" type="application/javascript" src="https://github.githubassets.com/assets/react-code-view-3986245d6fec.js"></script>


  <title>Redes-Neurais/Redes_Neurais.ipynb at main · MarcelloLM/Redes-Neurais</title>



  <meta name="route-pattern" content="/:user_id/:repository/blob/*name(/*path)">

    
  <meta name="current-catalog-service-hash" content="581425c0eaaa5e5e53c5b736f58a14dbe5d38b0be425901738ad0670bd1d5a33">


  <meta name="request-id" content="0F47:432B:1E8BB8E:219ECCE:645E24C4" data-turbo-transient="true" /><meta name="html-safe-nonce" content="bd8a644c442886b51f85bee989cb16bdb390908e9738981612672e8abe711891" data-turbo-transient="true" /><meta name="visitor-payload" content="eyJyZWZlcnJlciI6Imh0dHBzOi8vZ2l0aHViLmNvbS9NYXJjZWxsb0xNL1JlZGVzLU5ldXJhaXMiLCJyZXF1ZXN0X2lkIjoiMEY0Nzo0MzJCOjFFOEJCOEU6MjE5RUNDRTo2NDVFMjRDNCIsInZpc2l0b3JfaWQiOiI3NDAyMDcwMjA1ODE4NjE4OTM2IiwicmVnaW9uX2VkZ2UiOiJicmF6aWxzb3V0aCIsInJlZ2lvbl9yZW5kZXIiOiJpYWQifQ==" data-turbo-transient="true" /><meta name="visitor-hmac" content="d06d38f0213432ddf3ef9ef3b259cd3d15675fd6431e414bd331f4d219ac96ee" data-turbo-transient="true" />


    <meta name="hovercard-subject-tag" content="repository:619537202" data-turbo-transient>


  <meta name="github-keyboard-shortcuts" content="repository,source-code,file-tree" data-turbo-transient="true" />
  

  <meta name="selected-link" value="repo_source" data-turbo-transient>
  <link rel="assets" href="https://github.githubassets.com/">

    <meta name="google-site-verification" content="c1kuD-K2HIVF635lypcsWPoD4kilo5-jA_wBFyT4uMY">
  <meta name="google-site-verification" content="KT5gs8h0wvaagLKAVWq8bbeNwnZZK1r1XQysX3xurLU">
  <meta name="google-site-verification" content="ZzhVyEFwb7w3e0-uOTltm8Jsck2F5StVihD0exw2fsA">
  <meta name="google-site-verification" content="GXs5KoUUkNCoaAZn7wPN-t01Pywp9M3sEjnt_3_ZWPc">
  <meta name="google-site-verification" content="Apib7-x98H0j5cPqHWwSMm6dNU4GmODRoqxLiDzdx9I">

<meta name="octolytics-url" content="https://collector.github.com/github/collect" /><meta name="octolytics-actor-id" content="106484381" /><meta name="octolytics-actor-login" content="MarcelloLM" /><meta name="octolytics-actor-hash" content="9750732fe8a1dc0f4beff2bdf72e61ab08e69cc44630fc6197fbcda62e867496" />

  <meta name="analytics-location" content="/&lt;user-name&gt;/&lt;repo-name&gt;/blob/show" data-turbo-transient="true" />

  




  

    <meta name="user-login" content="MarcelloLM">

  <link rel="sudo-modal" href="/sessions/sudo_modal">

    <meta name="viewport" content="width=device-width">
    
      <meta name="description" content="Contribute to MarcelloLM/Redes-Neurais development by creating an account on GitHub.">
      <link rel="search" type="application/opensearchdescription+xml" href="/opensearch.xml" title="GitHub">
    <link rel="fluid-icon" href="https://github.com/fluidicon.png" title="GitHub">
    <meta property="fb:app_id" content="1401488693436528">
    <meta name="apple-itunes-app" content="app-id=1477376905" />
      <meta name="twitter:image:src" content="https://opengraph.githubassets.com/22c78baf31513187668c23197d3c1abb337405a5bdca316a668af85985763e30/MarcelloLM/Redes-Neurais" /><meta name="twitter:site" content="@github" /><meta name="twitter:card" content="summary_large_image" /><meta name="twitter:title" content="Redes-Neurais/Redes_Neurais.ipynb at main · MarcelloLM/Redes-Neurais" /><meta name="twitter:description" content="Contribute to MarcelloLM/Redes-Neurais development by creating an account on GitHub." />
      <meta property="og:image" content="https://opengraph.githubassets.com/22c78baf31513187668c23197d3c1abb337405a5bdca316a668af85985763e30/MarcelloLM/Redes-Neurais" /><meta property="og:image:alt" content="Contribute to MarcelloLM/Redes-Neurais development by creating an account on GitHub." /><meta property="og:image:width" content="1200" /><meta property="og:image:height" content="600" /><meta property="og:site_name" content="GitHub" /><meta property="og:type" content="object" /><meta property="og:title" content="Redes-Neurais/Redes_Neurais.ipynb at main · MarcelloLM/Redes-Neurais" /><meta property="og:url" content="https://github.com/MarcelloLM/Redes-Neurais" /><meta property="og:description" content="Contribute to MarcelloLM/Redes-Neurais development by creating an account on GitHub." />
      

      <link rel="shared-web-socket" href="wss://alive.github.com/_sockets/u/106484381/ws?session=eyJ2IjoiVjMiLCJ1IjoxMDY0ODQzODEsInMiOjExMTAwOTIzMDEsImMiOjM0ODAxNzAzNzgsInQiOjE2ODM4OTE0MDB9--4e8513156df63943ef8e788a922f6d1c124df328bd930ef4f0416e52a5a57242" data-refresh-url="/_alive" data-session-id="e629916af211804d0b0bc93e234868046f677ebd856a43524e5a502ec3e01337">
      <link rel="shared-web-socket-src" href="/assets-cdn/worker/socket-worker-71e98f781d79.js">


        <meta name="hostname" content="github.com">


      <meta name="keyboard-shortcuts-preference" content="all">

        <meta name="expected-hostname" content="github.com">

    <meta name="enabled-features" content="TURBO_EXPERIMENT_RISKY,IMAGE_METRIC_TRACKING,GEOJSON_AZURE_MAPS">


  <meta http-equiv="x-pjax-version" content="3807c417764ef84ea7031968fd961b802b0cb95a11ee99ccfca958ed7b1d7914" data-turbo-track="reload">
  <meta http-equiv="x-pjax-csp-version" content="0db263f9a873141d8256f783c35f244c06d490aacc3b680f99794dd8fd59fb59" data-turbo-track="reload">
  <meta http-equiv="x-pjax-css-version" content="e8aa01474d0c779a222d3c578e207f1c2a3df88c4896c35f0c67bac5015a1869" data-turbo-track="reload">
  <meta http-equiv="x-pjax-js-version" content="f70ea5b9052274af7e78261f6d80aa2ae693009e3f178b2df9ff5f579348cca6" data-turbo-track="reload">

  <meta name="turbo-cache-control" content="no-preview" data-turbo-transient="">

      <meta name="turbo-cache-control" content="no-cache" data-turbo-transient>
    <meta data-hydrostats="publish">

  <meta name="go-import" content="github.com/MarcelloLM/Redes-Neurais git https://github.com/MarcelloLM/Redes-Neurais.git">

  <meta name="octolytics-dimension-user_id" content="106484381" /><meta name="octolytics-dimension-user_login" content="MarcelloLM" /><meta name="octolytics-dimension-repository_id" content="619537202" /><meta name="octolytics-dimension-repository_nwo" content="MarcelloLM/Redes-Neurais" /><meta name="octolytics-dimension-repository_public" content="true" /><meta name="octolytics-dimension-repository_is_fork" content="false" /><meta name="octolytics-dimension-repository_network_root_id" content="619537202" /><meta name="octolytics-dimension-repository_network_root_nwo" content="MarcelloLM/Redes-Neurais" />



  <meta name="turbo-body-classes" content="logged-in env-production page-responsive">


  <meta name="browser-stats-url" content="https://api.github.com/_private/browser/stats">

  <meta name="browser-errors-url" content="https://api.github.com/_private/browser/errors">

  <meta name="browser-optimizely-client-errors-url" content="https://api.github.com/_private/browser/optimizely_client/errors">

  <link rel="mask-icon" href="https://github.githubassets.com/pinned-octocat.svg" color="#000000">
  <link rel="alternate icon" class="js-site-favicon" type="image/png" href="https://github.githubassets.com/favicons/favicon.png">
  <link rel="icon" class="js-site-favicon" type="image/svg+xml" href="https://github.githubassets.com/favicons/favicon.svg">

<meta name="theme-color" content="#1e2327">
<meta name="color-scheme" content="light dark" />


  <link rel="manifest" href="/manifest.json" crossOrigin="use-credentials">

  </head>

  <body class="logged-in env-production page-responsive" style="word-wrap: break-word;">
    <div data-turbo-body class="logged-in env-production page-responsive" style="word-wrap: break-word;">
      


    <div class="position-relative js-header-wrapper ">
      <a href="#start-of-content" class="p-3 color-bg-accent-emphasis color-fg-on-emphasis show-on-focus js-skip-to-content">Skip to content</a>
      <span data-view-component="true" class="progress-pjax-loader Progress position-fixed width-full">
    <span style="width: 0%;" data-view-component="true" class="Progress-item progress-pjax-loader-bar left-0 top-0 color-bg-accent-emphasis"></span>
</span>      
      


        <script crossorigin="anonymous" defer="defer" type="application/javascript" src="https://github.githubassets.com/assets/vendors-node_modules_allex_crc32_lib_crc32_esm_js-node_modules_github_mini-throttle_dist_deco-26fa0f-02e7ed68dae1.js"></script>
<script crossorigin="anonymous" defer="defer" type="application/javascript" src="https://github.githubassets.com/assets/vendors-node_modules_github_clipboard-copy-element_dist_index_esm_js-node_modules_delegated-e-b37f7d-a9177ba414f2.js"></script>
<script crossorigin="anonymous" defer="defer" type="application/javascript" src="https://github.githubassets.com/assets/app_assets_modules_github_command-palette_items_help-item_ts-app_assets_modules_github_comman-48ad9d-beffe41c24a7.js"></script>
<script crossorigin="anonymous" defer="defer" type="application/javascript" src="https://github.githubassets.com/assets/command-palette-c2a5f7e7eb12.js"></script>

            <header class="Header js-details-container Details px-3 px-md-4 px-lg-5 flex-wrap flex-md-nowrap" role="banner">

    <div class="Header-item mt-n1 mb-n1  d-none d-md-flex">
      <a
  class="Header-link"
  href="https://github.com/"
  data-hotkey="g d"
  aria-label="Homepage "
  data-turbo="false"
  data-analytics-event="{&quot;category&quot;:&quot;Header&quot;,&quot;action&quot;:&quot;go to dashboard&quot;,&quot;label&quot;:&quot;icon:logo&quot;}"
>
  <svg height="32" aria-hidden="true" viewBox="0 0 16 16" version="1.1" width="32" data-view-component="true" class="octicon octicon-mark-github v-align-middle">
    <path d="M8 0c4.42 0 8 3.58 8 8a8.013 8.013 0 0 1-5.45 7.59c-.4.08-.55-.17-.55-.38 0-.27.01-1.13.01-2.2 0-.75-.25-1.23-.54-1.48 1.78-.2 3.65-.88 3.65-3.95 0-.88-.31-1.59-.82-2.15.08-.2.36-1.02-.08-2.12 0 0-.67-.22-2.2.82-.64-.18-1.32-.27-2-.27-.68 0-1.36.09-2 .27-1.53-1.03-2.2-.82-2.2-.82-.44 1.1-.16 1.92-.08 2.12-.51.56-.82 1.28-.82 2.15 0 3.06 1.86 3.75 3.64 3.95-.23.2-.44.55-.51 1.07-.46.21-1.61.55-2.33-.66-.15-.24-.6-.83-1.23-.82-.67.01-.27.38.01.53.34.19.73.9.82 1.13.16.45.68 1.31 2.69.94 0 .67.01 1.3.01 1.49 0 .21-.15.45-.55.38A7.995 7.995 0 0 1 0 8c0-4.42 3.58-8 8-8Z"></path>
</svg>
</a>

    </div>

    <div class="Header-item d-md-none">
        <button aria-label="Toggle navigation" aria-expanded="false" type="button" data-view-component="true" class="Header-link js-details-target btn-link">    <svg aria-hidden="true" height="24" viewBox="0 0 16 16" version="1.1" width="24" data-view-component="true" class="octicon octicon-three-bars">
    <path d="M1 2.75A.75.75 0 0 1 1.75 2h12.5a.75.75 0 0 1 0 1.5H1.75A.75.75 0 0 1 1 2.75Zm0 5A.75.75 0 0 1 1.75 7h12.5a.75.75 0 0 1 0 1.5H1.75A.75.75 0 0 1 1 7.75ZM1.75 12h12.5a.75.75 0 0 1 0 1.5H1.75a.75.75 0 0 1 0-1.5Z"></path>
</svg>
</button>    </div>

    <div class="Header-item Header-item--full flex-column flex-md-row width-full flex-order-2 flex-md-order-none mr-0 mt-3 mt-md-0 Details-content--hidden-not-important d-md-flex">
              


<template id="search-icon">
  <svg aria-hidden="true" height="16" viewBox="0 0 16 16" version="1.1" width="16" data-view-component="true" class="octicon octicon-search">
    <path d="M10.68 11.74a6 6 0 0 1-7.922-8.982 6 6 0 0 1 8.982 7.922l3.04 3.04a.749.749 0 0 1-.326 1.275.749.749 0 0 1-.734-.215ZM11.5 7a4.499 4.499 0 1 0-8.997 0A4.499 4.499 0 0 0 11.5 7Z"></path>
</svg>
</template>

<template id="code-icon">
  <svg aria-hidden="true" height="16" viewBox="0 0 16 16" version="1.1" width="16" data-view-component="true" class="octicon octicon-code">
    <path d="m11.28 3.22 4.25 4.25a.75.75 0 0 1 0 1.06l-4.25 4.25a.749.749 0 0 1-1.275-.326.749.749 0 0 1 .215-.734L13.94 8l-3.72-3.72a.749.749 0 0 1 .326-1.275.749.749 0 0 1 .734.215Zm-6.56 0a.751.751 0 0 1 1.042.018.751.751 0 0 1 .018 1.042L2.06 8l3.72 3.72a.749.749 0 0 1-.326 1.275.749.749 0 0 1-.734-.215L.47 8.53a.75.75 0 0 1 0-1.06Z"></path>
</svg>
</template>

<template id="file-code-icon">
  <svg aria-hidden="true" height="16" viewBox="0 0 16 16" version="1.1" width="16" data-view-component="true" class="octicon octicon-file-code">
    <path d="M4 1.75C4 .784 4.784 0 5.75 0h5.586c.464 0 .909.184 1.237.513l2.914 2.914c.329.328.513.773.513 1.237v8.586A1.75 1.75 0 0 1 14.25 15h-9a.75.75 0 0 1 0-1.5h9a.25.25 0 0 0 .25-.25V6h-2.75A1.75 1.75 0 0 1 10 4.25V1.5H5.75a.25.25 0 0 0-.25.25v2.5a.75.75 0 0 1-1.5 0Zm1.72 4.97a.75.75 0 0 1 1.06 0l2 2a.75.75 0 0 1 0 1.06l-2 2a.749.749 0 0 1-1.275-.326.749.749 0 0 1 .215-.734l1.47-1.47-1.47-1.47a.75.75 0 0 1 0-1.06ZM3.28 7.78 1.81 9.25l1.47 1.47a.751.751 0 0 1-.018 1.042.751.751 0 0 1-1.042.018l-2-2a.75.75 0 0 1 0-1.06l2-2a.751.751 0 0 1 1.042.018.751.751 0 0 1 .018 1.042Zm8.22-6.218V4.25c0 .138.112.25.25.25h2.688l-.011-.013-2.914-2.914-.013-.011Z"></path>
</svg>
</template>

<template id="history-icon">
  <svg aria-hidden="true" height="16" viewBox="0 0 16 16" version="1.1" width="16" data-view-component="true" class="octicon octicon-history">
    <path d="m.427 1.927 1.215 1.215a8.002 8.002 0 1 1-1.6 5.685.75.75 0 1 1 1.493-.154 6.5 6.5 0 1 0 1.18-4.458l1.358 1.358A.25.25 0 0 1 3.896 6H.25A.25.25 0 0 1 0 5.75V2.104a.25.25 0 0 1 .427-.177ZM7.75 4a.75.75 0 0 1 .75.75v2.992l2.028.812a.75.75 0 0 1-.557 1.392l-2.5-1A.751.751 0 0 1 7 8.25v-3.5A.75.75 0 0 1 7.75 4Z"></path>
</svg>
</template>

<template id="repo-icon">
  <svg aria-hidden="true" height="16" viewBox="0 0 16 16" version="1.1" width="16" data-view-component="true" class="octicon octicon-repo">
    <path d="M2 2.5A2.5 2.5 0 0 1 4.5 0h8.75a.75.75 0 0 1 .75.75v12.5a.75.75 0 0 1-.75.75h-2.5a.75.75 0 0 1 0-1.5h1.75v-2h-8a1 1 0 0 0-.714 1.7.75.75 0 1 1-1.072 1.05A2.495 2.495 0 0 1 2 11.5Zm10.5-1h-8a1 1 0 0 0-1 1v6.708A2.486 2.486 0 0 1 4.5 9h8ZM5 12.25a.25.25 0 0 1 .25-.25h3.5a.25.25 0 0 1 .25.25v3.25a.25.25 0 0 1-.4.2l-1.45-1.087a.249.249 0 0 0-.3 0L5.4 15.7a.25.25 0 0 1-.4-.2Z"></path>
</svg>
</template>

<template id="bookmark-icon">
  <svg aria-hidden="true" height="16" viewBox="0 0 16 16" version="1.1" width="16" data-view-component="true" class="octicon octicon-bookmark">
    <path d="M3 2.75C3 1.784 3.784 1 4.75 1h6.5c.966 0 1.75.784 1.75 1.75v11.5a.75.75 0 0 1-1.227.579L8 11.722l-3.773 3.107A.751.751 0 0 1 3 14.25Zm1.75-.25a.25.25 0 0 0-.25.25v9.91l3.023-2.489a.75.75 0 0 1 .954 0l3.023 2.49V2.75a.25.25 0 0 0-.25-.25Z"></path>
</svg>
</template>

<template id="plus-circle-icon">
  <svg aria-hidden="true" height="16" viewBox="0 0 16 16" version="1.1" width="16" data-view-component="true" class="octicon octicon-plus-circle">
    <path d="M8 0a8 8 0 1 1 0 16A8 8 0 0 1 8 0ZM1.5 8a6.5 6.5 0 1 0 13 0 6.5 6.5 0 0 0-13 0Zm7.25-3.25v2.5h2.5a.75.75 0 0 1 0 1.5h-2.5v2.5a.75.75 0 0 1-1.5 0v-2.5h-2.5a.75.75 0 0 1 0-1.5h2.5v-2.5a.75.75 0 0 1 1.5 0Z"></path>
</svg>
</template>

<template id="circle-icon">
  <svg aria-hidden="true" height="16" viewBox="0 0 16 16" version="1.1" width="16" data-view-component="true" class="octicon octicon-dot-fill">
    <path d="M8 4a4 4 0 1 1 0 8 4 4 0 0 1 0-8Z"></path>
</svg>
</template>

<template id="trash-icon">
  <svg aria-hidden="true" height="16" viewBox="0 0 16 16" version="1.1" width="16" data-view-component="true" class="octicon octicon-trash">
    <path d="M11 1.75V3h2.25a.75.75 0 0 1 0 1.5H2.75a.75.75 0 0 1 0-1.5H5V1.75C5 .784 5.784 0 6.75 0h2.5C10.216 0 11 .784 11 1.75ZM4.496 6.675l.66 6.6a.25.25 0 0 0 .249.225h5.19a.25.25 0 0 0 .249-.225l.66-6.6a.75.75 0 0 1 1.492.149l-.66 6.6A1.748 1.748 0 0 1 10.595 15h-5.19a1.75 1.75 0 0 1-1.741-1.575l-.66-6.6a.75.75 0 1 1 1.492-.15ZM6.5 1.75V3h3V1.75a.25.25 0 0 0-.25-.25h-2.5a.25.25 0 0 0-.25.25Z"></path>
</svg>
</template>

<template id="team-icon">
  <svg aria-hidden="true" height="16" viewBox="0 0 16 16" version="1.1" width="16" data-view-component="true" class="octicon octicon-people">
    <path d="M2 5.5a3.5 3.5 0 1 1 5.898 2.549 5.508 5.508 0 0 1 3.034 4.084.75.75 0 1 1-1.482.235 4 4 0 0 0-7.9 0 .75.75 0 0 1-1.482-.236A5.507 5.507 0 0 1 3.102 8.05 3.493 3.493 0 0 1 2 5.5ZM11 4a3.001 3.001 0 0 1 2.22 5.018 5.01 5.01 0 0 1 2.56 3.012.749.749 0 0 1-.885.954.752.752 0 0 1-.549-.514 3.507 3.507 0 0 0-2.522-2.372.75.75 0 0 1-.574-.73v-.352a.75.75 0 0 1 .416-.672A1.5 1.5 0 0 0 11 5.5.75.75 0 0 1 11 4Zm-5.5-.5a2 2 0 1 0-.001 3.999A2 2 0 0 0 5.5 3.5Z"></path>
</svg>
</template>

<template id="project-icon">
  <svg aria-hidden="true" height="16" viewBox="0 0 16 16" version="1.1" width="16" data-view-component="true" class="octicon octicon-project">
    <path d="M1.75 0h12.5C15.216 0 16 .784 16 1.75v12.5A1.75 1.75 0 0 1 14.25 16H1.75A1.75 1.75 0 0 1 0 14.25V1.75C0 .784.784 0 1.75 0ZM1.5 1.75v12.5c0 .138.112.25.25.25h12.5a.25.25 0 0 0 .25-.25V1.75a.25.25 0 0 0-.25-.25H1.75a.25.25 0 0 0-.25.25ZM11.75 3a.75.75 0 0 1 .75.75v7.5a.75.75 0 0 1-1.5 0v-7.5a.75.75 0 0 1 .75-.75Zm-8.25.75a.75.75 0 0 1 1.5 0v5.5a.75.75 0 0 1-1.5 0ZM8 3a.75.75 0 0 1 .75.75v3.5a.75.75 0 0 1-1.5 0v-3.5A.75.75 0 0 1 8 3Z"></path>
</svg>
</template>

<template id="pencil-icon">
  <svg aria-hidden="true" height="16" viewBox="0 0 16 16" version="1.1" width="16" data-view-component="true" class="octicon octicon-pencil">
    <path d="M11.013 1.427a1.75 1.75 0 0 1 2.474 0l1.086 1.086a1.75 1.75 0 0 1 0 2.474l-8.61 8.61c-.21.21-.47.364-.756.445l-3.251.93a.75.75 0 0 1-.927-.928l.929-3.25c.081-.286.235-.547.445-.758l8.61-8.61Zm.176 4.823L9.75 4.81l-6.286 6.287a.253.253 0 0 0-.064.108l-.558 1.953 1.953-.558a.253.253 0 0 0 .108-.064Zm1.238-3.763a.25.25 0 0 0-.354 0L10.811 3.75l1.439 1.44 1.263-1.263a.25.25 0 0 0 0-.354Z"></path>
</svg>
</template>

<qbsearch-input class="search-input" data-scope="repo:MarcelloLM/Redes-Neurais" data-custom-scopes-path="/search/custom_scopes" data-delete-custom-scopes-csrf="XfyYk9QROVnkHL9YvETP_F9PQlN172w6CNDrw2NJlmuLLvvGzZkcZHl9dogn3DxnZSq1P6hYolBSy_17MMrdrg" data-max-custom-scopes="10" data-header-redesign-enabled="false" data-initial-value="" data-blackbird-suggestions-path="/search/suggestions" data-jump-to-suggestions-path="/_graphql/GetSuggestedNavigationDestinations" data-current-repository="MarcelloLM/Redes-Neurais" data-current-org="" data-current-owner="MarcelloLM">
  <div
    class="search-input-container search-with-dialog position-relative d-flex flex-row flex-items-center mr-4 rounded"
    data-action="click:qbsearch-input#searchInputContainerClicked"
  >
      <button
        type="button"
        class="header-search-button placeholder  input-button form-control d-flex flex-1 flex-self-stretch flex-items-center no-wrap width-full py-0 pl-2 pr-0 text-left border-0 box-shadow-none"
        data-target="qbsearch-input.inputButton"
        placeholder="Search or jump to..."
        data-hotkey=s,/
        autocapitalize="off"
        data-action="click:qbsearch-input#handleExpand"
      >
        <div class="mr-2 color-fg-muted">
          <svg aria-hidden="true" height="16" viewBox="0 0 16 16" version="1.1" width="16" data-view-component="true" class="octicon octicon-search">
    <path d="M10.68 11.74a6 6 0 0 1-7.922-8.982 6 6 0 0 1 8.982 7.922l3.04 3.04a.749.749 0 0 1-.326 1.275.749.749 0 0 1-.734-.215ZM11.5 7a4.499 4.499 0 1 0-8.997 0A4.499 4.499 0 0 0 11.5 7Z"></path>
</svg>
        </div>
        <span class="flex-1" data-target="qbsearch-input.inputButtonText">Search or jump to...</span>
          <div class="d-flex" data-target="qbsearch-input.hotkeyIndicator">
            <svg xmlns="http://www.w3.org/2000/svg" width="22" height="20" aria-hidden="true" class="mr-1"><path fill="none" stroke="#979A9C" opacity=".4" d="M3.5.5h12c1.7 0 3 1.3 3 3v13c0 1.7-1.3 3-3 3h-12c-1.7 0-3-1.3-3-3v-13c0-1.7 1.3-3 3-3z"></path><path fill="#979A9C" d="M11.8 6L8 15.1h-.9L10.8 6h1z"></path></svg>

          </div>
      </button>

    <input type="hidden" name="type" class="js-site-search-type-field">

    
<div class="Overlay--hidden " data-modal-dialog-overlay>
  <modal-dialog data-action="close:qbsearch-input#handleClose cancel:qbsearch-input#handleClose" data-target="qbsearch-input.searchSuggestionsDialog" role="dialog" id="search-suggestions-dialog" aria-modal="true" aria-labelledby="search-suggestions-dialog-header" data-view-component="true" class="Overlay Overlay--width-large Overlay--height-auto">
      <h1 id="search-suggestions-dialog-header" class="sr-only">Search code, repositories, users, issues, pull requests...</h1>
    <div class="Overlay-body Overlay-body--paddingNone">
      
          <div data-view-component="true">        <div class="search-suggestions position-absolute width-full color-shadow-large border color-fg-default color-bg-default overflow-hidden d-flex flex-column query-builder-container"
          style="border-radius: 12px;"
          data-target="qbsearch-input.queryBuilderContainer"
          hidden
        >
          <!-- '"` --><!-- </textarea></xmp> --></option></form><form id="query-builder-test-form" action="" accept-charset="UTF-8" method="get">
  <query-builder data-target="qbsearch-input.queryBuilder" id="query-builder-query-builder-test" data-filter-key=":" data-view-component="true" class="QueryBuilder search-query-builder">
    <div class="FormControl FormControl--fullWidth">
      <label id="query-builder-test-label" for="query-builder-test" class="FormControl-label sr-only">
        Search
      </label>
      <div class="QueryBuilder-StyledInput width-fit" data-target="query-builder.styledInput">
          <span id="query-builder-test-leadingvisual-wrap" class="FormControl-input-leadingVisualWrap QueryBuilder-leadingVisualWrap">
            <svg aria-hidden="true" height="16" viewBox="0 0 16 16" version="1.1" width="16" data-view-component="true" class="octicon octicon-search FormControl-input-leadingVisual">
    <path d="M10.68 11.74a6 6 0 0 1-7.922-8.982 6 6 0 0 1 8.982 7.922l3.04 3.04a.749.749 0 0 1-.326 1.275.749.749 0 0 1-.734-.215ZM11.5 7a4.499 4.499 0 1 0-8.997 0A4.499 4.499 0 0 0 11.5 7Z"></path>
</svg>
          </span>
        <div data-target="query-builder.styledInputContainer" class="QueryBuilder-StyledInputContainer">
          <div
            aria-hidden="true"
            class="QueryBuilder-StyledInputContent"
            data-target="query-builder.styledInputContent"
          ></div>
          <div class="QueryBuilder-InputWrapper">
            <div aria-hidden="true" class="QueryBuilder-Sizer" data-target="query-builder.sizer"></div>
            <input id="query-builder-test" name="query-builder-test" value="" autocomplete="off" type="text" role="combobox" spellcheck="false" aria-expanded="false" data-target="query-builder.input" data-action="
          input:query-builder#inputChange
          blur:query-builder#inputBlur
          keydown:query-builder#inputKeydown
          focus:query-builder#inputFocus
        " data-view-component="true" class="FormControl-input QueryBuilder-Input FormControl-medium" />
          </div>
        </div>
          <span class="sr-only" id="query-builder-test-clear">Clear</span>
          
  <button role="button" id="query-builder-test-clear-button" aria-labelledby="query-builder-test-clear query-builder-test-label" data-target="query-builder.clearButton" data-action="
                click:query-builder#clear
                focus:query-builder#clearButtonFocus
                blur:query-builder#clearButtonBlur
              " variant="small" hidden="hidden" type="button" data-view-component="true" class="Button Button--iconOnly Button--invisible Button--medium mr-1 px-2 py-0 d-flex flex-items-center rounded-1 color-fg-muted">    <svg aria-hidden="true" height="16" viewBox="0 0 16 16" version="1.1" width="16" data-view-component="true" class="octicon octicon-x-circle-fill Button-visual">
    <path d="M2.343 13.657A8 8 0 1 1 13.658 2.343 8 8 0 0 1 2.343 13.657ZM6.03 4.97a.751.751 0 0 0-1.042.018.751.751 0 0 0-.018 1.042L6.94 8 4.97 9.97a.749.749 0 0 0 .326 1.275.749.749 0 0 0 .734-.215L8 9.06l1.97 1.97a.749.749 0 0 0 1.275-.326.749.749 0 0 0-.215-.734L9.06 8l1.97-1.97a.749.749 0 0 0-.326-1.275.749.749 0 0 0-.734.215L8 6.94Z"></path>
</svg>
</button>  

      </div>
      <template id="search-icon">
  <svg aria-hidden="true" height="16" viewBox="0 0 16 16" version="1.1" width="16" data-view-component="true" class="octicon octicon-search">
    <path d="M10.68 11.74a6 6 0 0 1-7.922-8.982 6 6 0 0 1 8.982 7.922l3.04 3.04a.749.749 0 0 1-.326 1.275.749.749 0 0 1-.734-.215ZM11.5 7a4.499 4.499 0 1 0-8.997 0A4.499 4.499 0 0 0 11.5 7Z"></path>
</svg>
</template>

<template id="code-icon">
  <svg aria-hidden="true" height="16" viewBox="0 0 16 16" version="1.1" width="16" data-view-component="true" class="octicon octicon-code">
    <path d="m11.28 3.22 4.25 4.25a.75.75 0 0 1 0 1.06l-4.25 4.25a.749.749 0 0 1-1.275-.326.749.749 0 0 1 .215-.734L13.94 8l-3.72-3.72a.749.749 0 0 1 .326-1.275.749.749 0 0 1 .734.215Zm-6.56 0a.751.751 0 0 1 1.042.018.751.751 0 0 1 .018 1.042L2.06 8l3.72 3.72a.749.749 0 0 1-.326 1.275.749.749 0 0 1-.734-.215L.47 8.53a.75.75 0 0 1 0-1.06Z"></path>
</svg>
</template>

<template id="file-code-icon">
  <svg aria-hidden="true" height="16" viewBox="0 0 16 16" version="1.1" width="16" data-view-component="true" class="octicon octicon-file-code">
    <path d="M4 1.75C4 .784 4.784 0 5.75 0h5.586c.464 0 .909.184 1.237.513l2.914 2.914c.329.328.513.773.513 1.237v8.586A1.75 1.75 0 0 1 14.25 15h-9a.75.75 0 0 1 0-1.5h9a.25.25 0 0 0 .25-.25V6h-2.75A1.75 1.75 0 0 1 10 4.25V1.5H5.75a.25.25 0 0 0-.25.25v2.5a.75.75 0 0 1-1.5 0Zm1.72 4.97a.75.75 0 0 1 1.06 0l2 2a.75.75 0 0 1 0 1.06l-2 2a.749.749 0 0 1-1.275-.326.749.749 0 0 1 .215-.734l1.47-1.47-1.47-1.47a.75.75 0 0 1 0-1.06ZM3.28 7.78 1.81 9.25l1.47 1.47a.751.751 0 0 1-.018 1.042.751.751 0 0 1-1.042.018l-2-2a.75.75 0 0 1 0-1.06l2-2a.751.751 0 0 1 1.042.018.751.751 0 0 1 .018 1.042Zm8.22-6.218V4.25c0 .138.112.25.25.25h2.688l-.011-.013-2.914-2.914-.013-.011Z"></path>
</svg>
</template>

<template id="history-icon">
  <svg aria-hidden="true" height="16" viewBox="0 0 16 16" version="1.1" width="16" data-view-component="true" class="octicon octicon-history">
    <path d="m.427 1.927 1.215 1.215a8.002 8.002 0 1 1-1.6 5.685.75.75 0 1 1 1.493-.154 6.5 6.5 0 1 0 1.18-4.458l1.358 1.358A.25.25 0 0 1 3.896 6H.25A.25.25 0 0 1 0 5.75V2.104a.25.25 0 0 1 .427-.177ZM7.75 4a.75.75 0 0 1 .75.75v2.992l2.028.812a.75.75 0 0 1-.557 1.392l-2.5-1A.751.751 0 0 1 7 8.25v-3.5A.75.75 0 0 1 7.75 4Z"></path>
</svg>
</template>

<template id="repo-icon">
  <svg aria-hidden="true" height="16" viewBox="0 0 16 16" version="1.1" width="16" data-view-component="true" class="octicon octicon-repo">
    <path d="M2 2.5A2.5 2.5 0 0 1 4.5 0h8.75a.75.75 0 0 1 .75.75v12.5a.75.75 0 0 1-.75.75h-2.5a.75.75 0 0 1 0-1.5h1.75v-2h-8a1 1 0 0 0-.714 1.7.75.75 0 1 1-1.072 1.05A2.495 2.495 0 0 1 2 11.5Zm10.5-1h-8a1 1 0 0 0-1 1v6.708A2.486 2.486 0 0 1 4.5 9h8ZM5 12.25a.25.25 0 0 1 .25-.25h3.5a.25.25 0 0 1 .25.25v3.25a.25.25 0 0 1-.4.2l-1.45-1.087a.249.249 0 0 0-.3 0L5.4 15.7a.25.25 0 0 1-.4-.2Z"></path>
</svg>
</template>

<template id="bookmark-icon">
  <svg aria-hidden="true" height="16" viewBox="0 0 16 16" version="1.1" width="16" data-view-component="true" class="octicon octicon-bookmark">
    <path d="M3 2.75C3 1.784 3.784 1 4.75 1h6.5c.966 0 1.75.784 1.75 1.75v11.5a.75.75 0 0 1-1.227.579L8 11.722l-3.773 3.107A.751.751 0 0 1 3 14.25Zm1.75-.25a.25.25 0 0 0-.25.25v9.91l3.023-2.489a.75.75 0 0 1 .954 0l3.023 2.49V2.75a.25.25 0 0 0-.25-.25Z"></path>
</svg>
</template>

<template id="plus-circle-icon">
  <svg aria-hidden="true" height="16" viewBox="0 0 16 16" version="1.1" width="16" data-view-component="true" class="octicon octicon-plus-circle">
    <path d="M8 0a8 8 0 1 1 0 16A8 8 0 0 1 8 0ZM1.5 8a6.5 6.5 0 1 0 13 0 6.5 6.5 0 0 0-13 0Zm7.25-3.25v2.5h2.5a.75.75 0 0 1 0 1.5h-2.5v2.5a.75.75 0 0 1-1.5 0v-2.5h-2.5a.75.75 0 0 1 0-1.5h2.5v-2.5a.75.75 0 0 1 1.5 0Z"></path>
</svg>
</template>

<template id="circle-icon">
  <svg aria-hidden="true" height="16" viewBox="0 0 16 16" version="1.1" width="16" data-view-component="true" class="octicon octicon-dot-fill">
    <path d="M8 4a4 4 0 1 1 0 8 4 4 0 0 1 0-8Z"></path>
</svg>
</template>

<template id="trash-icon">
  <svg aria-hidden="true" height="16" viewBox="0 0 16 16" version="1.1" width="16" data-view-component="true" class="octicon octicon-trash">
    <path d="M11 1.75V3h2.25a.75.75 0 0 1 0 1.5H2.75a.75.75 0 0 1 0-1.5H5V1.75C5 .784 5.784 0 6.75 0h2.5C10.216 0 11 .784 11 1.75ZM4.496 6.675l.66 6.6a.25.25 0 0 0 .249.225h5.19a.25.25 0 0 0 .249-.225l.66-6.6a.75.75 0 0 1 1.492.149l-.66 6.6A1.748 1.748 0 0 1 10.595 15h-5.19a1.75 1.75 0 0 1-1.741-1.575l-.66-6.6a.75.75 0 1 1 1.492-.15ZM6.5 1.75V3h3V1.75a.25.25 0 0 0-.25-.25h-2.5a.25.25 0 0 0-.25.25Z"></path>
</svg>
</template>

<template id="team-icon">
  <svg aria-hidden="true" height="16" viewBox="0 0 16 16" version="1.1" width="16" data-view-component="true" class="octicon octicon-people">
    <path d="M2 5.5a3.5 3.5 0 1 1 5.898 2.549 5.508 5.508 0 0 1 3.034 4.084.75.75 0 1 1-1.482.235 4 4 0 0 0-7.9 0 .75.75 0 0 1-1.482-.236A5.507 5.507 0 0 1 3.102 8.05 3.493 3.493 0 0 1 2 5.5ZM11 4a3.001 3.001 0 0 1 2.22 5.018 5.01 5.01 0 0 1 2.56 3.012.749.749 0 0 1-.885.954.752.752 0 0 1-.549-.514 3.507 3.507 0 0 0-2.522-2.372.75.75 0 0 1-.574-.73v-.352a.75.75 0 0 1 .416-.672A1.5 1.5 0 0 0 11 5.5.75.75 0 0 1 11 4Zm-5.5-.5a2 2 0 1 0-.001 3.999A2 2 0 0 0 5.5 3.5Z"></path>
</svg>
</template>

<template id="project-icon">
  <svg aria-hidden="true" height="16" viewBox="0 0 16 16" version="1.1" width="16" data-view-component="true" class="octicon octicon-project">
    <path d="M1.75 0h12.5C15.216 0 16 .784 16 1.75v12.5A1.75 1.75 0 0 1 14.25 16H1.75A1.75 1.75 0 0 1 0 14.25V1.75C0 .784.784 0 1.75 0ZM1.5 1.75v12.5c0 .138.112.25.25.25h12.5a.25.25 0 0 0 .25-.25V1.75a.25.25 0 0 0-.25-.25H1.75a.25.25 0 0 0-.25.25ZM11.75 3a.75.75 0 0 1 .75.75v7.5a.75.75 0 0 1-1.5 0v-7.5a.75.75 0 0 1 .75-.75Zm-8.25.75a.75.75 0 0 1 1.5 0v5.5a.75.75 0 0 1-1.5 0ZM8 3a.75.75 0 0 1 .75.75v3.5a.75.75 0 0 1-1.5 0v-3.5A.75.75 0 0 1 8 3Z"></path>
</svg>
</template>

<template id="pencil-icon">
  <svg aria-hidden="true" height="16" viewBox="0 0 16 16" version="1.1" width="16" data-view-component="true" class="octicon octicon-pencil">
    <path d="M11.013 1.427a1.75 1.75 0 0 1 2.474 0l1.086 1.086a1.75 1.75 0 0 1 0 2.474l-8.61 8.61c-.21.21-.47.364-.756.445l-3.251.93a.75.75 0 0 1-.927-.928l.929-3.25c.081-.286.235-.547.445-.758l8.61-8.61Zm.176 4.823L9.75 4.81l-6.286 6.287a.253.253 0 0 0-.064.108l-.558 1.953 1.953-.558a.253.253 0 0 0 .108-.064Zm1.238-3.763a.25.25 0 0 0-.354 0L10.811 3.75l1.439 1.44 1.263-1.263a.25.25 0 0 0 0-.354Z"></path>
</svg>
</template>

        <div class="position-relative">
                <ul
                  role="listbox"
                  class="ActionListWrap QueryBuilder-ListWrap"
                  aria-label="Suggestions"
                  data-action="
                    combobox-commit:query-builder#comboboxCommit
                    mousedown:query-builder#resultsMousedown
                  "
                  data-target="query-builder.resultsList"
                  data-persist-list=false
                  id="query-builder-test-results"
                ></ul>
        </div>
    </div>
    <div data-target="query-builder.screenReaderFeedback" aria-live="polite" aria-atomic="true" class="sr-only"></div>
</query-builder></form>
          <div class="d-flex flex-row color-fg-muted px-3 text-small color-bg-default search-feedback-prompt">
            <a target="_blank" href="https://docs.github.com/en/search-github/github-code-search/understanding-github-code-search-syntax" data-view-component="true" class="color-fg-accent text-normal ml-2">
              Search syntax tips
</a>            <div class="d-flex flex-1"></div>
              <button data-action="click:qbsearch-input#showFeedbackDialog" type="button" data-view-component="true" class="Button--link Button--medium Button color-fg-accent text-normal ml-2">    <span class="Button-content">
      <span class="Button-label">Give feedback</span>
    </span>
</button>  
          </div>
        </div>
</div>

    </div>
</modal-dialog></div>
  </div>
  <div data-action="click:qbsearch-input#retract" class="dark-backdrop position-fixed width-full" hidden data-target="qbsearch-input.darkBackdrop"></div>
  <div class="color-fg-default">
    
<div class="Overlay--hidden Overlay-backdrop--center" data-modal-dialog-overlay>
  <modal-dialog data-target="qbsearch-input.feedbackDialog" data-action="close:qbsearch-input#handleDialogClose cancel:qbsearch-input#handleDialogClose" role="dialog" id="feedback-dialog" aria-modal="true" aria-disabled="true" aria-describedby="feedback-dialog-title feedback-dialog-description" data-view-component="true" class="Overlay Overlay-whenNarrow Overlay--size-medium Overlay--motion-scaleFade">
    <div data-view-component="true" class="Overlay-header">
  <div class="Overlay-headerContentWrap">
    <div class="Overlay-titleWrap">
      <h1 class="Overlay-title " id="feedback-dialog-title">
        Provide feedback
      </h1>
    </div>
    <div class="Overlay-actionWrap">
      <button data-close-dialog-id="feedback-dialog" aria-label="Close" type="button" data-view-component="true" class="close-button Overlay-closeButton"><svg aria-hidden="true" height="16" viewBox="0 0 16 16" version="1.1" width="16" data-view-component="true" class="octicon octicon-x">
    <path d="M3.72 3.72a.75.75 0 0 1 1.06 0L8 6.94l3.22-3.22a.749.749 0 0 1 1.275.326.749.749 0 0 1-.215.734L9.06 8l3.22 3.22a.749.749 0 0 1-.326 1.275.749.749 0 0 1-.734-.215L8 9.06l-3.22 3.22a.751.751 0 0 1-1.042-.018.751.751 0 0 1-.018-1.042L6.94 8 3.72 4.78a.75.75 0 0 1 0-1.06Z"></path>
</svg></button>
    </div>
  </div>
</div>
      <div data-view-component="true" class="Overlay-body">        <!-- '"` --><!-- </textarea></xmp> --></option></form><form id="code-search-feedback-form" data-turbo="false" action="/search/feedback" accept-charset="UTF-8" method="post"><input type="hidden" name="authenticity_token" value="eovdDURgolw_81nEG9y10D6Jg6TBAbARyPVsp3k1KRBgMD84J9mnxYikufTpZs1dX4bmNfcZEqvaWWFcJfv2Zg" />
          <p>We read every piece of feedback, and take your input very seriously.</p>
          <textarea name="feedback" class="form-control width-full mb-2" style="height: 120px" id="feedback"></textarea>
          <input name="include_email" id="include_email" aria-label="Include my email address so I can be contacted" class="form-control mr-2" type="checkbox">
          <label for="include_email" style="font-weight: normal">Include my email address so I can be contacted</label>
</form></div>
      <div data-view-component="true" class="Overlay-footer Overlay-footer--alignEnd">          <button data-close-dialog-id="feedback-dialog" type="button" data-view-component="true" class="btn">    Cancel
</button>
          <button form="code-search-feedback-form" data-action="click:qbsearch-input#submitFeedback" type="submit" data-view-component="true" class="btn-primary btn">    Submit feedback
</button>
</div>
</modal-dialog></div>

    <custom-scopes data-target="qbsearch-input.customScopesManager">
    
<div class="Overlay--hidden Overlay-backdrop--center" data-modal-dialog-overlay>
  <modal-dialog data-target="custom-scopes.customScopesModalDialog" data-action="close:qbsearch-input#handleDialogClose cancel:qbsearch-input#handleDialogClose" role="dialog" id="custom-scopes-dialog" aria-modal="true" aria-disabled="true" aria-describedby="custom-scopes-dialog-title custom-scopes-dialog-description" data-view-component="true" class="Overlay Overlay-whenNarrow Overlay--size-medium Overlay--motion-scaleFade">
    <div data-view-component="true" class="Overlay-header Overlay-header--divided">
  <div class="Overlay-headerContentWrap">
    <div class="Overlay-titleWrap">
      <h1 class="Overlay-title " id="custom-scopes-dialog-title">
        Saved searches
      </h1>
        <h2 id="custom-scopes-dialog-description" class="Overlay-description">Use saved searches to filter your results more quickly</h2>
    </div>
    <div class="Overlay-actionWrap">
      <button data-close-dialog-id="custom-scopes-dialog" aria-label="Close" type="button" data-view-component="true" class="close-button Overlay-closeButton"><svg aria-hidden="true" height="16" viewBox="0 0 16 16" version="1.1" width="16" data-view-component="true" class="octicon octicon-x">
    <path d="M3.72 3.72a.75.75 0 0 1 1.06 0L8 6.94l3.22-3.22a.749.749 0 0 1 1.275.326.749.749 0 0 1-.215.734L9.06 8l3.22 3.22a.749.749 0 0 1-.326 1.275.749.749 0 0 1-.734-.215L8 9.06l-3.22 3.22a.751.751 0 0 1-1.042-.018.751.751 0 0 1-.018-1.042L6.94 8 3.72 4.78a.75.75 0 0 1 0-1.06Z"></path>
</svg></button>
    </div>
  </div>
</div>
      <div data-view-component="true" class="Overlay-body">        <div data-target="custom-scopes.customScopesModalDialogFlash"></div>

        <div hidden class="create-custom-scope-form" data-target="custom-scopes.createCustomScopeForm">
        <!-- '"` --><!-- </textarea></xmp> --></option></form><form id="custom-scopes-dialog-form" data-turbo="false" action="/search/custom_scopes" accept-charset="UTF-8" method="post"><input type="hidden" name="authenticity_token" value="MvbtjBIylc4ra8HF6gEAEGyHqdyNpIJn546u0K0nHyH7EX7I-9wnLwkQyKqZCIVxshgV25Ztz2aXbIwbiYB9Ww" />
          <div data-target="custom-scopes.customScopesModalDialogFlash"></div>

          <input type="hidden" id="custom_scope_id" name="custom_scope_id" data-target="custom-scopes.customScopesIdField">

          <div class="form-group">
            <label for="custom_scope_name">Name</label>
            <auto-check src="/search/custom_scopes/check_name" required>
              <input
                type="text"
                name="custom_scope_name"
                id="custom_scope_name"
                data-target="custom-scopes.customScopesNameField"
                class="form-control"
                autocomplete="off"
                placeholder="github-ruby"
                required
                maxlength="50">
              <input type="hidden" value="Qqw3yhNKWJhdbb62VyjPMSoHfDrq3aCDcrLa733IkEBWvfbuceXJbYhCY3nta3oNnb-_-rrA4t7QxuvjgDQD1Q" data-csrf="true" />
            </auto-check>
          </div>

          <div class="form-group">
            <label for="custom_scope_query">Query</label>
            <input
              type="text"
              name="custom_scope_query"
              id="custom_scope_query"
              data-target="custom-scopes.customScopesQueryField"
              class="form-control"
              autocomplete="off"
              placeholder="(repo:mona/a OR repo:mona/b) AND lang:python"
              required
              maxlength="500">
          </div>

          <p class="text-small color-fg-muted">
            To see all available qualifiers, see our <a href="https://docs.github.com/en/search-github/github-code-search/understanding-github-code-search-syntax">documentation</a>.
          </p>
</form>        </div>

        <div data-target="custom-scopes.manageCustomScopesForm">
          <div data-target="custom-scopes.list"></div>
        </div>

</div>
      <div data-view-component="true" class="Overlay-footer Overlay-footer--alignEnd Overlay-footer--divided">          <button data-action="click:custom-scopes#customScopesCancel" type="button" data-view-component="true" class="btn">    Cancel
</button>
          <button form="custom-scopes-dialog-form" data-action="click:custom-scopes#customScopesSubmit" data-target="custom-scopes.customScopesSubmitButton" type="submit" data-view-component="true" class="btn-primary btn">    Create saved search
</button>
</div>
</modal-dialog></div>
    </custom-scopes>
  </div>
</qbsearch-input><input type="hidden" value="ILfb-jstrjdNOb-fliuWLkED2NyrED_5OwkFB3oAYeO0eoC4M0l_A0ltQjlF6EbZ2IxGwftMglhSnS-1zLqEeA" data-csrf="true" class="js-data-jump-to-suggestions-path-csrf" />

        <nav id="global-nav" class="d-flex flex-column flex-md-row flex-self-stretch flex-md-self-auto" aria-label="Global">
    <a class="Header-link py-md-3 d-block d-md-none py-2 border-top border-md-top-0 border-white-fade" data-ga-click="Header, click, Nav menu - item:dashboard:user" aria-label="Dashboard" data-turbo="false" href="/dashboard">Dashboard</a>

  <a class="js-selected-navigation-item Header-link mt-md-n3 mb-md-n3 py-2 py-md-3 mr-0 mr-md-3 border-top border-md-top-0 border-white-fade" data-hotkey="g p" data-ga-click="Header, click, Nav menu - item:pulls context:user" aria-label="Pull requests you created" data-turbo="false" data-selected-links="/pulls /pulls/assigned /pulls/mentioned /pulls" href="/pulls">
      Pull<span class="d-inline d-md-none d-lg-inline"> request</span>s
</a>
  <a class="js-selected-navigation-item Header-link mt-md-n3 mb-md-n3 py-2 py-md-3 mr-0 mr-md-3 border-top border-md-top-0 border-white-fade" data-hotkey="g i" data-ga-click="Header, click, Nav menu - item:issues context:user" aria-label="Issues you created" data-turbo="false" data-selected-links="/issues /issues/assigned /issues/mentioned /issues" href="/issues">Issues</a>

      <a class="js-selected-navigation-item Header-link mt-md-n3 mb-md-n3 py-2 py-md-3 mr-0 mr-md-3 border-top border-md-top-0 border-white-fade" data-ga-click="Header, click, Nav menu - item:workspaces context:user" data-turbo="false" data-selected-links="/codespaces /codespaces" href="/codespaces">Codespaces</a>

    <div class="d-flex position-relative">
      <a class="js-selected-navigation-item Header-link flex-auto mt-md-n3 mb-md-n3 py-2 py-md-3 mr-0 mr-md-3 border-top border-md-top-0 border-white-fade" data-ga-click="Header, click, Nav menu - item:marketplace context:user" data-octo-click="marketplace_click" data-octo-dimensions="location:nav_bar" data-turbo="false" data-selected-links=" /marketplace" href="/marketplace">Marketplace</a>
    </div>

  <a class="js-selected-navigation-item Header-link mt-md-n3 mb-md-n3 py-2 py-md-3 mr-0 mr-md-3 border-top border-md-top-0 border-white-fade" data-ga-click="Header, click, Nav menu - item:explore" data-turbo="false" data-selected-links="/explore /trending /trending/developers /integrations /integrations/feature/code /integrations/feature/collaborate /integrations/feature/ship showcases showcases_search showcases_landing /explore" href="/explore">Explore</a>

      <a class="js-selected-navigation-item Header-link d-block d-md-none py-2 py-md-3 border-top border-md-top-0 border-white-fade" data-ga-click="Header, click, Nav menu - item:Sponsors" data-hydro-click="{&quot;event_type&quot;:&quot;sponsors.button_click&quot;,&quot;payload&quot;:{&quot;button&quot;:&quot;HEADER_SPONSORS_DASHBOARD&quot;,&quot;sponsorable_login&quot;:&quot;MarcelloLM&quot;,&quot;originating_url&quot;:&quot;https://github.com/MarcelloLM/Redes-Neurais/blob/main/Redes_Neurais.ipynb&quot;,&quot;user_id&quot;:106484381}}" data-hydro-click-hmac="c40f72200499b4e2a26ef7d4628bd732cb5da63703e2482d13600f0a76363933" data-turbo="false" data-selected-links=" /sponsors/accounts" href="/sponsors/accounts">Sponsors</a>

    <a class="Header-link d-block d-md-none mr-0 mr-md-3 py-2 py-md-3 border-top border-md-top-0 border-white-fade" data-turbo="false" href="/settings/profile">Settings</a>

    <a class="Header-link d-block d-md-none mr-0 mr-md-3 py-2 py-md-3 border-top border-md-top-0 border-white-fade" data-turbo="false" href="/MarcelloLM">
      <img class="avatar avatar-user" loading="lazy" decoding="async" src="https://avatars.githubusercontent.com/u/106484381?s=40&amp;v=4" width="20" height="20" alt="@MarcelloLM" />
      MarcelloLM
</a>
    <!-- '"` --><!-- </textarea></xmp> --></option></form><form data-turbo="false" action="/logout" accept-charset="UTF-8" method="post"><input type="hidden" name="authenticity_token" value="JPsJ_VK6KbdExQaJInHR8n7FvkNbPLAcVIWPIBmoXMFQ7ofp92mt3qxf98hdLvNRliTO79OEn2_nQpsKf-Ihzw" />
      <button
        type="submit"
        class="Header-link mr-0 mr-md-3 py-2 py-md-3 border-top border-md-top-0 border-white-fade d-md-none btn-link d-block width-full text-left"
        style="padding-left: 2px;"
        data-analytics-event="{&quot;category&quot;:&quot;Header&quot;,&quot;action&quot;:&quot;sign out&quot;,&quot;label&quot;:&quot;icon:logout&quot;}"
      >
        <svg aria-hidden="true" height="16" viewBox="0 0 16 16" version="1.1" width="16" data-view-component="true" class="octicon octicon-sign-out v-align-middle">
    <path d="M2 2.75C2 1.784 2.784 1 3.75 1h2.5a.75.75 0 0 1 0 1.5h-2.5a.25.25 0 0 0-.25.25v10.5c0 .138.112.25.25.25h2.5a.75.75 0 0 1 0 1.5h-2.5A1.75 1.75 0 0 1 2 13.25Zm10.44 4.5-1.97-1.97a.749.749 0 0 1 .326-1.275.749.749 0 0 1 .734.215l3.25 3.25a.75.75 0 0 1 0 1.06l-3.25 3.25a.749.749 0 0 1-1.275-.326.749.749 0 0 1 .215-.734l1.97-1.97H6.75a.75.75 0 0 1 0-1.5Z"></path>
</svg>
        Sign out
      </button>
</form></nav>

    </div>

    <div class="Header-item Header-item--full flex-justify-center d-md-none position-relative">
        <a
  class="Header-link"
  href="https://github.com/"
  data-hotkey="g d"
  aria-label="Homepage "
  data-turbo="false"
  data-analytics-event="{&quot;category&quot;:&quot;Header&quot;,&quot;action&quot;:&quot;go to dashboard&quot;,&quot;label&quot;:&quot;icon:logo&quot;}"
>
  <svg height="32" aria-hidden="true" viewBox="0 0 16 16" version="1.1" width="32" data-view-component="true" class="octicon octicon-mark-github v-align-middle">
    <path d="M8 0c4.42 0 8 3.58 8 8a8.013 8.013 0 0 1-5.45 7.59c-.4.08-.55-.17-.55-.38 0-.27.01-1.13.01-2.2 0-.75-.25-1.23-.54-1.48 1.78-.2 3.65-.88 3.65-3.95 0-.88-.31-1.59-.82-2.15.08-.2.36-1.02-.08-2.12 0 0-.67-.22-2.2.82-.64-.18-1.32-.27-2-.27-.68 0-1.36.09-2 .27-1.53-1.03-2.2-.82-2.2-.82-.44 1.1-.16 1.92-.08 2.12-.51.56-.82 1.28-.82 2.15 0 3.06 1.86 3.75 3.64 3.95-.23.2-.44.55-.51 1.07-.46.21-1.61.55-2.33-.66-.15-.24-.6-.83-1.23-.82-.67.01-.27.38.01.53.34.19.73.9.82 1.13.16.45.68 1.31 2.69.94 0 .67.01 1.3.01 1.49 0 .21-.15.45-.55.38A7.995 7.995 0 0 1 0 8c0-4.42 3.58-8 8-8Z"></path>
</svg>
</a>

    </div>

    <div class="Header-item mr-0 mr-md-3 flex-order-1 flex-md-order-none">
        

<notification-indicator data-channel="eyJjIjoibm90aWZpY2F0aW9uLWNoYW5nZWQ6MTA2NDg0MzgxIiwidCI6MTY4Mzg5MTQwMH0=--1fd3c8c17294b54524586b8f27aec5983453b05edc10e953f6daf3d443480446" data-indicator-mode="none" data-tooltip-global="You have unread notifications" data-tooltip-unavailable="Notifications are unavailable at the moment." data-tooltip-none="You have no unread notifications" data-fetch-indicator-src="/notifications/indicator" data-fetch-indicator-enabled="true" data-view-component="true" class="js-socket-channel">
  <a id="AppHeader-notifications-button" href="/notifications"
    class="Header-link notification-indicator position-relative tooltipped tooltipped-sw"

    

    data-hotkey="g n"
    data-target="notification-indicator.link"
    aria-label="Notifications"

      data-analytics-event="{&quot;category&quot;:&quot;Header&quot;,&quot;action&quot;:&quot;go to notifications&quot;,&quot;label&quot;:&quot;icon:read&quot;}"
  >

    <span
      data-target="notification-indicator.badge"
      class="mail-status unread" hidden>
    </span>

      <svg aria-hidden="true" height="16" viewBox="0 0 16 16" version="1.1" width="16" data-view-component="true" class="octicon octicon-bell">
    <path d="M8 16a2 2 0 0 0 1.985-1.75c.017-.137-.097-.25-.235-.25h-3.5c-.138 0-.252.113-.235.25A2 2 0 0 0 8 16ZM3 5a5 5 0 0 1 10 0v2.947c0 .05.015.098.042.139l1.703 2.555A1.519 1.519 0 0 1 13.482 13H2.518a1.516 1.516 0 0 1-1.263-2.36l1.703-2.554A.255.255 0 0 0 3 7.947Zm5-3.5A3.5 3.5 0 0 0 4.5 5v2.947c0 .346-.102.683-.294.97l-1.703 2.556a.017.017 0 0 0-.003.01l.001.006c0 .002.002.004.004.006l.006.004.007.001h10.964l.007-.001.006-.004.004-.006.001-.007a.017.017 0 0 0-.003-.01l-1.703-2.554a1.745 1.745 0 0 1-.294-.97V5A3.5 3.5 0 0 0 8 1.5Z"></path>
</svg>
  </a>

</notification-indicator>
    </div>


    <div class="Header-item position-relative d-none d-md-flex">
        <details class="details-overlay details-reset">
  <summary
    class="Header-link"
    aria-label="Create new…"
    data-analytics-event="{&quot;category&quot;:&quot;Header&quot;,&quot;action&quot;:&quot;create new&quot;,&quot;label&quot;:&quot;icon:add&quot;}"
  >
    <svg aria-hidden="true" height="16" viewBox="0 0 16 16" version="1.1" width="16" data-view-component="true" class="octicon octicon-plus">
    <path d="M7.75 2a.75.75 0 0 1 .75.75V7h4.25a.75.75 0 0 1 0 1.5H8.5v4.25a.75.75 0 0 1-1.5 0V8.5H2.75a.75.75 0 0 1 0-1.5H7V2.75A.75.75 0 0 1 7.75 2Z"></path>
</svg> <span class="dropdown-caret"></span>
  </summary>
  <details-menu class="dropdown-menu dropdown-menu-sw">
    
<a role="menuitem" class="dropdown-item" href="/new" data-ga-click="Header, create new repository">
  New repository
</a>

  <a role="menuitem" class="dropdown-item" href="/new/import" data-ga-click="Header, import a repository">
    Import repository
  </a>

  <a role="menuitem" class="dropdown-item" href="/codespaces/new">
    New codespace
  </a>

<a role="menuitem" class="dropdown-item" href="https://gist.github.com/" data-ga-click="Header, create new gist">
  New gist
</a>

  <a role="menuitem" class="dropdown-item" href="/organizations/new" data-ga-click="Header, create new organization">
    New organization
  </a>



  </details-menu>
</details>

    </div>

    <div class="Header-item position-relative mr-0 d-none d-md-flex">
        
  <details class="details-overlay details-reset js-feature-preview-indicator-container" data-feature-preview-indicator-src="/users/MarcelloLM/feature_preview/indicator_check">

  <summary
    class="Header-link"
    aria-label="View profile and more"
    data-analytics-event="{&quot;category&quot;:&quot;Header&quot;,&quot;action&quot;:&quot;show menu&quot;,&quot;label&quot;:&quot;icon:avatar&quot;}"
  >
    <img src="https://avatars.githubusercontent.com/u/106484381?s=40&amp;v=4" alt="@MarcelloLM" size="20" height="20" width="20" data-view-component="true" class="avatar avatar-small circle" />
      <span class="unread-indicator js-feature-preview-indicator" style="top: 1px;" hidden></span>
    <span class="dropdown-caret"></span>
  </summary>
  <details-menu
      class="dropdown-menu dropdown-menu-sw"
      style="width: 180px"
      
      preload>
      <include-fragment src="/users/106484381/menu" loading="lazy">
        <p class="text-center mt-3" data-hide-on-error>
          <svg style="box-sizing: content-box; color: var(--color-icon-primary);" width="32" height="32" viewBox="0 0 16 16" fill="none" data-view-component="true" class="anim-rotate">
  <circle cx="8" cy="8" r="7" stroke="currentColor" stroke-opacity="0.25" stroke-width="2" vector-effect="non-scaling-stroke" />
  <path d="M15 8a7.002 7.002 0 00-7-7" stroke="currentColor" stroke-width="2" stroke-linecap="round" vector-effect="non-scaling-stroke" />
</svg>
        </p>
        <p class="ml-1 mb-2 mt-2 color-fg-default" data-show-on-error>
          <svg aria-hidden="true" height="16" viewBox="0 0 16 16" version="1.1" width="16" data-view-component="true" class="octicon octicon-alert">
    <path d="M6.457 1.047c.659-1.234 2.427-1.234 3.086 0l6.082 11.378A1.75 1.75 0 0 1 14.082 15H1.918a1.75 1.75 0 0 1-1.543-2.575Zm1.763.707a.25.25 0 0 0-.44 0L1.698 13.132a.25.25 0 0 0 .22.368h12.164a.25.25 0 0 0 .22-.368Zm.53 3.996v2.5a.75.75 0 0 1-1.5 0v-2.5a.75.75 0 0 1 1.5 0ZM9 11a1 1 0 1 1-2 0 1 1 0 0 1 2 0Z"></path>
</svg>
          Sorry, something went wrong.
        </p>
      </include-fragment>
  </details-menu>
</details>

    </div>
</header>

          
    </div>

  <div id="start-of-content" class="show-on-focus"></div>







    <div id="js-flash-container" data-turbo-replace>





  <template class="js-flash-template">
    
<div class="flash flash-full   {{ className }}">
  <div class="px-2" >
    <button autofocus class="flash-close js-flash-close" type="button" aria-label="Dismiss this message">
      <svg aria-hidden="true" height="16" viewBox="0 0 16 16" version="1.1" width="16" data-view-component="true" class="octicon octicon-x">
    <path d="M3.72 3.72a.75.75 0 0 1 1.06 0L8 6.94l3.22-3.22a.749.749 0 0 1 1.275.326.749.749 0 0 1-.215.734L9.06 8l3.22 3.22a.749.749 0 0 1-.326 1.275.749.749 0 0 1-.734-.215L8 9.06l-3.22 3.22a.751.751 0 0 1-1.042-.018.751.751 0 0 1-.018-1.042L6.94 8 3.72 4.78a.75.75 0 0 1 0-1.06Z"></path>
</svg>
    </button>
    <div aria-atomic="true" role="alert" class="js-flash-alert">
      
      <div>{{ message }}</div>

    </div>
  </div>
</div>
  </template>
</div>


    
    <notification-shelf-watcher data-base-url="https://github.com/notifications/beta/shelf" data-channel="eyJjIjoibm90aWZpY2F0aW9uLWNoYW5nZWQ6MTA2NDg0MzgxIiwidCI6MTY4Mzg5MTQwMH0=--1fd3c8c17294b54524586b8f27aec5983453b05edc10e953f6daf3d443480446" data-view-component="true" class="js-socket-channel"></notification-shelf-watcher>
  <div hidden data-initial data-target="notification-shelf-watcher.placeholder"></div>






      <details
  class="details-reset details-overlay details-overlay-dark js-command-palette-dialog"
  id="command-palette-pjax-container"
  data-turbo-replace
>
  <summary aria-label="command palette trigger" tabindex="-1"></summary>
  <details-dialog class="command-palette-details-dialog d-flex flex-column flex-justify-center height-fit" aria-label="command palette">
    <command-palette
      class="command-palette color-bg-default rounded-3 border color-shadow-small"
      return-to=/MarcelloLM/Redes-Neurais/blob/main/Redes_Neurais.ipynb
      user-id="106484381"
      activation-hotkey="Mod+k,Mod+Alt+k"
      command-mode-hotkey="Mod+Shift+k"
      data-action="
        command-palette-input-ready:command-palette#inputReady
        command-palette-page-stack-updated:command-palette#updateInputScope
        itemsUpdated:command-palette#itemsUpdated
        keydown:command-palette#onKeydown
        loadingStateChanged:command-palette#loadingStateChanged
        selectedItemChanged:command-palette#selectedItemChanged
        pageFetchError:command-palette#pageFetchError
      ">

        <command-palette-mode
          data-char="#"
            data-scope-types="[&quot;&quot;]"
            data-placeholder="Search issues and pull requests"
        ></command-palette-mode>
        <command-palette-mode
          data-char="#"
            data-scope-types="[&quot;owner&quot;,&quot;repository&quot;]"
            data-placeholder="Search issues, pull requests, discussions, and projects"
        ></command-palette-mode>
        <command-palette-mode
          data-char="!"
            data-scope-types="[&quot;owner&quot;,&quot;repository&quot;]"
            data-placeholder="Search projects"
        ></command-palette-mode>
        <command-palette-mode
          data-char="@"
            data-scope-types="[&quot;&quot;]"
            data-placeholder="Search or jump to a user, organization, or repository"
        ></command-palette-mode>
        <command-palette-mode
          data-char="@"
            data-scope-types="[&quot;owner&quot;]"
            data-placeholder="Search or jump to a repository"
        ></command-palette-mode>
        <command-palette-mode
          data-char="/"
            data-scope-types="[&quot;repository&quot;]"
            data-placeholder="Search files"
        ></command-palette-mode>
        <command-palette-mode
          data-char="?"
        ></command-palette-mode>
        <command-palette-mode
          data-char="&gt;"
            data-placeholder="Run a command"
        ></command-palette-mode>
        <command-palette-mode
          data-char=""
            data-scope-types="[&quot;&quot;]"
            data-placeholder="Search or jump to..."
        ></command-palette-mode>
        <command-palette-mode
          data-char=""
            data-scope-types="[&quot;owner&quot;]"
            data-placeholder="Search or jump to..."
        ></command-palette-mode>
      <command-palette-mode
        class="js-command-palette-default-mode"
        data-char=""
        data-placeholder="Search or jump to..."
      ></command-palette-mode>

      <command-palette-input placeholder="Search or jump to..."

        data-action="
          command-palette-input:command-palette#onInput
          command-palette-select:command-palette#onSelect
          command-palette-descope:command-palette#onDescope
          command-palette-cleared:command-palette#onInputClear
        "
      >
        <div class="js-search-icon d-flex flex-items-center mr-2" style="height: 26px">
          <svg aria-hidden="true" height="16" viewBox="0 0 16 16" version="1.1" width="16" data-view-component="true" class="octicon octicon-search color-fg-muted">
    <path d="M10.68 11.74a6 6 0 0 1-7.922-8.982 6 6 0 0 1 8.982 7.922l3.04 3.04a.749.749 0 0 1-.326 1.275.749.749 0 0 1-.734-.215ZM11.5 7a4.499 4.499 0 1 0-8.997 0A4.499 4.499 0 0 0 11.5 7Z"></path>
</svg>
        </div>
        <div class="js-spinner d-flex flex-items-center mr-2 color-fg-muted" hidden>
          <svg aria-label="Loading" class="anim-rotate" viewBox="0 0 16 16" fill="none" width="16" height="16">
            <circle
              cx="8"
              cy="8"
              r="7"
              stroke="currentColor"
              stroke-opacity="0.25"
              stroke-width="2"
              vector-effect="non-scaling-stroke"
            ></circle>
            <path
              d="M15 8a7.002 7.002 0 00-7-7"
              stroke="currentColor"
              stroke-width="2"
              stroke-linecap="round"
              vector-effect="non-scaling-stroke"
            ></path>
          </svg>
        </div>
        <command-palette-scope >
          <div data-target="command-palette-scope.placeholder" hidden class="color-fg-subtle">/&nbsp;&nbsp;<span class="text-semibold color-fg-default">...</span>&nbsp;&nbsp;/&nbsp;&nbsp;</div>
              <command-palette-token
                data-text="MarcelloLM"
                data-id="U_kgDOBljSnQ"
                data-type="owner"
                data-value="MarcelloLM"
                data-targets="command-palette-scope.tokens"
                class="color-fg-default text-semibold"
                style="white-space:nowrap;line-height:20px;"
                >MarcelloLM<span class="color-fg-subtle text-normal">&nbsp;&nbsp;/&nbsp;&nbsp;</span></command-palette-token>
              <command-palette-token
                data-text="Redes-Neurais"
                data-id="R_kgDOJO1jMg"
                data-type="repository"
                data-value="Redes-Neurais"
                data-targets="command-palette-scope.tokens"
                class="color-fg-default text-semibold"
                style="white-space:nowrap;line-height:20px;"
                >Redes-Neurais<span class="color-fg-subtle text-normal">&nbsp;&nbsp;/&nbsp;&nbsp;</span></command-palette-token>
        </command-palette-scope>
        <div class="command-palette-input-group flex-1 form-control border-0 box-shadow-none" style="z-index: 0">
          <div class="command-palette-typeahead position-absolute d-flex flex-items-center Truncate">
            <span class="typeahead-segment input-mirror" data-target="command-palette-input.mirror"></span>
            <span class="Truncate-text" data-target="command-palette-input.typeaheadText"></span>
            <span class="typeahead-segment" data-target="command-palette-input.typeaheadPlaceholder"></span>
          </div>
          <input
            class="js-overlay-input typeahead-input d-none"
            disabled
            tabindex="-1"
            aria-label="Hidden input for typeahead"
          >
          <input
            type="text"
            autocomplete="off"
            autocorrect="off"
            autocapitalize="off"
            spellcheck="false"
            class="js-input typeahead-input form-control border-0 box-shadow-none input-block width-full no-focus-indicator"
            aria-label="Command palette input"
            aria-haspopup="listbox"
            aria-expanded="false"
            aria-autocomplete="list"
            aria-controls="command-palette-page-stack"
            role="combobox"
            data-action="
              input:command-palette-input#onInput
              keydown:command-palette-input#onKeydown
            "
          >
        </div>
          <div data-view-component="true" class="position-relative d-inline-block">
    <button aria-keyshortcuts="Control+Backspace" data-action="click:command-palette-input#onClear keypress:command-palette-input#onClear" data-target="command-palette-input.clearButton" id="command-palette-clear-button" hidden="hidden" type="button" data-view-component="true" class="btn-octicon command-palette-input-clear-button">      <svg aria-hidden="true" height="16" viewBox="0 0 16 16" version="1.1" width="16" data-view-component="true" class="octicon octicon-x-circle-fill">
    <path d="M2.343 13.657A8 8 0 1 1 13.658 2.343 8 8 0 0 1 2.343 13.657ZM6.03 4.97a.751.751 0 0 0-1.042.018.751.751 0 0 0-.018 1.042L6.94 8 4.97 9.97a.749.749 0 0 0 .326 1.275.749.749 0 0 0 .734-.215L8 9.06l1.97 1.97a.749.749 0 0 0 1.275-.326.749.749 0 0 0-.215-.734L9.06 8l1.97-1.97a.749.749 0 0 0-.326-1.275.749.749 0 0 0-.734.215L8 6.94Z"></path>
</svg>
</button>    <tool-tip id="tooltip-9c86d929-e902-4166-9870-8917278dcf8d" for="command-palette-clear-button" data-direction="w" data-type="label" data-view-component="true" class="sr-only position-absolute">Clear Command Palette</tool-tip>
</div>
      </command-palette-input>

      <command-palette-page-stack
        data-default-scope-id="R_kgDOJO1jMg"
        data-default-scope-type="Repository"
        data-action="command-palette-page-octicons-cached:command-palette-page-stack#cacheOcticons"
      >
          <command-palette-tip
            class="color-fg-muted f6 px-3 py-1 my-2"
              data-scope-types="[&quot;&quot;,&quot;owner&quot;,&quot;repository&quot;]"
            data-mode=""
            data-value="">
            <div class="d-flex flex-items-start flex-justify-between">
              <div>
                <span class="text-bold">Tip:</span>
                  Type <kbd class="hx_kbd">#</kbd> to search pull requests
              </div>
              <div class="ml-2 flex-shrink-0">
                Type <kbd class="hx_kbd">?</kbd> for help and tips
              </div>
            </div>
          </command-palette-tip>
          <command-palette-tip
            class="color-fg-muted f6 px-3 py-1 my-2"
              data-scope-types="[&quot;&quot;,&quot;owner&quot;,&quot;repository&quot;]"
            data-mode=""
            data-value="">
            <div class="d-flex flex-items-start flex-justify-between">
              <div>
                <span class="text-bold">Tip:</span>
                  Type <kbd class="hx_kbd">#</kbd> to search issues
              </div>
              <div class="ml-2 flex-shrink-0">
                Type <kbd class="hx_kbd">?</kbd> for help and tips
              </div>
            </div>
          </command-palette-tip>
          <command-palette-tip
            class="color-fg-muted f6 px-3 py-1 my-2"
              data-scope-types="[&quot;owner&quot;,&quot;repository&quot;]"
            data-mode=""
            data-value="">
            <div class="d-flex flex-items-start flex-justify-between">
              <div>
                <span class="text-bold">Tip:</span>
                  Type <kbd class="hx_kbd">#</kbd> to search discussions
              </div>
              <div class="ml-2 flex-shrink-0">
                Type <kbd class="hx_kbd">?</kbd> for help and tips
              </div>
            </div>
          </command-palette-tip>
          <command-palette-tip
            class="color-fg-muted f6 px-3 py-1 my-2"
              data-scope-types="[&quot;owner&quot;,&quot;repository&quot;]"
            data-mode=""
            data-value="">
            <div class="d-flex flex-items-start flex-justify-between">
              <div>
                <span class="text-bold">Tip:</span>
                  Type <kbd class="hx_kbd">!</kbd> to search projects
              </div>
              <div class="ml-2 flex-shrink-0">
                Type <kbd class="hx_kbd">?</kbd> for help and tips
              </div>
            </div>
          </command-palette-tip>
          <command-palette-tip
            class="color-fg-muted f6 px-3 py-1 my-2"
              data-scope-types="[&quot;owner&quot;]"
            data-mode=""
            data-value="">
            <div class="d-flex flex-items-start flex-justify-between">
              <div>
                <span class="text-bold">Tip:</span>
                  Type <kbd class="hx_kbd">@</kbd> to search teams
              </div>
              <div class="ml-2 flex-shrink-0">
                Type <kbd class="hx_kbd">?</kbd> for help and tips
              </div>
            </div>
          </command-palette-tip>
          <command-palette-tip
            class="color-fg-muted f6 px-3 py-1 my-2"
              data-scope-types="[&quot;&quot;]"
            data-mode=""
            data-value="">
            <div class="d-flex flex-items-start flex-justify-between">
              <div>
                <span class="text-bold">Tip:</span>
                  Type <kbd class="hx_kbd">@</kbd> to search people and organizations
              </div>
              <div class="ml-2 flex-shrink-0">
                Type <kbd class="hx_kbd">?</kbd> for help and tips
              </div>
            </div>
          </command-palette-tip>
          <command-palette-tip
            class="color-fg-muted f6 px-3 py-1 my-2"
              data-scope-types="[&quot;&quot;,&quot;owner&quot;,&quot;repository&quot;]"
            data-mode=""
            data-value="">
            <div class="d-flex flex-items-start flex-justify-between">
              <div>
                <span class="text-bold">Tip:</span>
                  Type <kbd class="hx_kbd">&gt;</kbd> to activate command mode
              </div>
              <div class="ml-2 flex-shrink-0">
                Type <kbd class="hx_kbd">?</kbd> for help and tips
              </div>
            </div>
          </command-palette-tip>
          <command-palette-tip
            class="color-fg-muted f6 px-3 py-1 my-2"
              data-scope-types="[&quot;&quot;,&quot;owner&quot;,&quot;repository&quot;]"
            data-mode=""
            data-value="">
            <div class="d-flex flex-items-start flex-justify-between">
              <div>
                <span class="text-bold">Tip:</span>
                  Go to your accessibility settings to change your keyboard shortcuts
              </div>
              <div class="ml-2 flex-shrink-0">
                Type <kbd class="hx_kbd">?</kbd> for help and tips
              </div>
            </div>
          </command-palette-tip>
          <command-palette-tip
            class="color-fg-muted f6 px-3 py-1 my-2"
              data-scope-types="[&quot;&quot;,&quot;owner&quot;,&quot;repository&quot;]"
            data-mode="#"
            data-value="">
            <div class="d-flex flex-items-start flex-justify-between">
              <div>
                <span class="text-bold">Tip:</span>
                  Type author:@me to search your content
              </div>
              <div class="ml-2 flex-shrink-0">
                Type <kbd class="hx_kbd">?</kbd> for help and tips
              </div>
            </div>
          </command-palette-tip>
          <command-palette-tip
            class="color-fg-muted f6 px-3 py-1 my-2"
              data-scope-types="[&quot;&quot;,&quot;owner&quot;,&quot;repository&quot;]"
            data-mode="#"
            data-value="">
            <div class="d-flex flex-items-start flex-justify-between">
              <div>
                <span class="text-bold">Tip:</span>
                  Type is:pr to filter to pull requests
              </div>
              <div class="ml-2 flex-shrink-0">
                Type <kbd class="hx_kbd">?</kbd> for help and tips
              </div>
            </div>
          </command-palette-tip>
          <command-palette-tip
            class="color-fg-muted f6 px-3 py-1 my-2"
              data-scope-types="[&quot;&quot;,&quot;owner&quot;,&quot;repository&quot;]"
            data-mode="#"
            data-value="">
            <div class="d-flex flex-items-start flex-justify-between">
              <div>
                <span class="text-bold">Tip:</span>
                  Type is:issue to filter to issues
              </div>
              <div class="ml-2 flex-shrink-0">
                Type <kbd class="hx_kbd">?</kbd> for help and tips
              </div>
            </div>
          </command-palette-tip>
          <command-palette-tip
            class="color-fg-muted f6 px-3 py-1 my-2"
              data-scope-types="[&quot;owner&quot;,&quot;repository&quot;]"
            data-mode="#"
            data-value="">
            <div class="d-flex flex-items-start flex-justify-between">
              <div>
                <span class="text-bold">Tip:</span>
                  Type is:project to filter to projects
              </div>
              <div class="ml-2 flex-shrink-0">
                Type <kbd class="hx_kbd">?</kbd> for help and tips
              </div>
            </div>
          </command-palette-tip>
          <command-palette-tip
            class="color-fg-muted f6 px-3 py-1 my-2"
              data-scope-types="[&quot;&quot;,&quot;owner&quot;,&quot;repository&quot;]"
            data-mode="#"
            data-value="">
            <div class="d-flex flex-items-start flex-justify-between">
              <div>
                <span class="text-bold">Tip:</span>
                  Type is:open to filter to open content
              </div>
              <div class="ml-2 flex-shrink-0">
                Type <kbd class="hx_kbd">?</kbd> for help and tips
              </div>
            </div>
          </command-palette-tip>
        <command-palette-tip class="mx-3 my-2 flash flash-error d-flex flex-items-center" data-scope-types="*" data-on-error>
          <div>
            <svg aria-hidden="true" height="16" viewBox="0 0 16 16" version="1.1" width="16" data-view-component="true" class="octicon octicon-alert">
    <path d="M6.457 1.047c.659-1.234 2.427-1.234 3.086 0l6.082 11.378A1.75 1.75 0 0 1 14.082 15H1.918a1.75 1.75 0 0 1-1.543-2.575Zm1.763.707a.25.25 0 0 0-.44 0L1.698 13.132a.25.25 0 0 0 .22.368h12.164a.25.25 0 0 0 .22-.368Zm.53 3.996v2.5a.75.75 0 0 1-1.5 0v-2.5a.75.75 0 0 1 1.5 0ZM9 11a1 1 0 1 1-2 0 1 1 0 0 1 2 0Z"></path>
</svg>
          </div>
          <div class="px-2">
            We’ve encountered an error and some results aren't available at this time. Type a new search or try again later.
          </div>
        </command-palette-tip>
        <command-palette-tip class="h4 color-fg-default pl-3 pb-2 pt-3" data-on-empty data-scope-types="*" data-match-mode="[^?]|^$">
          No results matched your search
        </command-palette-tip>

        <div hidden>

            <div data-targets="command-palette-page-stack.localOcticons" data-octicon-id="arrow-right-color-fg-muted">
              <svg height="16" class="octicon octicon-arrow-right color-fg-muted" viewBox="0 0 16 16" version="1.1" width="16" aria-hidden="true"><path d="M8.22 2.97a.75.75 0 0 1 1.06 0l4.25 4.25a.75.75 0 0 1 0 1.06l-4.25 4.25a.751.751 0 0 1-1.042-.018.751.751 0 0 1-.018-1.042l2.97-2.97H3.75a.75.75 0 0 1 0-1.5h7.44L8.22 4.03a.75.75 0 0 1 0-1.06Z"></path></svg>
            </div>
            <div data-targets="command-palette-page-stack.localOcticons" data-octicon-id="arrow-right-color-fg-default">
              <svg height="16" class="octicon octicon-arrow-right color-fg-default" viewBox="0 0 16 16" version="1.1" width="16" aria-hidden="true"><path d="M8.22 2.97a.75.75 0 0 1 1.06 0l4.25 4.25a.75.75 0 0 1 0 1.06l-4.25 4.25a.751.751 0 0 1-1.042-.018.751.751 0 0 1-.018-1.042l2.97-2.97H3.75a.75.75 0 0 1 0-1.5h7.44L8.22 4.03a.75.75 0 0 1 0-1.06Z"></path></svg>
            </div>
            <div data-targets="command-palette-page-stack.localOcticons" data-octicon-id="codespaces-color-fg-muted">
              <svg height="16" class="octicon octicon-codespaces color-fg-muted" viewBox="0 0 16 16" version="1.1" width="16" aria-hidden="true"><path d="M0 11.25c0-.966.784-1.75 1.75-1.75h12.5c.966 0 1.75.784 1.75 1.75v3A1.75 1.75 0 0 1 14.25 16H1.75A1.75 1.75 0 0 1 0 14.25Zm2-9.5C2 .784 2.784 0 3.75 0h8.5C13.216 0 14 .784 14 1.75v5a1.75 1.75 0 0 1-1.75 1.75h-8.5A1.75 1.75 0 0 1 2 6.75Zm1.75-.25a.25.25 0 0 0-.25.25v5c0 .138.112.25.25.25h8.5a.25.25 0 0 0 .25-.25v-5a.25.25 0 0 0-.25-.25Zm-2 9.5a.25.25 0 0 0-.25.25v3c0 .138.112.25.25.25h12.5a.25.25 0 0 0 .25-.25v-3a.25.25 0 0 0-.25-.25Z"></path><path d="M7 12.75a.75.75 0 0 1 .75-.75h4.5a.75.75 0 0 1 0 1.5h-4.5a.75.75 0 0 1-.75-.75Zm-4 0a.75.75 0 0 1 .75-.75h.5a.75.75 0 0 1 0 1.5h-.5a.75.75 0 0 1-.75-.75Z"></path></svg>
            </div>
            <div data-targets="command-palette-page-stack.localOcticons" data-octicon-id="copy-color-fg-muted">
              <svg height="16" class="octicon octicon-copy color-fg-muted" viewBox="0 0 16 16" version="1.1" width="16" aria-hidden="true"><path d="M0 6.75C0 5.784.784 5 1.75 5h1.5a.75.75 0 0 1 0 1.5h-1.5a.25.25 0 0 0-.25.25v7.5c0 .138.112.25.25.25h7.5a.25.25 0 0 0 .25-.25v-1.5a.75.75 0 0 1 1.5 0v1.5A1.75 1.75 0 0 1 9.25 16h-7.5A1.75 1.75 0 0 1 0 14.25Z"></path><path d="M5 1.75C5 .784 5.784 0 6.75 0h7.5C15.216 0 16 .784 16 1.75v7.5A1.75 1.75 0 0 1 14.25 11h-7.5A1.75 1.75 0 0 1 5 9.25Zm1.75-.25a.25.25 0 0 0-.25.25v7.5c0 .138.112.25.25.25h7.5a.25.25 0 0 0 .25-.25v-7.5a.25.25 0 0 0-.25-.25Z"></path></svg>
            </div>
            <div data-targets="command-palette-page-stack.localOcticons" data-octicon-id="dash-color-fg-muted">
              <svg height="16" class="octicon octicon-dash color-fg-muted" viewBox="0 0 16 16" version="1.1" width="16" aria-hidden="true"><path d="M2 7.75A.75.75 0 0 1 2.75 7h10a.75.75 0 0 1 0 1.5h-10A.75.75 0 0 1 2 7.75Z"></path></svg>
            </div>
            <div data-targets="command-palette-page-stack.localOcticons" data-octicon-id="file-color-fg-muted">
              <svg height="16" class="octicon octicon-file color-fg-muted" viewBox="0 0 16 16" version="1.1" width="16" aria-hidden="true"><path d="M2 1.75C2 .784 2.784 0 3.75 0h6.586c.464 0 .909.184 1.237.513l2.914 2.914c.329.328.513.773.513 1.237v9.586A1.75 1.75 0 0 1 13.25 16h-9.5A1.75 1.75 0 0 1 2 14.25Zm1.75-.25a.25.25 0 0 0-.25.25v12.5c0 .138.112.25.25.25h9.5a.25.25 0 0 0 .25-.25V6h-2.75A1.75 1.75 0 0 1 9 4.25V1.5Zm6.75.062V4.25c0 .138.112.25.25.25h2.688l-.011-.013-2.914-2.914-.013-.011Z"></path></svg>
            </div>
            <div data-targets="command-palette-page-stack.localOcticons" data-octicon-id="gear-color-fg-muted">
              <svg height="16" class="octicon octicon-gear color-fg-muted" viewBox="0 0 16 16" version="1.1" width="16" aria-hidden="true"><path d="M8 0a8.2 8.2 0 0 1 .701.031C9.444.095 9.99.645 10.16 1.29l.288 1.107c.018.066.079.158.212.224.231.114.454.243.668.386.123.082.233.09.299.071l1.103-.303c.644-.176 1.392.021 1.82.63.27.385.506.792.704 1.218.315.675.111 1.422-.364 1.891l-.814.806c-.049.048-.098.147-.088.294.016.257.016.515 0 .772-.01.147.038.246.088.294l.814.806c.475.469.679 1.216.364 1.891a7.977 7.977 0 0 1-.704 1.217c-.428.61-1.176.807-1.82.63l-1.102-.302c-.067-.019-.177-.011-.3.071a5.909 5.909 0 0 1-.668.386c-.133.066-.194.158-.211.224l-.29 1.106c-.168.646-.715 1.196-1.458 1.26a8.006 8.006 0 0 1-1.402 0c-.743-.064-1.289-.614-1.458-1.26l-.289-1.106c-.018-.066-.079-.158-.212-.224a5.738 5.738 0 0 1-.668-.386c-.123-.082-.233-.09-.299-.071l-1.103.303c-.644.176-1.392-.021-1.82-.63a8.12 8.12 0 0 1-.704-1.218c-.315-.675-.111-1.422.363-1.891l.815-.806c.05-.048.098-.147.088-.294a6.214 6.214 0 0 1 0-.772c.01-.147-.038-.246-.088-.294l-.815-.806C.635 6.045.431 5.298.746 4.623a7.92 7.92 0 0 1 .704-1.217c.428-.61 1.176-.807 1.82-.63l1.102.302c.067.019.177.011.3-.071.214-.143.437-.272.668-.386.133-.066.194-.158.211-.224l.29-1.106C6.009.645 6.556.095 7.299.03 7.53.01 7.764 0 8 0Zm-.571 1.525c-.036.003-.108.036-.137.146l-.289 1.105c-.147.561-.549.967-.998 1.189-.173.086-.34.183-.5.29-.417.278-.97.423-1.529.27l-1.103-.303c-.109-.03-.175.016-.195.045-.22.312-.412.644-.573.99-.014.031-.021.11.059.19l.815.806c.411.406.562.957.53 1.456a4.709 4.709 0 0 0 0 .582c.032.499-.119 1.05-.53 1.456l-.815.806c-.081.08-.073.159-.059.19.162.346.353.677.573.989.02.03.085.076.195.046l1.102-.303c.56-.153 1.113-.008 1.53.27.161.107.328.204.501.29.447.222.85.629.997 1.189l.289 1.105c.029.109.101.143.137.146a6.6 6.6 0 0 0 1.142 0c.036-.003.108-.036.137-.146l.289-1.105c.147-.561.549-.967.998-1.189.173-.086.34-.183.5-.29.417-.278.97-.423 1.529-.27l1.103.303c.109.029.175-.016.195-.045.22-.313.411-.644.573-.99.014-.031.021-.11-.059-.19l-.815-.806c-.411-.406-.562-.957-.53-1.456a4.709 4.709 0 0 0 0-.582c-.032-.499.119-1.05.53-1.456l.815-.806c.081-.08.073-.159.059-.19a6.464 6.464 0 0 0-.573-.989c-.02-.03-.085-.076-.195-.046l-1.102.303c-.56.153-1.113.008-1.53-.27a4.44 4.44 0 0 0-.501-.29c-.447-.222-.85-.629-.997-1.189l-.289-1.105c-.029-.11-.101-.143-.137-.146a6.6 6.6 0 0 0-1.142 0ZM11 8a3 3 0 1 1-6 0 3 3 0 0 1 6 0ZM9.5 8a1.5 1.5 0 1 0-3.001.001A1.5 1.5 0 0 0 9.5 8Z"></path></svg>
            </div>
            <div data-targets="command-palette-page-stack.localOcticons" data-octicon-id="lock-color-fg-muted">
              <svg height="16" class="octicon octicon-lock color-fg-muted" viewBox="0 0 16 16" version="1.1" width="16" aria-hidden="true"><path d="M4 4a4 4 0 0 1 8 0v2h.25c.966 0 1.75.784 1.75 1.75v5.5A1.75 1.75 0 0 1 12.25 15h-8.5A1.75 1.75 0 0 1 2 13.25v-5.5C2 6.784 2.784 6 3.75 6H4Zm8.25 3.5h-8.5a.25.25 0 0 0-.25.25v5.5c0 .138.112.25.25.25h8.5a.25.25 0 0 0 .25-.25v-5.5a.25.25 0 0 0-.25-.25ZM10.5 6V4a2.5 2.5 0 1 0-5 0v2Z"></path></svg>
            </div>
            <div data-targets="command-palette-page-stack.localOcticons" data-octicon-id="moon-color-fg-muted">
              <svg height="16" class="octicon octicon-moon color-fg-muted" viewBox="0 0 16 16" version="1.1" width="16" aria-hidden="true"><path d="M9.598 1.591a.749.749 0 0 1 .785-.175 7.001 7.001 0 1 1-8.967 8.967.75.75 0 0 1 .961-.96 5.5 5.5 0 0 0 7.046-7.046.75.75 0 0 1 .175-.786Zm1.616 1.945a7 7 0 0 1-7.678 7.678 5.499 5.499 0 1 0 7.678-7.678Z"></path></svg>
            </div>
            <div data-targets="command-palette-page-stack.localOcticons" data-octicon-id="person-color-fg-muted">
              <svg height="16" class="octicon octicon-person color-fg-muted" viewBox="0 0 16 16" version="1.1" width="16" aria-hidden="true"><path d="M10.561 8.073a6.005 6.005 0 0 1 3.432 5.142.75.75 0 1 1-1.498.07 4.5 4.5 0 0 0-8.99 0 .75.75 0 0 1-1.498-.07 6.004 6.004 0 0 1 3.431-5.142 3.999 3.999 0 1 1 5.123 0ZM10.5 5a2.5 2.5 0 1 0-5 0 2.5 2.5 0 0 0 5 0Z"></path></svg>
            </div>
            <div data-targets="command-palette-page-stack.localOcticons" data-octicon-id="pencil-color-fg-muted">
              <svg height="16" class="octicon octicon-pencil color-fg-muted" viewBox="0 0 16 16" version="1.1" width="16" aria-hidden="true"><path d="M11.013 1.427a1.75 1.75 0 0 1 2.474 0l1.086 1.086a1.75 1.75 0 0 1 0 2.474l-8.61 8.61c-.21.21-.47.364-.756.445l-3.251.93a.75.75 0 0 1-.927-.928l.929-3.25c.081-.286.235-.547.445-.758l8.61-8.61Zm.176 4.823L9.75 4.81l-6.286 6.287a.253.253 0 0 0-.064.108l-.558 1.953 1.953-.558a.253.253 0 0 0 .108-.064Zm1.238-3.763a.25.25 0 0 0-.354 0L10.811 3.75l1.439 1.44 1.263-1.263a.25.25 0 0 0 0-.354Z"></path></svg>
            </div>
            <div data-targets="command-palette-page-stack.localOcticons" data-octicon-id="issue-opened-open">
              <svg height="16" class="octicon octicon-issue-opened open" viewBox="0 0 16 16" version="1.1" width="16" aria-hidden="true"><path d="M8 9.5a1.5 1.5 0 1 0 0-3 1.5 1.5 0 0 0 0 3Z"></path><path d="M8 0a8 8 0 1 1 0 16A8 8 0 0 1 8 0ZM1.5 8a6.5 6.5 0 1 0 13 0 6.5 6.5 0 0 0-13 0Z"></path></svg>
            </div>
            <div data-targets="command-palette-page-stack.localOcticons" data-octicon-id="git-pull-request-draft-color-fg-muted">
              <svg height="16" class="octicon octicon-git-pull-request-draft color-fg-muted" viewBox="0 0 16 16" version="1.1" width="16" aria-hidden="true"><path d="M3.25 1A2.25 2.25 0 0 1 4 5.372v5.256a2.251 2.251 0 1 1-1.5 0V5.372A2.251 2.251 0 0 1 3.25 1Zm9.5 14a2.25 2.25 0 1 1 0-4.5 2.25 2.25 0 0 1 0 4.5ZM2.5 3.25a.75.75 0 1 0 1.5 0 .75.75 0 0 0-1.5 0ZM3.25 12a.75.75 0 1 0 0 1.5.75.75 0 0 0 0-1.5Zm9.5 0a.75.75 0 1 0 0 1.5.75.75 0 0 0 0-1.5ZM14 7.5a1.25 1.25 0 1 1-2.5 0 1.25 1.25 0 0 1 2.5 0Zm0-4.25a1.25 1.25 0 1 1-2.5 0 1.25 1.25 0 0 1 2.5 0Z"></path></svg>
            </div>
            <div data-targets="command-palette-page-stack.localOcticons" data-octicon-id="search-color-fg-muted">
              <svg height="16" class="octicon octicon-search color-fg-muted" viewBox="0 0 16 16" version="1.1" width="16" aria-hidden="true"><path d="M10.68 11.74a6 6 0 0 1-7.922-8.982 6 6 0 0 1 8.982 7.922l3.04 3.04a.749.749 0 0 1-.326 1.275.749.749 0 0 1-.734-.215ZM11.5 7a4.499 4.499 0 1 0-8.997 0A4.499 4.499 0 0 0 11.5 7Z"></path></svg>
            </div>
            <div data-targets="command-palette-page-stack.localOcticons" data-octicon-id="sun-color-fg-muted">
              <svg height="16" class="octicon octicon-sun color-fg-muted" viewBox="0 0 16 16" version="1.1" width="16" aria-hidden="true"><path d="M8 12a4 4 0 1 1 0-8 4 4 0 0 1 0 8Zm0-1.5a2.5 2.5 0 1 0 0-5 2.5 2.5 0 0 0 0 5Zm5.657-8.157a.75.75 0 0 1 0 1.061l-1.061 1.06a.749.749 0 0 1-1.275-.326.749.749 0 0 1 .215-.734l1.06-1.06a.75.75 0 0 1 1.06 0Zm-9.193 9.193a.75.75 0 0 1 0 1.06l-1.06 1.061a.75.75 0 1 1-1.061-1.06l1.06-1.061a.75.75 0 0 1 1.061 0ZM8 0a.75.75 0 0 1 .75.75v1.5a.75.75 0 0 1-1.5 0V.75A.75.75 0 0 1 8 0ZM3 8a.75.75 0 0 1-.75.75H.75a.75.75 0 0 1 0-1.5h1.5A.75.75 0 0 1 3 8Zm13 0a.75.75 0 0 1-.75.75h-1.5a.75.75 0 0 1 0-1.5h1.5A.75.75 0 0 1 16 8Zm-8 5a.75.75 0 0 1 .75.75v1.5a.75.75 0 0 1-1.5 0v-1.5A.75.75 0 0 1 8 13Zm3.536-1.464a.75.75 0 0 1 1.06 0l1.061 1.06a.75.75 0 0 1-1.06 1.061l-1.061-1.06a.75.75 0 0 1 0-1.061ZM2.343 2.343a.75.75 0 0 1 1.061 0l1.06 1.061a.751.751 0 0 1-.018 1.042.751.751 0 0 1-1.042.018l-1.06-1.06a.75.75 0 0 1 0-1.06Z"></path></svg>
            </div>
            <div data-targets="command-palette-page-stack.localOcticons" data-octicon-id="sync-color-fg-muted">
              <svg height="16" class="octicon octicon-sync color-fg-muted" viewBox="0 0 16 16" version="1.1" width="16" aria-hidden="true"><path d="M1.705 8.005a.75.75 0 0 1 .834.656 5.5 5.5 0 0 0 9.592 2.97l-1.204-1.204a.25.25 0 0 1 .177-.427h3.646a.25.25 0 0 1 .25.25v3.646a.25.25 0 0 1-.427.177l-1.38-1.38A7.002 7.002 0 0 1 1.05 8.84a.75.75 0 0 1 .656-.834ZM8 2.5a5.487 5.487 0 0 0-4.131 1.869l1.204 1.204A.25.25 0 0 1 4.896 6H1.25A.25.25 0 0 1 1 5.75V2.104a.25.25 0 0 1 .427-.177l1.38 1.38A7.002 7.002 0 0 1 14.95 7.16a.75.75 0 0 1-1.49.178A5.5 5.5 0 0 0 8 2.5Z"></path></svg>
            </div>
            <div data-targets="command-palette-page-stack.localOcticons" data-octicon-id="trash-color-fg-muted">
              <svg height="16" class="octicon octicon-trash color-fg-muted" viewBox="0 0 16 16" version="1.1" width="16" aria-hidden="true"><path d="M11 1.75V3h2.25a.75.75 0 0 1 0 1.5H2.75a.75.75 0 0 1 0-1.5H5V1.75C5 .784 5.784 0 6.75 0h2.5C10.216 0 11 .784 11 1.75ZM4.496 6.675l.66 6.6a.25.25 0 0 0 .249.225h5.19a.25.25 0 0 0 .249-.225l.66-6.6a.75.75 0 0 1 1.492.149l-.66 6.6A1.748 1.748 0 0 1 10.595 15h-5.19a1.75 1.75 0 0 1-1.741-1.575l-.66-6.6a.75.75 0 1 1 1.492-.15ZM6.5 1.75V3h3V1.75a.25.25 0 0 0-.25-.25h-2.5a.25.25 0 0 0-.25.25Z"></path></svg>
            </div>
            <div data-targets="command-palette-page-stack.localOcticons" data-octicon-id="key-color-fg-muted">
              <svg height="16" class="octicon octicon-key color-fg-muted" viewBox="0 0 16 16" version="1.1" width="16" aria-hidden="true"><path d="M10.5 0a5.499 5.499 0 1 1-1.288 10.848l-.932.932a.749.749 0 0 1-.53.22H7v.75a.749.749 0 0 1-.22.53l-.5.5a.749.749 0 0 1-.53.22H5v.75a.749.749 0 0 1-.22.53l-.5.5a.749.749 0 0 1-.53.22h-2A1.75 1.75 0 0 1 0 14.25v-2c0-.199.079-.389.22-.53l4.932-4.932A5.5 5.5 0 0 1 10.5 0Zm-4 5.5c-.001.431.069.86.205 1.269a.75.75 0 0 1-.181.768L1.5 12.56v1.69c0 .138.112.25.25.25h1.69l.06-.06v-1.19a.75.75 0 0 1 .75-.75h1.19l.06-.06v-1.19a.75.75 0 0 1 .75-.75h1.19l1.023-1.025a.75.75 0 0 1 .768-.18A4 4 0 1 0 6.5 5.5ZM11 6a1 1 0 1 1 0-2 1 1 0 0 1 0 2Z"></path></svg>
            </div>
            <div data-targets="command-palette-page-stack.localOcticons" data-octicon-id="comment-discussion-color-fg-muted">
              <svg height="16" class="octicon octicon-comment-discussion color-fg-muted" viewBox="0 0 16 16" version="1.1" width="16" aria-hidden="true"><path d="M1.75 1h8.5c.966 0 1.75.784 1.75 1.75v5.5A1.75 1.75 0 0 1 10.25 10H7.061l-2.574 2.573A1.458 1.458 0 0 1 2 11.543V10h-.25A1.75 1.75 0 0 1 0 8.25v-5.5C0 1.784.784 1 1.75 1ZM1.5 2.75v5.5c0 .138.112.25.25.25h1a.75.75 0 0 1 .75.75v2.19l2.72-2.72a.749.749 0 0 1 .53-.22h3.5a.25.25 0 0 0 .25-.25v-5.5a.25.25 0 0 0-.25-.25h-8.5a.25.25 0 0 0-.25.25Zm13 2a.25.25 0 0 0-.25-.25h-.5a.75.75 0 0 1 0-1.5h.5c.966 0 1.75.784 1.75 1.75v5.5A1.75 1.75 0 0 1 14.25 12H14v1.543a1.458 1.458 0 0 1-2.487 1.03L9.22 12.28a.749.749 0 0 1 .326-1.275.749.749 0 0 1 .734.215l2.22 2.22v-2.19a.75.75 0 0 1 .75-.75h1a.25.25 0 0 0 .25-.25Z"></path></svg>
            </div>
            <div data-targets="command-palette-page-stack.localOcticons" data-octicon-id="bell-color-fg-muted">
              <svg height="16" class="octicon octicon-bell color-fg-muted" viewBox="0 0 16 16" version="1.1" width="16" aria-hidden="true"><path d="M8 16a2 2 0 0 0 1.985-1.75c.017-.137-.097-.25-.235-.25h-3.5c-.138 0-.252.113-.235.25A2 2 0 0 0 8 16ZM3 5a5 5 0 0 1 10 0v2.947c0 .05.015.098.042.139l1.703 2.555A1.519 1.519 0 0 1 13.482 13H2.518a1.516 1.516 0 0 1-1.263-2.36l1.703-2.554A.255.255 0 0 0 3 7.947Zm5-3.5A3.5 3.5 0 0 0 4.5 5v2.947c0 .346-.102.683-.294.97l-1.703 2.556a.017.017 0 0 0-.003.01l.001.006c0 .002.002.004.004.006l.006.004.007.001h10.964l.007-.001.006-.004.004-.006.001-.007a.017.017 0 0 0-.003-.01l-1.703-2.554a1.745 1.745 0 0 1-.294-.97V5A3.5 3.5 0 0 0 8 1.5Z"></path></svg>
            </div>
            <div data-targets="command-palette-page-stack.localOcticons" data-octicon-id="bell-slash-color-fg-muted">
              <svg height="16" class="octicon octicon-bell-slash color-fg-muted" viewBox="0 0 16 16" version="1.1" width="16" aria-hidden="true"><path d="m4.182 4.31.016.011 10.104 7.316.013.01 1.375.996a.75.75 0 1 1-.88 1.214L13.626 13H2.518a1.516 1.516 0 0 1-1.263-2.36l1.703-2.554A.255.255 0 0 0 3 7.947V5.305L.31 3.357a.75.75 0 1 1 .88-1.214Zm7.373 7.19L4.5 6.391v1.556c0 .346-.102.683-.294.97l-1.703 2.556a.017.017 0 0 0-.003.01c0 .005.002.009.005.012l.006.004.007.001ZM8 1.5c-.997 0-1.895.416-2.534 1.086A.75.75 0 1 1 4.38 1.55 5 5 0 0 1 13 5v2.373a.75.75 0 0 1-1.5 0V5A3.5 3.5 0 0 0 8 1.5ZM8 16a2 2 0 0 1-1.985-1.75c-.017-.137.097-.25.235-.25h3.5c.138 0 .252.113.235.25A2 2 0 0 1 8 16Z"></path></svg>
            </div>
            <div data-targets="command-palette-page-stack.localOcticons" data-octicon-id="paintbrush-color-fg-muted">
              <svg height="16" class="octicon octicon-paintbrush color-fg-muted" viewBox="0 0 16 16" version="1.1" width="16" aria-hidden="true"><path d="M11.134 1.535c.7-.509 1.416-.942 2.076-1.155.649-.21 1.463-.267 2.069.34.603.601.568 1.411.368 2.07-.202.668-.624 1.39-1.125 2.096-1.011 1.424-2.496 2.987-3.775 4.249-1.098 1.084-2.132 1.839-3.04 2.3a3.744 3.744 0 0 1-1.055 3.217c-.431.431-1.065.691-1.657.861-.614.177-1.294.287-1.914.357A21.151 21.151 0 0 1 .797 16H.743l.007-.75H.749L.742 16a.75.75 0 0 1-.743-.742l.743-.008-.742.007v-.054a21.25 21.25 0 0 1 .13-2.284c.067-.647.187-1.287.358-1.914.17-.591.43-1.226.86-1.657a3.746 3.746 0 0 1 3.227-1.054c.466-.893 1.225-1.907 2.314-2.982 1.271-1.255 2.833-2.75 4.245-3.777ZM1.62 13.089c-.051.464-.086.929-.104 1.395.466-.018.932-.053 1.396-.104a10.511 10.511 0 0 0 1.668-.309c.526-.151.856-.325 1.011-.48a2.25 2.25 0 1 0-3.182-3.182c-.155.155-.329.485-.48 1.01a10.515 10.515 0 0 0-.309 1.67Zm10.396-10.34c-1.224.89-2.605 2.189-3.822 3.384l1.718 1.718c1.21-1.205 2.51-2.597 3.387-3.833.47-.662.78-1.227.912-1.662.134-.444.032-.551.009-.575h-.001V1.78c-.014-.014-.113-.113-.548.027-.432.14-.995.462-1.655.942Zm-4.832 7.266-.001.001a9.859 9.859 0 0 0 1.63-1.142L7.155 7.216a9.7 9.7 0 0 0-1.161 1.607c.482.302.889.71 1.19 1.192Z"></path></svg>
            </div>

            <command-palette-item-group
              data-group-id="top"
              data-group-title="Top result"
              data-group-hint=""
              data-group-limits="{}"
              data-default-priority="0"
            >
            </command-palette-item-group>
            <command-palette-item-group
              data-group-id="commands"
              data-group-title="Commands"
              data-group-hint="Type &gt; to filter"
              data-group-limits="{&quot;static_items_page&quot;:50,&quot;issue&quot;:50,&quot;pull_request&quot;:50,&quot;discussion&quot;:50}"
              data-default-priority="1"
            >
            </command-palette-item-group>
            <command-palette-item-group
              data-group-id="global_commands"
              data-group-title="Global Commands"
              data-group-hint="Type &gt; to filter"
              data-group-limits="{&quot;issue&quot;:0,&quot;pull_request&quot;:0,&quot;discussion&quot;:0}"
              data-default-priority="2"
            >
            </command-palette-item-group>
            <command-palette-item-group
              data-group-id="this_page"
              data-group-title="This Page"
              data-group-hint=""
              data-group-limits="{}"
              data-default-priority="3"
            >
            </command-palette-item-group>
            <command-palette-item-group
              data-group-id="files"
              data-group-title="Files"
              data-group-hint=""
              data-group-limits="{}"
              data-default-priority="4"
            >
            </command-palette-item-group>
            <command-palette-item-group
              data-group-id="default"
              data-group-title="Default"
              data-group-hint=""
              data-group-limits="{&quot;static_items_page&quot;:50}"
              data-default-priority="5"
            >
            </command-palette-item-group>
            <command-palette-item-group
              data-group-id="pages"
              data-group-title="Pages"
              data-group-hint=""
              data-group-limits="{&quot;repository&quot;:10}"
              data-default-priority="6"
            >
            </command-palette-item-group>
            <command-palette-item-group
              data-group-id="access_policies"
              data-group-title="Access Policies"
              data-group-hint=""
              data-group-limits="{}"
              data-default-priority="7"
            >
            </command-palette-item-group>
            <command-palette-item-group
              data-group-id="organizations"
              data-group-title="Organizations"
              data-group-hint=""
              data-group-limits="{}"
              data-default-priority="8"
            >
            </command-palette-item-group>
            <command-palette-item-group
              data-group-id="repositories"
              data-group-title="Repositories"
              data-group-hint=""
              data-group-limits="{}"
              data-default-priority="9"
            >
            </command-palette-item-group>
            <command-palette-item-group
              data-group-id="references"
              data-group-title="Issues, pull requests, and discussions"
              data-group-hint="Type # to filter"
              data-group-limits="{}"
              data-default-priority="10"
            >
            </command-palette-item-group>
            <command-palette-item-group
              data-group-id="teams"
              data-group-title="Teams"
              data-group-hint=""
              data-group-limits="{}"
              data-default-priority="11"
            >
            </command-palette-item-group>
            <command-palette-item-group
              data-group-id="users"
              data-group-title="Users"
              data-group-hint=""
              data-group-limits="{}"
              data-default-priority="12"
            >
            </command-palette-item-group>
            <command-palette-item-group
              data-group-id="memex_projects"
              data-group-title="Projects"
              data-group-hint=""
              data-group-limits="{}"
              data-default-priority="13"
            >
            </command-palette-item-group>
            <command-palette-item-group
              data-group-id="projects"
              data-group-title="Projects (classic)"
              data-group-hint=""
              data-group-limits="{}"
              data-default-priority="14"
            >
            </command-palette-item-group>
            <command-palette-item-group
              data-group-id="footer"
              data-group-title="Footer"
              data-group-hint=""
              data-group-limits="{}"
              data-default-priority="15"
            >
            </command-palette-item-group>
            <command-palette-item-group
              data-group-id="modes_help"
              data-group-title="Modes"
              data-group-hint=""
              data-group-limits="{}"
              data-default-priority="16"
            >
            </command-palette-item-group>
            <command-palette-item-group
              data-group-id="filters_help"
              data-group-title="Use filters in issues, pull requests, discussions, and projects"
              data-group-hint=""
              data-group-limits="{}"
              data-default-priority="17"
            >
            </command-palette-item-group>

            <command-palette-page
              data-page-title="MarcelloLM"
              data-scope-id="U_kgDOBljSnQ"
              data-scope-type="owner"
              data-targets="command-palette-page-stack.defaultPages"
              hidden
            >
            </command-palette-page>
            <command-palette-page
              data-page-title="Redes-Neurais"
              data-scope-id="R_kgDOJO1jMg"
              data-scope-type="repository"
              data-targets="command-palette-page-stack.defaultPages"
              hidden
            >
            </command-palette-page>
        </div>

        <command-palette-page data-is-root>
        </command-palette-page>
          <command-palette-page
            data-page-title="MarcelloLM"
            data-scope-id="U_kgDOBljSnQ"
            data-scope-type="owner"
          >
          </command-palette-page>
          <command-palette-page
            data-page-title="Redes-Neurais"
            data-scope-id="R_kgDOJO1jMg"
            data-scope-type="repository"
          >
          </command-palette-page>
      </command-palette-page-stack>

      <server-defined-provider data-type="search-links" data-targets="command-palette.serverDefinedProviderElements"></server-defined-provider>
      <server-defined-provider data-type="help" data-targets="command-palette.serverDefinedProviderElements">
          <command-palette-help
            data-group="modes_help"
              data-prefix="#"
              data-scope-types="[&quot;&quot;]"
          >
            <span data-target="command-palette-help.titleElement">Search for <strong>issues</strong> and <strong>pull requests</strong></span>
              <span data-target="command-palette-help.hintElement">
                <kbd class="hx_kbd">#</kbd>
              </span>
          </command-palette-help>
          <command-palette-help
            data-group="modes_help"
              data-prefix="#"
              data-scope-types="[&quot;owner&quot;,&quot;repository&quot;]"
          >
            <span data-target="command-palette-help.titleElement">Search for <strong>issues, pull requests, discussions,</strong> and <strong>projects</strong></span>
              <span data-target="command-palette-help.hintElement">
                <kbd class="hx_kbd">#</kbd>
              </span>
          </command-palette-help>
          <command-palette-help
            data-group="modes_help"
              data-prefix="@"
              data-scope-types="[&quot;&quot;]"
          >
            <span data-target="command-palette-help.titleElement">Search for <strong>organizations, repositories,</strong> and <strong>users</strong></span>
              <span data-target="command-palette-help.hintElement">
                <kbd class="hx_kbd">@</kbd>
              </span>
          </command-palette-help>
          <command-palette-help
            data-group="modes_help"
              data-prefix="!"
              data-scope-types="[&quot;owner&quot;,&quot;repository&quot;]"
          >
            <span data-target="command-palette-help.titleElement">Search for <strong>projects</strong></span>
              <span data-target="command-palette-help.hintElement">
                <kbd class="hx_kbd">!</kbd>
              </span>
          </command-palette-help>
          <command-palette-help
            data-group="modes_help"
              data-prefix="/"
              data-scope-types="[&quot;repository&quot;]"
          >
            <span data-target="command-palette-help.titleElement">Search for <strong>files</strong></span>
              <span data-target="command-palette-help.hintElement">
                <kbd class="hx_kbd">/</kbd>
              </span>
          </command-palette-help>
          <command-palette-help
            data-group="modes_help"
              data-prefix="&gt;"
          >
            <span data-target="command-palette-help.titleElement">Activate <strong>command mode</strong></span>
              <span data-target="command-palette-help.hintElement">
                <kbd class="hx_kbd">&gt;</kbd>
              </span>
          </command-palette-help>
          <command-palette-help
            data-group="filters_help"
              data-prefix="# author:@me"
          >
            <span data-target="command-palette-help.titleElement">Search your issues, pull requests, and discussions</span>
              <span data-target="command-palette-help.hintElement">
                <kbd class="hx_kbd"># author:@me</kbd>
              </span>
          </command-palette-help>
          <command-palette-help
            data-group="filters_help"
              data-prefix="# author:@me"
          >
            <span data-target="command-palette-help.titleElement">Search your issues, pull requests, and discussions</span>
              <span data-target="command-palette-help.hintElement">
                <kbd class="hx_kbd"># author:@me</kbd>
              </span>
          </command-palette-help>
          <command-palette-help
            data-group="filters_help"
              data-prefix="# is:pr"
          >
            <span data-target="command-palette-help.titleElement">Filter to pull requests</span>
              <span data-target="command-palette-help.hintElement">
                <kbd class="hx_kbd"># is:pr</kbd>
              </span>
          </command-palette-help>
          <command-palette-help
            data-group="filters_help"
              data-prefix="# is:issue"
          >
            <span data-target="command-palette-help.titleElement">Filter to issues</span>
              <span data-target="command-palette-help.hintElement">
                <kbd class="hx_kbd"># is:issue</kbd>
              </span>
          </command-palette-help>
          <command-palette-help
            data-group="filters_help"
              data-prefix="# is:discussion"
              data-scope-types="[&quot;owner&quot;,&quot;repository&quot;]"
          >
            <span data-target="command-palette-help.titleElement">Filter to discussions</span>
              <span data-target="command-palette-help.hintElement">
                <kbd class="hx_kbd"># is:discussion</kbd>
              </span>
          </command-palette-help>
          <command-palette-help
            data-group="filters_help"
              data-prefix="# is:project"
              data-scope-types="[&quot;owner&quot;,&quot;repository&quot;]"
          >
            <span data-target="command-palette-help.titleElement">Filter to projects</span>
              <span data-target="command-palette-help.hintElement">
                <kbd class="hx_kbd"># is:project</kbd>
              </span>
          </command-palette-help>
          <command-palette-help
            data-group="filters_help"
              data-prefix="# is:open"
          >
            <span data-target="command-palette-help.titleElement">Filter to open issues, pull requests, and discussions</span>
              <span data-target="command-palette-help.hintElement">
                <kbd class="hx_kbd"># is:open</kbd>
              </span>
          </command-palette-help>
      </server-defined-provider>

        <server-defined-provider
          data-type="commands"
          data-fetch-debounce="0"
            data-src="/command_palette/commands"
          data-supported-modes="[]"
            data-supports-commands
          
          data-targets="command-palette.serverDefinedProviderElements"
          ></server-defined-provider>
        <server-defined-provider
          data-type="prefetched"
          data-fetch-debounce="0"
            data-src="/command_palette/jump_to_page_navigation"
          data-supported-modes="[&quot;&quot;]"
            data-supported-scope-types="[&quot;&quot;,&quot;owner&quot;,&quot;repository&quot;]"
          
          data-targets="command-palette.serverDefinedProviderElements"
          ></server-defined-provider>
        <server-defined-provider
          data-type="remote"
          data-fetch-debounce="200"
            data-src="/command_palette/issues"
          data-supported-modes="[&quot;#&quot;,&quot;#&quot;]"
            data-supported-scope-types="[&quot;owner&quot;,&quot;repository&quot;,&quot;&quot;]"
          
          data-targets="command-palette.serverDefinedProviderElements"
          ></server-defined-provider>
        <server-defined-provider
          data-type="remote"
          data-fetch-debounce="200"
            data-src="/command_palette/jump_to"
          data-supported-modes="[&quot;@&quot;,&quot;@&quot;]"
            data-supported-scope-types="[&quot;&quot;,&quot;owner&quot;]"
          
          data-targets="command-palette.serverDefinedProviderElements"
          ></server-defined-provider>
        <server-defined-provider
          data-type="remote"
          data-fetch-debounce="200"
            data-src="/command_palette/jump_to_members_only"
          data-supported-modes="[&quot;@&quot;,&quot;@&quot;,&quot;&quot;,&quot;&quot;]"
            data-supported-scope-types="[&quot;&quot;,&quot;owner&quot;]"
          
          data-targets="command-palette.serverDefinedProviderElements"
          ></server-defined-provider>
        <server-defined-provider
          data-type="prefetched"
          data-fetch-debounce="0"
            data-src="/command_palette/jump_to_members_only_prefetched"
          data-supported-modes="[&quot;@&quot;,&quot;@&quot;,&quot;&quot;,&quot;&quot;]"
            data-supported-scope-types="[&quot;&quot;,&quot;owner&quot;]"
          
          data-targets="command-palette.serverDefinedProviderElements"
          ></server-defined-provider>
        <server-defined-provider
          data-type="files"
          data-fetch-debounce="0"
            data-src="/command_palette/files"
          data-supported-modes="[&quot;/&quot;]"
            data-supported-scope-types="[&quot;repository&quot;]"
          
          data-targets="command-palette.serverDefinedProviderElements"
          ></server-defined-provider>
        <server-defined-provider
          data-type="remote"
          data-fetch-debounce="200"
            data-src="/command_palette/discussions"
          data-supported-modes="[&quot;#&quot;]"
            data-supported-scope-types="[&quot;owner&quot;,&quot;repository&quot;]"
          
          data-targets="command-palette.serverDefinedProviderElements"
          ></server-defined-provider>
        <server-defined-provider
          data-type="remote"
          data-fetch-debounce="200"
            data-src="/command_palette/projects"
          data-supported-modes="[&quot;#&quot;,&quot;!&quot;]"
            data-supported-scope-types="[&quot;owner&quot;,&quot;repository&quot;]"
          
          data-targets="command-palette.serverDefinedProviderElements"
          ></server-defined-provider>
        <server-defined-provider
          data-type="prefetched"
          data-fetch-debounce="0"
            data-src="/command_palette/recent_issues"
          data-supported-modes="[&quot;#&quot;,&quot;#&quot;]"
            data-supported-scope-types="[&quot;owner&quot;,&quot;repository&quot;,&quot;&quot;]"
          
          data-targets="command-palette.serverDefinedProviderElements"
          ></server-defined-provider>
        <server-defined-provider
          data-type="remote"
          data-fetch-debounce="200"
            data-src="/command_palette/teams"
          data-supported-modes="[&quot;@&quot;,&quot;&quot;]"
            data-supported-scope-types="[&quot;owner&quot;]"
          
          data-targets="command-palette.serverDefinedProviderElements"
          ></server-defined-provider>
        <server-defined-provider
          data-type="remote"
          data-fetch-debounce="200"
            data-src="/command_palette/name_with_owner_repository"
          data-supported-modes="[&quot;@&quot;,&quot;@&quot;,&quot;&quot;,&quot;&quot;]"
            data-supported-scope-types="[&quot;&quot;,&quot;owner&quot;]"
          
          data-targets="command-palette.serverDefinedProviderElements"
          ></server-defined-provider>
    </command-palette>
  </details-dialog>
</details>

<div class="position-fixed bottom-0 left-0 ml-5 mb-5 js-command-palette-toasts" style="z-index: 1000">
  <div hidden class="Toast Toast--loading">
    <span class="Toast-icon">
      <svg class="Toast--spinner" viewBox="0 0 32 32" width="18" height="18" aria-hidden="true">
        <path
          fill="#959da5"
          d="M16 0 A16 16 0 0 0 16 32 A16 16 0 0 0 16 0 M16 4 A12 12 0 0 1 16 28 A12 12 0 0 1 16 4"
        />
        <path fill="#ffffff" d="M16 0 A16 16 0 0 1 32 16 L28 16 A12 12 0 0 0 16 4z"></path>
      </svg>
    </span>
    <span class="Toast-content"></span>
  </div>

  <div hidden class="anim-fade-in fast Toast Toast--error">
    <span class="Toast-icon">
      <svg aria-hidden="true" height="16" viewBox="0 0 16 16" version="1.1" width="16" data-view-component="true" class="octicon octicon-stop">
    <path d="M4.47.22A.749.749 0 0 1 5 0h6c.199 0 .389.079.53.22l4.25 4.25c.141.14.22.331.22.53v6a.749.749 0 0 1-.22.53l-4.25 4.25A.749.749 0 0 1 11 16H5a.749.749 0 0 1-.53-.22L.22 11.53A.749.749 0 0 1 0 11V5c0-.199.079-.389.22-.53Zm.84 1.28L1.5 5.31v5.38l3.81 3.81h5.38l3.81-3.81V5.31L10.69 1.5ZM8 4a.75.75 0 0 1 .75.75v3.5a.75.75 0 0 1-1.5 0v-3.5A.75.75 0 0 1 8 4Zm0 8a1 1 0 1 1 0-2 1 1 0 0 1 0 2Z"></path>
</svg>
    </span>
    <span class="Toast-content"></span>
  </div>

  <div hidden class="anim-fade-in fast Toast Toast--warning">
    <span class="Toast-icon">
      <svg aria-hidden="true" height="16" viewBox="0 0 16 16" version="1.1" width="16" data-view-component="true" class="octicon octicon-alert">
    <path d="M6.457 1.047c.659-1.234 2.427-1.234 3.086 0l6.082 11.378A1.75 1.75 0 0 1 14.082 15H1.918a1.75 1.75 0 0 1-1.543-2.575Zm1.763.707a.25.25 0 0 0-.44 0L1.698 13.132a.25.25 0 0 0 .22.368h12.164a.25.25 0 0 0 .22-.368Zm.53 3.996v2.5a.75.75 0 0 1-1.5 0v-2.5a.75.75 0 0 1 1.5 0ZM9 11a1 1 0 1 1-2 0 1 1 0 0 1 2 0Z"></path>
</svg>
    </span>
    <span class="Toast-content"></span>
  </div>


  <div hidden class="anim-fade-in fast Toast Toast--success">
    <span class="Toast-icon">
      <svg aria-hidden="true" height="16" viewBox="0 0 16 16" version="1.1" width="16" data-view-component="true" class="octicon octicon-check">
    <path d="M13.78 4.22a.75.75 0 0 1 0 1.06l-7.25 7.25a.75.75 0 0 1-1.06 0L2.22 9.28a.751.751 0 0 1 .018-1.042.751.751 0 0 1 1.042-.018L6 10.94l6.72-6.72a.75.75 0 0 1 1.06 0Z"></path>
</svg>
    </span>
    <span class="Toast-content"></span>
  </div>

  <div hidden class="anim-fade-in fast Toast">
    <span class="Toast-icon">
      <svg aria-hidden="true" height="16" viewBox="0 0 16 16" version="1.1" width="16" data-view-component="true" class="octicon octicon-info">
    <path d="M0 8a8 8 0 1 1 16 0A8 8 0 0 1 0 8Zm8-6.5a6.5 6.5 0 1 0 0 13 6.5 6.5 0 0 0 0-13ZM6.5 7.75A.75.75 0 0 1 7.25 7h1a.75.75 0 0 1 .75.75v2.75h.25a.75.75 0 0 1 0 1.5h-2a.75.75 0 0 1 0-1.5h.25v-2h-.25a.75.75 0 0 1-.75-.75ZM8 6a1 1 0 1 1 0-2 1 1 0 0 1 0 2Z"></path>
</svg>
    </span>
    <span class="Toast-content"></span>
  </div>
</div>


  <div
    class="application-main "
    data-commit-hovercards-enabled
    data-discussion-hovercards-enabled
    data-issue-and-pr-hovercards-enabled
  >
        <div itemscope itemtype="http://schema.org/SoftwareSourceCode" class="">
    <main id="js-repo-pjax-container" >
      
      






  
  <div id="repository-container-header"  class="pt-3 hide-full-screen" style="background-color: var(--color-page-header-bg);" data-turbo-replace>

      <div class="d-flex flex-wrap flex-justify-end mb-3  px-3 px-md-4 px-lg-5" style="gap: 1rem;">

        <div class="flex-auto min-width-0 width-fit mr-3">
            
  <div class=" d-flex flex-wrap flex-items-center wb-break-word f3 text-normal">
      <svg aria-hidden="true" height="16" viewBox="0 0 16 16" version="1.1" width="16" data-view-component="true" class="octicon octicon-repo color-fg-muted mr-2">
    <path d="M2 2.5A2.5 2.5 0 0 1 4.5 0h8.75a.75.75 0 0 1 .75.75v12.5a.75.75 0 0 1-.75.75h-2.5a.75.75 0 0 1 0-1.5h1.75v-2h-8a1 1 0 0 0-.714 1.7.75.75 0 1 1-1.072 1.05A2.495 2.495 0 0 1 2 11.5Zm10.5-1h-8a1 1 0 0 0-1 1v6.708A2.486 2.486 0 0 1 4.5 9h8ZM5 12.25a.25.25 0 0 1 .25-.25h3.5a.25.25 0 0 1 .25.25v3.25a.25.25 0 0 1-.4.2l-1.45-1.087a.249.249 0 0 0-.3 0L5.4 15.7a.25.25 0 0 1-.4-.2Z"></path>
</svg>
    
    <span class="author flex-self-stretch" itemprop="author">
      <a class="url fn" rel="author" data-hovercard-type="user" data-hovercard-url="/users/MarcelloLM/hovercard" data-octo-click="hovercard-link-click" data-octo-dimensions="link_type:self" href="/MarcelloLM">
        MarcelloLM
</a>    </span>
    <span class="mx-1 flex-self-stretch color-fg-muted">/</span>
    <strong itemprop="name" class="mr-2 flex-self-stretch">
      <a data-pjax="#repo-content-pjax-container" data-turbo-frame="repo-content-turbo-frame" href="/MarcelloLM/Redes-Neurais">Redes-Neurais</a>
    </strong>

    <span></span><span class="Label Label--secondary v-align-middle mr-1">Public</span>
  </div>


        </div>

        <div id="repository-details-container" data-turbo-replace>
            <ul class="pagehead-actions flex-shrink-0 d-none d-md-inline" style="padding: 2px 0;">
    
      <li>
  <div class="float-left" >
    <!-- '"` --><!-- </textarea></xmp> --></option></form><form data-turbo="false" action="/MarcelloLM/Redes-Neurais/profile_pin" accept-charset="UTF-8" method="post"><input type="hidden" name="authenticity_token" value="YOYt_rxx779tWjOSrxt7u2p7v_qeZnCpP84kVPLQE74yLOKpZX9SzkLub9qdPNQfC-YUPJTN2sy8BM3ZavanRw" autocomplete="off" />
        <button title="Pin this repository to your profile" type="submit" data-view-component="true" class="btn-sm btn">    <svg aria-hidden="true" height="16" viewBox="0 0 16 16" version="1.1" width="16" data-view-component="true" class="octicon octicon-pin mr-2">
    <path d="M4.456.734a1.75 1.75 0 0 1 2.826.504l.613 1.327a3.08 3.08 0 0 0 2.084 1.707l2.454.584c1.332.317 1.8 1.972.832 2.94L11.06 10l3.72 3.72a.748.748 0 0 1-.332 1.265.75.75 0 0 1-.729-.205L10 11.06l-2.204 2.205c-.968.968-2.623.5-2.94-.832l-.584-2.454a3.08 3.08 0 0 0-1.707-2.084l-1.327-.613a1.75 1.75 0 0 1-.504-2.826ZM5.92 1.866a.253.253 0 0 0-.183-.142.251.251 0 0 0-.221.07L1.794 5.516a.251.251 0 0 0-.07.221c.015.08.068.149.142.183l1.328.613A4.582 4.582 0 0 1 5.73 9.63l.584 2.454a.251.251 0 0 0 .42.12l5.47-5.47a.25.25 0 0 0-.12-.42L9.63 5.73a4.583 4.583 0 0 1-3.098-2.537Z"></path>
</svg>Pin
</button></form>  </div>
</li>


  <li>
        <include-fragment loading="lazy" src="/notifications/619537202/watch_subscription?aria_id_prefix=repository-details&amp;button_block=false&amp;show_count=true">
    <div data-hide-on-error>
        
            <button disabled="disabled" aria-label="Watching a repository" type="button" data-view-component="true" class="tooltipped tooltipped-n Button--secondary Button--small Button">    <span class="Button-content">
        <span class="Button-visual Button-leadingVisual">
          <svg aria-hidden="true" height="16" viewBox="0 0 16 16" version="1.1" width="16" data-view-component="true" class="octicon octicon-eye">
    <path d="M8 2c1.981 0 3.671.992 4.933 2.078 1.27 1.091 2.187 2.345 2.637 3.023a1.62 1.62 0 0 1 0 1.798c-.45.678-1.367 1.932-2.637 3.023C11.67 13.008 9.981 14 8 14c-1.981 0-3.671-.992-4.933-2.078C1.797 10.83.88 9.576.43 8.898a1.62 1.62 0 0 1 0-1.798c.45-.677 1.367-1.931 2.637-3.022C4.33 2.992 6.019 2 8 2ZM1.679 7.932a.12.12 0 0 0 0 .136c.411.622 1.241 1.75 2.366 2.717C5.176 11.758 6.527 12.5 8 12.5c1.473 0 2.825-.742 3.955-1.715 1.124-.967 1.954-2.096 2.366-2.717a.12.12 0 0 0 0-.136c-.412-.621-1.242-1.75-2.366-2.717C10.824 4.242 9.473 3.5 8 3.5c-1.473 0-2.825.742-3.955 1.715-1.124.967-1.954 2.096-2.366 2.717ZM8 10a2 2 0 1 1-.001-3.999A2 2 0 0 1 8 10Z"></path>
</svg>
        </span>
      <span class="Button-label">Watch</span>
    </span>
</button>  

    </div>
    <p data-show-on-error hidden>
        
          <span class="d-flex pt-1">
            <svg aria-hidden="true" height="16" viewBox="0 0 16 16" version="1.1" width="16" data-view-component="true" class="octicon octicon-alert mr-1">
    <path d="M6.457 1.047c.659-1.234 2.427-1.234 3.086 0l6.082 11.378A1.75 1.75 0 0 1 14.082 15H1.918a1.75 1.75 0 0 1-1.543-2.575Zm1.763.707a.25.25 0 0 0-.44 0L1.698 13.132a.25.25 0 0 0 .22.368h12.164a.25.25 0 0 0 .22-.368Zm.53 3.996v2.5a.75.75 0 0 1-1.5 0v-2.5a.75.75 0 0 1 1.5 0ZM9 11a1 1 0 1 1-2 0 1 1 0 0 1 2 0Z"></path>
</svg>
            Couldn't load subscription status.&nbsp;
              <button data-retry-button="" type="button" data-view-component="true" class="Button--link Button--medium Button">    <span class="Button-content">
      <span class="Button-label">Retry</span>
    </span>
</button>  

          </span>

    </p>
  </include-fragment>
  </li>

  <li>
        <div data-view-component="true" class="d-flex">
        <div data-view-component="true" class="position-relative d-inline-block">
    <button icon="repo-forked" id="fork-button" aria-disabled="true" type="button" data-view-component="true" class="btn-sm btn BtnGroup-item border-right-0">      <svg aria-hidden="true" height="16" viewBox="0 0 16 16" version="1.1" width="16" data-view-component="true" class="octicon octicon-repo-forked mr-2">
    <path d="M5 5.372v.878c0 .414.336.75.75.75h4.5a.75.75 0 0 0 .75-.75v-.878a2.25 2.25 0 1 1 1.5 0v.878a2.25 2.25 0 0 1-2.25 2.25h-1.5v2.128a2.251 2.251 0 1 1-1.5 0V8.5h-1.5A2.25 2.25 0 0 1 3.5 6.25v-.878a2.25 2.25 0 1 1 1.5 0ZM5 3.25a.75.75 0 1 0-1.5 0 .75.75 0 0 0 1.5 0Zm6.75.75a.75.75 0 1 0 0-1.5.75.75 0 0 0 0 1.5Zm-3 8.75a.75.75 0 1 0-1.5 0 .75.75 0 0 0 1.5 0Z"></path>
</svg>Fork
        <span id="repo-network-counter" data-pjax-replace="true" data-turbo-replace="true" title="0" data-view-component="true" class="Counter">0</span>
</button>    <tool-tip id="tooltip-bb7674f7-db7b-423a-8fda-624a8c3d06fb" for="fork-button" data-direction="s" data-type="description" data-view-component="true" class="sr-only position-absolute">Cannot fork because you own this repository and are not a member of any organizations.</tool-tip>
</div>
      <details group_item="true" id="my-forks-menu-619537202" data-view-component="true" class="details-reset details-overlay BtnGroup-parent d-inline-block position-relative">
              <summary aria-label="See your forks of this repository" data-view-component="true" class="btn-sm btn BtnGroup-item px-2 float-none">    <svg aria-hidden="true" height="16" viewBox="0 0 16 16" version="1.1" width="16" data-view-component="true" class="octicon octicon-triangle-down">
    <path d="m4.427 7.427 3.396 3.396a.25.25 0 0 0 .354 0l3.396-3.396A.25.25 0 0 0 11.396 7H4.604a.25.25 0 0 0-.177.427Z"></path>
</svg>
</summary>
  <details-menu
    class="SelectMenu right-0"
      src="/MarcelloLM/Redes-Neurais/my_forks_menu_content?can_fork=false"
      
      role="menu"
      
>
    <div class="SelectMenu-modal">
        <button class="SelectMenu-closeButton position-absolute right-0 m-2" type="button" aria-label="Close menu" data-toggle-for="details-127f74">
          <svg aria-hidden="true" height="16" viewBox="0 0 16 16" version="1.1" width="16" data-view-component="true" class="octicon octicon-x">
    <path d="M3.72 3.72a.75.75 0 0 1 1.06 0L8 6.94l3.22-3.22a.749.749 0 0 1 1.275.326.749.749 0 0 1-.215.734L9.06 8l3.22 3.22a.749.749 0 0 1-.326 1.275.749.749 0 0 1-.734-.215L8 9.06l-3.22 3.22a.751.751 0 0 1-1.042-.018.751.751 0 0 1-.018-1.042L6.94 8 3.72 4.78a.75.75 0 0 1 0-1.06Z"></path>
</svg>
        </button>
      <div
        id="filter-menu-127f74"
        class="d-flex flex-column flex-1 overflow-hidden"
>
        <div
          class="SelectMenu-list"
          >

            <include-fragment class="SelectMenu-loading" aria-label="Loading">
              <svg role="menuitem" style="box-sizing: content-box; color: var(--color-icon-primary);" width="32" height="32" viewBox="0 0 16 16" fill="none" data-view-component="true" class="anim-rotate">
  <circle cx="8" cy="8" r="7" stroke="currentColor" stroke-opacity="0.25" stroke-width="2" vector-effect="non-scaling-stroke" />
  <path d="M15 8a7.002 7.002 0 00-7-7" stroke="currentColor" stroke-width="2" stroke-linecap="round" vector-effect="non-scaling-stroke" />
</svg>
            </include-fragment>
        </div>
        
      </div>
    </div>
  </details-menu>
</details></div>
  </li>

  <li>
        <template class="js-unstar-confirmation-dialog-template">
  <div class="Box-header">
    <h2 class="Box-title">Unstar this repository?</h2>
  </div>
  <div class="Box-body">
    <p class="mb-3">
      This will remove {{ repoNameWithOwner }} from the {{ listsWithCount }} that it's been added to.
    </p>
    <div class="form-actions">
      <!-- '"` --><!-- </textarea></xmp> --></option></form><form class="js-social-confirmation-form" data-turbo="false" action="{{ confirmUrl }}" accept-charset="UTF-8" method="post">
        <input type="hidden" name="authenticity_token" value="{{ confirmCsrfToken }}">
        <input type="hidden" name="confirm" value="true">
          <button data-close-dialog="true" type="submit" data-view-component="true" class="btn-danger btn width-full">    Unstar
</button>
</form>    </div>
  </div>
</template>

  <div data-view-component="true" class="js-toggler-container js-social-container starring-container d-flex">
    <div data-view-component="true" class="starred BtnGroup flex-1">
      <!-- '"` --><!-- </textarea></xmp> --></option></form><form class="js-social-form BtnGroup-parent flex-auto js-deferred-toggler-target" data-turbo="false" action="/MarcelloLM/Redes-Neurais/unstar" accept-charset="UTF-8" method="post"><input type="hidden" name="authenticity_token" value="Qe-cNLbL9dLSRqs5HrqFaqXm7f8W44hIIUGnX7MXOyTwYzc1F-W-KiybtkIyGgHwLDfVfyiolQovq1NqVsCvsA" autocomplete="off" />
          <input type="hidden" value="CSDI9BoIcHBHRDXYY7O9xn4rfjKl6B4On7k1I2hNFSm4rGP1uyY7iLmZKKNPEzlc9_pGspujA0yRU8EWjZqBvQ" data-csrf="true" class="js-confirm-csrf-token" />
        <input type="hidden" name="context" value="repository">
          <button data-hydro-click="{&quot;event_type&quot;:&quot;repository.click&quot;,&quot;payload&quot;:{&quot;target&quot;:&quot;UNSTAR_BUTTON&quot;,&quot;repository_id&quot;:619537202,&quot;originating_url&quot;:&quot;https://github.com/MarcelloLM/Redes-Neurais/blob/main/Redes_Neurais.ipynb&quot;,&quot;user_id&quot;:106484381}}" data-hydro-click-hmac="1747118292050940d959c23c2afc1d12c514277cf2aa5d941e1132bb10be66d2" data-ga-click="Repository, click unstar button, action:blob#show; text:Unstar" aria-label="Unstar this repository (0)" type="submit" data-view-component="true" class="rounded-left-2 btn-sm btn BtnGroup-item">    <svg aria-hidden="true" height="16" viewBox="0 0 16 16" version="1.1" width="16" data-view-component="true" class="octicon octicon-star-fill starred-button-icon d-inline-block mr-2">
    <path d="M8 .25a.75.75 0 0 1 .673.418l1.882 3.815 4.21.612a.75.75 0 0 1 .416 1.279l-3.046 2.97.719 4.192a.751.751 0 0 1-1.088.791L8 12.347l-3.766 1.98a.75.75 0 0 1-1.088-.79l.72-4.194L.818 6.374a.75.75 0 0 1 .416-1.28l4.21-.611L7.327.668A.75.75 0 0 1 8 .25Z"></path>
</svg><span data-view-component="true" class="d-inline">
              Starred
</span>              <span id="repo-stars-counter-unstar" aria-label="0 users starred this repository" data-singular-suffix="user starred this repository" data-plural-suffix="users starred this repository" data-turbo-replace="true" title="0" data-view-component="true" class="Counter js-social-count">0</span>
</button></form>        <details id="details-user-list-619537202-starred" data-view-component="true" class="details-reset details-overlay BtnGroup-parent js-user-list-menu d-inline-block position-relative">
        <summary aria-label="Add this repository to a list" data-view-component="true" class="btn-sm btn BtnGroup-item px-2 float-none">    <svg aria-hidden="true" height="16" viewBox="0 0 16 16" version="1.1" width="16" data-view-component="true" class="octicon octicon-triangle-down">
    <path d="m4.427 7.427 3.396 3.396a.25.25 0 0 0 .354 0l3.396-3.396A.25.25 0 0 0 11.396 7H4.604a.25.25 0 0 0-.177.427Z"></path>
</svg>
</summary>
  <details-menu
    class="SelectMenu right-0"
      src="/MarcelloLM/Redes-Neurais/lists"
      
      role="menu"
      
>
    <div class="SelectMenu-modal">
        <button class="SelectMenu-closeButton position-absolute right-0 m-2" type="button" aria-label="Close menu" data-toggle-for="details-88da20">
          <svg aria-hidden="true" height="16" viewBox="0 0 16 16" version="1.1" width="16" data-view-component="true" class="octicon octicon-x">
    <path d="M3.72 3.72a.75.75 0 0 1 1.06 0L8 6.94l3.22-3.22a.749.749 0 0 1 1.275.326.749.749 0 0 1-.215.734L9.06 8l3.22 3.22a.749.749 0 0 1-.326 1.275.749.749 0 0 1-.734-.215L8 9.06l-3.22 3.22a.751.751 0 0 1-1.042-.018.751.751 0 0 1-.018-1.042L6.94 8 3.72 4.78a.75.75 0 0 1 0-1.06Z"></path>
</svg>
        </button>
      <div
        id="filter-menu-88da20"
        class="d-flex flex-column flex-1 overflow-hidden"
>
        <div
          class="SelectMenu-list"
          >

            <include-fragment class="SelectMenu-loading" aria-label="Loading">
              <svg role="menuitem" style="box-sizing: content-box; color: var(--color-icon-primary);" width="32" height="32" viewBox="0 0 16 16" fill="none" data-view-component="true" class="anim-rotate">
  <circle cx="8" cy="8" r="7" stroke="currentColor" stroke-opacity="0.25" stroke-width="2" vector-effect="non-scaling-stroke" />
  <path d="M15 8a7.002 7.002 0 00-7-7" stroke="currentColor" stroke-width="2" stroke-linecap="round" vector-effect="non-scaling-stroke" />
</svg>
            </include-fragment>
        </div>
        
      </div>
    </div>
  </details-menu>
</details>
</div>
    <div data-view-component="true" class="unstarred BtnGroup flex-1">
      <!-- '"` --><!-- </textarea></xmp> --></option></form><form class="js-social-form BtnGroup-parent flex-auto" data-turbo="false" action="/MarcelloLM/Redes-Neurais/star" accept-charset="UTF-8" method="post"><input type="hidden" name="authenticity_token" value="KEJ6KXUPg-xXLRMlTpnM9RpJ2r4R8bUPCaR5jtQmRVd-tZ3UOGLLGRn3e8Pr-NR8MzP6sA99YSVaLPxBUL2GaA" autocomplete="off" />
        <input type="hidden" name="context" value="repository">
          <button data-hydro-click="{&quot;event_type&quot;:&quot;repository.click&quot;,&quot;payload&quot;:{&quot;target&quot;:&quot;STAR_BUTTON&quot;,&quot;repository_id&quot;:619537202,&quot;originating_url&quot;:&quot;https://github.com/MarcelloLM/Redes-Neurais/blob/main/Redes_Neurais.ipynb&quot;,&quot;user_id&quot;:106484381}}" data-hydro-click-hmac="91491316382014badb934f22bbc31e4cc0f1daca8947ba685a51babb75267374" data-ga-click="Repository, click star button, action:blob#show; text:Star" aria-label="Star this repository (0)" type="submit" data-view-component="true" class="js-toggler-target rounded-left-2 btn-sm btn BtnGroup-item">    <svg aria-hidden="true" height="16" viewBox="0 0 16 16" version="1.1" width="16" data-view-component="true" class="octicon octicon-star d-inline-block mr-2">
    <path d="M8 .25a.75.75 0 0 1 .673.418l1.882 3.815 4.21.612a.75.75 0 0 1 .416 1.279l-3.046 2.97.719 4.192a.751.751 0 0 1-1.088.791L8 12.347l-3.766 1.98a.75.75 0 0 1-1.088-.79l.72-4.194L.818 6.374a.75.75 0 0 1 .416-1.28l4.21-.611L7.327.668A.75.75 0 0 1 8 .25Zm0 2.445L6.615 5.5a.75.75 0 0 1-.564.41l-3.097.45 2.24 2.184a.75.75 0 0 1 .216.664l-.528 3.084 2.769-1.456a.75.75 0 0 1 .698 0l2.77 1.456-.53-3.084a.75.75 0 0 1 .216-.664l2.24-2.183-3.096-.45a.75.75 0 0 1-.564-.41L8 2.694Z"></path>
</svg><span data-view-component="true" class="d-inline">
              Star
</span>              <span id="repo-stars-counter-star" aria-label="0 users starred this repository" data-singular-suffix="user starred this repository" data-plural-suffix="users starred this repository" data-turbo-replace="true" title="0" data-view-component="true" class="Counter js-social-count">0</span>
</button></form>        <details id="details-user-list-619537202-unstarred" data-view-component="true" class="details-reset details-overlay BtnGroup-parent js-user-list-menu d-inline-block position-relative">
        <summary aria-label="Add this repository to a list" data-view-component="true" class="btn-sm btn BtnGroup-item px-2 float-none">    <svg aria-hidden="true" height="16" viewBox="0 0 16 16" version="1.1" width="16" data-view-component="true" class="octicon octicon-triangle-down">
    <path d="m4.427 7.427 3.396 3.396a.25.25 0 0 0 .354 0l3.396-3.396A.25.25 0 0 0 11.396 7H4.604a.25.25 0 0 0-.177.427Z"></path>
</svg>
</summary>
  <details-menu
    class="SelectMenu right-0"
      src="/MarcelloLM/Redes-Neurais/lists"
      
      role="menu"
      
>
    <div class="SelectMenu-modal">
        <button class="SelectMenu-closeButton position-absolute right-0 m-2" type="button" aria-label="Close menu" data-toggle-for="details-a05d26">
          <svg aria-hidden="true" height="16" viewBox="0 0 16 16" version="1.1" width="16" data-view-component="true" class="octicon octicon-x">
    <path d="M3.72 3.72a.75.75 0 0 1 1.06 0L8 6.94l3.22-3.22a.749.749 0 0 1 1.275.326.749.749 0 0 1-.215.734L9.06 8l3.22 3.22a.749.749 0 0 1-.326 1.275.749.749 0 0 1-.734-.215L8 9.06l-3.22 3.22a.751.751 0 0 1-1.042-.018.751.751 0 0 1-.018-1.042L6.94 8 3.72 4.78a.75.75 0 0 1 0-1.06Z"></path>
</svg>
        </button>
      <div
        id="filter-menu-a05d26"
        class="d-flex flex-column flex-1 overflow-hidden"
>
        <div
          class="SelectMenu-list"
          >

            <include-fragment class="SelectMenu-loading" aria-label="Loading">
              <svg role="menuitem" style="box-sizing: content-box; color: var(--color-icon-primary);" width="32" height="32" viewBox="0 0 16 16" fill="none" data-view-component="true" class="anim-rotate">
  <circle cx="8" cy="8" r="7" stroke="currentColor" stroke-opacity="0.25" stroke-width="2" vector-effect="non-scaling-stroke" />
  <path d="M15 8a7.002 7.002 0 00-7-7" stroke="currentColor" stroke-width="2" stroke-linecap="round" vector-effect="non-scaling-stroke" />
</svg>
            </include-fragment>
        </div>
        
      </div>
    </div>
  </details-menu>
</details>
</div></div>
  </li>


    

</ul>

        </div>
      </div>

        <div id="responsive-meta-container" data-turbo-replace>
</div>


          <nav data-pjax="#js-repo-pjax-container" aria-label="Repository" data-view-component="true" class="js-repo-nav js-sidenav-container-pjax js-responsive-underlinenav overflow-hidden UnderlineNav px-3 px-md-4 px-lg-5">

  <ul data-view-component="true" class="UnderlineNav-body list-style-none">
      <li data-view-component="true" class="d-inline-flex">
  <a id="code-tab" href="/MarcelloLM/Redes-Neurais" data-tab-item="i0code-tab" data-selected-links="repo_source repo_downloads repo_commits repo_releases repo_tags repo_branches repo_packages repo_deployments /MarcelloLM/Redes-Neurais" data-pjax="#repo-content-pjax-container" data-turbo-frame="repo-content-turbo-frame" data-hotkey="g c" data-analytics-event="{&quot;category&quot;:&quot;Underline navbar&quot;,&quot;action&quot;:&quot;Click tab&quot;,&quot;label&quot;:&quot;Code&quot;,&quot;target&quot;:&quot;UNDERLINE_NAV.TAB&quot;}" aria-current="page" data-view-component="true" class="UnderlineNav-item no-wrap js-responsive-underlinenav-item js-selected-navigation-item selected">
    
              <svg aria-hidden="true" height="16" viewBox="0 0 16 16" version="1.1" width="16" data-view-component="true" class="octicon octicon-code UnderlineNav-octicon d-none d-sm-inline">
    <path d="m11.28 3.22 4.25 4.25a.75.75 0 0 1 0 1.06l-4.25 4.25a.749.749 0 0 1-1.275-.326.749.749 0 0 1 .215-.734L13.94 8l-3.72-3.72a.749.749 0 0 1 .326-1.275.749.749 0 0 1 .734.215Zm-6.56 0a.751.751 0 0 1 1.042.018.751.751 0 0 1 .018 1.042L2.06 8l3.72 3.72a.749.749 0 0 1-.326 1.275.749.749 0 0 1-.734-.215L.47 8.53a.75.75 0 0 1 0-1.06Z"></path>
</svg>
        <span data-content="Code">Code</span>
          <span id="code-repo-tab-count" data-pjax-replace="" data-turbo-replace="" title="Not available" data-view-component="true" class="Counter"></span>


    
</a></li>
      <li data-view-component="true" class="d-inline-flex">
  <a id="issues-tab" href="/MarcelloLM/Redes-Neurais/issues" data-tab-item="i1issues-tab" data-selected-links="repo_issues repo_labels repo_milestones /MarcelloLM/Redes-Neurais/issues" data-pjax="#repo-content-pjax-container" data-turbo-frame="repo-content-turbo-frame" data-hotkey="g i" data-analytics-event="{&quot;category&quot;:&quot;Underline navbar&quot;,&quot;action&quot;:&quot;Click tab&quot;,&quot;label&quot;:&quot;Issues&quot;,&quot;target&quot;:&quot;UNDERLINE_NAV.TAB&quot;}" data-view-component="true" class="UnderlineNav-item no-wrap js-responsive-underlinenav-item js-selected-navigation-item">
    
              <svg aria-hidden="true" height="16" viewBox="0 0 16 16" version="1.1" width="16" data-view-component="true" class="octicon octicon-issue-opened UnderlineNav-octicon d-none d-sm-inline">
    <path d="M8 9.5a1.5 1.5 0 1 0 0-3 1.5 1.5 0 0 0 0 3Z"></path><path d="M8 0a8 8 0 1 1 0 16A8 8 0 0 1 8 0ZM1.5 8a6.5 6.5 0 1 0 13 0 6.5 6.5 0 0 0-13 0Z"></path>
</svg>
        <span data-content="Issues">Issues</span>
          <span id="issues-repo-tab-count" data-pjax-replace="" data-turbo-replace="" title="0" hidden="hidden" data-view-component="true" class="Counter">0</span>


    
</a></li>
      <li data-view-component="true" class="d-inline-flex">
  <a id="pull-requests-tab" href="/MarcelloLM/Redes-Neurais/pulls" data-tab-item="i2pull-requests-tab" data-selected-links="repo_pulls checks /MarcelloLM/Redes-Neurais/pulls" data-pjax="#repo-content-pjax-container" data-turbo-frame="repo-content-turbo-frame" data-hotkey="g p" data-analytics-event="{&quot;category&quot;:&quot;Underline navbar&quot;,&quot;action&quot;:&quot;Click tab&quot;,&quot;label&quot;:&quot;Pull requests&quot;,&quot;target&quot;:&quot;UNDERLINE_NAV.TAB&quot;}" data-view-component="true" class="UnderlineNav-item no-wrap js-responsive-underlinenav-item js-selected-navigation-item">
    
              <svg aria-hidden="true" height="16" viewBox="0 0 16 16" version="1.1" width="16" data-view-component="true" class="octicon octicon-git-pull-request UnderlineNav-octicon d-none d-sm-inline">
    <path d="M1.5 3.25a2.25 2.25 0 1 1 3 2.122v5.256a2.251 2.251 0 1 1-1.5 0V5.372A2.25 2.25 0 0 1 1.5 3.25Zm5.677-.177L9.573.677A.25.25 0 0 1 10 .854V2.5h1A2.5 2.5 0 0 1 13.5 5v5.628a2.251 2.251 0 1 1-1.5 0V5a1 1 0 0 0-1-1h-1v1.646a.25.25 0 0 1-.427.177L7.177 3.427a.25.25 0 0 1 0-.354ZM3.75 2.5a.75.75 0 1 0 0 1.5.75.75 0 0 0 0-1.5Zm0 9.5a.75.75 0 1 0 0 1.5.75.75 0 0 0 0-1.5Zm8.25.75a.75.75 0 1 0 1.5 0 .75.75 0 0 0-1.5 0Z"></path>
</svg>
        <span data-content="Pull requests">Pull requests</span>
          <span id="pull-requests-repo-tab-count" data-pjax-replace="" data-turbo-replace="" title="0" hidden="hidden" data-view-component="true" class="Counter">0</span>


    
</a></li>
      <li data-view-component="true" class="d-inline-flex">
  <a id="actions-tab" href="/MarcelloLM/Redes-Neurais/actions" data-tab-item="i3actions-tab" data-selected-links="repo_actions /MarcelloLM/Redes-Neurais/actions" data-pjax="#repo-content-pjax-container" data-turbo-frame="repo-content-turbo-frame" data-hotkey="g a" data-analytics-event="{&quot;category&quot;:&quot;Underline navbar&quot;,&quot;action&quot;:&quot;Click tab&quot;,&quot;label&quot;:&quot;Actions&quot;,&quot;target&quot;:&quot;UNDERLINE_NAV.TAB&quot;}" data-view-component="true" class="UnderlineNav-item no-wrap js-responsive-underlinenav-item js-selected-navigation-item">
    
              <svg aria-hidden="true" height="16" viewBox="0 0 16 16" version="1.1" width="16" data-view-component="true" class="octicon octicon-play UnderlineNav-octicon d-none d-sm-inline">
    <path d="M8 0a8 8 0 1 1 0 16A8 8 0 0 1 8 0ZM1.5 8a6.5 6.5 0 1 0 13 0 6.5 6.5 0 0 0-13 0Zm4.879-2.773 4.264 2.559a.25.25 0 0 1 0 .428l-4.264 2.559A.25.25 0 0 1 6 10.559V5.442a.25.25 0 0 1 .379-.215Z"></path>
</svg>
        <span data-content="Actions">Actions</span>
          <span id="actions-repo-tab-count" data-pjax-replace="" data-turbo-replace="" title="Not available" data-view-component="true" class="Counter"></span>


    
</a></li>
      <li data-view-component="true" class="d-inline-flex">
  <a id="projects-tab" href="/MarcelloLM/Redes-Neurais/projects" data-tab-item="i4projects-tab" data-selected-links="repo_projects new_repo_project repo_project /MarcelloLM/Redes-Neurais/projects" data-pjax="#repo-content-pjax-container" data-turbo-frame="repo-content-turbo-frame" data-hotkey="g b" data-analytics-event="{&quot;category&quot;:&quot;Underline navbar&quot;,&quot;action&quot;:&quot;Click tab&quot;,&quot;label&quot;:&quot;Projects&quot;,&quot;target&quot;:&quot;UNDERLINE_NAV.TAB&quot;}" data-view-component="true" class="UnderlineNav-item no-wrap js-responsive-underlinenav-item js-selected-navigation-item">
    
              <svg aria-hidden="true" height="16" viewBox="0 0 16 16" version="1.1" width="16" data-view-component="true" class="octicon octicon-table UnderlineNav-octicon d-none d-sm-inline">
    <path d="M0 1.75C0 .784.784 0 1.75 0h12.5C15.216 0 16 .784 16 1.75v12.5A1.75 1.75 0 0 1 14.25 16H1.75A1.75 1.75 0 0 1 0 14.25ZM6.5 6.5v8h7.75a.25.25 0 0 0 .25-.25V6.5Zm8-1.5V1.75a.25.25 0 0 0-.25-.25H6.5V5Zm-13 1.5v7.75c0 .138.112.25.25.25H5v-8ZM5 5V1.5H1.75a.25.25 0 0 0-.25.25V5Z"></path>
</svg>
        <span data-content="Projects">Projects</span>
          <span id="projects-repo-tab-count" data-pjax-replace="" data-turbo-replace="" title="0" hidden="hidden" data-view-component="true" class="Counter">0</span>


    
</a></li>
      <li data-view-component="true" class="d-inline-flex">
  <a id="wiki-tab" href="/MarcelloLM/Redes-Neurais/wiki" data-tab-item="i5wiki-tab" data-selected-links="repo_wiki /MarcelloLM/Redes-Neurais/wiki" data-pjax="#repo-content-pjax-container" data-turbo-frame="repo-content-turbo-frame" data-hotkey="g w" data-analytics-event="{&quot;category&quot;:&quot;Underline navbar&quot;,&quot;action&quot;:&quot;Click tab&quot;,&quot;label&quot;:&quot;Wiki&quot;,&quot;target&quot;:&quot;UNDERLINE_NAV.TAB&quot;}" data-view-component="true" class="UnderlineNav-item no-wrap js-responsive-underlinenav-item js-selected-navigation-item">
    
              <svg aria-hidden="true" height="16" viewBox="0 0 16 16" version="1.1" width="16" data-view-component="true" class="octicon octicon-book UnderlineNav-octicon d-none d-sm-inline">
    <path d="M0 1.75A.75.75 0 0 1 .75 1h4.253c1.227 0 2.317.59 3 1.501A3.743 3.743 0 0 1 11.006 1h4.245a.75.75 0 0 1 .75.75v10.5a.75.75 0 0 1-.75.75h-4.507a2.25 2.25 0 0 0-1.591.659l-.622.621a.75.75 0 0 1-1.06 0l-.622-.621A2.25 2.25 0 0 0 5.258 13H.75a.75.75 0 0 1-.75-.75Zm7.251 10.324.004-5.073-.002-2.253A2.25 2.25 0 0 0 5.003 2.5H1.5v9h3.757a3.75 3.75 0 0 1 1.994.574ZM8.755 4.75l-.004 7.322a3.752 3.752 0 0 1 1.992-.572H14.5v-9h-3.495a2.25 2.25 0 0 0-2.25 2.25Z"></path>
</svg>
        <span data-content="Wiki">Wiki</span>
          <span id="wiki-repo-tab-count" data-pjax-replace="" data-turbo-replace="" title="Not available" data-view-component="true" class="Counter"></span>


    
</a></li>
      <li data-view-component="true" class="d-inline-flex">
  <a id="security-tab" href="/MarcelloLM/Redes-Neurais/security" data-tab-item="i6security-tab" data-selected-links="security overview alerts policy token_scanning code_scanning /MarcelloLM/Redes-Neurais/security" data-pjax="#repo-content-pjax-container" data-turbo-frame="repo-content-turbo-frame" data-hotkey="g s" data-analytics-event="{&quot;category&quot;:&quot;Underline navbar&quot;,&quot;action&quot;:&quot;Click tab&quot;,&quot;label&quot;:&quot;Security&quot;,&quot;target&quot;:&quot;UNDERLINE_NAV.TAB&quot;}" data-view-component="true" class="UnderlineNav-item no-wrap js-responsive-underlinenav-item js-selected-navigation-item">
    
              <svg aria-hidden="true" height="16" viewBox="0 0 16 16" version="1.1" width="16" data-view-component="true" class="octicon octicon-shield UnderlineNav-octicon d-none d-sm-inline">
    <path d="M7.467.133a1.748 1.748 0 0 1 1.066 0l5.25 1.68A1.75 1.75 0 0 1 15 3.48V7c0 1.566-.32 3.182-1.303 4.682-.983 1.498-2.585 2.813-5.032 3.855a1.697 1.697 0 0 1-1.33 0c-2.447-1.042-4.049-2.357-5.032-3.855C1.32 10.182 1 8.566 1 7V3.48a1.75 1.75 0 0 1 1.217-1.667Zm.61 1.429a.25.25 0 0 0-.153 0l-5.25 1.68a.25.25 0 0 0-.174.238V7c0 1.358.275 2.666 1.057 3.86.784 1.194 2.121 2.34 4.366 3.297a.196.196 0 0 0 .154 0c2.245-.956 3.582-2.104 4.366-3.298C13.225 9.666 13.5 8.36 13.5 7V3.48a.251.251 0 0 0-.174-.237l-5.25-1.68ZM8.75 4.75v3a.75.75 0 0 1-1.5 0v-3a.75.75 0 0 1 1.5 0ZM9 10.5a1 1 0 1 1-2 0 1 1 0 0 1 2 0Z"></path>
</svg>
        <span data-content="Security">Security</span>
          <include-fragment src="/MarcelloLM/Redes-Neurais/security/overall-count" accept="text/fragment+html"></include-fragment>

    
</a></li>
      <li data-view-component="true" class="d-inline-flex">
  <a id="insights-tab" href="/MarcelloLM/Redes-Neurais/pulse" data-tab-item="i7insights-tab" data-selected-links="repo_graphs repo_contributors dependency_graph dependabot_updates pulse people community /MarcelloLM/Redes-Neurais/pulse" data-pjax="#repo-content-pjax-container" data-turbo-frame="repo-content-turbo-frame" data-analytics-event="{&quot;category&quot;:&quot;Underline navbar&quot;,&quot;action&quot;:&quot;Click tab&quot;,&quot;label&quot;:&quot;Insights&quot;,&quot;target&quot;:&quot;UNDERLINE_NAV.TAB&quot;}" data-view-component="true" class="UnderlineNav-item no-wrap js-responsive-underlinenav-item js-selected-navigation-item">
    
              <svg aria-hidden="true" height="16" viewBox="0 0 16 16" version="1.1" width="16" data-view-component="true" class="octicon octicon-graph UnderlineNav-octicon d-none d-sm-inline">
    <path d="M1.5 1.75V13.5h13.75a.75.75 0 0 1 0 1.5H.75a.75.75 0 0 1-.75-.75V1.75a.75.75 0 0 1 1.5 0Zm14.28 2.53-5.25 5.25a.75.75 0 0 1-1.06 0L7 7.06 4.28 9.78a.751.751 0 0 1-1.042-.018.751.751 0 0 1-.018-1.042l3.25-3.25a.75.75 0 0 1 1.06 0L10 7.94l4.72-4.72a.751.751 0 0 1 1.042.018.751.751 0 0 1 .018 1.042Z"></path>
</svg>
        <span data-content="Insights">Insights</span>
          <span id="insights-repo-tab-count" data-pjax-replace="" data-turbo-replace="" title="Not available" data-view-component="true" class="Counter"></span>


    
</a></li>
      <li data-view-component="true" class="d-inline-flex">
  <a id="settings-tab" href="/MarcelloLM/Redes-Neurais/settings" data-tab-item="i8settings-tab" data-selected-links="code_review_limits codespaces_repository_settings collaborators custom_tabs hooks integration_installations interaction_limits issue_template_editor key_links_settings notifications repo_actions_settings repo_announcements repo_branch_settings repo_keys_settings repo_pages_settings repo_rule_insights repo_rulesets repo_protected_tags_settings repo_settings reported_content repo_custom_properties repository_actions_settings_add_new_runner repository_actions_settings_general repository_actions_settings_runners repository_environments role_details secrets secrets_settings_actions secrets_settings_codespaces secrets_settings_dependabot security_analysis /MarcelloLM/Redes-Neurais/settings" data-pjax="#repo-content-pjax-container" data-turbo-frame="repo-content-turbo-frame" data-analytics-event="{&quot;category&quot;:&quot;Underline navbar&quot;,&quot;action&quot;:&quot;Click tab&quot;,&quot;label&quot;:&quot;Settings&quot;,&quot;target&quot;:&quot;UNDERLINE_NAV.TAB&quot;}" data-view-component="true" class="UnderlineNav-item no-wrap js-responsive-underlinenav-item js-selected-navigation-item">
    
              <svg aria-hidden="true" height="16" viewBox="0 0 16 16" version="1.1" width="16" data-view-component="true" class="octicon octicon-gear UnderlineNav-octicon d-none d-sm-inline">
    <path d="M8 0a8.2 8.2 0 0 1 .701.031C9.444.095 9.99.645 10.16 1.29l.288 1.107c.018.066.079.158.212.224.231.114.454.243.668.386.123.082.233.09.299.071l1.103-.303c.644-.176 1.392.021 1.82.63.27.385.506.792.704 1.218.315.675.111 1.422-.364 1.891l-.814.806c-.049.048-.098.147-.088.294.016.257.016.515 0 .772-.01.147.038.246.088.294l.814.806c.475.469.679 1.216.364 1.891a7.977 7.977 0 0 1-.704 1.217c-.428.61-1.176.807-1.82.63l-1.102-.302c-.067-.019-.177-.011-.3.071a5.909 5.909 0 0 1-.668.386c-.133.066-.194.158-.211.224l-.29 1.106c-.168.646-.715 1.196-1.458 1.26a8.006 8.006 0 0 1-1.402 0c-.743-.064-1.289-.614-1.458-1.26l-.289-1.106c-.018-.066-.079-.158-.212-.224a5.738 5.738 0 0 1-.668-.386c-.123-.082-.233-.09-.299-.071l-1.103.303c-.644.176-1.392-.021-1.82-.63a8.12 8.12 0 0 1-.704-1.218c-.315-.675-.111-1.422.363-1.891l.815-.806c.05-.048.098-.147.088-.294a6.214 6.214 0 0 1 0-.772c.01-.147-.038-.246-.088-.294l-.815-.806C.635 6.045.431 5.298.746 4.623a7.92 7.92 0 0 1 .704-1.217c.428-.61 1.176-.807 1.82-.63l1.102.302c.067.019.177.011.3-.071.214-.143.437-.272.668-.386.133-.066.194-.158.211-.224l.29-1.106C6.009.645 6.556.095 7.299.03 7.53.01 7.764 0 8 0Zm-.571 1.525c-.036.003-.108.036-.137.146l-.289 1.105c-.147.561-.549.967-.998 1.189-.173.086-.34.183-.5.29-.417.278-.97.423-1.529.27l-1.103-.303c-.109-.03-.175.016-.195.045-.22.312-.412.644-.573.99-.014.031-.021.11.059.19l.815.806c.411.406.562.957.53 1.456a4.709 4.709 0 0 0 0 .582c.032.499-.119 1.05-.53 1.456l-.815.806c-.081.08-.073.159-.059.19.162.346.353.677.573.989.02.03.085.076.195.046l1.102-.303c.56-.153 1.113-.008 1.53.27.161.107.328.204.501.29.447.222.85.629.997 1.189l.289 1.105c.029.109.101.143.137.146a6.6 6.6 0 0 0 1.142 0c.036-.003.108-.036.137-.146l.289-1.105c.147-.561.549-.967.998-1.189.173-.086.34-.183.5-.29.417-.278.97-.423 1.529-.27l1.103.303c.109.029.175-.016.195-.045.22-.313.411-.644.573-.99.014-.031.021-.11-.059-.19l-.815-.806c-.411-.406-.562-.957-.53-1.456a4.709 4.709 0 0 0 0-.582c-.032-.499.119-1.05.53-1.456l.815-.806c.081-.08.073-.159.059-.19a6.464 6.464 0 0 0-.573-.989c-.02-.03-.085-.076-.195-.046l-1.102.303c-.56.153-1.113.008-1.53-.27a4.44 4.44 0 0 0-.501-.29c-.447-.222-.85-.629-.997-1.189l-.289-1.105c-.029-.11-.101-.143-.137-.146a6.6 6.6 0 0 0-1.142 0ZM11 8a3 3 0 1 1-6 0 3 3 0 0 1 6 0ZM9.5 8a1.5 1.5 0 1 0-3.001.001A1.5 1.5 0 0 0 9.5 8Z"></path>
</svg>
        <span data-content="Settings">Settings</span>
          <span id="settings-repo-tab-count" data-pjax-replace="" data-turbo-replace="" title="Not available" data-view-component="true" class="Counter"></span>


    
</a></li>
</ul>
    <div style="visibility:hidden;" data-view-component="true" class="UnderlineNav-actions js-responsive-underlinenav-overflow position-absolute pr-3 pr-md-4 pr-lg-5 right-0">      <details data-view-component="true" class="details-overlay details-reset position-relative">
  <summary role="button" data-view-component="true">          <div class="UnderlineNav-item mr-0 border-0">
            <svg aria-hidden="true" height="16" viewBox="0 0 16 16" version="1.1" width="16" data-view-component="true" class="octicon octicon-kebab-horizontal">
    <path d="M8 9a1.5 1.5 0 1 0 0-3 1.5 1.5 0 0 0 0 3ZM1.5 9a1.5 1.5 0 1 0 0-3 1.5 1.5 0 0 0 0 3Zm13 0a1.5 1.5 0 1 0 0-3 1.5 1.5 0 0 0 0 3Z"></path>
</svg>
            <span class="sr-only">More</span>
          </div>
</summary>
  <details-menu role="menu" data-view-component="true" class="dropdown-menu dropdown-menu-sw">          <ul>
              <li data-menu-item="i0code-tab" hidden>
                <a role="menuitem" class="js-selected-navigation-item selected dropdown-item" aria-current="page" data-selected-links="repo_source repo_downloads repo_commits repo_releases repo_tags repo_branches repo_packages repo_deployments /MarcelloLM/Redes-Neurais" href="/MarcelloLM/Redes-Neurais">
                  Code
</a>              </li>
              <li data-menu-item="i1issues-tab" hidden>
                <a role="menuitem" class="js-selected-navigation-item dropdown-item" data-selected-links="repo_issues repo_labels repo_milestones /MarcelloLM/Redes-Neurais/issues" href="/MarcelloLM/Redes-Neurais/issues">
                  Issues
</a>              </li>
              <li data-menu-item="i2pull-requests-tab" hidden>
                <a role="menuitem" class="js-selected-navigation-item dropdown-item" data-selected-links="repo_pulls checks /MarcelloLM/Redes-Neurais/pulls" href="/MarcelloLM/Redes-Neurais/pulls">
                  Pull requests
</a>              </li>
              <li data-menu-item="i3actions-tab" hidden>
                <a role="menuitem" class="js-selected-navigation-item dropdown-item" data-selected-links="repo_actions /MarcelloLM/Redes-Neurais/actions" href="/MarcelloLM/Redes-Neurais/actions">
                  Actions
</a>              </li>
              <li data-menu-item="i4projects-tab" hidden>
                <a role="menuitem" class="js-selected-navigation-item dropdown-item" data-selected-links="repo_projects new_repo_project repo_project /MarcelloLM/Redes-Neurais/projects" href="/MarcelloLM/Redes-Neurais/projects">
                  Projects
</a>              </li>
              <li data-menu-item="i5wiki-tab" hidden>
                <a role="menuitem" class="js-selected-navigation-item dropdown-item" data-selected-links="repo_wiki /MarcelloLM/Redes-Neurais/wiki" href="/MarcelloLM/Redes-Neurais/wiki">
                  Wiki
</a>              </li>
              <li data-menu-item="i6security-tab" hidden>
                <a role="menuitem" class="js-selected-navigation-item dropdown-item" data-selected-links="security overview alerts policy token_scanning code_scanning /MarcelloLM/Redes-Neurais/security" href="/MarcelloLM/Redes-Neurais/security">
                  Security
</a>              </li>
              <li data-menu-item="i7insights-tab" hidden>
                <a role="menuitem" class="js-selected-navigation-item dropdown-item" data-selected-links="repo_graphs repo_contributors dependency_graph dependabot_updates pulse people community /MarcelloLM/Redes-Neurais/pulse" href="/MarcelloLM/Redes-Neurais/pulse">
                  Insights
</a>              </li>
              <li data-menu-item="i8settings-tab" hidden>
                <a role="menuitem" class="js-selected-navigation-item dropdown-item" data-selected-links="code_review_limits codespaces_repository_settings collaborators custom_tabs hooks integration_installations interaction_limits issue_template_editor key_links_settings notifications repo_actions_settings repo_announcements repo_branch_settings repo_keys_settings repo_pages_settings repo_rule_insights repo_rulesets repo_protected_tags_settings repo_settings reported_content repo_custom_properties repository_actions_settings_add_new_runner repository_actions_settings_general repository_actions_settings_runners repository_environments role_details secrets secrets_settings_actions secrets_settings_codespaces secrets_settings_dependabot security_analysis /MarcelloLM/Redes-Neurais/settings" href="/MarcelloLM/Redes-Neurais/settings">
                  Settings
</a>              </li>
          </ul>
</details-menu>
</details></div>
</nav>

  </div>

  



<turbo-frame id="repo-content-turbo-frame" target="_top" data-turbo-action="advance" class="">
    <div id="repo-content-pjax-container" class="repository-content " >
      <a href="https://github.dev/" class="d-none js-github-dev-shortcut" data-hotkey=".">Open in github.dev</a>
  <a href="https://github.dev/" class="d-none js-github-dev-new-tab-shortcut" data-hotkey="Shift+.,Shift+&gt;,&gt;" target="_blank">Open in a new github.dev tab</a>
    <a class="d-none" data-hotkey="," target="_blank" href="/codespaces/new/MarcelloLM/Redes-Neurais/tree/main?resume=1">Open in codespace</a>



    
      
    





<react-app
  app-name="react-code-view"
  initial-path="/MarcelloLM/Redes-Neurais/blob/main/Redes_Neurais.ipynb"
  style="min-height: calc(100vh - 62px)"
  data-ssr="false"
  data-lazy="false"
  data-alternate="false"
>
  
  <script type="application/json" data-target="react-app.embeddedData">{"payload":{"allShortcutsEnabled":true,"fileTree":{"":{"items":[{"name":"Redes_Neurais.ipynb","path":"Redes_Neurais.ipynb","contentType":"file"},{"name":"data.csv","path":"data.csv","contentType":"file"}],"totalCount":2}},"fileTreeProcessingTime":1.185875,"foldersToFetch":[],"reducedMotionEnabled":"system","repo":{"id":619537202,"defaultBranch":"main","name":"Redes-Neurais","ownerLogin":"MarcelloLM","currentUserCanPush":true,"isFork":false,"isEmpty":false,"createdAt":"2023-03-27T07:39:06.000-03:00","ownerAvatar":"https://avatars.githubusercontent.com/u/106484381?v=4","public":true,"private":false},"refInfo":{"name":"main","listCacheKey":"v0:1679913608.0","canEdit":true,"refType":"branch","currentOid":"095cea3b57413a8eb19f5885d91a7449713e8277"},"path":"Redes_Neurais.ipynb","currentUser":{"id":106484381,"login":"MarcelloLM","userEmail":"marcelingames007@gmail.com"},"blob":{"rawBlob":"{\n  \"nbformat\": 4,\n  \"nbformat_minor\": 0,\n  \"metadata\": {\n    \"colab\": {\n      \"provenance\": []\n    },\n    \"kernelspec\": {\n      \"name\": \"python3\",\n      \"display_name\": \"Python 3\"\n    },\n    \"language_info\": {\n      \"name\": \"python\"\n    }\n  },\n  \"cells\": [\n    {\n      \"cell_type\": \"markdown\",\n      \"source\": [\n        \"### Redes Neurais + avaliação de modelos\"\n      ],\n      \"metadata\": {\n        \"id\": \"7N4r27qEbMGT\"\n      }\n    },\n    {\n      \"cell_type\": \"code\",\n      \"execution_count\": 4,\n      \"metadata\": {\n        \"id\": \"FSwKdKFHZrZK\"\n      },\n      \"outputs\": [],\n      \"source\": [\n        \"import numpy as np\\n\",\n        \"import pandas as pd\\n\",\n        \"import matplotlib.pyplot as plt\\n\",\n        \"from keras.models import Sequential\\n\",\n        \"from keras.layers import Dense\\n\",\n        \"from sklearn.metrics import ConfusionMatrixDisplay\\n\",\n        \"from sklearn.metrics import confusion_matrix\"\n      ]\n    },\n    {\n      \"cell_type\": \"markdown\",\n      \"source\": [\n        \"Importe a base de dados \\\"data.csv\\\" já com os nomes das colunas, para isso usse a lista **\\\"column_names\\\"**\"\n      ],\n      \"metadata\": {\n        \"id\": \"SlD0BgGbcI2v\"\n      }\n    },\n    {\n      \"cell_type\": \"code\",\n      \"source\": [\n        \"\\\"\\\"\\\"\\n\",\n        \"Variables description\\n\",\n        \"\\n\",\n        \"pregnant: Number of times pregnant\\n\",\n        \"glucose: Plasma glucose concentration a 2 hours in an oral glucose tolerance test\\n\",\n        \"blood_pressure: Diastolic blood pressure (mm Hg)\\n\",\n        \"triceps: Triceps skin fold thickness (mm)\\n\",\n        \"insulin: 2-Hour serum insulin (mu U/ml)\\n\",\n        \"bmi: Body mass index (weight in kg/(height in m)^2)\\n\",\n        \"diabetes_pedigree: Diabetes pedigree function\\n\",\n        \"age: Age (years)\\n\",\n        \"is_diabetes_postive: Class variable (0 or 1)\\n\",\n        \"\\n\",\n        \"\\\"\\\"\\\"\\n\"\n      ],\n      \"metadata\": {\n        \"id\": \"WsxMnG4taBxN\",\n        \"colab\": {\n          \"base_uri\": \"https://localhost:8080/\",\n          \"height\": 70\n        },\n        \"outputId\": \"ee4f6bd4-30fa-47c2-d58d-662925acebe2\"\n      },\n      \"execution_count\": 5,\n      \"outputs\": [\n        {\n          \"output_type\": \"execute_result\",\n          \"data\": {\n            \"text/plain\": [\n              \"'\\\\nVariables description\\\\n\\\\npregnant: Number of times pregnant\\\\nglucose: Plasma glucose concentration a 2 hours in an oral glucose tolerance test\\\\nblood_pressure: Diastolic blood pressure (mm Hg)\\\\ntriceps: Triceps skin fold thickness (mm)\\\\ninsulin: 2-Hour serum insulin (mu U/ml)\\\\nbmi: Body mass index (weight in kg/(height in m)^2)\\\\ndiabetes_pedigree: Diabetes pedigree function\\\\nage: Age (years)\\\\nis_diabetes_postive: Class variable (0 or 1)\\\\n\\\\n'\"\n            ],\n            \"application/vnd.google.colaboratory.intrinsic+json\": {\n              \"type\": \"string\"\n            }\n          },\n          \"metadata\": {},\n          \"execution_count\": 5\n        }\n      ]\n    },\n    {\n      \"cell_type\": \"code\",\n      \"source\": [\n        \"column_names = [\\\"pregnant\\\", \\\"glucose\\\", \\\"blood_pressure\\\", \\\"triceps\\\", \\\"insulin\\\", \\\"bmi\\\", \\\"diabetes_pedigree\\\", \\\"age\\\", \\\"is_diabetes_postive\\\" ]\\n\",\n        \"data = pd.read_csv('data.csv', names=column_names)\"\n      ],\n      \"metadata\": {\n        \"id\": \"dAPUZvrUcdG7\"\n      },\n      \"execution_count\": 6,\n      \"outputs\": []\n    },\n    {\n      \"cell_type\": \"code\",\n      \"source\": [\n        \"data.head()\"\n      ],\n      \"metadata\": {\n        \"colab\": {\n          \"base_uri\": \"https://localhost:8080/\",\n          \"height\": 206\n        },\n        \"id\": \"aQBzSo9paFnN\",\n        \"outputId\": \"48ee9445-48e0-4194-dc67-66ad0c55ffa2\"\n      },\n      \"execution_count\": 7,\n      \"outputs\": [\n        {\n          \"output_type\": \"execute_result\",\n          \"data\": {\n            \"text/plain\": [\n              \"   pregnant  glucose  blood_pressure  triceps  insulin   bmi  \\\\\\n\",\n              \"0         6      148              72       35        0  33.6   \\n\",\n              \"1         1       85              66       29        0  26.6   \\n\",\n              \"2         8      183              64        0        0  23.3   \\n\",\n              \"3         1       89              66       23       94  28.1   \\n\",\n              \"4         0      137              40       35      168  43.1   \\n\",\n              \"\\n\",\n              \"   diabetes_pedigree  age  is_diabetes_postive  \\n\",\n              \"0              0.627   50                    1  \\n\",\n              \"1              0.351   31                    0  \\n\",\n              \"2              0.672   32                    1  \\n\",\n              \"3              0.167   21                    0  \\n\",\n              \"4              2.288   33                    1  \"\n            ],\n            \"text/html\": [\n              \"\\n\",\n              \"  \u003cdiv id=\\\"df-74728688-023a-4902-9db1-27ad4367174f\\\"\u003e\\n\",\n              \"    \u003cdiv class=\\\"colab-df-container\\\"\u003e\\n\",\n              \"      \u003cdiv\u003e\\n\",\n              \"\u003cstyle scoped\u003e\\n\",\n              \"    .dataframe tbody tr th:only-of-type {\\n\",\n              \"        vertical-align: middle;\\n\",\n              \"    }\\n\",\n              \"\\n\",\n              \"    .dataframe tbody tr th {\\n\",\n              \"        vertical-align: top;\\n\",\n              \"    }\\n\",\n              \"\\n\",\n              \"    .dataframe thead th {\\n\",\n              \"        text-align: right;\\n\",\n              \"    }\\n\",\n              \"\u003c/style\u003e\\n\",\n              \"\u003ctable border=\\\"1\\\" class=\\\"dataframe\\\"\u003e\\n\",\n              \"  \u003cthead\u003e\\n\",\n              \"    \u003ctr style=\\\"text-align: right;\\\"\u003e\\n\",\n              \"      \u003cth\u003e\u003c/th\u003e\\n\",\n              \"      \u003cth\u003epregnant\u003c/th\u003e\\n\",\n              \"      \u003cth\u003eglucose\u003c/th\u003e\\n\",\n              \"      \u003cth\u003eblood_pressure\u003c/th\u003e\\n\",\n              \"      \u003cth\u003etriceps\u003c/th\u003e\\n\",\n              \"      \u003cth\u003einsulin\u003c/th\u003e\\n\",\n              \"      \u003cth\u003ebmi\u003c/th\u003e\\n\",\n              \"      \u003cth\u003ediabetes_pedigree\u003c/th\u003e\\n\",\n              \"      \u003cth\u003eage\u003c/th\u003e\\n\",\n              \"      \u003cth\u003eis_diabetes_postive\u003c/th\u003e\\n\",\n              \"    \u003c/tr\u003e\\n\",\n              \"  \u003c/thead\u003e\\n\",\n              \"  \u003ctbody\u003e\\n\",\n              \"    \u003ctr\u003e\\n\",\n              \"      \u003cth\u003e0\u003c/th\u003e\\n\",\n              \"      \u003ctd\u003e6\u003c/td\u003e\\n\",\n              \"      \u003ctd\u003e148\u003c/td\u003e\\n\",\n              \"      \u003ctd\u003e72\u003c/td\u003e\\n\",\n              \"      \u003ctd\u003e35\u003c/td\u003e\\n\",\n              \"      \u003ctd\u003e0\u003c/td\u003e\\n\",\n              \"      \u003ctd\u003e33.6\u003c/td\u003e\\n\",\n              \"      \u003ctd\u003e0.627\u003c/td\u003e\\n\",\n              \"      \u003ctd\u003e50\u003c/td\u003e\\n\",\n              \"      \u003ctd\u003e1\u003c/td\u003e\\n\",\n              \"    \u003c/tr\u003e\\n\",\n              \"    \u003ctr\u003e\\n\",\n              \"      \u003cth\u003e1\u003c/th\u003e\\n\",\n              \"      \u003ctd\u003e1\u003c/td\u003e\\n\",\n              \"      \u003ctd\u003e85\u003c/td\u003e\\n\",\n              \"      \u003ctd\u003e66\u003c/td\u003e\\n\",\n              \"      \u003ctd\u003e29\u003c/td\u003e\\n\",\n              \"      \u003ctd\u003e0\u003c/td\u003e\\n\",\n              \"      \u003ctd\u003e26.6\u003c/td\u003e\\n\",\n              \"      \u003ctd\u003e0.351\u003c/td\u003e\\n\",\n              \"      \u003ctd\u003e31\u003c/td\u003e\\n\",\n              \"      \u003ctd\u003e0\u003c/td\u003e\\n\",\n              \"    \u003c/tr\u003e\\n\",\n              \"    \u003ctr\u003e\\n\",\n              \"      \u003cth\u003e2\u003c/th\u003e\\n\",\n              \"      \u003ctd\u003e8\u003c/td\u003e\\n\",\n              \"      \u003ctd\u003e183\u003c/td\u003e\\n\",\n              \"      \u003ctd\u003e64\u003c/td\u003e\\n\",\n              \"      \u003ctd\u003e0\u003c/td\u003e\\n\",\n              \"      \u003ctd\u003e0\u003c/td\u003e\\n\",\n              \"      \u003ctd\u003e23.3\u003c/td\u003e\\n\",\n              \"      \u003ctd\u003e0.672\u003c/td\u003e\\n\",\n              \"      \u003ctd\u003e32\u003c/td\u003e\\n\",\n              \"      \u003ctd\u003e1\u003c/td\u003e\\n\",\n              \"    \u003c/tr\u003e\\n\",\n              \"    \u003ctr\u003e\\n\",\n              \"      \u003cth\u003e3\u003c/th\u003e\\n\",\n              \"      \u003ctd\u003e1\u003c/td\u003e\\n\",\n              \"      \u003ctd\u003e89\u003c/td\u003e\\n\",\n              \"      \u003ctd\u003e66\u003c/td\u003e\\n\",\n              \"      \u003ctd\u003e23\u003c/td\u003e\\n\",\n              \"      \u003ctd\u003e94\u003c/td\u003e\\n\",\n              \"      \u003ctd\u003e28.1\u003c/td\u003e\\n\",\n              \"      \u003ctd\u003e0.167\u003c/td\u003e\\n\",\n              \"      \u003ctd\u003e21\u003c/td\u003e\\n\",\n              \"      \u003ctd\u003e0\u003c/td\u003e\\n\",\n              \"    \u003c/tr\u003e\\n\",\n              \"    \u003ctr\u003e\\n\",\n              \"      \u003cth\u003e4\u003c/th\u003e\\n\",\n              \"      \u003ctd\u003e0\u003c/td\u003e\\n\",\n              \"      \u003ctd\u003e137\u003c/td\u003e\\n\",\n              \"      \u003ctd\u003e40\u003c/td\u003e\\n\",\n              \"      \u003ctd\u003e35\u003c/td\u003e\\n\",\n              \"      \u003ctd\u003e168\u003c/td\u003e\\n\",\n              \"      \u003ctd\u003e43.1\u003c/td\u003e\\n\",\n              \"      \u003ctd\u003e2.288\u003c/td\u003e\\n\",\n              \"      \u003ctd\u003e33\u003c/td\u003e\\n\",\n              \"      \u003ctd\u003e1\u003c/td\u003e\\n\",\n              \"    \u003c/tr\u003e\\n\",\n              \"  \u003c/tbody\u003e\\n\",\n              \"\u003c/table\u003e\\n\",\n              \"\u003c/div\u003e\\n\",\n              \"      \u003cbutton class=\\\"colab-df-convert\\\" onclick=\\\"convertToInteractive('df-74728688-023a-4902-9db1-27ad4367174f')\\\"\\n\",\n              \"              title=\\\"Convert this dataframe to an interactive table.\\\"\\n\",\n              \"              style=\\\"display:none;\\\"\u003e\\n\",\n              \"        \\n\",\n              \"  \u003csvg xmlns=\\\"http://www.w3.org/2000/svg\\\" height=\\\"24px\\\"viewBox=\\\"0 0 24 24\\\"\\n\",\n              \"       width=\\\"24px\\\"\u003e\\n\",\n              \"    \u003cpath d=\\\"M0 0h24v24H0V0z\\\" fill=\\\"none\\\"/\u003e\\n\",\n              \"    \u003cpath d=\\\"M18.56 5.44l.94 2.06.94-2.06 2.06-.94-2.06-.94-.94-2.06-.94 2.06-2.06.94zm-11 1L8.5 8.5l.94-2.06 2.06-.94-2.06-.94L8.5 2.5l-.94 2.06-2.06.94zm10 10l.94 2.06.94-2.06 2.06-.94-2.06-.94-.94-2.06-.94 2.06-2.06.94z\\\"/\u003e\u003cpath d=\\\"M17.41 7.96l-1.37-1.37c-.4-.4-.92-.59-1.43-.59-.52 0-1.04.2-1.43.59L10.3 9.45l-7.72 7.72c-.78.78-.78 2.05 0 2.83L4 21.41c.39.39.9.59 1.41.59.51 0 1.02-.2 1.41-.59l7.78-7.78 2.81-2.81c.8-.78.8-2.07 0-2.86zM5.41 20L4 18.59l7.72-7.72 1.47 1.35L5.41 20z\\\"/\u003e\\n\",\n              \"  \u003c/svg\u003e\\n\",\n              \"      \u003c/button\u003e\\n\",\n              \"      \\n\",\n              \"  \u003cstyle\u003e\\n\",\n              \"    .colab-df-container {\\n\",\n              \"      display:flex;\\n\",\n              \"      flex-wrap:wrap;\\n\",\n              \"      gap: 12px;\\n\",\n              \"    }\\n\",\n              \"\\n\",\n              \"    .colab-df-convert {\\n\",\n              \"      background-color: #E8F0FE;\\n\",\n              \"      border: none;\\n\",\n              \"      border-radius: 50%;\\n\",\n              \"      cursor: pointer;\\n\",\n              \"      display: none;\\n\",\n              \"      fill: #1967D2;\\n\",\n              \"      height: 32px;\\n\",\n              \"      padding: 0 0 0 0;\\n\",\n              \"      width: 32px;\\n\",\n              \"    }\\n\",\n              \"\\n\",\n              \"    .colab-df-convert:hover {\\n\",\n              \"      background-color: #E2EBFA;\\n\",\n              \"      box-shadow: 0px 1px 2px rgba(60, 64, 67, 0.3), 0px 1px 3px 1px rgba(60, 64, 67, 0.15);\\n\",\n              \"      fill: #174EA6;\\n\",\n              \"    }\\n\",\n              \"\\n\",\n              \"    [theme=dark] .colab-df-convert {\\n\",\n              \"      background-color: #3B4455;\\n\",\n              \"      fill: #D2E3FC;\\n\",\n              \"    }\\n\",\n              \"\\n\",\n              \"    [theme=dark] .colab-df-convert:hover {\\n\",\n              \"      background-color: #434B5C;\\n\",\n              \"      box-shadow: 0px 1px 3px 1px rgba(0, 0, 0, 0.15);\\n\",\n              \"      filter: drop-shadow(0px 1px 2px rgba(0, 0, 0, 0.3));\\n\",\n              \"      fill: #FFFFFF;\\n\",\n              \"    }\\n\",\n              \"  \u003c/style\u003e\\n\",\n              \"\\n\",\n              \"      \u003cscript\u003e\\n\",\n              \"        const buttonEl =\\n\",\n              \"          document.querySelector('#df-74728688-023a-4902-9db1-27ad4367174f button.colab-df-convert');\\n\",\n              \"        buttonEl.style.display =\\n\",\n              \"          google.colab.kernel.accessAllowed ? 'block' : 'none';\\n\",\n              \"\\n\",\n              \"        async function convertToInteractive(key) {\\n\",\n              \"          const element = document.querySelector('#df-74728688-023a-4902-9db1-27ad4367174f');\\n\",\n              \"          const dataTable =\\n\",\n              \"            await google.colab.kernel.invokeFunction('convertToInteractive',\\n\",\n              \"                                                     [key], {});\\n\",\n              \"          if (!dataTable) return;\\n\",\n              \"\\n\",\n              \"          const docLinkHtml = 'Like what you see? Visit the ' +\\n\",\n              \"            '\u003ca target=\\\"_blank\\\" href=https://colab.research.google.com/notebooks/data_table.ipynb\u003edata table notebook\u003c/a\u003e'\\n\",\n              \"            + ' to learn more about interactive tables.';\\n\",\n              \"          element.innerHTML = '';\\n\",\n              \"          dataTable['output_type'] = 'display_data';\\n\",\n              \"          await google.colab.output.renderOutput(dataTable, element);\\n\",\n              \"          const docLink = document.createElement('div');\\n\",\n              \"          docLink.innerHTML = docLinkHtml;\\n\",\n              \"          element.appendChild(docLink);\\n\",\n              \"        }\\n\",\n              \"      \u003c/script\u003e\\n\",\n              \"    \u003c/div\u003e\\n\",\n              \"  \u003c/div\u003e\\n\",\n              \"  \"\n            ]\n          },\n          \"metadata\": {},\n          \"execution_count\": 7\n        }\n      ]\n    },\n    {\n      \"cell_type\": \"markdown\",\n      \"source\": [\n        \"Divida a base de dados em treino e teste, sendo 80% dos dados para treino e 20% para teste use o parametro **random_state** = 25\"\n      ],\n      \"metadata\": {\n        \"id\": \"yrb12enGczJ4\"\n      }\n    },\n    {\n      \"cell_type\": \"code\",\n      \"source\": [\n        \"train = data.sample(frac = 0.8, replace=False, random_state = 25)\\n\",\n        \"test = data.drop(train.index)\"\n      ],\n      \"metadata\": {\n        \"id\": \"3OJkgYghcwqp\"\n      },\n      \"execution_count\": 8,\n      \"outputs\": []\n    },\n    {\n      \"cell_type\": \"code\",\n      \"source\": [\n        \"X_train = train.iloc[:,0:8]\\n\",\n        \"y_train = train.iloc[:,8]\\n\",\n        \"\\n\",\n        \"X_test = test.iloc[:,0:8]\\n\",\n        \"y_test = test.iloc[:,8]\"\n      ],\n      \"metadata\": {\n        \"id\": \"lKN8_gGtda6h\"\n      },\n      \"execution_count\": 9,\n      \"outputs\": []\n    },\n    {\n      \"cell_type\": \"markdown\",\n      \"source\": [\n        \"Agora vamos criar o modelo de redes neurias. A primeira etapa já está feita, que é criar um modelo sequencial, basta só rodas a próxima célula.\"\n      ],\n      \"metadata\": {\n        \"id\": \"wNdEsyjvdYU5\"\n      }\n    },\n    {\n      \"cell_type\": \"code\",\n      \"source\": [\n        \"model = Sequential()\"\n      ],\n      \"metadata\": {\n        \"id\": \"Vmfa4djgdX1q\"\n      },\n      \"execution_count\": 10,\n      \"outputs\": []\n    },\n    {\n      \"cell_type\": \"markdown\",\n      \"source\": [\n        \"Agora vamos adicinar uma camada com 12 neurônios, cuja função de ativação é a relu. Você tambem deve especificar a dimensão de entrada.\"\n      ],\n      \"metadata\": {\n        \"id\": \"FwUBoabceXSf\"\n      }\n    },\n    {\n      \"cell_type\": \"code\",\n      \"source\": [\n        \"model.add(Dense(12, input_dim=8, activation='relu'))\"\n      ],\n      \"metadata\": {\n        \"id\": \"tV-Q9CqYeXdf\"\n      },\n      \"execution_count\": 11,\n      \"outputs\": []\n    },\n    {\n      \"cell_type\": \"markdown\",\n      \"source\": [\n        \"Adicione mais uma camada com 8 neurônios, cuja função de ativação também é relu.\"\n      ],\n      \"metadata\": {\n        \"id\": \"gYXAE5ZMewH8\"\n      }\n    },\n    {\n      \"cell_type\": \"code\",\n      \"source\": [\n        \"model.add(Dense(8, activation='relu'))\"\n      ],\n      \"metadata\": {\n        \"id\": \"Fn2ON4NfepTk\"\n      },\n      \"execution_count\": 12,\n      \"outputs\": []\n    },\n    {\n      \"cell_type\": \"markdown\",\n      \"source\": [\n        \"Por fim, adicione mais a ultima camda com apenas 1 neurônio, cuja função de ativação também é sigmoid.\"\n      ],\n      \"metadata\": {\n        \"id\": \"tNtL8ev9e72Z\"\n      }\n    },\n    {\n      \"cell_type\": \"code\",\n      \"source\": [\n        \"model.add(Dense(1, activation='sigmoid'))\"\n      ],\n      \"metadata\": {\n        \"id\": \"IJV2FLnAfEcw\"\n      },\n      \"execution_count\": 13,\n      \"outputs\": []\n    },\n    {\n      \"cell_type\": \"markdown\",\n      \"source\": [\n        \"Agora que já criamos o modelo precisamos dizer como ele será executado. Para isso vamos usar a função de perda **binary_crossentropy**, o algoritmo de otimização **adam** e queremos ver a métrica **accuracy**\"\n      ],\n      \"metadata\": {\n        \"id\": \"yo3NIUQ9fPj2\"\n      }\n    },\n    {\n      \"cell_type\": \"code\",\n      \"source\": [\n        \"model.compile(loss='binary_crossentropy', optimizer='adam', metrics=['accuracy'])\"\n      ],\n      \"metadata\": {\n        \"id\": \"B6NbnWhCfiJj\"\n      },\n      \"execution_count\": 14,\n      \"outputs\": []\n    },\n    {\n      \"cell_type\": \"markdown\",\n      \"source\": [\n        \"Agora que terminamos o modelo precisamos treina-lo! Para isso vamos utilizar o método **fit**. Passe os valores **X_train** e **y_train** (definidos acima), com 150 **epochs** e **batch_size** 10\"\n      ],\n      \"metadata\": {\n        \"id\": \"BpVfY3wUfu0p\"\n      }\n    },\n    {\n      \"cell_type\": \"code\",\n      \"source\": [\n        \"model.fit(X_train, y_train, epochs=150, batch_size=10)\"\n      ],\n      \"metadata\": {\n        \"id\": \"lSgEI7s6f11w\",\n        \"colab\": {\n          \"base_uri\": \"https://localhost:8080/\"\n        },\n        \"outputId\": \"063a1766-b12a-40ef-aac6-5a7afe389025\"\n      },\n      \"execution_count\": 15,\n      \"outputs\": [\n        {\n          \"output_type\": \"stream\",\n          \"name\": \"stdout\",\n          \"text\": [\n            \"Epoch 1/150\\n\",\n            \"62/62 [==============================] - 2s 4ms/step - loss: 9.5997 - accuracy: 0.4642\\n\",\n            \"Epoch 2/150\\n\",\n            \"62/62 [==============================] - 0s 3ms/step - loss: 2.8434 - accuracy: 0.5016\\n\",\n            \"Epoch 3/150\\n\",\n            \"62/62 [==============================] - 0s 3ms/step - loss: 2.2756 - accuracy: 0.5326\\n\",\n            \"Epoch 4/150\\n\",\n            \"62/62 [==============================] - 0s 3ms/step - loss: 1.9604 - accuracy: 0.4870\\n\",\n            \"Epoch 5/150\\n\",\n            \"62/62 [==============================] - 0s 3ms/step - loss: 1.6855 - accuracy: 0.5228\\n\",\n            \"Epoch 6/150\\n\",\n            \"62/62 [==============================] - 0s 3ms/step - loss: 1.4604 - accuracy: 0.5114\\n\",\n            \"Epoch 7/150\\n\",\n            \"62/62 [==============================] - 0s 3ms/step - loss: 1.2844 - accuracy: 0.5000\\n\",\n            \"Epoch 8/150\\n\",\n            \"62/62 [==============================] - 0s 3ms/step - loss: 1.1304 - accuracy: 0.5326\\n\",\n            \"Epoch 9/150\\n\",\n            \"62/62 [==============================] - 0s 3ms/step - loss: 0.9960 - accuracy: 0.5261\\n\",\n            \"Epoch 10/150\\n\",\n            \"62/62 [==============================] - 0s 3ms/step - loss: 0.9032 - accuracy: 0.5489\\n\",\n            \"Epoch 11/150\\n\",\n            \"62/62 [==============================] - 0s 2ms/step - loss: 0.8525 - accuracy: 0.5570\\n\",\n            \"Epoch 12/150\\n\",\n            \"62/62 [==============================] - 0s 3ms/step - loss: 0.8102 - accuracy: 0.5733\\n\",\n            \"Epoch 13/150\\n\",\n            \"62/62 [==============================] - 0s 2ms/step - loss: 0.7941 - accuracy: 0.5733\\n\",\n            \"Epoch 14/150\\n\",\n            \"62/62 [==============================] - 0s 2ms/step - loss: 0.7291 - accuracy: 0.6091\\n\",\n            \"Epoch 15/150\\n\",\n            \"62/62 [==============================] - 0s 2ms/step - loss: 0.7198 - accuracy: 0.6124\\n\",\n            \"Epoch 16/150\\n\",\n            \"62/62 [==============================] - 0s 2ms/step - loss: 0.6715 - accuracy: 0.6450\\n\",\n            \"Epoch 17/150\\n\",\n            \"62/62 [==============================] - 0s 2ms/step - loss: 0.6918 - accuracy: 0.6189\\n\",\n            \"Epoch 18/150\\n\",\n            \"62/62 [==============================] - 0s 2ms/step - loss: 0.6476 - accuracy: 0.6759\\n\",\n            \"Epoch 19/150\\n\",\n            \"62/62 [==============================] - 0s 2ms/step - loss: 0.6375 - accuracy: 0.6661\\n\",\n            \"Epoch 20/150\\n\",\n            \"62/62 [==============================] - 0s 2ms/step - loss: 0.6369 - accuracy: 0.6694\\n\",\n            \"Epoch 21/150\\n\",\n            \"62/62 [==============================] - 0s 2ms/step - loss: 0.6184 - accuracy: 0.6873\\n\",\n            \"Epoch 22/150\\n\",\n            \"62/62 [==============================] - 0s 3ms/step - loss: 0.6424 - accuracy: 0.6645\\n\",\n            \"Epoch 23/150\\n\",\n            \"62/62 [==============================] - 0s 2ms/step - loss: 0.6182 - accuracy: 0.6726\\n\",\n            \"Epoch 24/150\\n\",\n            \"62/62 [==============================] - 0s 2ms/step - loss: 0.6042 - accuracy: 0.6678\\n\",\n            \"Epoch 25/150\\n\",\n            \"62/62 [==============================] - 0s 2ms/step - loss: 0.5980 - accuracy: 0.6889\\n\",\n            \"Epoch 26/150\\n\",\n            \"62/62 [==============================] - 0s 2ms/step - loss: 0.6034 - accuracy: 0.6954\\n\",\n            \"Epoch 27/150\\n\",\n            \"62/62 [==============================] - 0s 2ms/step - loss: 0.6112 - accuracy: 0.7117\\n\",\n            \"Epoch 28/150\\n\",\n            \"62/62 [==============================] - 0s 2ms/step - loss: 0.5957 - accuracy: 0.6824\\n\",\n            \"Epoch 29/150\\n\",\n            \"62/62 [==============================] - 0s 2ms/step - loss: 0.5855 - accuracy: 0.6971\\n\",\n            \"Epoch 30/150\\n\",\n            \"62/62 [==============================] - 0s 2ms/step - loss: 0.6036 - accuracy: 0.6971\\n\",\n            \"Epoch 31/150\\n\",\n            \"62/62 [==============================] - 0s 2ms/step - loss: 0.5813 - accuracy: 0.7150\\n\",\n            \"Epoch 32/150\\n\",\n            \"62/62 [==============================] - 0s 2ms/step - loss: 0.5893 - accuracy: 0.7182\\n\",\n            \"Epoch 33/150\\n\",\n            \"62/62 [==============================] - 0s 2ms/step - loss: 0.5875 - accuracy: 0.7101\\n\",\n            \"Epoch 34/150\\n\",\n            \"62/62 [==============================] - 0s 2ms/step - loss: 0.5709 - accuracy: 0.7150\\n\",\n            \"Epoch 35/150\\n\",\n            \"62/62 [==============================] - 0s 2ms/step - loss: 0.5762 - accuracy: 0.6906\\n\",\n            \"Epoch 36/150\\n\",\n            \"62/62 [==============================] - 0s 2ms/step - loss: 0.5736 - accuracy: 0.7020\\n\",\n            \"Epoch 37/150\\n\",\n            \"62/62 [==============================] - 0s 2ms/step - loss: 0.5695 - accuracy: 0.7020\\n\",\n            \"Epoch 38/150\\n\",\n            \"62/62 [==============================] - 0s 2ms/step - loss: 0.5708 - accuracy: 0.7182\\n\",\n            \"Epoch 39/150\\n\",\n            \"62/62 [==============================] - 0s 2ms/step - loss: 0.5933 - accuracy: 0.6824\\n\",\n            \"Epoch 40/150\\n\",\n            \"62/62 [==============================] - 0s 2ms/step - loss: 0.5607 - accuracy: 0.7134\\n\",\n            \"Epoch 41/150\\n\",\n            \"62/62 [==============================] - 0s 2ms/step - loss: 0.5770 - accuracy: 0.7101\\n\",\n            \"Epoch 42/150\\n\",\n            \"62/62 [==============================] - 0s 2ms/step - loss: 0.5799 - accuracy: 0.7020\\n\",\n            \"Epoch 43/150\\n\",\n            \"62/62 [==============================] - 0s 2ms/step - loss: 0.5892 - accuracy: 0.7020\\n\",\n            \"Epoch 44/150\\n\",\n            \"62/62 [==============================] - 0s 2ms/step - loss: 0.5928 - accuracy: 0.7020\\n\",\n            \"Epoch 45/150\\n\",\n            \"62/62 [==============================] - 0s 2ms/step - loss: 0.5658 - accuracy: 0.7345\\n\",\n            \"Epoch 46/150\\n\",\n            \"62/62 [==============================] - 0s 2ms/step - loss: 0.5702 - accuracy: 0.7150\\n\",\n            \"Epoch 47/150\\n\",\n            \"62/62 [==============================] - 0s 2ms/step - loss: 0.5628 - accuracy: 0.7231\\n\",\n            \"Epoch 48/150\\n\",\n            \"62/62 [==============================] - 0s 2ms/step - loss: 0.5589 - accuracy: 0.7166\\n\",\n            \"Epoch 49/150\\n\",\n            \"62/62 [==============================] - 0s 2ms/step - loss: 0.5490 - accuracy: 0.7280\\n\",\n            \"Epoch 50/150\\n\",\n            \"62/62 [==============================] - 0s 2ms/step - loss: 0.5614 - accuracy: 0.7166\\n\",\n            \"Epoch 51/150\\n\",\n            \"62/62 [==============================] - 0s 2ms/step - loss: 0.5580 - accuracy: 0.7296\\n\",\n            \"Epoch 52/150\\n\",\n            \"62/62 [==============================] - 0s 2ms/step - loss: 0.5652 - accuracy: 0.7280\\n\",\n            \"Epoch 53/150\\n\",\n            \"62/62 [==============================] - 0s 2ms/step - loss: 0.5470 - accuracy: 0.7264\\n\",\n            \"Epoch 54/150\\n\",\n            \"62/62 [==============================] - 0s 2ms/step - loss: 0.5488 - accuracy: 0.7231\\n\",\n            \"Epoch 55/150\\n\",\n            \"62/62 [==============================] - 0s 2ms/step - loss: 0.5434 - accuracy: 0.7394\\n\",\n            \"Epoch 56/150\\n\",\n            \"62/62 [==============================] - 0s 2ms/step - loss: 0.5341 - accuracy: 0.7199\\n\",\n            \"Epoch 57/150\\n\",\n            \"62/62 [==============================] - 0s 2ms/step - loss: 0.5450 - accuracy: 0.7231\\n\",\n            \"Epoch 58/150\\n\",\n            \"62/62 [==============================] - 0s 2ms/step - loss: 0.5568 - accuracy: 0.7280\\n\",\n            \"Epoch 59/150\\n\",\n            \"62/62 [==============================] - 0s 2ms/step - loss: 0.5629 - accuracy: 0.7101\\n\",\n            \"Epoch 60/150\\n\",\n            \"62/62 [==============================] - 0s 2ms/step - loss: 0.5510 - accuracy: 0.7345\\n\",\n            \"Epoch 61/150\\n\",\n            \"62/62 [==============================] - 0s 2ms/step - loss: 0.5410 - accuracy: 0.7345\\n\",\n            \"Epoch 62/150\\n\",\n            \"62/62 [==============================] - 0s 2ms/step - loss: 0.5352 - accuracy: 0.7410\\n\",\n            \"Epoch 63/150\\n\",\n            \"62/62 [==============================] - 0s 2ms/step - loss: 0.5497 - accuracy: 0.7248\\n\",\n            \"Epoch 64/150\\n\",\n            \"62/62 [==============================] - 0s 2ms/step - loss: 0.5486 - accuracy: 0.7345\\n\",\n            \"Epoch 65/150\\n\",\n            \"62/62 [==============================] - 0s 2ms/step - loss: 0.5213 - accuracy: 0.7394\\n\",\n            \"Epoch 66/150\\n\",\n            \"62/62 [==============================] - 0s 2ms/step - loss: 0.5695 - accuracy: 0.7052\\n\",\n            \"Epoch 67/150\\n\",\n            \"62/62 [==============================] - 0s 2ms/step - loss: 0.5322 - accuracy: 0.7524\\n\",\n            \"Epoch 68/150\\n\",\n            \"62/62 [==============================] - 0s 2ms/step - loss: 0.5417 - accuracy: 0.7215\\n\",\n            \"Epoch 69/150\\n\",\n            \"62/62 [==============================] - 0s 2ms/step - loss: 0.5238 - accuracy: 0.7443\\n\",\n            \"Epoch 70/150\\n\",\n            \"62/62 [==============================] - 0s 2ms/step - loss: 0.5414 - accuracy: 0.7329\\n\",\n            \"Epoch 71/150\\n\",\n            \"62/62 [==============================] - 0s 2ms/step - loss: 0.5361 - accuracy: 0.7459\\n\",\n            \"Epoch 72/150\\n\",\n            \"62/62 [==============================] - 0s 2ms/step - loss: 0.5166 - accuracy: 0.7427\\n\",\n            \"Epoch 73/150\\n\",\n            \"62/62 [==============================] - 0s 2ms/step - loss: 0.5261 - accuracy: 0.7410\\n\",\n            \"Epoch 74/150\\n\",\n            \"62/62 [==============================] - 0s 2ms/step - loss: 0.5448 - accuracy: 0.7296\\n\",\n            \"Epoch 75/150\\n\",\n            \"62/62 [==============================] - 0s 2ms/step - loss: 0.5249 - accuracy: 0.7313\\n\",\n            \"Epoch 76/150\\n\",\n            \"62/62 [==============================] - 0s 2ms/step - loss: 0.5587 - accuracy: 0.7199\\n\",\n            \"Epoch 77/150\\n\",\n            \"62/62 [==============================] - 0s 2ms/step - loss: 0.5359 - accuracy: 0.7378\\n\",\n            \"Epoch 78/150\\n\",\n            \"62/62 [==============================] - 0s 2ms/step - loss: 0.5289 - accuracy: 0.7362\\n\",\n            \"Epoch 79/150\\n\",\n            \"62/62 [==============================] - 0s 2ms/step - loss: 0.5417 - accuracy: 0.7329\\n\",\n            \"Epoch 80/150\\n\",\n            \"62/62 [==============================] - 0s 2ms/step - loss: 0.5313 - accuracy: 0.7329\\n\",\n            \"Epoch 81/150\\n\",\n            \"62/62 [==============================] - 0s 3ms/step - loss: 0.5476 - accuracy: 0.7231\\n\",\n            \"Epoch 82/150\\n\",\n            \"62/62 [==============================] - 0s 3ms/step - loss: 0.5187 - accuracy: 0.7329\\n\",\n            \"Epoch 83/150\\n\",\n            \"62/62 [==============================] - 0s 3ms/step - loss: 0.5281 - accuracy: 0.7313\\n\",\n            \"Epoch 84/150\\n\",\n            \"62/62 [==============================] - 0s 3ms/step - loss: 0.5192 - accuracy: 0.7476\\n\",\n            \"Epoch 85/150\\n\",\n            \"62/62 [==============================] - 0s 3ms/step - loss: 0.5162 - accuracy: 0.7492\\n\",\n            \"Epoch 86/150\\n\",\n            \"62/62 [==============================] - 0s 3ms/step - loss: 0.5205 - accuracy: 0.7362\\n\",\n            \"Epoch 87/150\\n\",\n            \"62/62 [==============================] - 0s 3ms/step - loss: 0.5542 - accuracy: 0.7199\\n\",\n            \"Epoch 88/150\\n\",\n            \"62/62 [==============================] - 0s 3ms/step - loss: 0.5107 - accuracy: 0.7459\\n\",\n            \"Epoch 89/150\\n\",\n            \"62/62 [==============================] - 0s 3ms/step - loss: 0.5435 - accuracy: 0.7313\\n\",\n            \"Epoch 90/150\\n\",\n            \"62/62 [==============================] - 0s 3ms/step - loss: 0.5655 - accuracy: 0.7052\\n\",\n            \"Epoch 91/150\\n\",\n            \"62/62 [==============================] - 0s 3ms/step - loss: 0.5485 - accuracy: 0.7068\\n\",\n            \"Epoch 92/150\\n\",\n            \"62/62 [==============================] - 0s 3ms/step - loss: 0.5202 - accuracy: 0.7459\\n\",\n            \"Epoch 93/150\\n\",\n            \"62/62 [==============================] - 0s 3ms/step - loss: 0.5267 - accuracy: 0.7443\\n\",\n            \"Epoch 94/150\\n\",\n            \"62/62 [==============================] - 0s 6ms/step - loss: 0.5287 - accuracy: 0.7410\\n\",\n            \"Epoch 95/150\\n\",\n            \"62/62 [==============================] - 0s 8ms/step - loss: 0.5763 - accuracy: 0.7150\\n\",\n            \"Epoch 96/150\\n\",\n            \"62/62 [==============================] - 0s 5ms/step - loss: 0.5134 - accuracy: 0.7248\\n\",\n            \"Epoch 97/150\\n\",\n            \"62/62 [==============================] - 0s 4ms/step - loss: 0.5049 - accuracy: 0.7557\\n\",\n            \"Epoch 98/150\\n\",\n            \"62/62 [==============================] - 0s 4ms/step - loss: 0.5091 - accuracy: 0.7671\\n\",\n            \"Epoch 99/150\\n\",\n            \"62/62 [==============================] - 0s 5ms/step - loss: 0.5174 - accuracy: 0.7508\\n\",\n            \"Epoch 100/150\\n\",\n            \"62/62 [==============================] - 0s 4ms/step - loss: 0.5485 - accuracy: 0.7345\\n\",\n            \"Epoch 101/150\\n\",\n            \"62/62 [==============================] - 0s 4ms/step - loss: 0.5518 - accuracy: 0.7215\\n\",\n            \"Epoch 102/150\\n\",\n            \"62/62 [==============================] - 0s 5ms/step - loss: 0.5184 - accuracy: 0.7476\\n\",\n            \"Epoch 103/150\\n\",\n            \"62/62 [==============================] - 0s 7ms/step - loss: 0.5072 - accuracy: 0.7638\\n\",\n            \"Epoch 104/150\\n\",\n            \"62/62 [==============================] - 0s 6ms/step - loss: 0.5112 - accuracy: 0.7410\\n\",\n            \"Epoch 105/150\\n\",\n            \"62/62 [==============================] - 0s 6ms/step - loss: 0.5277 - accuracy: 0.7427\\n\",\n            \"Epoch 106/150\\n\",\n            \"62/62 [==============================] - 0s 4ms/step - loss: 0.5061 - accuracy: 0.7655\\n\",\n            \"Epoch 107/150\\n\",\n            \"62/62 [==============================] - 0s 4ms/step - loss: 0.5048 - accuracy: 0.7492\\n\",\n            \"Epoch 108/150\\n\",\n            \"62/62 [==============================] - 0s 3ms/step - loss: 0.4974 - accuracy: 0.7622\\n\",\n            \"Epoch 109/150\\n\",\n            \"62/62 [==============================] - 0s 3ms/step - loss: 0.5153 - accuracy: 0.7394\\n\",\n            \"Epoch 110/150\\n\",\n            \"62/62 [==============================] - 0s 4ms/step - loss: 0.5146 - accuracy: 0.7508\\n\",\n            \"Epoch 111/150\\n\",\n            \"62/62 [==============================] - 0s 4ms/step - loss: 0.5022 - accuracy: 0.7606\\n\",\n            \"Epoch 112/150\\n\",\n            \"62/62 [==============================] - 0s 5ms/step - loss: 0.5113 - accuracy: 0.7345\\n\",\n            \"Epoch 113/150\\n\",\n            \"62/62 [==============================] - 0s 5ms/step - loss: 0.5217 - accuracy: 0.7362\\n\",\n            \"Epoch 114/150\\n\",\n            \"62/62 [==============================] - 0s 4ms/step - loss: 0.4993 - accuracy: 0.7590\\n\",\n            \"Epoch 115/150\\n\",\n            \"62/62 [==============================] - 0s 4ms/step - loss: 0.5522 - accuracy: 0.7085\\n\",\n            \"Epoch 116/150\\n\",\n            \"62/62 [==============================] - 0s 4ms/step - loss: 0.4961 - accuracy: 0.7541\\n\",\n            \"Epoch 117/150\\n\",\n            \"62/62 [==============================] - 0s 4ms/step - loss: 0.4982 - accuracy: 0.7573\\n\",\n            \"Epoch 118/150\\n\",\n            \"62/62 [==============================] - 0s 4ms/step - loss: 0.5239 - accuracy: 0.7248\\n\",\n            \"Epoch 119/150\\n\",\n            \"62/62 [==============================] - 0s 5ms/step - loss: 0.4927 - accuracy: 0.7573\\n\",\n            \"Epoch 120/150\\n\",\n            \"62/62 [==============================] - 0s 4ms/step - loss: 0.4975 - accuracy: 0.7687\\n\",\n            \"Epoch 121/150\\n\",\n            \"62/62 [==============================] - 0s 4ms/step - loss: 0.5264 - accuracy: 0.7394\\n\",\n            \"Epoch 122/150\\n\",\n            \"62/62 [==============================] - 0s 4ms/step - loss: 0.5105 - accuracy: 0.7492\\n\",\n            \"Epoch 123/150\\n\",\n            \"62/62 [==============================] - 0s 5ms/step - loss: 0.5049 - accuracy: 0.7541\\n\",\n            \"Epoch 124/150\\n\",\n            \"62/62 [==============================] - 0s 6ms/step - loss: 0.4864 - accuracy: 0.7720\\n\",\n            \"Epoch 125/150\\n\",\n            \"62/62 [==============================] - 0s 4ms/step - loss: 0.4974 - accuracy: 0.7573\\n\",\n            \"Epoch 126/150\\n\",\n            \"62/62 [==============================] - 0s 8ms/step - loss: 0.4915 - accuracy: 0.7687\\n\",\n            \"Epoch 127/150\\n\",\n            \"62/62 [==============================] - 0s 5ms/step - loss: 0.5112 - accuracy: 0.7606\\n\",\n            \"Epoch 128/150\\n\",\n            \"62/62 [==============================] - 0s 5ms/step - loss: 0.5024 - accuracy: 0.7492\\n\",\n            \"Epoch 129/150\\n\",\n            \"62/62 [==============================] - 0s 7ms/step - loss: 0.5126 - accuracy: 0.7410\\n\",\n            \"Epoch 130/150\\n\",\n            \"62/62 [==============================] - 1s 10ms/step - loss: 0.4938 - accuracy: 0.7606\\n\",\n            \"Epoch 131/150\\n\",\n            \"62/62 [==============================] - 0s 8ms/step - loss: 0.4938 - accuracy: 0.7573\\n\",\n            \"Epoch 132/150\\n\",\n            \"62/62 [==============================] - 1s 8ms/step - loss: 0.5077 - accuracy: 0.7492\\n\",\n            \"Epoch 133/150\\n\",\n            \"62/62 [==============================] - 0s 8ms/step - loss: 0.5111 - accuracy: 0.7590\\n\",\n            \"Epoch 134/150\\n\",\n            \"62/62 [==============================] - 0s 8ms/step - loss: 0.4927 - accuracy: 0.7622\\n\",\n            \"Epoch 135/150\\n\",\n            \"62/62 [==============================] - 1s 8ms/step - loss: 0.4965 - accuracy: 0.7720\\n\",\n            \"Epoch 136/150\\n\",\n            \"62/62 [==============================] - 0s 3ms/step - loss: 0.5034 - accuracy: 0.7655\\n\",\n            \"Epoch 137/150\\n\",\n            \"62/62 [==============================] - 0s 4ms/step - loss: 0.4860 - accuracy: 0.7590\\n\",\n            \"Epoch 138/150\\n\",\n            \"62/62 [==============================] - 0s 4ms/step - loss: 0.5228 - accuracy: 0.7638\\n\",\n            \"Epoch 139/150\\n\",\n            \"62/62 [==============================] - 0s 3ms/step - loss: 0.4805 - accuracy: 0.7720\\n\",\n            \"Epoch 140/150\\n\",\n            \"62/62 [==============================] - 0s 5ms/step - loss: 0.5231 - accuracy: 0.7459\\n\",\n            \"Epoch 141/150\\n\",\n            \"62/62 [==============================] - 0s 7ms/step - loss: 0.4992 - accuracy: 0.7655\\n\",\n            \"Epoch 142/150\\n\",\n            \"62/62 [==============================] - 0s 2ms/step - loss: 0.4999 - accuracy: 0.7671\\n\",\n            \"Epoch 143/150\\n\",\n            \"62/62 [==============================] - 0s 2ms/step - loss: 0.4984 - accuracy: 0.7606\\n\",\n            \"Epoch 144/150\\n\",\n            \"62/62 [==============================] - 0s 2ms/step - loss: 0.4940 - accuracy: 0.7704\\n\",\n            \"Epoch 145/150\\n\",\n            \"62/62 [==============================] - 0s 2ms/step - loss: 0.5076 - accuracy: 0.7541\\n\",\n            \"Epoch 146/150\\n\",\n            \"62/62 [==============================] - 0s 2ms/step - loss: 0.4940 - accuracy: 0.7720\\n\",\n            \"Epoch 147/150\\n\",\n            \"62/62 [==============================] - 0s 2ms/step - loss: 0.4885 - accuracy: 0.7671\\n\",\n            \"Epoch 148/150\\n\",\n            \"62/62 [==============================] - 0s 2ms/step - loss: 0.4865 - accuracy: 0.7655\\n\",\n            \"Epoch 149/150\\n\",\n            \"62/62 [==============================] - 0s 2ms/step - loss: 0.4919 - accuracy: 0.7541\\n\",\n            \"Epoch 150/150\\n\",\n            \"62/62 [==============================] - 0s 2ms/step - loss: 0.5000 - accuracy: 0.7606\\n\"\n          ]\n        },\n        {\n          \"output_type\": \"execute_result\",\n          \"data\": {\n            \"text/plain\": [\n              \"\u003ckeras.callbacks.History at 0x7fa9b9f97340\u003e\"\n            ]\n          },\n          \"metadata\": {},\n          \"execution_count\": 15\n        }\n      ]\n    },\n    {\n      \"cell_type\": \"markdown\",\n      \"source\": [\n        \"Agora vamos avaliar os resultados dessa primeira tentantiva. Utilize **X_test** para prever os valores de **y_pred**\"\n      ],\n      \"metadata\": {\n        \"id\": \"PDOtUQ7LgdMT\"\n      }\n    },\n    {\n      \"cell_type\": \"code\",\n      \"source\": [\n        \"y_pred = model.predict(X_test)\"\n      ],\n      \"metadata\": {\n        \"id\": \"k_gD1n_JhhEE\",\n        \"colab\": {\n          \"base_uri\": \"https://localhost:8080/\"\n        },\n        \"outputId\": \"4860f154-f76f-4213-9f24-d889643c90fd\"\n      },\n      \"execution_count\": 16,\n      \"outputs\": [\n        {\n          \"output_type\": \"stream\",\n          \"name\": \"stdout\",\n          \"text\": [\n            \"5/5 [==============================] - 0s 3ms/step\\n\"\n          ]\n        }\n      ]\n    },\n    {\n      \"cell_type\": \"markdown\",\n      \"source\": [\n        \"Como usamos a funcao sigmod na ultima camada a rede neural preve a probabilidade do paciente ter diabetes, mas para avaliacao preciamos apenas da previsão 1 se o paciente tiver diabetes 0 se não for. Vamos definir o corte de como 50%. Ou seja o modelo prever que o paciente tem mais de 50% de chance de ter diabes, ele irá prever 1, zero caso contrário.\"\n      ],\n      \"metadata\": {\n        \"id\": \"nCU0QP9XjIqV\"\n      }\n    },\n    {\n      \"cell_type\": \"code\",\n      \"source\": [\n        \"corte = 0.5\"\n      ],\n      \"metadata\": {\n        \"id\": \"n1J9iKOLjkfh\"\n      },\n      \"execution_count\": 17,\n      \"outputs\": []\n    },\n    {\n      \"cell_type\": \"code\",\n      \"source\": [\n        \"y_pred = [1 if i \u003ecorte else 0 for i in y_pred]\"\n      ],\n      \"metadata\": {\n        \"id\": \"Bb8v27xXi0Vv\"\n      },\n      \"execution_count\": 18,\n      \"outputs\": []\n    },\n    {\n      \"cell_type\": \"markdown\",\n      \"source\": [\n        \"Agora basta apenas rodar a matriz de confusão para ver avaliar os resultados.\"\n      ],\n      \"metadata\": {\n        \"id\": \"vSvBDzNsjwUX\"\n      }\n    },\n    {\n      \"cell_type\": \"code\",\n      \"source\": [\n        \"cm = confusion_matrix(y_test, y_pred)\\n\",\n        \"labels = [\\\"non-diabetic\\\", \\\"diabetic\\\"]\\n\",\n        \"disp = ConfusionMatrixDisplay(confusion_matrix=cm, display_labels=labels)\\n\",\n        \"\\n\",\n        \"disp.plot(cmap=plt.cm.Blues)\\n\",\n        \"plt.show()\"\n      ],\n      \"metadata\": {\n        \"colab\": {\n          \"base_uri\": \"https://localhost:8080/\",\n          \"height\": 280\n        },\n        \"id\": \"e5uC5Io5hBL8\",\n        \"outputId\": \"98a3db2d-dfd2-4cf1-f521-2e997414d94f\"\n      },\n      \"execution_count\": 19,\n      \"outputs\": [\n        {\n          \"output_type\": \"display_data\",\n          \"data\": {\n            \"text/plain\": [\n              \"\u003cFigure size 432x288 with 2 Axes\u003e\"\n            ],\n            \"image/png\": \"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\\n\"\n          },\n          \"metadata\": {\n            \"needs_background\": \"light\"\n          }\n        }\n      ]\n    },\n    {\n      \"cell_type\": \"markdown\",\n      \"source\": [\n        \"Agora crie um novo modelo de redes neurais com uma **camada a mais com 20 neurônios** e construa outra matriz de confunsão.\"\n      ],\n      \"metadata\": {\n        \"id\": \"r2hdGpZ0kb5_\"\n      }\n    },\n    {\n      \"cell_type\": \"code\",\n      \"source\": [\n        \"model2 = Sequential()\\n\",\n        \"model2.add(Dense(12, input_dim=8, activation='relu'))\\n\",\n        \"model2.add(Dense(8, activation='relu'))\\n\",\n        \"model2.add(Dense(20, activation='relu'))\\n\",\n        \"model2.add(Dense(1, activation='sigmoid'))\"\n      ],\n      \"metadata\": {\n        \"id\": \"4zqrFMnokwVF\"\n      },\n      \"execution_count\": 20,\n      \"outputs\": []\n    },\n    {\n      \"cell_type\": \"code\",\n      \"source\": [\n        \"model2.compile(loss='binary_crossentropy', optimizer='adam', metrics=['accuracy'])\"\n      ],\n      \"metadata\": {\n        \"id\": \"M4qqR_jEzyBn\"\n      },\n      \"execution_count\": 21,\n      \"outputs\": []\n    },\n    {\n      \"cell_type\": \"code\",\n      \"source\": [\n        \"model2.fit(X_train, y_train, epochs=150, batch_size=10)\"\n      ],\n      \"metadata\": {\n        \"id\": \"XTPv1e2m0uo8\",\n        \"colab\": {\n          \"base_uri\": \"https://localhost:8080/\"\n        },\n        \"outputId\": \"d1c1e8ae-f454-4937-f0bc-3262279621f2\"\n      },\n      \"execution_count\": 22,\n      \"outputs\": [\n        {\n          \"output_type\": \"stream\",\n          \"name\": \"stdout\",\n          \"text\": [\n            \"Epoch 1/150\\n\",\n            \"62/62 [==============================] - 1s 2ms/step - loss: 0.8870 - accuracy: 0.5537\\n\",\n            \"Epoch 2/150\\n\",\n            \"62/62 [==============================] - 0s 2ms/step - loss: 0.7265 - accuracy: 0.6173\\n\",\n            \"Epoch 3/150\\n\",\n            \"62/62 [==============================] - 0s 2ms/step - loss: 0.6662 - accuracy: 0.6531\\n\",\n            \"Epoch 4/150\\n\",\n            \"62/62 [==============================] - 0s 2ms/step - loss: 0.6597 - accuracy: 0.6678\\n\",\n            \"Epoch 5/150\\n\",\n            \"62/62 [==============================] - 0s 2ms/step - loss: 0.6420 - accuracy: 0.6678\\n\",\n            \"Epoch 6/150\\n\",\n            \"62/62 [==============================] - 0s 2ms/step - loss: 0.6518 - accuracy: 0.6384\\n\",\n            \"Epoch 7/150\\n\",\n            \"62/62 [==============================] - 0s 2ms/step - loss: 0.6466 - accuracy: 0.6661\\n\",\n            \"Epoch 8/150\\n\",\n            \"62/62 [==============================] - 0s 3ms/step - loss: 0.6295 - accuracy: 0.6792\\n\",\n            \"Epoch 9/150\\n\",\n            \"62/62 [==============================] - 0s 2ms/step - loss: 0.6322 - accuracy: 0.6515\\n\",\n            \"Epoch 10/150\\n\",\n            \"62/62 [==============================] - 0s 2ms/step - loss: 0.6535 - accuracy: 0.6564\\n\",\n            \"Epoch 11/150\\n\",\n            \"62/62 [==============================] - 0s 2ms/step - loss: 0.6178 - accuracy: 0.6889\\n\",\n            \"Epoch 12/150\\n\",\n            \"62/62 [==============================] - 0s 2ms/step - loss: 0.6262 - accuracy: 0.6743\\n\",\n            \"Epoch 13/150\\n\",\n            \"62/62 [==============================] - 0s 2ms/step - loss: 0.6122 - accuracy: 0.6906\\n\",\n            \"Epoch 14/150\\n\",\n            \"62/62 [==============================] - 0s 2ms/step - loss: 0.6083 - accuracy: 0.6987\\n\",\n            \"Epoch 15/150\\n\",\n            \"62/62 [==============================] - 0s 2ms/step - loss: 0.6123 - accuracy: 0.6775\\n\",\n            \"Epoch 16/150\\n\",\n            \"62/62 [==============================] - 0s 2ms/step - loss: 0.6003 - accuracy: 0.7036\\n\",\n            \"Epoch 17/150\\n\",\n            \"62/62 [==============================] - 0s 2ms/step - loss: 0.5963 - accuracy: 0.7003\\n\",\n            \"Epoch 18/150\\n\",\n            \"62/62 [==============================] - 0s 2ms/step - loss: 0.5965 - accuracy: 0.7036\\n\",\n            \"Epoch 19/150\\n\",\n            \"62/62 [==============================] - 0s 2ms/step - loss: 0.5974 - accuracy: 0.6808\\n\",\n            \"Epoch 20/150\\n\",\n            \"62/62 [==============================] - 0s 3ms/step - loss: 0.5886 - accuracy: 0.7052\\n\",\n            \"Epoch 21/150\\n\",\n            \"62/62 [==============================] - 0s 2ms/step - loss: 0.6005 - accuracy: 0.7052\\n\",\n            \"Epoch 22/150\\n\",\n            \"62/62 [==============================] - 0s 3ms/step - loss: 0.5870 - accuracy: 0.7036\\n\",\n            \"Epoch 23/150\\n\",\n            \"62/62 [==============================] - 0s 2ms/step - loss: 0.5800 - accuracy: 0.7068\\n\",\n            \"Epoch 24/150\\n\",\n            \"62/62 [==============================] - 0s 2ms/step - loss: 0.5826 - accuracy: 0.7134\\n\",\n            \"Epoch 25/150\\n\",\n            \"62/62 [==============================] - 0s 2ms/step - loss: 0.5728 - accuracy: 0.7215\\n\",\n            \"Epoch 26/150\\n\",\n            \"62/62 [==============================] - 0s 2ms/step - loss: 0.5767 - accuracy: 0.7280\\n\",\n            \"Epoch 27/150\\n\",\n            \"62/62 [==============================] - 0s 2ms/step - loss: 0.5586 - accuracy: 0.7329\\n\",\n            \"Epoch 28/150\\n\",\n            \"62/62 [==============================] - 0s 2ms/step - loss: 0.5657 - accuracy: 0.7264\\n\",\n            \"Epoch 29/150\\n\",\n            \"62/62 [==============================] - 0s 2ms/step - loss: 0.5593 - accuracy: 0.7231\\n\",\n            \"Epoch 30/150\\n\",\n            \"62/62 [==============================] - 0s 2ms/step - loss: 0.5629 - accuracy: 0.7248\\n\",\n            \"Epoch 31/150\\n\",\n            \"62/62 [==============================] - 0s 2ms/step - loss: 0.5634 - accuracy: 0.7459\\n\",\n            \"Epoch 32/150\\n\",\n            \"62/62 [==============================] - 0s 2ms/step - loss: 0.5630 - accuracy: 0.7329\\n\",\n            \"Epoch 33/150\\n\",\n            \"62/62 [==============================] - 0s 2ms/step - loss: 0.5567 - accuracy: 0.7280\\n\",\n            \"Epoch 34/150\\n\",\n            \"62/62 [==============================] - 0s 2ms/step - loss: 0.5766 - accuracy: 0.7117\\n\",\n            \"Epoch 35/150\\n\",\n            \"62/62 [==============================] - 0s 2ms/step - loss: 0.5619 - accuracy: 0.7378\\n\",\n            \"Epoch 36/150\\n\",\n            \"62/62 [==============================] - 0s 3ms/step - loss: 0.5505 - accuracy: 0.7427\\n\",\n            \"Epoch 37/150\\n\",\n            \"62/62 [==============================] - 0s 3ms/step - loss: 0.5455 - accuracy: 0.7459\\n\",\n            \"Epoch 38/150\\n\",\n            \"62/62 [==============================] - 0s 2ms/step - loss: 0.5439 - accuracy: 0.7313\\n\",\n            \"Epoch 39/150\\n\",\n            \"62/62 [==============================] - 0s 2ms/step - loss: 0.5439 - accuracy: 0.7443\\n\",\n            \"Epoch 40/150\\n\",\n            \"62/62 [==============================] - 0s 2ms/step - loss: 0.5419 - accuracy: 0.7296\\n\",\n            \"Epoch 41/150\\n\",\n            \"62/62 [==============================] - 0s 2ms/step - loss: 0.5408 - accuracy: 0.7329\\n\",\n            \"Epoch 42/150\\n\",\n            \"62/62 [==============================] - 0s 2ms/step - loss: 0.5407 - accuracy: 0.7248\\n\",\n            \"Epoch 43/150\\n\",\n            \"62/62 [==============================] - 0s 2ms/step - loss: 0.5612 - accuracy: 0.7394\\n\",\n            \"Epoch 44/150\\n\",\n            \"62/62 [==============================] - 0s 2ms/step - loss: 0.5580 - accuracy: 0.7134\\n\",\n            \"Epoch 45/150\\n\",\n            \"62/62 [==============================] - 0s 2ms/step - loss: 0.5357 - accuracy: 0.7313\\n\",\n            \"Epoch 46/150\\n\",\n            \"62/62 [==============================] - 0s 2ms/step - loss: 0.5412 - accuracy: 0.7378\\n\",\n            \"Epoch 47/150\\n\",\n            \"62/62 [==============================] - 0s 2ms/step - loss: 0.5305 - accuracy: 0.7410\\n\",\n            \"Epoch 48/150\\n\",\n            \"62/62 [==============================] - 0s 2ms/step - loss: 0.5284 - accuracy: 0.7443\\n\",\n            \"Epoch 49/150\\n\",\n            \"62/62 [==============================] - 0s 2ms/step - loss: 0.5380 - accuracy: 0.7443\\n\",\n            \"Epoch 50/150\\n\",\n            \"62/62 [==============================] - 0s 2ms/step - loss: 0.5296 - accuracy: 0.7378\\n\",\n            \"Epoch 51/150\\n\",\n            \"62/62 [==============================] - 0s 2ms/step - loss: 0.5354 - accuracy: 0.7394\\n\",\n            \"Epoch 52/150\\n\",\n            \"62/62 [==============================] - 0s 2ms/step - loss: 0.5240 - accuracy: 0.7557\\n\",\n            \"Epoch 53/150\\n\",\n            \"62/62 [==============================] - 0s 2ms/step - loss: 0.5335 - accuracy: 0.7215\\n\",\n            \"Epoch 54/150\\n\",\n            \"62/62 [==============================] - 0s 2ms/step - loss: 0.5301 - accuracy: 0.7296\\n\",\n            \"Epoch 55/150\\n\",\n            \"62/62 [==============================] - 0s 2ms/step - loss: 0.5342 - accuracy: 0.7362\\n\",\n            \"Epoch 56/150\\n\",\n            \"62/62 [==============================] - 0s 3ms/step - loss: 0.5212 - accuracy: 0.7443\\n\",\n            \"Epoch 57/150\\n\",\n            \"62/62 [==============================] - 0s 4ms/step - loss: 0.5164 - accuracy: 0.7378\\n\",\n            \"Epoch 58/150\\n\",\n            \"62/62 [==============================] - 0s 3ms/step - loss: 0.5503 - accuracy: 0.7264\\n\",\n            \"Epoch 59/150\\n\",\n            \"62/62 [==============================] - 0s 3ms/step - loss: 0.5158 - accuracy: 0.7427\\n\",\n            \"Epoch 60/150\\n\",\n            \"62/62 [==============================] - 0s 3ms/step - loss: 0.5143 - accuracy: 0.7508\\n\",\n            \"Epoch 61/150\\n\",\n            \"62/62 [==============================] - 0s 4ms/step - loss: 0.5156 - accuracy: 0.7427\\n\",\n            \"Epoch 62/150\\n\",\n            \"62/62 [==============================] - 0s 3ms/step - loss: 0.5100 - accuracy: 0.7410\\n\",\n            \"Epoch 63/150\\n\",\n            \"62/62 [==============================] - 0s 3ms/step - loss: 0.5281 - accuracy: 0.7329\\n\",\n            \"Epoch 64/150\\n\",\n            \"62/62 [==============================] - 0s 3ms/step - loss: 0.5130 - accuracy: 0.7492\\n\",\n            \"Epoch 65/150\\n\",\n            \"62/62 [==============================] - 0s 3ms/step - loss: 0.5184 - accuracy: 0.7410\\n\",\n            \"Epoch 66/150\\n\",\n            \"62/62 [==============================] - 0s 3ms/step - loss: 0.5076 - accuracy: 0.7427\\n\",\n            \"Epoch 67/150\\n\",\n            \"62/62 [==============================] - 0s 3ms/step - loss: 0.5197 - accuracy: 0.7329\\n\",\n            \"Epoch 68/150\\n\",\n            \"62/62 [==============================] - 0s 3ms/step - loss: 0.5085 - accuracy: 0.7459\\n\",\n            \"Epoch 69/150\\n\",\n            \"62/62 [==============================] - 0s 3ms/step - loss: 0.5260 - accuracy: 0.7410\\n\",\n            \"Epoch 70/150\\n\",\n            \"62/62 [==============================] - 0s 3ms/step - loss: 0.5068 - accuracy: 0.7492\\n\",\n            \"Epoch 71/150\\n\",\n            \"62/62 [==============================] - 0s 2ms/step - loss: 0.5045 - accuracy: 0.7557\\n\",\n            \"Epoch 72/150\\n\",\n            \"62/62 [==============================] - 0s 2ms/step - loss: 0.5089 - accuracy: 0.7394\\n\",\n            \"Epoch 73/150\\n\",\n            \"62/62 [==============================] - 0s 2ms/step - loss: 0.5095 - accuracy: 0.7427\\n\",\n            \"Epoch 74/150\\n\",\n            \"62/62 [==============================] - 0s 2ms/step - loss: 0.5069 - accuracy: 0.7557\\n\",\n            \"Epoch 75/150\\n\",\n            \"62/62 [==============================] - 0s 2ms/step - loss: 0.5099 - accuracy: 0.7524\\n\",\n            \"Epoch 76/150\\n\",\n            \"62/62 [==============================] - 0s 2ms/step - loss: 0.5067 - accuracy: 0.7378\\n\",\n            \"Epoch 77/150\\n\",\n            \"62/62 [==============================] - 0s 2ms/step - loss: 0.5088 - accuracy: 0.7508\\n\",\n            \"Epoch 78/150\\n\",\n            \"62/62 [==============================] - 0s 2ms/step - loss: 0.5028 - accuracy: 0.7541\\n\",\n            \"Epoch 79/150\\n\",\n            \"62/62 [==============================] - 0s 2ms/step - loss: 0.4951 - accuracy: 0.7573\\n\",\n            \"Epoch 80/150\\n\",\n            \"62/62 [==============================] - 0s 2ms/step - loss: 0.4970 - accuracy: 0.7590\\n\",\n            \"Epoch 81/150\\n\",\n            \"62/62 [==============================] - 0s 2ms/step - loss: 0.4924 - accuracy: 0.7524\\n\",\n            \"Epoch 82/150\\n\",\n            \"62/62 [==============================] - 0s 2ms/step - loss: 0.5114 - accuracy: 0.7443\\n\",\n            \"Epoch 83/150\\n\",\n            \"62/62 [==============================] - 0s 2ms/step - loss: 0.5215 - accuracy: 0.7329\\n\",\n            \"Epoch 84/150\\n\",\n            \"62/62 [==============================] - 0s 2ms/step - loss: 0.4985 - accuracy: 0.7508\\n\",\n            \"Epoch 85/150\\n\",\n            \"62/62 [==============================] - 0s 2ms/step - loss: 0.4977 - accuracy: 0.7671\\n\",\n            \"Epoch 86/150\\n\",\n            \"62/62 [==============================] - 0s 2ms/step - loss: 0.4980 - accuracy: 0.7557\\n\",\n            \"Epoch 87/150\\n\",\n            \"62/62 [==============================] - 0s 2ms/step - loss: 0.4979 - accuracy: 0.7524\\n\",\n            \"Epoch 88/150\\n\",\n            \"62/62 [==============================] - 0s 2ms/step - loss: 0.5084 - accuracy: 0.7524\\n\",\n            \"Epoch 89/150\\n\",\n            \"62/62 [==============================] - 0s 2ms/step - loss: 0.5198 - accuracy: 0.7410\\n\",\n            \"Epoch 90/150\\n\",\n            \"62/62 [==============================] - 0s 2ms/step - loss: 0.4969 - accuracy: 0.7459\\n\",\n            \"Epoch 91/150\\n\",\n            \"62/62 [==============================] - 0s 2ms/step - loss: 0.4972 - accuracy: 0.7541\\n\",\n            \"Epoch 92/150\\n\",\n            \"62/62 [==============================] - 0s 2ms/step - loss: 0.4968 - accuracy: 0.7606\\n\",\n            \"Epoch 93/150\\n\",\n            \"62/62 [==============================] - 0s 2ms/step - loss: 0.4947 - accuracy: 0.7557\\n\",\n            \"Epoch 94/150\\n\",\n            \"62/62 [==============================] - 0s 2ms/step - loss: 0.4838 - accuracy: 0.7655\\n\",\n            \"Epoch 95/150\\n\",\n            \"62/62 [==============================] - 0s 2ms/step - loss: 0.4985 - accuracy: 0.7622\\n\",\n            \"Epoch 96/150\\n\",\n            \"62/62 [==============================] - 0s 2ms/step - loss: 0.5115 - accuracy: 0.7524\\n\",\n            \"Epoch 97/150\\n\",\n            \"62/62 [==============================] - 0s 2ms/step - loss: 0.4800 - accuracy: 0.7752\\n\",\n            \"Epoch 98/150\\n\",\n            \"62/62 [==============================] - 0s 2ms/step - loss: 0.4980 - accuracy: 0.7687\\n\",\n            \"Epoch 99/150\\n\",\n            \"62/62 [==============================] - 0s 2ms/step - loss: 0.4921 - accuracy: 0.7622\\n\",\n            \"Epoch 100/150\\n\",\n            \"62/62 [==============================] - 0s 2ms/step - loss: 0.4936 - accuracy: 0.7606\\n\",\n            \"Epoch 101/150\\n\",\n            \"62/62 [==============================] - 0s 2ms/step - loss: 0.4877 - accuracy: 0.7655\\n\",\n            \"Epoch 102/150\\n\",\n            \"62/62 [==============================] - 0s 2ms/step - loss: 0.4813 - accuracy: 0.7606\\n\",\n            \"Epoch 103/150\\n\",\n            \"62/62 [==============================] - 0s 2ms/step - loss: 0.4770 - accuracy: 0.7720\\n\",\n            \"Epoch 104/150\\n\",\n            \"62/62 [==============================] - 0s 2ms/step - loss: 0.4849 - accuracy: 0.7557\\n\",\n            \"Epoch 105/150\\n\",\n            \"62/62 [==============================] - 0s 2ms/step - loss: 0.4923 - accuracy: 0.7687\\n\",\n            \"Epoch 106/150\\n\",\n            \"62/62 [==============================] - 0s 2ms/step - loss: 0.4875 - accuracy: 0.7671\\n\",\n            \"Epoch 107/150\\n\",\n            \"62/62 [==============================] - 0s 2ms/step - loss: 0.4758 - accuracy: 0.7704\\n\",\n            \"Epoch 108/150\\n\",\n            \"62/62 [==============================] - 0s 2ms/step - loss: 0.4973 - accuracy: 0.7671\\n\",\n            \"Epoch 109/150\\n\",\n            \"62/62 [==============================] - 0s 2ms/step - loss: 0.4870 - accuracy: 0.7638\\n\",\n            \"Epoch 110/150\\n\",\n            \"62/62 [==============================] - 0s 2ms/step - loss: 0.4796 - accuracy: 0.7541\\n\",\n            \"Epoch 111/150\\n\",\n            \"62/62 [==============================] - 0s 2ms/step - loss: 0.4843 - accuracy: 0.7557\\n\",\n            \"Epoch 112/150\\n\",\n            \"62/62 [==============================] - 0s 2ms/step - loss: 0.4966 - accuracy: 0.7687\\n\",\n            \"Epoch 113/150\\n\",\n            \"62/62 [==============================] - 0s 2ms/step - loss: 0.4824 - accuracy: 0.7655\\n\",\n            \"Epoch 114/150\\n\",\n            \"62/62 [==============================] - 0s 2ms/step - loss: 0.4812 - accuracy: 0.7622\\n\",\n            \"Epoch 115/150\\n\",\n            \"62/62 [==============================] - 0s 2ms/step - loss: 0.4750 - accuracy: 0.7606\\n\",\n            \"Epoch 116/150\\n\",\n            \"62/62 [==============================] - 0s 2ms/step - loss: 0.4762 - accuracy: 0.7736\\n\",\n            \"Epoch 117/150\\n\",\n            \"62/62 [==============================] - 0s 2ms/step - loss: 0.4798 - accuracy: 0.7638\\n\",\n            \"Epoch 118/150\\n\",\n            \"62/62 [==============================] - 0s 2ms/step - loss: 0.4785 - accuracy: 0.7606\\n\",\n            \"Epoch 119/150\\n\",\n            \"62/62 [==============================] - 0s 2ms/step - loss: 0.4798 - accuracy: 0.7720\\n\",\n            \"Epoch 120/150\\n\",\n            \"62/62 [==============================] - 0s 2ms/step - loss: 0.5204 - accuracy: 0.7476\\n\",\n            \"Epoch 121/150\\n\",\n            \"62/62 [==============================] - 0s 2ms/step - loss: 0.4756 - accuracy: 0.7671\\n\",\n            \"Epoch 122/150\\n\",\n            \"62/62 [==============================] - 0s 2ms/step - loss: 0.4857 - accuracy: 0.7638\\n\",\n            \"Epoch 123/150\\n\",\n            \"62/62 [==============================] - 0s 2ms/step - loss: 0.4804 - accuracy: 0.7671\\n\",\n            \"Epoch 124/150\\n\",\n            \"62/62 [==============================] - 0s 3ms/step - loss: 0.4851 - accuracy: 0.7590\\n\",\n            \"Epoch 125/150\\n\",\n            \"62/62 [==============================] - 0s 2ms/step - loss: 0.4795 - accuracy: 0.7687\\n\",\n            \"Epoch 126/150\\n\",\n            \"62/62 [==============================] - 0s 2ms/step - loss: 0.4745 - accuracy: 0.7687\\n\",\n            \"Epoch 127/150\\n\",\n            \"62/62 [==============================] - 0s 2ms/step - loss: 0.4739 - accuracy: 0.7704\\n\",\n            \"Epoch 128/150\\n\",\n            \"62/62 [==============================] - 0s 2ms/step - loss: 0.4756 - accuracy: 0.7687\\n\",\n            \"Epoch 129/150\\n\",\n            \"62/62 [==============================] - 0s 2ms/step - loss: 0.4799 - accuracy: 0.7720\\n\",\n            \"Epoch 130/150\\n\",\n            \"62/62 [==============================] - 0s 2ms/step - loss: 0.5000 - accuracy: 0.7638\\n\",\n            \"Epoch 131/150\\n\",\n            \"62/62 [==============================] - 0s 2ms/step - loss: 0.4690 - accuracy: 0.7720\\n\",\n            \"Epoch 132/150\\n\",\n            \"62/62 [==============================] - 0s 2ms/step - loss: 0.4725 - accuracy: 0.7655\\n\",\n            \"Epoch 133/150\\n\",\n            \"62/62 [==============================] - 0s 2ms/step - loss: 0.4664 - accuracy: 0.7590\\n\",\n            \"Epoch 134/150\\n\",\n            \"62/62 [==============================] - 0s 2ms/step - loss: 0.4783 - accuracy: 0.7573\\n\",\n            \"Epoch 135/150\\n\",\n            \"62/62 [==============================] - 0s 2ms/step - loss: 0.4803 - accuracy: 0.7590\\n\",\n            \"Epoch 136/150\\n\",\n            \"62/62 [==============================] - 0s 2ms/step - loss: 0.4747 - accuracy: 0.7769\\n\",\n            \"Epoch 137/150\\n\",\n            \"62/62 [==============================] - 0s 2ms/step - loss: 0.4758 - accuracy: 0.7590\\n\",\n            \"Epoch 138/150\\n\",\n            \"62/62 [==============================] - 0s 2ms/step - loss: 0.4657 - accuracy: 0.7638\\n\",\n            \"Epoch 139/150\\n\",\n            \"62/62 [==============================] - 0s 3ms/step - loss: 0.4736 - accuracy: 0.7590\\n\",\n            \"Epoch 140/150\\n\",\n            \"62/62 [==============================] - 0s 4ms/step - loss: 0.4623 - accuracy: 0.7736\\n\",\n            \"Epoch 141/150\\n\",\n            \"62/62 [==============================] - 0s 4ms/step - loss: 0.4660 - accuracy: 0.7638\\n\",\n            \"Epoch 142/150\\n\",\n            \"62/62 [==============================] - 0s 3ms/step - loss: 0.4684 - accuracy: 0.7557\\n\",\n            \"Epoch 143/150\\n\",\n            \"62/62 [==============================] - 0s 3ms/step - loss: 0.4694 - accuracy: 0.7752\\n\",\n            \"Epoch 144/150\\n\",\n            \"62/62 [==============================] - 0s 3ms/step - loss: 0.4652 - accuracy: 0.7752\\n\",\n            \"Epoch 145/150\\n\",\n            \"62/62 [==============================] - 0s 3ms/step - loss: 0.4833 - accuracy: 0.7720\\n\",\n            \"Epoch 146/150\\n\",\n            \"62/62 [==============================] - 0s 3ms/step - loss: 0.4653 - accuracy: 0.7720\\n\",\n            \"Epoch 147/150\\n\",\n            \"62/62 [==============================] - 0s 3ms/step - loss: 0.4747 - accuracy: 0.7622\\n\",\n            \"Epoch 148/150\\n\",\n            \"62/62 [==============================] - 0s 3ms/step - loss: 0.4641 - accuracy: 0.7720\\n\",\n            \"Epoch 149/150\\n\",\n            \"62/62 [==============================] - 0s 3ms/step - loss: 0.4723 - accuracy: 0.7655\\n\",\n            \"Epoch 150/150\\n\",\n            \"62/62 [==============================] - 0s 3ms/step - loss: 0.4819 - accuracy: 0.7671\\n\"\n          ]\n        },\n        {\n          \"output_type\": \"execute_result\",\n          \"data\": {\n            \"text/plain\": [\n              \"\u003ckeras.callbacks.History at 0x7fa9ba7625e0\u003e\"\n            ]\n          },\n          \"metadata\": {},\n          \"execution_count\": 22\n        }\n      ]\n    },\n    {\n      \"cell_type\": \"code\",\n      \"source\": [\n        \"y_pred = model2.predict(X_test)\"\n      ],\n      \"metadata\": {\n        \"id\": \"EJiWkNTg19tM\",\n        \"colab\": {\n          \"base_uri\": \"https://localhost:8080/\"\n        },\n        \"outputId\": \"c92cf9c1-2ae9-4dc3-9b76-30c48b9958d6\"\n      },\n      \"execution_count\": 23,\n      \"outputs\": [\n        {\n          \"output_type\": \"stream\",\n          \"name\": \"stdout\",\n          \"text\": [\n            \"5/5 [==============================] - 0s 3ms/step\\n\"\n          ]\n        }\n      ]\n    },\n    {\n      \"cell_type\": \"code\",\n      \"source\": [\n        \"corte = 0.5\"\n      ],\n      \"metadata\": {\n        \"id\": \"qBOV_B8g3Jmz\"\n      },\n      \"execution_count\": 24,\n      \"outputs\": []\n    },\n    {\n      \"cell_type\": \"code\",\n      \"source\": [\n        \"y_pred = [1 if i \u003ecorte else 0 for i in y_pred]\"\n      ],\n      \"metadata\": {\n        \"id\": \"2rPSjTlb3KSq\"\n      },\n      \"execution_count\": 25,\n      \"outputs\": []\n    },\n    {\n      \"cell_type\": \"code\",\n      \"source\": [\n        \"cm2 = confusion_matrix(y_test, y_pred)\\n\",\n        \"labels = [\\\"non-diabetic\\\", \\\"diabetic\\\"]\\n\",\n        \"disp = ConfusionMatrixDisplay(confusion_matrix=cm2, display_labels=labels)\\n\",\n        \"\\n\",\n        \"disp.plot(cmap=plt.cm.Blues)\\n\",\n        \"plt.show()\"\n      ],\n      \"metadata\": {\n        \"colab\": {\n          \"base_uri\": \"https://localhost:8080/\",\n          \"height\": 279\n        },\n        \"id\": \"zTTGGMbs2J8l\",\n        \"outputId\": \"7abfc054-060f-43f7-bbb2-713843ee69cc\"\n      },\n      \"execution_count\": 26,\n      \"outputs\": [\n        {\n          \"output_type\": \"display_data\",\n          \"data\": {\n            \"text/plain\": [\n              \"\u003cFigure size 432x288 with 2 Axes\u003e\"\n            ],\n            \"image/png\": \"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\\n\"\n          },\n          \"metadata\": {\n            \"needs_background\": \"light\"\n          }\n        }\n      ]\n    }\n  ]\n}","colorizedLines":null,"stylingDirectives":null,"csv":null,"csvError":null,"dependabotInfo":{"showConfigurationBanner":null,"configFilePath":null,"networkDependabotPath":"/MarcelloLM/Redes-Neurais/network/updates","dismissConfigurationNoticePath":"/settings/dismiss-notice/dependabot_configuration_notice","configurationNoticeDismissed":false,"repoAlertsPath":"/MarcelloLM/Redes-Neurais/security/dependabot","repoSecurityAndAnalysisPath":"/MarcelloLM/Redes-Neurais/settings/security_analysis","repoOwnerIsOrg":false,"currentUserCanAdminRepo":true},"displayName":"Redes_Neurais.ipynb","displayUrl":"https://notebooks.githubusercontent.com/view/ipynb?browser=opera\u0026bypass_fastly=true\u0026color_mode=auto\u0026commit=095cea3b57413a8eb19f5885d91a7449713e8277\u0026device=unknown_device\u0026docs_host=https%3A%2F%2Fdocs.github.com\u0026enc_url=68747470733a2f2f7261772e67697468756275736572636f6e74656e742e636f6d2f4d617263656c6c6f4c4d2f52656465732d4e6575726169732f303935636561336235373431336138656231396635383835643931613734343937313365383237372f52656465735f4e6575726169732e6970796e62\u0026logged_in=true\u0026nwo=MarcelloLM%2FRedes-Neurais\u0026path=Redes_Neurais.ipynb\u0026platform=windows\u0026repository_id=619537202\u0026repository_type=Repository\u0026version=98","headerInfo":{"blobSize":"84.4 KB","deleteInfo":{"deletePath":"https://github.com/MarcelloLM/Redes-Neurais/delete/main/Redes_Neurais.ipynb","deleteTooltip":"Delete this file"},"editInfo":{"editTooltip":"Edit this file"},"ghDesktopPath":"x-github-client://openRepo/https://github.com/MarcelloLM/Redes-Neurais?branch=main\u0026filepath=Redes_Neurais.ipynb","gitLfsPath":null,"onBranch":true,"shortPath":"0ee30ae","siteNavLoginPath":"/login?return_to=https%3A%2F%2Fgithub.com%2FMarcelloLM%2FRedes-Neurais%2Fblob%2Fmain%2FRedes_Neurais.ipynb","isCSV":false,"isRichtext":false,"toc":null,"lineInfo":{"truncatedLoc":"1350","truncatedSloc":"1350"},"mode":"file"},"image":false,"isCodeownersFile":null,"isValidLegacyIssueTemplate":false,"issueTemplateHelpUrl":"https://docs.github.com/articles/about-issue-and-pull-request-templates","issueTemplate":null,"discussionTemplate":null,"language":"Jupyter Notebook","large":false,"loggedIn":true,"newDiscussionPath":"/MarcelloLM/Redes-Neurais/discussions/new","newIssuePath":"/MarcelloLM/Redes-Neurais/issues/new","planSupportInfo":{"repoIsFork":null,"repoOwnedByCurrentUser":null,"requestFullPath":"/MarcelloLM/Redes-Neurais/blob/main/Redes_Neurais.ipynb","showFreeOrgGatedFeatureMessage":null,"showPlanSupportBanner":null,"upgradeDataAttributes":null,"upgradePath":null},"publishBannersInfo":{"dismissActionNoticePath":"/settings/dismiss-notice/publish_action_from_dockerfile","dismissStackNoticePath":"/settings/dismiss-notice/publish_stack_from_file","releasePath":"/MarcelloLM/Redes-Neurais/releases/new?marketplace=true","showPublishActionBanner":false,"showPublishStackBanner":false},"renderImageOrRaw":false,"richText":null,"renderedFileInfo":{"identityUUID":"814e307d-3497-44a9-b3b2-5fc31864d732","renderFileType":"ipynb","size":86381},"tabSize":8,"topBannersInfo":{"overridingGlobalFundingFile":false,"globalPreferredFundingPath":null,"repoOwner":"MarcelloLM","repoName":"Redes-Neurais","showInvalidCitationWarning":false,"citationHelpUrl":"https://docs.github.com/en/github/creating-cloning-and-archiving-repositories/creating-a-repository-on-github/about-citation-files","showDependabotConfigurationBanner":null,"actionsOnboardingTip":null},"truncated":false,"viewable":true,"workflowRedirectUrl":null,"symbols":{"timedOut":false,"notAnalyzed":true,"symbols":[]}},"csrf_tokens":{"/MarcelloLM/Redes-Neurais/branches":{"post":"EkgcSf34Zt2Nq5-mb-ME2dfDLIyIAMCX5_-TZdeY0zjSbE5X0qjij1TFn5-Ia84u0PgkoC43AuYXlagaNYZeyg"}}},"title":"Redes-Neurais/Redes_Neurais.ipynb at main · MarcelloLM/Redes-Neurais","locale":"en","appPayload":{"helpUrl":"https://docs.github.com","findFileWorkerPath":"/assets-cdn/worker/find-file-worker-848bb9a5da17.js","findInFileWorkerPath":"/assets-cdn/worker/find-in-file-worker-8812f8040df6.js","githubDevUrl":"https://github.dev/","enabled_features":{"virtualize_file_tree":true,"react_repos_overview":false,"repos_new_shortcut_enabled":false,"blob_navigation_cursor":true,"keep_symbols_closed":true,"code_nav_ui_events":false,"ref_selector_v2":false,"codeview_codemirror_next":false}}}</script>
  <div data-target="react-app.reactRoot"></div>
</react-app>
</turbo-frame>



  </div>

</turbo-frame>

    </main>
  </div>

  </div>

          <footer class="footer width-full container-xl p-responsive" role="contentinfo">
  <h2 class='sr-only'>Footer</h2>

  <div class="position-relative d-flex flex-items-center pb-2 f6 color-fg-muted border-top color-border-muted flex-column-reverse flex-lg-row flex-wrap flex-lg-nowrap mt-6 pt-6">
    <div class="list-style-none d-flex flex-wrap col-0 col-lg-2 flex-justify-start flex-lg-justify-between mb-2 mb-lg-0">
      <div class="mt-2 mt-lg-0 d-flex flex-items-center">
        <a aria-label="Homepage" title="GitHub" class="footer-octicon mr-2" href="https://github.com">
          <svg aria-hidden="true" height="24" viewBox="0 0 16 16" version="1.1" width="24" data-view-component="true" class="octicon octicon-mark-github">
    <path d="M8 0c4.42 0 8 3.58 8 8a8.013 8.013 0 0 1-5.45 7.59c-.4.08-.55-.17-.55-.38 0-.27.01-1.13.01-2.2 0-.75-.25-1.23-.54-1.48 1.78-.2 3.65-.88 3.65-3.95 0-.88-.31-1.59-.82-2.15.08-.2.36-1.02-.08-2.12 0 0-.67-.22-2.2.82-.64-.18-1.32-.27-2-.27-.68 0-1.36.09-2 .27-1.53-1.03-2.2-.82-2.2-.82-.44 1.1-.16 1.92-.08 2.12-.51.56-.82 1.28-.82 2.15 0 3.06 1.86 3.75 3.64 3.95-.23.2-.44.55-.51 1.07-.46.21-1.61.55-2.33-.66-.15-.24-.6-.83-1.23-.82-.67.01-.27.38.01.53.34.19.73.9.82 1.13.16.45.68 1.31 2.69.94 0 .67.01 1.3.01 1.49 0 .21-.15.45-.55.38A7.995 7.995 0 0 1 0 8c0-4.42 3.58-8 8-8Z"></path>
</svg>
</a>        <span>
        &copy; 2023 GitHub, Inc.
        </span>
      </div>
    </div>

    <nav aria-label='Footer' class="col-12 col-lg-8">
      <h3 class='sr-only' id='sr-footer-heading'>Footer navigation</h3>
      <ul class="list-style-none d-flex flex-wrap col-12 flex-justify-center flex-lg-justify-between mb-2 mb-lg-0" aria-labelledby='sr-footer-heading'>
          <li class="mr-3 mr-lg-0"><a href="https://docs.github.com/site-policy/github-terms/github-terms-of-service" data-analytics-event="{&quot;category&quot;:&quot;Footer&quot;,&quot;action&quot;:&quot;go to terms&quot;,&quot;label&quot;:&quot;text:terms&quot;}">Terms</a></li>
          <li class="mr-3 mr-lg-0"><a href="https://docs.github.com/site-policy/privacy-policies/github-privacy-statement" data-analytics-event="{&quot;category&quot;:&quot;Footer&quot;,&quot;action&quot;:&quot;go to privacy&quot;,&quot;label&quot;:&quot;text:privacy&quot;}">Privacy</a></li>
          <li class="mr-3 mr-lg-0"><a data-analytics-event="{&quot;category&quot;:&quot;Footer&quot;,&quot;action&quot;:&quot;go to security&quot;,&quot;label&quot;:&quot;text:security&quot;}" href="https://github.com/security">Security</a></li>
          <li class="mr-3 mr-lg-0"><a href="https://www.githubstatus.com/" data-analytics-event="{&quot;category&quot;:&quot;Footer&quot;,&quot;action&quot;:&quot;go to status&quot;,&quot;label&quot;:&quot;text:status&quot;}">Status</a></li>
          <li class="mr-3 mr-lg-0"><a data-ga-click="Footer, go to help, text:Docs" href="https://docs.github.com">Docs</a></li>
          <li class="mr-3 mr-lg-0"><a href="https://support.github.com?tags=dotcom-footer" data-analytics-event="{&quot;category&quot;:&quot;Footer&quot;,&quot;action&quot;:&quot;go to contact&quot;,&quot;label&quot;:&quot;text:contact&quot;}">Contact GitHub</a></li>
          <li class="mr-3 mr-lg-0"><a href="https://github.com/pricing" data-analytics-event="{&quot;category&quot;:&quot;Footer&quot;,&quot;action&quot;:&quot;go to Pricing&quot;,&quot;label&quot;:&quot;text:Pricing&quot;}">Pricing</a></li>
        <li class="mr-3 mr-lg-0"><a href="https://docs.github.com" data-analytics-event="{&quot;category&quot;:&quot;Footer&quot;,&quot;action&quot;:&quot;go to api&quot;,&quot;label&quot;:&quot;text:api&quot;}">API</a></li>
        <li class="mr-3 mr-lg-0"><a href="https://services.github.com" data-analytics-event="{&quot;category&quot;:&quot;Footer&quot;,&quot;action&quot;:&quot;go to training&quot;,&quot;label&quot;:&quot;text:training&quot;}">Training</a></li>
          <li class="mr-3 mr-lg-0"><a href="https://github.blog" data-analytics-event="{&quot;category&quot;:&quot;Footer&quot;,&quot;action&quot;:&quot;go to blog&quot;,&quot;label&quot;:&quot;text:blog&quot;}">Blog</a></li>
          <li><a data-ga-click="Footer, go to about, text:about" href="https://github.com/about">About</a></li>
      </ul>
    </nav>
  </div>

  <div class="d-flex flex-justify-center pb-6">
    <span class="f6 color-fg-muted"></span>
  </div>
</footer>




  <div id="ajax-error-message" class="ajax-error-message flash flash-error" hidden>
    <svg aria-hidden="true" height="16" viewBox="0 0 16 16" version="1.1" width="16" data-view-component="true" class="octicon octicon-alert">
    <path d="M6.457 1.047c.659-1.234 2.427-1.234 3.086 0l6.082 11.378A1.75 1.75 0 0 1 14.082 15H1.918a1.75 1.75 0 0 1-1.543-2.575Zm1.763.707a.25.25 0 0 0-.44 0L1.698 13.132a.25.25 0 0 0 .22.368h12.164a.25.25 0 0 0 .22-.368Zm.53 3.996v2.5a.75.75 0 0 1-1.5 0v-2.5a.75.75 0 0 1 1.5 0ZM9 11a1 1 0 1 1-2 0 1 1 0 0 1 2 0Z"></path>
</svg>
    <button type="button" class="flash-close js-ajax-error-dismiss" aria-label="Dismiss error">
      <svg aria-hidden="true" height="16" viewBox="0 0 16 16" version="1.1" width="16" data-view-component="true" class="octicon octicon-x">
    <path d="M3.72 3.72a.75.75 0 0 1 1.06 0L8 6.94l3.22-3.22a.749.749 0 0 1 1.275.326.749.749 0 0 1-.215.734L9.06 8l3.22 3.22a.749.749 0 0 1-.326 1.275.749.749 0 0 1-.734-.215L8 9.06l-3.22 3.22a.751.751 0 0 1-1.042-.018.751.751 0 0 1-.018-1.042L6.94 8 3.72 4.78a.75.75 0 0 1 0-1.06Z"></path>
</svg>
    </button>
    You can’t perform that action at this time.
  </div>

  <div class="js-stale-session-flash flash flash-warn flash-banner" hidden
    >
    <svg aria-hidden="true" height="16" viewBox="0 0 16 16" version="1.1" width="16" data-view-component="true" class="octicon octicon-alert">
    <path d="M6.457 1.047c.659-1.234 2.427-1.234 3.086 0l6.082 11.378A1.75 1.75 0 0 1 14.082 15H1.918a1.75 1.75 0 0 1-1.543-2.575Zm1.763.707a.25.25 0 0 0-.44 0L1.698 13.132a.25.25 0 0 0 .22.368h12.164a.25.25 0 0 0 .22-.368Zm.53 3.996v2.5a.75.75 0 0 1-1.5 0v-2.5a.75.75 0 0 1 1.5 0ZM9 11a1 1 0 1 1-2 0 1 1 0 0 1 2 0Z"></path>
</svg>
    <span class="js-stale-session-flash-signed-in" hidden>You signed in with another tab or window. <a href="">Reload</a> to refresh your session.</span>
    <span class="js-stale-session-flash-signed-out" hidden>You signed out in another tab or window. <a href="">Reload</a> to refresh your session.</span>
  </div>
    <template id="site-details-dialog">
  <details class="details-reset details-overlay details-overlay-dark lh-default color-fg-default hx_rsm" open>
    <summary role="button" aria-label="Close dialog"></summary>
    <details-dialog class="Box Box--overlay d-flex flex-column anim-fade-in fast hx_rsm-dialog hx_rsm-modal">
      <button class="Box-btn-octicon m-0 btn-octicon position-absolute right-0 top-0" type="button" aria-label="Close dialog" data-close-dialog>
        <svg aria-hidden="true" height="16" viewBox="0 0 16 16" version="1.1" width="16" data-view-component="true" class="octicon octicon-x">
    <path d="M3.72 3.72a.75.75 0 0 1 1.06 0L8 6.94l3.22-3.22a.749.749 0 0 1 1.275.326.749.749 0 0 1-.215.734L9.06 8l3.22 3.22a.749.749 0 0 1-.326 1.275.749.749 0 0 1-.734-.215L8 9.06l-3.22 3.22a.751.751 0 0 1-1.042-.018.751.751 0 0 1-.018-1.042L6.94 8 3.72 4.78a.75.75 0 0 1 0-1.06Z"></path>
</svg>
      </button>
      <div class="octocat-spinner my-6 js-details-dialog-spinner"></div>
    </details-dialog>
  </details>
</template>

    <div class="Popover js-hovercard-content position-absolute" style="display: none; outline: none;" tabindex="0">
  <div class="Popover-message Popover-message--bottom-left Popover-message--large Box color-shadow-large" style="width:360px;">
  </div>
</div>

    <template id="snippet-clipboard-copy-button">
  <div class="zeroclipboard-container position-absolute right-0 top-0">
    <clipboard-copy aria-label="Copy" class="ClipboardButton btn js-clipboard-copy m-2 p-0 tooltipped-no-delay" data-copy-feedback="Copied!" data-tooltip-direction="w">
      <svg aria-hidden="true" height="16" viewBox="0 0 16 16" version="1.1" width="16" data-view-component="true" class="octicon octicon-copy js-clipboard-copy-icon m-2">
    <path d="M0 6.75C0 5.784.784 5 1.75 5h1.5a.75.75 0 0 1 0 1.5h-1.5a.25.25 0 0 0-.25.25v7.5c0 .138.112.25.25.25h7.5a.25.25 0 0 0 .25-.25v-1.5a.75.75 0 0 1 1.5 0v1.5A1.75 1.75 0 0 1 9.25 16h-7.5A1.75 1.75 0 0 1 0 14.25Z"></path><path d="M5 1.75C5 .784 5.784 0 6.75 0h7.5C15.216 0 16 .784 16 1.75v7.5A1.75 1.75 0 0 1 14.25 11h-7.5A1.75 1.75 0 0 1 5 9.25Zm1.75-.25a.25.25 0 0 0-.25.25v7.5c0 .138.112.25.25.25h7.5a.25.25 0 0 0 .25-.25v-7.5a.25.25 0 0 0-.25-.25Z"></path>
</svg>
      <svg aria-hidden="true" height="16" viewBox="0 0 16 16" version="1.1" width="16" data-view-component="true" class="octicon octicon-check js-clipboard-check-icon color-fg-success d-none m-2">
    <path d="M13.78 4.22a.75.75 0 0 1 0 1.06l-7.25 7.25a.75.75 0 0 1-1.06 0L2.22 9.28a.751.751 0 0 1 .018-1.042.751.751 0 0 1 1.042-.018L6 10.94l6.72-6.72a.75.75 0 0 1 1.06 0Z"></path>
</svg>
    </clipboard-copy>
  </div>
</template>
<template id="snippet-clipboard-copy-button-unpositioned">
  <div class="zeroclipboard-container">
    <clipboard-copy aria-label="Copy" class="ClipboardButton btn btn-invisible js-clipboard-copy m-2 p-0 tooltipped-no-delay d-flex flex-justify-center flex-items-center" data-copy-feedback="Copied!" data-tooltip-direction="w">
      <svg aria-hidden="true" height="16" viewBox="0 0 16 16" version="1.1" width="16" data-view-component="true" class="octicon octicon-copy js-clipboard-copy-icon">
    <path d="M0 6.75C0 5.784.784 5 1.75 5h1.5a.75.75 0 0 1 0 1.5h-1.5a.25.25 0 0 0-.25.25v7.5c0 .138.112.25.25.25h7.5a.25.25 0 0 0 .25-.25v-1.5a.75.75 0 0 1 1.5 0v1.5A1.75 1.75 0 0 1 9.25 16h-7.5A1.75 1.75 0 0 1 0 14.25Z"></path><path d="M5 1.75C5 .784 5.784 0 6.75 0h7.5C15.216 0 16 .784 16 1.75v7.5A1.75 1.75 0 0 1 14.25 11h-7.5A1.75 1.75 0 0 1 5 9.25Zm1.75-.25a.25.25 0 0 0-.25.25v7.5c0 .138.112.25.25.25h7.5a.25.25 0 0 0 .25-.25v-7.5a.25.25 0 0 0-.25-.25Z"></path>
</svg>
      <svg aria-hidden="true" height="16" viewBox="0 0 16 16" version="1.1" width="16" data-view-component="true" class="octicon octicon-check js-clipboard-check-icon color-fg-success d-none">
    <path d="M13.78 4.22a.75.75 0 0 1 0 1.06l-7.25 7.25a.75.75 0 0 1-1.06 0L2.22 9.28a.751.751 0 0 1 .018-1.042.751.751 0 0 1 1.042-.018L6 10.94l6.72-6.72a.75.75 0 0 1 1.06 0Z"></path>
</svg>
    </clipboard-copy>
  </div>
</template>


    <style>
      .user-mention[href$="/MarcelloLM"] {
        color: var(--color-user-mention-fg);
        background-color: var(--color-user-mention-bg);
        border-radius: 2px;
        margin-left: -2px;
        margin-right: -2px;
        padding: 0 2px;
      }
    </style>


    </div>

    <div id="js-global-screen-reader-notice" class="sr-only" aria-live="polite" ></div>
  </body>
</html>

