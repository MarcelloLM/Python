





<!DOCTYPE html>
<html lang="en" data-color-mode="auto" data-light-theme="light" data-dark-theme="dark" data-a11y-animated-images="system">
  <head>
    <meta charset="utf-8">
  <link rel="dns-prefetch" href="https://github.githubassets.com">
  <link rel="dns-prefetch" href="https://avatars.githubusercontent.com">
  <link rel="dns-prefetch" href="https://github-cloud.s3.amazonaws.com">
  <link rel="dns-prefetch" href="https://user-images.githubusercontent.com/">
  <link rel="preconnect" href="https://github.githubassets.com" crossorigin>
  <link rel="preconnect" href="https://avatars.githubusercontent.com">

  


  <link crossorigin="anonymous" media="all" rel="stylesheet" href="https://github.githubassets.com/assets/light-0946cdc16f15.css" /><link crossorigin="anonymous" media="all" rel="stylesheet" href="https://github.githubassets.com/assets/dark-3946c959759a.css" /><link data-color-theme="dark_dimmed" crossorigin="anonymous" media="all" rel="stylesheet" data-href="https://github.githubassets.com/assets/dark_dimmed-9b9a8c91acc5.css" /><link data-color-theme="dark_high_contrast" crossorigin="anonymous" media="all" rel="stylesheet" data-href="https://github.githubassets.com/assets/dark_high_contrast-11302a585e33.css" /><link data-color-theme="dark_colorblind" crossorigin="anonymous" media="all" rel="stylesheet" data-href="https://github.githubassets.com/assets/dark_colorblind-1a4564ab0fbf.css" /><link data-color-theme="light_colorblind" crossorigin="anonymous" media="all" rel="stylesheet" data-href="https://github.githubassets.com/assets/light_colorblind-12a8b2aa9101.css" /><link data-color-theme="light_high_contrast" crossorigin="anonymous" media="all" rel="stylesheet" data-href="https://github.githubassets.com/assets/light_high_contrast-5924a648f3e7.css" /><link data-color-theme="light_tritanopia" crossorigin="anonymous" media="all" rel="stylesheet" data-href="https://github.githubassets.com/assets/light_tritanopia-05358496cb79.css" /><link data-color-theme="dark_tritanopia" crossorigin="anonymous" media="all" rel="stylesheet" data-href="https://github.githubassets.com/assets/dark_tritanopia-aad6b801a158.css" />
    <link crossorigin="anonymous" media="all" rel="stylesheet" href="https://github.githubassets.com/assets/primer-primitives-fb1d51d1ef66.css" />
    <link crossorigin="anonymous" media="all" rel="stylesheet" href="https://github.githubassets.com/assets/primer-57c312e484b2.css" />
    <link crossorigin="anonymous" media="all" rel="stylesheet" href="https://github.githubassets.com/assets/global-0d04dfcdc794.css" />
    <link crossorigin="anonymous" media="all" rel="stylesheet" href="https://github.githubassets.com/assets/github-c7a3a0ac71d4.css" />
  <link crossorigin="anonymous" media="all" rel="stylesheet" href="https://github.githubassets.com/assets/code-536dffbfff5a.css" />



  <script crossorigin="anonymous" defer="defer" type="application/javascript" src="https://github.githubassets.com/assets/wp-runtime-377d421cc9f7.js"></script>
<script crossorigin="anonymous" defer="defer" type="application/javascript" src="https://github.githubassets.com/assets/vendors-node_modules_stacktrace-parser_dist_stack-trace-parser_esm_js-node_modules_github_bro-a4c183-ae93d3fba59c.js"></script>
<script crossorigin="anonymous" defer="defer" type="application/javascript" src="https://github.githubassets.com/assets/ui_packages_failbot_failbot_ts-e38c93eab86e.js"></script>
<script crossorigin="anonymous" defer="defer" type="application/javascript" src="https://github.githubassets.com/assets/environment-de3997b81651.js"></script>
<script crossorigin="anonymous" defer="defer" type="application/javascript" src="https://github.githubassets.com/assets/vendors-node_modules_github_selector-observer_dist_index_esm_js-2646a2c533e3.js"></script>
<script crossorigin="anonymous" defer="defer" type="application/javascript" src="https://github.githubassets.com/assets/vendors-node_modules_github_relative-time-element_dist_index_js-99e288659d4f.js"></script>
<script crossorigin="anonymous" defer="defer" type="application/javascript" src="https://github.githubassets.com/assets/vendors-node_modules_fzy_js_index_js-node_modules_github_markdown-toolbar-element_dist_index_js-e3de700a4c9d.js"></script>
<script crossorigin="anonymous" defer="defer" type="application/javascript" src="https://github.githubassets.com/assets/vendors-node_modules_delegated-events_dist_index_js-node_modules_github_auto-complete-element-5b3870-ff38694180c6.js"></script>
<script crossorigin="anonymous" defer="defer" type="application/javascript" src="https://github.githubassets.com/assets/vendors-node_modules_github_file-attachment-element_dist_index_js-node_modules_github_text-ex-3415a8-7ecc10fb88d0.js"></script>
<script crossorigin="anonymous" defer="defer" type="application/javascript" src="https://github.githubassets.com/assets/vendors-node_modules_github_filter-input-element_dist_index_js-node_modules_github_remote-inp-8873b7-5771678648e0.js"></script>
<script crossorigin="anonymous" defer="defer" type="application/javascript" src="https://github.githubassets.com/assets/vendors-node_modules_primer_view-components_app_components_primer_primer_js-node_modules_gith-3af896-ba2b2ef33e4b.js"></script>
<script crossorigin="anonymous" defer="defer" type="application/javascript" src="https://github.githubassets.com/assets/github-elements-7b037525f59f.js"></script>
<script crossorigin="anonymous" defer="defer" type="application/javascript" src="https://github.githubassets.com/assets/element-registry-8f404beaf269.js"></script>
<script crossorigin="anonymous" defer="defer" type="application/javascript" src="https://github.githubassets.com/assets/vendors-node_modules_lit-html_lit-html_js-9d9fe1859ce5.js"></script>
<script crossorigin="anonymous" defer="defer" type="application/javascript" src="https://github.githubassets.com/assets/vendors-node_modules_github_mini-throttle_dist_index_js-node_modules_github_alive-client_dist-bf5aa2-424aa982deef.js"></script>
<script crossorigin="anonymous" defer="defer" type="application/javascript" src="https://github.githubassets.com/assets/vendors-node_modules_github_turbo_dist_turbo_es2017-esm_js-ba0e4d5b3207.js"></script>
<script crossorigin="anonymous" defer="defer" type="application/javascript" src="https://github.githubassets.com/assets/vendors-node_modules_color-convert_index_js-node_modules_github_jtml_lib_index_js-40bf234a19dc.js"></script>
<script crossorigin="anonymous" defer="defer" type="application/javascript" src="https://github.githubassets.com/assets/vendors-node_modules_github_remote-form_dist_index_js-node_modules_scroll-anchoring_dist_scro-52dc4b-e1e33bfc0b7e.js"></script>
<script crossorigin="anonymous" defer="defer" type="application/javascript" src="https://github.githubassets.com/assets/vendors-node_modules_github_paste-markdown_dist_index_esm_js-node_modules_github_quote-select-743f1d-1b20d530fbf0.js"></script>
<script crossorigin="anonymous" defer="defer" type="application/javascript" src="https://github.githubassets.com/assets/app_assets_modules_github_updatable-content_ts-dadb69f79923.js"></script>
<script crossorigin="anonymous" defer="defer" type="application/javascript" src="https://github.githubassets.com/assets/app_assets_modules_github_behaviors_keyboard-shortcuts-helper_ts-app_assets_modules_github_be-f5afdb-3f05df4c282b.js"></script>
<script crossorigin="anonymous" defer="defer" type="application/javascript" src="https://github.githubassets.com/assets/app_assets_modules_github_blob-anchor_ts-app_assets_modules_github_code-editor_ts-app_assets_-8128e1-65aa849c94d7.js"></script>
<script crossorigin="anonymous" defer="defer" type="application/javascript" src="https://github.githubassets.com/assets/app_assets_modules_github_sticky-scroll-into-view_ts-1d145b63ed56.js"></script>
<script crossorigin="anonymous" defer="defer" type="application/javascript" src="https://github.githubassets.com/assets/app_assets_modules_github_behaviors_ajax-error_ts-app_assets_modules_github_behaviors_include-2e2258-dae7d38e0248.js"></script>
<script crossorigin="anonymous" defer="defer" type="application/javascript" src="https://github.githubassets.com/assets/app_assets_modules_github_behaviors_commenting_edit_ts-app_assets_modules_github_behaviors_ht-83c235-c97eacdef68a.js"></script>
<script crossorigin="anonymous" defer="defer" type="application/javascript" src="https://github.githubassets.com/assets/behaviors-d1b433c1b6c2.js"></script>
<script crossorigin="anonymous" defer="defer" type="application/javascript" src="https://github.githubassets.com/assets/vendors-node_modules_delegated-events_dist_index_js-node_modules_github_catalyst_lib_index_js-623425af41e1.js"></script>
<script crossorigin="anonymous" defer="defer" type="application/javascript" src="https://github.githubassets.com/assets/notifications-global-4dc6f295cc92.js"></script>
<script crossorigin="anonymous" defer="defer" type="application/javascript" src="https://github.githubassets.com/assets/code-menu-da1cefc25b0a.js"></script>
  
  <script crossorigin="anonymous" defer="defer" type="application/javascript" src="https://github.githubassets.com/assets/react-lib-26cb888452e9.js"></script>
<script crossorigin="anonymous" defer="defer" type="application/javascript" src="https://github.githubassets.com/assets/vendors-node_modules_primer_octicons-react_dist_index_esm_js-node_modules_primer_react_lib-es-ca6dae-a1133077cb2e.js"></script>
<script crossorigin="anonymous" defer="defer" type="application/javascript" src="https://github.githubassets.com/assets/vendors-node_modules_primer_react_lib-esm_Button_index_js-node_modules_primer_react_lib-esm_L-5634ab-42e8568c9a37.js"></script>
<script crossorigin="anonymous" defer="defer" type="application/javascript" src="https://github.githubassets.com/assets/vendors-node_modules_primer_behaviors_dist_esm_focus-zone_js-d55308df5023.js"></script>
<script crossorigin="anonymous" defer="defer" type="application/javascript" src="https://github.githubassets.com/assets/vendors-node_modules_primer_react_lib-esm_ActionList_index_js-node_modules_primer_react_lib-e-d264d6-f9d3bc6f32ea.js"></script>
<script crossorigin="anonymous" defer="defer" type="application/javascript" src="https://github.githubassets.com/assets/vendors-node_modules_dompurify_dist_purify_js-64d590970fa6.js"></script>
<script crossorigin="anonymous" defer="defer" type="application/javascript" src="https://github.githubassets.com/assets/vendors-node_modules_primer_react_lib-esm_ActionMenu_js-9f46ef9292fe.js"></script>
<script crossorigin="anonymous" defer="defer" type="application/javascript" src="https://github.githubassets.com/assets/vendors-node_modules_primer_behaviors_dist_esm_scroll-into-view_js-node_modules_primer_react_-04bb1b-dadff286ba44.js"></script>
<script crossorigin="anonymous" defer="defer" type="application/javascript" src="https://github.githubassets.com/assets/vendors-node_modules_primer_react_lib-esm_FormControl_FormControl_js-a0b171a7401f.js"></script>
<script crossorigin="anonymous" defer="defer" type="application/javascript" src="https://github.githubassets.com/assets/vendors-node_modules_primer_react_lib-esm_Dialog_ConfirmationDialog_js-node_modules_primer_re-3d8a84-e777e763812a.js"></script>
<script crossorigin="anonymous" defer="defer" type="application/javascript" src="https://github.githubassets.com/assets/vendors-node_modules_primer_react_lib-esm_PageLayout_PageLayout_js-4fa99e9ebc43.js"></script>
<script crossorigin="anonymous" defer="defer" type="application/javascript" src="https://github.githubassets.com/assets/vendors-node_modules_primer_react_lib-esm_TreeView_TreeView_js-24fd33d383d9.js"></script>
<script crossorigin="anonymous" defer="defer" type="application/javascript" src="https://github.githubassets.com/assets/vendors-node_modules_primer_react_lib-esm_Avatar_Avatar_js-node_modules_primer_react_lib-esm_-9d76dd-90f908d64068.js"></script>
<script crossorigin="anonymous" defer="defer" type="application/javascript" src="https://github.githubassets.com/assets/vendors-node_modules_github_blackbird-parser_dist_blackbird_js-fcd9d30e9b7e.js"></script>
<script crossorigin="anonymous" defer="defer" type="application/javascript" src="https://github.githubassets.com/assets/vendors-node_modules_primer_react_lib-esm_UnderlineNav2_index_js-node_modules_react-router-do-3a0e98-3da6649648f5.js"></script>
<script crossorigin="anonymous" defer="defer" type="application/javascript" src="https://github.githubassets.com/assets/vendors-node_modules_primer_react_lib-esm_AvatarStack_AvatarStack_js-node_modules_primer_reac-528269-51c7de1de076.js"></script>
<script crossorigin="anonymous" defer="defer" type="application/javascript" src="https://github.githubassets.com/assets/vendors-node_modules_primer_react_lib-esm_Button_LinkButton_js-node_modules_primer_react_lib--6e3f86-46f1f5d7b3f6.js"></script>
<script crossorigin="anonymous" defer="defer" type="application/javascript" src="https://github.githubassets.com/assets/ui_packages_react-core_deferred-registry_ts-ui_packages_react-core_AppContextProvider_tsx-ui_-ffd985-18d5698b6549.js"></script>
<script crossorigin="anonymous" defer="defer" type="application/javascript" src="https://github.githubassets.com/assets/ui_packages_react-core_Entry_tsx-8c7cce1646a4.js"></script>
<script crossorigin="anonymous" defer="defer" type="application/javascript" src="https://github.githubassets.com/assets/ui_packages_paths_path_ts-ui_packages_verified-fetch_verified-fetch_ts-ui_packages_safe-html_-d7e3f1-8681e57cea17.js"></script>
<script crossorigin="anonymous" defer="defer" type="application/javascript" src="https://github.githubassets.com/assets/app_assets_modules_react-shared_RefSelector_RefSelector_tsx-0ade0381bf11.js"></script>
<script crossorigin="anonymous" defer="defer" type="application/javascript" src="https://github.githubassets.com/assets/app_assets_modules_blackbird-monolith_hooks_use-navigate-to-query_ts-app_assets_modules_black-182e14-4606bbb51ec6.js"></script>
<script crossorigin="anonymous" defer="defer" type="application/javascript" src="https://github.githubassets.com/assets/ui_packages_trusted-types-policies_policy_ts-ui_packages_trusted-types_trusted-types_ts-app_a-af1c83-c0b6ae48f7ea.js"></script>
<script crossorigin="anonymous" defer="defer" type="application/javascript" src="https://github.githubassets.com/assets/react-code-view-3986245d6fec.js"></script>


  <title>regressao-mse/Regressão_mse.ipynb at main · MarcelloLM/regressao-mse</title>



  <meta name="route-pattern" content="/:user_id/:repository/blob/*name(/*path)">

    
  <meta name="current-catalog-service-hash" content="581425c0eaaa5e5e53c5b736f58a14dbe5d38b0be425901738ad0670bd1d5a33">


  <meta name="request-id" content="E673:4B30:1EEC10E:22008F0:645E268F" data-turbo-transient="true" /><meta name="html-safe-nonce" content="bd8a644c442886b51f85bee989cb16bdb390908e9738981612672e8abe711891" data-turbo-transient="true" /><meta name="visitor-payload" content="eyJyZWZlcnJlciI6Imh0dHBzOi8vZ2l0aHViLmNvbS9NYXJjZWxsb0xNL3JlZ3Jlc3Nhby1tc2UiLCJyZXF1ZXN0X2lkIjoiRTY3Mzo0QjMwOjFFRUMxMEU6MjIwMDhGMDo2NDVFMjY4RiIsInZpc2l0b3JfaWQiOiI3NDAyMDcwMjA1ODE4NjE4OTM2IiwicmVnaW9uX2VkZ2UiOiJicmF6aWxzb3V0aCIsInJlZ2lvbl9yZW5kZXIiOiJpYWQifQ==" data-turbo-transient="true" /><meta name="visitor-hmac" content="f395bfb5185ba33e028de4aab36b522a5646fc0f5b1a97a2cb761e7654c8820d" data-turbo-transient="true" />


    <meta name="hovercard-subject-tag" content="repository:619542496" data-turbo-transient>


  <meta name="github-keyboard-shortcuts" content="repository,source-code,file-tree" data-turbo-transient="true" />
  

  <meta name="selected-link" value="repo_source" data-turbo-transient>
  <link rel="assets" href="https://github.githubassets.com/">

    <meta name="google-site-verification" content="c1kuD-K2HIVF635lypcsWPoD4kilo5-jA_wBFyT4uMY">
  <meta name="google-site-verification" content="KT5gs8h0wvaagLKAVWq8bbeNwnZZK1r1XQysX3xurLU">
  <meta name="google-site-verification" content="ZzhVyEFwb7w3e0-uOTltm8Jsck2F5StVihD0exw2fsA">
  <meta name="google-site-verification" content="GXs5KoUUkNCoaAZn7wPN-t01Pywp9M3sEjnt_3_ZWPc">
  <meta name="google-site-verification" content="Apib7-x98H0j5cPqHWwSMm6dNU4GmODRoqxLiDzdx9I">

<meta name="octolytics-url" content="https://collector.github.com/github/collect" /><meta name="octolytics-actor-id" content="106484381" /><meta name="octolytics-actor-login" content="MarcelloLM" /><meta name="octolytics-actor-hash" content="9750732fe8a1dc0f4beff2bdf72e61ab08e69cc44630fc6197fbcda62e867496" />

  <meta name="analytics-location" content="/&lt;user-name&gt;/&lt;repo-name&gt;/blob/show" data-turbo-transient="true" />

  




  

    <meta name="user-login" content="MarcelloLM">

  <link rel="sudo-modal" href="/sessions/sudo_modal">

    <meta name="viewport" content="width=device-width">
    
      <meta name="description" content="Contribute to MarcelloLM/regressao-mse development by creating an account on GitHub.">
      <link rel="search" type="application/opensearchdescription+xml" href="/opensearch.xml" title="GitHub">
    <link rel="fluid-icon" href="https://github.com/fluidicon.png" title="GitHub">
    <meta property="fb:app_id" content="1401488693436528">
    <meta name="apple-itunes-app" content="app-id=1477376905" />
      <meta name="twitter:image:src" content="https://opengraph.githubassets.com/400797042c8ae228ff37eba0f55056ee49e32565fee8eb8d9f9ac0393079869c/MarcelloLM/regressao-mse" /><meta name="twitter:site" content="@github" /><meta name="twitter:card" content="summary_large_image" /><meta name="twitter:title" content="regressao-mse/Regressão_mse.ipynb at main · MarcelloLM/regressao-mse" /><meta name="twitter:description" content="Contribute to MarcelloLM/regressao-mse development by creating an account on GitHub." />
      <meta property="og:image" content="https://opengraph.githubassets.com/400797042c8ae228ff37eba0f55056ee49e32565fee8eb8d9f9ac0393079869c/MarcelloLM/regressao-mse" /><meta property="og:image:alt" content="Contribute to MarcelloLM/regressao-mse development by creating an account on GitHub." /><meta property="og:image:width" content="1200" /><meta property="og:image:height" content="600" /><meta property="og:site_name" content="GitHub" /><meta property="og:type" content="object" /><meta property="og:title" content="regressao-mse/Regressão_mse.ipynb at main · MarcelloLM/regressao-mse" /><meta property="og:url" content="https://github.com/MarcelloLM/regressao-mse" /><meta property="og:description" content="Contribute to MarcelloLM/regressao-mse development by creating an account on GitHub." />
      

      <link rel="shared-web-socket" href="wss://alive.github.com/_sockets/u/106484381/ws?session=eyJ2IjoiVjMiLCJ1IjoxMDY0ODQzODEsInMiOjExMTAwOTIzMDEsImMiOjEzMTU1NTkyOTQsInQiOjE2ODM4OTE4NjF9--92869c24be1751520adf3674a38af9df95db7e6b62cf64337e475010f219173b" data-refresh-url="/_alive" data-session-id="e629916af211804d0b0bc93e234868046f677ebd856a43524e5a502ec3e01337">
      <link rel="shared-web-socket-src" href="/assets-cdn/worker/socket-worker-71e98f781d79.js">


        <meta name="hostname" content="github.com">


      <meta name="keyboard-shortcuts-preference" content="all">

        <meta name="expected-hostname" content="github.com">

    <meta name="enabled-features" content="TURBO_EXPERIMENT_RISKY,IMAGE_METRIC_TRACKING,GEOJSON_AZURE_MAPS">


  <meta http-equiv="x-pjax-version" content="3807c417764ef84ea7031968fd961b802b0cb95a11ee99ccfca958ed7b1d7914" data-turbo-track="reload">
  <meta http-equiv="x-pjax-csp-version" content="0db263f9a873141d8256f783c35f244c06d490aacc3b680f99794dd8fd59fb59" data-turbo-track="reload">
  <meta http-equiv="x-pjax-css-version" content="e8aa01474d0c779a222d3c578e207f1c2a3df88c4896c35f0c67bac5015a1869" data-turbo-track="reload">
  <meta http-equiv="x-pjax-js-version" content="f70ea5b9052274af7e78261f6d80aa2ae693009e3f178b2df9ff5f579348cca6" data-turbo-track="reload">

  <meta name="turbo-cache-control" content="no-preview" data-turbo-transient="">

      <meta name="turbo-cache-control" content="no-cache" data-turbo-transient>
    <meta data-hydrostats="publish">

  <meta name="go-import" content="github.com/MarcelloLM/regressao-mse git https://github.com/MarcelloLM/regressao-mse.git">

  <meta name="octolytics-dimension-user_id" content="106484381" /><meta name="octolytics-dimension-user_login" content="MarcelloLM" /><meta name="octolytics-dimension-repository_id" content="619542496" /><meta name="octolytics-dimension-repository_nwo" content="MarcelloLM/regressao-mse" /><meta name="octolytics-dimension-repository_public" content="true" /><meta name="octolytics-dimension-repository_is_fork" content="false" /><meta name="octolytics-dimension-repository_network_root_id" content="619542496" /><meta name="octolytics-dimension-repository_network_root_nwo" content="MarcelloLM/regressao-mse" />



  <meta name="turbo-body-classes" content="logged-in env-production page-responsive">


  <meta name="browser-stats-url" content="https://api.github.com/_private/browser/stats">

  <meta name="browser-errors-url" content="https://api.github.com/_private/browser/errors">

  <meta name="browser-optimizely-client-errors-url" content="https://api.github.com/_private/browser/optimizely_client/errors">

  <link rel="mask-icon" href="https://github.githubassets.com/pinned-octocat.svg" color="#000000">
  <link rel="alternate icon" class="js-site-favicon" type="image/png" href="https://github.githubassets.com/favicons/favicon.png">
  <link rel="icon" class="js-site-favicon" type="image/svg+xml" href="https://github.githubassets.com/favicons/favicon.svg">

<meta name="theme-color" content="#1e2327">
<meta name="color-scheme" content="light dark" />


  <link rel="manifest" href="/manifest.json" crossOrigin="use-credentials">

  </head>

  <body class="logged-in env-production page-responsive" style="word-wrap: break-word;">
    <div data-turbo-body class="logged-in env-production page-responsive" style="word-wrap: break-word;">
      


    <div class="position-relative js-header-wrapper ">
      <a href="#start-of-content" class="p-3 color-bg-accent-emphasis color-fg-on-emphasis show-on-focus js-skip-to-content">Skip to content</a>
      <span data-view-component="true" class="progress-pjax-loader Progress position-fixed width-full">
    <span style="width: 0%;" data-view-component="true" class="Progress-item progress-pjax-loader-bar left-0 top-0 color-bg-accent-emphasis"></span>
</span>      
      


        <script crossorigin="anonymous" defer="defer" type="application/javascript" src="https://github.githubassets.com/assets/vendors-node_modules_allex_crc32_lib_crc32_esm_js-node_modules_github_mini-throttle_dist_deco-26fa0f-02e7ed68dae1.js"></script>
<script crossorigin="anonymous" defer="defer" type="application/javascript" src="https://github.githubassets.com/assets/vendors-node_modules_github_clipboard-copy-element_dist_index_esm_js-node_modules_delegated-e-b37f7d-a9177ba414f2.js"></script>
<script crossorigin="anonymous" defer="defer" type="application/javascript" src="https://github.githubassets.com/assets/app_assets_modules_github_command-palette_items_help-item_ts-app_assets_modules_github_comman-48ad9d-beffe41c24a7.js"></script>
<script crossorigin="anonymous" defer="defer" type="application/javascript" src="https://github.githubassets.com/assets/command-palette-c2a5f7e7eb12.js"></script>

            <header class="Header js-details-container Details px-3 px-md-4 px-lg-5 flex-wrap flex-md-nowrap" role="banner">

    <div class="Header-item mt-n1 mb-n1  d-none d-md-flex">
      <a
  class="Header-link"
  href="https://github.com/"
  data-hotkey="g d"
  aria-label="Homepage "
  data-turbo="false"
  data-analytics-event="{&quot;category&quot;:&quot;Header&quot;,&quot;action&quot;:&quot;go to dashboard&quot;,&quot;label&quot;:&quot;icon:logo&quot;}"
>
  <svg height="32" aria-hidden="true" viewBox="0 0 16 16" version="1.1" width="32" data-view-component="true" class="octicon octicon-mark-github v-align-middle">
    <path d="M8 0c4.42 0 8 3.58 8 8a8.013 8.013 0 0 1-5.45 7.59c-.4.08-.55-.17-.55-.38 0-.27.01-1.13.01-2.2 0-.75-.25-1.23-.54-1.48 1.78-.2 3.65-.88 3.65-3.95 0-.88-.31-1.59-.82-2.15.08-.2.36-1.02-.08-2.12 0 0-.67-.22-2.2.82-.64-.18-1.32-.27-2-.27-.68 0-1.36.09-2 .27-1.53-1.03-2.2-.82-2.2-.82-.44 1.1-.16 1.92-.08 2.12-.51.56-.82 1.28-.82 2.15 0 3.06 1.86 3.75 3.64 3.95-.23.2-.44.55-.51 1.07-.46.21-1.61.55-2.33-.66-.15-.24-.6-.83-1.23-.82-.67.01-.27.38.01.53.34.19.73.9.82 1.13.16.45.68 1.31 2.69.94 0 .67.01 1.3.01 1.49 0 .21-.15.45-.55.38A7.995 7.995 0 0 1 0 8c0-4.42 3.58-8 8-8Z"></path>
</svg>
</a>

    </div>

    <div class="Header-item d-md-none">
        <button aria-label="Toggle navigation" aria-expanded="false" type="button" data-view-component="true" class="Header-link js-details-target btn-link">    <svg aria-hidden="true" height="24" viewBox="0 0 16 16" version="1.1" width="24" data-view-component="true" class="octicon octicon-three-bars">
    <path d="M1 2.75A.75.75 0 0 1 1.75 2h12.5a.75.75 0 0 1 0 1.5H1.75A.75.75 0 0 1 1 2.75Zm0 5A.75.75 0 0 1 1.75 7h12.5a.75.75 0 0 1 0 1.5H1.75A.75.75 0 0 1 1 7.75ZM1.75 12h12.5a.75.75 0 0 1 0 1.5H1.75a.75.75 0 0 1 0-1.5Z"></path>
</svg>
</button>    </div>

    <div class="Header-item Header-item--full flex-column flex-md-row width-full flex-order-2 flex-md-order-none mr-0 mt-3 mt-md-0 Details-content--hidden-not-important d-md-flex">
              


<template id="search-icon">
  <svg aria-hidden="true" height="16" viewBox="0 0 16 16" version="1.1" width="16" data-view-component="true" class="octicon octicon-search">
    <path d="M10.68 11.74a6 6 0 0 1-7.922-8.982 6 6 0 0 1 8.982 7.922l3.04 3.04a.749.749 0 0 1-.326 1.275.749.749 0 0 1-.734-.215ZM11.5 7a4.499 4.499 0 1 0-8.997 0A4.499 4.499 0 0 0 11.5 7Z"></path>
</svg>
</template>

<template id="code-icon">
  <svg aria-hidden="true" height="16" viewBox="0 0 16 16" version="1.1" width="16" data-view-component="true" class="octicon octicon-code">
    <path d="m11.28 3.22 4.25 4.25a.75.75 0 0 1 0 1.06l-4.25 4.25a.749.749 0 0 1-1.275-.326.749.749 0 0 1 .215-.734L13.94 8l-3.72-3.72a.749.749 0 0 1 .326-1.275.749.749 0 0 1 .734.215Zm-6.56 0a.751.751 0 0 1 1.042.018.751.751 0 0 1 .018 1.042L2.06 8l3.72 3.72a.749.749 0 0 1-.326 1.275.749.749 0 0 1-.734-.215L.47 8.53a.75.75 0 0 1 0-1.06Z"></path>
</svg>
</template>

<template id="file-code-icon">
  <svg aria-hidden="true" height="16" viewBox="0 0 16 16" version="1.1" width="16" data-view-component="true" class="octicon octicon-file-code">
    <path d="M4 1.75C4 .784 4.784 0 5.75 0h5.586c.464 0 .909.184 1.237.513l2.914 2.914c.329.328.513.773.513 1.237v8.586A1.75 1.75 0 0 1 14.25 15h-9a.75.75 0 0 1 0-1.5h9a.25.25 0 0 0 .25-.25V6h-2.75A1.75 1.75 0 0 1 10 4.25V1.5H5.75a.25.25 0 0 0-.25.25v2.5a.75.75 0 0 1-1.5 0Zm1.72 4.97a.75.75 0 0 1 1.06 0l2 2a.75.75 0 0 1 0 1.06l-2 2a.749.749 0 0 1-1.275-.326.749.749 0 0 1 .215-.734l1.47-1.47-1.47-1.47a.75.75 0 0 1 0-1.06ZM3.28 7.78 1.81 9.25l1.47 1.47a.751.751 0 0 1-.018 1.042.751.751 0 0 1-1.042.018l-2-2a.75.75 0 0 1 0-1.06l2-2a.751.751 0 0 1 1.042.018.751.751 0 0 1 .018 1.042Zm8.22-6.218V4.25c0 .138.112.25.25.25h2.688l-.011-.013-2.914-2.914-.013-.011Z"></path>
</svg>
</template>

<template id="history-icon">
  <svg aria-hidden="true" height="16" viewBox="0 0 16 16" version="1.1" width="16" data-view-component="true" class="octicon octicon-history">
    <path d="m.427 1.927 1.215 1.215a8.002 8.002 0 1 1-1.6 5.685.75.75 0 1 1 1.493-.154 6.5 6.5 0 1 0 1.18-4.458l1.358 1.358A.25.25 0 0 1 3.896 6H.25A.25.25 0 0 1 0 5.75V2.104a.25.25 0 0 1 .427-.177ZM7.75 4a.75.75 0 0 1 .75.75v2.992l2.028.812a.75.75 0 0 1-.557 1.392l-2.5-1A.751.751 0 0 1 7 8.25v-3.5A.75.75 0 0 1 7.75 4Z"></path>
</svg>
</template>

<template id="repo-icon">
  <svg aria-hidden="true" height="16" viewBox="0 0 16 16" version="1.1" width="16" data-view-component="true" class="octicon octicon-repo">
    <path d="M2 2.5A2.5 2.5 0 0 1 4.5 0h8.75a.75.75 0 0 1 .75.75v12.5a.75.75 0 0 1-.75.75h-2.5a.75.75 0 0 1 0-1.5h1.75v-2h-8a1 1 0 0 0-.714 1.7.75.75 0 1 1-1.072 1.05A2.495 2.495 0 0 1 2 11.5Zm10.5-1h-8a1 1 0 0 0-1 1v6.708A2.486 2.486 0 0 1 4.5 9h8ZM5 12.25a.25.25 0 0 1 .25-.25h3.5a.25.25 0 0 1 .25.25v3.25a.25.25 0 0 1-.4.2l-1.45-1.087a.249.249 0 0 0-.3 0L5.4 15.7a.25.25 0 0 1-.4-.2Z"></path>
</svg>
</template>

<template id="bookmark-icon">
  <svg aria-hidden="true" height="16" viewBox="0 0 16 16" version="1.1" width="16" data-view-component="true" class="octicon octicon-bookmark">
    <path d="M3 2.75C3 1.784 3.784 1 4.75 1h6.5c.966 0 1.75.784 1.75 1.75v11.5a.75.75 0 0 1-1.227.579L8 11.722l-3.773 3.107A.751.751 0 0 1 3 14.25Zm1.75-.25a.25.25 0 0 0-.25.25v9.91l3.023-2.489a.75.75 0 0 1 .954 0l3.023 2.49V2.75a.25.25 0 0 0-.25-.25Z"></path>
</svg>
</template>

<template id="plus-circle-icon">
  <svg aria-hidden="true" height="16" viewBox="0 0 16 16" version="1.1" width="16" data-view-component="true" class="octicon octicon-plus-circle">
    <path d="M8 0a8 8 0 1 1 0 16A8 8 0 0 1 8 0ZM1.5 8a6.5 6.5 0 1 0 13 0 6.5 6.5 0 0 0-13 0Zm7.25-3.25v2.5h2.5a.75.75 0 0 1 0 1.5h-2.5v2.5a.75.75 0 0 1-1.5 0v-2.5h-2.5a.75.75 0 0 1 0-1.5h2.5v-2.5a.75.75 0 0 1 1.5 0Z"></path>
</svg>
</template>

<template id="circle-icon">
  <svg aria-hidden="true" height="16" viewBox="0 0 16 16" version="1.1" width="16" data-view-component="true" class="octicon octicon-dot-fill">
    <path d="M8 4a4 4 0 1 1 0 8 4 4 0 0 1 0-8Z"></path>
</svg>
</template>

<template id="trash-icon">
  <svg aria-hidden="true" height="16" viewBox="0 0 16 16" version="1.1" width="16" data-view-component="true" class="octicon octicon-trash">
    <path d="M11 1.75V3h2.25a.75.75 0 0 1 0 1.5H2.75a.75.75 0 0 1 0-1.5H5V1.75C5 .784 5.784 0 6.75 0h2.5C10.216 0 11 .784 11 1.75ZM4.496 6.675l.66 6.6a.25.25 0 0 0 .249.225h5.19a.25.25 0 0 0 .249-.225l.66-6.6a.75.75 0 0 1 1.492.149l-.66 6.6A1.748 1.748 0 0 1 10.595 15h-5.19a1.75 1.75 0 0 1-1.741-1.575l-.66-6.6a.75.75 0 1 1 1.492-.15ZM6.5 1.75V3h3V1.75a.25.25 0 0 0-.25-.25h-2.5a.25.25 0 0 0-.25.25Z"></path>
</svg>
</template>

<template id="team-icon">
  <svg aria-hidden="true" height="16" viewBox="0 0 16 16" version="1.1" width="16" data-view-component="true" class="octicon octicon-people">
    <path d="M2 5.5a3.5 3.5 0 1 1 5.898 2.549 5.508 5.508 0 0 1 3.034 4.084.75.75 0 1 1-1.482.235 4 4 0 0 0-7.9 0 .75.75 0 0 1-1.482-.236A5.507 5.507 0 0 1 3.102 8.05 3.493 3.493 0 0 1 2 5.5ZM11 4a3.001 3.001 0 0 1 2.22 5.018 5.01 5.01 0 0 1 2.56 3.012.749.749 0 0 1-.885.954.752.752 0 0 1-.549-.514 3.507 3.507 0 0 0-2.522-2.372.75.75 0 0 1-.574-.73v-.352a.75.75 0 0 1 .416-.672A1.5 1.5 0 0 0 11 5.5.75.75 0 0 1 11 4Zm-5.5-.5a2 2 0 1 0-.001 3.999A2 2 0 0 0 5.5 3.5Z"></path>
</svg>
</template>

<template id="project-icon">
  <svg aria-hidden="true" height="16" viewBox="0 0 16 16" version="1.1" width="16" data-view-component="true" class="octicon octicon-project">
    <path d="M1.75 0h12.5C15.216 0 16 .784 16 1.75v12.5A1.75 1.75 0 0 1 14.25 16H1.75A1.75 1.75 0 0 1 0 14.25V1.75C0 .784.784 0 1.75 0ZM1.5 1.75v12.5c0 .138.112.25.25.25h12.5a.25.25 0 0 0 .25-.25V1.75a.25.25 0 0 0-.25-.25H1.75a.25.25 0 0 0-.25.25ZM11.75 3a.75.75 0 0 1 .75.75v7.5a.75.75 0 0 1-1.5 0v-7.5a.75.75 0 0 1 .75-.75Zm-8.25.75a.75.75 0 0 1 1.5 0v5.5a.75.75 0 0 1-1.5 0ZM8 3a.75.75 0 0 1 .75.75v3.5a.75.75 0 0 1-1.5 0v-3.5A.75.75 0 0 1 8 3Z"></path>
</svg>
</template>

<template id="pencil-icon">
  <svg aria-hidden="true" height="16" viewBox="0 0 16 16" version="1.1" width="16" data-view-component="true" class="octicon octicon-pencil">
    <path d="M11.013 1.427a1.75 1.75 0 0 1 2.474 0l1.086 1.086a1.75 1.75 0 0 1 0 2.474l-8.61 8.61c-.21.21-.47.364-.756.445l-3.251.93a.75.75 0 0 1-.927-.928l.929-3.25c.081-.286.235-.547.445-.758l8.61-8.61Zm.176 4.823L9.75 4.81l-6.286 6.287a.253.253 0 0 0-.064.108l-.558 1.953 1.953-.558a.253.253 0 0 0 .108-.064Zm1.238-3.763a.25.25 0 0 0-.354 0L10.811 3.75l1.439 1.44 1.263-1.263a.25.25 0 0 0 0-.354Z"></path>
</svg>
</template>

<qbsearch-input class="search-input" data-scope="repo:MarcelloLM/regressao-mse" data-custom-scopes-path="/search/custom_scopes" data-delete-custom-scopes-csrf="rGt1MADaVPiOevxvkbfClWxtewPlI0dRqcnSbceu40d6uRZlGVJxxRMbNb8KLzEOVgiMbziUiTvz0sTVlC2ogg" data-max-custom-scopes="10" data-header-redesign-enabled="false" data-initial-value="" data-blackbird-suggestions-path="/search/suggestions" data-jump-to-suggestions-path="/_graphql/GetSuggestedNavigationDestinations" data-current-repository="MarcelloLM/regressao-mse" data-current-org="" data-current-owner="MarcelloLM">
  <div
    class="search-input-container search-with-dialog position-relative d-flex flex-row flex-items-center mr-4 rounded"
    data-action="click:qbsearch-input#searchInputContainerClicked"
  >
      <button
        type="button"
        class="header-search-button placeholder  input-button form-control d-flex flex-1 flex-self-stretch flex-items-center no-wrap width-full py-0 pl-2 pr-0 text-left border-0 box-shadow-none"
        data-target="qbsearch-input.inputButton"
        placeholder="Search or jump to..."
        data-hotkey=s,/
        autocapitalize="off"
        data-action="click:qbsearch-input#handleExpand"
      >
        <div class="mr-2 color-fg-muted">
          <svg aria-hidden="true" height="16" viewBox="0 0 16 16" version="1.1" width="16" data-view-component="true" class="octicon octicon-search">
    <path d="M10.68 11.74a6 6 0 0 1-7.922-8.982 6 6 0 0 1 8.982 7.922l3.04 3.04a.749.749 0 0 1-.326 1.275.749.749 0 0 1-.734-.215ZM11.5 7a4.499 4.499 0 1 0-8.997 0A4.499 4.499 0 0 0 11.5 7Z"></path>
</svg>
        </div>
        <span class="flex-1" data-target="qbsearch-input.inputButtonText">Search or jump to...</span>
          <div class="d-flex" data-target="qbsearch-input.hotkeyIndicator">
            <svg xmlns="http://www.w3.org/2000/svg" width="22" height="20" aria-hidden="true" class="mr-1"><path fill="none" stroke="#979A9C" opacity=".4" d="M3.5.5h12c1.7 0 3 1.3 3 3v13c0 1.7-1.3 3-3 3h-12c-1.7 0-3-1.3-3-3v-13c0-1.7 1.3-3 3-3z"></path><path fill="#979A9C" d="M11.8 6L8 15.1h-.9L10.8 6h1z"></path></svg>

          </div>
      </button>

    <input type="hidden" name="type" class="js-site-search-type-field">

    
<div class="Overlay--hidden " data-modal-dialog-overlay>
  <modal-dialog data-action="close:qbsearch-input#handleClose cancel:qbsearch-input#handleClose" data-target="qbsearch-input.searchSuggestionsDialog" role="dialog" id="search-suggestions-dialog" aria-modal="true" aria-labelledby="search-suggestions-dialog-header" data-view-component="true" class="Overlay Overlay--width-large Overlay--height-auto">
      <h1 id="search-suggestions-dialog-header" class="sr-only">Search code, repositories, users, issues, pull requests...</h1>
    <div class="Overlay-body Overlay-body--paddingNone">
      
          <div data-view-component="true">        <div class="search-suggestions position-absolute width-full color-shadow-large border color-fg-default color-bg-default overflow-hidden d-flex flex-column query-builder-container"
          style="border-radius: 12px;"
          data-target="qbsearch-input.queryBuilderContainer"
          hidden
        >
          <!-- '"` --><!-- </textarea></xmp> --></option></form><form id="query-builder-test-form" action="" accept-charset="UTF-8" method="get">
  <query-builder data-target="qbsearch-input.queryBuilder" id="query-builder-query-builder-test" data-filter-key=":" data-view-component="true" class="QueryBuilder search-query-builder">
    <div class="FormControl FormControl--fullWidth">
      <label id="query-builder-test-label" for="query-builder-test" class="FormControl-label sr-only">
        Search
      </label>
      <div class="QueryBuilder-StyledInput width-fit" data-target="query-builder.styledInput">
          <span id="query-builder-test-leadingvisual-wrap" class="FormControl-input-leadingVisualWrap QueryBuilder-leadingVisualWrap">
            <svg aria-hidden="true" height="16" viewBox="0 0 16 16" version="1.1" width="16" data-view-component="true" class="octicon octicon-search FormControl-input-leadingVisual">
    <path d="M10.68 11.74a6 6 0 0 1-7.922-8.982 6 6 0 0 1 8.982 7.922l3.04 3.04a.749.749 0 0 1-.326 1.275.749.749 0 0 1-.734-.215ZM11.5 7a4.499 4.499 0 1 0-8.997 0A4.499 4.499 0 0 0 11.5 7Z"></path>
</svg>
          </span>
        <div data-target="query-builder.styledInputContainer" class="QueryBuilder-StyledInputContainer">
          <div
            aria-hidden="true"
            class="QueryBuilder-StyledInputContent"
            data-target="query-builder.styledInputContent"
          ></div>
          <div class="QueryBuilder-InputWrapper">
            <div aria-hidden="true" class="QueryBuilder-Sizer" data-target="query-builder.sizer"></div>
            <input id="query-builder-test" name="query-builder-test" value="" autocomplete="off" type="text" role="combobox" spellcheck="false" aria-expanded="false" data-target="query-builder.input" data-action="
          input:query-builder#inputChange
          blur:query-builder#inputBlur
          keydown:query-builder#inputKeydown
          focus:query-builder#inputFocus
        " data-view-component="true" class="FormControl-input QueryBuilder-Input FormControl-medium" />
          </div>
        </div>
          <span class="sr-only" id="query-builder-test-clear">Clear</span>
          
  <button role="button" id="query-builder-test-clear-button" aria-labelledby="query-builder-test-clear query-builder-test-label" data-target="query-builder.clearButton" data-action="
                click:query-builder#clear
                focus:query-builder#clearButtonFocus
                blur:query-builder#clearButtonBlur
              " variant="small" hidden="hidden" type="button" data-view-component="true" class="Button Button--iconOnly Button--invisible Button--medium mr-1 px-2 py-0 d-flex flex-items-center rounded-1 color-fg-muted">    <svg aria-hidden="true" height="16" viewBox="0 0 16 16" version="1.1" width="16" data-view-component="true" class="octicon octicon-x-circle-fill Button-visual">
    <path d="M2.343 13.657A8 8 0 1 1 13.658 2.343 8 8 0 0 1 2.343 13.657ZM6.03 4.97a.751.751 0 0 0-1.042.018.751.751 0 0 0-.018 1.042L6.94 8 4.97 9.97a.749.749 0 0 0 .326 1.275.749.749 0 0 0 .734-.215L8 9.06l1.97 1.97a.749.749 0 0 0 1.275-.326.749.749 0 0 0-.215-.734L9.06 8l1.97-1.97a.749.749 0 0 0-.326-1.275.749.749 0 0 0-.734.215L8 6.94Z"></path>
</svg>
</button>  

      </div>
      <template id="search-icon">
  <svg aria-hidden="true" height="16" viewBox="0 0 16 16" version="1.1" width="16" data-view-component="true" class="octicon octicon-search">
    <path d="M10.68 11.74a6 6 0 0 1-7.922-8.982 6 6 0 0 1 8.982 7.922l3.04 3.04a.749.749 0 0 1-.326 1.275.749.749 0 0 1-.734-.215ZM11.5 7a4.499 4.499 0 1 0-8.997 0A4.499 4.499 0 0 0 11.5 7Z"></path>
</svg>
</template>

<template id="code-icon">
  <svg aria-hidden="true" height="16" viewBox="0 0 16 16" version="1.1" width="16" data-view-component="true" class="octicon octicon-code">
    <path d="m11.28 3.22 4.25 4.25a.75.75 0 0 1 0 1.06l-4.25 4.25a.749.749 0 0 1-1.275-.326.749.749 0 0 1 .215-.734L13.94 8l-3.72-3.72a.749.749 0 0 1 .326-1.275.749.749 0 0 1 .734.215Zm-6.56 0a.751.751 0 0 1 1.042.018.751.751 0 0 1 .018 1.042L2.06 8l3.72 3.72a.749.749 0 0 1-.326 1.275.749.749 0 0 1-.734-.215L.47 8.53a.75.75 0 0 1 0-1.06Z"></path>
</svg>
</template>

<template id="file-code-icon">
  <svg aria-hidden="true" height="16" viewBox="0 0 16 16" version="1.1" width="16" data-view-component="true" class="octicon octicon-file-code">
    <path d="M4 1.75C4 .784 4.784 0 5.75 0h5.586c.464 0 .909.184 1.237.513l2.914 2.914c.329.328.513.773.513 1.237v8.586A1.75 1.75 0 0 1 14.25 15h-9a.75.75 0 0 1 0-1.5h9a.25.25 0 0 0 .25-.25V6h-2.75A1.75 1.75 0 0 1 10 4.25V1.5H5.75a.25.25 0 0 0-.25.25v2.5a.75.75 0 0 1-1.5 0Zm1.72 4.97a.75.75 0 0 1 1.06 0l2 2a.75.75 0 0 1 0 1.06l-2 2a.749.749 0 0 1-1.275-.326.749.749 0 0 1 .215-.734l1.47-1.47-1.47-1.47a.75.75 0 0 1 0-1.06ZM3.28 7.78 1.81 9.25l1.47 1.47a.751.751 0 0 1-.018 1.042.751.751 0 0 1-1.042.018l-2-2a.75.75 0 0 1 0-1.06l2-2a.751.751 0 0 1 1.042.018.751.751 0 0 1 .018 1.042Zm8.22-6.218V4.25c0 .138.112.25.25.25h2.688l-.011-.013-2.914-2.914-.013-.011Z"></path>
</svg>
</template>

<template id="history-icon">
  <svg aria-hidden="true" height="16" viewBox="0 0 16 16" version="1.1" width="16" data-view-component="true" class="octicon octicon-history">
    <path d="m.427 1.927 1.215 1.215a8.002 8.002 0 1 1-1.6 5.685.75.75 0 1 1 1.493-.154 6.5 6.5 0 1 0 1.18-4.458l1.358 1.358A.25.25 0 0 1 3.896 6H.25A.25.25 0 0 1 0 5.75V2.104a.25.25 0 0 1 .427-.177ZM7.75 4a.75.75 0 0 1 .75.75v2.992l2.028.812a.75.75 0 0 1-.557 1.392l-2.5-1A.751.751 0 0 1 7 8.25v-3.5A.75.75 0 0 1 7.75 4Z"></path>
</svg>
</template>

<template id="repo-icon">
  <svg aria-hidden="true" height="16" viewBox="0 0 16 16" version="1.1" width="16" data-view-component="true" class="octicon octicon-repo">
    <path d="M2 2.5A2.5 2.5 0 0 1 4.5 0h8.75a.75.75 0 0 1 .75.75v12.5a.75.75 0 0 1-.75.75h-2.5a.75.75 0 0 1 0-1.5h1.75v-2h-8a1 1 0 0 0-.714 1.7.75.75 0 1 1-1.072 1.05A2.495 2.495 0 0 1 2 11.5Zm10.5-1h-8a1 1 0 0 0-1 1v6.708A2.486 2.486 0 0 1 4.5 9h8ZM5 12.25a.25.25 0 0 1 .25-.25h3.5a.25.25 0 0 1 .25.25v3.25a.25.25 0 0 1-.4.2l-1.45-1.087a.249.249 0 0 0-.3 0L5.4 15.7a.25.25 0 0 1-.4-.2Z"></path>
</svg>
</template>

<template id="bookmark-icon">
  <svg aria-hidden="true" height="16" viewBox="0 0 16 16" version="1.1" width="16" data-view-component="true" class="octicon octicon-bookmark">
    <path d="M3 2.75C3 1.784 3.784 1 4.75 1h6.5c.966 0 1.75.784 1.75 1.75v11.5a.75.75 0 0 1-1.227.579L8 11.722l-3.773 3.107A.751.751 0 0 1 3 14.25Zm1.75-.25a.25.25 0 0 0-.25.25v9.91l3.023-2.489a.75.75 0 0 1 .954 0l3.023 2.49V2.75a.25.25 0 0 0-.25-.25Z"></path>
</svg>
</template>

<template id="plus-circle-icon">
  <svg aria-hidden="true" height="16" viewBox="0 0 16 16" version="1.1" width="16" data-view-component="true" class="octicon octicon-plus-circle">
    <path d="M8 0a8 8 0 1 1 0 16A8 8 0 0 1 8 0ZM1.5 8a6.5 6.5 0 1 0 13 0 6.5 6.5 0 0 0-13 0Zm7.25-3.25v2.5h2.5a.75.75 0 0 1 0 1.5h-2.5v2.5a.75.75 0 0 1-1.5 0v-2.5h-2.5a.75.75 0 0 1 0-1.5h2.5v-2.5a.75.75 0 0 1 1.5 0Z"></path>
</svg>
</template>

<template id="circle-icon">
  <svg aria-hidden="true" height="16" viewBox="0 0 16 16" version="1.1" width="16" data-view-component="true" class="octicon octicon-dot-fill">
    <path d="M8 4a4 4 0 1 1 0 8 4 4 0 0 1 0-8Z"></path>
</svg>
</template>

<template id="trash-icon">
  <svg aria-hidden="true" height="16" viewBox="0 0 16 16" version="1.1" width="16" data-view-component="true" class="octicon octicon-trash">
    <path d="M11 1.75V3h2.25a.75.75 0 0 1 0 1.5H2.75a.75.75 0 0 1 0-1.5H5V1.75C5 .784 5.784 0 6.75 0h2.5C10.216 0 11 .784 11 1.75ZM4.496 6.675l.66 6.6a.25.25 0 0 0 .249.225h5.19a.25.25 0 0 0 .249-.225l.66-6.6a.75.75 0 0 1 1.492.149l-.66 6.6A1.748 1.748 0 0 1 10.595 15h-5.19a1.75 1.75 0 0 1-1.741-1.575l-.66-6.6a.75.75 0 1 1 1.492-.15ZM6.5 1.75V3h3V1.75a.25.25 0 0 0-.25-.25h-2.5a.25.25 0 0 0-.25.25Z"></path>
</svg>
</template>

<template id="team-icon">
  <svg aria-hidden="true" height="16" viewBox="0 0 16 16" version="1.1" width="16" data-view-component="true" class="octicon octicon-people">
    <path d="M2 5.5a3.5 3.5 0 1 1 5.898 2.549 5.508 5.508 0 0 1 3.034 4.084.75.75 0 1 1-1.482.235 4 4 0 0 0-7.9 0 .75.75 0 0 1-1.482-.236A5.507 5.507 0 0 1 3.102 8.05 3.493 3.493 0 0 1 2 5.5ZM11 4a3.001 3.001 0 0 1 2.22 5.018 5.01 5.01 0 0 1 2.56 3.012.749.749 0 0 1-.885.954.752.752 0 0 1-.549-.514 3.507 3.507 0 0 0-2.522-2.372.75.75 0 0 1-.574-.73v-.352a.75.75 0 0 1 .416-.672A1.5 1.5 0 0 0 11 5.5.75.75 0 0 1 11 4Zm-5.5-.5a2 2 0 1 0-.001 3.999A2 2 0 0 0 5.5 3.5Z"></path>
</svg>
</template>

<template id="project-icon">
  <svg aria-hidden="true" height="16" viewBox="0 0 16 16" version="1.1" width="16" data-view-component="true" class="octicon octicon-project">
    <path d="M1.75 0h12.5C15.216 0 16 .784 16 1.75v12.5A1.75 1.75 0 0 1 14.25 16H1.75A1.75 1.75 0 0 1 0 14.25V1.75C0 .784.784 0 1.75 0ZM1.5 1.75v12.5c0 .138.112.25.25.25h12.5a.25.25 0 0 0 .25-.25V1.75a.25.25 0 0 0-.25-.25H1.75a.25.25 0 0 0-.25.25ZM11.75 3a.75.75 0 0 1 .75.75v7.5a.75.75 0 0 1-1.5 0v-7.5a.75.75 0 0 1 .75-.75Zm-8.25.75a.75.75 0 0 1 1.5 0v5.5a.75.75 0 0 1-1.5 0ZM8 3a.75.75 0 0 1 .75.75v3.5a.75.75 0 0 1-1.5 0v-3.5A.75.75 0 0 1 8 3Z"></path>
</svg>
</template>

<template id="pencil-icon">
  <svg aria-hidden="true" height="16" viewBox="0 0 16 16" version="1.1" width="16" data-view-component="true" class="octicon octicon-pencil">
    <path d="M11.013 1.427a1.75 1.75 0 0 1 2.474 0l1.086 1.086a1.75 1.75 0 0 1 0 2.474l-8.61 8.61c-.21.21-.47.364-.756.445l-3.251.93a.75.75 0 0 1-.927-.928l.929-3.25c.081-.286.235-.547.445-.758l8.61-8.61Zm.176 4.823L9.75 4.81l-6.286 6.287a.253.253 0 0 0-.064.108l-.558 1.953 1.953-.558a.253.253 0 0 0 .108-.064Zm1.238-3.763a.25.25 0 0 0-.354 0L10.811 3.75l1.439 1.44 1.263-1.263a.25.25 0 0 0 0-.354Z"></path>
</svg>
</template>

        <div class="position-relative">
                <ul
                  role="listbox"
                  class="ActionListWrap QueryBuilder-ListWrap"
                  aria-label="Suggestions"
                  data-action="
                    combobox-commit:query-builder#comboboxCommit
                    mousedown:query-builder#resultsMousedown
                  "
                  data-target="query-builder.resultsList"
                  data-persist-list=false
                  id="query-builder-test-results"
                ></ul>
        </div>
    </div>
    <div data-target="query-builder.screenReaderFeedback" aria-live="polite" aria-atomic="true" class="sr-only"></div>
</query-builder></form>
          <div class="d-flex flex-row color-fg-muted px-3 text-small color-bg-default search-feedback-prompt">
            <a target="_blank" href="https://docs.github.com/en/search-github/github-code-search/understanding-github-code-search-syntax" data-view-component="true" class="color-fg-accent text-normal ml-2">
              Search syntax tips
</a>            <div class="d-flex flex-1"></div>
              <button data-action="click:qbsearch-input#showFeedbackDialog" type="button" data-view-component="true" class="Button--link Button--medium Button color-fg-accent text-normal ml-2">    <span class="Button-content">
      <span class="Button-label">Give feedback</span>
    </span>
</button>  
          </div>
        </div>
</div>

    </div>
</modal-dialog></div>
  </div>
  <div data-action="click:qbsearch-input#retract" class="dark-backdrop position-fixed width-full" hidden data-target="qbsearch-input.darkBackdrop"></div>
  <div class="color-fg-default">
    
<div class="Overlay--hidden Overlay-backdrop--center" data-modal-dialog-overlay>
  <modal-dialog data-target="qbsearch-input.feedbackDialog" data-action="close:qbsearch-input#handleDialogClose cancel:qbsearch-input#handleDialogClose" role="dialog" id="feedback-dialog" aria-modal="true" aria-disabled="true" aria-describedby="feedback-dialog-title feedback-dialog-description" data-view-component="true" class="Overlay Overlay-whenNarrow Overlay--size-medium Overlay--motion-scaleFade">
    <div data-view-component="true" class="Overlay-header">
  <div class="Overlay-headerContentWrap">
    <div class="Overlay-titleWrap">
      <h1 class="Overlay-title " id="feedback-dialog-title">
        Provide feedback
      </h1>
    </div>
    <div class="Overlay-actionWrap">
      <button data-close-dialog-id="feedback-dialog" aria-label="Close" type="button" data-view-component="true" class="close-button Overlay-closeButton"><svg aria-hidden="true" height="16" viewBox="0 0 16 16" version="1.1" width="16" data-view-component="true" class="octicon octicon-x">
    <path d="M3.72 3.72a.75.75 0 0 1 1.06 0L8 6.94l3.22-3.22a.749.749 0 0 1 1.275.326.749.749 0 0 1-.215.734L9.06 8l3.22 3.22a.749.749 0 0 1-.326 1.275.749.749 0 0 1-.734-.215L8 9.06l-3.22 3.22a.751.751 0 0 1-1.042-.018.751.751 0 0 1-.018-1.042L6.94 8 3.72 4.78a.75.75 0 0 1 0-1.06Z"></path>
</svg></button>
    </div>
  </div>
</div>
      <div data-view-component="true" class="Overlay-body">        <!-- '"` --><!-- </textarea></xmp> --></option></form><form id="code-search-feedback-form" data-turbo="false" action="/search/feedback" accept-charset="UTF-8" method="post"><input type="hidden" name="authenticity_token" value="6LIWngWE2AbUJpWBjRNHJFgeOGXjfhHvkKQaJ3NGzuzyCfSrZj3dn2NxdbF_qT-pORFd9NVms1WCCBfcL4gRmg" />
          <p>We read every piece of feedback, and take your input very seriously.</p>
          <textarea name="feedback" class="form-control width-full mb-2" style="height: 120px" id="feedback"></textarea>
          <input name="include_email" id="include_email" aria-label="Include my email address so I can be contacted" class="form-control mr-2" type="checkbox">
          <label for="include_email" style="font-weight: normal">Include my email address so I can be contacted</label>
</form></div>
      <div data-view-component="true" class="Overlay-footer Overlay-footer--alignEnd">          <button data-close-dialog-id="feedback-dialog" type="button" data-view-component="true" class="btn">    Cancel
</button>
          <button form="code-search-feedback-form" data-action="click:qbsearch-input#submitFeedback" type="submit" data-view-component="true" class="btn-primary btn">    Submit feedback
</button>
</div>
</modal-dialog></div>

    <custom-scopes data-target="qbsearch-input.customScopesManager">
    
<div class="Overlay--hidden Overlay-backdrop--center" data-modal-dialog-overlay>
  <modal-dialog data-target="custom-scopes.customScopesModalDialog" data-action="close:qbsearch-input#handleDialogClose cancel:qbsearch-input#handleDialogClose" role="dialog" id="custom-scopes-dialog" aria-modal="true" aria-disabled="true" aria-describedby="custom-scopes-dialog-title custom-scopes-dialog-description" data-view-component="true" class="Overlay Overlay-whenNarrow Overlay--size-medium Overlay--motion-scaleFade">
    <div data-view-component="true" class="Overlay-header Overlay-header--divided">
  <div class="Overlay-headerContentWrap">
    <div class="Overlay-titleWrap">
      <h1 class="Overlay-title " id="custom-scopes-dialog-title">
        Saved searches
      </h1>
        <h2 id="custom-scopes-dialog-description" class="Overlay-description">Use saved searches to filter your results more quickly</h2>
    </div>
    <div class="Overlay-actionWrap">
      <button data-close-dialog-id="custom-scopes-dialog" aria-label="Close" type="button" data-view-component="true" class="close-button Overlay-closeButton"><svg aria-hidden="true" height="16" viewBox="0 0 16 16" version="1.1" width="16" data-view-component="true" class="octicon octicon-x">
    <path d="M3.72 3.72a.75.75 0 0 1 1.06 0L8 6.94l3.22-3.22a.749.749 0 0 1 1.275.326.749.749 0 0 1-.215.734L9.06 8l3.22 3.22a.749.749 0 0 1-.326 1.275.749.749 0 0 1-.734-.215L8 9.06l-3.22 3.22a.751.751 0 0 1-1.042-.018.751.751 0 0 1-.018-1.042L6.94 8 3.72 4.78a.75.75 0 0 1 0-1.06Z"></path>
</svg></button>
    </div>
  </div>
</div>
      <div data-view-component="true" class="Overlay-body">        <div data-target="custom-scopes.customScopesModalDialogFlash"></div>

        <div hidden class="create-custom-scope-form" data-target="custom-scopes.createCustomScopeForm">
        <!-- '"` --><!-- </textarea></xmp> --></option></form><form id="custom-scopes-dialog-form" data-turbo="false" action="/search/custom_scopes" accept-charset="UTF-8" method="post"><input type="hidden" name="authenticity_token" value="J17d8O9dlOaRI0GdngROCjDiBRdLxp3fkxczJTUBeJbuuU60BrMmB7NYSPLtDctr7n25EFAP0N7j9RHuEaYa7A" />
          <div data-target="custom-scopes.customScopesModalDialogFlash"></div>

          <input type="hidden" id="custom_scope_id" name="custom_scope_id" data-target="custom-scopes.customScopesIdField">

          <div class="form-group">
            <label for="custom_scope_name">Name</label>
            <auto-check src="/search/custom_scopes/check_name" required>
              <input
                type="text"
                name="custom_scope_name"
                id="custom_scope_name"
                data-target="custom-scopes.customScopesNameField"
                class="form-control"
                autocomplete="off"
                placeholder="github-ruby"
                required
                maxlength="50">
              <input type="hidden" value="wCG7B7lmVe4IbAFLwCGBmxn0hYNxOynHxyGQsihjpyDUMHoj28nEG91D3IR6YjSnrkxGQyEma5plVaG-1Z80tQ" data-csrf="true" />
            </auto-check>
          </div>

          <div class="form-group">
            <label for="custom_scope_query">Query</label>
            <input
              type="text"
              name="custom_scope_query"
              id="custom_scope_query"
              data-target="custom-scopes.customScopesQueryField"
              class="form-control"
              autocomplete="off"
              placeholder="(repo:mona/a OR repo:mona/b) AND lang:python"
              required
              maxlength="500">
          </div>

          <p class="text-small color-fg-muted">
            To see all available qualifiers, see our <a href="https://docs.github.com/en/search-github/github-code-search/understanding-github-code-search-syntax">documentation</a>.
          </p>
</form>        </div>

        <div data-target="custom-scopes.manageCustomScopesForm">
          <div data-target="custom-scopes.list"></div>
        </div>

</div>
      <div data-view-component="true" class="Overlay-footer Overlay-footer--alignEnd Overlay-footer--divided">          <button data-action="click:custom-scopes#customScopesCancel" type="button" data-view-component="true" class="btn">    Cancel
</button>
          <button form="custom-scopes-dialog-form" data-action="click:custom-scopes#customScopesSubmit" data-target="custom-scopes.customScopesSubmitButton" type="submit" data-view-component="true" class="btn-primary btn">    Create saved search
</button>
</div>
</modal-dialog></div>
    </custom-scopes>
  </div>
</qbsearch-input><input type="hidden" value="ZU3w2w03v1gnRLGJqtX63ERqyxwlt_TL0MBgBuHwb5HxgKuZBVNubCMQTC95Fior3eVVAXXrSWq5VEq0V0qKCg" data-csrf="true" class="js-data-jump-to-suggestions-path-csrf" />

        <nav id="global-nav" class="d-flex flex-column flex-md-row flex-self-stretch flex-md-self-auto" aria-label="Global">
    <a class="Header-link py-md-3 d-block d-md-none py-2 border-top border-md-top-0 border-white-fade" data-ga-click="Header, click, Nav menu - item:dashboard:user" aria-label="Dashboard" data-turbo="false" href="/dashboard">Dashboard</a>

  <a class="js-selected-navigation-item Header-link mt-md-n3 mb-md-n3 py-2 py-md-3 mr-0 mr-md-3 border-top border-md-top-0 border-white-fade" data-hotkey="g p" data-ga-click="Header, click, Nav menu - item:pulls context:user" aria-label="Pull requests you created" data-turbo="false" data-selected-links="/pulls /pulls/assigned /pulls/mentioned /pulls" href="/pulls">
      Pull<span class="d-inline d-md-none d-lg-inline"> request</span>s
</a>
  <a class="js-selected-navigation-item Header-link mt-md-n3 mb-md-n3 py-2 py-md-3 mr-0 mr-md-3 border-top border-md-top-0 border-white-fade" data-hotkey="g i" data-ga-click="Header, click, Nav menu - item:issues context:user" aria-label="Issues you created" data-turbo="false" data-selected-links="/issues /issues/assigned /issues/mentioned /issues" href="/issues">Issues</a>

      <a class="js-selected-navigation-item Header-link mt-md-n3 mb-md-n3 py-2 py-md-3 mr-0 mr-md-3 border-top border-md-top-0 border-white-fade" data-ga-click="Header, click, Nav menu - item:workspaces context:user" data-turbo="false" data-selected-links="/codespaces /codespaces" href="/codespaces">Codespaces</a>

    <div class="d-flex position-relative">
      <a class="js-selected-navigation-item Header-link flex-auto mt-md-n3 mb-md-n3 py-2 py-md-3 mr-0 mr-md-3 border-top border-md-top-0 border-white-fade" data-ga-click="Header, click, Nav menu - item:marketplace context:user" data-octo-click="marketplace_click" data-octo-dimensions="location:nav_bar" data-turbo="false" data-selected-links=" /marketplace" href="/marketplace">Marketplace</a>
    </div>

  <a class="js-selected-navigation-item Header-link mt-md-n3 mb-md-n3 py-2 py-md-3 mr-0 mr-md-3 border-top border-md-top-0 border-white-fade" data-ga-click="Header, click, Nav menu - item:explore" data-turbo="false" data-selected-links="/explore /trending /trending/developers /integrations /integrations/feature/code /integrations/feature/collaborate /integrations/feature/ship showcases showcases_search showcases_landing /explore" href="/explore">Explore</a>

      <a class="js-selected-navigation-item Header-link d-block d-md-none py-2 py-md-3 border-top border-md-top-0 border-white-fade" data-ga-click="Header, click, Nav menu - item:Sponsors" data-hydro-click="{&quot;event_type&quot;:&quot;sponsors.button_click&quot;,&quot;payload&quot;:{&quot;button&quot;:&quot;HEADER_SPONSORS_DASHBOARD&quot;,&quot;sponsorable_login&quot;:&quot;MarcelloLM&quot;,&quot;originating_url&quot;:&quot;https://github.com/MarcelloLM/regressao-mse/blob/main/Regressa%CC%83o_mse.ipynb&quot;,&quot;user_id&quot;:106484381}}" data-hydro-click-hmac="15359cba81b976ca8f46f27dd82c0b8e4ab06b35f391d7fae6ee58657ef8f3aa" data-turbo="false" data-selected-links=" /sponsors/accounts" href="/sponsors/accounts">Sponsors</a>

    <a class="Header-link d-block d-md-none mr-0 mr-md-3 py-2 py-md-3 border-top border-md-top-0 border-white-fade" data-turbo="false" href="/settings/profile">Settings</a>

    <a class="Header-link d-block d-md-none mr-0 mr-md-3 py-2 py-md-3 border-top border-md-top-0 border-white-fade" data-turbo="false" href="/MarcelloLM">
      <img class="avatar avatar-user" loading="lazy" decoding="async" src="https://avatars.githubusercontent.com/u/106484381?s=40&amp;v=4" width="20" height="20" alt="@MarcelloLM" />
      MarcelloLM
</a>
    <!-- '"` --><!-- </textarea></xmp> --></option></form><form data-turbo="false" action="/logout" accept-charset="UTF-8" method="post"><input type="hidden" name="authenticity_token" value="KbvEM3-Y39FhfQH2a1gqRMin3ET-3pv62RumJdM550Bdrkon2ktbuInn8LcUBwjnIEas6HZmtIlq3LIPtXOaTg" />
      <button
        type="submit"
        class="Header-link mr-0 mr-md-3 py-2 py-md-3 border-top border-md-top-0 border-white-fade d-md-none btn-link d-block width-full text-left"
        style="padding-left: 2px;"
        data-analytics-event="{&quot;category&quot;:&quot;Header&quot;,&quot;action&quot;:&quot;sign out&quot;,&quot;label&quot;:&quot;icon:logout&quot;}"
      >
        <svg aria-hidden="true" height="16" viewBox="0 0 16 16" version="1.1" width="16" data-view-component="true" class="octicon octicon-sign-out v-align-middle">
    <path d="M2 2.75C2 1.784 2.784 1 3.75 1h2.5a.75.75 0 0 1 0 1.5h-2.5a.25.25 0 0 0-.25.25v10.5c0 .138.112.25.25.25h2.5a.75.75 0 0 1 0 1.5h-2.5A1.75 1.75 0 0 1 2 13.25Zm10.44 4.5-1.97-1.97a.749.749 0 0 1 .326-1.275.749.749 0 0 1 .734.215l3.25 3.25a.75.75 0 0 1 0 1.06l-3.25 3.25a.749.749 0 0 1-1.275-.326.749.749 0 0 1 .215-.734l1.97-1.97H6.75a.75.75 0 0 1 0-1.5Z"></path>
</svg>
        Sign out
      </button>
</form></nav>

    </div>

    <div class="Header-item Header-item--full flex-justify-center d-md-none position-relative">
        <a
  class="Header-link"
  href="https://github.com/"
  data-hotkey="g d"
  aria-label="Homepage "
  data-turbo="false"
  data-analytics-event="{&quot;category&quot;:&quot;Header&quot;,&quot;action&quot;:&quot;go to dashboard&quot;,&quot;label&quot;:&quot;icon:logo&quot;}"
>
  <svg height="32" aria-hidden="true" viewBox="0 0 16 16" version="1.1" width="32" data-view-component="true" class="octicon octicon-mark-github v-align-middle">
    <path d="M8 0c4.42 0 8 3.58 8 8a8.013 8.013 0 0 1-5.45 7.59c-.4.08-.55-.17-.55-.38 0-.27.01-1.13.01-2.2 0-.75-.25-1.23-.54-1.48 1.78-.2 3.65-.88 3.65-3.95 0-.88-.31-1.59-.82-2.15.08-.2.36-1.02-.08-2.12 0 0-.67-.22-2.2.82-.64-.18-1.32-.27-2-.27-.68 0-1.36.09-2 .27-1.53-1.03-2.2-.82-2.2-.82-.44 1.1-.16 1.92-.08 2.12-.51.56-.82 1.28-.82 2.15 0 3.06 1.86 3.75 3.64 3.95-.23.2-.44.55-.51 1.07-.46.21-1.61.55-2.33-.66-.15-.24-.6-.83-1.23-.82-.67.01-.27.38.01.53.34.19.73.9.82 1.13.16.45.68 1.31 2.69.94 0 .67.01 1.3.01 1.49 0 .21-.15.45-.55.38A7.995 7.995 0 0 1 0 8c0-4.42 3.58-8 8-8Z"></path>
</svg>
</a>

    </div>

    <div class="Header-item mr-0 mr-md-3 flex-order-1 flex-md-order-none">
        

<notification-indicator data-channel="eyJjIjoibm90aWZpY2F0aW9uLWNoYW5nZWQ6MTA2NDg0MzgxIiwidCI6MTY4Mzg5MTg2MX0=--b85583a104827cb30df1f34b7eed36cf6d913e667a3277b97ce6fe005190ba16" data-indicator-mode="none" data-tooltip-global="You have unread notifications" data-tooltip-unavailable="Notifications are unavailable at the moment." data-tooltip-none="You have no unread notifications" data-fetch-indicator-src="/notifications/indicator" data-fetch-indicator-enabled="true" data-view-component="true" class="js-socket-channel">
  <a id="AppHeader-notifications-button" href="/notifications"
    class="Header-link notification-indicator position-relative tooltipped tooltipped-sw"

    

    data-hotkey="g n"
    data-target="notification-indicator.link"
    aria-label="Notifications"

      data-analytics-event="{&quot;category&quot;:&quot;Header&quot;,&quot;action&quot;:&quot;go to notifications&quot;,&quot;label&quot;:&quot;icon:read&quot;}"
  >

    <span
      data-target="notification-indicator.badge"
      class="mail-status unread" hidden>
    </span>

      <svg aria-hidden="true" height="16" viewBox="0 0 16 16" version="1.1" width="16" data-view-component="true" class="octicon octicon-bell">
    <path d="M8 16a2 2 0 0 0 1.985-1.75c.017-.137-.097-.25-.235-.25h-3.5c-.138 0-.252.113-.235.25A2 2 0 0 0 8 16ZM3 5a5 5 0 0 1 10 0v2.947c0 .05.015.098.042.139l1.703 2.555A1.519 1.519 0 0 1 13.482 13H2.518a1.516 1.516 0 0 1-1.263-2.36l1.703-2.554A.255.255 0 0 0 3 7.947Zm5-3.5A3.5 3.5 0 0 0 4.5 5v2.947c0 .346-.102.683-.294.97l-1.703 2.556a.017.017 0 0 0-.003.01l.001.006c0 .002.002.004.004.006l.006.004.007.001h10.964l.007-.001.006-.004.004-.006.001-.007a.017.017 0 0 0-.003-.01l-1.703-2.554a1.745 1.745 0 0 1-.294-.97V5A3.5 3.5 0 0 0 8 1.5Z"></path>
</svg>
  </a>

</notification-indicator>
    </div>


    <div class="Header-item position-relative d-none d-md-flex">
        <details class="details-overlay details-reset">
  <summary
    class="Header-link"
    aria-label="Create new…"
    data-analytics-event="{&quot;category&quot;:&quot;Header&quot;,&quot;action&quot;:&quot;create new&quot;,&quot;label&quot;:&quot;icon:add&quot;}"
  >
    <svg aria-hidden="true" height="16" viewBox="0 0 16 16" version="1.1" width="16" data-view-component="true" class="octicon octicon-plus">
    <path d="M7.75 2a.75.75 0 0 1 .75.75V7h4.25a.75.75 0 0 1 0 1.5H8.5v4.25a.75.75 0 0 1-1.5 0V8.5H2.75a.75.75 0 0 1 0-1.5H7V2.75A.75.75 0 0 1 7.75 2Z"></path>
</svg> <span class="dropdown-caret"></span>
  </summary>
  <details-menu class="dropdown-menu dropdown-menu-sw">
    
<a role="menuitem" class="dropdown-item" href="/new" data-ga-click="Header, create new repository">
  New repository
</a>

  <a role="menuitem" class="dropdown-item" href="/new/import" data-ga-click="Header, import a repository">
    Import repository
  </a>

  <a role="menuitem" class="dropdown-item" href="/codespaces/new">
    New codespace
  </a>

<a role="menuitem" class="dropdown-item" href="https://gist.github.com/" data-ga-click="Header, create new gist">
  New gist
</a>

  <a role="menuitem" class="dropdown-item" href="/organizations/new" data-ga-click="Header, create new organization">
    New organization
  </a>



  </details-menu>
</details>

    </div>

    <div class="Header-item position-relative mr-0 d-none d-md-flex">
        
  <details class="details-overlay details-reset js-feature-preview-indicator-container" data-feature-preview-indicator-src="/users/MarcelloLM/feature_preview/indicator_check">

  <summary
    class="Header-link"
    aria-label="View profile and more"
    data-analytics-event="{&quot;category&quot;:&quot;Header&quot;,&quot;action&quot;:&quot;show menu&quot;,&quot;label&quot;:&quot;icon:avatar&quot;}"
  >
    <img src="https://avatars.githubusercontent.com/u/106484381?s=40&amp;v=4" alt="@MarcelloLM" size="20" height="20" width="20" data-view-component="true" class="avatar avatar-small circle" />
      <span class="unread-indicator js-feature-preview-indicator" style="top: 1px;" hidden></span>
    <span class="dropdown-caret"></span>
  </summary>
  <details-menu
      class="dropdown-menu dropdown-menu-sw"
      style="width: 180px"
      
      preload>
      <include-fragment src="/users/106484381/menu" loading="lazy">
        <p class="text-center mt-3" data-hide-on-error>
          <svg style="box-sizing: content-box; color: var(--color-icon-primary);" width="32" height="32" viewBox="0 0 16 16" fill="none" data-view-component="true" class="anim-rotate">
  <circle cx="8" cy="8" r="7" stroke="currentColor" stroke-opacity="0.25" stroke-width="2" vector-effect="non-scaling-stroke" />
  <path d="M15 8a7.002 7.002 0 00-7-7" stroke="currentColor" stroke-width="2" stroke-linecap="round" vector-effect="non-scaling-stroke" />
</svg>
        </p>
        <p class="ml-1 mb-2 mt-2 color-fg-default" data-show-on-error>
          <svg aria-hidden="true" height="16" viewBox="0 0 16 16" version="1.1" width="16" data-view-component="true" class="octicon octicon-alert">
    <path d="M6.457 1.047c.659-1.234 2.427-1.234 3.086 0l6.082 11.378A1.75 1.75 0 0 1 14.082 15H1.918a1.75 1.75 0 0 1-1.543-2.575Zm1.763.707a.25.25 0 0 0-.44 0L1.698 13.132a.25.25 0 0 0 .22.368h12.164a.25.25 0 0 0 .22-.368Zm.53 3.996v2.5a.75.75 0 0 1-1.5 0v-2.5a.75.75 0 0 1 1.5 0ZM9 11a1 1 0 1 1-2 0 1 1 0 0 1 2 0Z"></path>
</svg>
          Sorry, something went wrong.
        </p>
      </include-fragment>
  </details-menu>
</details>

    </div>
</header>

          
    </div>

  <div id="start-of-content" class="show-on-focus"></div>







    <div id="js-flash-container" data-turbo-replace>





  <template class="js-flash-template">
    
<div class="flash flash-full   {{ className }}">
  <div class="px-2" >
    <button autofocus class="flash-close js-flash-close" type="button" aria-label="Dismiss this message">
      <svg aria-hidden="true" height="16" viewBox="0 0 16 16" version="1.1" width="16" data-view-component="true" class="octicon octicon-x">
    <path d="M3.72 3.72a.75.75 0 0 1 1.06 0L8 6.94l3.22-3.22a.749.749 0 0 1 1.275.326.749.749 0 0 1-.215.734L9.06 8l3.22 3.22a.749.749 0 0 1-.326 1.275.749.749 0 0 1-.734-.215L8 9.06l-3.22 3.22a.751.751 0 0 1-1.042-.018.751.751 0 0 1-.018-1.042L6.94 8 3.72 4.78a.75.75 0 0 1 0-1.06Z"></path>
</svg>
    </button>
    <div aria-atomic="true" role="alert" class="js-flash-alert">
      
      <div>{{ message }}</div>

    </div>
  </div>
</div>
  </template>
</div>


    
    <notification-shelf-watcher data-base-url="https://github.com/notifications/beta/shelf" data-channel="eyJjIjoibm90aWZpY2F0aW9uLWNoYW5nZWQ6MTA2NDg0MzgxIiwidCI6MTY4Mzg5MTg2MX0=--b85583a104827cb30df1f34b7eed36cf6d913e667a3277b97ce6fe005190ba16" data-view-component="true" class="js-socket-channel"></notification-shelf-watcher>
  <div hidden data-initial data-target="notification-shelf-watcher.placeholder"></div>






      <details
  class="details-reset details-overlay details-overlay-dark js-command-palette-dialog"
  id="command-palette-pjax-container"
  data-turbo-replace
>
  <summary aria-label="command palette trigger" tabindex="-1"></summary>
  <details-dialog class="command-palette-details-dialog d-flex flex-column flex-justify-center height-fit" aria-label="command palette">
    <command-palette
      class="command-palette color-bg-default rounded-3 border color-shadow-small"
      return-to=/MarcelloLM/regressao-mse/blob/main/Regressa%CC%83o_mse.ipynb
      user-id="106484381"
      activation-hotkey="Mod+k,Mod+Alt+k"
      command-mode-hotkey="Mod+Shift+k"
      data-action="
        command-palette-input-ready:command-palette#inputReady
        command-palette-page-stack-updated:command-palette#updateInputScope
        itemsUpdated:command-palette#itemsUpdated
        keydown:command-palette#onKeydown
        loadingStateChanged:command-palette#loadingStateChanged
        selectedItemChanged:command-palette#selectedItemChanged
        pageFetchError:command-palette#pageFetchError
      ">

        <command-palette-mode
          data-char="#"
            data-scope-types="[&quot;&quot;]"
            data-placeholder="Search issues and pull requests"
        ></command-palette-mode>
        <command-palette-mode
          data-char="#"
            data-scope-types="[&quot;owner&quot;,&quot;repository&quot;]"
            data-placeholder="Search issues, pull requests, discussions, and projects"
        ></command-palette-mode>
        <command-palette-mode
          data-char="!"
            data-scope-types="[&quot;owner&quot;,&quot;repository&quot;]"
            data-placeholder="Search projects"
        ></command-palette-mode>
        <command-palette-mode
          data-char="@"
            data-scope-types="[&quot;&quot;]"
            data-placeholder="Search or jump to a user, organization, or repository"
        ></command-palette-mode>
        <command-palette-mode
          data-char="@"
            data-scope-types="[&quot;owner&quot;]"
            data-placeholder="Search or jump to a repository"
        ></command-palette-mode>
        <command-palette-mode
          data-char="/"
            data-scope-types="[&quot;repository&quot;]"
            data-placeholder="Search files"
        ></command-palette-mode>
        <command-palette-mode
          data-char="?"
        ></command-palette-mode>
        <command-palette-mode
          data-char="&gt;"
            data-placeholder="Run a command"
        ></command-palette-mode>
        <command-palette-mode
          data-char=""
            data-scope-types="[&quot;&quot;]"
            data-placeholder="Search or jump to..."
        ></command-palette-mode>
        <command-palette-mode
          data-char=""
            data-scope-types="[&quot;owner&quot;]"
            data-placeholder="Search or jump to..."
        ></command-palette-mode>
      <command-palette-mode
        class="js-command-palette-default-mode"
        data-char=""
        data-placeholder="Search or jump to..."
      ></command-palette-mode>

      <command-palette-input placeholder="Search or jump to..."

        data-action="
          command-palette-input:command-palette#onInput
          command-palette-select:command-palette#onSelect
          command-palette-descope:command-palette#onDescope
          command-palette-cleared:command-palette#onInputClear
        "
      >
        <div class="js-search-icon d-flex flex-items-center mr-2" style="height: 26px">
          <svg aria-hidden="true" height="16" viewBox="0 0 16 16" version="1.1" width="16" data-view-component="true" class="octicon octicon-search color-fg-muted">
    <path d="M10.68 11.74a6 6 0 0 1-7.922-8.982 6 6 0 0 1 8.982 7.922l3.04 3.04a.749.749 0 0 1-.326 1.275.749.749 0 0 1-.734-.215ZM11.5 7a4.499 4.499 0 1 0-8.997 0A4.499 4.499 0 0 0 11.5 7Z"></path>
</svg>
        </div>
        <div class="js-spinner d-flex flex-items-center mr-2 color-fg-muted" hidden>
          <svg aria-label="Loading" class="anim-rotate" viewBox="0 0 16 16" fill="none" width="16" height="16">
            <circle
              cx="8"
              cy="8"
              r="7"
              stroke="currentColor"
              stroke-opacity="0.25"
              stroke-width="2"
              vector-effect="non-scaling-stroke"
            ></circle>
            <path
              d="M15 8a7.002 7.002 0 00-7-7"
              stroke="currentColor"
              stroke-width="2"
              stroke-linecap="round"
              vector-effect="non-scaling-stroke"
            ></path>
          </svg>
        </div>
        <command-palette-scope >
          <div data-target="command-palette-scope.placeholder" hidden class="color-fg-subtle">/&nbsp;&nbsp;<span class="text-semibold color-fg-default">...</span>&nbsp;&nbsp;/&nbsp;&nbsp;</div>
              <command-palette-token
                data-text="MarcelloLM"
                data-id="U_kgDOBljSnQ"
                data-type="owner"
                data-value="MarcelloLM"
                data-targets="command-palette-scope.tokens"
                class="color-fg-default text-semibold"
                style="white-space:nowrap;line-height:20px;"
                >MarcelloLM<span class="color-fg-subtle text-normal">&nbsp;&nbsp;/&nbsp;&nbsp;</span></command-palette-token>
              <command-palette-token
                data-text="regressao-mse"
                data-id="R_kgDOJO134A"
                data-type="repository"
                data-value="regressao-mse"
                data-targets="command-palette-scope.tokens"
                class="color-fg-default text-semibold"
                style="white-space:nowrap;line-height:20px;"
                >regressao-mse<span class="color-fg-subtle text-normal">&nbsp;&nbsp;/&nbsp;&nbsp;</span></command-palette-token>
        </command-palette-scope>
        <div class="command-palette-input-group flex-1 form-control border-0 box-shadow-none" style="z-index: 0">
          <div class="command-palette-typeahead position-absolute d-flex flex-items-center Truncate">
            <span class="typeahead-segment input-mirror" data-target="command-palette-input.mirror"></span>
            <span class="Truncate-text" data-target="command-palette-input.typeaheadText"></span>
            <span class="typeahead-segment" data-target="command-palette-input.typeaheadPlaceholder"></span>
          </div>
          <input
            class="js-overlay-input typeahead-input d-none"
            disabled
            tabindex="-1"
            aria-label="Hidden input for typeahead"
          >
          <input
            type="text"
            autocomplete="off"
            autocorrect="off"
            autocapitalize="off"
            spellcheck="false"
            class="js-input typeahead-input form-control border-0 box-shadow-none input-block width-full no-focus-indicator"
            aria-label="Command palette input"
            aria-haspopup="listbox"
            aria-expanded="false"
            aria-autocomplete="list"
            aria-controls="command-palette-page-stack"
            role="combobox"
            data-action="
              input:command-palette-input#onInput
              keydown:command-palette-input#onKeydown
            "
          >
        </div>
          <div data-view-component="true" class="position-relative d-inline-block">
    <button aria-keyshortcuts="Control+Backspace" data-action="click:command-palette-input#onClear keypress:command-palette-input#onClear" data-target="command-palette-input.clearButton" id="command-palette-clear-button" hidden="hidden" type="button" data-view-component="true" class="btn-octicon command-palette-input-clear-button">      <svg aria-hidden="true" height="16" viewBox="0 0 16 16" version="1.1" width="16" data-view-component="true" class="octicon octicon-x-circle-fill">
    <path d="M2.343 13.657A8 8 0 1 1 13.658 2.343 8 8 0 0 1 2.343 13.657ZM6.03 4.97a.751.751 0 0 0-1.042.018.751.751 0 0 0-.018 1.042L6.94 8 4.97 9.97a.749.749 0 0 0 .326 1.275.749.749 0 0 0 .734-.215L8 9.06l1.97 1.97a.749.749 0 0 0 1.275-.326.749.749 0 0 0-.215-.734L9.06 8l1.97-1.97a.749.749 0 0 0-.326-1.275.749.749 0 0 0-.734.215L8 6.94Z"></path>
</svg>
</button>    <tool-tip id="tooltip-478a0ea6-d140-4b7d-9b0f-e5faf3ff368f" for="command-palette-clear-button" data-direction="w" data-type="label" data-view-component="true" class="sr-only position-absolute">Clear Command Palette</tool-tip>
</div>
      </command-palette-input>

      <command-palette-page-stack
        data-default-scope-id="R_kgDOJO134A"
        data-default-scope-type="Repository"
        data-action="command-palette-page-octicons-cached:command-palette-page-stack#cacheOcticons"
      >
          <command-palette-tip
            class="color-fg-muted f6 px-3 py-1 my-2"
              data-scope-types="[&quot;&quot;,&quot;owner&quot;,&quot;repository&quot;]"
            data-mode=""
            data-value="">
            <div class="d-flex flex-items-start flex-justify-between">
              <div>
                <span class="text-bold">Tip:</span>
                  Type <kbd class="hx_kbd">#</kbd> to search pull requests
              </div>
              <div class="ml-2 flex-shrink-0">
                Type <kbd class="hx_kbd">?</kbd> for help and tips
              </div>
            </div>
          </command-palette-tip>
          <command-palette-tip
            class="color-fg-muted f6 px-3 py-1 my-2"
              data-scope-types="[&quot;&quot;,&quot;owner&quot;,&quot;repository&quot;]"
            data-mode=""
            data-value="">
            <div class="d-flex flex-items-start flex-justify-between">
              <div>
                <span class="text-bold">Tip:</span>
                  Type <kbd class="hx_kbd">#</kbd> to search issues
              </div>
              <div class="ml-2 flex-shrink-0">
                Type <kbd class="hx_kbd">?</kbd> for help and tips
              </div>
            </div>
          </command-palette-tip>
          <command-palette-tip
            class="color-fg-muted f6 px-3 py-1 my-2"
              data-scope-types="[&quot;owner&quot;,&quot;repository&quot;]"
            data-mode=""
            data-value="">
            <div class="d-flex flex-items-start flex-justify-between">
              <div>
                <span class="text-bold">Tip:</span>
                  Type <kbd class="hx_kbd">#</kbd> to search discussions
              </div>
              <div class="ml-2 flex-shrink-0">
                Type <kbd class="hx_kbd">?</kbd> for help and tips
              </div>
            </div>
          </command-palette-tip>
          <command-palette-tip
            class="color-fg-muted f6 px-3 py-1 my-2"
              data-scope-types="[&quot;owner&quot;,&quot;repository&quot;]"
            data-mode=""
            data-value="">
            <div class="d-flex flex-items-start flex-justify-between">
              <div>
                <span class="text-bold">Tip:</span>
                  Type <kbd class="hx_kbd">!</kbd> to search projects
              </div>
              <div class="ml-2 flex-shrink-0">
                Type <kbd class="hx_kbd">?</kbd> for help and tips
              </div>
            </div>
          </command-palette-tip>
          <command-palette-tip
            class="color-fg-muted f6 px-3 py-1 my-2"
              data-scope-types="[&quot;owner&quot;]"
            data-mode=""
            data-value="">
            <div class="d-flex flex-items-start flex-justify-between">
              <div>
                <span class="text-bold">Tip:</span>
                  Type <kbd class="hx_kbd">@</kbd> to search teams
              </div>
              <div class="ml-2 flex-shrink-0">
                Type <kbd class="hx_kbd">?</kbd> for help and tips
              </div>
            </div>
          </command-palette-tip>
          <command-palette-tip
            class="color-fg-muted f6 px-3 py-1 my-2"
              data-scope-types="[&quot;&quot;]"
            data-mode=""
            data-value="">
            <div class="d-flex flex-items-start flex-justify-between">
              <div>
                <span class="text-bold">Tip:</span>
                  Type <kbd class="hx_kbd">@</kbd> to search people and organizations
              </div>
              <div class="ml-2 flex-shrink-0">
                Type <kbd class="hx_kbd">?</kbd> for help and tips
              </div>
            </div>
          </command-palette-tip>
          <command-palette-tip
            class="color-fg-muted f6 px-3 py-1 my-2"
              data-scope-types="[&quot;&quot;,&quot;owner&quot;,&quot;repository&quot;]"
            data-mode=""
            data-value="">
            <div class="d-flex flex-items-start flex-justify-between">
              <div>
                <span class="text-bold">Tip:</span>
                  Type <kbd class="hx_kbd">&gt;</kbd> to activate command mode
              </div>
              <div class="ml-2 flex-shrink-0">
                Type <kbd class="hx_kbd">?</kbd> for help and tips
              </div>
            </div>
          </command-palette-tip>
          <command-palette-tip
            class="color-fg-muted f6 px-3 py-1 my-2"
              data-scope-types="[&quot;&quot;,&quot;owner&quot;,&quot;repository&quot;]"
            data-mode=""
            data-value="">
            <div class="d-flex flex-items-start flex-justify-between">
              <div>
                <span class="text-bold">Tip:</span>
                  Go to your accessibility settings to change your keyboard shortcuts
              </div>
              <div class="ml-2 flex-shrink-0">
                Type <kbd class="hx_kbd">?</kbd> for help and tips
              </div>
            </div>
          </command-palette-tip>
          <command-palette-tip
            class="color-fg-muted f6 px-3 py-1 my-2"
              data-scope-types="[&quot;&quot;,&quot;owner&quot;,&quot;repository&quot;]"
            data-mode="#"
            data-value="">
            <div class="d-flex flex-items-start flex-justify-between">
              <div>
                <span class="text-bold">Tip:</span>
                  Type author:@me to search your content
              </div>
              <div class="ml-2 flex-shrink-0">
                Type <kbd class="hx_kbd">?</kbd> for help and tips
              </div>
            </div>
          </command-palette-tip>
          <command-palette-tip
            class="color-fg-muted f6 px-3 py-1 my-2"
              data-scope-types="[&quot;&quot;,&quot;owner&quot;,&quot;repository&quot;]"
            data-mode="#"
            data-value="">
            <div class="d-flex flex-items-start flex-justify-between">
              <div>
                <span class="text-bold">Tip:</span>
                  Type is:pr to filter to pull requests
              </div>
              <div class="ml-2 flex-shrink-0">
                Type <kbd class="hx_kbd">?</kbd> for help and tips
              </div>
            </div>
          </command-palette-tip>
          <command-palette-tip
            class="color-fg-muted f6 px-3 py-1 my-2"
              data-scope-types="[&quot;&quot;,&quot;owner&quot;,&quot;repository&quot;]"
            data-mode="#"
            data-value="">
            <div class="d-flex flex-items-start flex-justify-between">
              <div>
                <span class="text-bold">Tip:</span>
                  Type is:issue to filter to issues
              </div>
              <div class="ml-2 flex-shrink-0">
                Type <kbd class="hx_kbd">?</kbd> for help and tips
              </div>
            </div>
          </command-palette-tip>
          <command-palette-tip
            class="color-fg-muted f6 px-3 py-1 my-2"
              data-scope-types="[&quot;owner&quot;,&quot;repository&quot;]"
            data-mode="#"
            data-value="">
            <div class="d-flex flex-items-start flex-justify-between">
              <div>
                <span class="text-bold">Tip:</span>
                  Type is:project to filter to projects
              </div>
              <div class="ml-2 flex-shrink-0">
                Type <kbd class="hx_kbd">?</kbd> for help and tips
              </div>
            </div>
          </command-palette-tip>
          <command-palette-tip
            class="color-fg-muted f6 px-3 py-1 my-2"
              data-scope-types="[&quot;&quot;,&quot;owner&quot;,&quot;repository&quot;]"
            data-mode="#"
            data-value="">
            <div class="d-flex flex-items-start flex-justify-between">
              <div>
                <span class="text-bold">Tip:</span>
                  Type is:open to filter to open content
              </div>
              <div class="ml-2 flex-shrink-0">
                Type <kbd class="hx_kbd">?</kbd> for help and tips
              </div>
            </div>
          </command-palette-tip>
        <command-palette-tip class="mx-3 my-2 flash flash-error d-flex flex-items-center" data-scope-types="*" data-on-error>
          <div>
            <svg aria-hidden="true" height="16" viewBox="0 0 16 16" version="1.1" width="16" data-view-component="true" class="octicon octicon-alert">
    <path d="M6.457 1.047c.659-1.234 2.427-1.234 3.086 0l6.082 11.378A1.75 1.75 0 0 1 14.082 15H1.918a1.75 1.75 0 0 1-1.543-2.575Zm1.763.707a.25.25 0 0 0-.44 0L1.698 13.132a.25.25 0 0 0 .22.368h12.164a.25.25 0 0 0 .22-.368Zm.53 3.996v2.5a.75.75 0 0 1-1.5 0v-2.5a.75.75 0 0 1 1.5 0ZM9 11a1 1 0 1 1-2 0 1 1 0 0 1 2 0Z"></path>
</svg>
          </div>
          <div class="px-2">
            We’ve encountered an error and some results aren't available at this time. Type a new search or try again later.
          </div>
        </command-palette-tip>
        <command-palette-tip class="h4 color-fg-default pl-3 pb-2 pt-3" data-on-empty data-scope-types="*" data-match-mode="[^?]|^$">
          No results matched your search
        </command-palette-tip>

        <div hidden>

            <div data-targets="command-palette-page-stack.localOcticons" data-octicon-id="arrow-right-color-fg-muted">
              <svg height="16" class="octicon octicon-arrow-right color-fg-muted" viewBox="0 0 16 16" version="1.1" width="16" aria-hidden="true"><path d="M8.22 2.97a.75.75 0 0 1 1.06 0l4.25 4.25a.75.75 0 0 1 0 1.06l-4.25 4.25a.751.751 0 0 1-1.042-.018.751.751 0 0 1-.018-1.042l2.97-2.97H3.75a.75.75 0 0 1 0-1.5h7.44L8.22 4.03a.75.75 0 0 1 0-1.06Z"></path></svg>
            </div>
            <div data-targets="command-palette-page-stack.localOcticons" data-octicon-id="arrow-right-color-fg-default">
              <svg height="16" class="octicon octicon-arrow-right color-fg-default" viewBox="0 0 16 16" version="1.1" width="16" aria-hidden="true"><path d="M8.22 2.97a.75.75 0 0 1 1.06 0l4.25 4.25a.75.75 0 0 1 0 1.06l-4.25 4.25a.751.751 0 0 1-1.042-.018.751.751 0 0 1-.018-1.042l2.97-2.97H3.75a.75.75 0 0 1 0-1.5h7.44L8.22 4.03a.75.75 0 0 1 0-1.06Z"></path></svg>
            </div>
            <div data-targets="command-palette-page-stack.localOcticons" data-octicon-id="codespaces-color-fg-muted">
              <svg height="16" class="octicon octicon-codespaces color-fg-muted" viewBox="0 0 16 16" version="1.1" width="16" aria-hidden="true"><path d="M0 11.25c0-.966.784-1.75 1.75-1.75h12.5c.966 0 1.75.784 1.75 1.75v3A1.75 1.75 0 0 1 14.25 16H1.75A1.75 1.75 0 0 1 0 14.25Zm2-9.5C2 .784 2.784 0 3.75 0h8.5C13.216 0 14 .784 14 1.75v5a1.75 1.75 0 0 1-1.75 1.75h-8.5A1.75 1.75 0 0 1 2 6.75Zm1.75-.25a.25.25 0 0 0-.25.25v5c0 .138.112.25.25.25h8.5a.25.25 0 0 0 .25-.25v-5a.25.25 0 0 0-.25-.25Zm-2 9.5a.25.25 0 0 0-.25.25v3c0 .138.112.25.25.25h12.5a.25.25 0 0 0 .25-.25v-3a.25.25 0 0 0-.25-.25Z"></path><path d="M7 12.75a.75.75 0 0 1 .75-.75h4.5a.75.75 0 0 1 0 1.5h-4.5a.75.75 0 0 1-.75-.75Zm-4 0a.75.75 0 0 1 .75-.75h.5a.75.75 0 0 1 0 1.5h-.5a.75.75 0 0 1-.75-.75Z"></path></svg>
            </div>
            <div data-targets="command-palette-page-stack.localOcticons" data-octicon-id="copy-color-fg-muted">
              <svg height="16" class="octicon octicon-copy color-fg-muted" viewBox="0 0 16 16" version="1.1" width="16" aria-hidden="true"><path d="M0 6.75C0 5.784.784 5 1.75 5h1.5a.75.75 0 0 1 0 1.5h-1.5a.25.25 0 0 0-.25.25v7.5c0 .138.112.25.25.25h7.5a.25.25 0 0 0 .25-.25v-1.5a.75.75 0 0 1 1.5 0v1.5A1.75 1.75 0 0 1 9.25 16h-7.5A1.75 1.75 0 0 1 0 14.25Z"></path><path d="M5 1.75C5 .784 5.784 0 6.75 0h7.5C15.216 0 16 .784 16 1.75v7.5A1.75 1.75 0 0 1 14.25 11h-7.5A1.75 1.75 0 0 1 5 9.25Zm1.75-.25a.25.25 0 0 0-.25.25v7.5c0 .138.112.25.25.25h7.5a.25.25 0 0 0 .25-.25v-7.5a.25.25 0 0 0-.25-.25Z"></path></svg>
            </div>
            <div data-targets="command-palette-page-stack.localOcticons" data-octicon-id="dash-color-fg-muted">
              <svg height="16" class="octicon octicon-dash color-fg-muted" viewBox="0 0 16 16" version="1.1" width="16" aria-hidden="true"><path d="M2 7.75A.75.75 0 0 1 2.75 7h10a.75.75 0 0 1 0 1.5h-10A.75.75 0 0 1 2 7.75Z"></path></svg>
            </div>
            <div data-targets="command-palette-page-stack.localOcticons" data-octicon-id="file-color-fg-muted">
              <svg height="16" class="octicon octicon-file color-fg-muted" viewBox="0 0 16 16" version="1.1" width="16" aria-hidden="true"><path d="M2 1.75C2 .784 2.784 0 3.75 0h6.586c.464 0 .909.184 1.237.513l2.914 2.914c.329.328.513.773.513 1.237v9.586A1.75 1.75 0 0 1 13.25 16h-9.5A1.75 1.75 0 0 1 2 14.25Zm1.75-.25a.25.25 0 0 0-.25.25v12.5c0 .138.112.25.25.25h9.5a.25.25 0 0 0 .25-.25V6h-2.75A1.75 1.75 0 0 1 9 4.25V1.5Zm6.75.062V4.25c0 .138.112.25.25.25h2.688l-.011-.013-2.914-2.914-.013-.011Z"></path></svg>
            </div>
            <div data-targets="command-palette-page-stack.localOcticons" data-octicon-id="gear-color-fg-muted">
              <svg height="16" class="octicon octicon-gear color-fg-muted" viewBox="0 0 16 16" version="1.1" width="16" aria-hidden="true"><path d="M8 0a8.2 8.2 0 0 1 .701.031C9.444.095 9.99.645 10.16 1.29l.288 1.107c.018.066.079.158.212.224.231.114.454.243.668.386.123.082.233.09.299.071l1.103-.303c.644-.176 1.392.021 1.82.63.27.385.506.792.704 1.218.315.675.111 1.422-.364 1.891l-.814.806c-.049.048-.098.147-.088.294.016.257.016.515 0 .772-.01.147.038.246.088.294l.814.806c.475.469.679 1.216.364 1.891a7.977 7.977 0 0 1-.704 1.217c-.428.61-1.176.807-1.82.63l-1.102-.302c-.067-.019-.177-.011-.3.071a5.909 5.909 0 0 1-.668.386c-.133.066-.194.158-.211.224l-.29 1.106c-.168.646-.715 1.196-1.458 1.26a8.006 8.006 0 0 1-1.402 0c-.743-.064-1.289-.614-1.458-1.26l-.289-1.106c-.018-.066-.079-.158-.212-.224a5.738 5.738 0 0 1-.668-.386c-.123-.082-.233-.09-.299-.071l-1.103.303c-.644.176-1.392-.021-1.82-.63a8.12 8.12 0 0 1-.704-1.218c-.315-.675-.111-1.422.363-1.891l.815-.806c.05-.048.098-.147.088-.294a6.214 6.214 0 0 1 0-.772c.01-.147-.038-.246-.088-.294l-.815-.806C.635 6.045.431 5.298.746 4.623a7.92 7.92 0 0 1 .704-1.217c.428-.61 1.176-.807 1.82-.63l1.102.302c.067.019.177.011.3-.071.214-.143.437-.272.668-.386.133-.066.194-.158.211-.224l.29-1.106C6.009.645 6.556.095 7.299.03 7.53.01 7.764 0 8 0Zm-.571 1.525c-.036.003-.108.036-.137.146l-.289 1.105c-.147.561-.549.967-.998 1.189-.173.086-.34.183-.5.29-.417.278-.97.423-1.529.27l-1.103-.303c-.109-.03-.175.016-.195.045-.22.312-.412.644-.573.99-.014.031-.021.11.059.19l.815.806c.411.406.562.957.53 1.456a4.709 4.709 0 0 0 0 .582c.032.499-.119 1.05-.53 1.456l-.815.806c-.081.08-.073.159-.059.19.162.346.353.677.573.989.02.03.085.076.195.046l1.102-.303c.56-.153 1.113-.008 1.53.27.161.107.328.204.501.29.447.222.85.629.997 1.189l.289 1.105c.029.109.101.143.137.146a6.6 6.6 0 0 0 1.142 0c.036-.003.108-.036.137-.146l.289-1.105c.147-.561.549-.967.998-1.189.173-.086.34-.183.5-.29.417-.278.97-.423 1.529-.27l1.103.303c.109.029.175-.016.195-.045.22-.313.411-.644.573-.99.014-.031.021-.11-.059-.19l-.815-.806c-.411-.406-.562-.957-.53-1.456a4.709 4.709 0 0 0 0-.582c-.032-.499.119-1.05.53-1.456l.815-.806c.081-.08.073-.159.059-.19a6.464 6.464 0 0 0-.573-.989c-.02-.03-.085-.076-.195-.046l-1.102.303c-.56.153-1.113.008-1.53-.27a4.44 4.44 0 0 0-.501-.29c-.447-.222-.85-.629-.997-1.189l-.289-1.105c-.029-.11-.101-.143-.137-.146a6.6 6.6 0 0 0-1.142 0ZM11 8a3 3 0 1 1-6 0 3 3 0 0 1 6 0ZM9.5 8a1.5 1.5 0 1 0-3.001.001A1.5 1.5 0 0 0 9.5 8Z"></path></svg>
            </div>
            <div data-targets="command-palette-page-stack.localOcticons" data-octicon-id="lock-color-fg-muted">
              <svg height="16" class="octicon octicon-lock color-fg-muted" viewBox="0 0 16 16" version="1.1" width="16" aria-hidden="true"><path d="M4 4a4 4 0 0 1 8 0v2h.25c.966 0 1.75.784 1.75 1.75v5.5A1.75 1.75 0 0 1 12.25 15h-8.5A1.75 1.75 0 0 1 2 13.25v-5.5C2 6.784 2.784 6 3.75 6H4Zm8.25 3.5h-8.5a.25.25 0 0 0-.25.25v5.5c0 .138.112.25.25.25h8.5a.25.25 0 0 0 .25-.25v-5.5a.25.25 0 0 0-.25-.25ZM10.5 6V4a2.5 2.5 0 1 0-5 0v2Z"></path></svg>
            </div>
            <div data-targets="command-palette-page-stack.localOcticons" data-octicon-id="moon-color-fg-muted">
              <svg height="16" class="octicon octicon-moon color-fg-muted" viewBox="0 0 16 16" version="1.1" width="16" aria-hidden="true"><path d="M9.598 1.591a.749.749 0 0 1 .785-.175 7.001 7.001 0 1 1-8.967 8.967.75.75 0 0 1 .961-.96 5.5 5.5 0 0 0 7.046-7.046.75.75 0 0 1 .175-.786Zm1.616 1.945a7 7 0 0 1-7.678 7.678 5.499 5.499 0 1 0 7.678-7.678Z"></path></svg>
            </div>
            <div data-targets="command-palette-page-stack.localOcticons" data-octicon-id="person-color-fg-muted">
              <svg height="16" class="octicon octicon-person color-fg-muted" viewBox="0 0 16 16" version="1.1" width="16" aria-hidden="true"><path d="M10.561 8.073a6.005 6.005 0 0 1 3.432 5.142.75.75 0 1 1-1.498.07 4.5 4.5 0 0 0-8.99 0 .75.75 0 0 1-1.498-.07 6.004 6.004 0 0 1 3.431-5.142 3.999 3.999 0 1 1 5.123 0ZM10.5 5a2.5 2.5 0 1 0-5 0 2.5 2.5 0 0 0 5 0Z"></path></svg>
            </div>
            <div data-targets="command-palette-page-stack.localOcticons" data-octicon-id="pencil-color-fg-muted">
              <svg height="16" class="octicon octicon-pencil color-fg-muted" viewBox="0 0 16 16" version="1.1" width="16" aria-hidden="true"><path d="M11.013 1.427a1.75 1.75 0 0 1 2.474 0l1.086 1.086a1.75 1.75 0 0 1 0 2.474l-8.61 8.61c-.21.21-.47.364-.756.445l-3.251.93a.75.75 0 0 1-.927-.928l.929-3.25c.081-.286.235-.547.445-.758l8.61-8.61Zm.176 4.823L9.75 4.81l-6.286 6.287a.253.253 0 0 0-.064.108l-.558 1.953 1.953-.558a.253.253 0 0 0 .108-.064Zm1.238-3.763a.25.25 0 0 0-.354 0L10.811 3.75l1.439 1.44 1.263-1.263a.25.25 0 0 0 0-.354Z"></path></svg>
            </div>
            <div data-targets="command-palette-page-stack.localOcticons" data-octicon-id="issue-opened-open">
              <svg height="16" class="octicon octicon-issue-opened open" viewBox="0 0 16 16" version="1.1" width="16" aria-hidden="true"><path d="M8 9.5a1.5 1.5 0 1 0 0-3 1.5 1.5 0 0 0 0 3Z"></path><path d="M8 0a8 8 0 1 1 0 16A8 8 0 0 1 8 0ZM1.5 8a6.5 6.5 0 1 0 13 0 6.5 6.5 0 0 0-13 0Z"></path></svg>
            </div>
            <div data-targets="command-palette-page-stack.localOcticons" data-octicon-id="git-pull-request-draft-color-fg-muted">
              <svg height="16" class="octicon octicon-git-pull-request-draft color-fg-muted" viewBox="0 0 16 16" version="1.1" width="16" aria-hidden="true"><path d="M3.25 1A2.25 2.25 0 0 1 4 5.372v5.256a2.251 2.251 0 1 1-1.5 0V5.372A2.251 2.251 0 0 1 3.25 1Zm9.5 14a2.25 2.25 0 1 1 0-4.5 2.25 2.25 0 0 1 0 4.5ZM2.5 3.25a.75.75 0 1 0 1.5 0 .75.75 0 0 0-1.5 0ZM3.25 12a.75.75 0 1 0 0 1.5.75.75 0 0 0 0-1.5Zm9.5 0a.75.75 0 1 0 0 1.5.75.75 0 0 0 0-1.5ZM14 7.5a1.25 1.25 0 1 1-2.5 0 1.25 1.25 0 0 1 2.5 0Zm0-4.25a1.25 1.25 0 1 1-2.5 0 1.25 1.25 0 0 1 2.5 0Z"></path></svg>
            </div>
            <div data-targets="command-palette-page-stack.localOcticons" data-octicon-id="search-color-fg-muted">
              <svg height="16" class="octicon octicon-search color-fg-muted" viewBox="0 0 16 16" version="1.1" width="16" aria-hidden="true"><path d="M10.68 11.74a6 6 0 0 1-7.922-8.982 6 6 0 0 1 8.982 7.922l3.04 3.04a.749.749 0 0 1-.326 1.275.749.749 0 0 1-.734-.215ZM11.5 7a4.499 4.499 0 1 0-8.997 0A4.499 4.499 0 0 0 11.5 7Z"></path></svg>
            </div>
            <div data-targets="command-palette-page-stack.localOcticons" data-octicon-id="sun-color-fg-muted">
              <svg height="16" class="octicon octicon-sun color-fg-muted" viewBox="0 0 16 16" version="1.1" width="16" aria-hidden="true"><path d="M8 12a4 4 0 1 1 0-8 4 4 0 0 1 0 8Zm0-1.5a2.5 2.5 0 1 0 0-5 2.5 2.5 0 0 0 0 5Zm5.657-8.157a.75.75 0 0 1 0 1.061l-1.061 1.06a.749.749 0 0 1-1.275-.326.749.749 0 0 1 .215-.734l1.06-1.06a.75.75 0 0 1 1.06 0Zm-9.193 9.193a.75.75 0 0 1 0 1.06l-1.06 1.061a.75.75 0 1 1-1.061-1.06l1.06-1.061a.75.75 0 0 1 1.061 0ZM8 0a.75.75 0 0 1 .75.75v1.5a.75.75 0 0 1-1.5 0V.75A.75.75 0 0 1 8 0ZM3 8a.75.75 0 0 1-.75.75H.75a.75.75 0 0 1 0-1.5h1.5A.75.75 0 0 1 3 8Zm13 0a.75.75 0 0 1-.75.75h-1.5a.75.75 0 0 1 0-1.5h1.5A.75.75 0 0 1 16 8Zm-8 5a.75.75 0 0 1 .75.75v1.5a.75.75 0 0 1-1.5 0v-1.5A.75.75 0 0 1 8 13Zm3.536-1.464a.75.75 0 0 1 1.06 0l1.061 1.06a.75.75 0 0 1-1.06 1.061l-1.061-1.06a.75.75 0 0 1 0-1.061ZM2.343 2.343a.75.75 0 0 1 1.061 0l1.06 1.061a.751.751 0 0 1-.018 1.042.751.751 0 0 1-1.042.018l-1.06-1.06a.75.75 0 0 1 0-1.06Z"></path></svg>
            </div>
            <div data-targets="command-palette-page-stack.localOcticons" data-octicon-id="sync-color-fg-muted">
              <svg height="16" class="octicon octicon-sync color-fg-muted" viewBox="0 0 16 16" version="1.1" width="16" aria-hidden="true"><path d="M1.705 8.005a.75.75 0 0 1 .834.656 5.5 5.5 0 0 0 9.592 2.97l-1.204-1.204a.25.25 0 0 1 .177-.427h3.646a.25.25 0 0 1 .25.25v3.646a.25.25 0 0 1-.427.177l-1.38-1.38A7.002 7.002 0 0 1 1.05 8.84a.75.75 0 0 1 .656-.834ZM8 2.5a5.487 5.487 0 0 0-4.131 1.869l1.204 1.204A.25.25 0 0 1 4.896 6H1.25A.25.25 0 0 1 1 5.75V2.104a.25.25 0 0 1 .427-.177l1.38 1.38A7.002 7.002 0 0 1 14.95 7.16a.75.75 0 0 1-1.49.178A5.5 5.5 0 0 0 8 2.5Z"></path></svg>
            </div>
            <div data-targets="command-palette-page-stack.localOcticons" data-octicon-id="trash-color-fg-muted">
              <svg height="16" class="octicon octicon-trash color-fg-muted" viewBox="0 0 16 16" version="1.1" width="16" aria-hidden="true"><path d="M11 1.75V3h2.25a.75.75 0 0 1 0 1.5H2.75a.75.75 0 0 1 0-1.5H5V1.75C5 .784 5.784 0 6.75 0h2.5C10.216 0 11 .784 11 1.75ZM4.496 6.675l.66 6.6a.25.25 0 0 0 .249.225h5.19a.25.25 0 0 0 .249-.225l.66-6.6a.75.75 0 0 1 1.492.149l-.66 6.6A1.748 1.748 0 0 1 10.595 15h-5.19a1.75 1.75 0 0 1-1.741-1.575l-.66-6.6a.75.75 0 1 1 1.492-.15ZM6.5 1.75V3h3V1.75a.25.25 0 0 0-.25-.25h-2.5a.25.25 0 0 0-.25.25Z"></path></svg>
            </div>
            <div data-targets="command-palette-page-stack.localOcticons" data-octicon-id="key-color-fg-muted">
              <svg height="16" class="octicon octicon-key color-fg-muted" viewBox="0 0 16 16" version="1.1" width="16" aria-hidden="true"><path d="M10.5 0a5.499 5.499 0 1 1-1.288 10.848l-.932.932a.749.749 0 0 1-.53.22H7v.75a.749.749 0 0 1-.22.53l-.5.5a.749.749 0 0 1-.53.22H5v.75a.749.749 0 0 1-.22.53l-.5.5a.749.749 0 0 1-.53.22h-2A1.75 1.75 0 0 1 0 14.25v-2c0-.199.079-.389.22-.53l4.932-4.932A5.5 5.5 0 0 1 10.5 0Zm-4 5.5c-.001.431.069.86.205 1.269a.75.75 0 0 1-.181.768L1.5 12.56v1.69c0 .138.112.25.25.25h1.69l.06-.06v-1.19a.75.75 0 0 1 .75-.75h1.19l.06-.06v-1.19a.75.75 0 0 1 .75-.75h1.19l1.023-1.025a.75.75 0 0 1 .768-.18A4 4 0 1 0 6.5 5.5ZM11 6a1 1 0 1 1 0-2 1 1 0 0 1 0 2Z"></path></svg>
            </div>
            <div data-targets="command-palette-page-stack.localOcticons" data-octicon-id="comment-discussion-color-fg-muted">
              <svg height="16" class="octicon octicon-comment-discussion color-fg-muted" viewBox="0 0 16 16" version="1.1" width="16" aria-hidden="true"><path d="M1.75 1h8.5c.966 0 1.75.784 1.75 1.75v5.5A1.75 1.75 0 0 1 10.25 10H7.061l-2.574 2.573A1.458 1.458 0 0 1 2 11.543V10h-.25A1.75 1.75 0 0 1 0 8.25v-5.5C0 1.784.784 1 1.75 1ZM1.5 2.75v5.5c0 .138.112.25.25.25h1a.75.75 0 0 1 .75.75v2.19l2.72-2.72a.749.749 0 0 1 .53-.22h3.5a.25.25 0 0 0 .25-.25v-5.5a.25.25 0 0 0-.25-.25h-8.5a.25.25 0 0 0-.25.25Zm13 2a.25.25 0 0 0-.25-.25h-.5a.75.75 0 0 1 0-1.5h.5c.966 0 1.75.784 1.75 1.75v5.5A1.75 1.75 0 0 1 14.25 12H14v1.543a1.458 1.458 0 0 1-2.487 1.03L9.22 12.28a.749.749 0 0 1 .326-1.275.749.749 0 0 1 .734.215l2.22 2.22v-2.19a.75.75 0 0 1 .75-.75h1a.25.25 0 0 0 .25-.25Z"></path></svg>
            </div>
            <div data-targets="command-palette-page-stack.localOcticons" data-octicon-id="bell-color-fg-muted">
              <svg height="16" class="octicon octicon-bell color-fg-muted" viewBox="0 0 16 16" version="1.1" width="16" aria-hidden="true"><path d="M8 16a2 2 0 0 0 1.985-1.75c.017-.137-.097-.25-.235-.25h-3.5c-.138 0-.252.113-.235.25A2 2 0 0 0 8 16ZM3 5a5 5 0 0 1 10 0v2.947c0 .05.015.098.042.139l1.703 2.555A1.519 1.519 0 0 1 13.482 13H2.518a1.516 1.516 0 0 1-1.263-2.36l1.703-2.554A.255.255 0 0 0 3 7.947Zm5-3.5A3.5 3.5 0 0 0 4.5 5v2.947c0 .346-.102.683-.294.97l-1.703 2.556a.017.017 0 0 0-.003.01l.001.006c0 .002.002.004.004.006l.006.004.007.001h10.964l.007-.001.006-.004.004-.006.001-.007a.017.017 0 0 0-.003-.01l-1.703-2.554a1.745 1.745 0 0 1-.294-.97V5A3.5 3.5 0 0 0 8 1.5Z"></path></svg>
            </div>
            <div data-targets="command-palette-page-stack.localOcticons" data-octicon-id="bell-slash-color-fg-muted">
              <svg height="16" class="octicon octicon-bell-slash color-fg-muted" viewBox="0 0 16 16" version="1.1" width="16" aria-hidden="true"><path d="m4.182 4.31.016.011 10.104 7.316.013.01 1.375.996a.75.75 0 1 1-.88 1.214L13.626 13H2.518a1.516 1.516 0 0 1-1.263-2.36l1.703-2.554A.255.255 0 0 0 3 7.947V5.305L.31 3.357a.75.75 0 1 1 .88-1.214Zm7.373 7.19L4.5 6.391v1.556c0 .346-.102.683-.294.97l-1.703 2.556a.017.017 0 0 0-.003.01c0 .005.002.009.005.012l.006.004.007.001ZM8 1.5c-.997 0-1.895.416-2.534 1.086A.75.75 0 1 1 4.38 1.55 5 5 0 0 1 13 5v2.373a.75.75 0 0 1-1.5 0V5A3.5 3.5 0 0 0 8 1.5ZM8 16a2 2 0 0 1-1.985-1.75c-.017-.137.097-.25.235-.25h3.5c.138 0 .252.113.235.25A2 2 0 0 1 8 16Z"></path></svg>
            </div>
            <div data-targets="command-palette-page-stack.localOcticons" data-octicon-id="paintbrush-color-fg-muted">
              <svg height="16" class="octicon octicon-paintbrush color-fg-muted" viewBox="0 0 16 16" version="1.1" width="16" aria-hidden="true"><path d="M11.134 1.535c.7-.509 1.416-.942 2.076-1.155.649-.21 1.463-.267 2.069.34.603.601.568 1.411.368 2.07-.202.668-.624 1.39-1.125 2.096-1.011 1.424-2.496 2.987-3.775 4.249-1.098 1.084-2.132 1.839-3.04 2.3a3.744 3.744 0 0 1-1.055 3.217c-.431.431-1.065.691-1.657.861-.614.177-1.294.287-1.914.357A21.151 21.151 0 0 1 .797 16H.743l.007-.75H.749L.742 16a.75.75 0 0 1-.743-.742l.743-.008-.742.007v-.054a21.25 21.25 0 0 1 .13-2.284c.067-.647.187-1.287.358-1.914.17-.591.43-1.226.86-1.657a3.746 3.746 0 0 1 3.227-1.054c.466-.893 1.225-1.907 2.314-2.982 1.271-1.255 2.833-2.75 4.245-3.777ZM1.62 13.089c-.051.464-.086.929-.104 1.395.466-.018.932-.053 1.396-.104a10.511 10.511 0 0 0 1.668-.309c.526-.151.856-.325 1.011-.48a2.25 2.25 0 1 0-3.182-3.182c-.155.155-.329.485-.48 1.01a10.515 10.515 0 0 0-.309 1.67Zm10.396-10.34c-1.224.89-2.605 2.189-3.822 3.384l1.718 1.718c1.21-1.205 2.51-2.597 3.387-3.833.47-.662.78-1.227.912-1.662.134-.444.032-.551.009-.575h-.001V1.78c-.014-.014-.113-.113-.548.027-.432.14-.995.462-1.655.942Zm-4.832 7.266-.001.001a9.859 9.859 0 0 0 1.63-1.142L7.155 7.216a9.7 9.7 0 0 0-1.161 1.607c.482.302.889.71 1.19 1.192Z"></path></svg>
            </div>

            <command-palette-item-group
              data-group-id="top"
              data-group-title="Top result"
              data-group-hint=""
              data-group-limits="{}"
              data-default-priority="0"
            >
            </command-palette-item-group>
            <command-palette-item-group
              data-group-id="commands"
              data-group-title="Commands"
              data-group-hint="Type &gt; to filter"
              data-group-limits="{&quot;static_items_page&quot;:50,&quot;issue&quot;:50,&quot;pull_request&quot;:50,&quot;discussion&quot;:50}"
              data-default-priority="1"
            >
            </command-palette-item-group>
            <command-palette-item-group
              data-group-id="global_commands"
              data-group-title="Global Commands"
              data-group-hint="Type &gt; to filter"
              data-group-limits="{&quot;issue&quot;:0,&quot;pull_request&quot;:0,&quot;discussion&quot;:0}"
              data-default-priority="2"
            >
            </command-palette-item-group>
            <command-palette-item-group
              data-group-id="this_page"
              data-group-title="This Page"
              data-group-hint=""
              data-group-limits="{}"
              data-default-priority="3"
            >
            </command-palette-item-group>
            <command-palette-item-group
              data-group-id="files"
              data-group-title="Files"
              data-group-hint=""
              data-group-limits="{}"
              data-default-priority="4"
            >
            </command-palette-item-group>
            <command-palette-item-group
              data-group-id="default"
              data-group-title="Default"
              data-group-hint=""
              data-group-limits="{&quot;static_items_page&quot;:50}"
              data-default-priority="5"
            >
            </command-palette-item-group>
            <command-palette-item-group
              data-group-id="pages"
              data-group-title="Pages"
              data-group-hint=""
              data-group-limits="{&quot;repository&quot;:10}"
              data-default-priority="6"
            >
            </command-palette-item-group>
            <command-palette-item-group
              data-group-id="access_policies"
              data-group-title="Access Policies"
              data-group-hint=""
              data-group-limits="{}"
              data-default-priority="7"
            >
            </command-palette-item-group>
            <command-palette-item-group
              data-group-id="organizations"
              data-group-title="Organizations"
              data-group-hint=""
              data-group-limits="{}"
              data-default-priority="8"
            >
            </command-palette-item-group>
            <command-palette-item-group
              data-group-id="repositories"
              data-group-title="Repositories"
              data-group-hint=""
              data-group-limits="{}"
              data-default-priority="9"
            >
            </command-palette-item-group>
            <command-palette-item-group
              data-group-id="references"
              data-group-title="Issues, pull requests, and discussions"
              data-group-hint="Type # to filter"
              data-group-limits="{}"
              data-default-priority="10"
            >
            </command-palette-item-group>
            <command-palette-item-group
              data-group-id="teams"
              data-group-title="Teams"
              data-group-hint=""
              data-group-limits="{}"
              data-default-priority="11"
            >
            </command-palette-item-group>
            <command-palette-item-group
              data-group-id="users"
              data-group-title="Users"
              data-group-hint=""
              data-group-limits="{}"
              data-default-priority="12"
            >
            </command-palette-item-group>
            <command-palette-item-group
              data-group-id="memex_projects"
              data-group-title="Projects"
              data-group-hint=""
              data-group-limits="{}"
              data-default-priority="13"
            >
            </command-palette-item-group>
            <command-palette-item-group
              data-group-id="projects"
              data-group-title="Projects (classic)"
              data-group-hint=""
              data-group-limits="{}"
              data-default-priority="14"
            >
            </command-palette-item-group>
            <command-palette-item-group
              data-group-id="footer"
              data-group-title="Footer"
              data-group-hint=""
              data-group-limits="{}"
              data-default-priority="15"
            >
            </command-palette-item-group>
            <command-palette-item-group
              data-group-id="modes_help"
              data-group-title="Modes"
              data-group-hint=""
              data-group-limits="{}"
              data-default-priority="16"
            >
            </command-palette-item-group>
            <command-palette-item-group
              data-group-id="filters_help"
              data-group-title="Use filters in issues, pull requests, discussions, and projects"
              data-group-hint=""
              data-group-limits="{}"
              data-default-priority="17"
            >
            </command-palette-item-group>

            <command-palette-page
              data-page-title="MarcelloLM"
              data-scope-id="U_kgDOBljSnQ"
              data-scope-type="owner"
              data-targets="command-palette-page-stack.defaultPages"
              hidden
            >
            </command-palette-page>
            <command-palette-page
              data-page-title="regressao-mse"
              data-scope-id="R_kgDOJO134A"
              data-scope-type="repository"
              data-targets="command-palette-page-stack.defaultPages"
              hidden
            >
            </command-palette-page>
        </div>

        <command-palette-page data-is-root>
        </command-palette-page>
          <command-palette-page
            data-page-title="MarcelloLM"
            data-scope-id="U_kgDOBljSnQ"
            data-scope-type="owner"
          >
          </command-palette-page>
          <command-palette-page
            data-page-title="regressao-mse"
            data-scope-id="R_kgDOJO134A"
            data-scope-type="repository"
          >
          </command-palette-page>
      </command-palette-page-stack>

      <server-defined-provider data-type="search-links" data-targets="command-palette.serverDefinedProviderElements"></server-defined-provider>
      <server-defined-provider data-type="help" data-targets="command-palette.serverDefinedProviderElements">
          <command-palette-help
            data-group="modes_help"
              data-prefix="#"
              data-scope-types="[&quot;&quot;]"
          >
            <span data-target="command-palette-help.titleElement">Search for <strong>issues</strong> and <strong>pull requests</strong></span>
              <span data-target="command-palette-help.hintElement">
                <kbd class="hx_kbd">#</kbd>
              </span>
          </command-palette-help>
          <command-palette-help
            data-group="modes_help"
              data-prefix="#"
              data-scope-types="[&quot;owner&quot;,&quot;repository&quot;]"
          >
            <span data-target="command-palette-help.titleElement">Search for <strong>issues, pull requests, discussions,</strong> and <strong>projects</strong></span>
              <span data-target="command-palette-help.hintElement">
                <kbd class="hx_kbd">#</kbd>
              </span>
          </command-palette-help>
          <command-palette-help
            data-group="modes_help"
              data-prefix="@"
              data-scope-types="[&quot;&quot;]"
          >
            <span data-target="command-palette-help.titleElement">Search for <strong>organizations, repositories,</strong> and <strong>users</strong></span>
              <span data-target="command-palette-help.hintElement">
                <kbd class="hx_kbd">@</kbd>
              </span>
          </command-palette-help>
          <command-palette-help
            data-group="modes_help"
              data-prefix="!"
              data-scope-types="[&quot;owner&quot;,&quot;repository&quot;]"
          >
            <span data-target="command-palette-help.titleElement">Search for <strong>projects</strong></span>
              <span data-target="command-palette-help.hintElement">
                <kbd class="hx_kbd">!</kbd>
              </span>
          </command-palette-help>
          <command-palette-help
            data-group="modes_help"
              data-prefix="/"
              data-scope-types="[&quot;repository&quot;]"
          >
            <span data-target="command-palette-help.titleElement">Search for <strong>files</strong></span>
              <span data-target="command-palette-help.hintElement">
                <kbd class="hx_kbd">/</kbd>
              </span>
          </command-palette-help>
          <command-palette-help
            data-group="modes_help"
              data-prefix="&gt;"
          >
            <span data-target="command-palette-help.titleElement">Activate <strong>command mode</strong></span>
              <span data-target="command-palette-help.hintElement">
                <kbd class="hx_kbd">&gt;</kbd>
              </span>
          </command-palette-help>
          <command-palette-help
            data-group="filters_help"
              data-prefix="# author:@me"
          >
            <span data-target="command-palette-help.titleElement">Search your issues, pull requests, and discussions</span>
              <span data-target="command-palette-help.hintElement">
                <kbd class="hx_kbd"># author:@me</kbd>
              </span>
          </command-palette-help>
          <command-palette-help
            data-group="filters_help"
              data-prefix="# author:@me"
          >
            <span data-target="command-palette-help.titleElement">Search your issues, pull requests, and discussions</span>
              <span data-target="command-palette-help.hintElement">
                <kbd class="hx_kbd"># author:@me</kbd>
              </span>
          </command-palette-help>
          <command-palette-help
            data-group="filters_help"
              data-prefix="# is:pr"
          >
            <span data-target="command-palette-help.titleElement">Filter to pull requests</span>
              <span data-target="command-palette-help.hintElement">
                <kbd class="hx_kbd"># is:pr</kbd>
              </span>
          </command-palette-help>
          <command-palette-help
            data-group="filters_help"
              data-prefix="# is:issue"
          >
            <span data-target="command-palette-help.titleElement">Filter to issues</span>
              <span data-target="command-palette-help.hintElement">
                <kbd class="hx_kbd"># is:issue</kbd>
              </span>
          </command-palette-help>
          <command-palette-help
            data-group="filters_help"
              data-prefix="# is:discussion"
              data-scope-types="[&quot;owner&quot;,&quot;repository&quot;]"
          >
            <span data-target="command-palette-help.titleElement">Filter to discussions</span>
              <span data-target="command-palette-help.hintElement">
                <kbd class="hx_kbd"># is:discussion</kbd>
              </span>
          </command-palette-help>
          <command-palette-help
            data-group="filters_help"
              data-prefix="# is:project"
              data-scope-types="[&quot;owner&quot;,&quot;repository&quot;]"
          >
            <span data-target="command-palette-help.titleElement">Filter to projects</span>
              <span data-target="command-palette-help.hintElement">
                <kbd class="hx_kbd"># is:project</kbd>
              </span>
          </command-palette-help>
          <command-palette-help
            data-group="filters_help"
              data-prefix="# is:open"
          >
            <span data-target="command-palette-help.titleElement">Filter to open issues, pull requests, and discussions</span>
              <span data-target="command-palette-help.hintElement">
                <kbd class="hx_kbd"># is:open</kbd>
              </span>
          </command-palette-help>
      </server-defined-provider>

        <server-defined-provider
          data-type="commands"
          data-fetch-debounce="0"
            data-src="/command_palette/commands"
          data-supported-modes="[]"
            data-supports-commands
          
          data-targets="command-palette.serverDefinedProviderElements"
          ></server-defined-provider>
        <server-defined-provider
          data-type="prefetched"
          data-fetch-debounce="0"
            data-src="/command_palette/jump_to_page_navigation"
          data-supported-modes="[&quot;&quot;]"
            data-supported-scope-types="[&quot;&quot;,&quot;owner&quot;,&quot;repository&quot;]"
          
          data-targets="command-palette.serverDefinedProviderElements"
          ></server-defined-provider>
        <server-defined-provider
          data-type="remote"
          data-fetch-debounce="200"
            data-src="/command_palette/issues"
          data-supported-modes="[&quot;#&quot;,&quot;#&quot;]"
            data-supported-scope-types="[&quot;owner&quot;,&quot;repository&quot;,&quot;&quot;]"
          
          data-targets="command-palette.serverDefinedProviderElements"
          ></server-defined-provider>
        <server-defined-provider
          data-type="remote"
          data-fetch-debounce="200"
            data-src="/command_palette/jump_to"
          data-supported-modes="[&quot;@&quot;,&quot;@&quot;]"
            data-supported-scope-types="[&quot;&quot;,&quot;owner&quot;]"
          
          data-targets="command-palette.serverDefinedProviderElements"
          ></server-defined-provider>
        <server-defined-provider
          data-type="remote"
          data-fetch-debounce="200"
            data-src="/command_palette/jump_to_members_only"
          data-supported-modes="[&quot;@&quot;,&quot;@&quot;,&quot;&quot;,&quot;&quot;]"
            data-supported-scope-types="[&quot;&quot;,&quot;owner&quot;]"
          
          data-targets="command-palette.serverDefinedProviderElements"
          ></server-defined-provider>
        <server-defined-provider
          data-type="prefetched"
          data-fetch-debounce="0"
            data-src="/command_palette/jump_to_members_only_prefetched"
          data-supported-modes="[&quot;@&quot;,&quot;@&quot;,&quot;&quot;,&quot;&quot;]"
            data-supported-scope-types="[&quot;&quot;,&quot;owner&quot;]"
          
          data-targets="command-palette.serverDefinedProviderElements"
          ></server-defined-provider>
        <server-defined-provider
          data-type="files"
          data-fetch-debounce="0"
            data-src="/command_palette/files"
          data-supported-modes="[&quot;/&quot;]"
            data-supported-scope-types="[&quot;repository&quot;]"
          
          data-targets="command-palette.serverDefinedProviderElements"
          ></server-defined-provider>
        <server-defined-provider
          data-type="remote"
          data-fetch-debounce="200"
            data-src="/command_palette/discussions"
          data-supported-modes="[&quot;#&quot;]"
            data-supported-scope-types="[&quot;owner&quot;,&quot;repository&quot;]"
          
          data-targets="command-palette.serverDefinedProviderElements"
          ></server-defined-provider>
        <server-defined-provider
          data-type="remote"
          data-fetch-debounce="200"
            data-src="/command_palette/projects"
          data-supported-modes="[&quot;#&quot;,&quot;!&quot;]"
            data-supported-scope-types="[&quot;owner&quot;,&quot;repository&quot;]"
          
          data-targets="command-palette.serverDefinedProviderElements"
          ></server-defined-provider>
        <server-defined-provider
          data-type="prefetched"
          data-fetch-debounce="0"
            data-src="/command_palette/recent_issues"
          data-supported-modes="[&quot;#&quot;,&quot;#&quot;]"
            data-supported-scope-types="[&quot;owner&quot;,&quot;repository&quot;,&quot;&quot;]"
          
          data-targets="command-palette.serverDefinedProviderElements"
          ></server-defined-provider>
        <server-defined-provider
          data-type="remote"
          data-fetch-debounce="200"
            data-src="/command_palette/teams"
          data-supported-modes="[&quot;@&quot;,&quot;&quot;]"
            data-supported-scope-types="[&quot;owner&quot;]"
          
          data-targets="command-palette.serverDefinedProviderElements"
          ></server-defined-provider>
        <server-defined-provider
          data-type="remote"
          data-fetch-debounce="200"
            data-src="/command_palette/name_with_owner_repository"
          data-supported-modes="[&quot;@&quot;,&quot;@&quot;,&quot;&quot;,&quot;&quot;]"
            data-supported-scope-types="[&quot;&quot;,&quot;owner&quot;]"
          
          data-targets="command-palette.serverDefinedProviderElements"
          ></server-defined-provider>
    </command-palette>
  </details-dialog>
</details>

<div class="position-fixed bottom-0 left-0 ml-5 mb-5 js-command-palette-toasts" style="z-index: 1000">
  <div hidden class="Toast Toast--loading">
    <span class="Toast-icon">
      <svg class="Toast--spinner" viewBox="0 0 32 32" width="18" height="18" aria-hidden="true">
        <path
          fill="#959da5"
          d="M16 0 A16 16 0 0 0 16 32 A16 16 0 0 0 16 0 M16 4 A12 12 0 0 1 16 28 A12 12 0 0 1 16 4"
        />
        <path fill="#ffffff" d="M16 0 A16 16 0 0 1 32 16 L28 16 A12 12 0 0 0 16 4z"></path>
      </svg>
    </span>
    <span class="Toast-content"></span>
  </div>

  <div hidden class="anim-fade-in fast Toast Toast--error">
    <span class="Toast-icon">
      <svg aria-hidden="true" height="16" viewBox="0 0 16 16" version="1.1" width="16" data-view-component="true" class="octicon octicon-stop">
    <path d="M4.47.22A.749.749 0 0 1 5 0h6c.199 0 .389.079.53.22l4.25 4.25c.141.14.22.331.22.53v6a.749.749 0 0 1-.22.53l-4.25 4.25A.749.749 0 0 1 11 16H5a.749.749 0 0 1-.53-.22L.22 11.53A.749.749 0 0 1 0 11V5c0-.199.079-.389.22-.53Zm.84 1.28L1.5 5.31v5.38l3.81 3.81h5.38l3.81-3.81V5.31L10.69 1.5ZM8 4a.75.75 0 0 1 .75.75v3.5a.75.75 0 0 1-1.5 0v-3.5A.75.75 0 0 1 8 4Zm0 8a1 1 0 1 1 0-2 1 1 0 0 1 0 2Z"></path>
</svg>
    </span>
    <span class="Toast-content"></span>
  </div>

  <div hidden class="anim-fade-in fast Toast Toast--warning">
    <span class="Toast-icon">
      <svg aria-hidden="true" height="16" viewBox="0 0 16 16" version="1.1" width="16" data-view-component="true" class="octicon octicon-alert">
    <path d="M6.457 1.047c.659-1.234 2.427-1.234 3.086 0l6.082 11.378A1.75 1.75 0 0 1 14.082 15H1.918a1.75 1.75 0 0 1-1.543-2.575Zm1.763.707a.25.25 0 0 0-.44 0L1.698 13.132a.25.25 0 0 0 .22.368h12.164a.25.25 0 0 0 .22-.368Zm.53 3.996v2.5a.75.75 0 0 1-1.5 0v-2.5a.75.75 0 0 1 1.5 0ZM9 11a1 1 0 1 1-2 0 1 1 0 0 1 2 0Z"></path>
</svg>
    </span>
    <span class="Toast-content"></span>
  </div>


  <div hidden class="anim-fade-in fast Toast Toast--success">
    <span class="Toast-icon">
      <svg aria-hidden="true" height="16" viewBox="0 0 16 16" version="1.1" width="16" data-view-component="true" class="octicon octicon-check">
    <path d="M13.78 4.22a.75.75 0 0 1 0 1.06l-7.25 7.25a.75.75 0 0 1-1.06 0L2.22 9.28a.751.751 0 0 1 .018-1.042.751.751 0 0 1 1.042-.018L6 10.94l6.72-6.72a.75.75 0 0 1 1.06 0Z"></path>
</svg>
    </span>
    <span class="Toast-content"></span>
  </div>

  <div hidden class="anim-fade-in fast Toast">
    <span class="Toast-icon">
      <svg aria-hidden="true" height="16" viewBox="0 0 16 16" version="1.1" width="16" data-view-component="true" class="octicon octicon-info">
    <path d="M0 8a8 8 0 1 1 16 0A8 8 0 0 1 0 8Zm8-6.5a6.5 6.5 0 1 0 0 13 6.5 6.5 0 0 0 0-13ZM6.5 7.75A.75.75 0 0 1 7.25 7h1a.75.75 0 0 1 .75.75v2.75h.25a.75.75 0 0 1 0 1.5h-2a.75.75 0 0 1 0-1.5h.25v-2h-.25a.75.75 0 0 1-.75-.75ZM8 6a1 1 0 1 1 0-2 1 1 0 0 1 0 2Z"></path>
</svg>
    </span>
    <span class="Toast-content"></span>
  </div>
</div>


  <div
    class="application-main "
    data-commit-hovercards-enabled
    data-discussion-hovercards-enabled
    data-issue-and-pr-hovercards-enabled
  >
        <div itemscope itemtype="http://schema.org/SoftwareSourceCode" class="">
    <main id="js-repo-pjax-container" >
      
      






  
  <div id="repository-container-header"  class="pt-3 hide-full-screen" style="background-color: var(--color-page-header-bg);" data-turbo-replace>

      <div class="d-flex flex-wrap flex-justify-end mb-3  px-3 px-md-4 px-lg-5" style="gap: 1rem;">

        <div class="flex-auto min-width-0 width-fit mr-3">
            
  <div class=" d-flex flex-wrap flex-items-center wb-break-word f3 text-normal">
      <svg aria-hidden="true" height="16" viewBox="0 0 16 16" version="1.1" width="16" data-view-component="true" class="octicon octicon-repo color-fg-muted mr-2">
    <path d="M2 2.5A2.5 2.5 0 0 1 4.5 0h8.75a.75.75 0 0 1 .75.75v12.5a.75.75 0 0 1-.75.75h-2.5a.75.75 0 0 1 0-1.5h1.75v-2h-8a1 1 0 0 0-.714 1.7.75.75 0 1 1-1.072 1.05A2.495 2.495 0 0 1 2 11.5Zm10.5-1h-8a1 1 0 0 0-1 1v6.708A2.486 2.486 0 0 1 4.5 9h8ZM5 12.25a.25.25 0 0 1 .25-.25h3.5a.25.25 0 0 1 .25.25v3.25a.25.25 0 0 1-.4.2l-1.45-1.087a.249.249 0 0 0-.3 0L5.4 15.7a.25.25 0 0 1-.4-.2Z"></path>
</svg>
    
    <span class="author flex-self-stretch" itemprop="author">
      <a class="url fn" rel="author" data-hovercard-type="user" data-hovercard-url="/users/MarcelloLM/hovercard" data-octo-click="hovercard-link-click" data-octo-dimensions="link_type:self" href="/MarcelloLM">
        MarcelloLM
</a>    </span>
    <span class="mx-1 flex-self-stretch color-fg-muted">/</span>
    <strong itemprop="name" class="mr-2 flex-self-stretch">
      <a data-pjax="#repo-content-pjax-container" data-turbo-frame="repo-content-turbo-frame" href="/MarcelloLM/regressao-mse">regressao-mse</a>
    </strong>

    <span></span><span class="Label Label--secondary v-align-middle mr-1">Public</span>
  </div>


        </div>

        <div id="repository-details-container" data-turbo-replace>
            <ul class="pagehead-actions flex-shrink-0 d-none d-md-inline" style="padding: 2px 0;">
    
      <li>
  <div class="float-left" >
    <!-- '"` --><!-- </textarea></xmp> --></option></form><form data-turbo="false" action="/MarcelloLM/regressao-mse/profile_pin" accept-charset="UTF-8" method="post"><input type="hidden" name="authenticity_token" value="CrQpCF5SdJmNvZQjeMMCpzKwA9a_JOXv3WY-lKMBeB6IiEU_Y86eCMCxqhRGwJ-ZBoL6WQOSlcQ5f-wX_dKu1Q" autocomplete="off" />
        <button title="Pin this repository to your profile" type="submit" data-view-component="true" class="btn-sm btn">    <svg aria-hidden="true" height="16" viewBox="0 0 16 16" version="1.1" width="16" data-view-component="true" class="octicon octicon-pin mr-2">
    <path d="M4.456.734a1.75 1.75 0 0 1 2.826.504l.613 1.327a3.08 3.08 0 0 0 2.084 1.707l2.454.584c1.332.317 1.8 1.972.832 2.94L11.06 10l3.72 3.72a.748.748 0 0 1-.332 1.265.75.75 0 0 1-.729-.205L10 11.06l-2.204 2.205c-.968.968-2.623.5-2.94-.832l-.584-2.454a3.08 3.08 0 0 0-1.707-2.084l-1.327-.613a1.75 1.75 0 0 1-.504-2.826ZM5.92 1.866a.253.253 0 0 0-.183-.142.251.251 0 0 0-.221.07L1.794 5.516a.251.251 0 0 0-.07.221c.015.08.068.149.142.183l1.328.613A4.582 4.582 0 0 1 5.73 9.63l.584 2.454a.251.251 0 0 0 .42.12l5.47-5.47a.25.25 0 0 0-.12-.42L9.63 5.73a4.583 4.583 0 0 1-3.098-2.537Z"></path>
</svg>Pin
</button></form>  </div>
</li>


  <li>
        <include-fragment loading="lazy" src="/notifications/619542496/watch_subscription?aria_id_prefix=repository-details&amp;button_block=false&amp;show_count=true">
    <div data-hide-on-error>
        
            <button disabled="disabled" aria-label="Watching a repository" type="button" data-view-component="true" class="tooltipped tooltipped-n Button--secondary Button--small Button">    <span class="Button-content">
        <span class="Button-visual Button-leadingVisual">
          <svg aria-hidden="true" height="16" viewBox="0 0 16 16" version="1.1" width="16" data-view-component="true" class="octicon octicon-eye">
    <path d="M8 2c1.981 0 3.671.992 4.933 2.078 1.27 1.091 2.187 2.345 2.637 3.023a1.62 1.62 0 0 1 0 1.798c-.45.678-1.367 1.932-2.637 3.023C11.67 13.008 9.981 14 8 14c-1.981 0-3.671-.992-4.933-2.078C1.797 10.83.88 9.576.43 8.898a1.62 1.62 0 0 1 0-1.798c.45-.677 1.367-1.931 2.637-3.022C4.33 2.992 6.019 2 8 2ZM1.679 7.932a.12.12 0 0 0 0 .136c.411.622 1.241 1.75 2.366 2.717C5.176 11.758 6.527 12.5 8 12.5c1.473 0 2.825-.742 3.955-1.715 1.124-.967 1.954-2.096 2.366-2.717a.12.12 0 0 0 0-.136c-.412-.621-1.242-1.75-2.366-2.717C10.824 4.242 9.473 3.5 8 3.5c-1.473 0-2.825.742-3.955 1.715-1.124.967-1.954 2.096-2.366 2.717ZM8 10a2 2 0 1 1-.001-3.999A2 2 0 0 1 8 10Z"></path>
</svg>
        </span>
      <span class="Button-label">Watch</span>
    </span>
</button>  

    </div>
    <p data-show-on-error hidden>
        
          <span class="d-flex pt-1">
            <svg aria-hidden="true" height="16" viewBox="0 0 16 16" version="1.1" width="16" data-view-component="true" class="octicon octicon-alert mr-1">
    <path d="M6.457 1.047c.659-1.234 2.427-1.234 3.086 0l6.082 11.378A1.75 1.75 0 0 1 14.082 15H1.918a1.75 1.75 0 0 1-1.543-2.575Zm1.763.707a.25.25 0 0 0-.44 0L1.698 13.132a.25.25 0 0 0 .22.368h12.164a.25.25 0 0 0 .22-.368Zm.53 3.996v2.5a.75.75 0 0 1-1.5 0v-2.5a.75.75 0 0 1 1.5 0ZM9 11a1 1 0 1 1-2 0 1 1 0 0 1 2 0Z"></path>
</svg>
            Couldn't load subscription status.&nbsp;
              <button data-retry-button="" type="button" data-view-component="true" class="Button--link Button--medium Button">    <span class="Button-content">
      <span class="Button-label">Retry</span>
    </span>
</button>  

          </span>

    </p>
  </include-fragment>
  </li>

  <li>
        <div data-view-component="true" class="d-flex">
        <div data-view-component="true" class="position-relative d-inline-block">
    <button icon="repo-forked" id="fork-button" aria-disabled="true" type="button" data-view-component="true" class="btn-sm btn BtnGroup-item border-right-0">      <svg aria-hidden="true" height="16" viewBox="0 0 16 16" version="1.1" width="16" data-view-component="true" class="octicon octicon-repo-forked mr-2">
    <path d="M5 5.372v.878c0 .414.336.75.75.75h4.5a.75.75 0 0 0 .75-.75v-.878a2.25 2.25 0 1 1 1.5 0v.878a2.25 2.25 0 0 1-2.25 2.25h-1.5v2.128a2.251 2.251 0 1 1-1.5 0V8.5h-1.5A2.25 2.25 0 0 1 3.5 6.25v-.878a2.25 2.25 0 1 1 1.5 0ZM5 3.25a.75.75 0 1 0-1.5 0 .75.75 0 0 0 1.5 0Zm6.75.75a.75.75 0 1 0 0-1.5.75.75 0 0 0 0 1.5Zm-3 8.75a.75.75 0 1 0-1.5 0 .75.75 0 0 0 1.5 0Z"></path>
</svg>Fork
        <span id="repo-network-counter" data-pjax-replace="true" data-turbo-replace="true" title="0" data-view-component="true" class="Counter">0</span>
</button>    <tool-tip id="tooltip-ef0e5aa9-77d7-47c8-9a93-20269fa0d4ab" for="fork-button" data-direction="s" data-type="description" data-view-component="true" class="sr-only position-absolute">Cannot fork because you own this repository and are not a member of any organizations.</tool-tip>
</div>
      <details group_item="true" id="my-forks-menu-619542496" data-view-component="true" class="details-reset details-overlay BtnGroup-parent d-inline-block position-relative">
              <summary aria-label="See your forks of this repository" data-view-component="true" class="btn-sm btn BtnGroup-item px-2 float-none">    <svg aria-hidden="true" height="16" viewBox="0 0 16 16" version="1.1" width="16" data-view-component="true" class="octicon octicon-triangle-down">
    <path d="m4.427 7.427 3.396 3.396a.25.25 0 0 0 .354 0l3.396-3.396A.25.25 0 0 0 11.396 7H4.604a.25.25 0 0 0-.177.427Z"></path>
</svg>
</summary>
  <details-menu
    class="SelectMenu right-0"
      src="/MarcelloLM/regressao-mse/my_forks_menu_content?can_fork=false"
      
      role="menu"
      
>
    <div class="SelectMenu-modal">
        <button class="SelectMenu-closeButton position-absolute right-0 m-2" type="button" aria-label="Close menu" data-toggle-for="details-cefaab">
          <svg aria-hidden="true" height="16" viewBox="0 0 16 16" version="1.1" width="16" data-view-component="true" class="octicon octicon-x">
    <path d="M3.72 3.72a.75.75 0 0 1 1.06 0L8 6.94l3.22-3.22a.749.749 0 0 1 1.275.326.749.749 0 0 1-.215.734L9.06 8l3.22 3.22a.749.749 0 0 1-.326 1.275.749.749 0 0 1-.734-.215L8 9.06l-3.22 3.22a.751.751 0 0 1-1.042-.018.751.751 0 0 1-.018-1.042L6.94 8 3.72 4.78a.75.75 0 0 1 0-1.06Z"></path>
</svg>
        </button>
      <div
        id="filter-menu-cefaab"
        class="d-flex flex-column flex-1 overflow-hidden"
>
        <div
          class="SelectMenu-list"
          >

            <include-fragment class="SelectMenu-loading" aria-label="Loading">
              <svg role="menuitem" style="box-sizing: content-box; color: var(--color-icon-primary);" width="32" height="32" viewBox="0 0 16 16" fill="none" data-view-component="true" class="anim-rotate">
  <circle cx="8" cy="8" r="7" stroke="currentColor" stroke-opacity="0.25" stroke-width="2" vector-effect="non-scaling-stroke" />
  <path d="M15 8a7.002 7.002 0 00-7-7" stroke="currentColor" stroke-width="2" stroke-linecap="round" vector-effect="non-scaling-stroke" />
</svg>
            </include-fragment>
        </div>
        
      </div>
    </div>
  </details-menu>
</details></div>
  </li>

  <li>
        <template class="js-unstar-confirmation-dialog-template">
  <div class="Box-header">
    <h2 class="Box-title">Unstar this repository?</h2>
  </div>
  <div class="Box-body">
    <p class="mb-3">
      This will remove {{ repoNameWithOwner }} from the {{ listsWithCount }} that it's been added to.
    </p>
    <div class="form-actions">
      <!-- '"` --><!-- </textarea></xmp> --></option></form><form class="js-social-confirmation-form" data-turbo="false" action="{{ confirmUrl }}" accept-charset="UTF-8" method="post">
        <input type="hidden" name="authenticity_token" value="{{ confirmCsrfToken }}">
        <input type="hidden" name="confirm" value="true">
          <button data-close-dialog="true" type="submit" data-view-component="true" class="btn-danger btn width-full">    Unstar
</button>
</form>    </div>
  </div>
</template>

  <div data-view-component="true" class="js-toggler-container js-social-container starring-container d-flex">
    <div data-view-component="true" class="starred BtnGroup flex-1">
      <!-- '"` --><!-- </textarea></xmp> --></option></form><form class="js-social-form BtnGroup-parent flex-auto js-deferred-toggler-target" data-turbo="false" action="/MarcelloLM/regressao-mse/unstar" accept-charset="UTF-8" method="post"><input type="hidden" name="authenticity_token" value="oaANxFxBjKy3qIXRP64tTBwguGK3cETfqdCCXvIr40mt4Ar41deLgD2fIlFl0Gs4hP2mbh7KPLsyYaJMlxZGIg" autocomplete="off" />
          <input type="hidden" value="Q97YEmaP4CUIku-fM5WXLjDG6cd_DpvxmYPidWX0loBPnt8u7xnnCYKlSB9p69FaqBv3y9a045UCMsJnAMkz6w" data-csrf="true" class="js-confirm-csrf-token" />
        <input type="hidden" name="context" value="repository">
          <button data-hydro-click="{&quot;event_type&quot;:&quot;repository.click&quot;,&quot;payload&quot;:{&quot;target&quot;:&quot;UNSTAR_BUTTON&quot;,&quot;repository_id&quot;:619542496,&quot;originating_url&quot;:&quot;https://github.com/MarcelloLM/regressao-mse/blob/main/Regressa%CC%83o_mse.ipynb&quot;,&quot;user_id&quot;:106484381}}" data-hydro-click-hmac="a85ec9e66d862763eb1b5e6dd80ab3668a598669b393b3867955c340314db491" data-ga-click="Repository, click unstar button, action:blob#show; text:Unstar" aria-label="Unstar this repository (0)" type="submit" data-view-component="true" class="rounded-left-2 btn-sm btn BtnGroup-item">    <svg aria-hidden="true" height="16" viewBox="0 0 16 16" version="1.1" width="16" data-view-component="true" class="octicon octicon-star-fill starred-button-icon d-inline-block mr-2">
    <path d="M8 .25a.75.75 0 0 1 .673.418l1.882 3.815 4.21.612a.75.75 0 0 1 .416 1.279l-3.046 2.97.719 4.192a.751.751 0 0 1-1.088.791L8 12.347l-3.766 1.98a.75.75 0 0 1-1.088-.79l.72-4.194L.818 6.374a.75.75 0 0 1 .416-1.28l4.21-.611L7.327.668A.75.75 0 0 1 8 .25Z"></path>
</svg><span data-view-component="true" class="d-inline">
              Starred
</span>              <span id="repo-stars-counter-unstar" aria-label="0 users starred this repository" data-singular-suffix="user starred this repository" data-plural-suffix="users starred this repository" data-turbo-replace="true" title="0" data-view-component="true" class="Counter js-social-count">0</span>
</button></form>        <details id="details-user-list-619542496-starred" data-view-component="true" class="details-reset details-overlay BtnGroup-parent js-user-list-menu d-inline-block position-relative">
        <summary aria-label="Add this repository to a list" data-view-component="true" class="btn-sm btn BtnGroup-item px-2 float-none">    <svg aria-hidden="true" height="16" viewBox="0 0 16 16" version="1.1" width="16" data-view-component="true" class="octicon octicon-triangle-down">
    <path d="m4.427 7.427 3.396 3.396a.25.25 0 0 0 .354 0l3.396-3.396A.25.25 0 0 0 11.396 7H4.604a.25.25 0 0 0-.177.427Z"></path>
</svg>
</summary>
  <details-menu
    class="SelectMenu right-0"
      src="/MarcelloLM/regressao-mse/lists"
      
      role="menu"
      
>
    <div class="SelectMenu-modal">
        <button class="SelectMenu-closeButton position-absolute right-0 m-2" type="button" aria-label="Close menu" data-toggle-for="details-c66402">
          <svg aria-hidden="true" height="16" viewBox="0 0 16 16" version="1.1" width="16" data-view-component="true" class="octicon octicon-x">
    <path d="M3.72 3.72a.75.75 0 0 1 1.06 0L8 6.94l3.22-3.22a.749.749 0 0 1 1.275.326.749.749 0 0 1-.215.734L9.06 8l3.22 3.22a.749.749 0 0 1-.326 1.275.749.749 0 0 1-.734-.215L8 9.06l-3.22 3.22a.751.751 0 0 1-1.042-.018.751.751 0 0 1-.018-1.042L6.94 8 3.72 4.78a.75.75 0 0 1 0-1.06Z"></path>
</svg>
        </button>
      <div
        id="filter-menu-c66402"
        class="d-flex flex-column flex-1 overflow-hidden"
>
        <div
          class="SelectMenu-list"
          >

            <include-fragment class="SelectMenu-loading" aria-label="Loading">
              <svg role="menuitem" style="box-sizing: content-box; color: var(--color-icon-primary);" width="32" height="32" viewBox="0 0 16 16" fill="none" data-view-component="true" class="anim-rotate">
  <circle cx="8" cy="8" r="7" stroke="currentColor" stroke-opacity="0.25" stroke-width="2" vector-effect="non-scaling-stroke" />
  <path d="M15 8a7.002 7.002 0 00-7-7" stroke="currentColor" stroke-width="2" stroke-linecap="round" vector-effect="non-scaling-stroke" />
</svg>
            </include-fragment>
        </div>
        
      </div>
    </div>
  </details-menu>
</details>
</div>
    <div data-view-component="true" class="unstarred BtnGroup flex-1">
      <!-- '"` --><!-- </textarea></xmp> --></option></form><form class="js-social-form BtnGroup-parent flex-auto" data-turbo="false" action="/MarcelloLM/regressao-mse/star" accept-charset="UTF-8" method="post"><input type="hidden" name="authenticity_token" value="euWCtb-PbcOb_T9TBr4FtyM0ZIVsTRhT_V12JothOxV-N48FFMHXwMVpx0ikV1t3zwTCrpVsY_6ktjfTySJy8g" autocomplete="off" />
        <input type="hidden" name="context" value="repository">
          <button data-hydro-click="{&quot;event_type&quot;:&quot;repository.click&quot;,&quot;payload&quot;:{&quot;target&quot;:&quot;STAR_BUTTON&quot;,&quot;repository_id&quot;:619542496,&quot;originating_url&quot;:&quot;https://github.com/MarcelloLM/regressao-mse/blob/main/Regressa%CC%83o_mse.ipynb&quot;,&quot;user_id&quot;:106484381}}" data-hydro-click-hmac="b780355836b3522ef8bd6439fd4dda1c5a29e2fa54b0fb629dbcdb2098e7595c" data-ga-click="Repository, click star button, action:blob#show; text:Star" aria-label="Star this repository (0)" type="submit" data-view-component="true" class="js-toggler-target rounded-left-2 btn-sm btn BtnGroup-item">    <svg aria-hidden="true" height="16" viewBox="0 0 16 16" version="1.1" width="16" data-view-component="true" class="octicon octicon-star d-inline-block mr-2">
    <path d="M8 .25a.75.75 0 0 1 .673.418l1.882 3.815 4.21.612a.75.75 0 0 1 .416 1.279l-3.046 2.97.719 4.192a.751.751 0 0 1-1.088.791L8 12.347l-3.766 1.98a.75.75 0 0 1-1.088-.79l.72-4.194L.818 6.374a.75.75 0 0 1 .416-1.28l4.21-.611L7.327.668A.75.75 0 0 1 8 .25Zm0 2.445L6.615 5.5a.75.75 0 0 1-.564.41l-3.097.45 2.24 2.184a.75.75 0 0 1 .216.664l-.528 3.084 2.769-1.456a.75.75 0 0 1 .698 0l2.77 1.456-.53-3.084a.75.75 0 0 1 .216-.664l2.24-2.183-3.096-.45a.75.75 0 0 1-.564-.41L8 2.694Z"></path>
</svg><span data-view-component="true" class="d-inline">
              Star
</span>              <span id="repo-stars-counter-star" aria-label="0 users starred this repository" data-singular-suffix="user starred this repository" data-plural-suffix="users starred this repository" data-turbo-replace="true" title="0" data-view-component="true" class="Counter js-social-count">0</span>
</button></form>        <details id="details-user-list-619542496-unstarred" data-view-component="true" class="details-reset details-overlay BtnGroup-parent js-user-list-menu d-inline-block position-relative">
        <summary aria-label="Add this repository to a list" data-view-component="true" class="btn-sm btn BtnGroup-item px-2 float-none">    <svg aria-hidden="true" height="16" viewBox="0 0 16 16" version="1.1" width="16" data-view-component="true" class="octicon octicon-triangle-down">
    <path d="m4.427 7.427 3.396 3.396a.25.25 0 0 0 .354 0l3.396-3.396A.25.25 0 0 0 11.396 7H4.604a.25.25 0 0 0-.177.427Z"></path>
</svg>
</summary>
  <details-menu
    class="SelectMenu right-0"
      src="/MarcelloLM/regressao-mse/lists"
      
      role="menu"
      
>
    <div class="SelectMenu-modal">
        <button class="SelectMenu-closeButton position-absolute right-0 m-2" type="button" aria-label="Close menu" data-toggle-for="details-dcb7aa">
          <svg aria-hidden="true" height="16" viewBox="0 0 16 16" version="1.1" width="16" data-view-component="true" class="octicon octicon-x">
    <path d="M3.72 3.72a.75.75 0 0 1 1.06 0L8 6.94l3.22-3.22a.749.749 0 0 1 1.275.326.749.749 0 0 1-.215.734L9.06 8l3.22 3.22a.749.749 0 0 1-.326 1.275.749.749 0 0 1-.734-.215L8 9.06l-3.22 3.22a.751.751 0 0 1-1.042-.018.751.751 0 0 1-.018-1.042L6.94 8 3.72 4.78a.75.75 0 0 1 0-1.06Z"></path>
</svg>
        </button>
      <div
        id="filter-menu-dcb7aa"
        class="d-flex flex-column flex-1 overflow-hidden"
>
        <div
          class="SelectMenu-list"
          >

            <include-fragment class="SelectMenu-loading" aria-label="Loading">
              <svg role="menuitem" style="box-sizing: content-box; color: var(--color-icon-primary);" width="32" height="32" viewBox="0 0 16 16" fill="none" data-view-component="true" class="anim-rotate">
  <circle cx="8" cy="8" r="7" stroke="currentColor" stroke-opacity="0.25" stroke-width="2" vector-effect="non-scaling-stroke" />
  <path d="M15 8a7.002 7.002 0 00-7-7" stroke="currentColor" stroke-width="2" stroke-linecap="round" vector-effect="non-scaling-stroke" />
</svg>
            </include-fragment>
        </div>
        
      </div>
    </div>
  </details-menu>
</details>
</div></div>
  </li>


    

</ul>

        </div>
      </div>

        <div id="responsive-meta-container" data-turbo-replace>
</div>


          <nav data-pjax="#js-repo-pjax-container" aria-label="Repository" data-view-component="true" class="js-repo-nav js-sidenav-container-pjax js-responsive-underlinenav overflow-hidden UnderlineNav px-3 px-md-4 px-lg-5">

  <ul data-view-component="true" class="UnderlineNav-body list-style-none">
      <li data-view-component="true" class="d-inline-flex">
  <a id="code-tab" href="/MarcelloLM/regressao-mse" data-tab-item="i0code-tab" data-selected-links="repo_source repo_downloads repo_commits repo_releases repo_tags repo_branches repo_packages repo_deployments /MarcelloLM/regressao-mse" data-pjax="#repo-content-pjax-container" data-turbo-frame="repo-content-turbo-frame" data-hotkey="g c" data-analytics-event="{&quot;category&quot;:&quot;Underline navbar&quot;,&quot;action&quot;:&quot;Click tab&quot;,&quot;label&quot;:&quot;Code&quot;,&quot;target&quot;:&quot;UNDERLINE_NAV.TAB&quot;}" aria-current="page" data-view-component="true" class="UnderlineNav-item no-wrap js-responsive-underlinenav-item js-selected-navigation-item selected">
    
              <svg aria-hidden="true" height="16" viewBox="0 0 16 16" version="1.1" width="16" data-view-component="true" class="octicon octicon-code UnderlineNav-octicon d-none d-sm-inline">
    <path d="m11.28 3.22 4.25 4.25a.75.75 0 0 1 0 1.06l-4.25 4.25a.749.749 0 0 1-1.275-.326.749.749 0 0 1 .215-.734L13.94 8l-3.72-3.72a.749.749 0 0 1 .326-1.275.749.749 0 0 1 .734.215Zm-6.56 0a.751.751 0 0 1 1.042.018.751.751 0 0 1 .018 1.042L2.06 8l3.72 3.72a.749.749 0 0 1-.326 1.275.749.749 0 0 1-.734-.215L.47 8.53a.75.75 0 0 1 0-1.06Z"></path>
</svg>
        <span data-content="Code">Code</span>
          <span id="code-repo-tab-count" data-pjax-replace="" data-turbo-replace="" title="Not available" data-view-component="true" class="Counter"></span>


    
</a></li>
      <li data-view-component="true" class="d-inline-flex">
  <a id="issues-tab" href="/MarcelloLM/regressao-mse/issues" data-tab-item="i1issues-tab" data-selected-links="repo_issues repo_labels repo_milestones /MarcelloLM/regressao-mse/issues" data-pjax="#repo-content-pjax-container" data-turbo-frame="repo-content-turbo-frame" data-hotkey="g i" data-analytics-event="{&quot;category&quot;:&quot;Underline navbar&quot;,&quot;action&quot;:&quot;Click tab&quot;,&quot;label&quot;:&quot;Issues&quot;,&quot;target&quot;:&quot;UNDERLINE_NAV.TAB&quot;}" data-view-component="true" class="UnderlineNav-item no-wrap js-responsive-underlinenav-item js-selected-navigation-item">
    
              <svg aria-hidden="true" height="16" viewBox="0 0 16 16" version="1.1" width="16" data-view-component="true" class="octicon octicon-issue-opened UnderlineNav-octicon d-none d-sm-inline">
    <path d="M8 9.5a1.5 1.5 0 1 0 0-3 1.5 1.5 0 0 0 0 3Z"></path><path d="M8 0a8 8 0 1 1 0 16A8 8 0 0 1 8 0ZM1.5 8a6.5 6.5 0 1 0 13 0 6.5 6.5 0 0 0-13 0Z"></path>
</svg>
        <span data-content="Issues">Issues</span>
          <span id="issues-repo-tab-count" data-pjax-replace="" data-turbo-replace="" title="0" hidden="hidden" data-view-component="true" class="Counter">0</span>


    
</a></li>
      <li data-view-component="true" class="d-inline-flex">
  <a id="pull-requests-tab" href="/MarcelloLM/regressao-mse/pulls" data-tab-item="i2pull-requests-tab" data-selected-links="repo_pulls checks /MarcelloLM/regressao-mse/pulls" data-pjax="#repo-content-pjax-container" data-turbo-frame="repo-content-turbo-frame" data-hotkey="g p" data-analytics-event="{&quot;category&quot;:&quot;Underline navbar&quot;,&quot;action&quot;:&quot;Click tab&quot;,&quot;label&quot;:&quot;Pull requests&quot;,&quot;target&quot;:&quot;UNDERLINE_NAV.TAB&quot;}" data-view-component="true" class="UnderlineNav-item no-wrap js-responsive-underlinenav-item js-selected-navigation-item">
    
              <svg aria-hidden="true" height="16" viewBox="0 0 16 16" version="1.1" width="16" data-view-component="true" class="octicon octicon-git-pull-request UnderlineNav-octicon d-none d-sm-inline">
    <path d="M1.5 3.25a2.25 2.25 0 1 1 3 2.122v5.256a2.251 2.251 0 1 1-1.5 0V5.372A2.25 2.25 0 0 1 1.5 3.25Zm5.677-.177L9.573.677A.25.25 0 0 1 10 .854V2.5h1A2.5 2.5 0 0 1 13.5 5v5.628a2.251 2.251 0 1 1-1.5 0V5a1 1 0 0 0-1-1h-1v1.646a.25.25 0 0 1-.427.177L7.177 3.427a.25.25 0 0 1 0-.354ZM3.75 2.5a.75.75 0 1 0 0 1.5.75.75 0 0 0 0-1.5Zm0 9.5a.75.75 0 1 0 0 1.5.75.75 0 0 0 0-1.5Zm8.25.75a.75.75 0 1 0 1.5 0 .75.75 0 0 0-1.5 0Z"></path>
</svg>
        <span data-content="Pull requests">Pull requests</span>
          <span id="pull-requests-repo-tab-count" data-pjax-replace="" data-turbo-replace="" title="0" hidden="hidden" data-view-component="true" class="Counter">0</span>


    
</a></li>
      <li data-view-component="true" class="d-inline-flex">
  <a id="actions-tab" href="/MarcelloLM/regressao-mse/actions" data-tab-item="i3actions-tab" data-selected-links="repo_actions /MarcelloLM/regressao-mse/actions" data-pjax="#repo-content-pjax-container" data-turbo-frame="repo-content-turbo-frame" data-hotkey="g a" data-analytics-event="{&quot;category&quot;:&quot;Underline navbar&quot;,&quot;action&quot;:&quot;Click tab&quot;,&quot;label&quot;:&quot;Actions&quot;,&quot;target&quot;:&quot;UNDERLINE_NAV.TAB&quot;}" data-view-component="true" class="UnderlineNav-item no-wrap js-responsive-underlinenav-item js-selected-navigation-item">
    
              <svg aria-hidden="true" height="16" viewBox="0 0 16 16" version="1.1" width="16" data-view-component="true" class="octicon octicon-play UnderlineNav-octicon d-none d-sm-inline">
    <path d="M8 0a8 8 0 1 1 0 16A8 8 0 0 1 8 0ZM1.5 8a6.5 6.5 0 1 0 13 0 6.5 6.5 0 0 0-13 0Zm4.879-2.773 4.264 2.559a.25.25 0 0 1 0 .428l-4.264 2.559A.25.25 0 0 1 6 10.559V5.442a.25.25 0 0 1 .379-.215Z"></path>
</svg>
        <span data-content="Actions">Actions</span>
          <span id="actions-repo-tab-count" data-pjax-replace="" data-turbo-replace="" title="Not available" data-view-component="true" class="Counter"></span>


    
</a></li>
      <li data-view-component="true" class="d-inline-flex">
  <a id="projects-tab" href="/MarcelloLM/regressao-mse/projects" data-tab-item="i4projects-tab" data-selected-links="repo_projects new_repo_project repo_project /MarcelloLM/regressao-mse/projects" data-pjax="#repo-content-pjax-container" data-turbo-frame="repo-content-turbo-frame" data-hotkey="g b" data-analytics-event="{&quot;category&quot;:&quot;Underline navbar&quot;,&quot;action&quot;:&quot;Click tab&quot;,&quot;label&quot;:&quot;Projects&quot;,&quot;target&quot;:&quot;UNDERLINE_NAV.TAB&quot;}" data-view-component="true" class="UnderlineNav-item no-wrap js-responsive-underlinenav-item js-selected-navigation-item">
    
              <svg aria-hidden="true" height="16" viewBox="0 0 16 16" version="1.1" width="16" data-view-component="true" class="octicon octicon-table UnderlineNav-octicon d-none d-sm-inline">
    <path d="M0 1.75C0 .784.784 0 1.75 0h12.5C15.216 0 16 .784 16 1.75v12.5A1.75 1.75 0 0 1 14.25 16H1.75A1.75 1.75 0 0 1 0 14.25ZM6.5 6.5v8h7.75a.25.25 0 0 0 .25-.25V6.5Zm8-1.5V1.75a.25.25 0 0 0-.25-.25H6.5V5Zm-13 1.5v7.75c0 .138.112.25.25.25H5v-8ZM5 5V1.5H1.75a.25.25 0 0 0-.25.25V5Z"></path>
</svg>
        <span data-content="Projects">Projects</span>
          <span id="projects-repo-tab-count" data-pjax-replace="" data-turbo-replace="" title="0" hidden="hidden" data-view-component="true" class="Counter">0</span>


    
</a></li>
      <li data-view-component="true" class="d-inline-flex">
  <a id="wiki-tab" href="/MarcelloLM/regressao-mse/wiki" data-tab-item="i5wiki-tab" data-selected-links="repo_wiki /MarcelloLM/regressao-mse/wiki" data-pjax="#repo-content-pjax-container" data-turbo-frame="repo-content-turbo-frame" data-hotkey="g w" data-analytics-event="{&quot;category&quot;:&quot;Underline navbar&quot;,&quot;action&quot;:&quot;Click tab&quot;,&quot;label&quot;:&quot;Wiki&quot;,&quot;target&quot;:&quot;UNDERLINE_NAV.TAB&quot;}" data-view-component="true" class="UnderlineNav-item no-wrap js-responsive-underlinenav-item js-selected-navigation-item">
    
              <svg aria-hidden="true" height="16" viewBox="0 0 16 16" version="1.1" width="16" data-view-component="true" class="octicon octicon-book UnderlineNav-octicon d-none d-sm-inline">
    <path d="M0 1.75A.75.75 0 0 1 .75 1h4.253c1.227 0 2.317.59 3 1.501A3.743 3.743 0 0 1 11.006 1h4.245a.75.75 0 0 1 .75.75v10.5a.75.75 0 0 1-.75.75h-4.507a2.25 2.25 0 0 0-1.591.659l-.622.621a.75.75 0 0 1-1.06 0l-.622-.621A2.25 2.25 0 0 0 5.258 13H.75a.75.75 0 0 1-.75-.75Zm7.251 10.324.004-5.073-.002-2.253A2.25 2.25 0 0 0 5.003 2.5H1.5v9h3.757a3.75 3.75 0 0 1 1.994.574ZM8.755 4.75l-.004 7.322a3.752 3.752 0 0 1 1.992-.572H14.5v-9h-3.495a2.25 2.25 0 0 0-2.25 2.25Z"></path>
</svg>
        <span data-content="Wiki">Wiki</span>
          <span id="wiki-repo-tab-count" data-pjax-replace="" data-turbo-replace="" title="Not available" data-view-component="true" class="Counter"></span>


    
</a></li>
      <li data-view-component="true" class="d-inline-flex">
  <a id="security-tab" href="/MarcelloLM/regressao-mse/security" data-tab-item="i6security-tab" data-selected-links="security overview alerts policy token_scanning code_scanning /MarcelloLM/regressao-mse/security" data-pjax="#repo-content-pjax-container" data-turbo-frame="repo-content-turbo-frame" data-hotkey="g s" data-analytics-event="{&quot;category&quot;:&quot;Underline navbar&quot;,&quot;action&quot;:&quot;Click tab&quot;,&quot;label&quot;:&quot;Security&quot;,&quot;target&quot;:&quot;UNDERLINE_NAV.TAB&quot;}" data-view-component="true" class="UnderlineNav-item no-wrap js-responsive-underlinenav-item js-selected-navigation-item">
    
              <svg aria-hidden="true" height="16" viewBox="0 0 16 16" version="1.1" width="16" data-view-component="true" class="octicon octicon-shield UnderlineNav-octicon d-none d-sm-inline">
    <path d="M7.467.133a1.748 1.748 0 0 1 1.066 0l5.25 1.68A1.75 1.75 0 0 1 15 3.48V7c0 1.566-.32 3.182-1.303 4.682-.983 1.498-2.585 2.813-5.032 3.855a1.697 1.697 0 0 1-1.33 0c-2.447-1.042-4.049-2.357-5.032-3.855C1.32 10.182 1 8.566 1 7V3.48a1.75 1.75 0 0 1 1.217-1.667Zm.61 1.429a.25.25 0 0 0-.153 0l-5.25 1.68a.25.25 0 0 0-.174.238V7c0 1.358.275 2.666 1.057 3.86.784 1.194 2.121 2.34 4.366 3.297a.196.196 0 0 0 .154 0c2.245-.956 3.582-2.104 4.366-3.298C13.225 9.666 13.5 8.36 13.5 7V3.48a.251.251 0 0 0-.174-.237l-5.25-1.68ZM8.75 4.75v3a.75.75 0 0 1-1.5 0v-3a.75.75 0 0 1 1.5 0ZM9 10.5a1 1 0 1 1-2 0 1 1 0 0 1 2 0Z"></path>
</svg>
        <span data-content="Security">Security</span>
          <include-fragment src="/MarcelloLM/regressao-mse/security/overall-count" accept="text/fragment+html"></include-fragment>

    
</a></li>
      <li data-view-component="true" class="d-inline-flex">
  <a id="insights-tab" href="/MarcelloLM/regressao-mse/pulse" data-tab-item="i7insights-tab" data-selected-links="repo_graphs repo_contributors dependency_graph dependabot_updates pulse people community /MarcelloLM/regressao-mse/pulse" data-pjax="#repo-content-pjax-container" data-turbo-frame="repo-content-turbo-frame" data-analytics-event="{&quot;category&quot;:&quot;Underline navbar&quot;,&quot;action&quot;:&quot;Click tab&quot;,&quot;label&quot;:&quot;Insights&quot;,&quot;target&quot;:&quot;UNDERLINE_NAV.TAB&quot;}" data-view-component="true" class="UnderlineNav-item no-wrap js-responsive-underlinenav-item js-selected-navigation-item">
    
              <svg aria-hidden="true" height="16" viewBox="0 0 16 16" version="1.1" width="16" data-view-component="true" class="octicon octicon-graph UnderlineNav-octicon d-none d-sm-inline">
    <path d="M1.5 1.75V13.5h13.75a.75.75 0 0 1 0 1.5H.75a.75.75 0 0 1-.75-.75V1.75a.75.75 0 0 1 1.5 0Zm14.28 2.53-5.25 5.25a.75.75 0 0 1-1.06 0L7 7.06 4.28 9.78a.751.751 0 0 1-1.042-.018.751.751 0 0 1-.018-1.042l3.25-3.25a.75.75 0 0 1 1.06 0L10 7.94l4.72-4.72a.751.751 0 0 1 1.042.018.751.751 0 0 1 .018 1.042Z"></path>
</svg>
        <span data-content="Insights">Insights</span>
          <span id="insights-repo-tab-count" data-pjax-replace="" data-turbo-replace="" title="Not available" data-view-component="true" class="Counter"></span>


    
</a></li>
      <li data-view-component="true" class="d-inline-flex">
  <a id="settings-tab" href="/MarcelloLM/regressao-mse/settings" data-tab-item="i8settings-tab" data-selected-links="code_review_limits codespaces_repository_settings collaborators custom_tabs hooks integration_installations interaction_limits issue_template_editor key_links_settings notifications repo_actions_settings repo_announcements repo_branch_settings repo_keys_settings repo_pages_settings repo_rule_insights repo_rulesets repo_protected_tags_settings repo_settings reported_content repo_custom_properties repository_actions_settings_add_new_runner repository_actions_settings_general repository_actions_settings_runners repository_environments role_details secrets secrets_settings_actions secrets_settings_codespaces secrets_settings_dependabot security_analysis /MarcelloLM/regressao-mse/settings" data-pjax="#repo-content-pjax-container" data-turbo-frame="repo-content-turbo-frame" data-analytics-event="{&quot;category&quot;:&quot;Underline navbar&quot;,&quot;action&quot;:&quot;Click tab&quot;,&quot;label&quot;:&quot;Settings&quot;,&quot;target&quot;:&quot;UNDERLINE_NAV.TAB&quot;}" data-view-component="true" class="UnderlineNav-item no-wrap js-responsive-underlinenav-item js-selected-navigation-item">
    
              <svg aria-hidden="true" height="16" viewBox="0 0 16 16" version="1.1" width="16" data-view-component="true" class="octicon octicon-gear UnderlineNav-octicon d-none d-sm-inline">
    <path d="M8 0a8.2 8.2 0 0 1 .701.031C9.444.095 9.99.645 10.16 1.29l.288 1.107c.018.066.079.158.212.224.231.114.454.243.668.386.123.082.233.09.299.071l1.103-.303c.644-.176 1.392.021 1.82.63.27.385.506.792.704 1.218.315.675.111 1.422-.364 1.891l-.814.806c-.049.048-.098.147-.088.294.016.257.016.515 0 .772-.01.147.038.246.088.294l.814.806c.475.469.679 1.216.364 1.891a7.977 7.977 0 0 1-.704 1.217c-.428.61-1.176.807-1.82.63l-1.102-.302c-.067-.019-.177-.011-.3.071a5.909 5.909 0 0 1-.668.386c-.133.066-.194.158-.211.224l-.29 1.106c-.168.646-.715 1.196-1.458 1.26a8.006 8.006 0 0 1-1.402 0c-.743-.064-1.289-.614-1.458-1.26l-.289-1.106c-.018-.066-.079-.158-.212-.224a5.738 5.738 0 0 1-.668-.386c-.123-.082-.233-.09-.299-.071l-1.103.303c-.644.176-1.392-.021-1.82-.63a8.12 8.12 0 0 1-.704-1.218c-.315-.675-.111-1.422.363-1.891l.815-.806c.05-.048.098-.147.088-.294a6.214 6.214 0 0 1 0-.772c.01-.147-.038-.246-.088-.294l-.815-.806C.635 6.045.431 5.298.746 4.623a7.92 7.92 0 0 1 .704-1.217c.428-.61 1.176-.807 1.82-.63l1.102.302c.067.019.177.011.3-.071.214-.143.437-.272.668-.386.133-.066.194-.158.211-.224l.29-1.106C6.009.645 6.556.095 7.299.03 7.53.01 7.764 0 8 0Zm-.571 1.525c-.036.003-.108.036-.137.146l-.289 1.105c-.147.561-.549.967-.998 1.189-.173.086-.34.183-.5.29-.417.278-.97.423-1.529.27l-1.103-.303c-.109-.03-.175.016-.195.045-.22.312-.412.644-.573.99-.014.031-.021.11.059.19l.815.806c.411.406.562.957.53 1.456a4.709 4.709 0 0 0 0 .582c.032.499-.119 1.05-.53 1.456l-.815.806c-.081.08-.073.159-.059.19.162.346.353.677.573.989.02.03.085.076.195.046l1.102-.303c.56-.153 1.113-.008 1.53.27.161.107.328.204.501.29.447.222.85.629.997 1.189l.289 1.105c.029.109.101.143.137.146a6.6 6.6 0 0 0 1.142 0c.036-.003.108-.036.137-.146l.289-1.105c.147-.561.549-.967.998-1.189.173-.086.34-.183.5-.29.417-.278.97-.423 1.529-.27l1.103.303c.109.029.175-.016.195-.045.22-.313.411-.644.573-.99.014-.031.021-.11-.059-.19l-.815-.806c-.411-.406-.562-.957-.53-1.456a4.709 4.709 0 0 0 0-.582c-.032-.499.119-1.05.53-1.456l.815-.806c.081-.08.073-.159.059-.19a6.464 6.464 0 0 0-.573-.989c-.02-.03-.085-.076-.195-.046l-1.102.303c-.56.153-1.113.008-1.53-.27a4.44 4.44 0 0 0-.501-.29c-.447-.222-.85-.629-.997-1.189l-.289-1.105c-.029-.11-.101-.143-.137-.146a6.6 6.6 0 0 0-1.142 0ZM11 8a3 3 0 1 1-6 0 3 3 0 0 1 6 0ZM9.5 8a1.5 1.5 0 1 0-3.001.001A1.5 1.5 0 0 0 9.5 8Z"></path>
</svg>
        <span data-content="Settings">Settings</span>
          <span id="settings-repo-tab-count" data-pjax-replace="" data-turbo-replace="" title="Not available" data-view-component="true" class="Counter"></span>


    
</a></li>
</ul>
    <div style="visibility:hidden;" data-view-component="true" class="UnderlineNav-actions js-responsive-underlinenav-overflow position-absolute pr-3 pr-md-4 pr-lg-5 right-0">      <details data-view-component="true" class="details-overlay details-reset position-relative">
  <summary role="button" data-view-component="true">          <div class="UnderlineNav-item mr-0 border-0">
            <svg aria-hidden="true" height="16" viewBox="0 0 16 16" version="1.1" width="16" data-view-component="true" class="octicon octicon-kebab-horizontal">
    <path d="M8 9a1.5 1.5 0 1 0 0-3 1.5 1.5 0 0 0 0 3ZM1.5 9a1.5 1.5 0 1 0 0-3 1.5 1.5 0 0 0 0 3Zm13 0a1.5 1.5 0 1 0 0-3 1.5 1.5 0 0 0 0 3Z"></path>
</svg>
            <span class="sr-only">More</span>
          </div>
</summary>
  <details-menu role="menu" data-view-component="true" class="dropdown-menu dropdown-menu-sw">          <ul>
              <li data-menu-item="i0code-tab" hidden>
                <a role="menuitem" class="js-selected-navigation-item selected dropdown-item" aria-current="page" data-selected-links="repo_source repo_downloads repo_commits repo_releases repo_tags repo_branches repo_packages repo_deployments /MarcelloLM/regressao-mse" href="/MarcelloLM/regressao-mse">
                  Code
</a>              </li>
              <li data-menu-item="i1issues-tab" hidden>
                <a role="menuitem" class="js-selected-navigation-item dropdown-item" data-selected-links="repo_issues repo_labels repo_milestones /MarcelloLM/regressao-mse/issues" href="/MarcelloLM/regressao-mse/issues">
                  Issues
</a>              </li>
              <li data-menu-item="i2pull-requests-tab" hidden>
                <a role="menuitem" class="js-selected-navigation-item dropdown-item" data-selected-links="repo_pulls checks /MarcelloLM/regressao-mse/pulls" href="/MarcelloLM/regressao-mse/pulls">
                  Pull requests
</a>              </li>
              <li data-menu-item="i3actions-tab" hidden>
                <a role="menuitem" class="js-selected-navigation-item dropdown-item" data-selected-links="repo_actions /MarcelloLM/regressao-mse/actions" href="/MarcelloLM/regressao-mse/actions">
                  Actions
</a>              </li>
              <li data-menu-item="i4projects-tab" hidden>
                <a role="menuitem" class="js-selected-navigation-item dropdown-item" data-selected-links="repo_projects new_repo_project repo_project /MarcelloLM/regressao-mse/projects" href="/MarcelloLM/regressao-mse/projects">
                  Projects
</a>              </li>
              <li data-menu-item="i5wiki-tab" hidden>
                <a role="menuitem" class="js-selected-navigation-item dropdown-item" data-selected-links="repo_wiki /MarcelloLM/regressao-mse/wiki" href="/MarcelloLM/regressao-mse/wiki">
                  Wiki
</a>              </li>
              <li data-menu-item="i6security-tab" hidden>
                <a role="menuitem" class="js-selected-navigation-item dropdown-item" data-selected-links="security overview alerts policy token_scanning code_scanning /MarcelloLM/regressao-mse/security" href="/MarcelloLM/regressao-mse/security">
                  Security
</a>              </li>
              <li data-menu-item="i7insights-tab" hidden>
                <a role="menuitem" class="js-selected-navigation-item dropdown-item" data-selected-links="repo_graphs repo_contributors dependency_graph dependabot_updates pulse people community /MarcelloLM/regressao-mse/pulse" href="/MarcelloLM/regressao-mse/pulse">
                  Insights
</a>              </li>
              <li data-menu-item="i8settings-tab" hidden>
                <a role="menuitem" class="js-selected-navigation-item dropdown-item" data-selected-links="code_review_limits codespaces_repository_settings collaborators custom_tabs hooks integration_installations interaction_limits issue_template_editor key_links_settings notifications repo_actions_settings repo_announcements repo_branch_settings repo_keys_settings repo_pages_settings repo_rule_insights repo_rulesets repo_protected_tags_settings repo_settings reported_content repo_custom_properties repository_actions_settings_add_new_runner repository_actions_settings_general repository_actions_settings_runners repository_environments role_details secrets secrets_settings_actions secrets_settings_codespaces secrets_settings_dependabot security_analysis /MarcelloLM/regressao-mse/settings" href="/MarcelloLM/regressao-mse/settings">
                  Settings
</a>              </li>
          </ul>
</details-menu>
</details></div>
</nav>

  </div>

  



<turbo-frame id="repo-content-turbo-frame" target="_top" data-turbo-action="advance" class="">
    <div id="repo-content-pjax-container" class="repository-content " >
      <a href="https://github.dev/" class="d-none js-github-dev-shortcut" data-hotkey=".">Open in github.dev</a>
  <a href="https://github.dev/" class="d-none js-github-dev-new-tab-shortcut" data-hotkey="Shift+.,Shift+&gt;,&gt;" target="_blank">Open in a new github.dev tab</a>
    <a class="d-none" data-hotkey="," target="_blank" href="/codespaces/new/MarcelloLM/regressao-mse/tree/main?resume=1">Open in codespace</a>



    
      
    





<react-app
  app-name="react-code-view"
  initial-path="/MarcelloLM/regressao-mse/blob/main/Regressa%CC%83o_mse.ipynb"
  style="min-height: calc(100vh - 62px)"
  data-ssr="false"
  data-lazy="false"
  data-alternate="false"
>
  
  <script type="application/json" data-target="react-app.embeddedData">{"payload":{"allShortcutsEnabled":true,"fileTree":{"":{"items":[{"name":"Regressão_mse.ipynb","path":"Regressão_mse.ipynb","contentType":"file"},{"name":"games_stats.csv","path":"games_stats.csv","contentType":"file"}],"totalCount":2}},"fileTreeProcessingTime":1.427924,"foldersToFetch":[],"reducedMotionEnabled":"system","repo":{"id":619542496,"defaultBranch":"main","name":"regressao-mse","ownerLogin":"MarcelloLM","currentUserCanPush":true,"isFork":false,"isEmpty":false,"createdAt":"2023-03-27T07:53:02.000-03:00","ownerAvatar":"https://avatars.githubusercontent.com/u/106484381?v=4","public":true,"private":false},"refInfo":{"name":"main","listCacheKey":"v0:1679914414.0","canEdit":true,"refType":"branch","currentOid":"108410b9bbf02973e808b62daf26777a866fe7ca"},"path":"Regressão_mse.ipynb","currentUser":{"id":106484381,"login":"MarcelloLM","userEmail":"marcelingames007@gmail.com"},"blob":{"rawBlob":"{\n  \"nbformat\": 4,\n  \"nbformat_minor\": 0,\n  \"metadata\": {\n    \"colab\": {\n      \"provenance\": []\n    },\n    \"kernelspec\": {\n      \"name\": \"python3\",\n      \"display_name\": \"Python 3\"\n    },\n    \"language_info\": {\n      \"name\": \"python\"\n    }\n  },\n  \"cells\": [\n    {\n      \"cell_type\": \"markdown\",\n      \"source\": [\n        \"### Regressão parte dois\"\n      ],\n      \"metadata\": {\n        \"id\": \"y-2gtDn9c6S6\"\n      }\n    },\n    {\n      \"cell_type\": \"markdown\",\n      \"source\": [\n        \"Depois de olhar o site você percebeu que poderia usar técnicas de webscrape para gerar o data **games_stats.csv**. Utilizando a bilioteca pandas, importe esse dataset para uma variável chamada **data**.\"\n      ],\n      \"metadata\": {\n        \"id\": \"iLQr0Y-cc98i\"\n      }\n    },\n    {\n      \"cell_type\": \"code\",\n      \"execution_count\": 1,\n      \"metadata\": {\n        \"id\": \"KJL83mk8c3jM\"\n      },\n      \"outputs\": [],\n      \"source\": [\n        \"import pandas as pd\"\n      ]\n    },\n    {\n      \"cell_type\": \"code\",\n      \"source\": [\n        \"data = pd.read_csv('games_stats.csv')\\n\",\n        \"print(data)\"\n      ],\n      \"metadata\": {\n        \"id\": \"DZ_GulzmdC9Z\",\n        \"colab\": {\n          \"base_uri\": \"https://localhost:8080/\"\n        },\n        \"outputId\": \"343e8fa2-b698-4572-df06-2c0e93161301\"\n      },\n      \"execution_count\": 2,\n      \"outputs\": [\n        {\n          \"output_type\": \"stream\",\n          \"name\": \"stdout\",\n          \"text\": [\n            \"        Rank                           Name             Genre ESRB_Rating  \\\\\\n\",\n            \"0          1                     Wii Sports            Sports           E   \\n\",\n            \"1          2              Super Mario Bros.          Platform         NaN   \\n\",\n            \"2          3                 Mario Kart Wii            Racing           E   \\n\",\n            \"3          4  PlayerUnknown's Battlegrounds           Shooter         NaN   \\n\",\n            \"4          5              Wii Sports Resort            Sports           E   \\n\",\n            \"...      ...                            ...               ...         ...   \\n\",\n            \"55787  55788                    Indivisible      Role-Playing         NaN   \\n\",\n            \"55788  55789                     Lost Ember         Adventure          RP   \\n\",\n            \"55789  55790                     Lost Ember         Adventure          RP   \\n\",\n            \"55790  55791                     Lost Ember         Adventure          RP   \\n\",\n            \"55791  55792                     Falcon Age  Action-Adventure         NaN   \\n\",\n            \"\\n\",\n            \"      Platform         Publisher         Developer  Critic_Score  User_Score  \\\\\\n\",\n            \"0          Wii          Nintendo      Nintendo EAD           7.7         NaN   \\n\",\n            \"1          NES          Nintendo      Nintendo EAD          10.0         NaN   \\n\",\n            \"2          Wii          Nintendo      Nintendo EAD           8.2         9.1   \\n\",\n            \"3           PC  PUBG Corporation  PUBG Corporation           NaN         NaN   \\n\",\n            \"4          Wii          Nintendo      Nintendo EAD           8.0         8.8   \\n\",\n            \"...        ...               ...               ...           ...         ...   \\n\",\n            \"55787       PC         505 Games    Lab Zero Games           NaN         NaN   \\n\",\n            \"55788       PC   Mooneye Studios   Mooneye Studios           NaN         NaN   \\n\",\n            \"55789      PS4   Mooneye Studios   Mooneye Studios           NaN         NaN   \\n\",\n            \"55790     XOne   Mooneye Studios   Mooneye Studios           NaN         NaN   \\n\",\n            \"55791      PS4           Unknown   Outerloop Games           NaN         NaN   \\n\",\n            \"\\n\",\n            \"       Total_Shipped  Global_Sales  NA_Sales  PAL_Sales  JP_Sales  \\\\\\n\",\n            \"0              82.86           NaN       NaN        NaN       NaN   \\n\",\n            \"1              40.24           NaN       NaN        NaN       NaN   \\n\",\n            \"2              37.14           NaN       NaN        NaN       NaN   \\n\",\n            \"3              36.60           NaN       NaN        NaN       NaN   \\n\",\n            \"4              33.09           NaN       NaN        NaN       NaN   \\n\",\n            \"...              ...           ...       ...        ...       ...   \\n\",\n            \"55787            NaN           NaN       NaN        NaN       NaN   \\n\",\n            \"55788            NaN           NaN       NaN        NaN       NaN   \\n\",\n            \"55789            NaN           NaN       NaN        NaN       NaN   \\n\",\n            \"55790            NaN           NaN       NaN        NaN       NaN   \\n\",\n            \"55791            NaN           NaN       NaN        NaN       NaN   \\n\",\n            \"\\n\",\n            \"       Other_Sales    Year  \\n\",\n            \"0              NaN  2006.0  \\n\",\n            \"1              NaN  1985.0  \\n\",\n            \"2              NaN  2008.0  \\n\",\n            \"3              NaN  2017.0  \\n\",\n            \"4              NaN  2009.0  \\n\",\n            \"...            ...     ...  \\n\",\n            \"55787          NaN  2019.0  \\n\",\n            \"55788          NaN  2019.0  \\n\",\n            \"55789          NaN  2019.0  \\n\",\n            \"55790          NaN  2019.0  \\n\",\n            \"55791          NaN     NaN  \\n\",\n            \"\\n\",\n            \"[55792 rows x 16 columns]\\n\"\n          ]\n        }\n      ]\n    },\n    {\n      \"cell_type\": \"code\",\n      \"source\": [\n        \"#data[[\\\"Global_Sales\\\", \\\"Year\\\"]]\\n\",\n        \"type(data[\\\"Global_Sales\\\"])\"\n      ],\n      \"metadata\": {\n        \"colab\": {\n          \"base_uri\": \"https://localhost:8080/\"\n        },\n        \"id\": \"hOtbT46ysuDm\",\n        \"outputId\": \"01f5b9bc-55dd-4a24-9812-4be48e7ccc36\"\n      },\n      \"execution_count\": 3,\n      \"outputs\": [\n        {\n          \"output_type\": \"execute_result\",\n          \"data\": {\n            \"text/plain\": [\n              \"pandas.core.series.Series\"\n            ]\n          },\n          \"metadata\": {},\n          \"execution_count\": 3\n        }\n      ]\n    },\n    {\n      \"cell_type\": \"markdown\",\n      \"source\": [\n        \"Rode o código abaixo e veja como são as 5 primeiras linhas de **data**\"\n      ],\n      \"metadata\": {\n        \"id\": \"YxkIRTHndFW4\"\n      }\n    },\n    {\n      \"cell_type\": \"markdown\",\n      \"source\": [\n        \"data.head()\"\n      ],\n      \"metadata\": {\n        \"id\": \"ajEupqROdHEg\"\n      }\n    },\n    {\n      \"cell_type\": \"markdown\",\n      \"source\": [\n        \"Você pode perceber que esse dataset tem 16 variáveis. O significado delas é o seguinte:\\n\",\n        \"\\n\",\n        \"* Rank - Ranking of overall sales\\n\",\n        \"* Name - Name of the game\\n\",\n        \"* Platform - Platform of the game (i.e. PC, PS4, XOne, etc.)\\n\",\n        \"* Genre - Genre of the game\\n\",\n        \"* ESRB Rating - ESRB Rating of the game\\n\",\n        \"* Publisher - Publisher of the game\\n\",\n        \"* Developer - Developer of the game\\n\",\n        \"* Critic Score - Critic score of the game from 10\\n\",\n        \"* User Score - Users score the game from 10\\n\",\n        \"* Total Shipped - Total shipped copies of the game\\n\",\n        \"* Global_Sales - Total worldwide sales (in millions)\\n\",\n        \"* NA_Sales - Sales in North America (in millions)\\n\",\n        \"* PAL_Sales - Sales in Europe (in millions)\\n\",\n        \"* JP_Sales - Sales in Japan (in millions)\\n\",\n        \"* Other_Sales - Sales in the rest of the world (in millions)\\n\",\n        \"* Year - Year of release of the game\"\n      ],\n      \"metadata\": {\n        \"id\": \"e7aOWp8wdKXY\"\n      }\n    },\n    {\n      \"cell_type\": \"markdown\",\n      \"source\": [\n        \"O foco da nossa analise será no volume global de vendas. Logo comece plotando um gráfico do volume global de vendas (**Global_Sales**) por ano (**Year**).\"\n      ],\n      \"metadata\": {\n        \"id\": \"GVbldXRtdMD4\"\n      }\n    },\n    {\n      \"cell_type\": \"code\",\n      \"source\": [\n        \"import matplotlib.pyplot as plt\"\n      ],\n      \"metadata\": {\n        \"id\": \"KrXxia6IdOjH\"\n      },\n      \"execution_count\": 4,\n      \"outputs\": []\n    },\n    {\n      \"cell_type\": \"code\",\n      \"source\": [\n        \"fig, ax = plt.subplots()\\n\",\n        \"ax.scatter(data[\\\"Year\\\"], data[\\\"Global_Sales\\\"])\\n\",\n        \"plt.show()\"\n      ],\n      \"metadata\": {\n        \"id\": \"rc9oh15cdQCf\",\n        \"colab\": {\n          \"base_uri\": \"https://localhost:8080/\",\n          \"height\": 265\n        },\n        \"outputId\": \"90ce4f77-02a0-4ede-c33b-d90187ce640a\"\n      },\n      \"execution_count\": 5,\n      \"outputs\": [\n        {\n          \"output_type\": \"display_data\",\n          \"data\": {\n            \"text/plain\": [\n              \"\u003cFigure size 432x288 with 1 Axes\u003e\"\n            ],\n            \"image/png\": \"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\\n\"\n          },\n          \"metadata\": {\n            \"needs_background\": \"light\"\n          }\n        }\n      ]\n    },\n    {\n      \"cell_type\": \"markdown\",\n      \"source\": [\n        \"Como você pode perceber esse gráfico está um pouco estranho. Com muitos pontos. Isso ocorre porque, usamos um **scatter**, esse tipo de gráfico  coloca no gráfico todos os pontos do dataset no gráfico. Como em cada ano, tem muitos games analisados isso deixa o gráfico bem poluido. Vamos resolver essa situção calculando a **SOMA** do volume global de vendas (**Global_Sales**) por ano (**Year**)antes de plotar o gráfico.\"\n      ],\n      \"metadata\": {\n        \"id\": \"cthIDP3TdixM\"\n      }\n    },\n    {\n      \"cell_type\": \"code\",\n      \"source\": [\n        \"Global_Sales_sum = data[[\\\"Year\\\",\\\"Global_Sales\\\"]].groupby(data[\\\"Year\\\"]).sum()\\n\",\n        \"Global_Sales_sum['Global_Sales'].plot()\"\n      ],\n      \"metadata\": {\n        \"id\": \"UWXv7tHVdiSc\",\n        \"colab\": {\n          \"base_uri\": \"https://localhost:8080/\",\n          \"height\": 299\n        },\n        \"outputId\": \"9c24608b-33f9-48cb-83b0-2a1557e88b3a\"\n      },\n      \"execution_count\": 6,\n      \"outputs\": [\n        {\n          \"output_type\": \"execute_result\",\n          \"data\": {\n            \"text/plain\": [\n              \"\u003cAxes: xlabel='Year'\u003e\"\n            ]\n          },\n          \"metadata\": {},\n          \"execution_count\": 6\n        },\n        {\n          \"output_type\": \"display_data\",\n          \"data\": {\n            \"text/plain\": [\n              \"\u003cFigure size 432x288 with 1 Axes\u003e\"\n            ],\n            \"image/png\": \"iVBORw0KGgoAAAANSUhEUgAAAXcAAAEJCAYAAABv6GdPAAAAOXRFWHRTb2Z0d2FyZQBNYXRwbG90bGliIHZlcnNpb24zLjcuMSwgaHR0cHM6Ly9tYXRwbG90bGliLm9yZy/bCgiHAAAACXBIWXMAAAsTAAALEwEAmpwYAAAt1UlEQVR4nO3deXyU1b348c83k32ZBLIREiBhB9mJCCgqUlsXqtiqdSmitaW31f663N7WLr/763J7r+29ra1Xa2tdiq217tWqtS6gosgSEMIOISwJkGQSyL5nzu+PeQYiJGQmmckzM/m+X+aVZ87zzMz3OOGbk/OcRYwxKKWUiixRdgeglFIq8DS5K6VUBNLkrpRSEUiTu1JKRSBN7kopFYE0uSulVATyKbmLSJqIPCcie0Rkt4gsEJHhIvKmiOy3vg+zrhURuV9ESkSkWETmBLcKSimlzuRry/03wOvGmMnATGA3cA/wtjFmAvC29RjgSmCC9bUSeCigESullOqT9DWJSURSga3AWNPtYhHZC1xqjDkuIjnAO8aYSSLye+v4qTOv6+09MjIyTH5+/oAro5RSQ8nmzZurjTGZPZ2L9uH5BYALeFxEZgKbga8D2d0SdgWQbR3nAmXdnl9ulfWa3PPz8ykqKvIhFKWUUl4icri3c750y0QDc4CHjDGzgSZOd8EAYLXo/VrHQERWikiRiBS5XC5/nqqUUqoPviT3cqDcGLPBevwcnmRfaXXHYH2vss4fBUZ1e36eVfYxxpiHjTGFxpjCzMwe/6pQSinVT30md2NMBVAmIpOsoiXALuBlYIVVtgJ4yTp+GbjNGjUzH6g7V3+7UkqpwPOlzx3ga8CTIhILlAJ34PnF8IyI3AkcBm60rn0NuAooAZqta5VSSg0in5K7MWYrUNjDqSU9XGuAuwYWllJKqYHQGapKKRWBNLkrpVQE0uSulAo4YwxPbzpCfWuH3aEMWZrclVIBt+t4Pd99fjsPri6xO5QhS5O7UirgSl1NADy18QjN7Z02RzM0aXJXSgXcwWpPcq9v7eSFLWfNYVSDQJO7UirgDlY3kZMaz7RcJ39cd4i+FihUgafJXSkVcKXVTYzNTOKOhQWUVDXyfkm13SENOZrclVIBZYzhoKuRsRnJLJ2ZQ0ZyHI9/cMjusIYcTe5KqYA60dROfWsnBRlJxEU7uPWC0azeU3WqH14NDk3uSqmA8ibxgswkAG6dP5oYh7Bq3SEboxp6NLkrpQKq1EruYzM8yT0rJZ5PzxjJs0VlOqlpEGlyV0oF1MHqJmIcQm5awqmyOy4soKm9i2eLym2MbGjR5K6UCqiDriZGD08k2nE6vUzPS6VwzDBWrTtEl1uHRQ4GTe5KqYA6WN1EQUbyWeV3XFjAkRPNrN5T1cOzVKBpcldKBYzbbThY4xnjfqZPnZfNyNR4Hv/goA2RDT2a3JVSAXOsroX2TjcFGWcn92hHFMsX5LPuQA17KuptiG5o0eSulAqYU8Mge0juADfPG0WMQ3S9mUGgyV0pFTAHzxgGeaa0xFjmj03n7d2VgxnWkKTJXSkVMKWuJpJiHWSmxPV6zZLJWRxwNXFIZ6wGlSZ3pVTAHKxuoiAzCRHp9ZolU7IBeFtHzQSVJnelVMCUVjf2OAyyu1HDE5mYnczqPdo1E0ya3JVSAdHW2UX5yZZeb6Z2d9nkbDaUntDlCIJIk7tSKiCO1DRjTO83U7v7xJQsOt2Gtft0nfdg0eSulAqIUwuG9TCB6UyzRw9jWGKMjpoJIk3uSqmA8A6DzPeh5e6IEhZPymLN3ipdayZIfEruInJIRLaLyFYRKbLKhovImyKy3/o+zCoXEblfREpEpFhE5gSzAkqp0HDQ1URGchzO+Bifrr9sShYnmzv46MjJIEc2NPnTcl9sjJlljCm0Ht8DvG2MmQC8bT0GuBKYYH2tBB4KVLBKqdB1sLrJp/52r4snZhIdJby1W4dEBsNAumWuBVZZx6uAZd3KnzAe64E0EckZwPsopcJAaXWTTyNlvJzxMcwrGK5DIoPE1+RugDdEZLOIrLTKso0xx63jCiDbOs4Fyro9t9wq+xgRWSkiRSJS5HK5+hG6UipU1Ld2UN3YdmprPV8tmZLNvspGyk40BymyocvX5H6RMWYOni6Xu0Tk4u4njTEGzy8AnxljHjbGFBpjCjMzM/15qlIqxBzqY8Gw3iyZnAWgo2aCwKfkbow5an2vAl4E5gGV3u4W67u34+woMKrb0/OsMqVUhOprwbDe5GckMS4zSZciCII+k7uIJIlIivcY+CSwA3gZWGFdtgJ4yTp+GbjNGjUzH6jr1n2jlIpApa4mRGB0eqLfz/3ElGzWl9bQ2NYZhMiGLl9a7tnA+yKyDdgIvGqMeR24F7hcRPYDn7AeA7wGlAIlwB+ArwY8aqVUSDlY3UTesATioh1+P/eyyVl0dBnW7tN7b4EU3dcFxphSYGYP5TXAkh7KDXBXQKJTSoWF3vZN9cXcMcNITYjh7T1VXDldB9YFis5QVUoNiDHG7zHu3UU7orh0UiZr9uhs1UDS5K6UGhBXYxuNbZ1+j5TpbsmUbGqa2tlaVhu4wIa4PrtllFLqXA66+jcMsrtLJnhmq97wu3XkDktgzPAkxqQnWl9JLByXToqPyxooD03uSqkB6WtTbF+kJsbw+B3ns+ngCQ6faOZQTTOvbT/OyWbPeu+3XDCa/7xuekDiHSo0uSulBqS0uonY6ChGpiUM6HUWTchk0YSPT2isa+ng5ofX6wzWftA+d6XUgJS6mihIT8IR1fu+qf2VmhBD3rAEqurbAv7akU6Tu1JqQA5WNw6oS6YvWc44Khtag/b6kUqTu1Kq3zq73Bw50ez3gmH+yE6Jp7a5g7bOrqC9RyTS5K6U6rejtS10dJmgttyznfEA2jXjJ03uSql+KzvRAsDo4f6vKeOrTGccAFXaNeMXTe5KqX7zJtyslLigvUd2irbc+0OTu1Kq36oaPAk3y+o6CYZsq+VeWa8td39ocldK9VtVfRuJsQ6S44I3ZWZYYizRUUJlg7bc/aHJXSnVb1UNrUHtkgGIihKyUuK0W8ZPmtyVUv3mamgjKyV4XTJeWc54vaHqJ03uSql+czW0nRrNEkzacvefJnelVL9VNbQFvVsGPGPddZaqfzS5K6X6pbm9k8a2zsHplkmJo7a5g9YOnaXqK03uSql+8XaTDFbLHTzdQMo3mtyVUv3iHeOeOQjJPUtnqfpNk7tSql9OzU4dlBuqnpZ7pd5U9Zkmd6VUv5zulgl+n7t3lmqVzlL1mSZ3pVS/VDW0EeMQhiUGf2/TYYmxxDh0lqo/NLkrpfrF1dBGZnIcIoHfgelMUVFCZnKcri/jB03uSql+qWpoJTOIC4adKcsZr6Nl/OBzchcRh4h8JCKvWI8LRGSDiJSIyNMiEmuVx1mPS6zz+UGKXSllI9cgTWDyynZqy90f/rTcvw7s7vb458B9xpjxwEngTqv8TuCkVX6fdZ1SKsIM1uxUr6yUeB0t4wefkruI5AFXA49YjwW4DHjOumQVsMw6vtZ6jHV+iQxGp5xSatC0d7o50dQ+KCNlvLKdcdS16CxVX/nacv818B3AbT1OB2qNMZ3W43Ig1zrOBcoArPN11vUfIyIrRaRIRIpcLlf/oldK2aK60btJx+C23EFnqfqqz+QuIkuBKmPM5kC+sTHmYWNMoTGmMDMzM5AvrZQKslOzU5MHMbnrjkx+8WX7lAuBa0TkKiAecAK/AdJEJNpqnecBR63rjwKjgHIRiQZSgZqAR66Uso13MtFgtty968tUacvdJ3223I0x3zPG5Blj8oGbgNXGmFuBNcD11mUrgJes45etx1jnVxtjTECjVkrZytU4eLNTvbw3b7Xl7puBjHP/LvAtESnB06f+qFX+KJBulX8LuGdgISqlQk1VfRsikJEcO2jveWqWqo6Y8Ylfu9oaY94B3rGOS4F5PVzTCtwQgNiUUiGqqqGN9KRYoh2DNw/Ss5eqbrfnK52hqpTym6uhlcxB7JLxytTt9nymyV0p5bfBnsDkpbNUfafJXSnlt6p6u5J7vI6W8ZEmd6WUX9xuQ3Vj26AOg/TKStFZqr7S5K6U8suJ5nY63WZQh0F6Zeleqj7T5K6U8ov3huZg7J16Jh3r7jtN7kopv5yewGRPnzvoXqq+0OSulPLLqaUHbOiWOb0Egbbc+6LJXSnlF+9oFTtuqA5LjNFZqj7S5K6U8ouroY2U+GjiYxyD/t4i1ixV7XPvkyZ3pZRfqhpabelv98pyxulYdx9ocldK+cUzgWnw+9u9slJ0lqovNLkrpfxS1WDPBCavbGe8JncfaHJXSvnMGGN7t0y2M5761k6dpdoHTe5KKZ81tHXS2uG2ZQKTl/e9dXXIc9PkrpTymXfav5197qcmMulY93PS5K6U8pm3tWzraBltuftEk7tSEeBEUzt7KuoJ9nbF3pmhdt9QBV1fpi9+bbOnlApNP3hxO//YUcGk7BRuKMzjutm5pCcHPgF7u2Xs2IXJ69QsVe2WOSdtuSsV5owxFB0+ybRcJ/GxDv7j1d1c8J9vs/KJIt7aVUlnl9vn1/r7tmNc8ev3qG/t6PF8VUMbcdFROOPtaxd6Z6m6tFvmnLTlrlSYq6hvxdXQxt2Lx7NiYT77Kht4tqiMFz86yhu7KhmXmcQzX17QZ0t+f2UD33mumJaOLt7YWcn1c/POuqaqvpUsZxwiEqzq+CTLGact9z5oy12pMLetrBaAGXmpAEzMTuEHV0/lw+8t4YFbZlN+soWVf9p8znHhze2dfOXJLSTFORjhjOeV4mM9XufZO9W+Lhmv7JR4XTysD5rclQpz28rriI4SpuQ4P1Ye44hi6YyR3Pe5WWw+fJJvP7sNt/vsG67GGH744g4OuBr5zU2zuXbWSN7fX83JpvazrrVrY+wzZTnjdPGwPmhyVyrMFZfXMjknpddVGq+ansM9V07mleLj/OrNfWedf3pTGS98dJRvLJnIheMzWDpjJJ1uwxu7Ks66tqre3tmpXt5Zqi3tOku1N5rclQpjbrehuLyOmXlp57zuyxeP5eZ5o3hgTQnPFJWdKt95rI5/f3kniyZkcPdl4wGYlutkTHoirxQf/9hrtHZ0Ud/aaevsVK9TY921371XfSZ3EYkXkY0isk1EdorIj63yAhHZICIlIvK0iMRa5XHW4xLrfH6Q66DUkHWwpomG1s4+k7uI8JNrp7FoQgbff2E760qqqW/t4K4ntzAsMYb7PjcLR5Scuvbq6TmsO1BDTePpfu1QmJ3qlXVqRybtd++NLy33NuAyY8xMYBZwhYjMB34O3GeMGQ+cBO60rr8TOGmV32ddp5QKguLyWgBmjErt89oYRxQP3jqHsZlJfPnPm7nryS2UnWzhgVvmkHHGSJqlM0bS5Ta8vvN014w3kWbaOIHJK9vp/0bZO47WsWZPVbBCCjl9Jnfj0Wg9jLG+DHAZ8JxVvgpYZh1faz3GOr9E7B43pVSE2lZWR2KsgwlZKT5d74yP4bHbzycu2sHa/dV851OTOD9/+FnXTclJYWxmEq9sO9014/LOTg2Bbpls668HX5cg2FZWy+d+/yFf/vNm6pp7HsMfaXzqcxcRh4hsBaqAN4EDQK0xptO6pBzItY5zgTIA63wdkB7AmJVSluLyWqaNTD3VpeKLvGGJPPnFC/j3pVP50qKxPV4jIiydMZINB2tO9WtXhVC3TFpiDLGOKJ/GupdUNXD74xuJj3HQ3unmle09D/OMND4ld2NMlzFmFpAHzAMmD/SNRWSliBSJSJHL5Rroyyk15HR0udl5rP7U+HZ/TBqRwhcuKiDqHL8Uls7IwW3gH9s9XTNV9W04ooT0pNh+xxwoIkJmShxlJ5rPed3R2haWP7oRR1QUz39lIROyknlhy9FBitJefo2WMcbUAmuABUCaiHhnuOYB3v9jR4FRANb5VKCmh9d62BhTaIwpzMzM7F/0Sg1heysaaOt0M2NUWlBef2J2ChOzk3nVGjVT1dBKRnLsOX8hDKY5Y4bx2vYKbn98IwdcjWedr25sY/kjG2hs6+SJL8wjPyOJz87NY/PhkxyqbrIh4sHly2iZTBFJs44TgMuB3XiS/PXWZSuAl6zjl63HWOdXm2AvVafUEFRcXgfArD5GygzE0hkj2XT4BBV1rSEzO9XrlzfM5IdXT2HzoZN86r73+I9Xdp1aE6ehtYPbH9/IsboWHrv9fKaO9EzwWjYrFxF44aPIb7370nLPAdaISDGwCXjTGPMK8F3gWyJSgqdP/VHr+keBdKv8W8A9gQ9bKVVcXsuwxBhGDU8I2ntcPSMHY+DV7cetjbHtv5nqFRsdxRcXjWX1ty/l+rl5PPrBQRb/9zv8ZcMRvriqiD3HG3jo1rkfu2E8IjWei8Zn8MKW8h5n60aSPhcOM8YUA7N7KC/F0/9+ZnkrcENAolNK9WprWS3T89KCuojXuMxkpuQ4ebX4GK7GNmb6MORysGWmxHHvZ2dw6wVj+PHfd/L9F7cD8JubZrF4ctZZ139mTi7ffHobRYdPMq/g7JFCkUJXhVQqDLW0d7G/qpHLp2YH/b2Wzsjhv/+5FxHIDMIa8YEyPS+VZ/9lAf/YUUGUCFdMG9HjdZ86bwRJsTt4YUt5RCd3XX5AqTC081gdXW7T58zUQPj0jJEAGAOZztDpc++JiHDV9JxeEztAYmw0V07P4dXi4+dcKTPcaXJXKgxts26m+jIzdaBGpyeeGm4ZSn3uA/GZObk0tHXyxq5Ku0MJGk3uSoWhbWW15KTGD9rolaun5wCn9y8Nd/ML0hmZGs8LW8rtDiVotM9dqTBUXF7br8lL/fX5+WOIj3EwIzf0bqj2R1SUcN2cXB565wBVDa0hNcQzULTlrlSYqWvu4FBNMzODNHmpJ0lx0axYmB8yE5gC4brZebgNvLw1Mpcj0OSuVJgpPloLMCg3UyPZ+KxkZo5K4/kIXY5Ak7tSYca7Z+q0COkisdP1c3LZfbyeXcfq7Q4l4DS5KxVmtpXXMTYjidSEGLtDCXtLZ4wkxiEReWNVk7tSYaa4vHZQ+9sj2bCkWC6bnMXfth6jvdNtdzgBpcldqTBSUddKZX3boI6UiXQ3nT+a6sa2j+06FQk0uSsVRrZ5t9XTm6kBc8nETMakJ/LEukN2hxJQmtyVCiPF5bVERwnnWUvYqoGLihKWzx9D0eGT7DhaZ3c4AaPJXakwsrWslonZKcTHOOwOJaLcUDiKhBgHT3x4yO5QAkaTu1JhorWji02HTrJgnG5JHGipCTFcNyeXl7Ye42RTu93hBIQmd6XCxIaDJ2jvdLNoQobdoUSkFQvyaet083RRmd2hBIQmd6XCxNp9LmKjo7igQFvuwTBpRArzxw7nTx8episCdmnS5K5UmFi7v5p5+cNJiNX+9mC5fWE+R2tbeHt3+C8FrMldqTBQUdfK3soGLp6oXTLB9Ikp2YxMjeeJDw/bHcqAaXJXKgys3e8CYNGETJsjiWzRjihunT+G90uqKalqsDucAdHkrlQYeG9/NZkpcUwekWJ3KBHvpvNHERsdFfatd03uSoU4t9vw/n4XiyZkIBI566mHqvTkOD49YyTPby6nobXD7nD6TZO7UiFux7E6TjZ3cMlE7ZIZLCsWjqGpvYvnN4fvapGa3JUKcWv3VwNw4Xi9mTpYZuSlMXt0Go9+cJA1e6po7eiyOyS/6R6qSoW4d/e5mJbrJCM5zu5QhpRvXT6Rf/nTZu744yYSYhxcNCGDy6dks3hyFpkpof9ZaHJXKoQ1tnWy5fBJvnTxWLtDGXIWTchky79fzvrSE7y1q5K3d1fy5q5KRGDB2HR+t3wuzvjQ3TClz24ZERklImtEZJeI7BSRr1vlw0XkTRHZb30fZpWLiNwvIiUiUiwic4JdCaUi1YcHauh0Gy7WIZC2iIt2cMnETH66bBof3HMZr/2fRXxt8XjWHagJ+SWCfelz7wT+1RgzFZgP3CUiU4F7gLeNMROAt63HAFcCE6yvlcBDAY9aqSFi7X4XibEO5o4ZZncoQ56IMHWkk299chKLJ2Xy6PsHaW7vtDusXvWZ3I0xx40xW6zjBmA3kAtcC6yyLlsFLLOOrwWeMB7rgTQRyQl04EoNBe/tc7FgbDqx0Tr2IZTcfdkETjZ38JcNR+wOpVd+/cSISD4wG9gAZBtjjlunKoBs6zgX6L6sWrlVduZrrRSRIhEpcrlc/satVMQ7UtPMoZpmXQUyBM0dM4wFY9P5w9rSkB1J43NyF5Fk4HngG8aY+u7njDEG8GsZNWPMw8aYQmNMYWam9icqdab3vEsO6Pj2kHT3ZeOprG/juRAdC+9TcheRGDyJ/UljzAtWcaW3u8X6XmWVHwVGdXt6nlWmlPLD2v0uctMSGJuRZHcoqgcLx6Uza1Qav3v3AB1dbrvDOYsvo2UEeBTYbYz5VbdTLwMrrOMVwEvdym+zRs3MB+q6dd8opSxut+Hnr+/hwTUl1DZ/fPefji4360pquHiiLjkQqkSEuxePp/xkCy9vPWZ3OGfxZZz7hcByYLuIbLXKvg/cCzwjIncCh4EbrXOvAVcBJUAzcEcgA1YqUvzuvQM89M4BAB5cU8KNhaO486ICRg1PZFtZLQ1tnToEMsQtmZLFlBwnv32nhGWzc3FEhc4v4j6TuzHmfaC3iJf0cL0B7hpgXEpFtPWlNfzPP/fy6Zkj+eql4/jD2lL+vP4wf1p/mKum5xAdJUQJLBynN1NDmYhw1+Jx3P2Xj3h9RwVXzwidgYE6vkqpQVbV0MrXnvqI/Iwk/usz05mS4+RXN85i7XcXc+dFBazZU8WLHx1l1qg0UhNDdwak8rhyWg5jM5N4YE0JnrZtaNDkrtQg6nIbvv7UVhpaO/jtrXNIjjv9x3NOagLfv2oK6753GT+59jx+uHSqjZEqXzmihK9cMo7dx+tZs7eq7ycMEk3uSg2i+97cx4elNfz02mlMHuHs8RpnfAy3LchnzmidlRouls3OJTctgQdWh07rXZO7UoNkzd4qHlhTwo2FedxQOKrvJ6iwEeOI4suXjGXLkVp2Ha/v+wmDQJO7UoPgaG0L33x6K5NHpPCTa6fZHY4KgsIxwwHPzOJQoMldqSBzuw1f+8sWOrsMD31+LvExDrtDUkEwIjUegIr6Vpsj8dDkrlSQvbGrgi1Havl/n55Kgc42jVjDEmOIdURpcldqKDDG8L+rSyjISOIzc/LsDkcFkYiQ5Yyjqr7N7lAATe5KBdU7e13sPFbPVy8dF1KzF1VwjHDGU1GnLXelIpoxhvtX7yc3LYFls89a9VpFoGxnPJXaLaNUZFt3oIaPjtTylUvHEePQf2pDgSZ3pYaA/129n2xnHNfP1b72oWJEahxN7V00tHbYHYomd6WCYdOhE6wvPcHKi8fp0MchJNvpGQ4ZCq13Te5KBcEDq0tIT4rl5nk6E3UoOZ3c7R8xo8ldqQArLq/l3X0u7lxUQGKsL1smqEgxwkruoTBiRpO7UgH2wOoSnPHRLJ8/xu5Q1CDzttxDYSKTJnelAmhPRT1v7KrkjgsLSInXtdiHmoRYB874aKo0uSsVWR5cc4DkuGjuuDDf7lCUTUakxmvLXalI8u4+F68UH+Pz88eQlhhrdzjKJtnOeCr0hqpSkWHXsXruenILk0c4ufuy8XaHo2yU7YzXbhmlIsHxuha+8MdNJMdF8/jt539s6zw19IxwxlPV0EaX294dmTS5KzUADa0d3PH4JhrbOnn8jvNPremthq5sZxxdbkNNo71dM5rcleqnji43d/3lI/ZXNfLbW+cwJafnPVHV0BIqE5k0uSvVD8YY/u/fdvDePhc/WzaNiydm2h2SChGhsiOTJnel+uGhdw/w101l3LV4HDfNG213OCqEhMpEpj6Tu4g8JiJVIrKjW9lwEXlTRPZb34dZ5SIi94tIiYgUi8icYAavlB12HK3jF6/v5ZqZI/nXyyfZHY4KMRnJcTiixPYRM7603P8IXHFG2T3A28aYCcDb1mOAK4EJ1tdK4KHAhKlU6Hh6Uxlx0VH8dNk0onR3JXUGR5SQmRxn+/oyfSZ3Y8x7wIkziq8FVlnHq4Bl3cqfMB7rgTQRyQlQrErZrrWji5e2HuWKaSNITdDlBVTPsp1xod8t04tsY8xx67gCyLaOc4GybteVW2VKRYQ3dlVS39rJjYW6lK/qnWciU5iPljHGGMDv0foislJEikSkyOVyDTQMpQbFs0Vl5KYlsGBsut2hqBAWCuvL9De5V3q7W6zvVVb5UaB7kybPKjuLMeZhY0yhMaYwM1OHkanQd7S2hfdLqrl+bp72tatzynbGU9fSQWtHl20x9De5vwyssI5XAC91K7/NGjUzH6jr1n2jVFh7YXM5xqB7oqo+hcJ2e74MhXwK+BCYJCLlInIncC9wuYjsBz5hPQZ4DSgFSoA/AF8NStRKDTK32/Ds5nIWjktn1PBEu8NRIS7bGQfYuyNTnyscGWNu7uXUkh6uNcBdAw1KqVCz8dAJjpxo5puXT7A7FBUGRoTARCadoaqUD54pKiMlLporztORvapv2dYSBHaOmNHkrlQfGlo7eG37cZbOHElCrMPucFQYSImLJiHGoS13pULZq8XHae1wc2Oh3khVvhER24dDanJXqg/PFJUxPiuZWaPS7A5FhZFsZ5yt68toclfqHEqqGtlypJYbC/MQ0bHtyneevVQ1uSsVkp7dXIYjSrhutnbJKP+McMZTWd+GZxDh4NPkrlQvOrvcvLDlKIsnZZGZEmd3OCrMZDvjae90U9vcYcv7a3JXqhfPFJXjamjjBr2RqvrB7k07NLkr1YOSqgZ+8spOLhyfzuVTsvt+glJnGJHq+WvPriUINLkrdYbWji6+9tRWEmOjue/GWbpImOoXu9eX6XP5AaWGmnv/sYfdx+t57PZCsqx/oEr5KyvF6paps2eWqrbclermrV2V/HHdIe64MJ/LJmt3jOq/2Ogo0pNiqWzQbhmlbFVZ38q/PbeNqTlO7rlyst3hqAiQ7Yyn0qaVITW5KwV0uQ3f+OtWWjvc3H/zbOKidQ0ZNXB27qWqyV0p4HfvHuDD0hp+fM15jM9KtjscFSFGpHomMtlBk/sQYOdWX+Hgnb1V/OrNfSydkaNj2lVAZTvjqWlqo6PLPejvrck9wj30zgFm/OgNHllbats06FD25IbD3LmqiInZKfzsuum6fowKqGxnPMZAVcPgt941uUewbWW1/PKNvTgTovmPV3fzxVVFnGhqtzuskOB2G/7ztd384MUdXDwhg2f/ZQGpCTF2h6UizAgbx7prco9Qze2dfPPprWSmxPHWty7hx9ecx9r91Vz5m/dYX1pjd3i2amnv4itPbubh90q5bcEY/nBbIclxOuVDBd6piUw2jJjR5B6hfvbqbkqrm/jlDTNJS4xlxcJ8XrxrIUmx0dzyh/X8+q19dLmHXjdNVUMrNz38IW/squTfl07lx9ecR7RD/xmo4Di1Uba23FUgrN5TyZMbjvClRQUsHJ9xqvy8kan8/WsXsWx2Lr9+az+3/GE9tc1Dp5tme3kd1z24jn2VjTy8vJAvXFSgfewqqIYnxRLriLJlxIwm9whT3djGd54rZvKIFL79qUlnnU+Ki+ZXN87ilzfM5KOyWm59ZEPEJ/j2Tje/fGMvy377AV1uwzNfXsDlU3X2qQo+ESHLGad97mpgjDHc83wx9a2d/PqmWeeciPPZuXn8fvlc9lc2svzRjdTZtOZ0sO04Wsc1D7zP/64uYdmsXP75jYuZnpdqd1hqCMl2xlOhfe5qIJ7aWMZbu6v47hWTmTzC2ef1iydl8fvlc9lb0cDyxzZQ1xI5Cb69082v3tjLtQ9+wImmdh5dUcgvb5xJaqKOiFGDa4Qz3pb1ZTS5R4itZbX89JVdXDQ+gzsW5vv8vMWTs3jo83PYfbye2x7dQH2rfwm+taOL13dUsLWsNiRu0FbWt/LytmNc88D73L+6hGtnjuTNb17CEl2TXdnErvVldPxXGHO7De/ud/HI2lI+KKkhPSmW/7lhpt/rjy+Zks1Dt87lK09u5rZHN/LEnfNwxp+7hVvX0sGTGw7z+AeHcFkTNFITYlg4Lp2LJmSwaHwmo9MTATjR1M6einr2VjSw53gDeysbqGvpoL3TTXuXm44uNx2dbjq6DG5jEAFBsP5DxPPa4zKTGZeZzNjMJM9xVjJut2HjwRNsOFjDxoMnOFTTDHhGKTxyWyGf0L51ZbNsZxxN7V00tHaQ0se/q0AKSnIXkSuA3wAO4BFjzL3BeJ9w1NDawfajdRSX11FcXsu2sjoSYx1cOW0EV88YycTs5D5HcLR2dPG3j47yyPsHKalqJNsZx3evmMwt80b3u9vhE1OzefCWOXz1yS0sf3Qjt80fw9jMJMZmJH/sNSvqWnnsg4P8ZcMRGts6WTQhg19cP4OG1k7e3+9i7f5q/rGjAoBRwxNo63B/bHZeelIsk0akMCY9kRhHFDGOKGIdQowjimhHFFECBjAGDAYMuI3hRFMHB1yN/G3rURpaO8+KPzUhhvPzh/P5+WOYVzCcqTlOHeKoQsKIVO9EprZBTe4S6CnpIuIA9gGXA+XAJuBmY8yu3p5TWFhoioqK/H6vY7UtHKttIdoRRYxDiLUSRIyVLGLOOHYEaUed1o4u6lo6qG3uoLa5nZPNHdS1tHsedyvfX9XIAVcj3v/lo4cnMiMvlerGNjYePIHbwLjMJK6ensNVM3IYl5nM8dpWyk42U36ymbITLZSdbOb9/dXUNLUzNcfJly4u4OrpI4mNDkwie31HBd98eist3dajSU+KpSAjibTEGN7d56LLbVg6YyQrLx7LtNyP35w0xnDA1cT7+12sLz1BUlw0U3JSmDQihckjnAPeaNoYQ3VjOwdcjZS6muhyuzm/YDgTs1J0xyQVktaX1nDTw+uZPTqNGEcULe1dNLV30tLeRXN7Fz+4ego3Fo7q12uLyGZjTGGP54KQ3BcAPzLGfMp6/D0AY8x/9fac/ib33717gHv/scfn66MEoh1R1i8BsVqNnuPoKCHKjzHPBmhs7aS2pZ3Wjt4XBYpxCKkJsaQmRJOfnsTMUWnMyEtlZl4aw5JiT13namjj9Z0VvFZ8nA0Ha3AbT3dE94/HESXkpMZz3kgnKxbms2BselDGabd3uik72Uypq4mD1Z4kWupq4lhdC0smZ/HFRWMZNTwx4O+rVCSqa+ngi6s20dbpJjHWQWJsNAmxDhJjHCTFRbN0Rg6F+cP79dqDndyvB64wxnzRerwcuMAYc/cZ160EVgKMHj167uHDh/1+r/KTzRysbvL02XYZ63u34043nW5De5ebTqus+3H3azu7jKcbwA/JcdGkJcaSmhBDWmIMaQmxnu+JMaQlxpKWEENirMPvBOxqaOONXRVU1LUyalgiecMSGDU8kZzUeO1qUEqdcq7kbtsNVWPMw8DD4Gm59+c18oYlkjcs8lqQmSlx3HrBGLvDUEqFsWA0A48C3TuQ8qwypZRSgyQYyX0TMEFECkQkFrgJeDkI76OUUqoXAe+WMcZ0isjdwD/xDIV8zBizM9Dvo5RSqndB6XM3xrwGvBaM11ZKKdU3HXqhlFIRSJO7UkpFIE3uSikVgTS5K6VUBAr4DNV+BSHiAvyfouqRAVQHMJxwoHUeGrTOQ8NA6jzGGJPZ04mQSO4DISJFvU2/jVRa56FB6zw0BKvO2i2jlFIRSJO7UkpFoEhI7g/bHYANtM5Dg9Z5aAhKncO+z10ppdTZIqHlrpRS6gwhmdxF5DERqRKRHd3KZorIhyKyXUT+LiJOq/xWEdna7cstIrOsc3Ot60tE5H4JxrZFAeJnnWNEZJVVvtu725V17goR2WvV+R476uILP+sbKyKPW+XbROTSbs8Jp894lIisEZFdIrJTRL5ulQ8XkTdFZL/1fZhVLladSkSkWETmdHutFdb1+0VkhV116ks/6jzZ+hloE5Fvn/Fa4fKz7W+db7U+3+0isk5EZnZ7rf7X2RgTcl/AxcAcYEe3sk3AJdbxF4Cf9vC86cCBbo83AvMBAf4BXGl33QJRZ+AW4K/WcSJwCMjHswrnAWAsEAtsA6baXbcA1Pcu4HHrOAvYDESF4WecA8yxjlPw7DU8FfgFcI9Vfg/wc+v4KqtOYtVxg1U+HCi1vg+zjofZXb8A1TkLOB/4GfDtbq8TTj/b/tZ5offzA67s9jkPqM4h2XI3xrwHnDijeCLwnnX8JvDZHp56M/BXABHJAZzGmPXG83/qCWBZUAIOAD/rbIAkEYkGEoB2oB6YB5QYY0qNMe14/l9cG+zY+8PP+k4FVlvPqwJqgcIw/IyPG2O2WMcNwG4gF89ntMq6bBWn63At8ITxWA+kWXX+FPCmMeaEMeYknv9XVwxeTXznb52NMVXGmE1AxxkvFU4/2/7WeZ31OQKsx7PBEQywziGZ3Huxk9MVu4GP7/bk9TngKes4Fyjvdq7cKgsnvdX5OaAJOA4cAf7HGHMCT/3Kuj0/3OrcW323AdeISLSIFABzrXNh+xmLSD4wG9gAZBtjjlunKoBs67i3zzMsP2cf69yboVLnO/H8tQYDrHM4JfcvAF8Vkc14/tRp735SRC4Amo0xO3p6cpjqrc7zgC5gJFAA/KuIjLUnxIDqrb6P4fnBLgJ+DazDU/+wJCLJwPPAN4wx9d3PWX+BRNwQNq1z33UWkcV4kvt3A/H+tm2Q7S9jzB7gkwAiMhG4+oxLbuJ0qx08+7bmdXscdnu5nqPOtwCvG2M6gCoR+QAoxPNbPmz3r+2tvsaYTuCb3utEZB2efsyThNlnLCIxeP7BP2mMecEqrhSRHGPMcavbpcoq720/4qPApWeUvxPMuAfCzzr3Jqz2Zva3ziIyA3gEzz2jGqt4QHUOm5a7iGRZ36OAHwK/63YuCrgRq78dPP1eQL2IzLdGUNwGvDSoQQ/QOep8BLjMOpeE52bbHsJ8/9re6isiiVY9EZHLgU5jzK5w+4ytGB8FdhtjftXt1MuAd8TLCk7X4WXgNmvUzHygzqrzP4FPisgwa8TFJ62ykNOPOvcmbH62/a2ziIwGXgCWG2P2dbt+YHW2+85yL3ebn8LTn9yB58/xO4Gv42mt7QPuxZqAZV1/KbC+h9cpBHbgueP8QPfnhNqXP3UGkoFn8fRR7wL+rdvrXGVdfwD4gd31ClB984G9eG5MvYVnJbxw/IwvwvOneDGw1fq6CkgH3gb2W/Ubbl0vwINW3bYDhd1e6wtAifV1h911C2CdR1g/D/V4bpyX47lpHk4/2/7W+RE8f4V6ry3q9lr9rrPOUFVKqQgUNt0ySimlfKfJXSmlIpAmd6WUikCa3JVSKgJpcldKqQikyV0NSdbY8fdF5MpuZTeIyOt2xqVUoOhQSDVkicg0PPMFZuOZrf0RcIUx5kA/XivaeGbSKhUSNLmrIU1EfoFnEbYk6/sYYBoQA/zIGPOStfjTn6xrAO42xqwTz7ryP8UzAWWyMWbi4EavVO80uashzVrWYAueRcpeAXYaY/4sIml41oqfjWe2odsY0yoiE4CnjDGFVnJ/FZhmjDloR/xK9SZsFg5TKhiMMU0i8jTQiGd9ok932wEoHhgNHAMeEM8OX1141p332qiJXYUiTe5Kgdv6EuCzxpi93U+KyI+ASmAmnkEIrd1ONw1SjEr5RUfLKHXaP4GvWav6ISKzrfJU4Lgxxg0sx7P9mVIhTZO7Uqf9FM+N1GIR2Wk9BvgtsEJEtgGT0da6CgN6Q1UppSKQttyVUioCaXJXSqkIpMldKaUikCZ3pZSKQJrclVIqAmlyV0qpCKTJXSmlIpAmd6WUikD/H/rIjpaHGyyWAAAAAElFTkSuQmCC\\n\"\n          },\n          \"metadata\": {\n            \"needs_background\": \"light\"\n          }\n        }\n      ]\n    },\n    {\n      \"cell_type\": \"markdown\",\n      \"source\": [\n        \"Ao analisar esse gráfico você pode notar que o volume global de vendas (**Global_Sales**) vem diminuindo após 2010. Entretando o que chama muito atenção é o ano de 2020. Você acha que esse gráfico é condizente com a realidade? Explique o que pode estar acontecendo aqui.\\n\",\n        \"\\n\"\n      ],\n      \"metadata\": {\n        \"id\": \"WFvqA-4LdnB0\"\n      }\n    },\n    {\n      \"cell_type\": \"markdown\",\n      \"source\": [\n        \"Dê dois cliques aqui e digite sua resposta:\\n\",\n        \"\\n\",\n        \"Resposta: Não o grafico nao condiz com a realidade de 2020. Uma pesquisa realizada pelo CanalTech diz que O mercado de games teve receita 12% maior em 2020 no comparativo anual, muito por conta da pandemia de COVID-19. Tendo em vista esses dados podemos perceber que a base de dados esta errado porque, o volume lobal de vendas aumentou em 2020. \"\n      ],\n      \"metadata\": {\n        \"id\": \"__iIAxUadpYr\"\n      }\n    },\n    {\n      \"cell_type\": \"markdown\",\n      \"source\": [\n        \"Desconsiderando 2020 podemos ver que as venda de games vem aumentando desde 1970. Vamos confirmar essa hipótese através de uma regressão!\\n\",\n        \"\\n\",\n        \"O primeiro passo, como sempre é separar a base de dados em **treino** e **test**. Complete o código abaixo para isso.\"\n      ],\n      \"metadata\": {\n        \"id\": \"MTIIbOOMdqF8\"\n      }\n    },\n    {\n      \"cell_type\": \"code\",\n      \"source\": [\n        \"train = Global_Sales_sum.sample(frac = 0.8, replace=False, random_state = 25)\\n\",\n        \"test = Global_Sales_sum.drop(train.index)\"\n      ],\n      \"metadata\": {\n        \"id\": \"HVBCw62sdt_y\"\n      },\n      \"execution_count\": 7,\n      \"outputs\": []\n    },\n    {\n      \"cell_type\": \"markdown\",\n      \"source\": [\n        \"Agora você deve importar o modelo de regressao linear da biblioteca sklearn e instanciar uma regresão linear na variável **reg**\"\n      ],\n      \"metadata\": {\n        \"id\": \"pKRVYtSOdwTK\"\n      }\n    },\n    {\n      \"cell_type\": \"code\",\n      \"source\": [\n        \"from sklearn.linear_model import LinearRegression\\n\",\n        \"reg = LinearRegression()\"\n      ],\n      \"metadata\": {\n        \"id\": \"UN4EnZFMdwxK\"\n      },\n      \"execution_count\": 8,\n      \"outputs\": []\n    },\n    {\n      \"cell_type\": \"markdown\",\n      \"source\": [\n        \"Estamos quase prontos para realizar a regressão, mas ainda falta uma etapa, transformar os dados em vetores numpy e dexa-los nas dimensoes corretas. O código abaixo irá fazer isso para nós!\"\n      ],\n      \"metadata\": {\n        \"id\": \"h6LcPscGd0fa\"\n      }\n    },\n    {\n      \"cell_type\": \"code\",\n      \"source\": [\n        \"import numpy as np\\n\",\n        \"\\n\",\n        \"x_train = np.array(train.index).reshape(1, -1).T\\n\",\n        \"y_train = np.array(train['Global_Sales']).reshape(1, -1).T\\n\",\n        \"\\n\",\n        \"x_test = np.array(test.index).reshape(1, -1).T\\n\",\n        \"y_test = np.array(test['Global_Sales']).reshape(1, -1).T\"\n      ],\n      \"metadata\": {\n        \"id\": \"C5gU3cdAd1IS\"\n      },\n      \"execution_count\": 9,\n      \"outputs\": []\n    },\n    {\n      \"cell_type\": \"markdown\",\n      \"source\": [\n        \"Agora use o método .fit de **reg** para treinar o modelo de regressão linear com os dados que estão em **Global_Sales_sum**.\"\n      ],\n      \"metadata\": {\n        \"id\": \"EpH7Fnfmd2_C\"\n      }\n    },\n    {\n      \"cell_type\": \"code\",\n      \"source\": [\n        \"reg.fit(x_train, y_train)\"\n      ],\n      \"metadata\": {\n        \"id\": \"Mlua8AdOd4sC\",\n        \"colab\": {\n          \"base_uri\": \"https://localhost:8080/\",\n          \"height\": 75\n        },\n        \"outputId\": \"f91b381e-0097-4c4d-ad20-b50fd2595aef\"\n      },\n      \"execution_count\": 10,\n      \"outputs\": [\n        {\n          \"output_type\": \"execute_result\",\n          \"data\": {\n            \"text/plain\": [\n              \"LinearRegression()\"\n            ],\n            \"text/html\": [\n              \"\u003cstyle\u003e#sk-container-id-1 {color: black;background-color: white;}#sk-container-id-1 pre{padding: 0;}#sk-container-id-1 div.sk-toggleable {background-color: white;}#sk-container-id-1 label.sk-toggleable__label {cursor: pointer;display: block;width: 100%;margin-bottom: 0;padding: 0.3em;box-sizing: border-box;text-align: center;}#sk-container-id-1 label.sk-toggleable__label-arrow:before {content: \\\"▸\\\";float: left;margin-right: 0.25em;color: #696969;}#sk-container-id-1 label.sk-toggleable__label-arrow:hover:before {color: black;}#sk-container-id-1 div.sk-estimator:hover label.sk-toggleable__label-arrow:before {color: black;}#sk-container-id-1 div.sk-toggleable__content {max-height: 0;max-width: 0;overflow: hidden;text-align: left;background-color: #f0f8ff;}#sk-container-id-1 div.sk-toggleable__content pre {margin: 0.2em;color: black;border-radius: 0.25em;background-color: #f0f8ff;}#sk-container-id-1 input.sk-toggleable__control:checked~div.sk-toggleable__content {max-height: 200px;max-width: 100%;overflow: auto;}#sk-container-id-1 input.sk-toggleable__control:checked~label.sk-toggleable__label-arrow:before {content: \\\"▾\\\";}#sk-container-id-1 div.sk-estimator input.sk-toggleable__control:checked~label.sk-toggleable__label {background-color: #d4ebff;}#sk-container-id-1 div.sk-label input.sk-toggleable__control:checked~label.sk-toggleable__label {background-color: #d4ebff;}#sk-container-id-1 input.sk-hidden--visually {border: 0;clip: rect(1px 1px 1px 1px);clip: rect(1px, 1px, 1px, 1px);height: 1px;margin: -1px;overflow: hidden;padding: 0;position: absolute;width: 1px;}#sk-container-id-1 div.sk-estimator {font-family: monospace;background-color: #f0f8ff;border: 1px dotted black;border-radius: 0.25em;box-sizing: border-box;margin-bottom: 0.5em;}#sk-container-id-1 div.sk-estimator:hover {background-color: #d4ebff;}#sk-container-id-1 div.sk-parallel-item::after {content: \\\"\\\";width: 100%;border-bottom: 1px solid gray;flex-grow: 1;}#sk-container-id-1 div.sk-label:hover label.sk-toggleable__label {background-color: #d4ebff;}#sk-container-id-1 div.sk-serial::before {content: \\\"\\\";position: absolute;border-left: 1px solid gray;box-sizing: border-box;top: 0;bottom: 0;left: 50%;z-index: 0;}#sk-container-id-1 div.sk-serial {display: flex;flex-direction: column;align-items: center;background-color: white;padding-right: 0.2em;padding-left: 0.2em;position: relative;}#sk-container-id-1 div.sk-item {position: relative;z-index: 1;}#sk-container-id-1 div.sk-parallel {display: flex;align-items: stretch;justify-content: center;background-color: white;position: relative;}#sk-container-id-1 div.sk-item::before, #sk-container-id-1 div.sk-parallel-item::before {content: \\\"\\\";position: absolute;border-left: 1px solid gray;box-sizing: border-box;top: 0;bottom: 0;left: 50%;z-index: -1;}#sk-container-id-1 div.sk-parallel-item {display: flex;flex-direction: column;z-index: 1;position: relative;background-color: white;}#sk-container-id-1 div.sk-parallel-item:first-child::after {align-self: flex-end;width: 50%;}#sk-container-id-1 div.sk-parallel-item:last-child::after {align-self: flex-start;width: 50%;}#sk-container-id-1 div.sk-parallel-item:only-child::after {width: 0;}#sk-container-id-1 div.sk-dashed-wrapped {border: 1px dashed gray;margin: 0 0.4em 0.5em 0.4em;box-sizing: border-box;padding-bottom: 0.4em;background-color: white;}#sk-container-id-1 div.sk-label label {font-family: monospace;font-weight: bold;display: inline-block;line-height: 1.2em;}#sk-container-id-1 div.sk-label-container {text-align: center;}#sk-container-id-1 div.sk-container {/* jupyter's `normalize.less` sets `[hidden] { display: none; }` but bootstrap.min.css set `[hidden] { display: none !important; }` so we also need the `!important` here to be able to override the default hidden behavior on the sphinx rendered scikit-learn.org. See: https://github.com/scikit-learn/scikit-learn/issues/21755 */display: inline-block !important;position: relative;}#sk-container-id-1 div.sk-text-repr-fallback {display: none;}\u003c/style\u003e\u003cdiv id=\\\"sk-container-id-1\\\" class=\\\"sk-top-container\\\"\u003e\u003cdiv class=\\\"sk-text-repr-fallback\\\"\u003e\u003cpre\u003eLinearRegression()\u003c/pre\u003e\u003cb\u003eIn a Jupyter environment, please rerun this cell to show the HTML representation or trust the notebook. \u003cbr /\u003eOn GitHub, the HTML representation is unable to render, please try loading this page with nbviewer.org.\u003c/b\u003e\u003c/div\u003e\u003cdiv class=\\\"sk-container\\\" hidden\u003e\u003cdiv class=\\\"sk-item\\\"\u003e\u003cdiv class=\\\"sk-estimator sk-toggleable\\\"\u003e\u003cinput class=\\\"sk-toggleable__control sk-hidden--visually\\\" id=\\\"sk-estimator-id-1\\\" type=\\\"checkbox\\\" checked\u003e\u003clabel for=\\\"sk-estimator-id-1\\\" class=\\\"sk-toggleable__label sk-toggleable__label-arrow\\\"\u003eLinearRegression\u003c/label\u003e\u003cdiv class=\\\"sk-toggleable__content\\\"\u003e\u003cpre\u003eLinearRegression()\u003c/pre\u003e\u003c/div\u003e\u003c/div\u003e\u003c/div\u003e\u003c/div\u003e\u003c/div\u003e\"\n            ]\n          },\n          \"metadata\": {},\n          \"execution_count\": 10\n        }\n      ]\n    },\n    {\n      \"cell_type\": \"markdown\",\n      \"source\": [\n        \"Vamos testar os resultado com método **predict** de reg. Utilize primeiro os dados de treino para ver a performace da regressão.\"\n      ],\n      \"metadata\": {\n        \"id\": \"SaQ6bFAAd8up\"\n      }\n    },\n    {\n      \"cell_type\": \"code\",\n      \"source\": [\n        \"y_pred_train = reg.predict(x_train)\"\n      ],\n      \"metadata\": {\n        \"id\": \"JJO_Oy8Zd6mS\"\n      },\n      \"execution_count\": 11,\n      \"outputs\": []\n    },\n    {\n      \"cell_type\": \"markdown\",\n      \"source\": [\n        \"Antes de calcular uma métrica de performace, vamos ver como os dados se comportaram na previsão da base de treino. Apenas rode o seguinte código\"\n      ],\n      \"metadata\": {\n        \"id\": \"HsaJKq20eAJI\"\n      }\n    },\n    {\n      \"cell_type\": \"code\",\n      \"source\": [\n        \"for ano, pred, test in zip(x_train, y_pred_train, y_train):\\n\",\n        \"  print(f\\\"Ano: {int(ano[0])}, Valor previsto: {pred[0]}, Valor real: {test[0]}\\\")\"\n      ],\n      \"metadata\": {\n        \"id\": \"4qDt2Jo7eCRg\",\n        \"colab\": {\n          \"base_uri\": \"https://localhost:8080/\"\n        },\n        \"outputId\": \"d183f3fa-9f79-44b8-e5ab-f6144a0690c3\"\n      },\n      \"execution_count\": 12,\n      \"outputs\": [\n        {\n          \"output_type\": \"stream\",\n          \"name\": \"stdout\",\n          \"text\": [\n            \"Ano: 2017, Valor previsto: 332.4947510934944, Valor real: 209.14000000000001\\n\",\n            \"Ano: 1993, Valor previsto: 121.11207094040583, Valor real: 22.46\\n\",\n            \"Ano: 2016, Valor previsto: 323.68713942044997, Valor real: 214.49\\n\",\n            \"Ano: 1981, Valor previsto: 15.420730863861536, Valor real: 10.49\\n\",\n            \"Ano: 2004, Valor previsto: 217.99579934390567, Valor real: 302.56\\n\",\n            \"Ano: 1995, Valor previsto: 138.72729428649473, Valor real: 62.0\\n\",\n            \"Ano: 2011, Valor previsto: 279.6490810552241, Valor real: 472.17\\n\",\n            \"Ano: 2015, Valor previsto: 314.8795277474055, Valor real: 256.24\\n\",\n            \"Ano: 2008, Valor previsto: 253.2262460360871, Valor real: 574.65\\n\",\n            \"Ano: 2006, Valor previsto: 235.61102268999457, Valor real: 273.64\\n\",\n            \"Ano: 1975, Valor previsto: -37.42493917441243, Valor real: 0.0\\n\",\n            \"Ano: 1988, Valor previsto: 77.07401257517995, Valor real: 8.73\\n\",\n            \"Ano: 1985, Valor previsto: 50.65117755604297, Valor real: 2.19\\n\",\n            \"Ano: 1980, Valor previsto: 6.613119190817088, Valor real: 2.58\\n\",\n            \"Ano: 2003, Valor previsto: 209.1881876708576, Valor real: 323.14\\n\",\n            \"Ano: 1991, Valor previsto: 103.4968475943133, Valor real: 6.33\\n\",\n            \"Ano: 2019, Valor previsto: 350.10997443958695, Valor real: 2.42\\n\",\n            \"Ano: 1984, Valor previsto: 41.84356588299852, Valor real: 4.85\\n\",\n            \"Ano: 1970, Valor previsto: -81.46299753963831, Valor real: 1.16\\n\",\n            \"Ano: 2013, Valor previsto: 297.264304401313, Valor real: 285.24\\n\",\n            \"Ano: 2014, Valor previsto: 306.07191607435743, Valor real: 304.36\\n\",\n            \"Ano: 1992, Valor previsto: 112.30445926736138, Valor real: 10.63\\n\",\n            \"Ano: 2012, Valor previsto: 288.45669272826854, Valor real: 295.51\\n\",\n            \"Ano: 1986, Valor previsto: 59.458789229087415, Valor real: 10.37\\n\",\n            \"Ano: 2001, Valor previsto: 191.5729643247687, Valor real: 244.8\\n\",\n            \"Ano: 1983, Valor previsto: 33.03595420995043, Valor real: 22.68\\n\",\n            \"Ano: 2018, Valor previsto: 341.30236276653886, Valor real: 172.38\\n\",\n            \"Ano: 1990, Valor previsto: 94.68923592126885, Valor real: 9.07\\n\",\n            \"Ano: 1996, Valor previsto: 147.5349059595428, Valor real: 108.45\\n\",\n            \"Ano: 2010, Valor previsto: 270.841469382176, Valor real: 474.62\\n\",\n            \"Ano: 2007, Valor previsto: 244.41863436303902, Valor real: 455.62\\n\",\n            \"Ano: 1987, Valor previsto: 68.26640090213186, Valor real: 5.59\\n\",\n            \"Ano: 1994, Valor previsto: 129.91968261345028, Valor real: 37.63\\n\",\n            \"Ano: 2009, Valor previsto: 262.03385770913155, Valor real: 533.82\\n\",\n            \"Ano: 1998, Valor previsto: 165.1501293056317, Valor real: 165.35\\n\",\n            \"Ano: 1977, Valor previsto: -19.809715828319895, Valor real: 2.5\\n\",\n            \"Ano: 1973, Valor previsto: -55.040162520501326, Valor real: 0.0\\n\",\n            \"Ano: 1979, Valor previsto: -2.1944924822309986, Valor real: 0.31\\n\"\n          ]\n        }\n      ]\n    },\n    {\n      \"cell_type\": \"markdown\",\n      \"source\": [\n        \"Agora calcule o **mse** para avaliarmos a performance do modelo.\"\n      ],\n      \"metadata\": {\n        \"id\": \"fxA7_t5peEVP\"\n      }\n    },\n    {\n      \"cell_type\": \"code\",\n      \"source\": [\n        \"from sklearn.metrics import mean_squared_error\\n\",\n        \"\\n\",\n        \"mse_train = mean_squared_error(y_pred_train, y_train)\\n\",\n        \"print(mse_train)\"\n      ],\n      \"metadata\": {\n        \"id\": \"VCaufs3keHEQ\",\n        \"colab\": {\n          \"base_uri\": \"https://localhost:8080/\"\n        },\n        \"outputId\": \"f97d4341-adfc-455f-ea00-873f2e899532\"\n      },\n      \"execution_count\": 13,\n      \"outputs\": [\n        {\n          \"output_type\": \"stream\",\n          \"name\": \"stdout\",\n          \"text\": [\n            \"15378.95334352532\\n\"\n          ]\n        }\n      ]\n    },\n    {\n      \"cell_type\": \"markdown\",\n      \"source\": [\n        \"Agora repira o mesmo processo com os dados de test.\"\n      ],\n      \"metadata\": {\n        \"id\": \"CSXCr09EeIvH\"\n      }\n    },\n    {\n      \"cell_type\": \"code\",\n      \"source\": [\n        \"y_pred = reg.predict(x_test)\"\n      ],\n      \"metadata\": {\n        \"id\": \"gba2YGWpeNen\"\n      },\n      \"execution_count\": 14,\n      \"outputs\": []\n    },\n    {\n      \"cell_type\": \"code\",\n      \"source\": [\n        \"for ano, pred, test in zip(x_test, y_pred, y_test):\\n\",\n        \"  print(f\\\"Ano: {int(ano[0])}, Valor previsto: {pred[0]}, Valor real: {test[0]}\\\")\"\n      ],\n      \"metadata\": {\n        \"id\": \"lklLCFTNeQd-\",\n        \"colab\": {\n          \"base_uri\": \"https://localhost:8080/\"\n        },\n        \"outputId\": \"772cacf8-c52c-432f-b283-f80af3939a57\"\n      },\n      \"execution_count\": 15,\n      \"outputs\": [\n        {\n          \"output_type\": \"stream\",\n          \"name\": \"stdout\",\n          \"text\": [\n            \"Ano: 1978, Valor previsto: -11.002104155275447, Valor real: 6.1899999999999995\\n\",\n            \"Ano: 1982, Valor previsto: 24.228342536905984, Valor real: 35.69\\n\",\n            \"Ano: 1989, Valor previsto: 85.8816242482244, Valor real: 9.15\\n\",\n            \"Ano: 1997, Valor previsto: 156.34251763258726, Valor real: 128.83\\n\",\n            \"Ano: 1999, Valor previsto: 173.95774097867616, Valor real: 188.59\\n\",\n            \"Ano: 2000, Valor previsto: 182.76535265172424, Valor real: 180.53\\n\",\n            \"Ano: 2002, Valor previsto: 200.38057599781314, Valor real: 329.87\\n\",\n            \"Ano: 2005, Valor previsto: 226.80341101695012, Valor real: 325.89\\n\",\n            \"Ano: 2020, Valor previsto: 358.9175861126314, Valor real: 3.2\\n\"\n          ]\n        }\n      ]\n    },\n    {\n      \"cell_type\": \"code\",\n      \"source\": [\n        \"mse_test = mean_squared_error(y_pred, y_test)\\n\",\n        \"print(mse_test)\"\n      ],\n      \"metadata\": {\n        \"id\": \"MIFqm3RleXC1\",\n        \"colab\": {\n          \"base_uri\": \"https://localhost:8080/\"\n        },\n        \"outputId\": \"728b1ab7-32be-4303-9d73-fcd1d9f9351e\"\n      },\n      \"execution_count\": 16,\n      \"outputs\": [\n        {\n          \"output_type\": \"stream\",\n          \"name\": \"stdout\",\n          \"text\": [\n            \"17823.486971488586\\n\"\n          ]\n        }\n      ]\n    },\n    {\n      \"cell_type\": \"markdown\",\n      \"source\": [\n        \"Comparando **mse_train** com **mse_test** o que podemos concluir?\"\n      ],\n      \"metadata\": {\n        \"id\": \"oI0VW33keS72\"\n      }\n    },\n    {\n      \"cell_type\": \"markdown\",\n      \"source\": [\n        \"Dê dois cliques aqui e digite sua resposta:\\n\",\n        \"\\n\",\n        \"Resposta: \\n\",\n        \"Os valores do treino e teste tem uma diferença de aproximadamente 2.\\n\",\n        \"\\n\",\n        \"mse_train = 15378.95334352532 \\n\",\n        \"***************\\n\",\n        \"mse_test = 17823.486971488586 \"\n      ],\n      \"metadata\": {\n        \"id\": \"ceVyolD2ecRE\"\n      }\n    },\n    {\n      \"cell_type\": \"markdown\",\n      \"source\": [\n        \"\\n\",\n        \"Essa abordagem apresenta 2 problemas graves. Explique quais são eles.\"\n      ],\n      \"metadata\": {\n        \"id\": \"hjy8OiH4eeZ8\"\n      }\n    },\n    {\n      \"cell_type\": \"markdown\",\n      \"source\": [\n        \"Dê dois cliques aqui e digite sua resposta:\\n\",\n        \"\\n\",\n        \"Resposta: O treino que ela mede no teste é muito alta quando comparada ao treino. \"\n      ],\n      \"metadata\": {\n        \"id\": \"ET4l7N_qefq8\"\n      }\n    }\n  ]\n}","colorizedLines":null,"stylingDirectives":null,"csv":null,"csvError":null,"dependabotInfo":{"showConfigurationBanner":null,"configFilePath":null,"networkDependabotPath":"/MarcelloLM/regressao-mse/network/updates","dismissConfigurationNoticePath":"/settings/dismiss-notice/dependabot_configuration_notice","configurationNoticeDismissed":false,"repoAlertsPath":"/MarcelloLM/regressao-mse/security/dependabot","repoSecurityAndAnalysisPath":"/MarcelloLM/regressao-mse/settings/security_analysis","repoOwnerIsOrg":false,"currentUserCanAdminRepo":true},"displayName":"Regressão_mse.ipynb","displayUrl":"https://notebooks.githubusercontent.com/view/ipynb?browser=opera\u0026bypass_fastly=true\u0026color_mode=auto\u0026commit=108410b9bbf02973e808b62daf26777a866fe7ca\u0026device=unknown_device\u0026docs_host=https%3A%2F%2Fdocs.github.com\u0026enc_url=68747470733a2f2f7261772e67697468756275736572636f6e74656e742e636f6d2f4d617263656c6c6f4c4d2f72656772657373616f2d6d73652f313038343130623962626630323937336538303862363264616632363737376138363666653763612f52656772657373612543432538336f5f6d73652e6970796e62\u0026logged_in=true\u0026nwo=MarcelloLM%2Fregressao-mse\u0026path=Regressa%CC%83o_mse.ipynb\u0026platform=windows\u0026repository_id=619542496\u0026repository_type=Repository\u0026version=98","headerInfo":{"blobSize":"57.1 KB","deleteInfo":{"deletePath":"https://github.com/MarcelloLM/regressao-mse/delete/main/Regressa%CC%83o_mse.ipynb","deleteTooltip":"Delete this file"},"editInfo":{"editTooltip":"Edit this file"},"ghDesktopPath":"x-github-client://openRepo/https://github.com/MarcelloLM/regressao-mse?branch=main\u0026filepath=Regressa%CC%83o_mse.ipynb","gitLfsPath":null,"onBranch":true,"shortPath":"ebc70f9","siteNavLoginPath":"/login?return_to=https%3A%2F%2Fgithub.com%2FMarcelloLM%2Fregressao-mse%2Fblob%2Fmain%2FRegressa%25CC%2583o_mse.ipynb","isCSV":false,"isRichtext":false,"toc":null,"lineInfo":{"truncatedLoc":"671","truncatedSloc":"671"},"mode":"file"},"image":false,"isCodeownersFile":null,"isValidLegacyIssueTemplate":false,"issueTemplateHelpUrl":"https://docs.github.com/articles/about-issue-and-pull-request-templates","issueTemplate":null,"discussionTemplate":null,"language":"Jupyter Notebook","large":false,"loggedIn":true,"newDiscussionPath":"/MarcelloLM/regressao-mse/discussions/new","newIssuePath":"/MarcelloLM/regressao-mse/issues/new","planSupportInfo":{"repoIsFork":null,"repoOwnedByCurrentUser":null,"requestFullPath":"/MarcelloLM/regressao-mse/blob/main/Regressa%CC%83o_mse.ipynb","showFreeOrgGatedFeatureMessage":null,"showPlanSupportBanner":null,"upgradeDataAttributes":null,"upgradePath":null},"publishBannersInfo":{"dismissActionNoticePath":"/settings/dismiss-notice/publish_action_from_dockerfile","dismissStackNoticePath":"/settings/dismiss-notice/publish_stack_from_file","releasePath":"/MarcelloLM/regressao-mse/releases/new?marketplace=true","showPublishActionBanner":false,"showPublishStackBanner":false},"renderImageOrRaw":false,"richText":null,"renderedFileInfo":{"identityUUID":"73dfece9-774f-4442-b5ff-2be3efc6052f","renderFileType":"ipynb","size":58427},"tabSize":8,"topBannersInfo":{"overridingGlobalFundingFile":false,"globalPreferredFundingPath":null,"repoOwner":"MarcelloLM","repoName":"regressao-mse","showInvalidCitationWarning":false,"citationHelpUrl":"https://docs.github.com/en/github/creating-cloning-and-archiving-repositories/creating-a-repository-on-github/about-citation-files","showDependabotConfigurationBanner":null,"actionsOnboardingTip":null},"truncated":false,"viewable":true,"workflowRedirectUrl":null,"symbols":{"timedOut":false,"notAnalyzed":true,"symbols":[]}},"csrf_tokens":{"/MarcelloLM/regressao-mse/branches":{"post":"9lgoS-kj73dnjg3vXgeMrB47ouNWa6UefBED74atSe6M_KLgljhhWxRSUEe-oSqcN-uYsdSPdnFIDrKtAICfeA"}}},"title":"regressao-mse/Regressão_mse.ipynb at main · MarcelloLM/regressao-mse","locale":"en","appPayload":{"helpUrl":"https://docs.github.com","findFileWorkerPath":"/assets-cdn/worker/find-file-worker-848bb9a5da17.js","findInFileWorkerPath":"/assets-cdn/worker/find-in-file-worker-8812f8040df6.js","githubDevUrl":"https://github.dev/","enabled_features":{"virtualize_file_tree":true,"react_repos_overview":false,"repos_new_shortcut_enabled":false,"blob_navigation_cursor":true,"keep_symbols_closed":true,"code_nav_ui_events":false,"ref_selector_v2":false,"codeview_codemirror_next":false}}}</script>
  <div data-target="react-app.reactRoot"></div>
</react-app>
</turbo-frame>



  </div>

</turbo-frame>

    </main>
  </div>

  </div>

          <footer class="footer width-full container-xl p-responsive" role="contentinfo">
  <h2 class='sr-only'>Footer</h2>

  <div class="position-relative d-flex flex-items-center pb-2 f6 color-fg-muted border-top color-border-muted flex-column-reverse flex-lg-row flex-wrap flex-lg-nowrap mt-6 pt-6">
    <div class="list-style-none d-flex flex-wrap col-0 col-lg-2 flex-justify-start flex-lg-justify-between mb-2 mb-lg-0">
      <div class="mt-2 mt-lg-0 d-flex flex-items-center">
        <a aria-label="Homepage" title="GitHub" class="footer-octicon mr-2" href="https://github.com">
          <svg aria-hidden="true" height="24" viewBox="0 0 16 16" version="1.1" width="24" data-view-component="true" class="octicon octicon-mark-github">
    <path d="M8 0c4.42 0 8 3.58 8 8a8.013 8.013 0 0 1-5.45 7.59c-.4.08-.55-.17-.55-.38 0-.27.01-1.13.01-2.2 0-.75-.25-1.23-.54-1.48 1.78-.2 3.65-.88 3.65-3.95 0-.88-.31-1.59-.82-2.15.08-.2.36-1.02-.08-2.12 0 0-.67-.22-2.2.82-.64-.18-1.32-.27-2-.27-.68 0-1.36.09-2 .27-1.53-1.03-2.2-.82-2.2-.82-.44 1.1-.16 1.92-.08 2.12-.51.56-.82 1.28-.82 2.15 0 3.06 1.86 3.75 3.64 3.95-.23.2-.44.55-.51 1.07-.46.21-1.61.55-2.33-.66-.15-.24-.6-.83-1.23-.82-.67.01-.27.38.01.53.34.19.73.9.82 1.13.16.45.68 1.31 2.69.94 0 .67.01 1.3.01 1.49 0 .21-.15.45-.55.38A7.995 7.995 0 0 1 0 8c0-4.42 3.58-8 8-8Z"></path>
</svg>
</a>        <span>
        &copy; 2023 GitHub, Inc.
        </span>
      </div>
    </div>

    <nav aria-label='Footer' class="col-12 col-lg-8">
      <h3 class='sr-only' id='sr-footer-heading'>Footer navigation</h3>
      <ul class="list-style-none d-flex flex-wrap col-12 flex-justify-center flex-lg-justify-between mb-2 mb-lg-0" aria-labelledby='sr-footer-heading'>
          <li class="mr-3 mr-lg-0"><a href="https://docs.github.com/site-policy/github-terms/github-terms-of-service" data-analytics-event="{&quot;category&quot;:&quot;Footer&quot;,&quot;action&quot;:&quot;go to terms&quot;,&quot;label&quot;:&quot;text:terms&quot;}">Terms</a></li>
          <li class="mr-3 mr-lg-0"><a href="https://docs.github.com/site-policy/privacy-policies/github-privacy-statement" data-analytics-event="{&quot;category&quot;:&quot;Footer&quot;,&quot;action&quot;:&quot;go to privacy&quot;,&quot;label&quot;:&quot;text:privacy&quot;}">Privacy</a></li>
          <li class="mr-3 mr-lg-0"><a data-analytics-event="{&quot;category&quot;:&quot;Footer&quot;,&quot;action&quot;:&quot;go to security&quot;,&quot;label&quot;:&quot;text:security&quot;}" href="https://github.com/security">Security</a></li>
          <li class="mr-3 mr-lg-0"><a href="https://www.githubstatus.com/" data-analytics-event="{&quot;category&quot;:&quot;Footer&quot;,&quot;action&quot;:&quot;go to status&quot;,&quot;label&quot;:&quot;text:status&quot;}">Status</a></li>
          <li class="mr-3 mr-lg-0"><a data-ga-click="Footer, go to help, text:Docs" href="https://docs.github.com">Docs</a></li>
          <li class="mr-3 mr-lg-0"><a href="https://support.github.com?tags=dotcom-footer" data-analytics-event="{&quot;category&quot;:&quot;Footer&quot;,&quot;action&quot;:&quot;go to contact&quot;,&quot;label&quot;:&quot;text:contact&quot;}">Contact GitHub</a></li>
          <li class="mr-3 mr-lg-0"><a href="https://github.com/pricing" data-analytics-event="{&quot;category&quot;:&quot;Footer&quot;,&quot;action&quot;:&quot;go to Pricing&quot;,&quot;label&quot;:&quot;text:Pricing&quot;}">Pricing</a></li>
        <li class="mr-3 mr-lg-0"><a href="https://docs.github.com" data-analytics-event="{&quot;category&quot;:&quot;Footer&quot;,&quot;action&quot;:&quot;go to api&quot;,&quot;label&quot;:&quot;text:api&quot;}">API</a></li>
        <li class="mr-3 mr-lg-0"><a href="https://services.github.com" data-analytics-event="{&quot;category&quot;:&quot;Footer&quot;,&quot;action&quot;:&quot;go to training&quot;,&quot;label&quot;:&quot;text:training&quot;}">Training</a></li>
          <li class="mr-3 mr-lg-0"><a href="https://github.blog" data-analytics-event="{&quot;category&quot;:&quot;Footer&quot;,&quot;action&quot;:&quot;go to blog&quot;,&quot;label&quot;:&quot;text:blog&quot;}">Blog</a></li>
          <li><a data-ga-click="Footer, go to about, text:about" href="https://github.com/about">About</a></li>
      </ul>
    </nav>
  </div>

  <div class="d-flex flex-justify-center pb-6">
    <span class="f6 color-fg-muted"></span>
  </div>
</footer>




  <div id="ajax-error-message" class="ajax-error-message flash flash-error" hidden>
    <svg aria-hidden="true" height="16" viewBox="0 0 16 16" version="1.1" width="16" data-view-component="true" class="octicon octicon-alert">
    <path d="M6.457 1.047c.659-1.234 2.427-1.234 3.086 0l6.082 11.378A1.75 1.75 0 0 1 14.082 15H1.918a1.75 1.75 0 0 1-1.543-2.575Zm1.763.707a.25.25 0 0 0-.44 0L1.698 13.132a.25.25 0 0 0 .22.368h12.164a.25.25 0 0 0 .22-.368Zm.53 3.996v2.5a.75.75 0 0 1-1.5 0v-2.5a.75.75 0 0 1 1.5 0ZM9 11a1 1 0 1 1-2 0 1 1 0 0 1 2 0Z"></path>
</svg>
    <button type="button" class="flash-close js-ajax-error-dismiss" aria-label="Dismiss error">
      <svg aria-hidden="true" height="16" viewBox="0 0 16 16" version="1.1" width="16" data-view-component="true" class="octicon octicon-x">
    <path d="M3.72 3.72a.75.75 0 0 1 1.06 0L8 6.94l3.22-3.22a.749.749 0 0 1 1.275.326.749.749 0 0 1-.215.734L9.06 8l3.22 3.22a.749.749 0 0 1-.326 1.275.749.749 0 0 1-.734-.215L8 9.06l-3.22 3.22a.751.751 0 0 1-1.042-.018.751.751 0 0 1-.018-1.042L6.94 8 3.72 4.78a.75.75 0 0 1 0-1.06Z"></path>
</svg>
    </button>
    You can’t perform that action at this time.
  </div>

  <div class="js-stale-session-flash flash flash-warn flash-banner" hidden
    >
    <svg aria-hidden="true" height="16" viewBox="0 0 16 16" version="1.1" width="16" data-view-component="true" class="octicon octicon-alert">
    <path d="M6.457 1.047c.659-1.234 2.427-1.234 3.086 0l6.082 11.378A1.75 1.75 0 0 1 14.082 15H1.918a1.75 1.75 0 0 1-1.543-2.575Zm1.763.707a.25.25 0 0 0-.44 0L1.698 13.132a.25.25 0 0 0 .22.368h12.164a.25.25 0 0 0 .22-.368Zm.53 3.996v2.5a.75.75 0 0 1-1.5 0v-2.5a.75.75 0 0 1 1.5 0ZM9 11a1 1 0 1 1-2 0 1 1 0 0 1 2 0Z"></path>
</svg>
    <span class="js-stale-session-flash-signed-in" hidden>You signed in with another tab or window. <a href="">Reload</a> to refresh your session.</span>
    <span class="js-stale-session-flash-signed-out" hidden>You signed out in another tab or window. <a href="">Reload</a> to refresh your session.</span>
  </div>
    <template id="site-details-dialog">
  <details class="details-reset details-overlay details-overlay-dark lh-default color-fg-default hx_rsm" open>
    <summary role="button" aria-label="Close dialog"></summary>
    <details-dialog class="Box Box--overlay d-flex flex-column anim-fade-in fast hx_rsm-dialog hx_rsm-modal">
      <button class="Box-btn-octicon m-0 btn-octicon position-absolute right-0 top-0" type="button" aria-label="Close dialog" data-close-dialog>
        <svg aria-hidden="true" height="16" viewBox="0 0 16 16" version="1.1" width="16" data-view-component="true" class="octicon octicon-x">
    <path d="M3.72 3.72a.75.75 0 0 1 1.06 0L8 6.94l3.22-3.22a.749.749 0 0 1 1.275.326.749.749 0 0 1-.215.734L9.06 8l3.22 3.22a.749.749 0 0 1-.326 1.275.749.749 0 0 1-.734-.215L8 9.06l-3.22 3.22a.751.751 0 0 1-1.042-.018.751.751 0 0 1-.018-1.042L6.94 8 3.72 4.78a.75.75 0 0 1 0-1.06Z"></path>
</svg>
      </button>
      <div class="octocat-spinner my-6 js-details-dialog-spinner"></div>
    </details-dialog>
  </details>
</template>

    <div class="Popover js-hovercard-content position-absolute" style="display: none; outline: none;" tabindex="0">
  <div class="Popover-message Popover-message--bottom-left Popover-message--large Box color-shadow-large" style="width:360px;">
  </div>
</div>

    <template id="snippet-clipboard-copy-button">
  <div class="zeroclipboard-container position-absolute right-0 top-0">
    <clipboard-copy aria-label="Copy" class="ClipboardButton btn js-clipboard-copy m-2 p-0 tooltipped-no-delay" data-copy-feedback="Copied!" data-tooltip-direction="w">
      <svg aria-hidden="true" height="16" viewBox="0 0 16 16" version="1.1" width="16" data-view-component="true" class="octicon octicon-copy js-clipboard-copy-icon m-2">
    <path d="M0 6.75C0 5.784.784 5 1.75 5h1.5a.75.75 0 0 1 0 1.5h-1.5a.25.25 0 0 0-.25.25v7.5c0 .138.112.25.25.25h7.5a.25.25 0 0 0 .25-.25v-1.5a.75.75 0 0 1 1.5 0v1.5A1.75 1.75 0 0 1 9.25 16h-7.5A1.75 1.75 0 0 1 0 14.25Z"></path><path d="M5 1.75C5 .784 5.784 0 6.75 0h7.5C15.216 0 16 .784 16 1.75v7.5A1.75 1.75 0 0 1 14.25 11h-7.5A1.75 1.75 0 0 1 5 9.25Zm1.75-.25a.25.25 0 0 0-.25.25v7.5c0 .138.112.25.25.25h7.5a.25.25 0 0 0 .25-.25v-7.5a.25.25 0 0 0-.25-.25Z"></path>
</svg>
      <svg aria-hidden="true" height="16" viewBox="0 0 16 16" version="1.1" width="16" data-view-component="true" class="octicon octicon-check js-clipboard-check-icon color-fg-success d-none m-2">
    <path d="M13.78 4.22a.75.75 0 0 1 0 1.06l-7.25 7.25a.75.75 0 0 1-1.06 0L2.22 9.28a.751.751 0 0 1 .018-1.042.751.751 0 0 1 1.042-.018L6 10.94l6.72-6.72a.75.75 0 0 1 1.06 0Z"></path>
</svg>
    </clipboard-copy>
  </div>
</template>
<template id="snippet-clipboard-copy-button-unpositioned">
  <div class="zeroclipboard-container">
    <clipboard-copy aria-label="Copy" class="ClipboardButton btn btn-invisible js-clipboard-copy m-2 p-0 tooltipped-no-delay d-flex flex-justify-center flex-items-center" data-copy-feedback="Copied!" data-tooltip-direction="w">
      <svg aria-hidden="true" height="16" viewBox="0 0 16 16" version="1.1" width="16" data-view-component="true" class="octicon octicon-copy js-clipboard-copy-icon">
    <path d="M0 6.75C0 5.784.784 5 1.75 5h1.5a.75.75 0 0 1 0 1.5h-1.5a.25.25 0 0 0-.25.25v7.5c0 .138.112.25.25.25h7.5a.25.25 0 0 0 .25-.25v-1.5a.75.75 0 0 1 1.5 0v1.5A1.75 1.75 0 0 1 9.25 16h-7.5A1.75 1.75 0 0 1 0 14.25Z"></path><path d="M5 1.75C5 .784 5.784 0 6.75 0h7.5C15.216 0 16 .784 16 1.75v7.5A1.75 1.75 0 0 1 14.25 11h-7.5A1.75 1.75 0 0 1 5 9.25Zm1.75-.25a.25.25 0 0 0-.25.25v7.5c0 .138.112.25.25.25h7.5a.25.25 0 0 0 .25-.25v-7.5a.25.25 0 0 0-.25-.25Z"></path>
</svg>
      <svg aria-hidden="true" height="16" viewBox="0 0 16 16" version="1.1" width="16" data-view-component="true" class="octicon octicon-check js-clipboard-check-icon color-fg-success d-none">
    <path d="M13.78 4.22a.75.75 0 0 1 0 1.06l-7.25 7.25a.75.75 0 0 1-1.06 0L2.22 9.28a.751.751 0 0 1 .018-1.042.751.751 0 0 1 1.042-.018L6 10.94l6.72-6.72a.75.75 0 0 1 1.06 0Z"></path>
</svg>
    </clipboard-copy>
  </div>
</template>


    <style>
      .user-mention[href$="/MarcelloLM"] {
        color: var(--color-user-mention-fg);
        background-color: var(--color-user-mention-bg);
        border-radius: 2px;
        margin-left: -2px;
        margin-right: -2px;
        padding: 0 2px;
      }
    </style>


    </div>

    <div id="js-global-screen-reader-notice" class="sr-only" aria-live="polite" ></div>
  </body>
</html>

